{
 "cells": [
  {
   "cell_type": "markdown",
   "metadata": {},
   "source": [
    "# Imports"
   ]
  },
  {
   "cell_type": "code",
   "execution_count": 1,
   "metadata": {},
   "outputs": [],
   "source": [
    "import os\n",
    "import sys\n",
    "sys.path.append(os.path.dirname(os.getcwd()))\n",
    "import yaml\n",
    "from Bio.SeqUtils import MeltingTemp as mt"
   ]
  },
  {
   "attachments": {},
   "cell_type": "markdown",
   "metadata": {},
   "source": [
    "## Define the parameters\n",
    "\n",
    "\n",
    "Once the configuration file has been set up we have to read its content:"
   ]
  },
  {
   "cell_type": "code",
   "execution_count": 2,
   "metadata": {},
   "outputs": [],
   "source": [
    "config_file = \"./SPOT/configs/probe_design_SPOT_ncbi.yaml\"\n",
    "# config_file = \"./SPOT/configs/probe_design_SPOT_custom.yaml\"\n",
    "with open(config_file, 'r') as yaml_file:\n",
    "    config = yaml.safe_load(yaml_file)\n",
    "dir_output = os.path.join(os.path.dirname(os.getcwd()), config[\"dir_output\"]) # create the complete path for the output directory"
   ]
  },
  {
   "attachments": {},
   "cell_type": "markdown",
   "metadata": {},
   "source": [
    "## Oligo sequences generation\n",
    "\n",
    "Now we can start to actually build the pipeline, we will start by generating all the possible oligos with length between the maximum and minimum value given belonging to the genes defined in the config file. The oligos will be saved in a nested dicionary with the following structure: \n",
    "\n",
    "[gene][oligo_id][oligo_feature].\n"
   ]
  },
  {
   "cell_type": "code",
   "execution_count": 3,
   "metadata": {},
   "outputs": [],
   "source": [
    "from oligo_designer_toolsuite.database import CustomOligoDB, NcbiOligoDB, EnsemblOligoDB\n",
    "\n",
    "# define the database class\n",
    "if config[\"source\"] == \"ncbi\":\n",
    "    # dowload the fasta files formthe NCBI server\n",
    "    oligo_database = NcbiOligoDB(\n",
    "        oligo_length_min=config[\"oligo_length_min\"],\n",
    "        oligo_length_max=config[\"oligo_length_max\"],\n",
    "        species=config[\"species\"],\n",
    "        annotation_release=config[\"annotation_release\"],\n",
    "        n_jobs=config[\"n_jobs\"],\n",
    "        dir_output=dir_output,\n",
    "        min_oligos_per_gene=config[\"min_oligos_per_gene\"],\n",
    "        )\n",
    "elif config[\"source\"] == \"ensembl\":\n",
    "    # dowload the fasta files formthe NCBI server\n",
    "    oligo_database = EnsemblOligoDB(\n",
    "        oligo_length_min=config[\"oligo_length_min\"],\n",
    "        oligo_length_max=config[\"oligo_length_max\"],\n",
    "        species=config[\"species\"],\n",
    "        annotation_release=config[\"annotation_release\"],\n",
    "        n_jobs=config[\"n_jobs\"],\n",
    "        dir_output=dir_output,\n",
    "        min_oligos_per_gene=config[\"min_oligos_per_gene\"],\n",
    "        )\n",
    "elif config[\"source\"] == \"custom\":\n",
    "    # use already dowloaded files\n",
    "    \n",
    "    oligo_database = CustomOligoDB(\n",
    "        oligo_length_min=config[\"oligo_length_min\"],\n",
    "        oligo_length_max=config[\"oligo_length_max\"],\n",
    "        species=config[\"species\"],\n",
    "        genome_assembly=config[\"genome_assembly\"],\n",
    "        annotation_release=config[\"annotation_release\"],\n",
    "        files_source=config[\"files_source\"],\n",
    "        annotation_file=config[\"annotation_file\"],\n",
    "        sequence_file=config[\"sequence_file\"],\n",
    "        n_jobs=config[\"n_jobs\"],\n",
    "        dir_output=dir_output,\n",
    "        min_oligos_per_gene=config[\"min_oligos_per_gene\"],\n",
    "        )\n",
    "else:\n",
    "    raise ValueError(\"Annotation source not supported!\") \n",
    "\n",
    "# read the genes file\n",
    "with open(config[\"file_genes\"]) as handle:\n",
    "    lines = handle.readlines()\n",
    "    genes = [line.rstrip() for line in lines]\n",
    "    \n",
    "#generate the oligo sequences from gene transcripts\n",
    "oligo_database.create_oligos_DB(genes=genes, region='transcripts')"
   ]
  },
  {
   "attachments": {},
   "cell_type": "markdown",
   "metadata": {},
   "source": [
    "### Dictionary structure\n"
   ]
  },
  {
   "cell_type": "code",
   "execution_count": 5,
   "metadata": {},
   "outputs": [
    {
     "name": "stdout",
     "output_type": "stream",
     "text": [
      "{'LMBRD1': {'LMBRD1_1': {'sequence': Seq('GTGGGGCGGCAGCGCTGGATCTTTGC'), 'transcript_id': ['NM_001367272.1', 'NM_001363722.2', 'NM_001367271.1', 'NM_001367272.1'], 'exon_id': ['NM_001367272.1_exon2_NM_001367272.1_exon1', 'NM_001363722.2_exon1', 'NM_001367271.1_exon1', 'NM_001367272.1_exon1'], 'chromosome': '6', 'start': [69790443, 69796313, 69796576, 69796580], 'end': [69790469, 69796339, 69796602, 69796606], 'strand': '-', 'length': 26}}}\n"
     ]
    }
   ],
   "source": [
    "gene = list(oligo_database.oligos_DB.keys())[0]\n",
    "oligo_id = list(oligo_database.oligos_DB[gene].keys())[0]\n",
    "\n",
    "sample_oligos_DB = {}\n",
    "sample_oligos_DB[gene] = {}\n",
    "sample_oligos_DB[gene][oligo_id] = oligo_database.oligos_DB[gene][oligo_id]\n",
    "print(sample_oligos_DB)"
   ]
  },
  {
   "cell_type": "code",
   "execution_count": 6,
   "metadata": {},
   "outputs": [
    {
     "data": {
      "text/plain": [
       "dict_keys(['LMBRD1', 'IKZF1'])"
      ]
     },
     "execution_count": 6,
     "metadata": {},
     "output_type": "execute_result"
    }
   ],
   "source": [
    "oligo_database.oligos_DB.keys()"
   ]
  },
  {
   "cell_type": "code",
   "execution_count": 7,
   "metadata": {},
   "outputs": [],
   "source": [
    "def number_of_probes(oligo_database):\n",
    "    d = dict()\n",
    "    for i in oligo_database.oligos_DB.keys():\n",
    "        d[i] = len(oligo_database.oligos_DB[i])\n",
    "    print(d)"
   ]
  },
  {
   "attachments": {},
   "cell_type": "markdown",
   "metadata": {},
   "source": [
    "### Read and write\n",
    "\n"
   ]
  },
  {
   "cell_type": "code",
   "execution_count": 8,
   "metadata": {},
   "outputs": [
    {
     "name": "stdout",
     "output_type": "stream",
     "text": [
      "{'LMBRD1': 21205, 'IKZF1': 116350}\n"
     ]
    }
   ],
   "source": [
    "if config[\"write_intermediate_steps\"]:\n",
    "    oligo_database.write_oligos_DB(format=config[\"file_format\"], dir_oligos_DB=\"oligos_creation\")\n",
    "number_of_probes(oligo_database)"
   ]
  },
  {
   "attachments": {},
   "cell_type": "markdown",
   "metadata": {},
   "source": [
    "## Property filters\n",
    "\n",
    "Once all the possible sequences are created, we apply a first filtering process based on the sequences properties (e.g. melting temperature or GC content). This is useful to reduce the amount of sequences we have to deal with in the next stages and discard all the sequences that are not suited for the experiment."
   ]
  },
  {
   "cell_type": "code",
   "execution_count": 9,
   "metadata": {},
   "outputs": [],
   "source": [
    "from oligo_designer_toolsuite.oligo_property_filter import (\n",
    "    PropertyFilter,\n",
    "    MaskedSequences,\n",
    "    GCContent, \n",
    "    ProhibitedSequences\n",
    ")\n",
    "# initialize the filters clasees\n",
    "masked_sequences = MaskedSequences()\n",
    "gc_content = GCContent(GC_content_min=config[\"GC_content_min\"], GC_content_max=config[\"GC_content_max\"])\n",
    "proh_seq = ProhibitedSequences(num_consecutive = config[\"number_consecutive\"])\n",
    "\n",
    "# create the list of filters\n",
    "filters = [masked_sequences, proh_seq ,gc_content]\n",
    "\n",
    "# initialize the property filter class\n",
    "property_filter = PropertyFilter(filters=filters, write_genes_with_insufficient_oligos=config[\"write_removed_genes\"])\n",
    "\n",
    "# filter the database\n",
    "oligo_database = property_filter.apply(oligo_database=oligo_database, n_jobs=config[\"n_jobs\"])\n",
    "\n",
    "# check for unsufficient number of probes\n",
    "oligo_database.remove_genes_with_insufficient_oligos(pipeline_step = \"after applying property filters\")\n",
    "\n",
    "# write the intermediate result in a file\n",
    "if config[\"write_intermediate_steps\"]:\n",
    "    oligo_database.write_oligos_DB(format=config[\"file_format\"], dir_oligos_DB=\"property_filter\")"
   ]
  },
  {
   "cell_type": "code",
   "execution_count": 10,
   "metadata": {},
   "outputs": [
    {
     "name": "stdout",
     "output_type": "stream",
     "text": [
      "{'LMBRD1': 4626, 'IKZF1': 48840}\n"
     ]
    }
   ],
   "source": [
    "number_of_probes(oligo_database)"
   ]
  },
  {
   "attachments": {},
   "cell_type": "markdown",
   "metadata": {},
   "source": [
    "## Specificity filters\n"
   ]
  },
  {
   "cell_type": "code",
   "execution_count": 11,
   "metadata": {},
   "outputs": [
    {
     "ename": "KeyboardInterrupt",
     "evalue": "",
     "output_type": "error",
     "traceback": [
      "\u001b[0;31m---------------------------------------------------------------------------\u001b[0m",
      "\u001b[0;31mKeyboardInterrupt\u001b[0m                         Traceback (most recent call last)",
      "Cell \u001b[0;32mIn[11], line 36\u001b[0m\n\u001b[1;32m     33\u001b[0m specificity_filter \u001b[39m=\u001b[39m SpecificityFilter(filters\u001b[39m=\u001b[39mfilters, write_genes_with_insufficient_oligos\u001b[39m=\u001b[39mconfig[\u001b[39m\"\u001b[39m\u001b[39mwrite_removed_genes\u001b[39m\u001b[39m\"\u001b[39m])\n\u001b[1;32m     35\u001b[0m \u001b[39m# filter the database\u001b[39;00m\n\u001b[0;32m---> 36\u001b[0m oligo_database \u001b[39m=\u001b[39m specificity_filter\u001b[39m.\u001b[39;49mapply(oligo_database\u001b[39m=\u001b[39;49moligo_database, reference_database\u001b[39m=\u001b[39;49mreference_database, n_jobs\u001b[39m=\u001b[39;49mconfig[\u001b[39m\"\u001b[39;49m\u001b[39mn_jobs\u001b[39;49m\u001b[39m\"\u001b[39;49m])\n\u001b[1;32m     38\u001b[0m \u001b[39m# check for unsufficient number of probes\u001b[39;00m\n\u001b[1;32m     39\u001b[0m oligo_database\u001b[39m.\u001b[39mremove_genes_with_insufficient_oligos(pipeline_step \u001b[39m=\u001b[39m \u001b[39m\"\u001b[39m\u001b[39mafter applying specificity filters\u001b[39m\u001b[39m\"\u001b[39m)\n",
      "File \u001b[0;32m~/Desktop/Project_bio/oligo-designer-toolsuite/oligo_designer_toolsuite/oligo_specificity_filter/_specificity_filters.py:52\u001b[0m, in \u001b[0;36mSpecificityFilter.apply\u001b[0;34m(self, oligo_database, reference_database, n_jobs)\u001b[0m\n\u001b[1;32m     50\u001b[0m oligos_DB \u001b[39m=\u001b[39m oligo_database\u001b[39m.\u001b[39moligos_DB\n\u001b[1;32m     51\u001b[0m \u001b[39mfor\u001b[39;00m \u001b[39mfilter\u001b[39m \u001b[39min\u001b[39;00m \u001b[39mself\u001b[39m\u001b[39m.\u001b[39mfilters:\n\u001b[0;32m---> 52\u001b[0m     oligos_DB \u001b[39m=\u001b[39m \u001b[39mfilter\u001b[39;49m\u001b[39m.\u001b[39;49mapply(\n\u001b[1;32m     53\u001b[0m         oligos_DB, reference_database\u001b[39m.\u001b[39;49mfile_reference_DB, n_jobs\n\u001b[1;32m     54\u001b[0m     )\n\u001b[1;32m     56\u001b[0m oligo_database\u001b[39m.\u001b[39moligos_DB \u001b[39m=\u001b[39m oligos_DB\n\u001b[1;32m     57\u001b[0m oligo_database\u001b[39m.\u001b[39mremove_genes_with_insufficient_oligos(\n\u001b[1;32m     58\u001b[0m     \u001b[39m\"\u001b[39m\u001b[39mSpecificity filter\u001b[39m\u001b[39m\"\u001b[39m, \u001b[39mself\u001b[39m\u001b[39m.\u001b[39mwrite_genes_with_insufficient_oligos\n\u001b[1;32m     59\u001b[0m )\n",
      "File \u001b[0;32m~/Desktop/Project_bio/oligo-designer-toolsuite/oligo_designer_toolsuite/oligo_specificity_filter/_filter_blastn.py:78\u001b[0m, in \u001b[0;36mBlastn.apply\u001b[0;34m(self, oligo_DB, file_reference_DB, n_jobs)\u001b[0m\n\u001b[1;32m     76\u001b[0m \u001b[39m# run the balst search\u001b[39;00m\n\u001b[1;32m     77\u001b[0m genes \u001b[39m=\u001b[39m \u001b[39mlist\u001b[39m(oligo_DB\u001b[39m.\u001b[39mkeys())\n\u001b[0;32m---> 78\u001b[0m filtered_oligo_DBs \u001b[39m=\u001b[39m Parallel(n_jobs\u001b[39m=\u001b[39;49mn_jobs)(\n\u001b[1;32m     79\u001b[0m     delayed(\u001b[39mself\u001b[39;49m\u001b[39m.\u001b[39;49m_run_blast)(oligo_DB[gene], gene, database_name)\n\u001b[1;32m     80\u001b[0m     \u001b[39mfor\u001b[39;49;00m gene \u001b[39min\u001b[39;49;00m genes\n\u001b[1;32m     81\u001b[0m )\n\u001b[1;32m     83\u001b[0m \u001b[39m# reconstruct the oligos db and return it\u001b[39;00m\n\u001b[1;32m     84\u001b[0m \u001b[39mfor\u001b[39;00m gene, filtered_oligo_DB \u001b[39min\u001b[39;00m \u001b[39mzip\u001b[39m(genes, filtered_oligo_DBs):\n",
      "File \u001b[0;32m~/Desktop/Project_bio/oligo-designer-toolsuite/.conda/lib/python3.9/site-packages/joblib/parallel.py:1098\u001b[0m, in \u001b[0;36mParallel.__call__\u001b[0;34m(self, iterable)\u001b[0m\n\u001b[1;32m   1095\u001b[0m     \u001b[39mself\u001b[39m\u001b[39m.\u001b[39m_iterating \u001b[39m=\u001b[39m \u001b[39mFalse\u001b[39;00m\n\u001b[1;32m   1097\u001b[0m \u001b[39mwith\u001b[39;00m \u001b[39mself\u001b[39m\u001b[39m.\u001b[39m_backend\u001b[39m.\u001b[39mretrieval_context():\n\u001b[0;32m-> 1098\u001b[0m     \u001b[39mself\u001b[39;49m\u001b[39m.\u001b[39;49mretrieve()\n\u001b[1;32m   1099\u001b[0m \u001b[39m# Make sure that we get a last message telling us we are done\u001b[39;00m\n\u001b[1;32m   1100\u001b[0m elapsed_time \u001b[39m=\u001b[39m time\u001b[39m.\u001b[39mtime() \u001b[39m-\u001b[39m \u001b[39mself\u001b[39m\u001b[39m.\u001b[39m_start_time\n",
      "File \u001b[0;32m~/Desktop/Project_bio/oligo-designer-toolsuite/.conda/lib/python3.9/site-packages/joblib/parallel.py:975\u001b[0m, in \u001b[0;36mParallel.retrieve\u001b[0;34m(self)\u001b[0m\n\u001b[1;32m    973\u001b[0m \u001b[39mtry\u001b[39;00m:\n\u001b[1;32m    974\u001b[0m     \u001b[39mif\u001b[39;00m \u001b[39mgetattr\u001b[39m(\u001b[39mself\u001b[39m\u001b[39m.\u001b[39m_backend, \u001b[39m'\u001b[39m\u001b[39msupports_timeout\u001b[39m\u001b[39m'\u001b[39m, \u001b[39mFalse\u001b[39;00m):\n\u001b[0;32m--> 975\u001b[0m         \u001b[39mself\u001b[39m\u001b[39m.\u001b[39m_output\u001b[39m.\u001b[39mextend(job\u001b[39m.\u001b[39;49mget(timeout\u001b[39m=\u001b[39;49m\u001b[39mself\u001b[39;49m\u001b[39m.\u001b[39;49mtimeout))\n\u001b[1;32m    976\u001b[0m     \u001b[39melse\u001b[39;00m:\n\u001b[1;32m    977\u001b[0m         \u001b[39mself\u001b[39m\u001b[39m.\u001b[39m_output\u001b[39m.\u001b[39mextend(job\u001b[39m.\u001b[39mget())\n",
      "File \u001b[0;32m~/Desktop/Project_bio/oligo-designer-toolsuite/.conda/lib/python3.9/site-packages/joblib/_parallel_backends.py:567\u001b[0m, in \u001b[0;36mLokyBackend.wrap_future_result\u001b[0;34m(future, timeout)\u001b[0m\n\u001b[1;32m    564\u001b[0m \u001b[39m\"\"\"Wrapper for Future.result to implement the same behaviour as\u001b[39;00m\n\u001b[1;32m    565\u001b[0m \u001b[39mAsyncResults.get from multiprocessing.\"\"\"\u001b[39;00m\n\u001b[1;32m    566\u001b[0m \u001b[39mtry\u001b[39;00m:\n\u001b[0;32m--> 567\u001b[0m     \u001b[39mreturn\u001b[39;00m future\u001b[39m.\u001b[39;49mresult(timeout\u001b[39m=\u001b[39;49mtimeout)\n\u001b[1;32m    568\u001b[0m \u001b[39mexcept\u001b[39;00m CfTimeoutError \u001b[39mas\u001b[39;00m e:\n\u001b[1;32m    569\u001b[0m     \u001b[39mraise\u001b[39;00m \u001b[39mTimeoutError\u001b[39;00m \u001b[39mfrom\u001b[39;00m \u001b[39me\u001b[39;00m\n",
      "File \u001b[0;32m~/Desktop/Project_bio/oligo-designer-toolsuite/.conda/lib/python3.9/concurrent/futures/_base.py:441\u001b[0m, in \u001b[0;36mFuture.result\u001b[0;34m(self, timeout)\u001b[0m\n\u001b[1;32m    438\u001b[0m \u001b[39melif\u001b[39;00m \u001b[39mself\u001b[39m\u001b[39m.\u001b[39m_state \u001b[39m==\u001b[39m FINISHED:\n\u001b[1;32m    439\u001b[0m     \u001b[39mreturn\u001b[39;00m \u001b[39mself\u001b[39m\u001b[39m.\u001b[39m__get_result()\n\u001b[0;32m--> 441\u001b[0m \u001b[39mself\u001b[39;49m\u001b[39m.\u001b[39;49m_condition\u001b[39m.\u001b[39;49mwait(timeout)\n\u001b[1;32m    443\u001b[0m \u001b[39mif\u001b[39;00m \u001b[39mself\u001b[39m\u001b[39m.\u001b[39m_state \u001b[39min\u001b[39;00m [CANCELLED, CANCELLED_AND_NOTIFIED]:\n\u001b[1;32m    444\u001b[0m     \u001b[39mraise\u001b[39;00m CancelledError()\n",
      "File \u001b[0;32m~/Desktop/Project_bio/oligo-designer-toolsuite/.conda/lib/python3.9/threading.py:312\u001b[0m, in \u001b[0;36mCondition.wait\u001b[0;34m(self, timeout)\u001b[0m\n\u001b[1;32m    310\u001b[0m \u001b[39mtry\u001b[39;00m:    \u001b[39m# restore state no matter what (e.g., KeyboardInterrupt)\u001b[39;00m\n\u001b[1;32m    311\u001b[0m     \u001b[39mif\u001b[39;00m timeout \u001b[39mis\u001b[39;00m \u001b[39mNone\u001b[39;00m:\n\u001b[0;32m--> 312\u001b[0m         waiter\u001b[39m.\u001b[39;49macquire()\n\u001b[1;32m    313\u001b[0m         gotit \u001b[39m=\u001b[39m \u001b[39mTrue\u001b[39;00m\n\u001b[1;32m    314\u001b[0m     \u001b[39melse\u001b[39;00m:\n",
      "\u001b[0;31mKeyboardInterrupt\u001b[0m: "
     ]
    }
   ],
   "source": [
    "from oligo_designer_toolsuite.database import CustomReferenceDB, NcbiReferenceDB, EnsemblReferenceDB\n",
    "from oligo_designer_toolsuite.oligo_specificity_filter import (\n",
    "    SpecificityFilter,\n",
    "    ExactMatches,\n",
    "    Blastn,\n",
    ")\n",
    "\n",
    "dir_specificity = os.path.join(dir_output, \"specificity_temporary\") # folder where the temporary files will be written\n",
    "\n",
    "# generate the reference\n",
    "reference_database = CustomReferenceDB(\n",
    "    species=oligo_database.species,\n",
    "    genome_assembly=oligo_database.genome_assembly,\n",
    "    annotation_release=oligo_database.annotation_release,\n",
    "    files_source=oligo_database.files_source,\n",
    "    annotation_file=oligo_database.annotation_file,\n",
    "    sequence_file=oligo_database.sequence_file,\n",
    "    dir_output=dir_output\n",
    ")\n",
    "reference_database.create_reference_DB(block_size=config[\"block_size\"]) # leave the standard parameters\n",
    "\n",
    "# intialize the filter classes\n",
    "exact_mathces = ExactMatches(dir_specificity=dir_specificity)\n",
    "blastn = Blastn(\n",
    "    dir_specificity=dir_specificity, \n",
    "    word_size=config[\"word_size\"],\n",
    "    percent_identity=config[\"percent_identity\"],\n",
    "    coverage=config[\"coverage\"],\n",
    ")\n",
    "filters = [exact_mathces,blastn]\n",
    "\n",
    "# initialize the specificity filter class\n",
    "specificity_filter = SpecificityFilter(filters=filters, write_genes_with_insufficient_oligos=config[\"write_removed_genes\"])\n",
    "\n",
    "# filter the database\n",
    "oligo_database = specificity_filter.apply(oligo_database=oligo_database, reference_database=reference_database, n_jobs=config[\"n_jobs\"])\n",
    "\n",
    "# check for unsufficient number of probes\n",
    "oligo_database.remove_genes_with_insufficient_oligos(pipeline_step = \"after applying specificity filters\")\n",
    "\n",
    "# write the intermediate result\n",
    "if config[\"write_intermediate_steps\"]:\n",
    "    oligo_database.write_oligos_DB(format=config[\"file_format\"], dir_oligos_DB=\"specificity_filter\")"
   ]
  },
  {
   "cell_type": "code",
   "execution_count": null,
   "metadata": {},
   "outputs": [
    {
     "name": "stdout",
     "output_type": "stream",
     "text": [
      "{'CYBA': 748, 'MVD': 663, 'GALNS': 2558, 'ZNF778': 4615, 'CPNE7': 1301}\n"
     ]
    }
   ],
   "source": [
    "number_of_probes(oligo_database)"
   ]
  },
  {
   "attachments": {},
   "cell_type": "markdown",
   "metadata": {},
   "source": [
    "## Oligoset generation\n"
   ]
  },
  {
   "cell_type": "code",
   "execution_count": 12,
   "metadata": {},
   "outputs": [
    {
     "name": "stderr",
     "output_type": "stream",
     "text": [
      "/Users/anna/Desktop/Project_bio/oligo-designer-toolsuite/.conda/lib/python3.9/site-packages/joblib/externals/loky/process_executor.py:700: UserWarning: A worker stopped while some jobs were given to the executor. This can be caused by a too short worker timeout or by a memory leak.\n",
      "  warnings.warn(\n"
     ]
    }
   ],
   "source": [
    "from oligo_designer_toolsuite.oligo_efficiency import(\n",
    "    PadlockOligoScoring,\n",
    "    PadlockSetScoring,\n",
    "    SeqFISHOligoScoring,\n",
    "    AverageSetScoring\n",
    ")\n",
    "from oligo_designer_toolsuite.oligo_selection import OligosetGenerator, padlock_heuristic_selection\n",
    "\n",
    "# initialize the scoring classes\n",
    "\"\"\"oligos_scoring = PadlockOligoScoring(\n",
    "    Tm_min=config[\"Tm_min\"],\n",
    "    Tm_opt=config[\"Tm_opt\"],\n",
    "    Tm_max=config[\"Tm_max\"],\n",
    "    GC_content_min=config[\"GC_content_min\"],\n",
    "    GC_content_opt=config[\"GC_content_opt\"],\n",
    "    GC_content_max=config[\"GC_content_max\"],\n",
    "    Tm_weight=config[\"Tm_weight\"],\n",
    "    GC_weight=config[\"GC_weight\"],\n",
    ")\n",
    "\"\"\"\n",
    "\n",
    "\n",
    "oligos_scoring = SeqFISHOligoScoring(\n",
    "    GC_content_min=config[\"GC_content_min\"],\n",
    "    GC_content_opt=config[\"GC_content_opt\"],\n",
    "    GC_content_max=config[\"GC_content_max\"],\n",
    "    GC_weight=config[\"GC_weight\"],)\n",
    "set_scoring = AverageSetScoring()\n",
    "\n",
    "# initialize the oligoset generator class\n",
    "oligoset_generator = OligosetGenerator(\n",
    "    oligoset_size=config[\"oligoset_size\"], \n",
    "    min_oligoset_size=config[\"min_oligoset_size\"],\n",
    "    oligos_scoring=oligos_scoring,\n",
    "    set_scoring=set_scoring,\n",
    "    heurustic_selection=padlock_heuristic_selection,\n",
    "    write_genes_with_insufficient_oligos=config[\"write_removed_genes\"]\n",
    ")\n",
    "\n",
    "# generate the oligoset\n",
    "oligo_database = oligoset_generator.apply(oligo_database=oligo_database, n_sets=config[\"n_sets\"], n_jobs=config[\"n_jobs\"])\n",
    "# write the intermediate result\n",
    "if config[\"write_intermediate_steps\"]:\n",
    "    oligo_database.write_oligosets(dir_oligosets=\"oligosets\")"
   ]
  },
  {
   "cell_type": "code",
   "execution_count": 17,
   "metadata": {},
   "outputs": [
    {
     "data": {
      "text/plain": [
       "{}"
      ]
     },
     "execution_count": 17,
     "metadata": {},
     "output_type": "execute_result"
    }
   ],
   "source": [
    "oligo_database.oligosets"
   ]
  },
  {
   "attachments": {},
   "cell_type": "markdown",
   "metadata": {},
   "source": [
    "## Total probe generator"
   ]
  },
  {
   "cell_type": "code",
   "execution_count": 12,
   "metadata": {},
   "outputs": [],
   "source": [
    "# create readout probes\n",
    "from oligo_designer_toolsuite.readout_probes.readout_probes_generator import ReadoutProbes\n",
    "readout_generator = ReadoutProbes(length=15,  number_probes = 60, GC_min=45, GC_max=55, blast_filter = blastn, reference_DB=reference_database)\n",
    "readout_probes = readout_generator.create_probes()"
   ]
  },
  {
   "cell_type": "code",
   "execution_count": 13,
   "metadata": {},
   "outputs": [
    {
     "data": {
      "text/plain": [
       "Seq('GCAACGTAATCGTGG')"
      ]
     },
     "execution_count": 13,
     "metadata": {},
     "output_type": "execute_result"
    }
   ],
   "source": [
    "readout_probes[0]"
   ]
  },
  {
   "cell_type": "code",
   "execution_count": 14,
   "metadata": {},
   "outputs": [],
   "source": [
    "from oligo_designer_toolsuite.readout_probes.barcoding_creation import BarcodingCreator\n",
    "barcodes_creator = BarcodingCreator(20, list(oligo_database.oligos_DB.keys()))\n",
    "barcodes_for_genes =  barcodes_creator.create_barcodes()"
   ]
  },
  {
   "cell_type": "code",
   "execution_count": 15,
   "metadata": {},
   "outputs": [
    {
     "data": {
      "text/plain": [
       "{'CYBA': [7, 9, 13, 9],\n",
       " 'MVD': [4, 2, 3, 15],\n",
       " 'GALNS': [15, 19, 19, 5],\n",
       " 'ZNF778': [1, 11, 7, 3],\n",
       " 'CPNE7': [8, 1, 0, 13]}"
      ]
     },
     "execution_count": 15,
     "metadata": {},
     "output_type": "execute_result"
    }
   ],
   "source": [
    "barcodes_for_genes"
   ]
  },
  {
   "cell_type": "code",
   "execution_count": 16,
   "metadata": {},
   "outputs": [],
   "source": [
    "# generate barcodes\n",
    "from oligo_designer_toolsuite.experiment_specific.seqFISH_probes_designer import SeqfishProbesCreator\n",
    "probes_creator = SeqfishProbesCreator()\n",
    "oligo_database.oligos_DB = probes_creator.create_probes(oligo_database.oligos_DB, readout_probes, barcodes_for_genes)"
   ]
  },
  {
   "cell_type": "code",
   "execution_count": 17,
   "metadata": {},
   "outputs": [
    {
     "data": {
      "text/plain": [
       "{'sequence': Seq('CCATGCACTAGGCTTTCTCCCACGCTTGCC'),\n",
       " 'transcript_id': ['XM_011522905.4'],\n",
       " 'exon_id': ['XM_011522905.4_exon6'],\n",
       " 'chromosome': '16',\n",
       " 'start': [88643703],\n",
       " 'end': [88643733],\n",
       " 'strand': '-',\n",
       " 'length': 30,\n",
       " 'melting_temperature': 66.3320282696755,\n",
       " 'GC_content': 60.0,\n",
       " 'sequence_with_barcodes': Seq('CTATAGAGGGTCTACAGGTAATACGCACCGCCATGCACTAGGCTTTCTCCCACG...CCG')}"
      ]
     },
     "execution_count": 17,
     "metadata": {},
     "output_type": "execute_result"
    }
   ],
   "source": [
    "oligo_database.oligos_DB['CYBA']['CYBA_10024']"
   ]
  },
  {
   "cell_type": "code",
   "execution_count": 18,
   "metadata": {},
   "outputs": [
    {
     "data": {
      "text/plain": [
       "'TTTTTT'"
      ]
     },
     "execution_count": 18,
     "metadata": {},
     "output_type": "execute_result"
    }
   ],
   "source": [
    "'T'*6"
   ]
  },
  {
   "attachments": {},
   "cell_type": "markdown",
   "metadata": {},
   "source": [
    "## !!! Add cross hybridization check here !!!"
   ]
  }
 ],
 "metadata": {
  "kernelspec": {
   "display_name": "Python 3",
   "language": "python",
   "name": "python3"
  },
  "language_info": {
   "codemirror_mode": {
    "name": "ipython",
    "version": 3
   },
   "file_extension": ".py",
   "mimetype": "text/x-python",
   "name": "python",
   "nbconvert_exporter": "python",
   "pygments_lexer": "ipython3",
   "version": "3.9.16 (main, Jan 11 2023, 10:02:19) \n[Clang 14.0.6 ]"
  },
  "vscode": {
   "interpreter": {
    "hash": "91ae2b822b2c63763376465ee82482a220c569ab63f255cee6acbc07ca1cebfb"
   }
  }
 },
 "nbformat": 4,
 "nbformat_minor": 2
}
