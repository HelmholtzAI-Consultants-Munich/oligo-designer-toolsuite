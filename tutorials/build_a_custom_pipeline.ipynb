{
 "cells": [
  {
   "attachments": {},
   "cell_type": "markdown",
   "metadata": {},
   "source": [
    "# How to Build a Custom Oligo Design Pipeline?\n",
    "\n",
    "The Oligo Designer Toolsuite is a collection of modules that provide basic functionalities for custom oligo design pipelines within a flexible Python framework.   \n",
    "All modules have a common underlying runtime and memory optimized data structure and a standardized API, which allows the user to easily combine different modules depending on the required processing steps. \n",
    "\n",
    "In this notebook we will demonstrate how to use the Oligo Designer Toolsuite to develop a custom oligo design pipeline. "
   ]
  },
  {
   "attachments": {},
   "cell_type": "markdown",
   "metadata": {},
   "source": [
    "## Setup\n",
    "\n",
    "Before we can start, we first need to install the Oligo Designer Toolsuite Python package.  \n",
    "A step by step description of the installation process is documented [here](https://oligo-designer-toolsuite.readthedocs.io/en/latest/_getting_started/installation.html).  \n",
    "\n",
    "Once the Python package is installed, we need to load all required packages."
   ]
  },
  {
   "cell_type": "markdown",
   "metadata": {},
   "source": []
  },
  {
   "cell_type": "code",
   "execution_count": 2,
   "metadata": {},
   "outputs": [],
   "source": [
    "import os\n",
    "import pprint\n",
    "\n",
    "from pathlib import Path\n",
    "from Bio.SeqUtils import MeltingTemp as mt\n",
    "\n",
    "from oligo_designer_toolsuite.database import (\n",
    "    OligoAttributes,\n",
    "    OligoDatabase,\n",
    "    ReferenceDatabase,\n",
    ")\n",
    "from oligo_designer_toolsuite.oligo_efficiency_filter import (\n",
    "    LowestSetScoring,\n",
    "    WeightedIsoformTmGCOligoScoring,\n",
    ")\n",
    "from oligo_designer_toolsuite.oligo_property_filter import (\n",
    "    GCContentFilter,\n",
    "    HardMaskedSequenceFilter,\n",
    "    MeltingTemperatureNNFilter,\n",
    "    PropertyFilter,\n",
    "    SoftMaskedSequenceFilter,\n",
    ")\n",
    "from oligo_designer_toolsuite.oligo_selection import (\n",
    "    GraphBasedSelectionPolicy,\n",
    "    OligosetGeneratorIndependentSet,\n",
    ")\n",
    "from oligo_designer_toolsuite.oligo_specificity_filter import (\n",
    "    BlastNFilter,\n",
    "    CrossHybridizationFilter,\n",
    "    ExactMatchFilter,\n",
    "    RemoveByLargerRegionPolicy,\n",
    "    SpecificityFilter,\n",
    ")\n",
    "from oligo_designer_toolsuite.sequence_generator import OligoSequenceGenerator"
   ]
  },
  {
   "cell_type": "code",
   "execution_count": 3,
   "metadata": {},
   "outputs": [],
   "source": [
    "dir_output = os.path.abspath(\"./results\")\n",
    "Path(dir_output).mkdir(parents=True, exist_ok=True)\n",
    "\n",
    "n_jobs = 3"
   ]
  },
  {
   "attachments": {},
   "cell_type": "markdown",
   "metadata": {},
   "source": [
    "## 1. Oligo Sequences Generation\n",
    "\n",
    "The first step in building a pipeline is generating oligo sequences which can be loaded into an OligoDatabase. The `OligoSequenceGenerator` class can be used for generating new oligo sequences and allows the user to either design oligos from reference genomic sequences or create randomized sequences for experimental purposes.\n",
    "\n",
    "### Generate Oligos from Reference Genomic Sequences\n",
    "\n",
    "Using a reference genomic FASTA file, oligos are created within a user-defined length range. The `create_sequences_sliding_window()` method facilitates this process by sliding a window of defined size along the input sequences.\n",
    "\n",
    "Key Parameters:\n",
    "\n",
    "- `files_fasta_in`: Input FASTA file(s) containing genomic sequences.\n",
    "- `length_interval_sequences`: Tuple defining the minimum and maximum lengths for generated oligos.\n",
    "- `region_ids`: Specific gene or region identifiers for which oligos are generated. If set to None, oligos are generated for all regions in the input FASTA file.\n",
    "- `n_jobs`: Number of parallel jobs to speed up computation.\n",
    "\n",
    "*Note on Reference FASTA Files: These files can be generated using the  [genomic_region_generator pipeline](https://oligo-designer-toolsuite.readthedocs.io/en/latest/_pipelines/genomic_region_generator.html) with annotations from sources like NCBI or Ensembl. This allows users to customize genomic regions of interest, such as exons or introns, ensuring the designed oligos are tailored to specific experimental requirements.*\n",
    "\n",
    "### Generate Random Oligo Sequences\n",
    "\n",
    "Randomized oligo sequences are generated based on user-defined probabilities for each nucleotide base (e.g. A, C, G, T). The `create_sequences_random()` method produces random oligos with specific per-base probabilities.\n",
    "\n",
    "Key Parameters:\n",
    "\n",
    "- `filename_out`: Name of the output FASTA file for the generated sequences.\n",
    "- `length_sequences`: Fixed length of the random oligos.\n",
    "- `num_sequences`: Total number of random oligos to generate.\n",
    "- `name_sequences`: Base name assigned to each sequence in the output FASTA file.\n",
    "- `base_alphabet_with_probability`: Dictionary defining the per-base generation probability, e.g., *{\"A\": 0.45, \"C\": 0.05, \"G\": 0.3, \"T\": 0.2}*.\n",
    "\n",
    "### Generated Output\n",
    "\n",
    "Both methods output the generated oligo sequences in FASTA format, which can then be loaded into the OligoDatabase for further filtering, scoring, and optimization. \n",
    "Additional information about the sequences are stored in the FASTA header, e.g. genomic coordinates, sequences type of origin etc."
   ]
  },
  {
   "cell_type": "code",
   "execution_count": 4,
   "metadata": {},
   "outputs": [],
   "source": [
    "gene_ids = [\"AARS1\", \"DECR2\", \"PRR35\"]\n",
    "\n",
    "files_fasta_oligo_database = \"../data/genomic_regions/exon_annotation_source-NCBI_species-Homo_sapiens_annotation_release-110_genome_assemly-GRCh38.fna\"\n",
    "probe_length_min = 40\n",
    "probe_length_max = 45\n",
    "\n",
    "filename_out=\"random_probe_sequences\"\n",
    "length_sequences=30\n",
    "num_sequences=5\n",
    "name_sequences=\"random_probe\"\n",
    "oligo_base_probabilities = {\"A\": 0.45, \"C\": 0.05, \"G\": 0.3, \"T\": 0.2}"
   ]
  },
  {
   "cell_type": "code",
   "execution_count": 6,
   "metadata": {},
   "outputs": [],
   "source": [
    "oligo_sequence_generator = OligoSequenceGenerator(dir_output=dir_output)\n",
    "\n",
    "# Generated sequences from reference genomic sequences \n",
    "oligo_genomic_fasta_file = oligo_sequence_generator.create_sequences_sliding_window(\n",
    "    files_fasta_in=files_fasta_oligo_database, \n",
    "    length_interval_sequences=(probe_length_min, probe_length_max), \n",
    "    region_ids=gene_ids, \n",
    "    n_jobs=n_jobs,\n",
    ")\n",
    "\n",
    "# Generate sequences at random \n",
    "oligo_random_fasta_file = oligo_sequence_generator.create_sequences_random(\n",
    "    filename_out=filename_out,\n",
    "    length_sequences=length_sequences, \n",
    "    num_sequences=num_sequences, \n",
    "    name_sequences=name_sequences, \n",
    "    base_alphabet_with_probability=oligo_base_probabilities, \n",
    ")"
   ]
  },
  {
   "cell_type": "markdown",
   "metadata": {},
   "source": [
    "## 2. Setup of an OligoDatabase\n",
    "\n",
    "The `OligoDatabase` is the core data structure for storing, organizing, and processing oligo sequences in the pipeline. It can load oligo sequences from one or more FASTA files, where each sequence is labeled with essential metadata in the header. This database provides a flexible and efficient way to manage oligos and their associated information for downstream filtering, scoring, and selection.\n",
    "\n",
    "### Input Requirements for FASTA Files\n",
    "\n",
    "The input FASTA file must adhere to the following structure:\n",
    "\n",
    "**Header Format:** Each sequence must have a header starting with the **>** character.\n",
    "The header should contain:\n",
    "\n",
    "- ***region_id***: A unique identifier for the genomic region (e.g., gene name or ID). This is mandatory.\n",
    "- ***additional_information***: Optional metadata fields such as transcript ID or exon number, separated by commas.\n",
    "- ***coordinates***: Genomic location in the format chrom:start-end(strand), which is optional.\n",
    "\n",
    "**Sequence Content:** The sequence follows the header in standard FASTA format.\n",
    "\n",
    "**Example:** \n",
    " \n",
    "*>ASR1::transcrip_id=XM456,exon_number=5::16:54552-54786(+)*  \n",
    "AGTTGACAGACCCCAGATTAAAGTGTGTCGCGCAACAC   \n",
    "\n",
    "or\n",
    "   \n",
    "*>ASR1*  \n",
    "AGTTGACAGACCCCAGATTAAAGTGTGTCGCGCAACAC\n",
    "\n",
    "### Creating the OligoDatabase\n",
    "\n",
    "An OligoDatabase object is initialized with parameters that define how the oligo data will be managed and stored.\n",
    "\n",
    "Initialization Parameters:\n",
    "\n",
    "- `min_oligos_per_region`: Minimum number of oligos required for a region to be retained in the database. Regions with fewer oligos will be logged and excluded.\n",
    "- `write_regions_with_insufficient_oligos`: Whether to log regions that do not meet the minimum oligo threshold.\n",
    "- `lru_db_max_in_memory`: Determines the number of regions loaded into RAM at once, optimizing memory usage.\n",
    "- `database_name`: Name assigned to the database.\n",
    "- `dir_output`: Directory where the database and associated files will be saved.\n",
    "- `n_jobs`: Number of parallel processes to use for database operations.\n"
   ]
  },
  {
   "cell_type": "code",
   "execution_count": 7,
   "metadata": {},
   "outputs": [],
   "source": [
    "min_oligos_per_region = 3\n",
    "write_regions_with_insufficient_oligos = True\n",
    "lru_db_max_in_memory=n_jobs * 2 + 2\n",
    "database_name=\"db_oligos\""
   ]
  },
  {
   "cell_type": "code",
   "execution_count": 8,
   "metadata": {},
   "outputs": [],
   "source": [
    "oligo_database = OligoDatabase(\n",
    "    min_oligos_per_region=min_oligos_per_region, \n",
    "    write_regions_with_insufficient_oligos=write_regions_with_insufficient_oligos, \n",
    "    lru_db_max_in_memory=lru_db_max_in_memory, \n",
    "    database_name=database_name, \n",
    "    dir_output=dir_output, \n",
    "    n_jobs=n_jobs,\n",
    ")"
   ]
  },
  {
   "cell_type": "markdown",
   "metadata": {},
   "source": [
    "### Loading Sequences into the Database\n",
    "\n",
    "The `load_database_from_fasta()` method imports sequences into the database from a FASTA file. This method can load both:\n",
    "\n",
    "- **Target Sequences**: Genomic sequences from which oligos will be designed.\n",
    "- **Oligo Sequences**: Pre-designed or randomly generated oligos.\n",
    "\n",
    "The `sequence_type` parameter determines whether the sequences represent target regions or oligo sequences. For target sequences, the reverse complement will be automatically generated."
   ]
  },
  {
   "cell_type": "code",
   "execution_count": 9,
   "metadata": {},
   "outputs": [
    {
     "data": {
      "application/vnd.jupyter.widget-view+json": {
       "model_id": "17f2e74bdea54cd18ae601b31c5f1630",
       "version_major": 2,
       "version_minor": 0
      },
      "text/plain": [
       "Output()"
      ]
     },
     "metadata": {},
     "output_type": "display_data"
    },
    {
     "data": {
      "text/html": [
       "<pre style=\"white-space:pre;overflow-x:auto;line-height:normal;font-family:Menlo,'DejaVu Sans Mono',consolas,'Courier New',monospace\"></pre>\n"
      ],
      "text/plain": []
     },
     "metadata": {},
     "output_type": "display_data"
    },
    {
     "data": {
      "application/vnd.jupyter.widget-view+json": {
       "model_id": "d2bba037afc14dbe91e6445114b0751f",
       "version_major": 2,
       "version_minor": 0
      },
      "text/plain": [
       "Output()"
      ]
     },
     "metadata": {},
     "output_type": "display_data"
    },
    {
     "data": {
      "text/html": [
       "<pre style=\"white-space:pre;overflow-x:auto;line-height:normal;font-family:Menlo,'DejaVu Sans Mono',consolas,'Courier New',monospace\"></pre>\n"
      ],
      "text/plain": []
     },
     "metadata": {},
     "output_type": "display_data"
    }
   ],
   "source": [
    "# Loading Target Sequences: Clears the database and loads genomic sequences as targets for oligo design.\n",
    "oligo_database.load_database_from_fasta(\n",
    "    files_fasta=oligo_genomic_fasta_file, \n",
    "    database_overwrite=True, \n",
    "    sequence_type=\"target\", \n",
    "    region_ids=gene_ids, \n",
    ")\n",
    "\n",
    "# Appending Oligo Sequences: Adds pre-generated oligos (e.g., random sequences) to the existing database without clearing it.\n",
    "oligo_database.load_database_from_fasta(\n",
    "    files_fasta=oligo_random_fasta_file, \n",
    "    database_overwrite=False, \n",
    "    sequence_type=\"oligo\", \n",
    "    region_ids=None, \n",
    ")"
   ]
  },
  {
   "cell_type": "markdown",
   "metadata": {},
   "source": [
    "Once the `OligoDatabase` is created, oligos are loaded from FASTA files and stored in a nested dictionary structure. This step organizes the oligos, ensuring efficient storage and enabling downstream analysis. The metadata from the FASTA headers is automatically parsed and stored as features for each oligo, enabling flexible filtering and scoring.\n",
    "\n",
    "### Nested Dictionary Structure\n",
    "\n",
    "The loaded oligos are stored in the `OligoDatabase` as a nested dictionary with the following structure:\n",
    "\n",
    "``[region_id][oligo_id][oligo_features]``\n",
    "\n",
    "- **region_id**: A unique identifier (e.g., gene name) grouping oligos that belong to the same genomic region.\n",
    "- **oligo_id**: A unique identifier for each oligo within the region.\n",
    "- **oligo_features**: A dictionary containing metadata such as sequence, genomic location, and other annotations."
   ]
  },
  {
   "cell_type": "code",
   "execution_count": 10,
   "metadata": {},
   "outputs": [
    {
     "name": "stdout",
     "output_type": "stream",
     "text": [
      "{'AARS1': {'AARS1::1': {'annotation_release': [['110']],\n",
      "                        'chromosome': [['16']],\n",
      "                        'end': [[70265662]],\n",
      "                        'exon_number': [['10', '10']],\n",
      "                        'gene_id': [['AARS1']],\n",
      "                        'genome_assembly': [['GRCh38']],\n",
      "                        'number_total_transcripts': [['2']],\n",
      "                        'oligo': 'GGAAACCCATAGGTGTCATAGAGGAGCCAAGCAGTGTCTC',\n",
      "                        'regiontype': [['exon']],\n",
      "                        'source': [['NCBI']],\n",
      "                        'species': [['Homo_sapiens']],\n",
      "                        'start': [[70265623]],\n",
      "                        'strand': [['-']],\n",
      "                        'target': 'GAGACACTGCTTGGCTCCTCTATGACACCTATGGGTTTCC',\n",
      "                        'transcript_id': [['NM_001605.3', 'XM_047433666.1']]},\n",
      "           'AARS1::2': {'annotation_release': [['110']],\n",
      "                        'chromosome': [['16']],\n",
      "                        'end': [[70265661]],\n",
      "                        'exon_number': [['10', '10']],\n",
      "                        'gene_id': [['AARS1']],\n",
      "                        'genome_assembly': [['GRCh38']],\n",
      "                        'number_total_transcripts': [['2']],\n",
      "                        'oligo': 'TGGAAACCCATAGGTGTCATAGAGGAGCCAAGCAGTGTCT',\n",
      "                        'regiontype': [['exon']],\n",
      "                        'source': [['NCBI']],\n",
      "                        'species': [['Homo_sapiens']],\n",
      "                        'start': [[70265622]],\n",
      "                        'strand': [['-']],\n",
      "                        'target': 'AGACACTGCTTGGCTCCTCTATGACACCTATGGGTTTCCA',\n",
      "                        'transcript_id': [['NM_001605.3', 'XM_047433666.1']]}}}\n"
     ]
    }
   ],
   "source": [
    "region = list(oligo_database.database.keys())[0]\n",
    "oligo_id_1 = list(oligo_database.database[region].keys())[0]\n",
    "oligo_id_2 = list(oligo_database.database[region].keys())[1]\n",
    "\n",
    "sample_oligos_DB = {region: {oligo_id_1: oligo_database.database[region][oligo_id_1], \n",
    "                           oligo_id_2: oligo_database.database[region][oligo_id_2]}}\n",
    "pprint.pprint(sample_oligos_DB)"
   ]
  },
  {
   "cell_type": "markdown",
   "metadata": {},
   "source": [
    "### Pre-Filtering Oligos by Attributes\n",
    "\n",
    "After loading the oligos, a pre-filtering step can be performed to eliminate oligos that do not meet basic criteria. This filtering uses attributes derived from the metadata in the FASTA headers or calculated using the `OligoAttributes` class.\n",
    "\n",
    "1. **Calculating Attributes:** Additional attributes, such as isoform_consensus (the percentage of transcripts covered by the oligo for the target gene), can be computed for each oligo.\n",
    "2. **Filtering by Attribute Threshold:** Oligos are filtered based on a threshold for a specific attribute. For example, to retain only oligos with at least 50% isoform consensus.\n",
    "3. **Removing Regions with Insufficient Oligos:** Regions with fewer than the minimum required number of oligos are removed from the database:"
   ]
  },
  {
   "cell_type": "code",
   "execution_count": 11,
   "metadata": {},
   "outputs": [],
   "source": [
    "isoform_consensus = 50"
   ]
  },
  {
   "cell_type": "code",
   "execution_count": 12,
   "metadata": {},
   "outputs": [],
   "source": [
    "# Calculating Attributes\n",
    "oligo_attributes_calculator = OligoAttributes()\n",
    "oligo_database = oligo_attributes_calculator.calculate_isoform_consensus(\n",
    "    oligo_database=oligo_database\n",
    ")\n",
    "\n",
    "# Filtering by Attribute Threshold\n",
    "oligo_database.filter_database_by_attribute_threshold(\n",
    "    attribute_name=\"isoform_consensus\", #name of the attribute that should be used for filtering\n",
    "    attribute_thr=isoform_consensus, #threshold for filtering \n",
    "    remove_if_smaller_threshold=True, #define if the oligo should be removed if the attribute is greater or smaller than the defined threshold\n",
    ")\n",
    "\n",
    "# Removing Regions with Insufficient Oligos\n",
    "oligo_database.remove_regions_with_insufficient_oligos(pipeline_step=\"Pre-Filters\") "
   ]
  },
  {
   "cell_type": "markdown",
   "metadata": {},
   "source": [
    "### Saving and Retrieving the Database\n",
    "\n",
    "To preserve the state of the database at any point, the `save_database()` and `load_database()` functions can be used. This ensures that progress is not lost and enables resuming the pipeline from intermediate steps."
   ]
  },
  {
   "cell_type": "code",
   "execution_count": 13,
   "metadata": {},
   "outputs": [
    {
     "data": {
      "application/vnd.jupyter.widget-view+json": {
       "model_id": "2f34806138dd4697817aedab139105c0",
       "version_major": 2,
       "version_minor": 0
      },
      "text/plain": [
       "Output()"
      ]
     },
     "metadata": {},
     "output_type": "display_data"
    },
    {
     "data": {
      "text/html": [
       "<pre style=\"white-space:pre;overflow-x:auto;line-height:normal;font-family:Menlo,'DejaVu Sans Mono',consolas,'Courier New',monospace\"></pre>\n"
      ],
      "text/plain": []
     },
     "metadata": {},
     "output_type": "display_data"
    }
   ],
   "source": [
    "# Save Database\n",
    "dir_database = oligo_database.save_database(dir_database=\"1_db_oligos_initial\")\n",
    "\n",
    "# Load Database\n",
    "oligo_database.load_database(dir_database=dir_database, database_overwrite=True)"
   ]
  },
  {
   "cell_type": "markdown",
   "metadata": {},
   "source": [
    "### Exporting the Database\n",
    "\n",
    "The database can also be exported for analysis in other tools or formats:\n",
    "\n",
    "- **Export as TSV:** Outputs a table of oligos and their attributes (`write_database_to_table()`)\n",
    "- **Export as FASTA:** Outputs oligo sequences in FASTA format (`write_database_to_fasta()`)"
   ]
  },
  {
   "cell_type": "markdown",
   "metadata": {},
   "source": [
    "The setup of the OligoDatabase is critical for several reasons:\n",
    "\n",
    "- **Centralized Data Management:** Provides a structured repository for oligos and their metadata.\n",
    "- **Customizability:** Allows for filtering based on the number of oligos per region and specific target regions.\n",
    "- **Scalability:** Efficiently handles large genomic datasets by managing memory usage and parallel processing.\n",
    "- **Flexibility:** Supports both genomic and pre-designed oligos, enabling a wide range of experimental setups.\n",
    "\n",
    "By defining the database structure and loading sequences with proper metadata, this step ensures that the downstream steps (e.g., filtering and scoring) are applied seamlessly and effectively."
   ]
  },
  {
   "attachments": {},
   "cell_type": "markdown",
   "metadata": {},
   "source": [
    "## 3. Property Filters\n",
    "\n",
    "Property filters are the first major step in refining the initial pool of oligos based on their intrinsic sequence properties. This step eliminates sequences that do not meet specific experimental criteria, such as GC content or melting temperature (Tm), which ensures that only the most suitable oligos are retained for subsequent analysis.\n",
    "\n",
    "Each property filter is implemented as a class inheriting from the abstract base class `PropertyFilterBase`. This ensures all filters have a standardized `apply()` method, which takes an `OligoDatabase` object as input, applies the filter, and returns the filtered database.  \n",
    "To streamline the application of multiple filters, the `PropertyFilter` wrapper class allows users to define a sequence of filters to be applied in order. Filters with lower computational cost (e.g., GC content) should be applied first to reduce the dataset size before more complex filters (e.g., Tm). A list of implemented property filters is available [here](https://oligo-designer-toolsuite.readthedocs.io/en/latest/_api_docs/oligo_designer_toolsuite.oligo_property_filter.html)\n",
    "\n",
    "\n",
    "*Why Order Matters: The sequential application of filters minimizes runtime by processing smaller datasets in later, more computationally intensive steps.*\n",
    "\n",
    "Applying property filters to the OligoDatabase is critical for several reasons:\n",
    "\n",
    "- **Improves Experimental Suitability:** Ensures that sequences meet critical physical and chemical requirements for optimal binding and stability.\n",
    "- **Reduces Computational Load:** Eliminates unsuitable sequences early, saving resources for downstream processes.\n",
    "- **Modular and Extensible:** The PropertyFilterBase design makes it easy to add new filters for additional properties as needed.\n",
    "\n"
   ]
  },
  {
   "cell_type": "code",
   "execution_count": 14,
   "metadata": {},
   "outputs": [],
   "source": [
    "oligo_GC_content_min = 40\n",
    "oligo_GC_content_max = 60\n",
    "\n",
    "oligo_Tm_min = 65 \n",
    "oligo_Tm_max = 75 \n",
    "\n",
    "Tm_parameters_oligo = {\n",
    "    \"check\": True, #default\n",
    "    \"strict\": True, #default\n",
    "    \"c_seq\": None, #default\n",
    "    \"shift\": 0, #default\n",
    "    \"nn_table\": \"DNA_NN3\", # Allawi & SantaLucia (1997)\n",
    "    \"tmm_table\": \"DNA_TMM1\", #default\n",
    "    \"imm_table\": \"DNA_IMM1\", #default\n",
    "    \"de_table\": \"DNA_DE1\", #default\n",
    "    \"dnac1\": 50, #[nM]\n",
    "    \"dnac2\": 0, #[nM]\n",
    "    \"selfcomp\": False, #default\n",
    "    \"saltcorr\": 7, # Owczarzy et al. (2008)\n",
    "    \"Na\": 39, #[mM]\n",
    "    \"K\": 75, #[mM]\n",
    "    \"Tris\": 20, #[mM]\n",
    "    \"Mg\": 10, #[mM]\n",
    "    \"dNTPs\": 0, #[mM] default\n",
    "}\n",
    "Tm_parameters_oligo[\"nn_table\"] = getattr(mt, Tm_parameters_oligo[\"nn_table\"])\n",
    "Tm_parameters_oligo[\"tmm_table\"] = getattr(mt, Tm_parameters_oligo[\"tmm_table\"])\n",
    "Tm_parameters_oligo[\"imm_table\"] = getattr(mt, Tm_parameters_oligo[\"imm_table\"])\n",
    "Tm_parameters_oligo[\"de_table\"] = getattr(mt, Tm_parameters_oligo[\"de_table\"])\n",
    "\n",
    "Tm_chem_correction_param_oligo = {\n",
    "    \"DMSO\": 0, #default\n",
    "    \"fmd\": 20,\n",
    "    \"DMSOfactor\": 0.75, #default\n",
    "    \"fmdfactor\": 0.65, #default\n",
    "    \"fmdmethod\": 1, #default\n",
    "    \"GC\": None, #default\n",
    "}\n",
    "\n",
    "Tm_salt_correction_param_oligo = None # use default settings"
   ]
  },
  {
   "cell_type": "code",
   "execution_count": 15,
   "metadata": {},
   "outputs": [
    {
     "data": {
      "application/vnd.jupyter.widget-view+json": {
       "model_id": "c0e7abb1688b48b2ac3b15fac86d87b4",
       "version_major": 2,
       "version_minor": 0
      },
      "text/plain": [
       "Output()"
      ]
     },
     "metadata": {},
     "output_type": "display_data"
    },
    {
     "data": {
      "text/html": [
       "<pre style=\"white-space:pre;overflow-x:auto;line-height:normal;font-family:Menlo,'DejaVu Sans Mono',consolas,'Courier New',monospace\"></pre>\n"
      ],
      "text/plain": []
     },
     "metadata": {},
     "output_type": "display_data"
    }
   ],
   "source": [
    "hard_masked_sequences = HardMaskedSequenceFilter()\n",
    "soft_masked_sequences = SoftMaskedSequenceFilter()\n",
    "gc_content = GCContentFilter(\n",
    "    GC_content_min=oligo_GC_content_min, \n",
    "    GC_content_max=oligo_GC_content_max \n",
    ")\n",
    "melting_temperature = MeltingTemperatureNNFilter(\n",
    "    Tm_min=oligo_Tm_min, \n",
    "    Tm_max=oligo_Tm_max, \n",
    "    Tm_parameters=Tm_parameters_oligo, \n",
    "    Tm_chem_correction_parameters=Tm_chem_correction_param_oligo, \n",
    "    Tm_salt_correction_parameters=Tm_salt_correction_param_oligo, \n",
    ")\n",
    "\n",
    "filters = [\n",
    "    hard_masked_sequences,\n",
    "    soft_masked_sequences,\n",
    "    gc_content,\n",
    "    melting_temperature,\n",
    "]\n",
    "\n",
    "property_filter = PropertyFilter(filters=filters)\n",
    "\n",
    "oligo_database = property_filter.apply(\n",
    "    oligo_database=oligo_database,\n",
    "    sequence_type=\"oligo\",\n",
    "    n_jobs=n_jobs,\n",
    ")\n",
    "\n",
    "dir_database = oligo_database.save_database(dir_database=\"2_db_oligos_property_filter\")"
   ]
  },
  {
   "attachments": {},
   "cell_type": "markdown",
   "metadata": {},
   "source": [
    "## 4. Specificity Filters\n",
    "\n",
    "Specificity filtering is critical in oligo design to prevent off-target binding, a common problem in experiments using short oligos. Off-target binding occurs when oligos hybridize to unintended genomic regions, reducing the accuracy and reliability of the experiment. Specificity filters identify and eliminate these problematic oligos by aligning them to reference genomic sequences and removing those that bind outside their intended regions. Specificity filters rely on sequence alignment methods such as BLAST or Bowtie to compare oligos against a reference genomic database.\n",
    "\n",
    "Like property filters, specificity filters are implemented as modular classes. The `SpecificityFilter` class orchestrates the application of multiple filters sequentially, ensuring flexibility and scalability. Filters are applied in a user-defined order. Faster filters (e.g., exact matches) should be executed first to minimize computational load for subsequent, more intensive filters (e.g., BLAST)."
   ]
  },
  {
   "cell_type": "code",
   "execution_count": 16,
   "metadata": {},
   "outputs": [],
   "source": [
    "files_fasta_reference_database = \"../data/genomic_regions/exon_annotation_source-NCBI_species-Homo_sapiens_annotation_release-110_genome_assemly-GRCh38.fna\"\n",
    "\n",
    "# Specificity Filter with BlastN\n",
    "specificity_blastn_search_parameters = {\n",
    "  \"perc_identity\": 80,\n",
    "  \"strand\": \"minus\", # this parameter is fixed, if reference is whole genome, consider using \"both\"\n",
    "  \"word_size\": 10,\n",
    "  \"dust\": \"no\",\n",
    "  \"soft_masking\": \"false\",\n",
    "  \"max_target_seqs\": 10,\n",
    "  \"max_hsps\": 1000,\n",
    "}\n",
    "specificity_blastn_hit_parameters = {\n",
    "  \"coverage\": 50 # can be turned into min_alignment_length\n",
    "}\n",
    "\n",
    "# Crosshybridization Filter with BlastN\n",
    "cross_hybridization_blastn_search_parameters = {\n",
    "  \"perc_identity\": 80,\n",
    "  \"strand\": \"minus\", # this parameter is fixed\n",
    "  \"word_size\": 10,\n",
    "  \"dust\": \"no\",\n",
    "  \"soft_masking\": \"false\",\n",
    "  \"max_target_seqs\": 10,\n",
    "}\n",
    "cross_hybridization_blastn_hit_parameters = {\n",
    "  \"coverage\": 80 # can be turned into min_alignment_length\n",
    "}"
   ]
  },
  {
   "cell_type": "markdown",
   "metadata": {},
   "source": [
    "A reference database is essential for specificity filtering, as it serves as the alignment target. The database is typically generated from FASTA files containing genomic sequences. Tools such as the [genomic_region_generator pipeline](https://oligo-designer-toolsuite.readthedocs.io/en/latest/_pipelines/genomic_region_generator.html) can create these FASTA files from annotation sources like NCBI or Ensembl.\n",
    "\n",
    "*Note: A single reference database can be used for multiple filters but different specificity filters can also be applied with different reference databases, offering flexibility for various experimental needs.*"
   ]
  },
  {
   "cell_type": "code",
   "execution_count": 17,
   "metadata": {},
   "outputs": [],
   "source": [
    "# Define Reference Database\n",
    "reference_database = ReferenceDatabase(\n",
    "    database_name=\"db_reference\", dir_output=dir_output\n",
    ")\n",
    "reference_database.load_database_from_fasta(\n",
    "    files_fasta=files_fasta_reference_database, database_overwrite=False\n",
    ")"
   ]
  },
  {
   "cell_type": "code",
   "execution_count": 18,
   "metadata": {},
   "outputs": [
    {
     "data": {
      "application/vnd.jupyter.widget-view+json": {
       "model_id": "a49fc1de86044b05a1bfe28a962d6469",
       "version_major": 2,
       "version_minor": 0
      },
      "text/plain": [
       "Output()"
      ]
     },
     "metadata": {},
     "output_type": "display_data"
    },
    {
     "data": {
      "text/html": [
       "<pre style=\"white-space:pre;overflow-x:auto;line-height:normal;font-family:Menlo,'DejaVu Sans Mono',consolas,'Courier New',monospace\"></pre>\n"
      ],
      "text/plain": []
     },
     "metadata": {},
     "output_type": "display_data"
    },
    {
     "data": {
      "application/vnd.jupyter.widget-view+json": {
       "model_id": "34d3b02d202245dd98e02e8ff6ac1ce7",
       "version_major": 2,
       "version_minor": 0
      },
      "text/plain": [
       "Output()"
      ]
     },
     "metadata": {},
     "output_type": "display_data"
    },
    {
     "data": {
      "text/html": [
       "<pre style=\"white-space:pre;overflow-x:auto;line-height:normal;font-family:Menlo,'DejaVu Sans Mono',consolas,'Courier New',monospace\"></pre>\n"
      ],
      "text/plain": []
     },
     "metadata": {},
     "output_type": "display_data"
    },
    {
     "data": {
      "application/vnd.jupyter.widget-view+json": {
       "model_id": "93fead36fff941faa19147bba9d84874",
       "version_major": 2,
       "version_minor": 0
      },
      "text/plain": [
       "Output()"
      ]
     },
     "metadata": {},
     "output_type": "display_data"
    },
    {
     "data": {
      "text/html": [
       "<pre style=\"white-space:pre;overflow-x:auto;line-height:normal;font-family:Menlo,'DejaVu Sans Mono',consolas,'Courier New',monospace\"></pre>\n"
      ],
      "text/plain": []
     },
     "metadata": {},
     "output_type": "display_data"
    }
   ],
   "source": [
    "# Specificity Filters\n",
    "exact_matches = ExactMatchFilter(policy=RemoveByLargerRegionPolicy(), filter_name=\"exact_match\")\n",
    "\n",
    "cross_hybridization_aligner = BlastNFilter(\n",
    "    search_parameters=cross_hybridization_blastn_search_parameters,\n",
    "    hit_parameters=cross_hybridization_blastn_hit_parameters,\n",
    "    filter_name=\"blastn_crosshybridization\",\n",
    "    dir_output=dir_output,\n",
    ")\n",
    "cross_hybridization = CrossHybridizationFilter(\n",
    "    policy=RemoveByLargerRegionPolicy(),\n",
    "    alignment_method=cross_hybridization_aligner,\n",
    "    database_name_reference=\"db_reference\",\n",
    "    dir_output=dir_output,\n",
    ")\n",
    "\n",
    "specificity = BlastNFilter(\n",
    "    search_parameters=specificity_blastn_search_parameters,\n",
    "    hit_parameters=specificity_blastn_hit_parameters,\n",
    "    filter_name=\"blastn_specificity\",\n",
    "    dir_output=dir_output,\n",
    ")\n",
    "\n",
    "filters = [exact_matches, specificity, cross_hybridization]\n",
    "specificity_filter = SpecificityFilter(filters=filters)\n",
    "oligo_database = specificity_filter.apply(\n",
    "    sequence_type=\"oligo\",\n",
    "    oligo_database=oligo_database,\n",
    "    reference_database=reference_database,\n",
    "    n_jobs=n_jobs,\n",
    ")"
   ]
  },
  {
   "cell_type": "markdown",
   "metadata": {},
   "source": [
    "By eliminating off-target binding oligos, specificity filtering ensures that the remaining sequences are highly selective for their intended regions, laying the groundwork for effective experimental designs.\n",
    "\n",
    "Applying specificity filters to the OligoDatabase is critical for several reasons:\n",
    "\n",
    "- **Enhances Experimental Accuracy:** Removes oligos that could bind to unintended genomic regions, reducing noise and improving the reliability of experimental results.\n",
    "- **Customizable Filtering:** Allows users to tailor filters to the specific requirements of their experiment, such as alignment stringency and coverage thresholds.\n",
    "- **Efficient Workflow:** Sequential application of filters minimizes computational costs by progressively reducing the size of the dataset."
   ]
  },
  {
   "attachments": {},
   "cell_type": "markdown",
   "metadata": {},
   "source": [
    "## 5. Oligoset Generation\n",
    "\n",
    "The final step in designing oligos is to organize them into optimal sets that maximize experimental efficiency and reliability. This step evaluates individual oligos, groups them into sets of non-overlapping oligos and ranks the sets by their overall efficiency scores. The `OligosetGenerator` ensures that only the best-performing sets of oligos are selected for downstream experimental use.\n",
    "\n",
    "### Key Objectives in Oligoset Generation\n",
    "\n",
    "- **Scoring Individual Oligos:** Each oligo is assigned a score based on its theoretical efficiency in the experimental context. Scores are computed using a class derived from `OligoScoringBase`. A list of implemented oligo scores is available [here](https://oligo-designer-toolsuite.readthedocs.io/en/latest/_api_docs/oligo_designer_toolsuite.oligo_efficiency_filter.html).\n",
    "- **Scoring Oligo Sets:** Once individual oligos are scored, they are grouped into sets of oligos based on a set generator. A scoring class derived from `SetScoringBase` evaluates the overall efficiency of each set. A list of implemented oligo scores is available [here](https://oligo-designer-toolsuite.readthedocs.io/en/latest/_api_docs/oligo_designer_toolsuite.oligo_efficiency_filter.html).\n",
    "- **Generating Oligo Sets:** Oligos in each set can be selected based on their positional overlap (`OligosetGeneratorIndependentSet`) or the homogeneity of specified oligo properties (`HomogeneousPropertyOligoSetGenerator`).\n",
    "- **Selection Policies:** The `OligoSelectionPolicy` classes define the strategy for selecting and optimizing non-overlapping oligo sets from a pool of candidates. These policies use greedy or graph-based approaches to navigate the large combinatorial space of possible oligo combinations. This ensures the generated sets meet experimental requirements while adhering to constraints like set size and distance between oligos."
   ]
  },
  {
   "cell_type": "code",
   "execution_count": 19,
   "metadata": {},
   "outputs": [],
   "source": [
    "oligo_Tm_opt = 50\n",
    "oligo_GC_content_opt = 70\n",
    "oligo_isoform_weight = 2\n",
    "oligo_Tm_weight = 1\n",
    "oligo_GC_weight = 1\n",
    "\n",
    "pre_filter = False \n",
    "n_attempts = 100000\n",
    "heuristic = True\n",
    "heuristic_n_attempts = 100\n",
    "\n",
    "max_graph_size = 5000\n",
    "distance_between_oligos = 0\n",
    "\n",
    "oligo_size_opt = 5\n",
    "oligo_size_min = 3\n",
    "n_sets = 100"
   ]
  },
  {
   "cell_type": "code",
   "execution_count": 20,
   "metadata": {},
   "outputs": [],
   "source": [
    "oligos_scoring = WeightedIsoformTmGCOligoScoring(\n",
    "    Tm_min=oligo_Tm_min,\n",
    "    Tm_opt=oligo_Tm_opt,\n",
    "    Tm_max=oligo_Tm_max,\n",
    "    GC_content_min=oligo_GC_content_min,\n",
    "    GC_content_opt=oligo_GC_content_opt,\n",
    "    GC_content_max=oligo_GC_content_max,\n",
    "    Tm_parameters=Tm_parameters_oligo,\n",
    "    Tm_chem_correction_parameters=Tm_chem_correction_param_oligo,\n",
    "    Tm_salt_correction_parameters=Tm_salt_correction_param_oligo,\n",
    "    isoform_weight=oligo_isoform_weight,\n",
    "    Tm_weight=oligo_Tm_weight,\n",
    "    GC_weight=oligo_GC_weight,\n",
    ")\n",
    "set_scoring = LowestSetScoring(ascending=True)"
   ]
  },
  {
   "cell_type": "markdown",
   "metadata": {},
   "source": [
    "### Oligo Selection Policy\n",
    "\n",
    "The `GraphBasedSelectionPolicy` uses the scoring strategies to iteratively select oligos that minimize the overall set score. Key features include:\n",
    "\n",
    "**Pre-Filtering:** If `pre_filter=True`, oligos are pre-filtered before set selection, which improves performance for larger sets (e.g., oligo_size_opt = 50) but can slow down small set selection (e.g., oligo_size_opt = 5).\n",
    "\n",
    "**Heuristic Search:** A heuristic approach is employed to optimize set selection within a feasible runtime:\n",
    "\n",
    "- `heuristic`: Enables or disables heuristic optimization for faster results, which might not find the best possible set.\n",
    "- `heuristic_n_attempts`: Maximum number of attempts to find optimal sets.\n",
    "\n",
    "### Generating Oligosets\n",
    "\n",
    "Using the `OligosetGeneratorIndependentSet`, the pipeline generates non-overlapping sets of oligos. The generator uses the scoring strategies and selection policies to create optimal sets of a user-defined size.\n",
    "\n",
    "**Set Parameters:**\n",
    "\n",
    "- `set_size_opt`: Optimal number of oligos per set.\n",
    "- `set_size_min`: Minimum number of oligos required for a set.\n",
    "- `n_sets`: Number of sets to generate.\n",
    "\n",
    "**Graph Constraints:**\n",
    "\n",
    "- `max_graph_size`: Limits the size of the graph for feasible computation.\n",
    "- `distance_between_oligos`: Ensures no overlap between selected oligos."
   ]
  },
  {
   "cell_type": "code",
   "execution_count": 21,
   "metadata": {},
   "outputs": [],
   "source": [
    "selection_policy = GraphBasedSelectionPolicy(\n",
    "    set_scoring=set_scoring,\n",
    "    pre_filter=pre_filter,\n",
    "    n_attempts=n_attempts,\n",
    "    heuristic=heuristic,\n",
    "    heuristic_n_attempts=heuristic_n_attempts,\n",
    ")\n",
    "probeset_generator = OligosetGeneratorIndependentSet(\n",
    "    selection_policy=selection_policy,\n",
    "    oligos_scoring=oligos_scoring,\n",
    "    set_scoring=set_scoring,\n",
    "    max_oligos=max_graph_size,\n",
    "    distance_between_oligos=distance_between_oligos,\n",
    ")"
   ]
  },
  {
   "cell_type": "code",
   "execution_count": 22,
   "metadata": {},
   "outputs": [
    {
     "data": {
      "application/vnd.jupyter.widget-view+json": {
       "model_id": "d71c84c9b73f47c4966e2e269814870c",
       "version_major": 2,
       "version_minor": 0
      },
      "text/plain": [
       "Output()"
      ]
     },
     "metadata": {},
     "output_type": "display_data"
    },
    {
     "data": {
      "text/html": [
       "<pre style=\"white-space:pre;overflow-x:auto;line-height:normal;font-family:Menlo,'DejaVu Sans Mono',consolas,'Courier New',monospace\"></pre>\n"
      ],
      "text/plain": []
     },
     "metadata": {},
     "output_type": "display_data"
    }
   ],
   "source": [
    "oligo_database = probeset_generator.apply(\n",
    "    oligo_database=oligo_database,\n",
    "    sequence_type=\"oligo\",\n",
    "    set_size_opt=oligo_size_opt,\n",
    "    set_size_min=oligo_size_min,\n",
    "    n_sets=n_sets,\n",
    "    n_jobs=n_jobs,\n",
    ")"
   ]
  },
  {
   "cell_type": "markdown",
   "metadata": {},
   "source": [
    "### Output Structure\n",
    "\n",
    "The generated sets are saved in a pandas DataFrame with the following structure:\n",
    "\n",
    " oligoset_id | oligo_0  | oligo_1  | oligo_2  |  ...  | oligo_n  | set_score_1 | set_score_2 |  ...  \n",
    "------------ | -------- | -------- | -------- | ----- | -------- | ----------- | ----------- | ------:\n",
    " 0           | AGRN_184 | AGRN_133 | AGRN_832 |  ...  | AGRN_706 | 0.3445      | 1.2332      |  ...  \n",
    "\n",
    "- **oligoset_id**: Identifies each oligo set.\n",
    "- **oligo_0, oligo_1, ...**: Oligos in the set.\n",
    "- **set_score_***: Scores representing the set's efficiency.\n",
    "\n",
    "Applying set selection to the OligoDatabase is critical for several reasons:\n",
    "\n",
    "- **Ensures Experimental Efficiency:** Generates sets of high-scoring oligos, ensuring effective target binding without competition.\n",
    "- **Customizable and Scalable:** Users can tailor scoring strategies and selection policies to meet specific experimental needs.\n",
    "- **Optimized Workflow:** Pre-filtering approaches and heuristic methods enable efficient generation of high-quality oligosets, even for large datasets.\n",
    "\n",
    "This step finalizes the pipeline by providing optimal, ready-to-use oligosets tailored to experimental requirements. These sets can then be directly integrated into downstream experimental protocols."
   ]
  }
 ],
 "metadata": {
  "kernelspec": {
   "display_name": "odt",
   "language": "python",
   "name": "python3"
  },
  "language_info": {
   "codemirror_mode": {
    "name": "ipython",
    "version": 3
   },
   "file_extension": ".py",
   "mimetype": "text/x-python",
   "name": "python",
   "nbconvert_exporter": "python",
   "pygments_lexer": "ipython3",
   "version": "3.10.15"
  },
  "orig_nbformat": 4
 },
 "nbformat": 4,
 "nbformat_minor": 2
}
