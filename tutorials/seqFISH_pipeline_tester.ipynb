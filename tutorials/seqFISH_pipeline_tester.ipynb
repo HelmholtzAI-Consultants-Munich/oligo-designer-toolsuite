{
 "cells": [
  {
   "cell_type": "code",
   "execution_count": 2,
   "metadata": {},
   "outputs": [],
   "source": [
    "import os\n",
    "import sys\n",
    "import warnings\n",
    "sys.path.append(os.path.dirname(os.getcwd()))\n",
    "from oligo_designer_toolsuite.pipelines._seqfish_probe_designer import SeqFISHProbeDesigner"
   ]
  },
  {
   "cell_type": "code",
   "execution_count": 3,
   "metadata": {},
   "outputs": [],
   "source": [
    "# import sys\n",
    "# !{sys.executable} -m pip install iteration_utilities"
   ]
  },
  {
   "cell_type": "code",
   "execution_count": 4,
   "metadata": {},
   "outputs": [],
   "source": [
    "s = SeqFISHProbeDesigner(config_file=\"./configs/probe_design_SPOT_custom.yaml\")"
   ]
  },
  {
   "cell_type": "code",
   "execution_count": 5,
   "metadata": {},
   "outputs": [
    {
     "name": "stderr",
     "output_type": "stream",
     "text": [
      "2023-03-04 10:53:49,393 [INFO] Create transcriptome custom\n",
      "2023-03-04 10:54:05,476 [INFO] Create file_transcriptome\n",
      "2023-03-04 11:05:36,509 [INFO] Initialisation is finished\n",
      "2023-03-04 11:05:42,006 [INFO] Oligo database created\n",
      "2023-03-04 11:05:48,729 [INFO] Property filters applied\n",
      "2023-03-04 11:05:49,236 [INFO] Reference DB created\n",
      "2023-03-04 11:05:49,238 [INFO] Specificity filters applied\n",
      "2023-03-04 11:05:49,256 [INFO] Readout probes are created\n",
      "2023-03-04 11:05:49,644 [INFO] Barcodes are assigned\n",
      "2023-03-04 11:05:49,770 [INFO] Total probes are built\n",
      "2023-03-04 11:05:49,771 [INFO] Cross-hybridization check is performed\n",
      "/Users/anna/Library/Python/3.9/lib/python/site-packages/joblib/externals/loky/process_executor.py:700: UserWarning: A worker stopped while some jobs were given to the executor. This can be caused by a too short worker timeout or by a memory leak.\n",
      "  warnings.warn(\n"
     ]
    }
   ],
   "source": [
    "o = s.create_probes()"
   ]
  }
 ],
 "metadata": {
  "kernelspec": {
   "display_name": "Python 3",
   "language": "python",
   "name": "python3"
  },
  "language_info": {
   "codemirror_mode": {
    "name": "ipython",
    "version": 3
   },
   "file_extension": ".py",
   "mimetype": "text/x-python",
   "name": "python",
   "nbconvert_exporter": "python",
   "pygments_lexer": "ipython3",
   "version": "3.9.5 (v3.9.5:0a7dcbdb13, May  3 2021, 13:17:02) \n[Clang 6.0 (clang-600.0.57)]"
  },
  "orig_nbformat": 4,
  "vscode": {
   "interpreter": {
    "hash": "aee8b7b246df8f9039afb4144a1f6fd8d2ca17a180786b69acc140d282b71a49"
   }
  }
 },
 "nbformat": 4,
 "nbformat_minor": 2
}
