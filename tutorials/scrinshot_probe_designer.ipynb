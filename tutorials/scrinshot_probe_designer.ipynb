{
 "cells": [
  {
   "attachments": {},
   "cell_type": "markdown",
   "metadata": {},
   "source": [
    "# Python API: SCRINSHOT Probe Design\n",
    "\n",
    "In this tutorial we will show you how you can create SCRINSHOT probes using our pipelines API."
   ]
  },
  {
   "attachments": {},
   "cell_type": "markdown",
   "metadata": {},
   "source": [
    "## Import Required Packages"
   ]
  },
  {
   "cell_type": "code",
   "execution_count": 7,
   "metadata": {},
   "outputs": [],
   "source": [
    "import os\n",
    "import sys\n",
    "\n",
    "dir_package = os.path.dirname(os.getcwd())\n",
    "sys.path.append(dir_package)\n",
    "\n",
    "from oligo_designer_toolsuite.pipelines import ScrinshotProbeDesigner"
   ]
  },
  {
   "attachments": {},
   "cell_type": "markdown",
   "metadata": {},
   "source": [
    "## Probeset Design\n",
    "\n",
    "To design probesets for a given set of genes, we first create an instance of the ``ScrinshotProbeDesigner`` class. We need to define an output directory and can set the parameters ``write_removed_genes`` (if true, save gene with insufficient probes in a file) and ``write_intermediate_steps`` (if true, save the probe database after each processing step, such that the pipline can resumed from a certain step onwards)."
   ]
  },
  {
   "cell_type": "code",
   "execution_count": 8,
   "metadata": {},
   "outputs": [
    {
     "name": "stderr",
     "output_type": "stream",
     "text": [
      "2023-06-15 14:33:03,943 [INFO] Parameters Init:\n",
      "2023-06-15 14:33:03,944 [INFO] dir_output = ./output\n",
      "2023-06-15 14:33:03,945 [INFO] write_removed_genes = True\n",
      "2023-06-15 14:33:03,946 [INFO] write_intermediate_steps = True\n"
     ]
    }
   ],
   "source": [
    "probe_designer = ScrinshotProbeDesigner(dir_output=\"./output\", write_removed_genes=True, write_intermediate_steps = True)"
   ]
  },
  {
   "attachments": {},
   "cell_type": "markdown",
   "metadata": {},
   "source": [
    "After instatiating the ``ScrinshotProbeDesigner`` class, we need to load the annotation we are using. As an example we will use the NCBI gene annotation. Hence, we define *ncbi* as source and define the NCBI-specific parameters *taxon*, *species* and *annotation_release*. Apart from *NCBI* annotation, we can also choose an *Ensembl* annotation. If ``source=\"ncbi\"`` or ``source=\"ensembl\"`` is choosen, the annotation files are automatically downloaded from their servers. In addition, we can provide a custom annotation when specifying ``sourec=\"custom\"``. \n",
    "\n",
    "**Parameters for annotation loader**\n",
    "\n",
    "- ``source``: define annotation source (currently supported: ncbi, ensembl and custom)\n",
    "\n",
    "*NCBI annnotation parameters:*\n",
    "\n",
    "- ``taxon``: taxon of the species, valid taxa are: archaea, bacteria, fungi, invertebrate, mitochondrion, plant, plasmid, plastid, protozoa, vertebrate_mammalian, vertebrate_other, viral\n",
    "- ``species``: species name in NCBI download format, e.g. 'Homo_sapiens' for human; see [here](https://ftp.ncbi.nlm.nih.gov/genomes/refseq/) for available species name\n",
    "- ``annotation_release``: release number (e.g. 109 or 109.20211119 for ncbi) of annotation or 'current' to use most recent annotation release. Check out release numbers for NCBI [here](ftp.ncbi.nlm.nih.gov/refseq/H_sapiens/annotation/annotation_releases/)\n",
    "\n",
    "*Ensembl annotation parameters:*\n",
    "\n",
    "- ``species``: species name in ensembl download format, e.g. 'homo_sapiens' for human; see [here](http://ftp.ensembl.org/pub/release-108/gtf/) for available species names\n",
    "- ``annotation_release``: release number of annotation, e.g. 'release-108' or 'current' to use most recent annotation release. Check out release numbers for ensemble [here](ftp.ensembl.org/pub/)\n",
    "\n",
    "*Custom annotation parameters:*\n",
    "\n",
    "- ``file_annotation``: GTF file with gene annotation\n",
    "- ``file_sequence``: FASTA file with genome sequence\n",
    "- ``files_source``: original source of the genomic files (optional)\n",
    "- ``species``: species of provided annotation, leave empty if unknown (optional)\n",
    "- ``annotation_release``: release number of provided annotation, leave empty if unknown (optional)\n",
    "- ``genome_assembly``: genome assembly of provided annotation, leave empty if unknown (optional)\n"
   ]
  },
  {
   "cell_type": "code",
   "execution_count": null,
   "metadata": {},
   "outputs": [],
   "source": [
    "# example for ncbi annotation loader\n",
    "source = \"ncbi\"\n",
    "params = {\n",
    "    \"taxon\": \"vertebrate_mammalian\",\n",
    "    \"species\": \"Homo_sapiens\",\n",
    "    \"annotation_release\": \"110\",\n",
    "}\n",
    "\n",
    "# example for ensembl annotation loader\n",
    "# source = \"ensembl\"\n",
    "# params = {\n",
    "#     \"species\": \"homo_sapiens\",\n",
    "#     \"annotation_release\": \"109\",\n",
    "# }\n",
    "\n",
    "# example for custom annotation loader\n",
    "# source = \"custom\"\n",
    "# params = {\n",
    "#     \"file_annotation\": \"./output/annotation/GCF_000001405.40_GRCh38.p14_genomic.gtf\",\n",
    "#     \"file_sequence\": \"./output/annotation/GCF_000001405.40_GRCh38.p14_genomic.fna\",\n",
    "#     \"files_source\": \"NCBI\",\n",
    "#     \"species\": \"Homo_sapiens\",\n",
    "#     \"annotation_release\": \"110\",\n",
    "#     \"genome_assembly\": \"GRCh38.p14\",\n",
    "# }\n",
    "\n",
    "probe_designer.load_annotations(source=source, source_params=params)"
   ]
  },
  {
   "attachments": {},
   "cell_type": "markdown",
   "metadata": {},
   "source": [
    "After downloading the annotations, we have to create the oligo database. Running the function below, will automatically create a transcriptome from the given annotation (therefore, the provided GTF file must contain transcript and exon information) and use this transcriptome to create all possible probes for each gene, that is provided in the *gene* list. \n",
    "\n",
    "**Parameters for Probe Sequences Database**\n",
    "\n",
    "- ``probe_length_min``: minimum length of probes\n",
    "- ``probe_length_max``: maximum length of probes\n",
    "- ``min_probes_per_gene``: minimum number of probes that a gene must have before it gets deleted\n"
   ]
  },
  {
   "cell_type": "code",
   "execution_count": 10,
   "metadata": {},
   "outputs": [],
   "source": [
    "# load a list of example genes\n",
    "file_genes = os.path.join(dir_package, \"data/genes/ncbi_10.txt\")\n",
    "with open(file_genes) as handle:\n",
    "    lines = handle.readlines()\n",
    "    genes = [line.rstrip() for line in lines]"
   ]
  },
  {
   "cell_type": "code",
   "execution_count": null,
   "metadata": {},
   "outputs": [],
   "source": [
    "probe_length_min = 38\n",
    "probe_length_max = 45\n",
    "min_probes_per_gene = 3\n",
    "\n",
    "probe_database, file_database = probe_designer.create_probe_database(genes=genes, \n",
    "                                                                     probe_length_min=probe_length_min, \n",
    "                                                                     probe_length_max=probe_length_max, \n",
    "                                                                     min_probes_per_gene=min_probes_per_gene, \n",
    "                                                                     n_jobs=4)"
   ]
  },
  {
   "attachments": {},
   "cell_type": "markdown",
   "metadata": {},
   "source": [
    "*Note: Instead of creating a new probe database, we can also load an existing databases.*  \n",
    "\n",
    "Loading a database can be useful when starting the pipeline from a certain step, e.g. load a database which was already filtered by probe properties and continue immediately with the specificity filter step. \n",
    "We can load an existing database by calling ``load_probe_database()``. See example code in the cells below (commented).\n",
    "\n",
    "In order to create experiment-specific probes, we have to apply several filter to each probe, e.g. melting temperature or GC content filters. \n",
    "\n",
    "**Parameters for Property Filters**\n",
    "\n",
    "*Parameters for Probe Sequence:*\n",
    "\n",
    "- ``GC_content_min``: minimum GC content of probes\n",
    "- ``GC_content_max``: maximum GC content of probes\n",
    "- ``Tm_min``: minimum melting temperature of probes\n",
    "- ``Tm_max``: maximum melting temperature of probes\n",
    "\n",
    "*Parameters for Padlock Arms:*\n",
    "\n",
    "- ``min_arm_length``: minimum length of each arm\n",
    "- ``max_arm_Tm_dif``: maximum melting temperature difference of both arms\n",
    "- ``arm_Tm_min``: minimum melting temperature of each arm (difference shouldn't be higher than 5! But range is not super important, the lower the better)\n",
    "- ``arm_Tm_max``: maximum melting temperature of each arm\n",
    "\n",
    "*Parameters for Melting Temperature:*\n",
    "\n",
    "- ``Tm_parameters_probe``: melting temperature parameters for probe design\n",
    "- ``Tm_chem_correction_param_pobe``: parameters for chemical correction of melting temperature for probe design\n",
    "\n",
    "*Note: The melting temperature is used in 2 different stages (probe and detection oligo design), where a few parameters are shared and the others differ. Parameters for melting temperature - for more information on parameters, see:* [here](https://biopython.org/docs/1.75/api/Bio.SeqUtils.MeltingTemp.html#Bio.SeqUtils.MeltingTemp.Tm_NN)\n"
   ]
  },
  {
   "cell_type": "code",
   "execution_count": null,
   "metadata": {},
   "outputs": [],
   "source": [
    "####### Load existing database #######\n",
    "# file_database = \"./output/oligo_database/probe_database_initial.txt\"\n",
    "# min_probes_per_gene = 3\n",
    "# probe_database = probe_designer.load_probe_database(file_database=file_database, min_probes_per_gene=min_probes_per_gene)\n",
    "\n",
    "####### Apply Property Filter #######\n",
    "GC_content_min=40\n",
    "GC_content_max=60\n",
    "Tm_min=52\n",
    "Tm_max=67\n",
    "min_arm_length=10\n",
    "max_arm_Tm_dif=2\n",
    "arm_Tm_min=38\n",
    "arm_Tm_max=49\n",
    "\n",
    "probe_database, file_database = probe_designer.filter_probes_by_property(probe_database, \n",
    "                                                                         GC_content_min=GC_content_min, \n",
    "                                                                         GC_content_max=GC_content_max,\n",
    "                                                                         Tm_min=Tm_min, \n",
    "                                                                         Tm_max=Tm_max, \n",
    "                                                                         min_arm_length=min_arm_length, \n",
    "                                                                         max_arm_Tm_dif=max_arm_Tm_dif, \n",
    "                                                                         arm_Tm_min=arm_Tm_min, \n",
    "                                                                         arm_Tm_max=arm_Tm_max, \n",
    "                                                                         n_jobs=4)"
   ]
  },
  {
   "attachments": {},
   "cell_type": "markdown",
   "metadata": {},
   "source": [
    "**Parameters for Specificity Filters**\n",
    "\n",
    "*BlastN Similarity Filter:*\n",
    "\n",
    "- ``blast_word_size``: word size for the blastn seed (exact match to target)\n",
    "- ``blast_percent_identity``: maximum similarity between oligos and target sequences, ranging from 0 to 100% (no missmatch)\n",
    "- ``blast_coverage``: minimum coverage between oligos and target sequence, ranging from 0 to 100% (full coverage)\n",
    "\n",
    "*Bowtie Ligation Region filter:*\n",
    "\n",
    "- ``ligation_region_size``: size of the seed region around the ligation site for bowtie seed region filter\n",
    "\n",
    "*Note: Depending on the number of genes, this step might be time and memory consuming. For high number of genes, you might want to run this step on a bigger machine!*\n"
   ]
  },
  {
   "cell_type": "code",
   "execution_count": null,
   "metadata": {},
   "outputs": [],
   "source": [
    "####### Load existing database #######\n",
    "# load annotation files for Reference Database\n",
    "# source = \"custom\"\n",
    "# custom_params = {\n",
    "#     \"file_annotation\": \"./output/annotation/GCF_000001405.40_GRCh38.p14_genomic.gtf\",\n",
    "#     \"file_sequence\": \"./output/annotation/GCF_000001405.40_GRCh38.p14_genomic.fna\",\n",
    "#     \"files_source\": \"NCBI\",\n",
    "#     \"species\": \"Homo_sapiens\",\n",
    "#     \"annotation_release\": \"110\",\n",
    "#     \"genome_assembly\": \"GRCh38.p14\",    \n",
    "# }\n",
    "# probe_designer.load_annotations(source=source, source_params=custom_params)\n",
    "\n",
    "# load existing database\n",
    "# file_database = \"./output/oligo_database/probe_database_property_filter.txt\"\n",
    "# min_probes_per_gene = 3\n",
    "# probe_database = probe_designer.load_probe_database(file_database=file_database, min_probes_per_gene=min_probes_per_gene)\n",
    "\n",
    "####### Apply Specificity Filter #######\n",
    "ligation_region_size=5\n",
    "blast_word_size=10\n",
    "blast_percent_identity=80\n",
    "blast_coverage=50\n",
    "\n",
    "probe_database, file_database = probe_designer.filter_probes_by_specificity(probe_database, \n",
    "                                                                            ligation_region_size=ligation_region_size,\n",
    "                                                                            blast_word_size=blast_word_size, \n",
    "                                                                            blast_percent_identity=blast_percent_identity, \n",
    "                                                                            blast_coverage=blast_coverage, \n",
    "                                                                            n_jobs=2)"
   ]
  },
  {
   "attachments": {},
   "cell_type": "markdown",
   "metadata": {},
   "source": [
    "After applying different sets of filters to the probe database, we will create probesets for each gene, \n",
    "which are sets of probes that do not overlap and have a high efficiency score (calculated from melting temperature and GC content).\n",
    "\n",
    "**Parameters for Oligo Efficiency Score**\n",
    "\n",
    "- ``Tm_min``: minimum melting temperature of probes\n",
    "- ``Tm_max``: maximum melting temperature of probes\n",
    "- ``Tm_opt``: optimal melting temperature of probes\n",
    "- ``Tm_weight``: weight of the Tm of the probe in the efficiency score\n",
    "- ``GC_content_min``: minimum GC content of probes\n",
    "- ``GC_content_max``: maximum GC content of probes\n",
    "- ``GC_content_opt``: optimal GC content of probes\n",
    "- ``GC_weight``: weight of the GC content of the probe in the efficiency score\n",
    "\n",
    "**Parameters for Oligosets Generation**\n",
    "\n",
    "- ``probeset_size_opt``: ideal number of oligos per probeset\n",
    "- ``probeset_size_min``: minimum number of oligos per probeset\n",
    "- ``n_sets``: maximum number of sets per gene\n"
   ]
  },
  {
   "cell_type": "code",
   "execution_count": null,
   "metadata": {},
   "outputs": [],
   "source": [
    "####### Load existing database #######\n",
    "# file_database = \"./output/oligo_database/oligo_database_specificity_filters.txt\"\n",
    "# min_probes_per_gene = 3\n",
    "# probe_database = probe_designer.load_probe_database(file_database=file_database, min_probes_per_gene=min_probes_per_gene)\n",
    "\n",
    "####### Apply Probe Set Selection #######\n",
    "probeset_size_opt=5\n",
    "probeset_size_min=2\n",
    "n_sets=100\n",
    "Tm_min=52\n",
    "Tm_max=67\n",
    "Tm_opt=60\n",
    "Tm_weight=1\n",
    "GC_content_min=40\n",
    "GC_content_max=60\n",
    "GC_content_opt=50\n",
    "GC_weight=1\n",
    "\n",
    "probe_database, file_database, dir_oligosets = probe_designer.create_probe_sets(probe_database, \n",
    "                                                                                probeset_size_opt=probeset_size_opt, \n",
    "                                                                                probeset_size_min=probeset_size_min, \n",
    "                                                                                n_sets=n_sets, \n",
    "                                                                                Tm_min=Tm_min, \n",
    "                                                                                Tm_max=Tm_max, \n",
    "                                                                                Tm_opt=Tm_opt, \n",
    "                                                                                Tm_weight=Tm_weight, \n",
    "                                                                                GC_content_min=GC_content_min, \n",
    "                                                                                GC_content_max=GC_content_max, \n",
    "                                                                                GC_content_opt=GC_content_opt, \n",
    "                                                                                GC_weight=GC_weight, \n",
    "                                                                                n_jobs=2)"
   ]
  },
  {
   "attachments": {},
   "cell_type": "markdown",
   "metadata": {},
   "source": [
    "In the probe database, the gene names are the keys of the database. All genes that do not have sufficient probes were removed from the database.  \n",
    "Once we hve all genes with sufficient probes, we create the final \"read to order\" probe sequences. Calling the fuction below will produce two files, *padlock_probes* and *padlock_probes_order*. The latter file contains the ready to order probe sequences for each gene.\n",
    "\n",
    "**Parameters for Padlock Final Sequence Design**\n",
    "\n",
    "- ``detect_oligo_length_min``: minimum length of detection oligo\n",
    "- ``detect_oligo_length_max``: maximum length of detection oligo\n",
    "- ``detect_oligo_Tm_opt``: optimal melting temperature of detection oligo\n",
    "- ``Tm_parameters_detection_oligo``: melting temperature parameters for detection oligo design\n",
    "- ``Tm_chem_correction_param_detection_oligo``: parameters for chemical correction of melting temperature for detection oligo design\n",
    "\n",
    "*Note: The melting temperature is used in 2 different stages (probe and detection oligo design), where a few parameters are shared and the others differ. Parameters for melting temperature - for more information on parameters, see:* [here](https://biopython.org/docs/1.75/api/Bio.SeqUtils.MeltingTemp.html#Bio.SeqUtils.MeltingTemp.Tm_NN)\n"
   ]
  },
  {
   "cell_type": "code",
   "execution_count": null,
   "metadata": {},
   "outputs": [],
   "source": [
    "##### Design final sequences #####\n",
    "detect_oligo_length_min = 18\n",
    "detect_oligo_length_max = 25\n",
    "detect_oligo_Tm_opt = 32\n",
    "\n",
    "probe_designer.create_final_sequences(probe_database, detect_oligo_length_min, detect_oligo_length_max, detect_oligo_Tm_opt)"
   ]
  }
 ],
 "metadata": {
  "kernelspec": {
   "display_name": "ODT",
   "language": "python",
   "name": "odt"
  },
  "language_info": {
   "codemirror_mode": {
    "name": "ipython",
    "version": 3
   },
   "file_extension": ".py",
   "mimetype": "text/x-python",
   "name": "python",
   "nbconvert_exporter": "python",
   "pygments_lexer": "ipython3",
   "version": "3.9.15"
  },
  "orig_nbformat": 4,
  "vscode": {
   "interpreter": {
    "hash": "aee8b7b246df8f9039afb4144a1f6fd8d2ca17a180786b69acc140d282b71a49"
   }
  }
 },
 "nbformat": 4,
 "nbformat_minor": 2
}
