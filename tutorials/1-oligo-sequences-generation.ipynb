{
 "cells": [
  {
   "cell_type": "markdown",
   "metadata": {},
   "source": [
    "# 1. Oligo Sequences Generation\n",
    "\n",
    "The first step in building a pipeline is generating oligo sequences which can be loaded into an OligoDatabase. The `OligoSequenceGenerator` class can be used for generating new oligo sequences and allows the user to either design oligos from reference genomic sequences or create randomized sequences for experimental purposes.\n",
    "\n",
    "In this tutorial, we show how one can:\n",
    "\n",
    "- [Generate oligos from reference genomic sequences](#generate-oligos-from-reference-genomic-sequences)\n",
    "\n",
    "- [Create randomized sequences](#generate-random-oligo-sequences)\n",
    "\n",
    "\n",
    "**Generated output:** Both methods output the generated oligo sequences in FASTA format, which can then be loaded into the `OligoDatabase` for further filtering, scoring, and optimization (See next tutorials). \n",
    "Additional information about the sequences are stored in the FASTA header, e.g. genomic coordinates, sequences type of origin etc."
   ]
  },
  {
   "cell_type": "markdown",
   "metadata": {},
   "source": [
    "## Imports and setup"
   ]
  },
  {
   "cell_type": "code",
   "execution_count": 2,
   "metadata": {},
   "outputs": [],
   "source": [
    "import os\n",
    "\n",
    "from pathlib import Path\n",
    "\n",
    "from oligo_designer_toolsuite.sequence_generator import OligoSequenceGenerator"
   ]
  },
  {
   "cell_type": "code",
   "execution_count": 3,
   "metadata": {},
   "outputs": [],
   "source": [
    "dir_output = os.path.abspath(\"./results\")\n",
    "Path(dir_output).mkdir(parents=True, exist_ok=True)\n",
    "\n",
    "n_jobs = 3"
   ]
  },
  {
   "cell_type": "markdown",
   "metadata": {},
   "source": [
    "## Generate Oligos from Reference Genomic Sequences\n",
    "\n",
    "Using a reference genomic FASTA file, oligos are created within a user-defined length range. The `create_sequences_sliding_window()` method facilitates this process by sliding a window of defined size along the input sequences.\n",
    "\n",
    "Key Parameters:\n",
    "\n",
    "- `files_fasta_in`: Input FASTA file(s) containing genomic sequences.\n",
    "- `length_interval_sequences`: Tuple defining the minimum and maximum lengths for generated oligos.\n",
    "- `region_ids`: Specific gene or region identifiers for which oligos are generated. If set to None, oligos are generated for all regions in the input FASTA file.\n",
    "- `n_jobs`: Number of parallel jobs to speed up computation.\n",
    "\n",
    "*Note on Reference FASTA Files: These files can be generated using the  [genomic_region_generator pipeline](https://oligo-designer-toolsuite.readthedocs.io/en/latest/_pipelines/genomic_region_generator.html) with annotations from sources like NCBI or Ensembl. This allows users to customize genomic regions of interest, such as exons or introns, ensuring the designed oligos are tailored to specific experimental requirements.*"
   ]
  },
  {
   "cell_type": "code",
   "execution_count": 4,
   "metadata": {},
   "outputs": [],
   "source": [
    "gene_ids = [\"AARS1\", \"DECR2\", \"PRR35\"]\n",
    "\n",
    "files_fasta_oligo_database = \"../data/genomic_regions/exon_annotation_source-NCBI_species-Homo_sapiens_annotation_release-110_genome_assemly-GRCh38.fna\"\n",
    "probe_length_min = 40\n",
    "probe_length_max = 45\n",
    "\n",
    "filename_out=\"random_probe_sequences\"\n",
    "length_sequences=30\n",
    "num_sequences=5\n",
    "name_sequences=\"random_probe\"\n",
    "oligo_base_probabilities = {\"A\": 0.45, \"C\": 0.05, \"G\": 0.3, \"T\": 0.2}"
   ]
  },
  {
   "cell_type": "markdown",
   "metadata": {},
   "source": [
    "## Generate Random Oligo Sequences\n",
    "\n",
    "Randomized oligo sequences are generated based on user-defined probabilities for each nucleotide base (e.g. A, C, G, T). The `create_sequences_random()` method produces random oligos with specific per-base probabilities.\n",
    "\n",
    "Key Parameters:\n",
    "\n",
    "- `filename_out`: Name of the output FASTA file for the generated sequences.\n",
    "- `length_sequences`: Fixed length of the random oligos.\n",
    "- `num_sequences`: Total number of random oligos to generate.\n",
    "- `name_sequences`: Base name assigned to each sequence in the output FASTA file.\n",
    "- `base_alphabet_with_probability`: Dictionary defining the per-base generation probability, e.g., *{\"A\": 0.45, \"C\": 0.05, \"G\": 0.3, \"T\": 0.2}*."
   ]
  },
  {
   "cell_type": "code",
   "execution_count": 5,
   "metadata": {},
   "outputs": [],
   "source": [
    "oligo_sequence_generator = OligoSequenceGenerator(dir_output=dir_output)\n",
    "\n",
    "# Generated sequences from reference genomic sequences \n",
    "oligo_genomic_fasta_file = oligo_sequence_generator.create_sequences_sliding_window(\n",
    "    files_fasta_in=files_fasta_oligo_database, \n",
    "    length_interval_sequences=(probe_length_min, probe_length_max), \n",
    "    region_ids=gene_ids, \n",
    "    n_jobs=n_jobs,\n",
    ")\n",
    "\n",
    "# Generate sequences at random \n",
    "oligo_random_fasta_file = oligo_sequence_generator.create_sequences_random(\n",
    "    filename_out=filename_out,\n",
    "    length_sequences=length_sequences, \n",
    "    num_sequences=num_sequences, \n",
    "    name_sequences=name_sequences, \n",
    "    base_alphabet_with_probability=oligo_base_probabilities, \n",
    ")"
   ]
  }
 ],
 "metadata": {
  "kernelspec": {
   "display_name": "oligo_env",
   "language": "python",
   "name": "python3"
  },
  "language_info": {
   "codemirror_mode": {
    "name": "ipython",
    "version": 3
   },
   "file_extension": ".py",
   "mimetype": "text/x-python",
   "name": "python",
   "nbconvert_exporter": "python",
   "pygments_lexer": "ipython3",
   "version": "3.10.15"
  }
 },
 "nbformat": 4,
 "nbformat_minor": 2
}
