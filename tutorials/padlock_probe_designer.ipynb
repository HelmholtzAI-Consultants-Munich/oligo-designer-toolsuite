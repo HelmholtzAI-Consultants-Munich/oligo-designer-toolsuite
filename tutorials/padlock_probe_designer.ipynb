{
 "cells": [
  {
   "attachments": {},
   "cell_type": "markdown",
   "metadata": {},
   "source": [
    "# Padlock Probe Designer\n",
    "\n",
    "This notebook implements a pipeline to designe Padlock probes (short oligos) using the `oligo_designer_toolsuite` package."
   ]
  },
  {
   "cell_type": "code",
   "execution_count": 1,
   "metadata": {},
   "outputs": [],
   "source": [
    "# import all the necassary pakages exept from the oligo_designer_toolsuite\n",
    "import os\n",
    "import sys\n",
    "import warnings\n",
    "sys.path.append(os.path.dirname(os.getcwd()))\n",
    "\n",
    "\n",
    "import yaml\n",
    "from Bio.SeqUtils import MeltingTemp as mt\n"
   ]
  },
  {
   "attachments": {},
   "cell_type": "markdown",
   "metadata": {},
   "source": [
    "## Define the parameters\n",
    "\n",
    "First, we need to define the parameters we want to use to generate the Padlock probes. \n",
    "A possible way to define all the parameters, that is flexible and reusable, is to use a configuration file. \n",
    "For this tutorial we will use the YAML file `padlock_probe_designer_custom.yaml`, which uses a custom gene annotation (GTF file - GFF3 not supported) and genome sequence (fasta file). As an example, we use human gene annotation and genome sequence of chromsome 16. Check out the config file to understand which parameters are required and how the configuration file is structured.\n",
    "If you want to use NCBI or Ensembl gene annotation and genome sequence with automatic file download from their servers, please check out the YAML files `padlock_probe_designer_ncbi.yaml` and `padlock_probe_designer_ensembl.yaml`.\n",
    "\n",
    "Once the configuration file has been set up we have to read its content:"
   ]
  },
  {
   "cell_type": "code",
   "execution_count": 2,
   "metadata": {},
   "outputs": [],
   "source": [
    "config_file = \"./configs/padlock_probe_designer_custom.yaml\"\n",
    "# config_file = \"./configs/padlock_probe_designer_ncbi.yaml\" # NCBI config\n",
    "# config_file = \"./configs/padlock_probe_designer_ensemble.yaml\" # Ensemble config\n",
    "with open(config_file, 'r') as yaml_file:\n",
    "    config = yaml.safe_load(yaml_file)\n",
    "dir_output = os.path.join(os.path.dirname(os.getcwd()), config[\"dir_output\"]) # create the complete path for the output directory"
   ]
  },
  {
   "cell_type": "code",
   "execution_count": 4,
   "outputs": [
    {
     "data": {
      "text/plain": "'/home/cw/PycharmProjects/oligo-designer-toolsuite_merfish/output_tutorial'"
     },
     "execution_count": 4,
     "metadata": {},
     "output_type": "execute_result"
    }
   ],
   "source": [
    "dir_output"
   ],
   "metadata": {
    "collapsed": false
   }
  },
  {
   "attachments": {},
   "cell_type": "markdown",
   "metadata": {},
   "source": [
    "## Generate Genomic Regions for the Oligo and Reference Database\n",
    "\n",
    "Now we can start to build the pipeline. We start with generating the fasta file used as basis for the oligo database and reference database for the alignement methods. *Note: you can use different fasta files to create the oligo and reference database.* From the provided genome annotation (fasta file), specific regions can be extracted. In particular, it is possible to use: \n",
    "\n",
    "- the whole genome\n",
    "- the transcriptome\n",
    "- the coding sequence (CDS)\n",
    "\n",
    "To create specific regions, we need a `CustomGenomicRegionGenerator`, or a class that inherits form it (e.g. `NcbiGenomicRegionGenerator` and `EnsemblGenomicRegionGenerator`) and call the method `generate_transcript_reduced_representation()` to extract the transcriptome in a reduced representation form from the given files. These classes differ on how the the fasta and the GTF (GFF3 not supported) files used are obtained. The first one uses local files while the others dowload them respectively form the NCBI or Ensambl ftp server. *Note: that the GTF file must contain coordinate as well as transcript ID and exon number infomration to generate a transcriptome or coding sequence.* In the output fasta file, the header of each sequence must start with '>' and contain the following information: \n",
    "region_id, additional_information and coordinates (chrom, start, end, strand)\n",
    "\n",
    "Input Format (per sequence):  \n",
    "`>region_id::additional information::chromosome:start-end(strand)`  \n",
    "`sequence`\n",
    "\n",
    "Example:  \n",
    "`>ASR1::transcrip_id=XM456,exon_number=5::16:54552-54786(+)`  \n",
    "`AGTTGACAGACCCCAGATTAAAGTGTGTCGCGCAACAC` \n",
    "\n",
    "To use NCBi or Ensembl files, comment in the respective config files in the cell above."
   ]
  },
  {
   "cell_type": "code",
   "execution_count": 4,
   "metadata": {},
   "outputs": [
    {
     "ename": "KeyboardInterrupt",
     "evalue": "",
     "output_type": "error",
     "traceback": [
      "\u001B[0;31m---------------------------------------------------------------------------\u001B[0m",
      "\u001B[0;31mKeyboardInterrupt\u001B[0m                         Traceback (most recent call last)",
      "Cell \u001B[0;32mIn[4], line 30\u001B[0m\n\u001B[1;32m     23\u001B[0m \u001B[38;5;28;01melif\u001B[39;00m config[\u001B[38;5;124m\"\u001B[39m\u001B[38;5;124msource\u001B[39m\u001B[38;5;124m\"\u001B[39m] \u001B[38;5;241m==\u001B[39m \u001B[38;5;124m\"\u001B[39m\u001B[38;5;124mensembl\u001B[39m\u001B[38;5;124m\"\u001B[39m:\n\u001B[1;32m     24\u001B[0m     region_generator \u001B[38;5;241m=\u001B[39m EnsemblGenomicRegionGenerator(\n\u001B[1;32m     25\u001B[0m         species\u001B[38;5;241m=\u001B[39mconfig[\u001B[38;5;124m\"\u001B[39m\u001B[38;5;124mspecies\u001B[39m\u001B[38;5;124m\"\u001B[39m], \n\u001B[1;32m     26\u001B[0m         annotation_release\u001B[38;5;241m=\u001B[39mconfig[\u001B[38;5;124m\"\u001B[39m\u001B[38;5;124mannotation_release\u001B[39m\u001B[38;5;124m\"\u001B[39m], \n\u001B[1;32m     27\u001B[0m         dir_output\u001B[38;5;241m=\u001B[39mdir_output\n\u001B[1;32m     28\u001B[0m     )\n\u001B[0;32m---> 30\u001B[0m file_transcriptome \u001B[38;5;241m=\u001B[39m \u001B[43mregion_generator_custom\u001B[49m\u001B[38;5;241;43m.\u001B[39;49m\u001B[43mgenerate_transcript_reduced_representation\u001B[49m\u001B[43m(\u001B[49m\u001B[43minclude_exon_junctions\u001B[49m\u001B[38;5;241;43m=\u001B[39;49m\u001B[38;5;28;43;01mTrue\u001B[39;49;00m\u001B[43m,\u001B[49m\u001B[43m \u001B[49m\u001B[43mexon_junction_size\u001B[49m\u001B[38;5;241;43m=\u001B[39;49m\u001B[38;5;241;43m2\u001B[39;49m\u001B[38;5;241;43m*\u001B[39;49m\u001B[43mconfig\u001B[49m\u001B[43m[\u001B[49m\u001B[38;5;124;43m\"\u001B[39;49m\u001B[38;5;124;43moligo_length_max\u001B[39;49m\u001B[38;5;124;43m\"\u001B[39;49m\u001B[43m]\u001B[49m\u001B[43m)\u001B[49m\n",
      "File \u001B[0;32m~/PycharmProjects/oligo-designer-toolsuite_merfish/oligo_designer_toolsuite/database/_genomic_region_generator.py:161\u001B[0m, in \u001B[0;36mCustomGenomicRegionGenerator.generate_transcript_reduced_representation\u001B[0;34m(self, include_exon_junctions, exon_junction_size)\u001B[0m\n\u001B[1;32m    158\u001B[0m exons \u001B[38;5;241m=\u001B[39m \u001B[38;5;28mself\u001B[39m\u001B[38;5;241m.\u001B[39m_get_annotation_region_of_interest(\u001B[38;5;124m\"\u001B[39m\u001B[38;5;124mexon\u001B[39m\u001B[38;5;124m\"\u001B[39m)\n\u001B[1;32m    160\u001B[0m \u001B[38;5;66;03m# get exon and (optionally) exon junction sequences\u001B[39;00m\n\u001B[0;32m--> 161\u001B[0m \u001B[38;5;28;43mself\u001B[39;49m\u001B[38;5;241;43m.\u001B[39;49m\u001B[43m_get_exon_sequence\u001B[49m\u001B[43m(\u001B[49m\n\u001B[1;32m    162\u001B[0m \u001B[43m    \u001B[49m\u001B[43mexons\u001B[49m\u001B[43m,\u001B[49m\n\u001B[1;32m    163\u001B[0m \u001B[43m    \u001B[49m\u001B[43mfile_transcriptome_fasta\u001B[49m\u001B[43m,\u001B[49m\n\u001B[1;32m    164\u001B[0m \u001B[43m    \u001B[49m\u001B[43minclude_exon_junctions\u001B[49m\u001B[43m,\u001B[49m\n\u001B[1;32m    165\u001B[0m \u001B[43m    \u001B[49m\u001B[43mexon_junction_size\u001B[49m\u001B[43m,\u001B[49m\n\u001B[1;32m    166\u001B[0m \u001B[43m\u001B[49m\u001B[43m)\u001B[49m\n\u001B[1;32m    168\u001B[0m \u001B[38;5;66;03m# self._add_header_to_fasta_file(file_transcriptome_fasta)\u001B[39;00m\n\u001B[1;32m    169\u001B[0m \u001B[38;5;28;01mreturn\u001B[39;00m file_transcriptome_fasta\n",
      "File \u001B[0;32m~/PycharmProjects/oligo-designer-toolsuite_merfish/oligo_designer_toolsuite/database/_genomic_region_generator.py:284\u001B[0m, in \u001B[0;36mCustomGenomicRegionGenerator._get_exon_sequence\u001B[0;34m(self, exons, file_transcriptome_fasta, include_exon_junctions, exon_junction_size)\u001B[0m\n\u001B[1;32m    278\u001B[0m \u001B[38;5;66;03m# merges exons with with same start but different end or different start but same end coordinates\u001B[39;00m\n\u001B[1;32m    279\u001B[0m \u001B[38;5;66;03m# since oligos are also created from this transcriptome, disable this function\u001B[39;00m\n\u001B[1;32m    280\u001B[0m \u001B[38;5;66;03m# unique_exons = self._merge_containing_exons(unique_exons)\u001B[39;00m\n\u001B[1;32m    281\u001B[0m \n\u001B[1;32m    282\u001B[0m \u001B[38;5;66;03m# get exon junction annotation and merge annotation for the same region\u001B[39;00m\n\u001B[1;32m    283\u001B[0m \u001B[38;5;28;01mif\u001B[39;00m include_exon_junctions:\n\u001B[0;32m--> 284\u001B[0m     exon_junctions \u001B[38;5;241m=\u001B[39m \u001B[38;5;28;43mself\u001B[39;49m\u001B[38;5;241;43m.\u001B[39;49m\u001B[43m_get_exon_junction_annotation\u001B[49m\u001B[43m(\u001B[49m\n\u001B[1;32m    285\u001B[0m \u001B[43m        \u001B[49m\u001B[43mexons\u001B[49m\u001B[43m,\u001B[49m\u001B[43m \u001B[49m\u001B[43mexon_junction_size\u001B[49m\n\u001B[1;32m    286\u001B[0m \u001B[43m    \u001B[49m\u001B[43m)\u001B[49m\n\u001B[1;32m    288\u001B[0m     unique_exon_junctions \u001B[38;5;241m=\u001B[39m \u001B[38;5;28mself\u001B[39m\u001B[38;5;241m.\u001B[39m_get_unique_exon_junctions(exon_junctions)\n\u001B[1;32m    289\u001B[0m     list_annotations\u001B[38;5;241m.\u001B[39mappend(unique_exon_junctions)\n",
      "File \u001B[0;32m~/PycharmProjects/oligo-designer-toolsuite_merfish/oligo_designer_toolsuite/database/_genomic_region_generator.py:498\u001B[0m, in \u001B[0;36mCustomGenomicRegionGenerator._get_exon_junction_annotation\u001B[0;34m(self, exons, block_size)\u001B[0m\n\u001B[1;32m    495\u001B[0m             regions_exons_small \u001B[38;5;241m=\u001B[39m \u001B[38;5;124m\"\u001B[39m\u001B[38;5;124m\"\u001B[39m\n\u001B[1;32m    496\u001B[0m             exon_upstream \u001B[38;5;241m=\u001B[39m attributes\n\u001B[0;32m--> 498\u001B[0m     exon_junctions \u001B[38;5;241m=\u001B[39m \u001B[43mpd\u001B[49m\u001B[38;5;241;43m.\u001B[39;49m\u001B[43mDataFrame\u001B[49m\u001B[43m(\u001B[49m\n\u001B[1;32m    499\u001B[0m \u001B[43m        \u001B[49m\u001B[43mexon_junction_list\u001B[49m\u001B[43m,\u001B[49m\n\u001B[1;32m    500\u001B[0m \u001B[43m        \u001B[49m\u001B[43mcolumns\u001B[49m\u001B[38;5;241;43m=\u001B[39;49m\u001B[43m[\u001B[49m\n\u001B[1;32m    501\u001B[0m \u001B[43m            \u001B[49m\u001B[38;5;124;43m\"\u001B[39;49m\u001B[38;5;124;43mregion\u001B[39;49m\u001B[38;5;124;43m\"\u001B[39;49m\u001B[43m,\u001B[49m\n\u001B[1;32m    502\u001B[0m \u001B[43m            \u001B[49m\u001B[38;5;124;43m\"\u001B[39;49m\u001B[38;5;124;43mgene_id\u001B[39;49m\u001B[38;5;124;43m\"\u001B[39;49m\u001B[43m,\u001B[49m\n\u001B[1;32m    503\u001B[0m \u001B[43m            \u001B[49m\u001B[38;5;124;43m\"\u001B[39;49m\u001B[38;5;124;43mtranscript_exon_id\u001B[39;49m\u001B[38;5;124;43m\"\u001B[39;49m\u001B[43m,\u001B[49m\n\u001B[1;32m    504\u001B[0m \u001B[43m            \u001B[49m\u001B[38;5;124;43m\"\u001B[39;49m\u001B[38;5;124;43mseqid\u001B[39;49m\u001B[38;5;124;43m\"\u001B[39;49m\u001B[43m,\u001B[49m\n\u001B[1;32m    505\u001B[0m \u001B[43m            \u001B[49m\u001B[38;5;124;43m\"\u001B[39;49m\u001B[38;5;124;43mstart\u001B[39;49m\u001B[38;5;124;43m\"\u001B[39;49m\u001B[43m,\u001B[49m\n\u001B[1;32m    506\u001B[0m \u001B[43m            \u001B[49m\u001B[38;5;124;43m\"\u001B[39;49m\u001B[38;5;124;43mend\u001B[39;49m\u001B[38;5;124;43m\"\u001B[39;49m\u001B[43m,\u001B[49m\n\u001B[1;32m    507\u001B[0m \u001B[43m            \u001B[49m\u001B[38;5;124;43m\"\u001B[39;49m\u001B[38;5;124;43mscore\u001B[39;49m\u001B[38;5;124;43m\"\u001B[39;49m\u001B[43m,\u001B[49m\n\u001B[1;32m    508\u001B[0m \u001B[43m            \u001B[49m\u001B[38;5;124;43m\"\u001B[39;49m\u001B[38;5;124;43mstrand\u001B[39;49m\u001B[38;5;124;43m\"\u001B[39;49m\u001B[43m,\u001B[49m\n\u001B[1;32m    509\u001B[0m \u001B[43m            \u001B[49m\u001B[38;5;124;43m\"\u001B[39;49m\u001B[38;5;124;43mthickStart\u001B[39;49m\u001B[38;5;124;43m\"\u001B[39;49m\u001B[43m,\u001B[49m\n\u001B[1;32m    510\u001B[0m \u001B[43m            \u001B[49m\u001B[38;5;124;43m\"\u001B[39;49m\u001B[38;5;124;43mthickEnd\u001B[39;49m\u001B[38;5;124;43m\"\u001B[39;49m\u001B[43m,\u001B[49m\n\u001B[1;32m    511\u001B[0m \u001B[43m            \u001B[49m\u001B[38;5;124;43m\"\u001B[39;49m\u001B[38;5;124;43mitemRgb\u001B[39;49m\u001B[38;5;124;43m\"\u001B[39;49m\u001B[43m,\u001B[49m\n\u001B[1;32m    512\u001B[0m \u001B[43m            \u001B[49m\u001B[38;5;124;43m\"\u001B[39;49m\u001B[38;5;124;43mblock_count\u001B[39;49m\u001B[38;5;124;43m\"\u001B[39;49m\u001B[43m,\u001B[49m\n\u001B[1;32m    513\u001B[0m \u001B[43m            \u001B[49m\u001B[38;5;124;43m\"\u001B[39;49m\u001B[38;5;124;43mblock_sizes\u001B[39;49m\u001B[38;5;124;43m\"\u001B[39;49m\u001B[43m,\u001B[49m\n\u001B[1;32m    514\u001B[0m \u001B[43m            \u001B[49m\u001B[38;5;124;43m\"\u001B[39;49m\u001B[38;5;124;43mblockStarts\u001B[39;49m\u001B[38;5;124;43m\"\u001B[39;49m\u001B[43m,\u001B[49m\n\u001B[1;32m    515\u001B[0m \u001B[43m        \u001B[49m\u001B[43m]\u001B[49m\u001B[43m,\u001B[49m\n\u001B[1;32m    516\u001B[0m \u001B[43m    \u001B[49m\u001B[43m)\u001B[49m\n\u001B[1;32m    518\u001B[0m \u001B[38;5;28;01mreturn\u001B[39;00m exon_junctions\n",
      "File \u001B[0;32m~/PycharmProjects/oligo-designer-toolsuite_merfish/venv/lib/python3.10/site-packages/pandas/core/frame.py:754\u001B[0m, in \u001B[0;36mDataFrame.__init__\u001B[0;34m(self, data, index, columns, dtype, copy)\u001B[0m\n\u001B[1;32m    745\u001B[0m         columns \u001B[38;5;241m=\u001B[39m ensure_index(columns)\n\u001B[1;32m    746\u001B[0m     arrays, columns, index \u001B[38;5;241m=\u001B[39m nested_data_to_arrays(\n\u001B[1;32m    747\u001B[0m         \u001B[38;5;66;03m# error: Argument 3 to \"nested_data_to_arrays\" has incompatible\u001B[39;00m\n\u001B[1;32m    748\u001B[0m         \u001B[38;5;66;03m# type \"Optional[Collection[Any]]\"; expected \"Optional[Index]\"\u001B[39;00m\n\u001B[0;32m   (...)\u001B[0m\n\u001B[1;32m    752\u001B[0m         dtype,\n\u001B[1;32m    753\u001B[0m     )\n\u001B[0;32m--> 754\u001B[0m     mgr \u001B[38;5;241m=\u001B[39m \u001B[43marrays_to_mgr\u001B[49m\u001B[43m(\u001B[49m\n\u001B[1;32m    755\u001B[0m \u001B[43m        \u001B[49m\u001B[43marrays\u001B[49m\u001B[43m,\u001B[49m\n\u001B[1;32m    756\u001B[0m \u001B[43m        \u001B[49m\u001B[43mcolumns\u001B[49m\u001B[43m,\u001B[49m\n\u001B[1;32m    757\u001B[0m \u001B[43m        \u001B[49m\u001B[43mindex\u001B[49m\u001B[43m,\u001B[49m\n\u001B[1;32m    758\u001B[0m \u001B[43m        \u001B[49m\u001B[43mdtype\u001B[49m\u001B[38;5;241;43m=\u001B[39;49m\u001B[43mdtype\u001B[49m\u001B[43m,\u001B[49m\n\u001B[1;32m    759\u001B[0m \u001B[43m        \u001B[49m\u001B[43mtyp\u001B[49m\u001B[38;5;241;43m=\u001B[39;49m\u001B[43mmanager\u001B[49m\u001B[43m,\u001B[49m\n\u001B[1;32m    760\u001B[0m \u001B[43m    \u001B[49m\u001B[43m)\u001B[49m\n\u001B[1;32m    761\u001B[0m \u001B[38;5;28;01melse\u001B[39;00m:\n\u001B[1;32m    762\u001B[0m     mgr \u001B[38;5;241m=\u001B[39m ndarray_to_mgr(\n\u001B[1;32m    763\u001B[0m         data,\n\u001B[1;32m    764\u001B[0m         index,\n\u001B[0;32m   (...)\u001B[0m\n\u001B[1;32m    768\u001B[0m         typ\u001B[38;5;241m=\u001B[39mmanager,\n\u001B[1;32m    769\u001B[0m     )\n",
      "File \u001B[0;32m~/PycharmProjects/oligo-designer-toolsuite_merfish/venv/lib/python3.10/site-packages/pandas/core/internals/construction.py:154\u001B[0m, in \u001B[0;36marrays_to_mgr\u001B[0;34m(arrays, columns, index, dtype, verify_integrity, typ, consolidate)\u001B[0m\n\u001B[1;32m    151\u001B[0m axes \u001B[38;5;241m=\u001B[39m [columns, index]\n\u001B[1;32m    153\u001B[0m \u001B[38;5;28;01mif\u001B[39;00m typ \u001B[38;5;241m==\u001B[39m \u001B[38;5;124m\"\u001B[39m\u001B[38;5;124mblock\u001B[39m\u001B[38;5;124m\"\u001B[39m:\n\u001B[0;32m--> 154\u001B[0m     \u001B[38;5;28;01mreturn\u001B[39;00m \u001B[43mcreate_block_manager_from_column_arrays\u001B[49m\u001B[43m(\u001B[49m\n\u001B[1;32m    155\u001B[0m \u001B[43m        \u001B[49m\u001B[43marrays\u001B[49m\u001B[43m,\u001B[49m\u001B[43m \u001B[49m\u001B[43maxes\u001B[49m\u001B[43m,\u001B[49m\u001B[43m \u001B[49m\u001B[43mconsolidate\u001B[49m\u001B[38;5;241;43m=\u001B[39;49m\u001B[43mconsolidate\u001B[49m\n\u001B[1;32m    156\u001B[0m \u001B[43m    \u001B[49m\u001B[43m)\u001B[49m\n\u001B[1;32m    157\u001B[0m \u001B[38;5;28;01melif\u001B[39;00m typ \u001B[38;5;241m==\u001B[39m \u001B[38;5;124m\"\u001B[39m\u001B[38;5;124marray\u001B[39m\u001B[38;5;124m\"\u001B[39m:\n\u001B[1;32m    158\u001B[0m     \u001B[38;5;28;01mreturn\u001B[39;00m ArrayManager(arrays, [index, columns])\n",
      "File \u001B[0;32m~/PycharmProjects/oligo-designer-toolsuite_merfish/venv/lib/python3.10/site-packages/pandas/core/internals/managers.py:2204\u001B[0m, in \u001B[0;36mcreate_block_manager_from_column_arrays\u001B[0;34m(arrays, axes, consolidate)\u001B[0m\n\u001B[1;32m   2202\u001B[0m     \u001B[38;5;28;01mraise\u001B[39;00m construction_error(\u001B[38;5;28mlen\u001B[39m(arrays), arrays[\u001B[38;5;241m0\u001B[39m]\u001B[38;5;241m.\u001B[39mshape, axes, e)\n\u001B[1;32m   2203\u001B[0m \u001B[38;5;28;01mif\u001B[39;00m consolidate:\n\u001B[0;32m-> 2204\u001B[0m     \u001B[43mmgr\u001B[49m\u001B[38;5;241;43m.\u001B[39;49m\u001B[43m_consolidate_inplace\u001B[49m\u001B[43m(\u001B[49m\u001B[43m)\u001B[49m\n\u001B[1;32m   2205\u001B[0m \u001B[38;5;28;01mreturn\u001B[39;00m mgr\n",
      "File \u001B[0;32m~/PycharmProjects/oligo-designer-toolsuite_merfish/venv/lib/python3.10/site-packages/pandas/core/internals/managers.py:1871\u001B[0m, in \u001B[0;36mBlockManager._consolidate_inplace\u001B[0;34m(self)\u001B[0m\n\u001B[1;32m   1869\u001B[0m \u001B[38;5;28;01mif\u001B[39;00m \u001B[38;5;129;01mnot\u001B[39;00m \u001B[38;5;28mself\u001B[39m\u001B[38;5;241m.\u001B[39mis_consolidated():\n\u001B[1;32m   1870\u001B[0m     \u001B[38;5;28;01mif\u001B[39;00m \u001B[38;5;28mself\u001B[39m\u001B[38;5;241m.\u001B[39mrefs \u001B[38;5;129;01mis\u001B[39;00m \u001B[38;5;28;01mNone\u001B[39;00m:\n\u001B[0;32m-> 1871\u001B[0m         \u001B[38;5;28mself\u001B[39m\u001B[38;5;241m.\u001B[39mblocks \u001B[38;5;241m=\u001B[39m \u001B[43m_consolidate\u001B[49m\u001B[43m(\u001B[49m\u001B[38;5;28;43mself\u001B[39;49m\u001B[38;5;241;43m.\u001B[39;49m\u001B[43mblocks\u001B[49m\u001B[43m)\u001B[49m\n\u001B[1;32m   1872\u001B[0m     \u001B[38;5;28;01melse\u001B[39;00m:\n\u001B[1;32m   1873\u001B[0m         \u001B[38;5;28mself\u001B[39m\u001B[38;5;241m.\u001B[39mblocks, \u001B[38;5;28mself\u001B[39m\u001B[38;5;241m.\u001B[39mrefs \u001B[38;5;241m=\u001B[39m _consolidate_with_refs(\u001B[38;5;28mself\u001B[39m\u001B[38;5;241m.\u001B[39mblocks, \u001B[38;5;28mself\u001B[39m\u001B[38;5;241m.\u001B[39mrefs)\n",
      "File \u001B[0;32m~/PycharmProjects/oligo-designer-toolsuite_merfish/venv/lib/python3.10/site-packages/pandas/core/internals/managers.py:2329\u001B[0m, in \u001B[0;36m_consolidate\u001B[0;34m(blocks)\u001B[0m\n\u001B[1;32m   2327\u001B[0m new_blocks: \u001B[38;5;28mlist\u001B[39m[Block] \u001B[38;5;241m=\u001B[39m []\n\u001B[1;32m   2328\u001B[0m \u001B[38;5;28;01mfor\u001B[39;00m (_can_consolidate, dtype), group_blocks \u001B[38;5;129;01min\u001B[39;00m grouper:\n\u001B[0;32m-> 2329\u001B[0m     merged_blocks, _ \u001B[38;5;241m=\u001B[39m \u001B[43m_merge_blocks\u001B[49m\u001B[43m(\u001B[49m\n\u001B[1;32m   2330\u001B[0m \u001B[43m        \u001B[49m\u001B[38;5;28;43mlist\u001B[39;49m\u001B[43m(\u001B[49m\u001B[43mgroup_blocks\u001B[49m\u001B[43m)\u001B[49m\u001B[43m,\u001B[49m\u001B[43m \u001B[49m\u001B[43mdtype\u001B[49m\u001B[38;5;241;43m=\u001B[39;49m\u001B[43mdtype\u001B[49m\u001B[43m,\u001B[49m\u001B[43m \u001B[49m\u001B[43mcan_consolidate\u001B[49m\u001B[38;5;241;43m=\u001B[39;49m\u001B[43m_can_consolidate\u001B[49m\n\u001B[1;32m   2331\u001B[0m \u001B[43m    \u001B[49m\u001B[43m)\u001B[49m\n\u001B[1;32m   2332\u001B[0m     new_blocks \u001B[38;5;241m=\u001B[39m extend_blocks(merged_blocks, new_blocks)\n\u001B[1;32m   2333\u001B[0m \u001B[38;5;28;01mreturn\u001B[39;00m \u001B[38;5;28mtuple\u001B[39m(new_blocks)\n",
      "File \u001B[0;32m~/PycharmProjects/oligo-designer-toolsuite_merfish/venv/lib/python3.10/site-packages/pandas/core/internals/managers.py:2387\u001B[0m, in \u001B[0;36m_merge_blocks\u001B[0;34m(blocks, dtype, can_consolidate)\u001B[0m\n\u001B[1;32m   2384\u001B[0m     bvals2 \u001B[38;5;241m=\u001B[39m cast(Sequence[NDArrayBackedExtensionArray], bvals)\n\u001B[1;32m   2385\u001B[0m     new_values \u001B[38;5;241m=\u001B[39m bvals2[\u001B[38;5;241m0\u001B[39m]\u001B[38;5;241m.\u001B[39m_concat_same_type(bvals2, axis\u001B[38;5;241m=\u001B[39m\u001B[38;5;241m0\u001B[39m)\n\u001B[0;32m-> 2387\u001B[0m argsort \u001B[38;5;241m=\u001B[39m \u001B[43mnp\u001B[49m\u001B[38;5;241;43m.\u001B[39;49m\u001B[43margsort\u001B[49m\u001B[43m(\u001B[49m\u001B[43mnew_mgr_locs\u001B[49m\u001B[43m)\u001B[49m\n\u001B[1;32m   2388\u001B[0m new_values \u001B[38;5;241m=\u001B[39m new_values[argsort]\n\u001B[1;32m   2389\u001B[0m new_mgr_locs \u001B[38;5;241m=\u001B[39m new_mgr_locs[argsort]\n",
      "File \u001B[0;32m<__array_function__ internals>:200\u001B[0m, in \u001B[0;36margsort\u001B[0;34m(*args, **kwargs)\u001B[0m\n",
      "File \u001B[0;32m~/PycharmProjects/oligo-designer-toolsuite_merfish/venv/lib/python3.10/site-packages/numpy/core/fromnumeric.py:1146\u001B[0m, in \u001B[0;36margsort\u001B[0;34m(a, axis, kind, order)\u001B[0m\n\u001B[1;32m   1038\u001B[0m \u001B[38;5;129m@array_function_dispatch\u001B[39m(_argsort_dispatcher)\n\u001B[1;32m   1039\u001B[0m \u001B[38;5;28;01mdef\u001B[39;00m \u001B[38;5;21margsort\u001B[39m(a, axis\u001B[38;5;241m=\u001B[39m\u001B[38;5;241m-\u001B[39m\u001B[38;5;241m1\u001B[39m, kind\u001B[38;5;241m=\u001B[39m\u001B[38;5;28;01mNone\u001B[39;00m, order\u001B[38;5;241m=\u001B[39m\u001B[38;5;28;01mNone\u001B[39;00m):\n\u001B[1;32m   1040\u001B[0m \u001B[38;5;250m    \u001B[39m\u001B[38;5;124;03m\"\"\"\u001B[39;00m\n\u001B[1;32m   1041\u001B[0m \u001B[38;5;124;03m    Returns the indices that would sort an array.\u001B[39;00m\n\u001B[1;32m   1042\u001B[0m \n\u001B[0;32m   (...)\u001B[0m\n\u001B[1;32m   1144\u001B[0m \n\u001B[1;32m   1145\u001B[0m \u001B[38;5;124;03m    \"\"\"\u001B[39;00m\n\u001B[0;32m-> 1146\u001B[0m     \u001B[38;5;28;01mreturn\u001B[39;00m \u001B[43m_wrapfunc\u001B[49m\u001B[43m(\u001B[49m\u001B[43ma\u001B[49m\u001B[43m,\u001B[49m\u001B[43m \u001B[49m\u001B[38;5;124;43m'\u001B[39;49m\u001B[38;5;124;43margsort\u001B[39;49m\u001B[38;5;124;43m'\u001B[39;49m\u001B[43m,\u001B[49m\u001B[43m \u001B[49m\u001B[43maxis\u001B[49m\u001B[38;5;241;43m=\u001B[39;49m\u001B[43maxis\u001B[49m\u001B[43m,\u001B[49m\u001B[43m \u001B[49m\u001B[43mkind\u001B[49m\u001B[38;5;241;43m=\u001B[39;49m\u001B[43mkind\u001B[49m\u001B[43m,\u001B[49m\u001B[43m \u001B[49m\u001B[43morder\u001B[49m\u001B[38;5;241;43m=\u001B[39;49m\u001B[43morder\u001B[49m\u001B[43m)\u001B[49m\n",
      "File \u001B[0;32m~/PycharmProjects/oligo-designer-toolsuite_merfish/venv/lib/python3.10/site-packages/numpy/core/fromnumeric.py:57\u001B[0m, in \u001B[0;36m_wrapfunc\u001B[0;34m(obj, method, *args, **kwds)\u001B[0m\n\u001B[1;32m     54\u001B[0m     \u001B[38;5;28;01mreturn\u001B[39;00m _wrapit(obj, method, \u001B[38;5;241m*\u001B[39margs, \u001B[38;5;241m*\u001B[39m\u001B[38;5;241m*\u001B[39mkwds)\n\u001B[1;32m     56\u001B[0m \u001B[38;5;28;01mtry\u001B[39;00m:\n\u001B[0;32m---> 57\u001B[0m     \u001B[38;5;28;01mreturn\u001B[39;00m \u001B[43mbound\u001B[49m\u001B[43m(\u001B[49m\u001B[38;5;241;43m*\u001B[39;49m\u001B[43margs\u001B[49m\u001B[43m,\u001B[49m\u001B[43m \u001B[49m\u001B[38;5;241;43m*\u001B[39;49m\u001B[38;5;241;43m*\u001B[39;49m\u001B[43mkwds\u001B[49m\u001B[43m)\u001B[49m\n\u001B[1;32m     58\u001B[0m \u001B[38;5;28;01mexcept\u001B[39;00m \u001B[38;5;167;01mTypeError\u001B[39;00m:\n\u001B[1;32m     59\u001B[0m     \u001B[38;5;66;03m# A TypeError occurs if the object does have such a method in its\u001B[39;00m\n\u001B[1;32m     60\u001B[0m     \u001B[38;5;66;03m# class, but its signature is not identical to that of NumPy's. This\u001B[39;00m\n\u001B[0;32m   (...)\u001B[0m\n\u001B[1;32m     64\u001B[0m     \u001B[38;5;66;03m# Call _wrapit from within the except clause to ensure a potential\u001B[39;00m\n\u001B[1;32m     65\u001B[0m     \u001B[38;5;66;03m# exception has a traceback chain.\u001B[39;00m\n\u001B[1;32m     66\u001B[0m     \u001B[38;5;28;01mreturn\u001B[39;00m _wrapit(obj, method, \u001B[38;5;241m*\u001B[39margs, \u001B[38;5;241m*\u001B[39m\u001B[38;5;241m*\u001B[39mkwds)\n",
      "\u001B[0;31mKeyboardInterrupt\u001B[0m: "
     ]
    }
   ],
   "source": [
    "from oligo_designer_toolsuite.database import CustomGenomicRegionGenerator, NcbiGenomicRegionGenerator, EnsemblGenomicRegionGenerator\n",
    "\n",
    "# If the custom config file is selected\n",
    "if config[\"source\"] == \"custom\":\n",
    "    region_generator_custom = CustomGenomicRegionGenerator(\n",
    "        annotation_file=config[\"file_annotation\"], \n",
    "        sequence_file=config[\"file_sequence\"], \n",
    "        files_source=config[\"files_source\"], \n",
    "        species=config[\"species\"], \n",
    "        annotation_release=config[\"annotation_release\"], \n",
    "        genome_assembly=config[\"genome_assembly\"],\n",
    "        dir_output=dir_output\n",
    "    )\n",
    "# If the Ncbi config file is selected\n",
    "elif config[\"source\"] == \"ncbi\":\n",
    "    region_generator = NcbiGenomicRegionGenerator(\n",
    "        taxon=config[\"taxon\"],\n",
    "        species=config[\"species\"], \n",
    "        annotation_release=config[\"annotation_release\"], \n",
    "        dir_output=dir_output\n",
    "    )\n",
    "# If the Ensembl config file is generated\n",
    "elif config[\"source\"] == \"ensembl\":\n",
    "    region_generator = EnsemblGenomicRegionGenerator(\n",
    "        species=config[\"species\"], \n",
    "        annotation_release=config[\"annotation_release\"], \n",
    "        dir_output=dir_output\n",
    "    )\n",
    "\n",
    "file_transcriptome = region_generator_custom.generate_transcript_reduced_representation(include_exon_junctions=True, exon_junction_size=2*config[\"oligo_length_max\"])"
   ]
  },
  {
   "cell_type": "code",
   "execution_count": null,
   "outputs": [],
   "source": [
    "file_transcriptome"
   ],
   "metadata": {
    "collapsed": false
   }
  },
  {
   "attachments": {},
   "cell_type": "markdown",
   "metadata": {},
   "source": [
    "## Oligo sequences generation\n",
    "\n",
    "\n",
    "Next we will generate all the possible oligos with length between the maximum and minimum value given belonging to the genes defined in the config file. For this we intialize the class ``OligoDatabase`` and use the meothod ``create_database()``.  \n",
    "The ``OligoDatabase`` requires a fasta file as input. This fasta file can be created using a ``GenomicRegionGenerator`` (see code in cell above) or a custom fasta file can be provided. The input fasta file needs a header for each sequence, which must start with '>' and contain the following information: \n",
    "region_id, additional_information and coordinates (chrom, start, end, strand), where the region_id is compulsory and the other fileds are opional.\n",
    "\n",
    "Input Format (per sequence):  \n",
    "`>region_id::additional information::chromosome:start-end(strand)`  \n",
    "`sequence`\n",
    "\n",
    "Example:  \n",
    "`>ASR1::transcrip_id=XM456,exon_number=5::16:54552-54786(+)`  \n",
    "`AGTTGACAGACCCCAGATTAAAGTGTGTCGCGCAACAC`  \n",
    "or   \n",
    "`>ASR1`  \n",
    "`AGTTGACAGACCCCAGATTAAAGTGTGTCGCGCAACAC`\n",
    "\n",
    "The generated probes will be saved in a nested dicionary with the following structure: \n",
    "\n",
    "``[gene][oligo_id][oligo_features]``\n",
    "\n",
    "*Note: if you already have a stored database you can load it into an OligoDatabase object by using the ``load_oligo_database()`` function.*"
   ]
  },
  {
   "cell_type": "code",
   "execution_count": 1,
   "outputs": [
    {
     "name": "stdout",
     "output_type": "stream",
     "text": [
      "bc25mer\n",
      "bc25mer\n",
      "bc25mer\n",
      "bc25mer\n",
      "bc25mer\n"
     ]
    }
   ],
   "source": [
    "from oligo_designer_toolsuite.database import OligoDatabase\n",
    "file_transcriptome = \"/home/cw/PycharmProjects/oligo-designer-toolsuite_merfish/oligo_designer_toolsuite/experiment_specific/oligos_creation/bc25mer_test.fasta\"\n",
    "# define the database class\n",
    "oligo_database = OligoDatabase(\n",
    "    file_fasta = file_transcriptome,\n",
    "    oligo_length_min = 19,\n",
    "    oligo_length_max = 25,\n",
    "    files_source = \"bc25mer\",\n",
    "    species = \"None\",\n",
    "    annotation_release = \"None\",\n",
    "    genome_assembly = \"None\",\n",
    "    n_jobs = 1,\n",
    "    dir_output=\"/home/cw/PycharmProjects/oligo-designer-toolsuite_merfish/oligo_designer_toolsuite/experiment_specific\"\n",
    ")\n",
    "oligo_database.create_database()\n"
   ],
   "metadata": {
    "collapsed": false
   }
  },
  {
   "cell_type": "code",
   "execution_count": 3,
   "outputs": [
    {
     "data": {
      "text/plain": "['bc25mer_1', 'bc25mer_2', 'bc25mer_3', 'bc25mer_4', 'bc25mer_5']"
     },
     "execution_count": 3,
     "metadata": {},
     "output_type": "execute_result"
    }
   ],
   "source": [
    "list(oligo_database.database.keys())"
   ],
   "metadata": {
    "collapsed": false
   }
  },
  {
   "cell_type": "code",
   "execution_count": 2,
   "outputs": [
    {
     "name": "stdout",
     "output_type": "stream",
     "text": [
      "{'bc25mer_1': {'bc25mer_1_None:Unknown-Unknown(None)': {'sequence': Seq('TATGAGGACGAATCTCCCGCTTATA'), 'chromosome': None, 'start': ['Unknown'], 'end': ['Unknown'], 'strand': None, 'length': 25, 'additional_information_fasta': [[]]}}}\n"
     ]
    }
   ],
   "source": [
    "gene = list(oligo_database.database.keys())[0]\n",
    "oligo_id = list(oligo_database.database[gene].keys())[0]\n",
    "\n",
    "sample_oligos_DB = {gene: {oligo_id: oligo_database.database[gene][oligo_id]}}\n",
    "print(sample_oligos_DB)"
   ],
   "metadata": {
    "collapsed": false
   }
  },
  {
   "cell_type": "code",
   "execution_count": 3,
   "outputs": [
    {
     "ename": "NameError",
     "evalue": "name 'get_oligos_info' is not defined",
     "output_type": "error",
     "traceback": [
      "\u001B[0;31m---------------------------------------------------------------------------\u001B[0m",
      "\u001B[0;31mEmpty\u001B[0m                                     Traceback (most recent call last)",
      "File \u001B[0;32m~/PycharmProjects/oligo-designer-toolsuite_merfish/venv/lib/python3.10/site-packages/joblib/parallel.py:862\u001B[0m, in \u001B[0;36mParallel.dispatch_one_batch\u001B[0;34m(self, iterator)\u001B[0m\n\u001B[1;32m    861\u001B[0m \u001B[38;5;28;01mtry\u001B[39;00m:\n\u001B[0;32m--> 862\u001B[0m     tasks \u001B[38;5;241m=\u001B[39m \u001B[38;5;28;43mself\u001B[39;49m\u001B[38;5;241;43m.\u001B[39;49m\u001B[43m_ready_batches\u001B[49m\u001B[38;5;241;43m.\u001B[39;49m\u001B[43mget\u001B[49m\u001B[43m(\u001B[49m\u001B[43mblock\u001B[49m\u001B[38;5;241;43m=\u001B[39;49m\u001B[38;5;28;43;01mFalse\u001B[39;49;00m\u001B[43m)\u001B[49m\n\u001B[1;32m    863\u001B[0m \u001B[38;5;28;01mexcept\u001B[39;00m queue\u001B[38;5;241m.\u001B[39mEmpty:\n\u001B[1;32m    864\u001B[0m     \u001B[38;5;66;03m# slice the iterator n_jobs * batchsize items at a time. If the\u001B[39;00m\n\u001B[1;32m    865\u001B[0m     \u001B[38;5;66;03m# slice returns less than that, then the current batchsize puts\u001B[39;00m\n\u001B[0;32m   (...)\u001B[0m\n\u001B[1;32m    868\u001B[0m     \u001B[38;5;66;03m# accordingly to distribute evenly the last items between all\u001B[39;00m\n\u001B[1;32m    869\u001B[0m     \u001B[38;5;66;03m# workers.\u001B[39;00m\n",
      "File \u001B[0;32m/usr/lib/python3.10/queue.py:168\u001B[0m, in \u001B[0;36mQueue.get\u001B[0;34m(self, block, timeout)\u001B[0m\n\u001B[1;32m    167\u001B[0m     \u001B[38;5;28;01mif\u001B[39;00m \u001B[38;5;129;01mnot\u001B[39;00m \u001B[38;5;28mself\u001B[39m\u001B[38;5;241m.\u001B[39m_qsize():\n\u001B[0;32m--> 168\u001B[0m         \u001B[38;5;28;01mraise\u001B[39;00m Empty\n\u001B[1;32m    169\u001B[0m \u001B[38;5;28;01melif\u001B[39;00m timeout \u001B[38;5;129;01mis\u001B[39;00m \u001B[38;5;28;01mNone\u001B[39;00m:\n",
      "\u001B[0;31mEmpty\u001B[0m: ",
      "\nDuring handling of the above exception, another exception occurred:\n",
      "\u001B[0;31mNameError\u001B[0m                                 Traceback (most recent call last)",
      "Cell \u001B[0;32mIn[3], line 21\u001B[0m\n\u001B[1;32m     19\u001B[0m \u001B[38;5;66;03m#region_ids\u001B[39;00m\n\u001B[1;32m     20\u001B[0m database \u001B[38;5;241m=\u001B[39m {}\n\u001B[0;32m---> 21\u001B[0m results \u001B[38;5;241m=\u001B[39m \u001B[43mParallel\u001B[49m\u001B[43m(\u001B[49m\u001B[43mn_jobs\u001B[49m\u001B[38;5;241;43m=\u001B[39;49m\u001B[38;5;241;43m1\u001B[39;49m\u001B[43m)\u001B[49m\u001B[43m(\u001B[49m\n\u001B[1;32m     22\u001B[0m \u001B[43m    \u001B[49m\u001B[43mdelayed\u001B[49m\u001B[43m(\u001B[49m\u001B[43mget_oligos_info\u001B[49m\u001B[43m)\u001B[49m\u001B[43m(\u001B[49m\u001B[43mregion_id\u001B[49m\u001B[43m,\u001B[49m\u001B[43m \u001B[49m\u001B[43mregion_sequences\u001B[49m\u001B[43m[\u001B[49m\u001B[43mregion_id\u001B[49m\u001B[43m]\u001B[49m\u001B[43m)\u001B[49m\n\u001B[1;32m     23\u001B[0m \u001B[43m    \u001B[49m\u001B[38;5;28;43;01mfor\u001B[39;49;00m\u001B[43m \u001B[49m\u001B[43mregion_id\u001B[49m\u001B[43m \u001B[49m\u001B[38;5;129;43;01min\u001B[39;49;00m\u001B[43m \u001B[49m\u001B[43mregion_ids\u001B[49m\n\u001B[1;32m     24\u001B[0m \u001B[43m)\u001B[49m\n",
      "File \u001B[0;32m~/PycharmProjects/oligo-designer-toolsuite_merfish/venv/lib/python3.10/site-packages/joblib/parallel.py:1085\u001B[0m, in \u001B[0;36mParallel.__call__\u001B[0;34m(self, iterable)\u001B[0m\n\u001B[1;32m   1076\u001B[0m \u001B[38;5;28;01mtry\u001B[39;00m:\n\u001B[1;32m   1077\u001B[0m     \u001B[38;5;66;03m# Only set self._iterating to True if at least a batch\u001B[39;00m\n\u001B[1;32m   1078\u001B[0m     \u001B[38;5;66;03m# was dispatched. In particular this covers the edge\u001B[39;00m\n\u001B[0;32m   (...)\u001B[0m\n\u001B[1;32m   1082\u001B[0m     \u001B[38;5;66;03m# was very quick and its callback already dispatched all the\u001B[39;00m\n\u001B[1;32m   1083\u001B[0m     \u001B[38;5;66;03m# remaining jobs.\u001B[39;00m\n\u001B[1;32m   1084\u001B[0m     \u001B[38;5;28mself\u001B[39m\u001B[38;5;241m.\u001B[39m_iterating \u001B[38;5;241m=\u001B[39m \u001B[38;5;28;01mFalse\u001B[39;00m\n\u001B[0;32m-> 1085\u001B[0m     \u001B[38;5;28;01mif\u001B[39;00m \u001B[38;5;28;43mself\u001B[39;49m\u001B[38;5;241;43m.\u001B[39;49m\u001B[43mdispatch_one_batch\u001B[49m\u001B[43m(\u001B[49m\u001B[43miterator\u001B[49m\u001B[43m)\u001B[49m:\n\u001B[1;32m   1086\u001B[0m         \u001B[38;5;28mself\u001B[39m\u001B[38;5;241m.\u001B[39m_iterating \u001B[38;5;241m=\u001B[39m \u001B[38;5;28mself\u001B[39m\u001B[38;5;241m.\u001B[39m_original_iterator \u001B[38;5;129;01mis\u001B[39;00m \u001B[38;5;129;01mnot\u001B[39;00m \u001B[38;5;28;01mNone\u001B[39;00m\n\u001B[1;32m   1088\u001B[0m     \u001B[38;5;28;01mwhile\u001B[39;00m \u001B[38;5;28mself\u001B[39m\u001B[38;5;241m.\u001B[39mdispatch_one_batch(iterator):\n",
      "File \u001B[0;32m~/PycharmProjects/oligo-designer-toolsuite_merfish/venv/lib/python3.10/site-packages/joblib/parallel.py:873\u001B[0m, in \u001B[0;36mParallel.dispatch_one_batch\u001B[0;34m(self, iterator)\u001B[0m\n\u001B[1;32m    870\u001B[0m n_jobs \u001B[38;5;241m=\u001B[39m \u001B[38;5;28mself\u001B[39m\u001B[38;5;241m.\u001B[39m_cached_effective_n_jobs\n\u001B[1;32m    871\u001B[0m big_batch_size \u001B[38;5;241m=\u001B[39m batch_size \u001B[38;5;241m*\u001B[39m n_jobs\n\u001B[0;32m--> 873\u001B[0m islice \u001B[38;5;241m=\u001B[39m \u001B[38;5;28;43mlist\u001B[39;49m\u001B[43m(\u001B[49m\u001B[43mitertools\u001B[49m\u001B[38;5;241;43m.\u001B[39;49m\u001B[43mislice\u001B[49m\u001B[43m(\u001B[49m\u001B[43miterator\u001B[49m\u001B[43m,\u001B[49m\u001B[43m \u001B[49m\u001B[43mbig_batch_size\u001B[49m\u001B[43m)\u001B[49m\u001B[43m)\u001B[49m\n\u001B[1;32m    874\u001B[0m \u001B[38;5;28;01mif\u001B[39;00m \u001B[38;5;28mlen\u001B[39m(islice) \u001B[38;5;241m==\u001B[39m \u001B[38;5;241m0\u001B[39m:\n\u001B[1;32m    875\u001B[0m     \u001B[38;5;28;01mreturn\u001B[39;00m \u001B[38;5;28;01mFalse\u001B[39;00m\n",
      "Cell \u001B[0;32mIn[3], line 22\u001B[0m, in \u001B[0;36m<genexpr>\u001B[0;34m(.0)\u001B[0m\n\u001B[1;32m     19\u001B[0m \u001B[38;5;66;03m#region_ids\u001B[39;00m\n\u001B[1;32m     20\u001B[0m database \u001B[38;5;241m=\u001B[39m {}\n\u001B[1;32m     21\u001B[0m results \u001B[38;5;241m=\u001B[39m Parallel(n_jobs\u001B[38;5;241m=\u001B[39m\u001B[38;5;241m1\u001B[39m)(\n\u001B[0;32m---> 22\u001B[0m     delayed(\u001B[43mget_oligos_info\u001B[49m)(region_id, region_sequences[region_id])\n\u001B[1;32m     23\u001B[0m     \u001B[38;5;28;01mfor\u001B[39;00m region_id \u001B[38;5;129;01min\u001B[39;00m region_ids\n\u001B[1;32m     24\u001B[0m )\n",
      "\u001B[0;31mNameError\u001B[0m: name 'get_oligos_info' is not defined"
     ]
    }
   ],
   "source": [
    "from joblib import Parallel, delayed\n",
    "from oligo_designer_toolsuite.utils import parse_fasta_header\n",
    "from Bio import SeqIO\n",
    "file_fasta = \"/home/cw/PycharmProjects/oligo-designer-toolsuite_merfish/oligo_designer_toolsuite/experiment_specific/oligos_creation/bc25mer.240k.fasta\"\n",
    "\n",
    "with open(file_fasta, \"r\") as handle:\n",
    "    sequences = list(SeqIO.parse(handle, \"fasta\"))\n",
    "\n",
    "region_sequences = {}\n",
    "for entry in sequences:\n",
    "    region, _, _ = parse_fasta_header(entry.id)\n",
    "    if region in region_sequences:\n",
    "        region_sequences[region].append(entry)\n",
    "    else:\n",
    "        region_sequences[region] = [entry]\n",
    "\n",
    "\n",
    "region_ids = region_sequences.keys()\n",
    "#region_ids\n",
    "database = {}\n",
    "results = Parallel(n_jobs=1)(\n",
    "    delayed(get_oligos_info)(region_id, region_sequences[region_id])\n",
    "    for region_id in region_ids\n",
    ")"
   ],
   "metadata": {
    "collapsed": false
   }
  },
  {
   "cell_type": "code",
   "execution_count": 11,
   "metadata": {},
   "outputs": [],
   "source": [
    "from oligo_designer_toolsuite.database import OligoDatabase\n",
    "file_transcriptome = \"/home/cw/PycharmProjects/oligo-designer-toolsuite_merfish/oligo_designer_toolsuite/experiment_specific/oligos_creation/bc25mer.240k.fasta\"\n",
    "# define the database class\n",
    "oligo_database = OligoDatabase(\n",
    "    file_fasta = file_transcriptome,\n",
    "    oligo_length_min = 20,\n",
    "    oligo_length_max = 30,\n",
    "    min_oligos_per_region = 1,\n",
    "    files_source = \"bc25mer\",\n",
    "    species = \"None\",\n",
    "    annotation_release = \"None\",\n",
    "    genome_assembly = \"None\",\n",
    "    n_jobs = 2,\n",
    "    dir_output=\"/home/cw/PycharmProjects/oligo-designer-toolsuite_merfish/oligo_designer_toolsuite/experiment_specific\"\n",
    ")\n",
    "\n",
    "# read the genes file\n",
    "if config[\"file_genes\"] is None:\n",
    "    warnings.warn(\n",
    "        \"No file containing the genes was provided, all the genes are ussed to generate the probes. This chioce can use a lot of resources.\"\n",
    "    )\n",
    "    genes = None\n",
    "else:\n",
    "    with open(config[\"file_genes\"]) as handle:\n",
    "        lines = handle.readlines()\n",
    "        genes = [line.rstrip() for line in lines]\n",
    "        \n",
    "# generate the oligo sequences from gene transcripts\n",
    "oligo_database.create_database(region_ids=genes)\n",
    "\n",
    "# alternative: load database from file\n",
    "\n",
    "#oligo_database.load_oligo_database(file_database)"
   ]
  },
  {
   "cell_type": "code",
   "execution_count": 15,
   "outputs": [
    {
     "data": {
      "text/plain": "['AARS1', 'DECR2', 'FAM234A', 'RHBDF1', 'WASIR2']"
     },
     "execution_count": 15,
     "metadata": {},
     "output_type": "execute_result"
    }
   ],
   "source": [
    "genes"
   ],
   "metadata": {
    "collapsed": false
   }
  },
  {
   "cell_type": "code",
   "execution_count": 10,
   "outputs": [
    {
     "ename": "NameError",
     "evalue": "name 'oligo_database' is not defined",
     "output_type": "error",
     "traceback": [
      "\u001B[0;31m---------------------------------------------------------------------------\u001B[0m",
      "\u001B[0;31mNameError\u001B[0m                                 Traceback (most recent call last)",
      "Cell \u001B[0;32mIn[10], line 1\u001B[0m\n\u001B[0;32m----> 1\u001B[0m \u001B[43moligo_database\u001B[49m\u001B[38;5;241m.\u001B[39mload_oligo_database(\u001B[38;5;124m\"\u001B[39m\u001B[38;5;124m/home/cw/PycharmProjects/oligo-designer-toolsuite_merfish/tutorials/data/oligos_creation/oligo_DB_human_GRCh38.p14_NCBI_release_current_transcripts.tsv\u001B[39m\u001B[38;5;124m\"\u001B[39m)\n",
      "\u001B[0;31mNameError\u001B[0m: name 'oligo_database' is not defined"
     ]
    }
   ],
   "source": [
    "oligo_database.load_oligo_database(\"/home/cw/PycharmProjects/oligo-designer-toolsuite_merfish/tutorials/data/oligos_creation/oligo_DB_human_GRCh38.p14_NCBI_release_current_transcripts.tsv\")"
   ],
   "metadata": {
    "collapsed": false
   }
  },
  {
   "attachments": {},
   "cell_type": "markdown",
   "metadata": {},
   "source": [
    "### Dictionary structure\n",
    "\n",
    "Here is an example of how the nested dictionary is structured for one oligo."
   ]
  },
  {
   "cell_type": "code",
   "execution_count": 7,
   "metadata": {},
   "outputs": [
    {
     "ename": "IndexError",
     "evalue": "list index out of range",
     "output_type": "error",
     "traceback": [
      "\u001B[0;31m---------------------------------------------------------------------------\u001B[0m",
      "\u001B[0;31mIndexError\u001B[0m                                Traceback (most recent call last)",
      "Cell \u001B[0;32mIn[7], line 1\u001B[0m\n\u001B[0;32m----> 1\u001B[0m gene \u001B[38;5;241m=\u001B[39m \u001B[38;5;28;43mlist\u001B[39;49m\u001B[43m(\u001B[49m\u001B[43moligo_database\u001B[49m\u001B[38;5;241;43m.\u001B[39;49m\u001B[43mdatabase\u001B[49m\u001B[38;5;241;43m.\u001B[39;49m\u001B[43mkeys\u001B[49m\u001B[43m(\u001B[49m\u001B[43m)\u001B[49m\u001B[43m)\u001B[49m\u001B[43m[\u001B[49m\u001B[38;5;241;43m0\u001B[39;49m\u001B[43m]\u001B[49m\n\u001B[1;32m      2\u001B[0m oligo_id \u001B[38;5;241m=\u001B[39m \u001B[38;5;28mlist\u001B[39m(oligo_database\u001B[38;5;241m.\u001B[39mdatabase[gene]\u001B[38;5;241m.\u001B[39mkeys())[\u001B[38;5;241m0\u001B[39m]\n\u001B[1;32m      4\u001B[0m sample_oligos_DB \u001B[38;5;241m=\u001B[39m {gene: {oligo_id: oligo_database\u001B[38;5;241m.\u001B[39mdatabase[gene][oligo_id]}}\n",
      "\u001B[0;31mIndexError\u001B[0m: list index out of range"
     ]
    }
   ],
   "source": [
    "gene = list(oligo_database.database.keys())[0]\n",
    "oligo_id = list(oligo_database.database[gene].keys())[0]\n",
    "\n",
    "sample_oligos_DB = {gene: {oligo_id: oligo_database.database[gene][oligo_id]}}\n",
    "print(sample_oligos_DB)"
   ]
  },
  {
   "attachments": {},
   "cell_type": "markdown",
   "metadata": {},
   "source": [
    "### Read and write\n",
    "\n",
    "The ``OligoDatabase`` class deals with everything that is related to the management of the database. In particular, beyond creatig the database, it can also read and write the oligo sequences in a **tsv** fromat. The methods `load_database()` and `write_database()`,  have exactly this purpose. It is also possible to write the sequences as a fasta file with the method ``write_fasta_from_database()``.\n",
    "\n",
    "This allows us to save the current state of the database during the pipeline and to retrive it form a previous stage if an error uccurred."
   ]
  },
  {
   "cell_type": "code",
   "execution_count": 7,
   "metadata": {},
   "outputs": [],
   "source": [
    "if config[\"write_intermediate_steps\"]:\n",
    "    file_database = oligo_database.write_database(filename=\"oligo_database_initial.txt\")"
   ]
  },
  {
   "attachments": {},
   "cell_type": "markdown",
   "metadata": {},
   "source": [
    "## Property filters\n",
    "\n",
    "Once all the possible sequences are created, we apply a first filtering step based on the sequence properties (e.g. melting temperature or GC content). This is useful to reduce the amount of sequences we have to deal with in the next stages and discard all the sequences that are not suited for the experiment.\n",
    "\n",
    "Each property filter is a class that inherits from the Abstact Base Class `PropertyFilterBase` They have a method called `apply` that takes the `OligoDatabase.database` dictionary and returns it filtered. To make this process smooth and modular the wrapper class `PropertyFilter` allows to apply several filters one after the other. It takes as input a list of filter classes and an `OligoDatabase` object and applies sequentially all the filters and returns the final filterd version of the database. Additionally, all the necessary sequence features computed by the filters are stored in the `OligoDatabase.database` for possible later use. \n",
    "\n",
    "*Note: the filters are applied in the order they are given as input. Hence, filter with fast computations should be listed first, i.e. apply GC content filter before melting temperature filter, to reduce runtime.*\n",
    "\n",
    "To create new property filters follow the Abstact Base Class requirements in `PropertyFilterBase`."
   ]
  },
  {
   "cell_type": "code",
   "execution_count": 8,
   "metadata": {},
   "outputs": [],
   "source": [
    "from oligo_designer_toolsuite.oligo_property_filter import (\n",
    "    PropertyFilter,\n",
    "    MaskedSequences,\n",
    "    GCContent, \n",
    "    MeltingTemperatureNN, \n",
    "    PadlockArms\n",
    ")\n",
    "\n",
    "# the melting temperature params need to be preprocessed\n",
    "Tm_params = config[\"Tm_parameters\"][\"shared\"].copy()\n",
    "Tm_params.update(config[\"Tm_parameters\"][\"property_filter\"])\n",
    "Tm_params[\"nn_table\"] = getattr(mt, Tm_params[\"nn_table\"])\n",
    "Tm_params[\"tmm_table\"] = getattr(mt, Tm_params[\"tmm_table\"])\n",
    "Tm_params[\"imm_table\"] = getattr(mt, Tm_params[\"imm_table\"])\n",
    "Tm_params[\"de_table\"] = getattr(mt, Tm_params[\"de_table\"])\n",
    "\n",
    "Tm_chem_correction_param = config[\"Tm_chem_correction_param\"][\"shared\"].copy()\n",
    "Tm_chem_correction_param.update(config[\"Tm_chem_correction_param\"][\"property_filter\"])\n",
    "\n",
    "# initialize the filters clasees\n",
    "masked_sequences = MaskedSequences()\n",
    "gc_content = GCContent(GC_content_min=config[\"GC_content_min\"], GC_content_max=config[\"GC_content_max\"])\n",
    "melting_temperature = MeltingTemperatureNN(\n",
    "    Tm_min=config[\"Tm_min\"], \n",
    "    Tm_max=config[\"Tm_max\"], \n",
    "    Tm_parameters=Tm_params, \n",
    "    Tm_chem_correction_parameters=Tm_chem_correction_param\n",
    ")\n",
    "padlock_arms = PadlockArms(\n",
    "    min_arm_length=config[\"min_arm_length\"],\n",
    "    max_arm_Tm_dif=config[\"max_arm_Tm_dif\"],\n",
    "    arm_Tm_min=config[\"arm_Tm_min\"],\n",
    "    arm_Tm_max=config[\"arm_Tm_max\"],\n",
    "    Tm_parameters=Tm_params,\n",
    "    Tm_chem_correction_parameters=Tm_chem_correction_param,\n",
    ")\n",
    "# create the list of filters\n",
    "filters = [masked_sequences, gc_content, melting_temperature, padlock_arms]\n",
    "\n",
    "# initialize the property filter class\n",
    "property_filter = PropertyFilter(filters=filters, write_regions_with_insufficient_oligos=config[\"write_removed_genes\"])\n",
    "# filter the database\n",
    "oligo_database = property_filter.apply(oligo_database=oligo_database, n_jobs=config[\"n_jobs\"])\n",
    "# write the intermediate result in a file\n",
    "if config[\"write_intermediate_steps\"]:\n",
    "    file_database = oligo_database.write_database(filename=\"oligo_database_property_filter.txt\")"
   ]
  },
  {
   "attachments": {},
   "cell_type": "markdown",
   "metadata": {},
   "source": [
    "## Specificity filters\n",
    "\n",
    "In experiments using short oligos one of the main problem that can occur are off-target binding of the designed oligo sequences to undesired target regions. To avoid this problem we can decide to remove all the oligos that also align to regions outside the gene they belong to.\n",
    "\n",
    "The classes in the subpackage `oligo_speificity_filters` detect these oligos using alignment methods such as Blast and Bowtie and remove them from the database. The currently implemeted classes are: `ExactMatches`, `Blastn`, `Bowtie`, `Bowtie2`, `BowtieSeedRegion`. Look at the documentation for detailed information. Those filters are structured in the same way as the property filters. A second class `SpecificityFilter` takes a list of all the filters we want to apply, and applies them sequentially to the `OligoDatabase.database`.  \n",
    "*Note: the filters are applied in the order they are given as input. Hence, filter with fast computations should be listed first, i.e. apply exact match filter before Blastn filter, to reduce runtime.*\n",
    "\n",
    "In addition, alignement methods need a reference fasta file to detect the off-target regions. The `CustomGenomicRegionGenerator` class provides the possibility to generate this reference region as shown proviously. Once the fasta file has been created the class `ReferenceDatabase` stores the path, additional information and can extract regions we are intered in from the fasta file.\n",
    "\n",
    "*Note: it is possible to apply a set of specificity filters with a reference file and a second set with a different reference file.*\n",
    "\n",
    "For our pipeline, we will use `ExactMatches`, `Blastn`, `BowtieSeedRegion`. For the `BowtieSeedRegion` filter we need to generate the oligo seed region with `LigationRegionCreation` (look at the documentation to understand what seed region means). "
   ]
  },
  {
   "cell_type": "code",
   "execution_count": 12,
   "metadata": {},
   "outputs": [
    {
     "name": "stderr",
     "output_type": "stream",
     "text": [
      "# reads processed: 23\n",
      "# reads with at least one alignment: 23 (100.00%)\n",
      "# reads that failed to align: 0 (0.00%)\n",
      "Reported 48 alignments\n",
      "# reads processed: 9\n",
      "# reads with at least one alignment: 9 (100.00%)\n",
      "# reads that failed to align: 0 (0.00%)\n",
      "Reported 18 alignments\n",
      "# reads processed: 12\n",
      "# reads with at least one alignment: 12 (100.00%)\n",
      "# reads that failed to align: 0 (0.00%)\n",
      "Reported 32 alignments\n",
      "# reads processed: 5\n",
      "# reads with at least one alignment: 5 (100.00%)\n",
      "# reads that failed to align: 0 (0.00%)\n",
      "Reported 7 alignments\n",
      "# reads processed: 1\n",
      "# reads with at least one alignment: 1 (100.00%)\n",
      "# reads that failed to align: 0 (0.00%)\n",
      "Reported 1 alignments\n"
     ]
    }
   ],
   "source": [
    "from oligo_designer_toolsuite.database import ReferenceDatabase\n",
    "from oligo_designer_toolsuite.oligo_specificity_filter import (\n",
    "    SpecificityFilter,\n",
    "    ExactMatches,\n",
    "    LigationRegionCreation,\n",
    "    BowtieSeedRegion,\n",
    "    Blastn,\n",
    ")\n",
    "\n",
    "dir_specificity = os.path.join(dir_output, \"specificity_temporary\") # folder where the temporary files will be written\n",
    "\n",
    "\n",
    "reference = ReferenceDatabase(\n",
    "    file_fasta = file_transcriptome,\n",
    "    files_source = region_generator_custom.files_source,\n",
    "    species = region_generator_custom.species,\n",
    "    annotation_release = region_generator_custom.annotation_release,\n",
    "    genome_assembly = region_generator_custom.genome_assembly,\n",
    "    dir_output=dir_output\n",
    "    )\n",
    "\n",
    "# intialize the filter classes\n",
    "exact_mathces = ExactMatches(dir_specificity=dir_specificity)\n",
    "seed_ligation = LigationRegionCreation(ligation_region_size=config[\"ligation_region_size\"])\n",
    "seed_region = BowtieSeedRegion(dir_specificity=dir_specificity, seed_region_creation=seed_ligation)\n",
    "blastn = Blastn(\n",
    "    dir_specificity=dir_specificity, \n",
    "    word_size=config[\"word_size\"],\n",
    "    percent_identity=config[\"percent_identity\"],\n",
    "    coverage=config[\"coverage\"],\n",
    "    strand=config[\"strand\"],\n",
    ")\n",
    "filters = [exact_mathces, seed_region, blastn]\n",
    "\n",
    "# initialize the specificity filter class\n",
    "specificity_filter = SpecificityFilter(filters=filters, write_regions_with_insufficient_oligos=config[\"write_removed_genes\"])\n",
    "# filte r the database\n",
    "oligo_database = specificity_filter.apply(oligo_database=oligo_database, reference_database=reference, n_jobs=config[\"n_jobs\"])\n",
    "# write the intermediate result\n",
    "if config[\"write_intermediate_steps\"]:\n",
    "    file_database = oligo_database.write_database(filename=\"oligo_database_specificity_filter.txt\")"
   ]
  },
  {
   "attachments": {},
   "cell_type": "markdown",
   "metadata": {},
   "source": [
    "## Oligoset generation\n",
    "\n",
    "In the next step of the pipeline the oligos will be choosen according to their theoretical efficiency in the experiment scope (e.g. how well they bind to the target in the DNA). Each oligo will receive a score computed by a class that inherits from `OligoScoringBase`. Later, the sequences will be organized in sets and a class inheriting from `SetScoringBase` will give a general efficiency score to the set. At the end the best sets will be selected and scored.\n",
    "\n",
    "It is required that the each array of sequences contains oligos that do not overlap. In fact, if two oligos were overlapping, they would compete to bind to the same section of DNA and their efficiency would drop significantly. Therefore, we only consider sets of non-overlapping sequences.\n",
    "\n",
    "The class `OligosetGenerator` takes the scoring strategies and tries to find, among all the feasible non-overlapping sets of oligos, the sets with the best efficiency scores. These sets will be save in a pandas DataFrame with the following structure:\n",
    "\n",
    "\n",
    " oligoset_id | oligo_0  | oligo_1  | oligo_2  |  ...  | oligo_n  | set_score_1 | set_score_2 |  ...  \n",
    "------------ | -------- | -------- | -------- | ----- | -------- | ----------- | ----------- | ------:\n",
    " 0           | AGRN_184 | AGRN_133 | AGRN_832 |  ...  | AGRN_706 | 0.3445      | 1.2332      |  ...  \n"
   ]
  },
  {
   "cell_type": "code",
   "execution_count": 13,
   "metadata": {},
   "outputs": [],
   "source": [
    "from oligo_designer_toolsuite.oligo_efficiency import(\n",
    "    PadlockOligoScoring,\n",
    "    PadlockSetScoring,\n",
    ")\n",
    "from oligo_designer_toolsuite.oligo_selection import OligosetGenerator, padlock_heuristic_selection\n",
    "\n",
    "# initialize the scoring classes\n",
    "oligos_scoring = PadlockOligoScoring(\n",
    "    Tm_min=config[\"Tm_min\"],\n",
    "    Tm_opt=config[\"Tm_opt\"],\n",
    "    Tm_max=config[\"Tm_max\"],\n",
    "    GC_content_min=config[\"GC_content_min\"],\n",
    "    GC_content_opt=config[\"GC_content_opt\"],\n",
    "    GC_content_max=config[\"GC_content_max\"],\n",
    "    Tm_weight=config[\"Tm_weight\"],\n",
    "    GC_weight=config[\"GC_weight\"],\n",
    ")\n",
    "set_scoring = PadlockSetScoring()\n",
    "\n",
    "# initialize the oligoset generator class\n",
    "oligoset_generator = OligosetGenerator(\n",
    "    oligoset_size=config[\"oligoset_size\"], \n",
    "    min_oligoset_size=config[\"min_oligoset_size\"],\n",
    "    oligos_scoring=oligos_scoring,\n",
    "    set_scoring=set_scoring,\n",
    "    heurustic_selection=padlock_heuristic_selection,\n",
    "    write_regions_with_insufficient_oligos=config[\"write_removed_genes\"]\n",
    ")\n",
    "\n",
    "# generate the oligoset\n",
    "oligo_database = oligoset_generator.apply(oligo_database=oligo_database, n_sets=config[\"n_sets\"], n_jobs=config[\"n_jobs\"])\n",
    "# write the intermediate result\n",
    "if config[\"write_intermediate_steps\"]:\n",
    "    file_database = oligo_database.write_database(filename=\"oligo_database_oligosets.txt\")"
   ]
  },
  {
   "attachments": {},
   "cell_type": "markdown",
   "metadata": {},
   "source": [
    "## Last step\n",
    "\n",
    "Once the best oligosets are generated each experiment design might require (or not) an addtional step. In the case of the Padlock oligo designer the last step consists in designing the final padlock probe sequences containing the padlock probe and detection probe sequence."
   ]
  },
  {
   "cell_type": "code",
   "execution_count": 14,
   "metadata": {},
   "outputs": [],
   "source": [
    "from oligo_designer_toolsuite.sequence_design import PadlockSequence\n",
    "\n",
    "# preprocessing of themelting temperature parameters\n",
    "Tm_params = config[\"Tm_parameters\"][\"shared\"].copy()\n",
    "Tm_params.update(config[\"Tm_parameters\"][\"detection_oligo\"])\n",
    "Tm_params[\"nn_table\"] = getattr(mt, Tm_params[\"nn_table\"])\n",
    "Tm_params[\"tmm_table\"] = getattr(mt, Tm_params[\"tmm_table\"])\n",
    "Tm_params[\"imm_table\"] = getattr(mt, Tm_params[\"imm_table\"])\n",
    "Tm_params[\"de_table\"] = getattr(mt, Tm_params[\"de_table\"])\n",
    "\n",
    "Tm_chem_correction_parameters = config[\"Tm_chem_correction_param\"][\"shared\"].copy()\n",
    "Tm_chem_correction_parameters.update(config[\"Tm_chem_correction_param\"][\"detection_oligo\"])\n",
    "\n",
    "# initilize the padlock sequence designer class\n",
    "padlock_sequence = PadlockSequence(\n",
    "    detect_oligo_length_min=config[\"detect_oligo_length_min\"],\n",
    "    detect_oligo_length_max=config[\"detect_oligo_length_max\"],\n",
    "    detect_oligo_Tm_opt=config[\"detect_oligo_Tm_opt\"],\n",
    "    Tm_parameters=Tm_params,\n",
    "    Tm_chem_correction_parameters=Tm_chem_correction_parameters,\n",
    "    dir_output = dir_output\n",
    ")\n",
    "# generate the padlock sequence\n",
    "padlock_sequence.design_final_padlock_sequence(oligo_database=oligo_database)"
   ]
  }
 ],
 "metadata": {
  "kernelspec": {
   "display_name": "ODT",
   "language": "python",
   "name": "python3"
  },
  "language_info": {
   "codemirror_mode": {
    "name": "ipython",
    "version": 3
   },
   "file_extension": ".py",
   "mimetype": "text/x-python",
   "name": "python",
   "nbconvert_exporter": "python",
   "pygments_lexer": "ipython3",
   "version": "3.9.15"
  },
  "orig_nbformat": 4,
  "vscode": {
   "interpreter": {
    "hash": "a7f4130ed83df3b8f06d6c345c87a414b57058a10ea01094325e8ae4cc394d7d"
   }
  }
 },
 "nbformat": 4,
 "nbformat_minor": 2
}
