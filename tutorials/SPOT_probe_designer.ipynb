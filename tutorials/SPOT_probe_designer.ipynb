{
 "cells": [
  {
   "cell_type": "markdown",
   "metadata": {},
   "source": [
    "# Imports"
   ]
  },
  {
   "cell_type": "code",
   "execution_count": 7,
   "metadata": {},
   "outputs": [],
   "source": [
    "import os\n",
    "import sys\n",
    "\n",
    "sys.path.append(os.path.dirname(os.getcwd()))\n",
    "import yaml\n",
    "from Bio.SeqUtils import MeltingTemp as mt"
   ]
  },
  {
   "attachments": {},
   "cell_type": "markdown",
   "metadata": {},
   "source": [
    "## Define the parameters\n",
    "\n",
    "\n",
    "Once the configuration file has been set up we have to read its content:"
   ]
  },
  {
   "cell_type": "code",
   "execution_count": 8,
   "metadata": {},
   "outputs": [],
   "source": [
    "config_file = \"./configs/probe_design_SPOT_custom.yaml\"\n",
    "# config_file = \"./SPOT/configs/probe_design_SPOT_custom.yaml\"\n",
    "with open(config_file, 'r') as yaml_file:\n",
    "    config = yaml.safe_load(yaml_file)\n",
    "dir_output = os.path.join(os.path.dirname(os.getcwd()), config[\"dir_output\"]) # create the complete path for the output directory"
   ]
  },
  {
   "attachments": {},
   "cell_type": "markdown",
   "metadata": {},
   "source": [
    "## Oligo sequences generation\n",
    "\n",
    "Now we can start to actually build the pipeline, we will start by generating all the possible oligos with length between the maximum and minimum value given belonging to the genes defined in the config file. The oligos will be saved in a nested dicionary with the following structure: \n",
    "\n",
    "[gene][oligo_id][oligo_feature].\n"
   ]
  },
  {
   "cell_type": "code",
   "execution_count": 9,
   "metadata": {},
   "outputs": [
    {
     "name": "stderr",
     "output_type": "stream",
     "text": [
      "index file ./data/annotations/custom_GCF_000001405.40_GRCh38.p14_genomic_chr16.fna.fai not found, generating...\n"
     ]
    }
   ],
   "source": [
    "from oligo_designer_toolsuite.database import CustomGenomicRegionGenerator, NcbiGenomicRegionGenerator, EnsemblGenomicRegionGenerator\n",
    "\n",
    "# If the custom config file is selected\n",
    "if config[\"source\"] == \"custom\":\n",
    "    region_generator_custom = CustomGenomicRegionGenerator(\n",
    "        annotation_file=config[\"file_annotation\"], \n",
    "        sequence_file=config[\"file_sequence\"], \n",
    "        files_source=config[\"files_source\"], \n",
    "        species=config[\"species\"], \n",
    "        annotation_release=config[\"annotation_release\"], \n",
    "        genome_assembly=config[\"genome_assembly\"],\n",
    "        dir_output=dir_output\n",
    "    )\n",
    "# If the Ncbi config file is selected\n",
    "elif config[\"source\"] == \"ncbi\":\n",
    "    region_generator = NcbiGenomicRegionGenerator(\n",
    "        taxon=config[\"taxon\"],\n",
    "        species=config[\"species\"], \n",
    "        annotation_release=config[\"annotation_release\"], \n",
    "        dir_output=dir_output\n",
    "    )\n",
    "# If the Ensembl config file is generated\n",
    "elif config[\"source\"] == \"ensembl\":\n",
    "    region_generator = EnsemblGenomicRegionGenerator(\n",
    "        species=config[\"species\"], \n",
    "        annotation_release=config[\"annotation_release\"], \n",
    "        dir_output=dir_output\n",
    "    )\n",
    "\n",
    "file_transcriptome = region_generator_custom.generate_transcript_reduced_representation(include_exon_junctions=True, exon_junction_size=2*config[\"oligo_length_max\"])"
   ]
  },
  {
   "cell_type": "code",
   "execution_count": 10,
   "metadata": {},
   "outputs": [],
   "source": [
    "from oligo_designer_toolsuite.database import OligoDatabase\n",
    "\n",
    "# define the database class\n",
    "oligo_database = OligoDatabase(\n",
    "    file_fasta = file_transcriptome,\n",
    "    oligo_length_min = config[\"oligo_length_min\"],\n",
    "    oligo_length_max = config[\"oligo_length_max\"],\n",
    "    min_oligos_per_region = config[\"min_oligos_per_gene\"],\n",
    "    files_source = region_generator_custom.files_source,\n",
    "    species = region_generator_custom.species,\n",
    "    annotation_release = region_generator_custom.annotation_release,\n",
    "    genome_assembly = region_generator_custom.genome_assembly,\n",
    "    n_jobs = 2,\n",
    "    dir_output=dir_output\n",
    ")\n",
    "\n",
    "# read the genes file\n",
    "if config[\"file_genes\"] is None:\n",
    "    warnings.warn(\n",
    "        \"No file containing the genes was provided, all the genes are ussed to generate the probes. This chioce can use a lot of resources.\"\n",
    "    )\n",
    "    genes = None\n",
    "else:\n",
    "    with open(config[\"file_genes\"]) as handle:\n",
    "        lines = handle.readlines()\n",
    "        genes = [line.rstrip() for line in lines]\n",
    "        \n",
    "# generate the oligo sequences from gene transcripts\n",
    "oligo_database.create_database(region_ids=genes) \n",
    "\n",
    "# alternative: load database from file\n",
    "# oligo_database.load_oligo_database(file_database)"
   ]
  },
  {
   "attachments": {},
   "cell_type": "markdown",
   "metadata": {},
   "source": [
    "### Dictionary structure\n"
   ]
  },
  {
   "cell_type": "code",
   "execution_count": 11,
   "metadata": {},
   "outputs": [
    {
     "name": "stdout",
     "output_type": "stream",
     "text": [
      "{'AARS1': {'AARS1_16:70265636-70265662(-)': {'sequence': Seq('GAGACACTGCTTGGCTCCTCTATGAC'), 'chromosome': '16', 'start': [70265636], 'end': [70265662], 'strand': '-', 'length': 26, 'additional_information_fasta': ['transcript_id=NM_001605.3,exon_number=10;transcript_id=XM_047433666.1,exon_number=10']}}}\n"
     ]
    }
   ],
   "source": [
    "gene = list(oligo_database.database.keys())[0]\n",
    "oligo_id = list(oligo_database.database[gene].keys())[0]\n",
    "\n",
    "sample_oligos_DB = {}\n",
    "sample_oligos_DB[gene] = {}\n",
    "sample_oligos_DB[gene][oligo_id] = oligo_database.database[gene][oligo_id]\n",
    "print(sample_oligos_DB)"
   ]
  },
  {
   "cell_type": "code",
   "execution_count": 12,
   "metadata": {},
   "outputs": [
    {
     "data": {
      "text/plain": [
       "dict_keys(['AARS1', 'DECR2', 'FAM234A', 'RHBDF1', 'WASIR2'])"
      ]
     },
     "execution_count": 12,
     "metadata": {},
     "output_type": "execute_result"
    }
   ],
   "source": [
    "oligo_database.database.keys()"
   ]
  },
  {
   "cell_type": "code",
   "execution_count": 13,
   "metadata": {},
   "outputs": [],
   "source": [
    "def number_of_probes(oligo_database):\n",
    "    d = dict()\n",
    "    for i in oligo_database.database.keys():\n",
    "        d[i] = len(oligo_database.database[i])\n",
    "    print(d)"
   ]
  },
  {
   "attachments": {},
   "cell_type": "markdown",
   "metadata": {},
   "source": [
    "### Read and write\n",
    "\n"
   ]
  },
  {
   "cell_type": "code",
   "execution_count": 14,
   "metadata": {},
   "outputs": [
    {
     "name": "stdout",
     "output_type": "stream",
     "text": [
      "{'AARS1': 17175, 'DECR2': 7620, 'FAM234A': 26900, 'RHBDF1': 20650, 'WASIR2': 5060}\n"
     ]
    }
   ],
   "source": [
    "if config[\"write_intermediate_steps\"]:\n",
    "    file_database = oligo_database.write_database(filename=\"oligo_database_initial.txt\")\n",
    "number_of_probes(oligo_database)"
   ]
  },
  {
   "attachments": {},
   "cell_type": "markdown",
   "metadata": {},
   "source": [
    "## Property filters\n",
    "\n",
    "Once all the possible sequences are created, we apply a first filtering process based on the sequences properties (e.g. melting temperature or GC content). This is useful to reduce the amount of sequences we have to deal with in the next stages and discard all the sequences that are not suited for the experiment."
   ]
  },
  {
   "cell_type": "code",
   "execution_count": 15,
   "metadata": {},
   "outputs": [],
   "source": [
    "from oligo_designer_toolsuite.oligo_property_filter import (\n",
    "    PropertyFilter,\n",
    "    MaskedSequences,\n",
    "    GCContent, \n",
    "    ProhibitedSequences\n",
    ")\n",
    "# initialize the filters clasees\n",
    "masked_sequences = MaskedSequences()\n",
    "gc_content = GCContent(GC_content_min=config[\"GC_content_min\"], GC_content_max=config[\"GC_content_max\"])\n",
    "proh_seq = ProhibitedSequences(num_consecutive = config[\"number_consecutive\"])\n",
    "\n",
    "# create the list of filters\n",
    "filters = [masked_sequences, proh_seq ,gc_content]\n",
    "\n",
    "# initialize the property filter class\n",
    "property_filter = PropertyFilter(filters=filters, write_regions_with_insufficient_oligos=config[\"write_removed_genes\"])\n",
    "\n",
    "# filter the database\n",
    "oligo_database = property_filter.apply(oligo_database=oligo_database, n_jobs=config[\"n_jobs\"])\n",
    "\n",
    "# check for unsufficient number of probes\n",
    "#oligo_database.remove_genes_with_insufficient_oligos(pipeline_step = \"after applying property filters\")\n",
    "\n",
    "# write the intermediate result in a file\n",
    "if config[\"write_intermediate_steps\"]:\n",
    "    file_database = oligo_database.write_database(filename=\"oligo_database_property_filter.txt\")"
   ]
  },
  {
   "cell_type": "code",
   "execution_count": 16,
   "metadata": {},
   "outputs": [
    {
     "name": "stdout",
     "output_type": "stream",
     "text": [
      "{'AARS1': 11606, 'DECR2': 2777, 'FAM234A': 13878, 'RHBDF1': 10462, 'WASIR2': 2032}\n"
     ]
    }
   ],
   "source": [
    "number_of_probes(oligo_database)"
   ]
  },
  {
   "attachments": {},
   "cell_type": "markdown",
   "metadata": {},
   "source": [
    "## Specificity filters\n"
   ]
  },
  {
   "cell_type": "code",
   "execution_count": 17,
   "metadata": {},
   "outputs": [],
   "source": [
    "from oligo_designer_toolsuite.database import ReferenceDatabase\n",
    "from oligo_designer_toolsuite.oligo_specificity_filter import (\n",
    "    SpecificityFilter,\n",
    "    ExactMatches,\n",
    "    Blastn,\n",
    ")\n",
    "dir_specificity = os.path.join(dir_output, \"specificity_temporary\") # folder where the temporary files will be written\n",
    "\n",
    "\n",
    "reference = ReferenceDatabase(\n",
    "    file_fasta = file_transcriptome,\n",
    "    files_source = region_generator_custom.files_source,\n",
    "    species = region_generator_custom.species,\n",
    "    annotation_release = region_generator_custom.annotation_release,\n",
    "    genome_assembly = region_generator_custom.genome_assembly,\n",
    "    dir_output=dir_output\n",
    "    )\n",
    "\n",
    "# intialize the filter classes\n",
    "exact_mathces = ExactMatches(dir_specificity=dir_specificity)\n",
    "blastn = Blastn(\n",
    "    dir_specificity=dir_specificity, \n",
    "    word_size=config[\"word_size\"],\n",
    "    percent_identity=config[\"percent_identity\"],\n",
    "    coverage=config[\"coverage\"],\n",
    "    strand=config[\"strand\"],\n",
    "    #strand='plus',\n",
    ")\n",
    "filters = [exact_mathces,blastn]\n",
    "\n",
    "# initialize the specificity filter class\n",
    "specificity_filter = SpecificityFilter(filters=filters, write_regions_with_insufficient_oligos=config[\"write_removed_genes\"])\n",
    "# filte r the database\n",
    "oligo_database = specificity_filter.apply(oligo_database=oligo_database, reference_database=reference, n_jobs=config[\"n_jobs\"])\n",
    "# write the intermediate result\n",
    "if config[\"write_intermediate_steps\"]:\n",
    "    file_database = oligo_database.write_database(filename=\"oligo_database_specificity_filter.txt\")"
   ]
  },
  {
   "cell_type": "code",
   "execution_count": 18,
   "metadata": {},
   "outputs": [
    {
     "name": "stdout",
     "output_type": "stream",
     "text": [
      "{'AARS1': 1976, 'DECR2': 540, 'FAM234A': 1802, 'RHBDF1': 1339, 'WASIR2': 104}\n"
     ]
    }
   ],
   "source": [
    "number_of_probes(oligo_database)"
   ]
  },
  {
   "attachments": {},
   "cell_type": "markdown",
   "metadata": {},
   "source": [
    "## Total probe generator"
   ]
  },
  {
   "cell_type": "code",
   "execution_count": 19,
   "metadata": {},
   "outputs": [],
   "source": [
    "# create readout probes\n",
    "from oligo_designer_toolsuite.sequence_design.readout_probes_generator import ReadoutProbes\n",
    "readout_generator = ReadoutProbes(length=15,  number_probes = 60, GC_min=45, GC_max=55,number_consecutive = 5, random_seed = 0, blast_filter = blastn, reference_DB = reference)\n",
    "readout_probes = readout_generator.create_probes()"
   ]
  },
  {
   "cell_type": "code",
   "execution_count": 20,
   "metadata": {},
   "outputs": [],
   "source": [
    "from oligo_designer_toolsuite.sequence_design.barcoding_creation import BarcodingCreator\n",
    "barcodes_creator = BarcodingCreator(20, list(oligo_database.database.keys()))\n",
    "barcodes_for_genes =  barcodes_creator.create_barcodes()"
   ]
  },
  {
   "cell_type": "code",
   "execution_count": 21,
   "metadata": {},
   "outputs": [
    {
     "data": {
      "text/plain": [
       "{'AARS1': [7, 9, 13, 9],\n",
       " 'DECR2': [4, 2, 3, 15],\n",
       " 'FAM234A': [15, 19, 19, 5],\n",
       " 'RHBDF1': [1, 11, 7, 3],\n",
       " 'WASIR2': [8, 1, 0, 13]}"
      ]
     },
     "execution_count": 21,
     "metadata": {},
     "output_type": "execute_result"
    }
   ],
   "source": [
    "barcodes_for_genes"
   ]
  },
  {
   "cell_type": "code",
   "execution_count": 22,
   "metadata": {},
   "outputs": [],
   "source": [
    "# generate barcodes\n",
    "from oligo_designer_toolsuite.sequence_design.seqFISH_probes_designer import SeqfishProbesCreator\n",
    "probes_creator = SeqfishProbesCreator()\n",
    "oligo_database.database = probes_creator.create_probes(oligo_database.database, readout_probes, barcodes_for_genes)"
   ]
  },
  {
   "cell_type": "code",
   "execution_count": 23,
   "metadata": {},
   "outputs": [
    {
     "name": "stdout",
     "output_type": "stream",
     "text": [
      "{'AARS1': 1976, 'DECR2': 540, 'FAM234A': 1802, 'RHBDF1': 1339, 'WASIR2': 104}\n"
     ]
    }
   ],
   "source": [
    "number_of_probes(oligo_database)"
   ]
  },
  {
   "attachments": {},
   "cell_type": "markdown",
   "metadata": {},
   "source": [
    "## Cross-Hybridization check"
   ]
  },
  {
   "cell_type": "code",
   "execution_count": 25,
   "metadata": {},
   "outputs": [
    {
     "name": "stderr",
     "output_type": "stream",
     "text": [
      "/Users/anna/Desktop/Project/oligo-designer-toolsuite/oligo_designer_toolsuite/database/_reference_database.py:59: UserWarning: No files_source defined. Using default files_source custom!\n",
      "  warnings.warn(\n",
      "/Users/anna/Desktop/Project/oligo-designer-toolsuite/oligo_designer_toolsuite/database/_reference_database.py:65: UserWarning: No species defined. Using default species unknown!\n",
      "  warnings.warn(f\"No species defined. Using default species {species}!\")\n",
      "/Users/anna/Desktop/Project/oligo-designer-toolsuite/oligo_designer_toolsuite/database/_reference_database.py:69: UserWarning: No annotation release defined. Using default release unknown!\n",
      "  warnings.warn(\n",
      "/Users/anna/Desktop/Project/oligo-designer-toolsuite/oligo_designer_toolsuite/database/_reference_database.py:75: UserWarning: No genome assembly defined. Using default genome assembly unknown!\n",
      "  warnings.warn(\n"
     ]
    }
   ],
   "source": [
    "oligo_database.write_fasta_from_database(filename = 'fasta_from_our_db')\n",
    "ref_db = ReferenceDatabase(file_fasta ='./output_SPOT_custom/oligo_database/fasta_from_our_db.fna')"
   ]
  },
  {
   "cell_type": "code",
   "execution_count": 26,
   "metadata": {},
   "outputs": [],
   "source": [
    "exact_mathces = ExactMatches(dir_specificity=dir_specificity)\n",
    "blastn = Blastn(\n",
    "    dir_specificity=dir_specificity, \n",
    "    word_size=config[\"word_size\"],\n",
    "    percent_identity=config[\"percent_identity\"],\n",
    "    coverage=config[\"coverage\"],\n",
    "    strand='minus',\n",
    ")\n",
    "filters = [exact_mathces,blastn]\n",
    "\n",
    "# initialize the specificity filter class\n",
    "specificity_filter = SpecificityFilter(filters=filters, write_regions_with_insufficient_oligos=config[\"write_removed_genes\"])\n",
    "# filte r the database\n",
    "oligo_database = specificity_filter.apply(oligo_database=oligo_database, reference_database=ref_db, n_jobs=config[\"n_jobs\"])\n"
   ]
  },
  {
   "cell_type": "code",
   "execution_count": 27,
   "metadata": {},
   "outputs": [
    {
     "name": "stdout",
     "output_type": "stream",
     "text": [
      "{'AARS1': 1976, 'DECR2': 540, 'FAM234A': 1802, 'RHBDF1': 1339, 'WASIR2': 104}\n"
     ]
    }
   ],
   "source": [
    "number_of_probes(oligo_database)"
   ]
  },
  {
   "attachments": {},
   "cell_type": "markdown",
   "metadata": {},
   "source": [
    "## Oligoset generation"
   ]
  },
  {
   "cell_type": "code",
   "execution_count": 28,
   "metadata": {},
   "outputs": [
    {
     "name": "stderr",
     "output_type": "stream",
     "text": [
      "/Users/anna/Desktop/Project_bio/oligo-designer-toolsuite/.conda/lib/python3.9/site-packages/joblib/externals/loky/process_executor.py:700: UserWarning: A worker stopped while some jobs were given to the executor. This can be caused by a too short worker timeout or by a memory leak.\n",
      "  warnings.warn(\n"
     ]
    },
    {
     "ename": "KeyboardInterrupt",
     "evalue": "",
     "output_type": "error",
     "traceback": [
      "\u001b[0;31m---------------------------------------------------------------------------\u001b[0m",
      "\u001b[0;31mKeyboardInterrupt\u001b[0m                         Traceback (most recent call last)",
      "Cell \u001b[0;32mIn[28], line 39\u001b[0m\n\u001b[1;32m     29\u001b[0m oligoset_generator \u001b[39m=\u001b[39m OligosetGenerator(\n\u001b[1;32m     30\u001b[0m     oligoset_size\u001b[39m=\u001b[39mconfig[\u001b[39m\"\u001b[39m\u001b[39moligoset_size\u001b[39m\u001b[39m\"\u001b[39m], \n\u001b[1;32m     31\u001b[0m     min_oligoset_size\u001b[39m=\u001b[39mconfig[\u001b[39m\"\u001b[39m\u001b[39mmin_oligoset_size\u001b[39m\u001b[39m\"\u001b[39m],\n\u001b[0;32m   (...)\u001b[0m\n\u001b[1;32m     35\u001b[0m     write_regions_with_insufficient_oligos\u001b[39m=\u001b[39mconfig[\u001b[39m\"\u001b[39m\u001b[39mwrite_removed_genes\u001b[39m\u001b[39m\"\u001b[39m]\n\u001b[1;32m     36\u001b[0m )\n\u001b[1;32m     38\u001b[0m \u001b[39m# generate the oligoset\u001b[39;00m\n\u001b[0;32m---> 39\u001b[0m oligo_database \u001b[39m=\u001b[39m oligoset_generator\u001b[39m.\u001b[39;49mapply(oligo_database\u001b[39m=\u001b[39;49moligo_database, n_sets\u001b[39m=\u001b[39;49mconfig[\u001b[39m\"\u001b[39;49m\u001b[39mn_sets\u001b[39;49m\u001b[39m\"\u001b[39;49m], n_jobs\u001b[39m=\u001b[39;49mconfig[\u001b[39m\"\u001b[39;49m\u001b[39mn_jobs\u001b[39;49m\u001b[39m\"\u001b[39;49m])\n\u001b[1;32m     40\u001b[0m \u001b[39m# write the intermediate result\u001b[39;00m\n\u001b[1;32m     41\u001b[0m \u001b[39mif\u001b[39;00m config[\u001b[39m\"\u001b[39m\u001b[39mwrite_intermediate_steps\u001b[39m\u001b[39m\"\u001b[39m]:\n",
      "File \u001b[0;32m~/Desktop/Project/oligo-designer-toolsuite/oligo_designer_toolsuite/oligo_selection/_generate_oligosets.py:76\u001b[0m, in \u001b[0;36mOligosetGenerator.apply\u001b[0;34m(self, oligo_database, n_sets, n_jobs)\u001b[0m\n\u001b[1;32m     74\u001b[0m regions \u001b[39m=\u001b[39m \u001b[39mlist\u001b[39m(oligo_database\u001b[39m.\u001b[39mdatabase\u001b[39m.\u001b[39mkeys())\n\u001b[1;32m     75\u001b[0m \u001b[39m# get the oligo set for this region in parallel\u001b[39;00m\n\u001b[0;32m---> 76\u001b[0m database_regions \u001b[39m=\u001b[39m Parallel(\n\u001b[1;32m     77\u001b[0m     n_jobs\u001b[39m=\u001b[39;49mn_jobs\n\u001b[1;32m     78\u001b[0m )(  \u001b[39m# there should be an explicit return\u001b[39;49;00m\n\u001b[1;32m     79\u001b[0m     delayed(\u001b[39mself\u001b[39;49m\u001b[39m.\u001b[39;49m_get_oligo_set_for_gene)(\n\u001b[1;32m     80\u001b[0m         region, oligo_database\u001b[39m.\u001b[39;49mdatabase[region], n_sets\n\u001b[1;32m     81\u001b[0m     )\n\u001b[1;32m     82\u001b[0m     \u001b[39mfor\u001b[39;49;00m region \u001b[39min\u001b[39;49;00m regions\n\u001b[1;32m     83\u001b[0m )\n\u001b[1;32m     84\u001b[0m \u001b[39m# restore the database\u001b[39;00m\n\u001b[1;32m     85\u001b[0m \u001b[39mfor\u001b[39;00m region, database_region \u001b[39min\u001b[39;00m \u001b[39mzip\u001b[39m(regions, database_regions):\n",
      "File \u001b[0;32m~/Desktop/Project_bio/oligo-designer-toolsuite/.conda/lib/python3.9/site-packages/joblib/parallel.py:1098\u001b[0m, in \u001b[0;36mParallel.__call__\u001b[0;34m(self, iterable)\u001b[0m\n\u001b[1;32m   1095\u001b[0m     \u001b[39mself\u001b[39m\u001b[39m.\u001b[39m_iterating \u001b[39m=\u001b[39m \u001b[39mFalse\u001b[39;00m\n\u001b[1;32m   1097\u001b[0m \u001b[39mwith\u001b[39;00m \u001b[39mself\u001b[39m\u001b[39m.\u001b[39m_backend\u001b[39m.\u001b[39mretrieval_context():\n\u001b[0;32m-> 1098\u001b[0m     \u001b[39mself\u001b[39;49m\u001b[39m.\u001b[39;49mretrieve()\n\u001b[1;32m   1099\u001b[0m \u001b[39m# Make sure that we get a last message telling us we are done\u001b[39;00m\n\u001b[1;32m   1100\u001b[0m elapsed_time \u001b[39m=\u001b[39m time\u001b[39m.\u001b[39mtime() \u001b[39m-\u001b[39m \u001b[39mself\u001b[39m\u001b[39m.\u001b[39m_start_time\n",
      "File \u001b[0;32m~/Desktop/Project_bio/oligo-designer-toolsuite/.conda/lib/python3.9/site-packages/joblib/parallel.py:975\u001b[0m, in \u001b[0;36mParallel.retrieve\u001b[0;34m(self)\u001b[0m\n\u001b[1;32m    973\u001b[0m \u001b[39mtry\u001b[39;00m:\n\u001b[1;32m    974\u001b[0m     \u001b[39mif\u001b[39;00m \u001b[39mgetattr\u001b[39m(\u001b[39mself\u001b[39m\u001b[39m.\u001b[39m_backend, \u001b[39m'\u001b[39m\u001b[39msupports_timeout\u001b[39m\u001b[39m'\u001b[39m, \u001b[39mFalse\u001b[39;00m):\n\u001b[0;32m--> 975\u001b[0m         \u001b[39mself\u001b[39m\u001b[39m.\u001b[39m_output\u001b[39m.\u001b[39mextend(job\u001b[39m.\u001b[39;49mget(timeout\u001b[39m=\u001b[39;49m\u001b[39mself\u001b[39;49m\u001b[39m.\u001b[39;49mtimeout))\n\u001b[1;32m    976\u001b[0m     \u001b[39melse\u001b[39;00m:\n\u001b[1;32m    977\u001b[0m         \u001b[39mself\u001b[39m\u001b[39m.\u001b[39m_output\u001b[39m.\u001b[39mextend(job\u001b[39m.\u001b[39mget())\n",
      "File \u001b[0;32m~/Desktop/Project_bio/oligo-designer-toolsuite/.conda/lib/python3.9/site-packages/joblib/_parallel_backends.py:567\u001b[0m, in \u001b[0;36mLokyBackend.wrap_future_result\u001b[0;34m(future, timeout)\u001b[0m\n\u001b[1;32m    564\u001b[0m \u001b[39m\"\"\"Wrapper for Future.result to implement the same behaviour as\u001b[39;00m\n\u001b[1;32m    565\u001b[0m \u001b[39mAsyncResults.get from multiprocessing.\"\"\"\u001b[39;00m\n\u001b[1;32m    566\u001b[0m \u001b[39mtry\u001b[39;00m:\n\u001b[0;32m--> 567\u001b[0m     \u001b[39mreturn\u001b[39;00m future\u001b[39m.\u001b[39;49mresult(timeout\u001b[39m=\u001b[39;49mtimeout)\n\u001b[1;32m    568\u001b[0m \u001b[39mexcept\u001b[39;00m CfTimeoutError \u001b[39mas\u001b[39;00m e:\n\u001b[1;32m    569\u001b[0m     \u001b[39mraise\u001b[39;00m \u001b[39mTimeoutError\u001b[39;00m \u001b[39mfrom\u001b[39;00m \u001b[39me\u001b[39;00m\n",
      "File \u001b[0;32m~/Desktop/Project_bio/oligo-designer-toolsuite/.conda/lib/python3.9/concurrent/futures/_base.py:441\u001b[0m, in \u001b[0;36mFuture.result\u001b[0;34m(self, timeout)\u001b[0m\n\u001b[1;32m    438\u001b[0m \u001b[39melif\u001b[39;00m \u001b[39mself\u001b[39m\u001b[39m.\u001b[39m_state \u001b[39m==\u001b[39m FINISHED:\n\u001b[1;32m    439\u001b[0m     \u001b[39mreturn\u001b[39;00m \u001b[39mself\u001b[39m\u001b[39m.\u001b[39m__get_result()\n\u001b[0;32m--> 441\u001b[0m \u001b[39mself\u001b[39;49m\u001b[39m.\u001b[39;49m_condition\u001b[39m.\u001b[39;49mwait(timeout)\n\u001b[1;32m    443\u001b[0m \u001b[39mif\u001b[39;00m \u001b[39mself\u001b[39m\u001b[39m.\u001b[39m_state \u001b[39min\u001b[39;00m [CANCELLED, CANCELLED_AND_NOTIFIED]:\n\u001b[1;32m    444\u001b[0m     \u001b[39mraise\u001b[39;00m CancelledError()\n",
      "File \u001b[0;32m~/Desktop/Project_bio/oligo-designer-toolsuite/.conda/lib/python3.9/threading.py:312\u001b[0m, in \u001b[0;36mCondition.wait\u001b[0;34m(self, timeout)\u001b[0m\n\u001b[1;32m    310\u001b[0m \u001b[39mtry\u001b[39;00m:    \u001b[39m# restore state no matter what (e.g., KeyboardInterrupt)\u001b[39;00m\n\u001b[1;32m    311\u001b[0m     \u001b[39mif\u001b[39;00m timeout \u001b[39mis\u001b[39;00m \u001b[39mNone\u001b[39;00m:\n\u001b[0;32m--> 312\u001b[0m         waiter\u001b[39m.\u001b[39;49macquire()\n\u001b[1;32m    313\u001b[0m         gotit \u001b[39m=\u001b[39m \u001b[39mTrue\u001b[39;00m\n\u001b[1;32m    314\u001b[0m     \u001b[39melse\u001b[39;00m:\n",
      "\u001b[0;31mKeyboardInterrupt\u001b[0m: "
     ]
    }
   ],
   "source": [
    "from oligo_designer_toolsuite.oligo_efficiency import(\n",
    "    SeqFISHOligoScoring,\n",
    "    AverageSetScoring\n",
    ")\n",
    "from oligo_designer_toolsuite.oligo_selection import OligosetGenerator, padlock_heuristic_selection\n",
    "\n",
    "# initialize the scoring classes\n",
    "\"\"\"oligos_scoring = PadlockOligoScoring(\n",
    "    Tm_min=config[\"Tm_min\"],\n",
    "    Tm_opt=config[\"Tm_opt\"],\n",
    "    Tm_max=config[\"Tm_max\"],\n",
    "    GC_content_min=config[\"GC_content_min\"],\n",
    "    GC_content_opt=config[\"GC_content_opt\"],\n",
    "    GC_content_max=config[\"GC_content_max\"],\n",
    "    Tm_weight=config[\"Tm_weight\"],\n",
    "    GC_weight=config[\"GC_weight\"],\n",
    ")\n",
    "\"\"\"\n",
    "\n",
    "\n",
    "oligos_scoring = SeqFISHOligoScoring(\n",
    "    GC_content_min=config[\"GC_content_min\"],\n",
    "    GC_content_opt=config[\"GC_content_opt\"],\n",
    "    GC_content_max=config[\"GC_content_max\"],\n",
    "    GC_weight=config[\"GC_weight\"],)\n",
    "set_scoring = AverageSetScoring()\n",
    "\n",
    "# initialize the oligoset generator class\n",
    "oligoset_generator = OligosetGenerator(\n",
    "    oligoset_size=config[\"oligoset_size\"], \n",
    "    min_oligoset_size=config[\"min_oligoset_size\"],\n",
    "    oligos_scoring=oligos_scoring,\n",
    "    set_scoring=set_scoring,\n",
    "    heurustic_selection=padlock_heuristic_selection,\n",
    "    write_regions_with_insufficient_oligos=config[\"write_removed_genes\"]\n",
    ")\n",
    "\n",
    "# generate the oligoset\n",
    "oligo_database = oligoset_generator.apply(oligo_database=oligo_database, n_sets=config[\"n_sets\"], n_jobs=config[\"n_jobs\"])\n",
    "# write the intermediate result\n",
    "if config[\"write_intermediate_steps\"]:\n",
    "    oligo_database.write_oligosets(dir_oligosets=\"oligosets\")"
   ]
  },
  {
   "cell_type": "code",
   "execution_count": null,
   "metadata": {},
   "outputs": [],
   "source": []
  }
 ],
 "metadata": {
  "kernelspec": {
   "display_name": "Python 3",
   "language": "python",
   "name": "python3"
  },
  "language_info": {
   "codemirror_mode": {
    "name": "ipython",
    "version": 3
   },
   "file_extension": ".py",
   "mimetype": "text/x-python",
   "name": "python",
   "nbconvert_exporter": "python",
   "pygments_lexer": "ipython3",
   "version": "3.9.16"
  },
  "vscode": {
   "interpreter": {
    "hash": "91ae2b822b2c63763376465ee82482a220c569ab63f255cee6acbc07ca1cebfb"
   }
  }
 },
 "nbformat": 4,
 "nbformat_minor": 2
}
