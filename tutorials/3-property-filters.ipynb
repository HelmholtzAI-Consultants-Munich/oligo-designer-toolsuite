{
 "cells": [
  {
   "cell_type": "markdown",
   "metadata": {},
   "source": [
    "# 3. Property Filters\n",
    "\n",
    "Property filters are the first major step in refining the initial pool of oligos based on their intrinsic sequence properties. This step eliminates sequences that do not meet specific experimental criteria, such as GC content or melting temperature (Tm), which ensures that only the most suitable oligos are retained for subsequent analysis.\n"
   ]
  },
  {
   "cell_type": "markdown",
   "metadata": {},
   "source": [
    "## Imports and setup"
   ]
  },
  {
   "cell_type": "code",
   "execution_count": null,
   "metadata": {},
   "outputs": [],
   "source": [
    "import os\n",
    "\n",
    "from pathlib import Path\n",
    "from Bio.SeqUtils import MeltingTemp as mt\n",
    "\n",
    "from oligo_designer_toolsuite.database import (\n",
    "    OligoDatabase,\n",
    ")\n",
    "\n",
    "from oligo_designer_toolsuite.oligo_property_filter import (\n",
    "    GCContentFilter,\n",
    "    HardMaskedSequenceFilter,\n",
    "    MeltingTemperatureNNFilter,\n",
    "    PropertyFilter,\n",
    "    SoftMaskedSequenceFilter,\n",
    ")"
   ]
  },
  {
   "cell_type": "code",
   "execution_count": 2,
   "metadata": {},
   "outputs": [],
   "source": [
    "dir_output = os.path.abspath(\"./results\")\n",
    "Path(dir_output).mkdir(parents=True, exist_ok=True)\n",
    "\n",
    "n_jobs = 3"
   ]
  },
  {
   "cell_type": "markdown",
   "metadata": {},
   "source": [
    "## Filtering by property"
   ]
  },
  {
   "cell_type": "markdown",
   "metadata": {},
   "source": [
    "### Load the database\n",
    "Property filters operate on `OligoDatabase` objects. If you don't know how they work, please check our [oligo database tutorial](2-oligo-database.ipynb). In this tutorial, we will load an existing database."
   ]
  },
  {
   "cell_type": "code",
   "execution_count": null,
   "metadata": {},
   "outputs": [],
   "source": [
    "# Create Database object\n",
    "min_oligos_per_region = 3\n",
    "write_regions_with_insufficient_oligos = True\n",
    "lru_db_max_in_memory=n_jobs * 2 + 2\n",
    "database_name=\"db_oligos\"\n",
    "\n",
    "oligo_database = OligoDatabase(\n",
    "    min_oligos_per_region=min_oligos_per_region, \n",
    "    write_regions_with_insufficient_oligos=write_regions_with_insufficient_oligos, \n",
    "    lru_db_max_in_memory=lru_db_max_in_memory, \n",
    "    database_name=database_name, \n",
    "    dir_output=dir_output, \n",
    "    n_jobs=n_jobs,\n",
    ")\n",
    "\n",
    "# Load Database\n",
    "dir_database = os.path.abspath(\"./data/1_db_oligos_initial\")\n",
    "oligo_database.load_database(dir_database=dir_database, database_overwrite=True)"
   ]
  },
  {
   "cell_type": "markdown",
   "metadata": {},
   "source": [
    "### Define property filters\n",
    "Each property filter is implemented as a class inheriting from the abstract base class `PropertyFilterBase`. This ensures all filters have a standardized `apply()` method, which takes an `OligoDatabase` object as input, applies the filter, and returns the filtered database."
   ]
  },
  {
   "cell_type": "code",
   "execution_count": 4,
   "metadata": {},
   "outputs": [],
   "source": [
    "# define parameters of property filters\n",
    "oligo_GC_content_min = 40\n",
    "oligo_GC_content_max = 60\n",
    "\n",
    "oligo_Tm_min = 65 \n",
    "oligo_Tm_max = 75 \n",
    "\n",
    "Tm_parameters_oligo = {\n",
    "    \"check\": True, #default\n",
    "    \"strict\": True, #default\n",
    "    \"c_seq\": None, #default\n",
    "    \"shift\": 0, #default\n",
    "    \"nn_table\": \"DNA_NN3\", # Allawi & SantaLucia (1997)\n",
    "    \"tmm_table\": \"DNA_TMM1\", #default\n",
    "    \"imm_table\": \"DNA_IMM1\", #default\n",
    "    \"de_table\": \"DNA_DE1\", #default\n",
    "    \"dnac1\": 50, #[nM]\n",
    "    \"dnac2\": 0, #[nM]\n",
    "    \"selfcomp\": False, #default\n",
    "    \"saltcorr\": 7, # Owczarzy et al. (2008)\n",
    "    \"Na\": 39, #[mM]\n",
    "    \"K\": 75, #[mM]\n",
    "    \"Tris\": 20, #[mM]\n",
    "    \"Mg\": 10, #[mM]\n",
    "    \"dNTPs\": 0, #[mM] default\n",
    "}\n",
    "Tm_parameters_oligo[\"nn_table\"] = getattr(mt, Tm_parameters_oligo[\"nn_table\"])\n",
    "Tm_parameters_oligo[\"tmm_table\"] = getattr(mt, Tm_parameters_oligo[\"tmm_table\"])\n",
    "Tm_parameters_oligo[\"imm_table\"] = getattr(mt, Tm_parameters_oligo[\"imm_table\"])\n",
    "Tm_parameters_oligo[\"de_table\"] = getattr(mt, Tm_parameters_oligo[\"de_table\"])\n",
    "\n",
    "Tm_chem_correction_param_oligo = {\n",
    "    \"DMSO\": 0, #default\n",
    "    \"fmd\": 20,\n",
    "    \"DMSOfactor\": 0.75, #default\n",
    "    \"fmdfactor\": 0.65, #default\n",
    "    \"fmdmethod\": 1, #default\n",
    "    \"GC\": None, #default\n",
    "}\n",
    "\n",
    "Tm_salt_correction_param_oligo = None # use default settings\n",
    "\n",
    "# Create property filters\n",
    "hard_masked_sequences = HardMaskedSequenceFilter()\n",
    "soft_masked_sequences = SoftMaskedSequenceFilter()\n",
    "gc_content = GCContentFilter(\n",
    "    GC_content_min=oligo_GC_content_min, \n",
    "    GC_content_max=oligo_GC_content_max \n",
    ")\n",
    "melting_temperature = MeltingTemperatureNNFilter(\n",
    "    Tm_min=oligo_Tm_min, \n",
    "    Tm_max=oligo_Tm_max, \n",
    "    Tm_parameters=Tm_parameters_oligo, \n",
    "    Tm_chem_correction_parameters=Tm_chem_correction_param_oligo, \n",
    "    Tm_salt_correction_parameters=Tm_salt_correction_param_oligo, \n",
    ")"
   ]
  },
  {
   "cell_type": "markdown",
   "metadata": {},
   "source": [
    "### Apply filters\n",
    "To streamline the application of multiple filters, the `PropertyFilter` wrapper class allows users to define a sequence of filters to be applied in order. Filters with lower computational cost (e.g., GC content) should be applied first to reduce the dataset size before more complex filters (e.g., Tm). A list of implemented property filters is available [here](https://oligo-designer-toolsuite.readthedocs.io/en/latest/_api_docs/oligo_designer_toolsuite.oligo_property_filter.html)\n",
    "\n",
    "> ⚠️ Order Matters! \n",
    ">\n",
    "> The sequential application of filters minimizes runtime by processing smaller datasets in later, more computationally intensive steps."
   ]
  },
  {
   "cell_type": "code",
   "execution_count": null,
   "metadata": {},
   "outputs": [
    {
     "data": {
      "text/html": [
       "<pre style=\"white-space:pre;overflow-x:auto;line-height:normal;font-family:Menlo,'DejaVu Sans Mono',consolas,'Courier New',monospace\"></pre>\n"
      ],
      "text/plain": []
     },
     "metadata": {},
     "output_type": "display_data"
    }
   ],
   "source": [
    "filters = [\n",
    "    hard_masked_sequences,\n",
    "    soft_masked_sequences,\n",
    "    gc_content,\n",
    "    melting_temperature,\n",
    "]\n",
    "\n",
    "property_filter = PropertyFilter(filters=filters)\n",
    "\n",
    "oligo_database = property_filter.apply(\n",
    "    oligo_database=oligo_database,\n",
    "    sequence_type=\"oligo\",\n",
    "    n_jobs=n_jobs,\n",
    ")\n",
    "\n",
    "dir_database = oligo_database.save_database(name_database=\"2_db_oligos_property_filter\")"
   ]
  },
  {
   "cell_type": "markdown",
   "metadata": {},
   "source": [
    "Applying property filters to the OligoDatabase is critical for several reasons:\n",
    "\n",
    "- **Improves Experimental Suitability:** Ensures that sequences meet critical physical and chemical requirements for optimal binding and stability.\n",
    "- **Reduces Computational Load:** Eliminates unsuitable sequences early, saving resources for downstream processes.\n",
    "- **Modular and Extensible:** The PropertyFilterBase design makes it easy to add new filters for additional properties as needed."
   ]
  }
 ],
 "metadata": {
  "kernelspec": {
   "display_name": "oligo_env",
   "language": "python",
   "name": "python3"
  },
  "language_info": {
   "codemirror_mode": {
    "name": "ipython",
    "version": 3
   },
   "file_extension": ".py",
   "mimetype": "text/x-python",
   "name": "python",
   "nbconvert_exporter": "python",
   "pygments_lexer": "ipython3",
   "version": "3.10.15"
  }
 },
 "nbformat": 4,
 "nbformat_minor": 2
}
