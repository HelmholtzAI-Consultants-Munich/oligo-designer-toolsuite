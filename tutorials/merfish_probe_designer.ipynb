{
 "cells": [
  {
   "attachments": {},
   "cell_type": "markdown",
   "metadata": {},
   "source": [
    "# Python API: MERFISH Probe Design\n",
    "\n",
    "In this tutorial we will show you how you can create MERFISH probes using our pipelines API."
   ]
  }
 ],
 "metadata": {
  "language_info": {
   "name": "python"
  },
  "orig_nbformat": 4
 },
 "nbformat": 4,
 "nbformat_minor": 2
}
