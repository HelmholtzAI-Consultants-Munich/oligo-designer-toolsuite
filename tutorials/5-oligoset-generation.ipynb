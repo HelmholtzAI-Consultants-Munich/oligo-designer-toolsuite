{
 "cells": [
  {
   "cell_type": "markdown",
   "metadata": {},
   "source": [
    "# 5. Oligoset Generation\n",
    "\n",
    "The final step in designing oligos is to organize them into optimal sets that maximize experimental efficiency and reliability. This step evaluates individual oligos, groups them into sets of non-overlapping oligos and ranks the sets by their overall efficiency scores. The `OligosetGenerator` ensures that only the best-performing sets of oligos are selected for downstream experimental use.\n",
    "\n",
    "## Key Objectives in Oligoset Generation\n",
    "\n",
    "- **Scoring Individual Oligos:** Each oligo is assigned a score based on its theoretical efficiency in the experimental context. Scores are computed using a class derived from `OligoScoringBase`. A list of implemented oligo scores is available [here](https://oligo-designer-toolsuite.readthedocs.io/en/latest/_api_docs/oligo_designer_toolsuite.oligo_efficiency_filter.html).\n",
    "- **Scoring Oligo Sets:** Once individual oligos are scored, they are grouped into sets of oligos based on a set generator. A scoring class derived from `SetScoringBase` evaluates the overall efficiency of each set. A list of implemented oligo scores is available [here](https://oligo-designer-toolsuite.readthedocs.io/en/latest/_api_docs/oligo_designer_toolsuite.oligo_efficiency_filter.html).\n",
    "- **Generating Oligo Sets:** Oligos in each set can be selected based on their positional overlap (`OligosetGeneratorIndependentSet`) or the homogeneity of specified oligo properties (`HomogeneousPropertyOligoSetGenerator`).\n",
    "- **Selection Policies:** The `OligoSelectionPolicy` classes define the strategy for selecting and optimizing non-overlapping oligo sets from a pool of candidates. These policies use greedy or graph-based approaches to navigate the large combinatorial space of possible oligo combinations. This ensures the generated sets meet experimental requirements while adhering to constraints like set size and distance between oligos.\n",
    "\n",
    "In this tutorial we show how one can:\n",
    "\n",
    "- [Score oligos](#scoring)\n",
    "\n",
    "- [Generate non-everlapping sets with a graph-based approach](#generating-oligosets)\n",
    "\n",
    "- [Get ready-to-use oligo sets](#output-structure)\n"
   ]
  },
  {
   "cell_type": "markdown",
   "metadata": {},
   "source": [
    "## Imports and setup"
   ]
  },
  {
   "cell_type": "code",
   "execution_count": 2,
   "metadata": {},
   "outputs": [],
   "source": [
    "import os\n",
    "\n",
    "from pathlib import Path\n",
    "from Bio.SeqUtils import MeltingTemp as mt\n",
    "\n",
    "from oligo_designer_toolsuite.database import (\n",
    "    OligoDatabase,\n",
    ")\n",
    "from oligo_designer_toolsuite.oligo_efficiency_filter import (\n",
    "    LowestSetScoring,\n",
    "    WeightedIsoformTmGCOligoScoring,\n",
    ")\n",
    "\n",
    "from oligo_designer_toolsuite.oligo_selection import (\n",
    "    GraphBasedSelectionPolicy,\n",
    "    OligosetGeneratorIndependentSet,\n",
    ")"
   ]
  },
  {
   "cell_type": "code",
   "execution_count": 3,
   "metadata": {},
   "outputs": [],
   "source": [
    "dir_output = os.path.abspath(\"./results\")\n",
    "Path(dir_output).mkdir(parents=True, exist_ok=True)\n",
    "\n",
    "n_jobs = 3"
   ]
  },
  {
   "cell_type": "markdown",
   "metadata": {},
   "source": [
    "### Load the database\n",
    "Like in previous tutorials, we will also be working with `OligoDatabase` objects. If you don't know how they work, please check our [oligo database tutorial](2-oligo-database.ipynb). In this tutorial, we will load an existing database."
   ]
  },
  {
   "cell_type": "code",
   "execution_count": 4,
   "metadata": {},
   "outputs": [
    {
     "data": {
      "text/html": [
       "<pre style=\"white-space:pre;overflow-x:auto;line-height:normal;font-family:Menlo,'DejaVu Sans Mono',consolas,'Courier New',monospace\">/Users/isra.mekki/miniforge3/envs/oligo_env/lib/python3.10/site-packages/rich/live.py:231: UserWarning: install \n",
       "\"ipywidgets\" for Jupyter support\n",
       "  warnings.warn('install \"ipywidgets\" for Jupyter support')\n",
       "</pre>\n"
      ],
      "text/plain": [
       "/Users/isra.mekki/miniforge3/envs/oligo_env/lib/python3.10/site-packages/rich/live.py:231: UserWarning: install \n",
       "\"ipywidgets\" for Jupyter support\n",
       "  warnings.warn('install \"ipywidgets\" for Jupyter support')\n"
      ]
     },
     "metadata": {},
     "output_type": "display_data"
    },
    {
     "data": {
      "text/html": [
       "<pre style=\"white-space:pre;overflow-x:auto;line-height:normal;font-family:Menlo,'DejaVu Sans Mono',consolas,'Courier New',monospace\"></pre>\n"
      ],
      "text/plain": []
     },
     "metadata": {},
     "output_type": "display_data"
    }
   ],
   "source": [
    "# Create Database object\n",
    "min_oligos_per_region = 3\n",
    "write_regions_with_insufficient_oligos = True\n",
    "lru_db_max_in_memory=n_jobs * 2 + 2\n",
    "database_name=\"db_oligos\"\n",
    "\n",
    "oligo_database = OligoDatabase(\n",
    "    min_oligos_per_region=min_oligos_per_region, \n",
    "    write_regions_with_insufficient_oligos=write_regions_with_insufficient_oligos, \n",
    "    lru_db_max_in_memory=lru_db_max_in_memory, \n",
    "    database_name=database_name, \n",
    "    dir_output=dir_output, \n",
    "    n_jobs=n_jobs,\n",
    ")\n",
    "\n",
    "# Load Database\n",
    "dir_database = os.path.abspath(\"./data/3_db_oligos_specificity_filter\")\n",
    "oligo_database.load_database(dir_database=dir_database, database_overwrite=True)"
   ]
  },
  {
   "cell_type": "markdown",
   "metadata": {},
   "source": [
    "## Scoring"
   ]
  },
  {
   "cell_type": "code",
   "execution_count": 5,
   "metadata": {},
   "outputs": [],
   "source": [
    "# Set parameters\n",
    "\n",
    "oligo_Tm_opt = 50\n",
    "oligo_GC_content_opt = 70\n",
    "oligo_isoform_weight = 2\n",
    "oligo_Tm_weight = 1\n",
    "oligo_GC_weight = 1\n",
    "\n",
    "pre_filter = False \n",
    "n_attempts = 100000\n",
    "heuristic = True\n",
    "heuristic_n_attempts = 100\n",
    "\n",
    "max_graph_size = 5000\n",
    "distance_between_oligos = 0\n",
    "\n",
    "oligo_size_opt = 5\n",
    "oligo_size_min = 3\n",
    "n_sets = 100\n",
    "\n",
    "oligo_GC_content_min = 40\n",
    "oligo_GC_content_max = 60\n",
    "\n",
    "oligo_Tm_min = 65 \n",
    "oligo_Tm_max = 75 \n",
    "\n",
    "Tm_parameters_oligo = {\n",
    "    \"check\": True, #default\n",
    "    \"strict\": True, #default\n",
    "    \"c_seq\": None, #default\n",
    "    \"shift\": 0, #default\n",
    "    \"nn_table\": \"DNA_NN3\", # Allawi & SantaLucia (1997)\n",
    "    \"tmm_table\": \"DNA_TMM1\", #default\n",
    "    \"imm_table\": \"DNA_IMM1\", #default\n",
    "    \"de_table\": \"DNA_DE1\", #default\n",
    "    \"dnac1\": 50, #[nM]\n",
    "    \"dnac2\": 0, #[nM]\n",
    "    \"selfcomp\": False, #default\n",
    "    \"saltcorr\": 7, # Owczarzy et al. (2008)\n",
    "    \"Na\": 39, #[mM]\n",
    "    \"K\": 75, #[mM]\n",
    "    \"Tris\": 20, #[mM]\n",
    "    \"Mg\": 10, #[mM]\n",
    "    \"dNTPs\": 0, #[mM] default\n",
    "}\n",
    "Tm_parameters_oligo[\"nn_table\"] = getattr(mt, Tm_parameters_oligo[\"nn_table\"])\n",
    "Tm_parameters_oligo[\"tmm_table\"] = getattr(mt, Tm_parameters_oligo[\"tmm_table\"])\n",
    "Tm_parameters_oligo[\"imm_table\"] = getattr(mt, Tm_parameters_oligo[\"imm_table\"])\n",
    "Tm_parameters_oligo[\"de_table\"] = getattr(mt, Tm_parameters_oligo[\"de_table\"])\n",
    "\n",
    "Tm_chem_correction_param_oligo = {\n",
    "    \"DMSO\": 0, #default\n",
    "    \"fmd\": 20,\n",
    "    \"DMSOfactor\": 0.75, #default\n",
    "    \"fmdfactor\": 0.65, #default\n",
    "    \"fmdmethod\": 1, #default\n",
    "    \"GC\": None, #default\n",
    "}\n",
    "\n",
    "Tm_salt_correction_param_oligo = None # use default settings"
   ]
  },
  {
   "cell_type": "code",
   "execution_count": 6,
   "metadata": {},
   "outputs": [],
   "source": [
    "# oligo scoring\n",
    "oligos_scoring = WeightedIsoformTmGCOligoScoring(\n",
    "    Tm_min=oligo_Tm_min,\n",
    "    Tm_opt=oligo_Tm_opt,\n",
    "    Tm_max=oligo_Tm_max,\n",
    "    GC_content_min=oligo_GC_content_min,\n",
    "    GC_content_opt=oligo_GC_content_opt,\n",
    "    GC_content_max=oligo_GC_content_max,\n",
    "    Tm_parameters=Tm_parameters_oligo,\n",
    "    Tm_chem_correction_parameters=Tm_chem_correction_param_oligo,\n",
    "    Tm_salt_correction_parameters=Tm_salt_correction_param_oligo,\n",
    "    isoform_weight=oligo_isoform_weight,\n",
    "    Tm_weight=oligo_Tm_weight,\n",
    "    GC_weight=oligo_GC_weight,\n",
    ")\n",
    "\n",
    "# set scoring\n",
    "set_scoring = LowestSetScoring(ascending=True)"
   ]
  },
  {
   "cell_type": "markdown",
   "metadata": {},
   "source": [
    "## Oligo Selection Policy\n",
    "\n",
    "The `GraphBasedSelectionPolicy` uses the scoring strategies, defined above, to iteratively select oligos that minimize the overall set score. Key features include:\n",
    "\n",
    "**Pre-Filtering:** If `pre_filter=True`, oligos are pre-filtered before set selection, which improves performance for larger sets (e.g., oligo_size_opt >= 10) but can dramatically slow down small set selection (e.g., oligo_size_opt = 5).\n",
    "\n",
    "**Heuristic Search:** A heuristic approach is employed to optimize set selection within a feasible runtime:\n",
    "\n",
    "- `heuristic`: Enables or disables heuristic optimization for faster results, which might not find the best possible set.\n",
    "- `heuristic_n_attempts`: Maximum number of attempts to find optimal sets.\n",
    "\n",
    "### Generating Oligosets\n",
    "\n",
    "Using the `OligosetGeneratorIndependentSet`, the pipeline generates non-overlapping sets of oligos. The generator uses the scoring strategies and selection policies to create optimal sets of a user-defined size.\n",
    "\n",
    "**Set Parameters:**\n",
    "\n",
    "- `set_size_opt`: Optimal number of oligos per set.\n",
    "- `set_size_min`: Minimum number of oligos required for a set.\n",
    "- `n_sets`: Number of sets to generate.\n",
    "\n",
    "**Graph Constraints:**\n",
    "\n",
    "- `max_graph_size`: Limits the size of the graph for feasible computation.\n",
    "- `distance_between_oligos`: Ensures no overlap between selected oligos."
   ]
  },
  {
   "cell_type": "code",
   "execution_count": 7,
   "metadata": {},
   "outputs": [],
   "source": [
    "selection_policy = GraphBasedSelectionPolicy(\n",
    "    set_scoring=set_scoring,\n",
    "    pre_filter=pre_filter,\n",
    "    n_attempts=n_attempts,\n",
    "    heuristic=heuristic,\n",
    "    heuristic_n_attempts=heuristic_n_attempts,\n",
    ")\n",
    "probeset_generator = OligosetGeneratorIndependentSet(\n",
    "    selection_policy=selection_policy,\n",
    "    oligos_scoring=oligos_scoring,\n",
    "    set_scoring=set_scoring,\n",
    "    max_oligos=max_graph_size,\n",
    "    distance_between_oligos=distance_between_oligos,\n",
    ")"
   ]
  },
  {
   "cell_type": "code",
   "execution_count": null,
   "metadata": {},
   "outputs": [],
   "source": [
    "oligo_database = probeset_generator.apply(\n",
    "    oligo_database=oligo_database,\n",
    "    sequence_type=\"oligo\",\n",
    "    set_size_opt=oligo_size_opt,\n",
    "    set_size_min=oligo_size_min,\n",
    "    n_sets=n_sets,\n",
    "    n_jobs=n_jobs,\n",
    ")\n",
    "\n",
    "# Save Database\n",
    "dir_database = \"4_db_oligoset_selection\"\n",
    "oligo_database.save_database(dir_database=dir_database)"
   ]
  },
  {
   "cell_type": "markdown",
   "metadata": {},
   "source": [
    "### Output Structure\n",
    "\n",
    "The generated sets are saved in a pandas DataFrame with the following structure:\n",
    "\n",
    " oligoset_id | oligo_0  | oligo_1  | oligo_2  |  ...  | oligo_n  | set_score_1 | set_score_2 |  ...  \n",
    "------------ | -------- | -------- | -------- | ----- | -------- | ----------- | ----------- | ------:\n",
    " 0           | AGRN_184 | AGRN_133 | AGRN_832 |  ...  | AGRN_706 | 0.3445      | 1.2332      |  ...  \n",
    "\n",
    "- **oligoset_id**: Identifies each oligo set.\n",
    "- **oligo_0, oligo_1, ...**: Oligos in the set.\n",
    "- **set_score_***: Scores representing the set's efficiency.\n",
    "\n",
    "Applying set selection to the OligoDatabase is critical for several reasons:\n",
    "\n",
    "- **Ensures Experimental Efficiency:** Generates sets of high-scoring oligos, ensuring effective target binding without competition.\n",
    "- **Customizable and Scalable:** Users can tailor scoring strategies and selection policies to meet specific experimental needs.\n",
    "- **Optimized Workflow:** Pre-filtering approaches and heuristic methods enable efficient generation of high-quality oligosets, even for large datasets.\n",
    "\n",
    "This step finalizes the pipeline by providing optimal, ready-to-use oligosets tailored to experimental requirements. These sets can then be directly integrated into downstream experimental protocols."
   ]
  },
  {
   "cell_type": "code",
   "execution_count": 9,
   "metadata": {},
   "outputs": [
    {
     "data": {
      "text/html": [
       "<div>\n",
       "<style scoped>\n",
       "    .dataframe tbody tr th:only-of-type {\n",
       "        vertical-align: middle;\n",
       "    }\n",
       "\n",
       "    .dataframe tbody tr th {\n",
       "        vertical-align: top;\n",
       "    }\n",
       "\n",
       "    .dataframe thead th {\n",
       "        text-align: right;\n",
       "    }\n",
       "</style>\n",
       "<table border=\"1\" class=\"dataframe\">\n",
       "  <thead>\n",
       "    <tr style=\"text-align: right;\">\n",
       "      <th></th>\n",
       "      <th>oligoset_id</th>\n",
       "      <th>oligo_0</th>\n",
       "      <th>oligo_1</th>\n",
       "      <th>oligo_2</th>\n",
       "      <th>oligo_3</th>\n",
       "      <th>oligo_4</th>\n",
       "      <th>set_score_worst</th>\n",
       "      <th>set_score_sum</th>\n",
       "    </tr>\n",
       "  </thead>\n",
       "  <tbody>\n",
       "    <tr>\n",
       "      <th>0</th>\n",
       "      <td>0</td>\n",
       "      <td>AARS1::3736</td>\n",
       "      <td>AARS1::1245</td>\n",
       "      <td>AARS1::7449</td>\n",
       "      <td>AARS1::7047</td>\n",
       "      <td>AARS1::761</td>\n",
       "      <td>1.0677</td>\n",
       "      <td>5.3124</td>\n",
       "    </tr>\n",
       "    <tr>\n",
       "      <th>1</th>\n",
       "      <td>1</td>\n",
       "      <td>AARS1::3736</td>\n",
       "      <td>AARS1::1245</td>\n",
       "      <td>AARS1::8018</td>\n",
       "      <td>AARS1::7047</td>\n",
       "      <td>AARS1::761</td>\n",
       "      <td>1.0677</td>\n",
       "      <td>5.3125</td>\n",
       "    </tr>\n",
       "    <tr>\n",
       "      <th>2</th>\n",
       "      <td>2</td>\n",
       "      <td>AARS1::3736</td>\n",
       "      <td>AARS1::1245</td>\n",
       "      <td>AARS1::6879</td>\n",
       "      <td>AARS1::7047</td>\n",
       "      <td>AARS1::761</td>\n",
       "      <td>1.0677</td>\n",
       "      <td>5.3131</td>\n",
       "    </tr>\n",
       "  </tbody>\n",
       "</table>\n",
       "</div>"
      ],
      "text/plain": [
       "   oligoset_id      oligo_0      oligo_1      oligo_2      oligo_3  \\\n",
       "0            0  AARS1::3736  AARS1::1245  AARS1::7449  AARS1::7047   \n",
       "1            1  AARS1::3736  AARS1::1245  AARS1::8018  AARS1::7047   \n",
       "2            2  AARS1::3736  AARS1::1245  AARS1::6879  AARS1::7047   \n",
       "\n",
       "      oligo_4  set_score_worst  set_score_sum  \n",
       "0  AARS1::761           1.0677         5.3124  \n",
       "1  AARS1::761           1.0677         5.3125  \n",
       "2  AARS1::761           1.0677         5.3131  "
      ]
     },
     "execution_count": 9,
     "metadata": {},
     "output_type": "execute_result"
    }
   ],
   "source": [
    "# Show oligosets for a specific gene\n",
    "oligo_database.oligosets[\"AARS1\"]"
   ]
  }
 ],
 "metadata": {
  "kernelspec": {
   "display_name": "oligo_env",
   "language": "python",
   "name": "python3"
  },
  "language_info": {
   "codemirror_mode": {
    "name": "ipython",
    "version": 3
   },
   "file_extension": ".py",
   "mimetype": "text/x-python",
   "name": "python",
   "nbconvert_exporter": "python",
   "pygments_lexer": "ipython3",
   "version": "3.10.15"
  }
 },
 "nbformat": 4,
 "nbformat_minor": 2
}
