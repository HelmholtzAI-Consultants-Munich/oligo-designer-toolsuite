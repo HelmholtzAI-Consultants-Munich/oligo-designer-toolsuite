{
 "cells": [
  {
   "cell_type": "markdown",
   "metadata": {},
   "source": [
    "## 4. Specificity Filters\n",
    "\n",
    "Specificity filtering is critical in oligo design to prevent off-target binding, a common problem in experiments using short oligos. Off-target binding occurs when oligos hybridize to unintended genomic regions, reducing the accuracy and reliability of the experiment. Specificity filters identify and eliminate these problematic oligos by aligning them to reference genomic sequences and removing those that bind outside their intended regions. Specificity filters rely on sequence alignment methods such as BLAST or Bowtie to compare oligos against a reference genomic database. A list of implemented specificity filters can be found [here](https://oligo-designer-toolsuite.readthedocs.io/en/latest/_api_docs/oligo_designer_toolsuite.oligo_specificity_filter.html).\n",
    "\n",
    "In this tutorial, you'll learn how to:\n",
    "\n",
    "- [Define a reference (background) database](#define-a-reference-database)\n",
    "\n",
    "- [Filter an oligo database by specificity](#run-specificity-filters)\n"
   ]
  },
  {
   "cell_type": "markdown",
   "metadata": {},
   "source": [
    "## Imports and setup"
   ]
  },
  {
   "cell_type": "code",
   "execution_count": 21,
   "metadata": {},
   "outputs": [],
   "source": [
    "import os\n",
    "\n",
    "from pathlib import Path\n",
    "\n",
    "from oligo_designer_toolsuite.database import (\n",
    "    OligoDatabase,\n",
    "    ReferenceDatabase,\n",
    ")\n",
    "\n",
    "from oligo_designer_toolsuite.oligo_specificity_filter import (\n",
    "    BlastNFilter,\n",
    "    CrossHybridizationFilter,\n",
    "    ExactMatchFilter,\n",
    "    RemoveByLargerRegionPolicy,\n",
    "    SpecificityFilter,\n",
    ")"
   ]
  },
  {
   "cell_type": "code",
   "execution_count": 22,
   "metadata": {},
   "outputs": [],
   "source": [
    "dir_output = os.path.abspath(\"./results\")\n",
    "Path(dir_output).mkdir(parents=True, exist_ok=True)\n",
    "\n",
    "n_jobs = 3"
   ]
  },
  {
   "cell_type": "markdown",
   "metadata": {},
   "source": [
    "## Filtering by specificity"
   ]
  },
  {
   "cell_type": "markdown",
   "metadata": {},
   "source": [
    "### Load the database\n",
    "Specificity filters operate on `OligoDatabase` objects. If you don't know how they work, please check our [oligo database tutorial](2-oligo-database.ipynb). In this tutorial, we will load an existing database."
   ]
  },
  {
   "cell_type": "code",
   "execution_count": 23,
   "metadata": {},
   "outputs": [
    {
     "data": {
      "text/html": [
       "<pre style=\"white-space:pre;overflow-x:auto;line-height:normal;font-family:Menlo,'DejaVu Sans Mono',consolas,'Courier New',monospace\">/Users/isra.mekki/miniforge3/envs/oligo_env/lib/python3.10/site-packages/rich/live.py:231: UserWarning: install \n",
       "\"ipywidgets\" for Jupyter support\n",
       "  warnings.warn('install \"ipywidgets\" for Jupyter support')\n",
       "</pre>\n"
      ],
      "text/plain": [
       "/Users/isra.mekki/miniforge3/envs/oligo_env/lib/python3.10/site-packages/rich/live.py:231: UserWarning: install \n",
       "\"ipywidgets\" for Jupyter support\n",
       "  warnings.warn('install \"ipywidgets\" for Jupyter support')\n"
      ]
     },
     "metadata": {},
     "output_type": "display_data"
    },
    {
     "data": {
      "text/html": [
       "<pre style=\"white-space:pre;overflow-x:auto;line-height:normal;font-family:Menlo,'DejaVu Sans Mono',consolas,'Courier New',monospace\"></pre>\n"
      ],
      "text/plain": []
     },
     "metadata": {},
     "output_type": "display_data"
    }
   ],
   "source": [
    "# Create Database object\n",
    "min_oligos_per_region = 3\n",
    "write_regions_with_insufficient_oligos = True\n",
    "lru_db_max_in_memory=n_jobs * 2 + 2\n",
    "database_name=\"db_oligos\"\n",
    "\n",
    "oligo_database = OligoDatabase(\n",
    "    min_oligos_per_region=min_oligos_per_region, \n",
    "    write_regions_with_insufficient_oligos=write_regions_with_insufficient_oligos, \n",
    "    lru_db_max_in_memory=lru_db_max_in_memory, \n",
    "    database_name=database_name, \n",
    "    dir_output=dir_output, \n",
    "    n_jobs=n_jobs,\n",
    ")\n",
    "\n",
    "# Load Database\n",
    "dir_database = os.path.abspath(\"./data/2_db_oligos_property_filter\")\n",
    "oligo_database.load_database(dir_database=dir_database, database_overwrite=True)"
   ]
  },
  {
   "cell_type": "markdown",
   "metadata": {},
   "source": [
    "### Define a reference database\n",
    "\n",
    "A reference database is essential for specificity filtering, as it serves as the alignment target. The database is typically generated from FASTA files containing genomic sequences. Tools such as the [genomic_region_generator pipeline](https://oligo-designer-toolsuite.readthedocs.io/en/latest/_pipelines/genomic_region_generator.html) can create these FASTA files from annotation sources like NCBI or Ensembl.\n",
    "\n",
    "*Note: A single reference database can be used for multiple filters but different specificity filters can also be applied with different reference databases, offering flexibility for various experimental needs.*"
   ]
  },
  {
   "cell_type": "code",
   "execution_count": 24,
   "metadata": {},
   "outputs": [],
   "source": [
    "files_fasta_reference_database = \"../data/genomic_regions/exon_annotation_source-NCBI_species-Homo_sapiens_annotation_release-110_genome_assemly-GRCh38.fna\"\n",
    "\n",
    "# Define Reference Database\n",
    "reference_database = ReferenceDatabase(\n",
    "    database_name=\"db_reference\", dir_output=dir_output\n",
    ")\n",
    "reference_database.load_database_from_fasta(\n",
    "    files_fasta=files_fasta_reference_database, database_overwrite=False\n",
    ")"
   ]
  },
  {
   "cell_type": "markdown",
   "metadata": {},
   "source": [
    "### Run specificity filters\n",
    "\n",
    "Like [property filters](3-property-filters.ipynb), specificity filters are implemented as modular classes. The `SpecificityFilter` class orchestrates the application of multiple filters sequentially, ensuring flexibility and scalability. Filters are applied in a user-defined order. Faster filters (e.g., exact matches) should be executed first to minimize computational load for subsequent, more intensive filters (e.g., BLAST)."
   ]
  },
  {
   "cell_type": "code",
   "execution_count": 25,
   "metadata": {},
   "outputs": [],
   "source": [
    "# Specificity Filter with BlastN\n",
    "specificity_blastn_search_parameters = {\n",
    "  \"perc_identity\": 80,\n",
    "  \"strand\": \"minus\", # this parameter is fixed, if reference is whole genome, consider using \"both\"\n",
    "  \"word_size\": 10,\n",
    "  \"dust\": \"no\",\n",
    "  \"soft_masking\": \"false\",\n",
    "  \"max_target_seqs\": 10,\n",
    "  \"max_hsps\": 1000,\n",
    "}\n",
    "specificity_blastn_hit_parameters = {\n",
    "  \"coverage\": 50 # can be turned into min_alignment_length\n",
    "}\n",
    "\n",
    "# Crosshybridization Filter with BlastN\n",
    "cross_hybridization_blastn_search_parameters = {\n",
    "  \"perc_identity\": 80,\n",
    "  \"strand\": \"minus\", # this parameter is fixed\n",
    "  \"word_size\": 10,\n",
    "  \"dust\": \"no\",\n",
    "  \"soft_masking\": \"false\",\n",
    "  \"max_target_seqs\": 10,\n",
    "}\n",
    "cross_hybridization_blastn_hit_parameters = {\n",
    "  \"coverage\": 80 # can be turned into min_alignment_length\n",
    "}"
   ]
  },
  {
   "cell_type": "code",
   "execution_count": null,
   "metadata": {},
   "outputs": [],
   "source": [
    "# Specificity Filters\n",
    "exact_matches = ExactMatchFilter(policy=RemoveByLargerRegionPolicy(), filter_name=\"exact_match\")\n",
    "\n",
    "cross_hybridization_aligner = BlastNFilter(\n",
    "    search_parameters=cross_hybridization_blastn_search_parameters,\n",
    "    hit_parameters=cross_hybridization_blastn_hit_parameters,\n",
    "    filter_name=\"blastn_crosshybridization\",\n",
    "    dir_output=dir_output,\n",
    ")\n",
    "cross_hybridization = CrossHybridizationFilter(\n",
    "    policy=RemoveByLargerRegionPolicy(),\n",
    "    alignment_method=cross_hybridization_aligner,\n",
    "    database_name_reference=\"db_reference\",\n",
    "    dir_output=dir_output,\n",
    ")\n",
    "\n",
    "specificity = BlastNFilter(\n",
    "    search_parameters=specificity_blastn_search_parameters,\n",
    "    hit_parameters=specificity_blastn_hit_parameters,\n",
    "    filter_name=\"blastn_specificity\",\n",
    "    dir_output=dir_output,\n",
    ")\n",
    "\n",
    "filters = [exact_matches, specificity, cross_hybridization]\n",
    "specificity_filter = SpecificityFilter(filters=filters)\n",
    "oligo_database = specificity_filter.apply(\n",
    "    sequence_type=\"oligo\",\n",
    "    oligo_database=oligo_database,\n",
    "    reference_database=reference_database,\n",
    "    n_jobs=n_jobs,\n",
    ")\n",
    "\n",
    "# Save Database\n",
    "oligo_database.save_database(\"3_db_oligos_specificity_filter\")"
   ]
  },
  {
   "cell_type": "markdown",
   "metadata": {},
   "source": [
    "By eliminating off-target binding oligos, specificity filtering ensures that the remaining sequences are highly selective for their intended regions, laying the groundwork for effective experimental designs.\n",
    "\n",
    "Applying specificity filters to the OligoDatabase is critical for several reasons:\n",
    "\n",
    "- **Enhances Experimental Accuracy:** Removes oligos that could bind to unintended genomic regions, reducing noise and improving the reliability of experimental results.\n",
    "- **Customizable Filtering:** Allows users to tailor filters to the specific requirements of their experiment, such as alignment stringency and coverage thresholds.\n",
    "- **Efficient Workflow:** Sequential application of filters minimizes computational costs by progressively reducing the size of the dataset."
   ]
  }
 ],
 "metadata": {
  "kernelspec": {
   "display_name": "oligo_env",
   "language": "python",
   "name": "python3"
  },
  "language_info": {
   "codemirror_mode": {
    "name": "ipython",
    "version": 3
   },
   "file_extension": ".py",
   "mimetype": "text/x-python",
   "name": "python",
   "nbconvert_exporter": "python",
   "pygments_lexer": "ipython3",
   "version": "3.10.15"
  }
 },
 "nbformat": 4,
 "nbformat_minor": 2
}
