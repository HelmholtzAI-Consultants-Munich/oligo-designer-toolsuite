{
 "cells": [
  {
   "cell_type": "markdown",
   "metadata": {},
   "source": [
    "# 2. Setup of an OligoDatabase\n",
    "\n",
    "The `OligoDatabase` is the core data structure for storing, organizing, and processing oligo sequences in any pipeline. It can load oligo sequences from one or more FASTA files, where each sequence is labeled with essential metadata in the header (see [the previous tutorial](1-oligo-sequences-generation.ipynb) for oligo sequences generation). This database provides a flexible and efficient way to manage oligos and their associated information for downstream filtering, scoring, and selection.\n",
    "\n",
    "In this tutorial we show how to:\n",
    "\n",
    "- [Create an oligo database from FASTA files](#creating-the-oligodatabase)\n",
    "\n",
    "- [Pre-filter oligos by attributes](#pre-filtering-oligos-by-attributes)\n",
    "\n",
    "- [Save and load a database object](#saving-and-retrieving-the-database)\n",
    "\n",
    "- [Export an oligo database as `tsv` or `FASTA`](#exporting-the-database)\n",
    "\n",
    "\n"
   ]
  },
  {
   "cell_type": "markdown",
   "metadata": {},
   "source": [
    "## Imports and setup"
   ]
  },
  {
   "cell_type": "code",
   "execution_count": 1,
   "metadata": {},
   "outputs": [],
   "source": [
    "import os\n",
    "import pprint\n",
    "\n",
    "from pathlib import Path\n",
    "\n",
    "from oligo_designer_toolsuite.database import (\n",
    "    OligoAttributes,\n",
    "    OligoDatabase,\n",
    ")"
   ]
  },
  {
   "cell_type": "code",
   "execution_count": 2,
   "metadata": {},
   "outputs": [],
   "source": [
    "dir_output = os.path.abspath(\"./results\")\n",
    "Path(dir_output).mkdir(parents=True, exist_ok=True)\n",
    "\n",
    "n_jobs = 3"
   ]
  },
  {
   "cell_type": "markdown",
   "metadata": {},
   "source": [
    "## Creating the OligoDatabase\n",
    "\n",
    "An OligoDatabase object is initialized with parameters that define how the oligo data will be managed and stored.\n",
    "\n",
    "Initialization Parameters:\n",
    "\n",
    "- `min_oligos_per_region`: Minimum number of oligos required for a region to be retained in the database. Regions with fewer oligos will be logged and excluded.\n",
    "- `write_regions_with_insufficient_oligos`: Whether to log regions that do not meet the minimum oligo threshold.\n",
    "- `lru_db_max_in_memory`: Determines the number of regions loaded into RAM at once, optimizing memory usage.\n",
    "- `database_name`: Name assigned to the database.\n",
    "- `dir_output`: Directory where the database and associated files will be saved.\n",
    "- `n_jobs`: Number of parallel processes to use for database operations."
   ]
  },
  {
   "cell_type": "code",
   "execution_count": 3,
   "metadata": {},
   "outputs": [],
   "source": [
    "min_oligos_per_region = 3\n",
    "write_regions_with_insufficient_oligos = True\n",
    "lru_db_max_in_memory=n_jobs * 2 + 2\n",
    "database_name=\"db_oligos\""
   ]
  },
  {
   "cell_type": "code",
   "execution_count": 4,
   "metadata": {},
   "outputs": [],
   "source": [
    "oligo_database = OligoDatabase(\n",
    "    min_oligos_per_region=min_oligos_per_region, \n",
    "    write_regions_with_insufficient_oligos=write_regions_with_insufficient_oligos, \n",
    "    lru_db_max_in_memory=lru_db_max_in_memory, \n",
    "    database_name=database_name, \n",
    "    dir_output=dir_output, \n",
    "    n_jobs=n_jobs,\n",
    ")"
   ]
  },
  {
   "cell_type": "markdown",
   "metadata": {},
   "source": [
    "### Loading Sequences into the Database\n",
    "\n",
    "The `load_database_from_fasta()` method imports sequences into the database from a FASTA file. This method can load both:\n",
    "\n",
    "- **Target Sequences**: Genomic sequences from which oligos will be designed.\n",
    "- **Oligo Sequences**: Pre-designed or randomly generated oligos.\n",
    "\n",
    "The `sequence_type` parameter determines whether the sequences represent target regions or oligo sequences. For target sequences, the reverse complement will be automatically generated."
   ]
  },
  {
   "cell_type": "markdown",
   "metadata": {},
   "source": [
    "#### Input Requirements for FASTA Files\n",
    "\n",
    "The input FASTA file must adhere to the following structure:\n",
    "\n",
    "**Header Format:** Each sequence must have a header starting with the **>** character.\n",
    "The header should contain:\n",
    "\n",
    "- ***region_id***: A unique identifier for the genomic region (e.g., gene name or ID). This is mandatory.\n",
    "- ***additional_information***: Optional metadata fields such as transcript ID or exon number, separated by commas.\n",
    "- ***coordinates***: Genomic location in the format chrom:start-end(strand), which is optional.\n",
    "\n",
    "**Sequence Content:** The sequence follows the header in standard FASTA format.\n",
    "\n",
    "**Example:** \n",
    " \n",
    "*>ASR1::transcrip_id=XM456,exon_number=5::16:54552-54786(+)*  \n",
    "AGTTGACAGACCCCAGATTAAAGTGTGTCGCGCAACAC   \n",
    "\n",
    "or\n",
    "   \n",
    "*>ASR1*  \n",
    "AGTTGACAGACCCCAGATTAAAGTGTGTCGCGCAACAC"
   ]
  },
  {
   "cell_type": "code",
   "execution_count": 5,
   "metadata": {},
   "outputs": [
    {
     "data": {
      "text/html": [
       "<pre style=\"white-space:pre;overflow-x:auto;line-height:normal;font-family:Menlo,'DejaVu Sans Mono',consolas,'Courier New',monospace\">/Users/isra.mekki/miniforge3/envs/oligo_env/lib/python3.10/site-packages/rich/live.py:231: UserWarning: install \n",
       "\"ipywidgets\" for Jupyter support\n",
       "  warnings.warn('install \"ipywidgets\" for Jupyter support')\n",
       "</pre>\n"
      ],
      "text/plain": [
       "/Users/isra.mekki/miniforge3/envs/oligo_env/lib/python3.10/site-packages/rich/live.py:231: UserWarning: install \n",
       "\"ipywidgets\" for Jupyter support\n",
       "  warnings.warn('install \"ipywidgets\" for Jupyter support')\n"
      ]
     },
     "metadata": {},
     "output_type": "display_data"
    },
    {
     "data": {
      "text/html": [
       "<pre style=\"white-space:pre;overflow-x:auto;line-height:normal;font-family:Menlo,'DejaVu Sans Mono',consolas,'Courier New',monospace\"></pre>\n"
      ],
      "text/plain": []
     },
     "metadata": {},
     "output_type": "display_data"
    },
    {
     "data": {
      "text/html": [
       "<pre style=\"white-space:pre;overflow-x:auto;line-height:normal;font-family:Menlo,'DejaVu Sans Mono',consolas,'Courier New',monospace\"></pre>\n"
      ],
      "text/plain": []
     },
     "metadata": {},
     "output_type": "display_data"
    }
   ],
   "source": [
    "# Loading Target Sequences: Clears the database and loads genomic sequences as targets for oligo design.\n",
    "gene_ids = [\"AARS1\", \"DECR2\", \"PRR35\"]\n",
    "files_fasta = [\"./data/AARS1.fna\", \"./data/DECR2.fna\", \"./data/PRR35.fna\"]\n",
    "oligo_database.load_database_from_fasta(\n",
    "    files_fasta=files_fasta, \n",
    "    database_overwrite=True, # Clears the existing database before loading the new sequences.\n",
    "    sequence_type=\"target\", \n",
    "    region_ids=gene_ids, \n",
    ")\n",
    "\n",
    "# Appending Oligo Sequences: Adds pre-generated oligos (e.g., random sequences) to the existing database without clearing it.\n",
    "oligo_random_fasta_file = \"./data/random_probe_sequences.fna\"\n",
    "oligo_database.load_database_from_fasta(\n",
    "    files_fasta=oligo_random_fasta_file, \n",
    "    database_overwrite=False, # Appends the new sequences to the existing database.\n",
    "    sequence_type=\"oligo\", \n",
    "    region_ids=None, \n",
    ")"
   ]
  },
  {
   "cell_type": "markdown",
   "metadata": {},
   "source": [
    "Once the `OligoDatabase` is created, oligos are loaded from FASTA files and stored in a nested dictionary structure. This step organizes the oligos, ensuring efficient storage and enabling downstream analysis. The metadata from the FASTA headers is automatically parsed and stored as features for each oligo, enabling flexible filtering and scoring.\n",
    "\n",
    "### Nested Dictionary Structure\n",
    "\n",
    "The loaded oligos are stored in the `OligoDatabase` as a nested dictionary with the following structure:\n",
    "\n",
    "``[region_id][oligo_id][oligo_features]``\n",
    "\n",
    "- **region_id**: A unique identifier (e.g., gene name) grouping oligos that belong to the same genomic region.\n",
    "- **oligo_id**: A unique identifier for each oligo within the region.\n",
    "- **oligo_features**: A dictionary containing metadata such as sequence, genomic location, and other annotations."
   ]
  },
  {
   "cell_type": "code",
   "execution_count": 6,
   "metadata": {},
   "outputs": [
    {
     "name": "stdout",
     "output_type": "stream",
     "text": [
      "{'AARS1': {'AARS1::1': {'annotation_release': [['110']],\n",
      "                        'chromosome': [['16']],\n",
      "                        'end': [[70265662]],\n",
      "                        'exon_number': [['10', '10']],\n",
      "                        'gene_id': [['AARS1']],\n",
      "                        'genome_assembly': [['GRCh38']],\n",
      "                        'number_total_transcripts': [['2']],\n",
      "                        'oligo': 'GGAAACCCATAGGTGTCATAGAGGAGCCAAGCAGTGTCTC',\n",
      "                        'regiontype': [['exon']],\n",
      "                        'source': [['NCBI']],\n",
      "                        'species': [['Homo_sapiens']],\n",
      "                        'start': [[70265623]],\n",
      "                        'strand': [['-']],\n",
      "                        'target': 'GAGACACTGCTTGGCTCCTCTATGACACCTATGGGTTTCC',\n",
      "                        'transcript_id': [['NM_001605.3', 'XM_047433666.1']]},\n",
      "           'AARS1::2': {'annotation_release': [['110']],\n",
      "                        'chromosome': [['16']],\n",
      "                        'end': [[70265661]],\n",
      "                        'exon_number': [['10', '10']],\n",
      "                        'gene_id': [['AARS1']],\n",
      "                        'genome_assembly': [['GRCh38']],\n",
      "                        'number_total_transcripts': [['2']],\n",
      "                        'oligo': 'TGGAAACCCATAGGTGTCATAGAGGAGCCAAGCAGTGTCT',\n",
      "                        'regiontype': [['exon']],\n",
      "                        'source': [['NCBI']],\n",
      "                        'species': [['Homo_sapiens']],\n",
      "                        'start': [[70265622]],\n",
      "                        'strand': [['-']],\n",
      "                        'target': 'AGACACTGCTTGGCTCCTCTATGACACCTATGGGTTTCCA',\n",
      "                        'transcript_id': [['NM_001605.3', 'XM_047433666.1']]}}}\n"
     ]
    }
   ],
   "source": [
    "region = list(oligo_database.database.keys())[0]\n",
    "oligo_id_1 = list(oligo_database.database[region].keys())[0]\n",
    "oligo_id_2 = list(oligo_database.database[region].keys())[1]\n",
    "\n",
    "sample_oligos_DB = {region: {oligo_id_1: oligo_database.database[region][oligo_id_1], \n",
    "                           oligo_id_2: oligo_database.database[region][oligo_id_2]}}\n",
    "pprint.pprint(sample_oligos_DB)"
   ]
  },
  {
   "cell_type": "markdown",
   "metadata": {},
   "source": [
    "## Pre-Filtering Oligos by Attributes\n",
    "\n",
    "After loading the oligos, a pre-filtering step can be performed to eliminate oligos that do not meet basic criteria. This filtering uses attributes derived from the metadata in the FASTA headers or calculated using the `OligoAttributes` class.\n",
    "\n",
    "1. **Calculating Attributes:** Additional attributes, such as isoform_consensus (the percentage of transcripts covered by the oligo for the target gene), can be computed for each oligo.\n",
    "2. **Filtering by Attribute Threshold:** Oligos are filtered based on a threshold for a specific attribute. For example, to retain only oligos with at least 50% isoform consensus.\n",
    "3. **Removing Regions with Insufficient Oligos:** Regions with fewer than the minimum required number of oligos are removed from the database:"
   ]
  },
  {
   "cell_type": "code",
   "execution_count": 7,
   "metadata": {},
   "outputs": [],
   "source": [
    "isoform_consensus = 50"
   ]
  },
  {
   "cell_type": "code",
   "execution_count": 8,
   "metadata": {},
   "outputs": [],
   "source": [
    "# Calculating Attributes\n",
    "oligo_attributes_calculator = OligoAttributes()\n",
    "oligo_database = oligo_attributes_calculator.calculate_isoform_consensus(\n",
    "    oligo_database=oligo_database\n",
    ")\n",
    "\n",
    "# Filtering by Attribute Threshold\n",
    "oligo_database.filter_database_by_attribute_threshold(\n",
    "    attribute_name=\"isoform_consensus\", #name of the attribute that should be used for filtering\n",
    "    attribute_thr=isoform_consensus, #threshold for filtering \n",
    "    remove_if_smaller_threshold=True, #define if the oligo should be removed if the attribute is greater or smaller than the defined threshold\n",
    ")\n",
    "\n",
    "# Removing Regions with Insufficient Oligos\n",
    "oligo_database.remove_regions_with_insufficient_oligos(pipeline_step=\"Pre-Filters\") "
   ]
  },
  {
   "cell_type": "markdown",
   "metadata": {},
   "source": [
    "## Saving and Retrieving the Database\n",
    "\n",
    "To preserve the state of the database at any point, the `save_database()` and `load_database()` functions can be used. This ensures that progress is not lost and enables resuming the pipeline from intermediate steps."
   ]
  },
  {
   "cell_type": "code",
   "execution_count": 9,
   "metadata": {},
   "outputs": [
    {
     "data": {
      "text/html": [
       "<pre style=\"white-space:pre;overflow-x:auto;line-height:normal;font-family:Menlo,'DejaVu Sans Mono',consolas,'Courier New',monospace\"></pre>\n"
      ],
      "text/plain": []
     },
     "metadata": {},
     "output_type": "display_data"
    }
   ],
   "source": [
    "# Save Database\n",
    "dir_database = oligo_database.save_database(dir_database=\"1_db_oligos_initial\")\n",
    "\n",
    "# Load Database\n",
    "oligo_database.load_database(dir_database=dir_database, database_overwrite=True)"
   ]
  },
  {
   "cell_type": "markdown",
   "metadata": {},
   "source": [
    "## Exporting the Database\n",
    "\n",
    "The database can also be exported for analysis in other tools or formats:\n",
    "\n",
    "- **Export as TSV:** Outputs a table of oligos and their attributes (`write_database_to_table()`)\n",
    "- **Export as FASTA:** Outputs oligo sequences in FASTA format (`write_database_to_fasta()`)"
   ]
  },
  {
   "cell_type": "markdown",
   "metadata": {},
   "source": [
    "The setup of the OligoDatabase is critical for several reasons:\n",
    "\n",
    "- **Centralized Data Management:** Provides a structured repository for oligos and their metadata.\n",
    "- **Customizability:** Allows for filtering based on the number of oligos per region and specific target regions.\n",
    "- **Scalability:** Efficiently handles large genomic datasets by managing memory usage and parallel processing.\n",
    "- **Flexibility:** Supports both genomic and pre-designed oligos, enabling a wide range of experimental setups.\n",
    "\n",
    "By defining the database structure and loading sequences with proper metadata, this step ensures that the downstream steps (e.g., filtering and scoring) are applied seamlessly and effectively."
   ]
  }
 ],
 "metadata": {
  "kernelspec": {
   "display_name": "oligo_env",
   "language": "python",
   "name": "python3"
  },
  "language_info": {
   "codemirror_mode": {
    "name": "ipython",
    "version": 3
   },
   "file_extension": ".py",
   "mimetype": "text/x-python",
   "name": "python",
   "nbconvert_exporter": "python",
   "pygments_lexer": "ipython3",
   "version": "3.10.15"
  }
 },
 "nbformat": 4,
 "nbformat_minor": 2
}
