{
 "cells": [
  {
   "cell_type": "code",
   "execution_count": 1,
   "metadata": {},
   "outputs": [
    {
     "name": "stdout",
     "output_type": "stream",
     "text": [
      "/home/francesco/Desktop/Work/oligo-designer-toolsuite/output\n"
     ]
    }
   ],
   "source": [
    "import os\n",
    "import sys\n",
    "import time\n",
    "\n",
    "os.chdir('../' )\n",
    "cwd = os.getcwd()\n",
    "sys.path.append(cwd)\n",
    "\n",
    "from oligo_designer_toolsuite.IO._database import CustomDB\n",
    "from oligo_designer_toolsuite.oligo_selection._resolve_overlapping_oligos import ProbesetGenerator\n",
    "from oligo_designer_toolsuite.oligo_selection._probe_scoring import PadlockProbeScoring, PadlockSetScoring\n",
    "from oligo_designer_toolsuite.oligo_selection._heuristic_methods import padlock_heuristic_selection\n",
    "\n",
    "os.chdir('../' )\n",
    "cwd = os.getcwd()\n",
    "dir_output  = os.path.join(cwd, 'oligo-designer-toolsuite/output')\n",
    "print(dir_output)\n",
    "\n"
   ]
  },
  {
   "cell_type": "markdown",
   "metadata": {},
   "source": [
    "Initilitze the classes"
   ]
  },
  {
   "cell_type": "code",
   "execution_count": 2,
   "metadata": {},
   "outputs": [],
   "source": [
    "dir_annotation = '/home/francesco/Desktop/Work/NCBI'\n",
    "annotation = dir_annotation+'/GCF_000001405.40_GRCh38.p14_genomic.gtf'\n",
    "sequence = dir_annotation+'/GCF_000001405.40_GRCh38.p14_genomic.fna'\n",
    "file_oligos = '/home/francesco/Desktop/Work/oligo-designer-toolsuite/output/probes/probes_info.tsv'\n",
    "\n",
    "\n"
   ]
  },
  {
   "cell_type": "code",
   "execution_count": 3,
   "metadata": {},
   "outputs": [
    {
     "name": "stderr",
     "output_type": "stream",
     "text": [
      "/home/francesco/Desktop/Work/oligo-designer-toolsuite/oligo_designer_toolsuite/IO/_database.py:59: UserWarning: Species not specified.\n",
      "  warnings.warn(\"Species not specified.\")\n",
      "/home/francesco/Desktop/Work/oligo-designer-toolsuite/oligo_designer_toolsuite/IO/_database.py:63: UserWarning: Genome assembly not specified.\n",
      "  warnings.warn(f\"Genome assembly not specified.\")\n",
      "/home/francesco/Desktop/Work/oligo-designer-toolsuite/oligo_designer_toolsuite/IO/_database.py:67: UserWarning: Annotation release not specified.\n",
      "  warnings.warn(f\"Annotation release not specified.\")\n",
      "/home/francesco/Desktop/Work/oligo-designer-toolsuite/oligo_designer_toolsuite/IO/_database.py:71: UserWarning: Annotation source not specified.\n",
      "  warnings.warn(f\"Annotation source not specified.\")\n"
     ]
    },
    {
     "name": "stdout",
     "output_type": "stream",
     "text": [
      "<class 'dict'>\n",
      "<class 'dict'>\n",
      "<class 'dict'>\n",
      "<class 'dict'>\n",
      "<class 'dict'>\n",
      "<class 'dict'>\n",
      "<class 'dict'>\n",
      "<class 'dict'>\n",
      "<class 'dict'>\n",
      "<class 'dict'>\n",
      "time to process: 2.2627978324890137\n"
     ]
    }
   ],
   "source": [
    "database = CustomDB(probe_length_min = 30, probe_length_max = 40, filters = None, dir_output=dir_output, file_annotation=annotation, file_sequence=sequence)\n",
    "database.read_oligos_DB(format = 'tsv', file_oligos_DB_tsv = file_oligos)\n",
    "#enalrge teh DB\n",
    "genes = list(database.oligos_DB.keys())\n",
    "for gene in genes:\n",
    "    for i in range(1):\n",
    "        database.oligos_DB[gene+f'_{i}'] = database.oligos_DB[gene]\n",
    "padlock_scoring = PadlockProbeScoring(Tm_min = 52, Tm_opt = 60, Tm_max = 67, GC_min = 40, GC_opt = 50, GC_max = 60)\n",
    "set_scoring = PadlockSetScoring()\n",
    "n_jobs = 12\n",
    "probeset_generator = ProbesetGenerator(n_probes_per_gene = 5, \n",
    "                                        min_n_probes_per_gene = 2, DB = database, \n",
    "                                        probes_scoring = padlock_scoring, \n",
    "                                        heurustic_selection = padlock_heuristic_selection, \n",
    "                                        set_scoring=set_scoring,\n",
    "                                        n_jobs=n_jobs\n",
    "                                    )\n",
    "start = time.time()\n",
    "database = probeset_generator.get_probe_sets(n_sets=100)\n",
    "print(f'time to process: {time.time() - start}')"
   ]
  },
  {
   "cell_type": "code",
   "execution_count": 6,
   "metadata": {},
   "outputs": [
    {
     "name": "stdout",
     "output_type": "stream",
     "text": [
      "Help on function apply in module oligo_designer_toolsuite.oligo_selection._probe_scoring:\n",
      "\n",
      "apply(self, probes, probes_indices)\n",
      "    Scores all the probes using the defiend scoring function. The scores are both saved in the dictionary\n",
      "    and in a pandas.Series. The latter is generated because it is the fastest way to generate the sets.\n",
      "    \n",
      "    :param probes: dictionary containing the probes\n",
      "    :type probes: dict\n",
      "    :param probes_indices: list of the indices of the probes used as a reference to keep the ordering of the probes consistent\n",
      "    :type probes_indices: np.array\n",
      "    :return: updated dictionary of the probes, series with the computed scores\n",
      "    :rtype: dict, pandas.Series\n",
      "\n"
     ]
    }
   ],
   "source": [
    "help(PadlockProbeScoring.apply)"
   ]
  }
 ],
 "metadata": {
  "kernelspec": {
   "display_name": "Python 3.10.4 ('oligo')",
   "language": "python",
   "name": "python3"
  },
  "language_info": {
   "codemirror_mode": {
    "name": "ipython",
    "version": 3
   },
   "file_extension": ".py",
   "mimetype": "text/x-python",
   "name": "python",
   "nbconvert_exporter": "python",
   "pygments_lexer": "ipython3",
   "version": "3.10.4"
  },
  "orig_nbformat": 4,
  "vscode": {
   "interpreter": {
    "hash": "7ff94d65164c54a2126c7dc0869520902e3a005d5dddb9f8c3667ad0fd9373c9"
   }
  }
 },
 "nbformat": 4,
 "nbformat_minor": 2
}
