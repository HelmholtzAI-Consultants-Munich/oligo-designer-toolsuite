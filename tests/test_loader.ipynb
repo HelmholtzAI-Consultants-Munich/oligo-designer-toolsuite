{
 "cells": [
  {
   "cell_type": "code",
   "execution_count": 1,
   "metadata": {},
   "outputs": [],
   "source": [
    "import os\n",
    "import sys\n",
    "\n",
    "os.chdir('../' )\n",
    "cwd = os.getcwd()\n",
    "sys.path.append(cwd)\n",
    "\n",
    "from oligo_designer_toolsuite.IO import FtpLoaderEnsembl, FTPLoaderNCBI"
   ]
  },
  {
   "cell_type": "code",
   "execution_count": 2,
   "metadata": {},
   "outputs": [],
   "source": [
    "#Parameters\n",
    "dir_output  = os.path.join(cwd, 'oligo_designer_toolsuite/output/annotations')\n",
    "designer_name = 'oligo'\n",
    "\n",
    "species= 'human' # available species: human or mouse\n",
    "genome_assembly= 'GRCh38' # genome assembly for species | for human: GRCh37 or GRCh38 | for mouse: GRCm38 or GRCm39\n",
    "annotation_release= 'current'"
   ]
  },
  {
   "cell_type": "code",
   "execution_count": 4,
   "metadata": {},
   "outputs": [],
   "source": [
    "loader_ncbi=FTPLoaderNCBI(dir_output, species,annotation_release)"
   ]
  },
  {
   "cell_type": "code",
   "execution_count": 5,
   "metadata": {},
   "outputs": [
    {
     "data": {
      "text/plain": [
       "'/home/francesco/Desktop/Work/oligo-designer-toolsuite/oligo_designer_toolsuite/output/annotations/GCF_000001405.40_GRCh38.p14_genomic.gtf'"
      ]
     },
     "execution_count": 5,
     "metadata": {},
     "output_type": "execute_result"
    }
   ],
   "source": [
    "#from pathlib import Path\n",
    "#Path(dir_output).mkdir(parents=True, exist_ok=True)\n",
    "\n",
    "loader_ncbi.download_files(\"gtf\")\n"
   ]
  },
  {
   "cell_type": "code",
   "execution_count": 4,
   "metadata": {},
   "outputs": [
    {
     "name": "stdout",
     "output_type": "stream",
     "text": [
      "usage: Padlock Oligo Designer [options]\n",
      "\n",
      "Pipeline to designe Padlock oligos. The program supports two ways to recieve the input parameters: \n",
      "\n",
      "- command line input\n",
      "- configuration file (recommended)\n",
      "\n",
      "A standard configuration file can be generated using the following command ...\n",
      "\n",
      "Since the number of input parameters requested is too high to be handled only through the command line, \n",
      "the progam will use as baseline the configuration file (it will be automatically generated if it wasn't provided)\n",
      "and the parameters specified in the command line will be overwritten with the values given.\n",
      "\n",
      "REMARK: melting temperature parameters can be given only through the configuration file.\n",
      "\n",
      "options:\n",
      "  -h, --help      show this help message and exit\n",
      "  -o , --output   path of output directory\n"
     ]
    }
   ],
   "source": [
    "\n",
    "from argparse import ArgumentParser, RawDescriptionHelpFormatter\n",
    "\"\"\"Pipeline to designe Padlock oligos. The program supports two ways to recieve the input parameters: \n",
    "\n",
    "- command line input\n",
    "- configuration file (recommended)\n",
    "\n",
    "A standard configuration file can be generated using the following command ...\n",
    "\n",
    "Since the number of input parameters requested is too high to be handled only through the command line, \n",
    "the progam will use as baseline the configuration file (it will be automatically generated if it wasn't provided)\n",
    "and the parameters specified in the command line will be overwritten with the values given.\n",
    "\n",
    "REMARK: melting temperature parameters can be given only through the configuration file.\n",
    "\"\"\"\n",
    "\n",
    "# get comman line arguments\n",
    "parser = ArgumentParser(\n",
    "    prog=\"Padlock Oligo Designer\",\n",
    "    usage='%(prog)s [options]',\n",
    "    description=__doc__,\n",
    "    formatter_class=RawDescriptionHelpFormatter,\n",
    ")\n",
    "parser.add_argument('-o', '--output', help=\"path of output directory\", required=True, type=str, metavar='')\n",
    "parser.print_help()\n"
   ]
  }
 ],
 "metadata": {
  "kernelspec": {
   "display_name": "Python 3.10.4 ('oligo')",
   "language": "python",
   "name": "python3"
  },
  "language_info": {
   "codemirror_mode": {
    "name": "ipython",
    "version": 3
   },
   "file_extension": ".py",
   "mimetype": "text/x-python",
   "name": "python",
   "nbconvert_exporter": "python",
   "pygments_lexer": "ipython3",
   "version": "3.10.4"
  },
  "orig_nbformat": 4,
  "vscode": {
   "interpreter": {
    "hash": "7ff94d65164c54a2126c7dc0869520902e3a005d5dddb9f8c3667ad0fd9373c9"
   }
  }
 },
 "nbformat": 4,
 "nbformat_minor": 2
}
