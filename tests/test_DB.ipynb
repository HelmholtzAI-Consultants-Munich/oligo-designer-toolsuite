{
 "cells": [
  {
   "cell_type": "markdown",
   "metadata": {},
   "source": [
    "# Test DB class"
   ]
  },
  {
   "cell_type": "code",
   "execution_count": 1,
   "metadata": {},
   "outputs": [
    {
     "name": "stdout",
     "output_type": "stream",
     "text": [
      "/home/francesco/Desktop/Work/oligo-designer-toolsuite/oligo_designer_toolsuite/output/annotations\n"
     ]
    }
   ],
   "source": [
    "import os\n",
    "import sys\n",
    "\n",
    "os.chdir('../' )\n",
    "cwd = os.getcwd()\n",
    "dir_output  = os.path.join(cwd, 'oligo_designer_toolsuite/output/annotations')\n",
    "print(dir_output)\n",
    "sys.path.append(cwd)\n",
    "\n",
    "from oligo_designer_toolsuite.IO._database import NcbiDB, EnsemblDB, CustomDB"
   ]
  },
  {
   "cell_type": "markdown",
   "metadata": {},
   "source": [
    "### Test the NCBI creator\n",
    "\n",
    "Check if the files are dowloaded correclty from the server"
   ]
  },
  {
   "cell_type": "code",
   "execution_count": 2,
   "metadata": {},
   "outputs": [],
   "source": [
    "#ncbi = NcbiDB(probe_length_min = 20, probe_length_max=30, dir_output=dir_output, filters = [])"
   ]
  },
  {
   "cell_type": "code",
   "execution_count": 3,
   "metadata": {},
   "outputs": [],
   "source": [
    "#ensembl = EnsemblDB(probe_length_min = 20, probe_length_max=30, dir_output=dir_output, filters = [])"
   ]
  },
  {
   "cell_type": "markdown",
   "metadata": {},
   "source": [
    "### Test the creation of DB\n",
    "\n",
    "Load the previously dowloaded files and create the reference and oligo DB"
   ]
  },
  {
   "cell_type": "code",
   "execution_count": 4,
   "metadata": {},
   "outputs": [
    {
     "name": "stderr",
     "output_type": "stream",
     "text": [
      "/home/francesco/Desktop/Work/oligo-designer-toolsuite/oligo_designer_toolsuite/IO/_database.py:59: UserWarning: Species not specified.\n",
      "  warnings.warn(\"Species not specified.\")\n",
      "/home/francesco/Desktop/Work/oligo-designer-toolsuite/oligo_designer_toolsuite/IO/_database.py:63: UserWarning: Genome assembly not specified.\n",
      "  warnings.warn(f\"Genome assembly not specified.\")\n",
      "/home/francesco/Desktop/Work/oligo-designer-toolsuite/oligo_designer_toolsuite/IO/_database.py:67: UserWarning: Annotation release not specified.\n",
      "  warnings.warn(f\"Annotation release not specified.\")\n",
      "/home/francesco/Desktop/Work/oligo-designer-toolsuite/oligo_designer_toolsuite/IO/_database.py:71: UserWarning: Annotation source not specified.\n",
      "  warnings.warn(f\"Annotation source not specified.\")\n"
     ]
    }
   ],
   "source": [
    "dir_annotation = '/home/francesco/Desktop/Work/NCBI'\n",
    "annotation = dir_annotation+'/GCF_000001405.40_GRCh38.p14_genomic.gtf'\n",
    "sequence = dir_annotation+'/GCF_000001405.40_GRCh38.p14_genomic.fna'\n",
    "custom = CustomDB(probe_length_min = 30, probe_length_max=40, file_annotation=annotation, file_sequence=sequence, filters = [])"
   ]
  },
  {
   "cell_type": "code",
   "execution_count": 5,
   "metadata": {},
   "outputs": [],
   "source": [
    "#custom.create_reference_DB(dir_output=dir_output)"
   ]
  },
  {
   "cell_type": "code",
   "execution_count": 8,
   "metadata": {},
   "outputs": [
    {
     "name": "stdout",
     "output_type": "stream",
     "text": [
      "list of all the genes in the DB:\n",
      "dict_keys(['WASH7P', 'DDX11L1', 'TRNT', 'NOC2L', 'PLEKHN1', 'AGRN', 'UBE2J2', 'DVL1', 'MIB2', 'LOC112268402_1'])\n",
      "Features of the first probe of the DB:\n",
      "{'probe_sequence': Seq('GCACCATGACTCCTGTGAGGATGCAGCACT'), 'transcript_id': ['NR_024540.1', 'NR_024540.1'], 'exon_id': ['NR_024540.1_exon2', 'NR_024540.1_exon2_NR_024540.1_exon1'], 'chromosome': '1', 'start': [24737, 24891], 'end': [24767, 24921], 'strand': '-', 'length': 30}\n"
     ]
    }
   ],
   "source": [
    "genes = ['WASH7P', 'DDX11L1', 'TRNT', 'NOC2L', 'PLEKHN1', 'AGRN','UBE2J2', 'DVL1', 'MIB2', 'LOC112268402_1' ]\n",
    "custom.create_reference_DB()\n",
    "custom.create_oligos_DB(genes = genes, n_jobs = 10)\n",
    "custom.write_oligos_DB(format = 'tsv')\n",
    "print(\"list of all the genes in the DB:\")\n",
    "print(custom.oligos_DB.keys())\n",
    "gene = list(custom.oligos_DB.keys())[0]\n",
    "probe = list(custom.oligos_DB[gene].keys())[0]\n",
    "print(\"Features of the first probe of the DB:\")\n",
    "print(custom.oligos_DB[gene][probe])"
   ]
  },
  {
   "cell_type": "markdown",
   "metadata": {},
   "source": [
    "### Test reading an oligos_DB"
   ]
  },
  {
   "cell_type": "code",
   "execution_count": 7,
   "metadata": {},
   "outputs": [
    {
     "ename": "AttributeError",
     "evalue": "'CustomDB' object has no attribute 'read_oligos_DB_tsv'",
     "output_type": "error",
     "traceback": [
      "\u001b[0;31m---------------------------------------------------------------------------\u001b[0m",
      "\u001b[0;31mAttributeError\u001b[0m                            Traceback (most recent call last)",
      "\u001b[1;32m/home/francesco/Desktop/Work/oligo-designer-toolsuite/tests/test_DB.ipynb Cell 11\u001b[0m in \u001b[0;36m<cell line: 2>\u001b[0;34m()\u001b[0m\n\u001b[1;32m      <a href='vscode-notebook-cell:/home/francesco/Desktop/Work/oligo-designer-toolsuite/tests/test_DB.ipynb#X13sZmlsZQ%3D%3D?line=0'>1</a>\u001b[0m dir_output \u001b[39m=\u001b[39m \u001b[39m\"\u001b[39m\u001b[39m/home/francesco/Desktop/Work/oligo-designer-toolsuite/output/annotations\u001b[39m\u001b[39m\"\u001b[39m\n\u001b[0;32m----> <a href='vscode-notebook-cell:/home/francesco/Desktop/Work/oligo-designer-toolsuite/tests/test_DB.ipynb#X13sZmlsZQ%3D%3D?line=1'>2</a>\u001b[0m custom\u001b[39m.\u001b[39;49mread_oligos_DB_tsv(dir_output \u001b[39m+\u001b[39m \u001b[39m'\u001b[39m\u001b[39m/oligo_DB_unknown_unknown_Custom_release_unknown_gene_transcript.tsv\u001b[39m\u001b[39m'\u001b[39m)\n",
      "\u001b[0;31mAttributeError\u001b[0m: 'CustomDB' object has no attribute 'read_oligos_DB_tsv'"
     ]
    }
   ],
   "source": [
    "dir_output = \"/home/francesco/Desktop/Work/oligo-designer-toolsuite/output/annotations\"\n",
    "custom.read_oligos_DB_tsv(dir_output + '/oligo_DB_unknown_unknown_Custom_release_unknown_gene_transcript.tsv')"
   ]
  },
  {
   "cell_type": "code",
   "execution_count": null,
   "metadata": {},
   "outputs": [
    {
     "name": "stdout",
     "output_type": "stream",
     "text": [
      "list of all the genes in the DB:\n",
      "dict_keys(['WASH7P', 'DDX11L1', 'TRNT', 'NOC2L', 'PLEKHN1', 'AGRN', 'UBE2J2', 'DVL1', 'MIB2', 'LOC112268402_1'])\n",
      "Features of the first probe of the DB:\n",
      "{'probe_sequence': Seq('GCACCATGACTCCTGTGAGGATGCAGCACT'), 'transcript_id': ['NR_024540.1', 'NR_024540.1'], 'exon_id': ['NR_024540.1_exon2', 'NR_024540.1_exon2_NR_024540.1_exon1'], 'chromosome': '1', 'start': [24737, 24891], 'end': [24767, 24921], 'strand': '-', 'length': 30}\n"
     ]
    }
   ],
   "source": [
    "print(\"list of all the genes in the DB:\")\n",
    "print(custom.oligos_DB.keys())\n",
    "gene = list(custom.oligos_DB.keys())[0]\n",
    "probe = list(custom.oligos_DB[gene].keys())[0]\n",
    "print(\"Features of the first probe of the DB:\")\n",
    "print(custom.oligos_DB[gene][probe])"
   ]
  },
  {
   "cell_type": "code",
   "execution_count": null,
   "metadata": {},
   "outputs": [
    {
     "name": "stdout",
     "output_type": "stream",
     "text": [
      "list of all the genes in the DB:\n",
      "dict_keys(['WASH7P', 'DDX11L1', 'TRNT', 'NOC2L', 'PLEKHN1', 'AGRN', 'UBE2J2', 'DVL1', 'MIB2', 'LOC112268402_1'])\n",
      "Features of the first probe of the DB:\n",
      "{'probe_sequence': Seq('GCACCATGACTCCTGTGAGGATGCAGCACT'), 'transcript_id': ['NR_024540.1', 'NR_024540.1'], 'exon_id': ['NR_024540.1_exon2', 'NR_024540.1_exon2_NR_024540.1_exon1'], 'chromosome': '1', 'start': [24737, 24891], 'end': [24767, 24921], 'strand': '-', 'length': 30}\n"
     ]
    }
   ],
   "source": [
    "custom.read_oligos_DB_tsv(custom.file_oligos_DB_tsv)\n",
    "print(\"list of all the genes in the DB:\")\n",
    "print(custom.oligos_DB.keys())\n",
    "gene = list(custom.oligos_DB.keys())[0]\n",
    "probe = list(custom.oligos_DB[gene].keys())[0]\n",
    "print(\"Features of the first probe of the DB:\")\n",
    "print(custom.oligos_DB[gene][probe])"
   ]
  },
  {
   "cell_type": "code",
   "execution_count": null,
   "metadata": {},
   "outputs": [
    {
     "name": "stdout",
     "output_type": "stream",
     "text": [
      "list of all the genes in the DB:\n",
      "dict_keys(['WASH7P', 'DDX11L1', 'TRNT', 'NOC2L', 'PLEKHN1', 'AGRN', 'UBE2J2', 'DVL1', 'MIB2', 'LOC112268402_1'])\n",
      "Features of the first probe of the DB:\n",
      "{'probe_sequence': Seq('GCACCATGACTCCTGTGAGGATGCAGCACT'), 'transcript_id': ['NR_024540.1', 'NR_024540.1'], 'exon_id': ['NR_024540.1_exon2', 'NR_024540.1_exon2_NR_024540.1_exon1'], 'chromosome': '1', 'start': [24737, 24891], 'end': [24767, 24921], 'strand': '-', 'length': 30}\n"
     ]
    }
   ],
   "source": [
    "custom.read_oligos_DB_gtf(custom.file_oligos_DB_gtf, custom.file_oligos_DB_fasta)\n",
    "print(\"list of all the genes in the DB:\")\n",
    "print(custom.oligos_DB.keys())\n",
    "gene = list(custom.oligos_DB.keys())[0]\n",
    "probe = list(custom.oligos_DB[gene].keys())[0]\n",
    "print(\"Features of the first probe of the DB:\")\n",
    "print(custom.oligos_DB[gene][probe])"
   ]
  }
 ],
 "metadata": {
  "kernelspec": {
   "display_name": "Python 3.10.4 ('oligo')",
   "language": "python",
   "name": "python3"
  },
  "language_info": {
   "codemirror_mode": {
    "name": "ipython",
    "version": 3
   },
   "file_extension": ".py",
   "mimetype": "text/x-python",
   "name": "python",
   "nbconvert_exporter": "python",
   "pygments_lexer": "ipython3",
   "version": "3.10.4"
  },
  "orig_nbformat": 4,
  "vscode": {
   "interpreter": {
    "hash": "7ff94d65164c54a2126c7dc0869520902e3a005d5dddb9f8c3667ad0fd9373c9"
   }
  }
 },
 "nbformat": 4,
 "nbformat_minor": 2
}
