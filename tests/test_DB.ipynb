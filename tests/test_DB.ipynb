{
 "cells": [
  {
   "cell_type": "markdown",
   "metadata": {},
   "source": [
    "# Test DB class"
   ]
  },
  {
   "cell_type": "code",
   "execution_count": 1,
   "metadata": {},
   "outputs": [
    {
     "name": "stdout",
     "output_type": "stream",
     "text": [
      "/home/francesco/Desktop/Work/oligo-designer-toolsuite/oligo_designer_toolsuite/output\n"
     ]
    }
   ],
   "source": [
    "import os\n",
    "import sys\n",
    "\n",
    "os.chdir('../' )\n",
    "cwd = os.getcwd()\n",
    "dir_output  = os.path.join(cwd, 'oligo_designer_toolsuite/output')\n",
    "print(dir_output)\n",
    "sys.path.append(cwd)\n",
    "\n",
    "from oligo_designer_toolsuite.IO._database import NcbiDB, EnsemblDB, CustomDB"
   ]
  },
  {
   "cell_type": "markdown",
   "metadata": {},
   "source": [
    "### Test the NCBI creator\n",
    "\n",
    "Check if the files are dowloaded correclty from the server"
   ]
  },
  {
   "cell_type": "code",
   "execution_count": 3,
   "metadata": {},
   "outputs": [
    {
     "name": "stderr",
     "output_type": "stream",
     "text": [
      "/home/francesco/Desktop/Work/oligo-designer-toolsuite/oligo_designer_toolsuite/IO/_database.py:424: UserWarning: No species defined. Using default species human!\n",
      "  warnings.warn(f\"No species defined. Using default species {species}!\")\n",
      "/home/francesco/Desktop/Work/oligo-designer-toolsuite/oligo_designer_toolsuite/IO/_database.py:428: UserWarning: No annotation release defined. Using default release current!\n",
      "  warnings.warn(\n"
     ]
    },
    {
     "ename": "OSError",
     "evalue": "[Errno 28] No space left on device",
     "output_type": "error",
     "traceback": [
      "\u001b[0;31m---------------------------------------------------------------------------\u001b[0m",
      "\u001b[0;31mOSError\u001b[0m                                   Traceback (most recent call last)",
      "\u001b[1;32m/home/francesco/Desktop/Work/oligo-designer-toolsuite/tests/test_DB.ipynb Cell 4\u001b[0m in \u001b[0;36m<cell line: 1>\u001b[0;34m()\u001b[0m\n\u001b[0;32m----> <a href='vscode-notebook-cell:/home/francesco/Desktop/Work/oligo-designer-toolsuite/tests/test_DB.ipynb#W3sZmlsZQ%3D%3D?line=0'>1</a>\u001b[0m ncbi \u001b[39m=\u001b[39m NcbiDB(probe_length_min \u001b[39m=\u001b[39;49m \u001b[39m20\u001b[39;49m, probe_length_max\u001b[39m=\u001b[39;49m\u001b[39m30\u001b[39;49m, dir_output\u001b[39m=\u001b[39;49mdir_output)\n",
      "File \u001b[0;32m~/Desktop/Work/oligo-designer-toolsuite/oligo_designer_toolsuite/IO/_database.py:438\u001b[0m, in \u001b[0;36mNcbiDB.__init__\u001b[0;34m(self, probe_length_min, probe_length_max, species, annotation_release, n_jobs, dir_output, min_probes_per_gene)\u001b[0m\n\u001b[1;32m    436\u001b[0m ftp \u001b[39m=\u001b[39m FTPLoaderNCBI(dir_annotation, species, annotation_release)\n\u001b[1;32m    437\u001b[0m file_annotation, genome_assembly \u001b[39m=\u001b[39m ftp\u001b[39m.\u001b[39mdownload_files(\u001b[39m\"\u001b[39m\u001b[39mgtf\u001b[39m\u001b[39m\"\u001b[39m)\n\u001b[0;32m--> 438\u001b[0m file_sequence, _ \u001b[39m=\u001b[39m ftp\u001b[39m.\u001b[39;49mdownload_files(\u001b[39m\"\u001b[39;49m\u001b[39mfasta\u001b[39;49m\u001b[39m\"\u001b[39;49m)\n\u001b[1;32m    440\u001b[0m \u001b[39msuper\u001b[39m()\u001b[39m.\u001b[39m\u001b[39m__init__\u001b[39m(\n\u001b[1;32m    441\u001b[0m     probe_length_min,\n\u001b[1;32m    442\u001b[0m     probe_length_max,\n\u001b[0;32m   (...)\u001b[0m\n\u001b[1;32m    451\u001b[0m     min_probes_per_gene,\n\u001b[1;32m    452\u001b[0m )\n",
      "File \u001b[0;32m~/Desktop/Work/oligo-designer-toolsuite/oligo_designer_toolsuite/utils/_ftp_loader.py:384\u001b[0m, in \u001b[0;36mFTPLoaderNCBI.download_files\u001b[0;34m(self, file_type, mapping)\u001b[0m\n\u001b[1;32m    380\u001b[0m ftp_directory, ftp_file, ftp_file_chr_mapping, assembly_name \u001b[39m=\u001b[39m \u001b[39mself\u001b[39m\u001b[39m.\u001b[39mget_params(\n\u001b[1;32m    381\u001b[0m     file_type\n\u001b[1;32m    382\u001b[0m )\n\u001b[1;32m    383\u001b[0m mapping \u001b[39m=\u001b[39m \u001b[39mself\u001b[39m\u001b[39m.\u001b[39m_download_mapping_chr_names(ftp_directory, ftp_file_chr_mapping)\n\u001b[0;32m--> 384\u001b[0m output_file \u001b[39m=\u001b[39m \u001b[39mself\u001b[39;49m\u001b[39m.\u001b[39;49mdownload_and_decompress(\n\u001b[1;32m    385\u001b[0m     \u001b[39mself\u001b[39;49m\u001b[39m.\u001b[39;49mftp_link, ftp_directory, ftp_file\n\u001b[1;32m    386\u001b[0m )\n\u001b[1;32m    388\u001b[0m \u001b[39mif\u001b[39;00m file_type\u001b[39m.\u001b[39mcasefold() \u001b[39m==\u001b[39m \u001b[39m\"\u001b[39m\u001b[39mgtf\u001b[39m\u001b[39m\"\u001b[39m\u001b[39m.\u001b[39mcasefold():\n\u001b[1;32m    389\u001b[0m     \u001b[39mself\u001b[39m\u001b[39m.\u001b[39m_map_chr_names_gene_gtf(output_file, mapping)\n",
      "File \u001b[0;32m~/Desktop/Work/oligo-designer-toolsuite/oligo_designer_toolsuite/utils/_ftp_loader.py:82\u001b[0m, in \u001b[0;36mBaseFtpLoader.download_and_decompress\u001b[0;34m(self, ftp_link, ftp_directory, file_name)\u001b[0m\n\u001b[1;32m     75\u001b[0m \u001b[39m\"\"\"Download genome sequence from ftp server and unzip file.\u001b[39;00m\n\u001b[1;32m     76\u001b[0m \n\u001b[1;32m     77\u001b[0m \u001b[39m:return: Path to downloaded file.\u001b[39;00m\n\u001b[1;32m     78\u001b[0m \u001b[39m:rtype: string\u001b[39;00m\n\u001b[1;32m     79\u001b[0m \u001b[39m\"\"\"\u001b[39;00m\n\u001b[1;32m     81\u001b[0m file_download \u001b[39m=\u001b[39m \u001b[39mself\u001b[39m\u001b[39m.\u001b[39mdownload(ftp_link, ftp_directory, file_name)\n\u001b[0;32m---> 82\u001b[0m file_unzipped \u001b[39m=\u001b[39m \u001b[39mself\u001b[39;49m\u001b[39m.\u001b[39;49mdecompress_gzip(file_download)\n\u001b[1;32m     84\u001b[0m \u001b[39mreturn\u001b[39;00m file_unzipped\n",
      "File \u001b[0;32m~/Desktop/Work/oligo-designer-toolsuite/oligo_designer_toolsuite/utils/_ftp_loader.py:69\u001b[0m, in \u001b[0;36mBaseFtpLoader.decompress_gzip\u001b[0;34m(self, file_gzip)\u001b[0m\n\u001b[1;32m     67\u001b[0m \u001b[39mwith\u001b[39;00m gzip\u001b[39m.\u001b[39mopen(file_gzip, \u001b[39m\"\u001b[39m\u001b[39mrb\u001b[39m\u001b[39m\"\u001b[39m) \u001b[39mas\u001b[39;00m f_in:\n\u001b[1;32m     68\u001b[0m     \u001b[39mwith\u001b[39;00m \u001b[39mopen\u001b[39m(file_output, \u001b[39m\"\u001b[39m\u001b[39mwb\u001b[39m\u001b[39m\"\u001b[39m) \u001b[39mas\u001b[39;00m f_out:\n\u001b[0;32m---> 69\u001b[0m         shutil\u001b[39m.\u001b[39;49mcopyfileobj(f_in, f_out)\n\u001b[1;32m     70\u001b[0m os\u001b[39m.\u001b[39mremove(file_gzip)\n\u001b[1;32m     72\u001b[0m \u001b[39mreturn\u001b[39;00m file_output\n",
      "File \u001b[0;32m~/miniconda3/envs/oligo/lib/python3.10/shutil.py:198\u001b[0m, in \u001b[0;36mcopyfileobj\u001b[0;34m(fsrc, fdst, length)\u001b[0m\n\u001b[1;32m    196\u001b[0m \u001b[39mif\u001b[39;00m \u001b[39mnot\u001b[39;00m buf:\n\u001b[1;32m    197\u001b[0m     \u001b[39mbreak\u001b[39;00m\n\u001b[0;32m--> 198\u001b[0m fdst_write(buf)\n",
      "\u001b[0;31mOSError\u001b[0m: [Errno 28] No space left on device"
     ]
    }
   ],
   "source": [
    "ncbi = NcbiDB(probe_length_min = 20, probe_length_max=30, dir_output=dir_output)"
   ]
  },
  {
   "cell_type": "code",
   "execution_count": 2,
   "metadata": {},
   "outputs": [
    {
     "name": "stderr",
     "output_type": "stream",
     "text": [
      "/home/francesco/Desktop/Work/oligo-designer-toolsuite/oligo_designer_toolsuite/IO/_database.py:496: UserWarning: No species defined. Using default species human!\n",
      "  warnings.warn(f\"No species defined. Using default species {species}!\")\n",
      "/home/francesco/Desktop/Work/oligo-designer-toolsuite/oligo_designer_toolsuite/IO/_database.py:500: UserWarning: No annotation release defined. Using default release current!\n",
      "  warnings.warn(\n"
     ]
    }
   ],
   "source": [
    "ensembl = EnsemblDB(probe_length_min = 20, probe_length_max=30, dir_output=dir_output)"
   ]
  },
  {
   "cell_type": "markdown",
   "metadata": {},
   "source": [
    "### Test the creation of DB\n",
    "\n",
    "Load the previously dowloaded files and create the reference and oligo DB"
   ]
  },
  {
   "cell_type": "code",
   "execution_count": 2,
   "metadata": {},
   "outputs": [
    {
     "name": "stderr",
     "output_type": "stream",
     "text": [
      "/home/francesco/Desktop/Work/oligo-designer-toolsuite/oligo_designer_toolsuite/IO/_database.py:59: UserWarning: Species not specified.\n",
      "  warnings.warn(\"Species not specified.\")\n",
      "/home/francesco/Desktop/Work/oligo-designer-toolsuite/oligo_designer_toolsuite/IO/_database.py:63: UserWarning: Genome assembly not specified.\n",
      "  warnings.warn(f\"Genome assembly not specified.\")\n",
      "/home/francesco/Desktop/Work/oligo-designer-toolsuite/oligo_designer_toolsuite/IO/_database.py:67: UserWarning: Annotation release not specified.\n",
      "  warnings.warn(f\"Annotation release not specified.\")\n",
      "/home/francesco/Desktop/Work/oligo-designer-toolsuite/oligo_designer_toolsuite/IO/_database.py:71: UserWarning: Annotation source not specified.\n",
      "  warnings.warn(f\"Annotation source not specified.\")\n"
     ]
    }
   ],
   "source": [
    "dir_annotation = '/home/francesco/Desktop/Work/NCBI'\n",
    "annotation = dir_annotation+'/GCF_000001405.40_GRCh38.p14_genomic.gtf'\n",
    "sequence = dir_annotation+'/GCF_000001405.40_GRCh38.p14_genomic.fna'\n",
    "custom = CustomDB(probe_length_min = 30, probe_length_max=40, file_annotation=annotation, file_sequence=sequence, filters = [])"
   ]
  },
  {
   "cell_type": "code",
   "execution_count": 5,
   "metadata": {},
   "outputs": [],
   "source": [
    "#custom.create_reference_DB(dir_output=dir_output)"
   ]
  },
  {
   "cell_type": "code",
   "execution_count": 8,
   "metadata": {},
   "outputs": [
    {
     "name": "stdout",
     "output_type": "stream",
     "text": [
      "list of all the genes in the DB:\n",
      "dict_keys(['WASH7P', 'DDX11L1', 'TRNT', 'NOC2L', 'PLEKHN1', 'AGRN', 'UBE2J2', 'DVL1', 'MIB2', 'LOC112268402_1'])\n",
      "Features of the first probe of the DB:\n",
      "{'probe_sequence': Seq('GCACCATGACTCCTGTGAGGATGCAGCACT'), 'transcript_id': ['NR_024540.1', 'NR_024540.1'], 'exon_id': ['NR_024540.1_exon2', 'NR_024540.1_exon2_NR_024540.1_exon1'], 'chromosome': '1', 'start': [24737, 24891], 'end': [24767, 24921], 'strand': '-', 'length': 30}\n"
     ]
    }
   ],
   "source": [
    "genes = ['WASH7P', 'DDX11L1', 'TRNT', 'NOC2L', 'PLEKHN1', 'AGRN','UBE2J2', 'DVL1', 'MIB2', 'LOC112268402_1' ]\n",
    "custom.create_reference_DB()\n",
    "custom.create_oligos_DB(genes = genes, n_jobs = 10)\n",
    "custom.write_oligos_DB(format = 'tsv')\n",
    "print(\"list of all the genes in the DB:\")\n",
    "print(custom.oligos_DB.keys())\n",
    "gene = list(custom.oligos_DB.keys())[0]\n",
    "probe = list(custom.oligos_DB[gene].keys())[0]\n",
    "print(\"Features of the first probe of the DB:\")\n",
    "print(custom.oligos_DB[gene][probe])"
   ]
  },
  {
   "cell_type": "markdown",
   "metadata": {},
   "source": [
    "### Test reading an oligos_DB"
   ]
  },
  {
   "cell_type": "code",
   "execution_count": 7,
   "metadata": {},
   "outputs": [
    {
     "ename": "AttributeError",
     "evalue": "'CustomDB' object has no attribute 'read_oligos_DB_tsv'",
     "output_type": "error",
     "traceback": [
      "\u001b[0;31m---------------------------------------------------------------------------\u001b[0m",
      "\u001b[0;31mAttributeError\u001b[0m                            Traceback (most recent call last)",
      "\u001b[1;32m/home/francesco/Desktop/Work/oligo-designer-toolsuite/tests/test_DB.ipynb Cell 11\u001b[0m in \u001b[0;36m<cell line: 2>\u001b[0;34m()\u001b[0m\n\u001b[1;32m      <a href='vscode-notebook-cell:/home/francesco/Desktop/Work/oligo-designer-toolsuite/tests/test_DB.ipynb#X13sZmlsZQ%3D%3D?line=0'>1</a>\u001b[0m dir_output \u001b[39m=\u001b[39m \u001b[39m\"\u001b[39m\u001b[39m/home/francesco/Desktop/Work/oligo-designer-toolsuite/output/annotations\u001b[39m\u001b[39m\"\u001b[39m\n\u001b[0;32m----> <a href='vscode-notebook-cell:/home/francesco/Desktop/Work/oligo-designer-toolsuite/tests/test_DB.ipynb#X13sZmlsZQ%3D%3D?line=1'>2</a>\u001b[0m custom\u001b[39m.\u001b[39;49mread_oligos_DB_tsv(dir_output \u001b[39m+\u001b[39m \u001b[39m'\u001b[39m\u001b[39m/oligo_DB_unknown_unknown_Custom_release_unknown_gene_transcript.tsv\u001b[39m\u001b[39m'\u001b[39m)\n",
      "\u001b[0;31mAttributeError\u001b[0m: 'CustomDB' object has no attribute 'read_oligos_DB_tsv'"
     ]
    }
   ],
   "source": [
    "dir_output = \"/home/francesco/Desktop/Work/oligo-designer-toolsuite/output/annotations\"\n",
    "custom.read_oligos_DB(dir_output + '/oligo_DB_unknown_unknown_Custom_release_unknown_gene_transcript.tsv')"
   ]
  },
  {
   "cell_type": "code",
   "execution_count": null,
   "metadata": {},
   "outputs": [
    {
     "name": "stdout",
     "output_type": "stream",
     "text": [
      "list of all the genes in the DB:\n",
      "dict_keys(['WASH7P', 'DDX11L1', 'TRNT', 'NOC2L', 'PLEKHN1', 'AGRN', 'UBE2J2', 'DVL1', 'MIB2', 'LOC112268402_1'])\n",
      "Features of the first probe of the DB:\n",
      "{'probe_sequence': Seq('GCACCATGACTCCTGTGAGGATGCAGCACT'), 'transcript_id': ['NR_024540.1', 'NR_024540.1'], 'exon_id': ['NR_024540.1_exon2', 'NR_024540.1_exon2_NR_024540.1_exon1'], 'chromosome': '1', 'start': [24737, 24891], 'end': [24767, 24921], 'strand': '-', 'length': 30}\n"
     ]
    }
   ],
   "source": [
    "print(\"list of all the genes in the DB:\")\n",
    "print(custom.oligos_DB.keys())\n",
    "gene = list(custom.oligos_DB.keys())[0]\n",
    "probe = list(custom.oligos_DB[gene].keys())[0]\n",
    "print(\"Features of the first probe of the DB:\")\n",
    "print(custom.oligos_DB[gene][probe])"
   ]
  },
  {
   "cell_type": "code",
   "execution_count": null,
   "metadata": {},
   "outputs": [
    {
     "name": "stdout",
     "output_type": "stream",
     "text": [
      "list of all the genes in the DB:\n",
      "dict_keys(['WASH7P', 'DDX11L1', 'TRNT', 'NOC2L', 'PLEKHN1', 'AGRN', 'UBE2J2', 'DVL1', 'MIB2', 'LOC112268402_1'])\n",
      "Features of the first probe of the DB:\n",
      "{'probe_sequence': Seq('GCACCATGACTCCTGTGAGGATGCAGCACT'), 'transcript_id': ['NR_024540.1', 'NR_024540.1'], 'exon_id': ['NR_024540.1_exon2', 'NR_024540.1_exon2_NR_024540.1_exon1'], 'chromosome': '1', 'start': [24737, 24891], 'end': [24767, 24921], 'strand': '-', 'length': 30}\n"
     ]
    }
   ],
   "source": [
    "custom.read_oligos_DB_tsv(custom.file_oligos_DB_tsv)\n",
    "print(\"list of all the genes in the DB:\")\n",
    "print(custom.oligos_DB.keys())\n",
    "gene = list(custom.oligos_DB.keys())[0]\n",
    "probe = list(custom.oligos_DB[gene].keys())[0]\n",
    "print(\"Features of the first probe of the DB:\")\n",
    "print(custom.oligos_DB[gene][probe])"
   ]
  },
  {
   "cell_type": "code",
   "execution_count": null,
   "metadata": {},
   "outputs": [
    {
     "name": "stdout",
     "output_type": "stream",
     "text": [
      "list of all the genes in the DB:\n",
      "dict_keys(['WASH7P', 'DDX11L1', 'TRNT', 'NOC2L', 'PLEKHN1', 'AGRN', 'UBE2J2', 'DVL1', 'MIB2', 'LOC112268402_1'])\n",
      "Features of the first probe of the DB:\n",
      "{'probe_sequence': Seq('GCACCATGACTCCTGTGAGGATGCAGCACT'), 'transcript_id': ['NR_024540.1', 'NR_024540.1'], 'exon_id': ['NR_024540.1_exon2', 'NR_024540.1_exon2_NR_024540.1_exon1'], 'chromosome': '1', 'start': [24737, 24891], 'end': [24767, 24921], 'strand': '-', 'length': 30}\n"
     ]
    }
   ],
   "source": [
    "custom.read_oligos_DB_gtf(custom.file_oligos_DB_gtf, custom.file_oligos_DB_fasta)\n",
    "print(\"list of all the genes in the DB:\")\n",
    "print(custom.oligos_DB.keys())\n",
    "gene = list(custom.oligos_DB.keys())[0]\n",
    "probe = list(custom.oligos_DB[gene].keys())[0]\n",
    "print(\"Features of the first probe of the DB:\")\n",
    "print(custom.oligos_DB[gene][probe])"
   ]
  }
 ],
 "metadata": {
  "kernelspec": {
   "display_name": "Python 3.10.4 ('oligo')",
   "language": "python",
   "name": "python3"
  },
  "language_info": {
   "codemirror_mode": {
    "name": "ipython",
    "version": 3
   },
   "file_extension": ".py",
   "mimetype": "text/x-python",
   "name": "python",
   "nbconvert_exporter": "python",
   "pygments_lexer": "ipython3",
   "version": "3.10.4"
  },
  "orig_nbformat": 4,
  "vscode": {
   "interpreter": {
    "hash": "7ff94d65164c54a2126c7dc0869520902e3a005d5dddb9f8c3667ad0fd9373c9"
   }
  }
 },
 "nbformat": 4,
 "nbformat_minor": 2
}
