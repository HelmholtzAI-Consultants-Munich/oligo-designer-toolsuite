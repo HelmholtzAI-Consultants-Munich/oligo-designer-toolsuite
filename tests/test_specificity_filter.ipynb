{
 "cells": [
  {
   "cell_type": "code",
   "execution_count": 3,
   "metadata": {},
   "outputs": [
    {
     "name": "stdout",
     "output_type": "stream",
     "text": [
      "/home/francesco/Desktop/Work/oligo-designer-toolsuite\n"
     ]
    }
   ],
   "source": [
    "import os\n",
    "import sys\n",
    "\n",
    "cwd=os.path.dirname(os.getcwd())\n",
    "sys.path.append(cwd)\n",
    "print(cwd)\n",
    "\n",
    "from oligo_designer_toolsuite.oligo_specificity_filter import Blastn, Bowtie, Bowtie2, ExactMatches, BowtieSeedRegion, LigationRegionCreation, SeedRegionCreationStandard, SeedRegionCreationPercentage\n",
    "\n",
    "from oligo_designer_toolsuite.utils._data_parser import read_oligos_DB_tsv\n",
    "from oligo_designer_toolsuite.IO._database import CustomDB\n",
    "from oligo_designer_toolsuite.oligo_specificity_filter._specificity_filters import SpecificityFilter"
   ]
  },
  {
   "cell_type": "code",
   "execution_count": 4,
   "metadata": {},
   "outputs": [
    {
     "name": "stdout",
     "output_type": "stream",
     "text": [
      "/home/francesco/Desktop/Work/oligo-designer-toolsuite/output/annotation/oligo_DB_unknown_unknown_Custom_release_unknown_gene_transcript.tsv\n"
     ]
    }
   ],
   "source": [
    "n_jobs=10\n",
    "ligation_region=10\n",
    "dir_output=cwd + \"/output\"\n",
    "dir_annotations=dir_output +\"/annotation\"\n",
    "dir_specificity = dir_output + \"/specificity\"\n",
    "file_probe_info=dir_annotations + \"/oligo_DB_unknown_unknown_Custom_release_unknown_gene_transcript.tsv\"\n",
    "file_removed_genes = dir_output + \"/genes_with_insufficient_probes.txt\"\n",
    "print(file_probe_info)\n",
    "min_probes_per_gene=2\n",
    "file_transcriptome_fasta=dir_annotations + \"/reference_DB_unknown_unknown_Custom_release_unknown_gene_transcript.fna\"\n",
    "word_size=10\n",
    "percent_identity=80\n",
    "probe_length_min=30\n",
    "probe_length_max=40\n",
    "coverage=50\n",
    "seed_region_creation = LigationRegionCreation(ligation_region_size=ligation_region)\n"
   ]
  },
  {
   "cell_type": "code",
   "execution_count": 5,
   "metadata": {},
   "outputs": [
    {
     "name": "stdout",
     "output_type": "stream",
     "text": [
      "WASH7P, 3235\n",
      "DDX11L1, 5652\n",
      "TRNT, 59\n",
      "NOC2L, 5736\n",
      "PLEKHN1, 2913\n",
      "AGRN, 5284\n",
      "UBE2J2, 8190\n",
      "DVL1, 2960\n",
      "MIB2, 10881\n",
      "LOC112268402_1, 9285\n"
     ]
    }
   ],
   "source": [
    "probe_info_dict=read_oligos_DB_tsv(file_probe_info)\n",
    "for gene in probe_info_dict.keys():\n",
    "    print(f\"{gene}, {len(list(probe_info_dict[gene].keys()))}\")"
   ]
  },
  {
   "cell_type": "markdown",
   "metadata": {},
   "source": [
    "Test exact match filter"
   ]
  },
  {
   "cell_type": "code",
   "execution_count": 17,
   "metadata": {},
   "outputs": [],
   "source": [
    "exact_match_filter=ExactMatches(dir_specificity)\n",
    "#exact_match_filter=ExactMatches(n_jobs, dir_output, dir_annotations)"
   ]
  },
  {
   "cell_type": "code",
   "execution_count": 18,
   "metadata": {},
   "outputs": [
    {
     "name": "stdout",
     "output_type": "stream",
     "text": [
      "WASH7P, 3235\n",
      "DDX11L1, 5652\n",
      "TRNT, 59\n",
      "NOC2L, 5736\n",
      "PLEKHN1, 2913\n",
      "AGRN, 5284\n",
      "UBE2J2, 8164\n",
      "DVL1, 2960\n",
      "MIB2, 10881\n",
      "LOC112268402_1, 9285\n"
     ]
    }
   ],
   "source": [
    "probes_updated = exact_match_filter.apply(probe_info_dict, file_transcriptome_fasta, 10)\n",
    "#probes_updated = exact_match_filter.apply(probe_info_dict)\n",
    "for gene in probes_updated.keys():\n",
    "    print(f\"{gene}, {len(list(probes_updated[gene].keys()))}\")"
   ]
  },
  {
   "cell_type": "markdown",
   "metadata": {},
   "source": [
    "Test Blast filter"
   ]
  },
  {
   "cell_type": "code",
   "execution_count": 19,
   "metadata": {},
   "outputs": [],
   "source": [
    "blast_filter=Blastn(dir_specificity, word_size,percent_identity, coverage)"
   ]
  },
  {
   "cell_type": "code",
   "execution_count": 20,
   "metadata": {},
   "outputs": [
    {
     "name": "stdout",
     "output_type": "stream",
     "text": [
      "WASH7P, 0\n",
      "DDX11L1, 0\n",
      "TRNT, 0\n",
      "NOC2L, 28\n",
      "PLEKHN1, 454\n",
      "AGRN, 483\n",
      "UBE2J2, 1341\n",
      "DVL1, 164\n",
      "MIB2, 1010\n",
      "LOC112268402_1, 0\n",
      "{'NOC2L_21101': {'probe_sequence': Seq('CCGAATCCGAGTCCGAAAATTCTCCACAAG'), 'transcript_id': ['NM_015658.4'], 'exon_id': ['NM_015658.4_exon2'], 'chromosome': '1', 'start': [958984], 'end': [959014], 'strand': '-', 'length': 30, 'GC_content': 50.0, 'melt_temp': 58.4, 'melt_temp_arm1': 38.98, 'melt_temp_arm2': 40.88, 'dif_melt_temp_arms': 1.9, 'ligation_site': 13.0}, 'NOC2L_21103': {'probe_sequence': Seq('GAATCCGAGTCCGAAAATTCTCCACAAGCG'), 'transcript_id': ['NM_015658.4'], 'exon_id': ['NM_015658.4_exon2'], 'chromosome': '1', 'start': [958986], 'end': [959016], 'strand': '-', 'length': 30, 'GC_content': 50.0, 'melt_temp': 58.71, 'melt_temp_arm1': 42.65, 'melt_temp_arm2': 41.19, 'dif_melt_temp_arms': 1.46, 'ligation_site': 15.0}, 'NOC2L_21104': {'probe_sequence': Seq('AATCCGAGTCCGAAAATTCTCCACAAGCGG'), 'transcript_id': ['NM_015658.4'], 'exon_id': ['NM_015658.4_exon2'], 'chromosome': '1', 'start': [958987], 'end': [959017], 'strand': '-', 'length': 30, 'GC_content': 50.0, 'melt_temp': 59.89, 'melt_temp_arm1': 41.93, 'melt_temp_arm2': 43.78, 'dif_melt_temp_arms': 1.85, 'ligation_site': 15.0}, 'NOC2L_21105': {'probe_sequence': Seq('ATCCGAGTCCGAAAATTCTCCACAAGCGGA'), 'transcript_id': ['NM_015658.4'], 'exon_id': ['NM_015658.4_exon2'], 'chromosome': '1', 'start': [958988], 'end': [959018], 'strand': '-', 'length': 30, 'GC_content': 50.0, 'melt_temp': 60.66, 'melt_temp_arm1': 42.74, 'melt_temp_arm2': 44.24, 'dif_melt_temp_arms': 1.5, 'ligation_site': 16.0}, 'NOC2L_21106': {'probe_sequence': Seq('TCCGAGTCCGAAAATTCTCCACAAGCGGAG'), 'transcript_id': ['NM_015658.4'], 'exon_id': ['NM_015658.4_exon2'], 'chromosome': '1', 'start': [958989], 'end': [959019], 'strand': '-', 'length': 30, 'GC_content': 53.33, 'melt_temp': 60.94, 'melt_temp_arm1': 43.01, 'melt_temp_arm2': 43.76, 'dif_melt_temp_arms': 0.75, 'ligation_site': 16.0}, 'NOC2L_21107': {'probe_sequence': Seq('CCGAGTCCGAAAATTCTCCACAAGCGGAGA'), 'transcript_id': ['NM_015658.4'], 'exon_id': ['NM_015658.4_exon2'], 'chromosome': '1', 'start': [958990], 'end': [959020], 'strand': '-', 'length': 30, 'GC_content': 53.33, 'melt_temp': 60.94, 'melt_temp_arm1': 42.6, 'melt_temp_arm2': 44.24, 'dif_melt_temp_arms': 1.64, 'ligation_site': 16.0}, 'NOC2L_21206': {'probe_sequence': Seq('CCGAATCCGAGTCCGAAAATTCTCCACAAGC'), 'transcript_id': ['NM_015658.4'], 'exon_id': ['NM_015658.4_exon2'], 'chromosome': '1', 'start': [958984], 'end': [959015], 'strand': '-', 'length': 31, 'GC_content': 51.61, 'melt_temp': 60.03, 'melt_temp_arm1': 43.06, 'melt_temp_arm2': 41.2, 'dif_melt_temp_arms': 1.86, 'ligation_site': 14.0}, 'NOC2L_21207': {'probe_sequence': Seq('CGAATCCGAGTCCGAAAATTCTCCACAAGCG'), 'transcript_id': ['NM_015658.4'], 'exon_id': ['NM_015658.4_exon2'], 'chromosome': '1', 'start': [958985], 'end': [959016], 'strand': '-', 'length': 31, 'GC_content': 51.61, 'melt_temp': 60.06, 'melt_temp_arm1': 43.56, 'melt_temp_arm2': 43.28, 'dif_melt_temp_arms': 0.28, 'ligation_site': 14.0}, 'NOC2L_21208': {'probe_sequence': Seq('GAATCCGAGTCCGAAAATTCTCCACAAGCGG'), 'transcript_id': ['NM_015658.4'], 'exon_id': ['NM_015658.4_exon2'], 'chromosome': '1', 'start': [958986], 'end': [959017], 'strand': '-', 'length': 31, 'GC_content': 51.61, 'melt_temp': 60.03, 'melt_temp_arm1': 43.66, 'melt_temp_arm2': 43.78, 'dif_melt_temp_arms': 0.12, 'ligation_site': 16.0}, 'NOC2L_21209': {'probe_sequence': Seq('AATCCGAGTCCGAAAATTCTCCACAAGCGGA'), 'transcript_id': ['NM_015658.4'], 'exon_id': ['NM_015658.4_exon2'], 'chromosome': '1', 'start': [958987], 'end': [959018], 'strand': '-', 'length': 31, 'GC_content': 48.39, 'melt_temp': 60.61, 'melt_temp_arm1': 43.72, 'melt_temp_arm2': 44.24, 'dif_melt_temp_arms': 0.52, 'ligation_site': 17.0}, 'NOC2L_21210': {'probe_sequence': Seq('ATCCGAGTCCGAAAATTCTCCACAAGCGGAG'), 'transcript_id': ['NM_015658.4'], 'exon_id': ['NM_015658.4_exon2'], 'chromosome': '1', 'start': [958988], 'end': [959019], 'strand': '-', 'length': 31, 'GC_content': 51.61, 'melt_temp': 60.8, 'melt_temp_arm1': 43.72, 'melt_temp_arm2': 43.76, 'dif_melt_temp_arms': 0.04, 'ligation_site': 17.0}, 'NOC2L_21211': {'probe_sequence': Seq('TCCGAGTCCGAAAATTCTCCACAAGCGGAGA'), 'transcript_id': ['NM_015658.4'], 'exon_id': ['NM_015658.4_exon2'], 'chromosome': '1', 'start': [958989], 'end': [959020], 'strand': '-', 'length': 31, 'GC_content': 51.61, 'melt_temp': 61.64, 'melt_temp_arm1': 44.56, 'melt_temp_arm2': 44.24, 'dif_melt_temp_arms': 0.32, 'ligation_site': 17.0}, 'NOC2L_21312': {'probe_sequence': Seq('CCGAATCCGAGTCCGAAAATTCTCCACAAGCG'), 'transcript_id': ['NM_015658.4'], 'exon_id': ['NM_015658.4_exon2'], 'chromosome': '1', 'start': [958984], 'end': [959016], 'strand': '-', 'length': 32, 'GC_content': 53.12, 'melt_temp': 61.29, 'melt_temp_arm1': 43.06, 'melt_temp_arm2': 44.69, 'dif_melt_temp_arms': 1.63, 'ligation_site': 14.0}, 'NOC2L_21313': {'probe_sequence': Seq('CGAATCCGAGTCCGAAAATTCTCCACAAGCGG'), 'transcript_id': ['NM_015658.4'], 'exon_id': ['NM_015658.4_exon2'], 'chromosome': '1', 'start': [958985], 'end': [959017], 'strand': '-', 'length': 32, 'GC_content': 53.12, 'melt_temp': 61.29, 'melt_temp_arm1': 46.48, 'melt_temp_arm2': 44.73, 'dif_melt_temp_arms': 1.75, 'ligation_site': 16.0}, 'NOC2L_21314': {'probe_sequence': Seq('GAATCCGAGTCCGAAAATTCTCCACAAGCGGA'), 'transcript_id': ['NM_015658.4'], 'exon_id': ['NM_015658.4_exon2'], 'chromosome': '1', 'start': [958986], 'end': [959018], 'strand': '-', 'length': 32, 'GC_content': 50.0, 'melt_temp': 60.71, 'melt_temp_arm1': 44.56, 'melt_temp_arm2': 45.24, 'dif_melt_temp_arms': 0.68, 'ligation_site': 17.0}, 'NOC2L_21315': {'probe_sequence': Seq('AATCCGAGTCCGAAAATTCTCCACAAGCGGAG'), 'transcript_id': ['NM_015658.4'], 'exon_id': ['NM_015658.4_exon2'], 'chromosome': '1', 'start': [958987], 'end': [959019], 'strand': '-', 'length': 32, 'GC_content': 50.0, 'melt_temp': 60.75, 'melt_temp_arm1': 44.59, 'melt_temp_arm2': 43.76, 'dif_melt_temp_arms': 0.83, 'ligation_site': 18.0}, 'NOC2L_21316': {'probe_sequence': Seq('ATCCGAGTCCGAAAATTCTCCACAAGCGGAGA'), 'transcript_id': ['NM_015658.4'], 'exon_id': ['NM_015658.4_exon2'], 'chromosome': '1', 'start': [958988], 'end': [959020], 'strand': '-', 'length': 32, 'GC_content': 50.0, 'melt_temp': 61.48, 'melt_temp_arm1': 45.13, 'melt_temp_arm2': 44.24, 'dif_melt_temp_arms': 0.89, 'ligation_site': 18.0}, 'NOC2L_21419': {'probe_sequence': Seq('CCGAATCCGAGTCCGAAAATTCTCCACAAGCGG'), 'transcript_id': ['NM_015658.4'], 'exon_id': ['NM_015658.4_exon2'], 'chromosome': '1', 'start': [958984], 'end': [959017], 'strand': '-', 'length': 33, 'GC_content': 54.55, 'melt_temp': 62.46, 'melt_temp_arm1': 47.06, 'melt_temp_arm2': 46.33, 'dif_melt_temp_arms': 0.73, 'ligation_site': 15.0}, 'NOC2L_21420': {'probe_sequence': Seq('CGAATCCGAGTCCGAAAATTCTCCACAAGCGGA'), 'transcript_id': ['NM_015658.4'], 'exon_id': ['NM_015658.4_exon2'], 'chromosome': '1', 'start': [958985], 'end': [959018], 'strand': '-', 'length': 33, 'GC_content': 51.52, 'melt_temp': 61.93, 'melt_temp_arm1': 46.48, 'melt_temp_arm2': 46.66, 'dif_melt_temp_arms': 0.18, 'ligation_site': 16.0}, 'NOC2L_21421': {'probe_sequence': Seq('GAATCCGAGTCCGAAAATTCTCCACAAGCGGAG'), 'transcript_id': ['NM_015658.4'], 'exon_id': ['NM_015658.4_exon2'], 'chromosome': '1', 'start': [958986], 'end': [959019], 'strand': '-', 'length': 33, 'GC_content': 51.52, 'melt_temp': 60.84, 'melt_temp_arm1': 45.13, 'melt_temp_arm2': 45.91, 'dif_melt_temp_arms': 0.78, 'ligation_site': 18.0}, 'NOC2L_21422': {'probe_sequence': Seq('AATCCGAGTCCGAAAATTCTCCACAAGCGGAGA'), 'transcript_id': ['NM_015658.4'], 'exon_id': ['NM_015658.4_exon2'], 'chromosome': '1', 'start': [958987], 'end': [959020], 'strand': '-', 'length': 33, 'GC_content': 48.48, 'melt_temp': 61.41, 'melt_temp_arm1': 44.59, 'melt_temp_arm2': 45.91, 'dif_melt_temp_arms': 1.32, 'ligation_site': 18.0}, 'NOC2L_21527': {'probe_sequence': Seq('CCGAATCCGAGTCCGAAAATTCTCCACAAGCGGA'), 'transcript_id': ['NM_015658.4'], 'exon_id': ['NM_015658.4_exon2'], 'chromosome': '1', 'start': [958984], 'end': [959018], 'strand': '-', 'length': 34, 'GC_content': 52.94, 'melt_temp': 63.05, 'melt_temp_arm1': 48.91, 'melt_temp_arm2': 47.36, 'dif_melt_temp_arms': 1.55, 'ligation_site': 16.0}, 'NOC2L_21528': {'probe_sequence': Seq('CGAATCCGAGTCCGAAAATTCTCCACAAGCGGAG'), 'transcript_id': ['NM_015658.4'], 'exon_id': ['NM_015658.4_exon2'], 'chromosome': '1', 'start': [958985], 'end': [959019], 'strand': '-', 'length': 34, 'GC_content': 52.94, 'melt_temp': 62.0, 'melt_temp_arm1': 47.19, 'melt_temp_arm2': 47.22, 'dif_melt_temp_arms': 0.03, 'ligation_site': 17.0}, 'NOC2L_21529': {'probe_sequence': Seq('GAATCCGAGTCCGAAAATTCTCCACAAGCGGAGA'), 'transcript_id': ['NM_015658.4'], 'exon_id': ['NM_015658.4_exon2'], 'chromosome': '1', 'start': [958986], 'end': [959020], 'strand': '-', 'length': 34, 'GC_content': 50.0, 'melt_temp': 61.47, 'melt_temp_arm1': 45.86, 'melt_temp_arm2': 45.91, 'dif_melt_temp_arms': 0.05, 'ligation_site': 19.0}, 'NOC2L_21636': {'probe_sequence': Seq('CCGAATCCGAGTCCGAAAATTCTCCACAAGCGGAG'), 'transcript_id': ['NM_015658.4'], 'exon_id': ['NM_015658.4_exon2'], 'chromosome': '1', 'start': [958984], 'end': [959019], 'strand': '-', 'length': 35, 'GC_content': 54.29, 'melt_temp': 63.09, 'melt_temp_arm1': 48.91, 'melt_temp_arm2': 48.47, 'dif_melt_temp_arms': 0.44, 'ligation_site': 16.0}, 'NOC2L_21637': {'probe_sequence': Seq('CGAATCCGAGTCCGAAAATTCTCCACAAGCGGAGA'), 'transcript_id': ['NM_015658.4'], 'exon_id': ['NM_015658.4_exon2'], 'chromosome': '1', 'start': [958985], 'end': [959020], 'strand': '-', 'length': 35, 'GC_content': 51.43, 'melt_temp': 62.59, 'melt_temp_arm1': 47.19, 'melt_temp_arm2': 48.94, 'dif_melt_temp_arms': 1.75, 'ligation_site': 17.0}, 'NOC2L_21744': {'probe_sequence': Seq('GTCCGAATCCGAGTCCGAAAATTCTCCACAAGCGGA'), 'transcript_id': ['NM_015658.4'], 'exon_id': ['NM_015658.4_exon2'], 'chromosome': '1', 'start': [958982], 'end': [959018], 'strand': '-', 'length': 36, 'GC_content': 52.78, 'melt_temp': 63.76, 'melt_temp_arm1': 47.04, 'melt_temp_arm2': 48.99, 'dif_melt_temp_arms': 1.95, 'ligation_site': 16.0}, 'NOC2L_24043': {'probe_sequence': Seq('agcatgAAAGACCAAACGTATcgagagctg'), 'transcript_id': ['NM_015658.4'], 'exon_id': ['NM_015658.4_exon19'], 'chromosome': '1', 'start': [944450], 'end': [944480], 'strand': '-', 'length': 30, 'GC_content': 46.67, 'melt_temp': 57.97, 'melt_temp_arm1': 40.79, 'melt_temp_arm2': 39.71, 'dif_melt_temp_arms': 1.08, 'ligation_site': 16.0}}\n"
     ]
    }
   ],
   "source": [
    "probes_updated = blast_filter.apply(probe_info_dict, file_transcriptome_fasta, n_jobs)\n",
    "for gene in probes_updated.keys():\n",
    "    print(f\"{gene}, {len(list(probes_updated[gene].keys()))}\")\n",
    "print(probes_updated[\"NOC2L\"])"
   ]
  },
  {
   "cell_type": "markdown",
   "metadata": {},
   "source": [
    "Test the two filters one after the other"
   ]
  },
  {
   "cell_type": "code",
   "execution_count": 11,
   "metadata": {},
   "outputs": [
    {
     "name": "stderr",
     "output_type": "stream",
     "text": [
      "/home/francesco/Desktop/Work/oligo-designer-toolsuite/oligo_designer_toolsuite/IO/_database.py:64: UserWarning: Species not specified.\n",
      "  warnings.warn(\"Species not specified.\")\n",
      "/home/francesco/Desktop/Work/oligo-designer-toolsuite/oligo_designer_toolsuite/IO/_database.py:68: UserWarning: Genome assembly not specified.\n",
      "  warnings.warn(f\"Genome assembly not specified.\")\n",
      "/home/francesco/Desktop/Work/oligo-designer-toolsuite/oligo_designer_toolsuite/IO/_database.py:72: UserWarning: Annotation release not specified.\n",
      "  warnings.warn(f\"Annotation release not specified.\")\n",
      "/home/francesco/Desktop/Work/oligo-designer-toolsuite/oligo_designer_toolsuite/IO/_database.py:76: UserWarning: Annotation source not specified.\n",
      "  warnings.warn(f\"Annotation source not specified.\")\n",
      "# reads processed: 59\n",
      "# reads with at least one alignment: 59 (100.00%)\n",
      "# reads that failed to align: 0 (0.00%)\n",
      "Reported 59 alignments\n",
      "# reads processed: 3235\n",
      "# reads with at least one alignment: 3235 (100.00%)\n",
      "# reads that failed to align: 0 (0.00%)\n",
      "Reported 34048 alignments\n",
      "# reads processed: 2913\n",
      "# reads with at least one alignment: 2913 (100.00%)\n",
      "# reads that failed to align: 0 (0.00%)\n",
      "Reported 4040 alignments\n",
      "# reads processed: 5736\n",
      "# reads with at least one alignment: 5736 (100.00%)\n",
      "# reads that failed to align: 0 (0.00%)\n",
      "Reported 10151 alignments\n",
      "# reads processed: 5652\n",
      "# reads with at least one alignment: 5652 (100.00%)\n",
      "# reads that failed to align: 0 (0.00%)\n",
      "Reported 49738 alignments\n",
      "# reads processed: 5284\n",
      "# reads with at least one alignment: 5284 (100.00%)\n",
      "# reads that failed to align: 0 (0.00%)\n",
      "Reported 6730 alignments\n",
      "# reads processed: 2960\n",
      "# reads with at least one alignment: 2960 (100.00%)\n",
      "# reads that failed to align: 0 (0.00%)\n",
      "Reported 4428 alignments\n",
      "# reads processed: 10881\n",
      "# reads with at least one alignment: 10881 (100.00%)\n",
      "# reads that failed to align: 0 (0.00%)\n",
      "Reported 30191 alignments\n",
      "# reads processed: 9285\n",
      "# reads with at least one alignment: 9285 (100.00%)\n",
      "# reads that failed to align: 0 (0.00%)\n",
      "Reported 123248 alignments\n",
      "# reads processed: 8164\n",
      "# reads with at least one alignment: 8164 (100.00%)\n",
      "# reads that failed to align: 0 (0.00%)\n",
      "Reported 193261 alignments\n"
     ]
    },
    {
     "name": "stdout",
     "output_type": "stream",
     "text": [
      "NOC2L, 27\n",
      "PLEKHN1, 372\n",
      "AGRN, 483\n",
      "UBE2J2, 1299\n",
      "DVL1, 164\n",
      "MIB2, 992\n"
     ]
    }
   ],
   "source": [
    "dir_annotation = '/home/francesco/Desktop/Work/NCBI'\n",
    "annotation = dir_annotation+'/GCF_000001405.40_GRCh38.p14_genomic.gtf'\n",
    "sequence = dir_annotation+'/GCF_000001405.40_GRCh38.p14_genomic.fna'\n",
    "ligation_seed_region = LigationRegionCreation(ligation_region_size=10)\n",
    "seed_region_filter = BowtieSeedRegion(dir_specificity, ligation_seed_region)\n",
    "db = CustomDB(25, 30, None, dir_output=dir_output, file_annotation=annotation, file_sequence = sequence)\n",
    "db.read_reference_DB(file_reference_DB=file_transcriptome_fasta)\n",
    "db.read_oligos_DB(file_oligos_DB_tsv=file_probe_info, format='tsv')\n",
    "specificity_filters = SpecificityFilter([exact_match_filter,seed_region_filter, blast_filter])\n",
    "db = specificity_filters.apply(DB=db, n_jobs=n_jobs)\n",
    "for gene in db.oligos_DB.keys():\n",
    "    print(f\"{gene}, {len(list(db.oligos_DB[gene].keys()))}\")"
   ]
  },
  {
   "cell_type": "markdown",
   "metadata": {},
   "source": [
    "Test Bowtie filter"
   ]
  },
  {
   "cell_type": "code",
   "execution_count": null,
   "metadata": {},
   "outputs": [
    {
     "name": "stderr",
     "output_type": "stream",
     "text": [
      "# reads processed: 59\n",
      "# reads with at least one alignment: 59 (100.00%)\n",
      "# reads that failed to align: 0 (0.00%)\n",
      "Reported 59 alignments\n",
      "# reads processed: 2960\n",
      "# reads with at least one alignment: 2960 (100.00%)\n",
      "# reads that failed to align: 0 (0.00%)\n",
      "Reported 4096 alignments\n",
      "# reads processed: 2913\n",
      "# reads with at least one alignment: 2913 (100.00%)\n",
      "# reads that failed to align: 0 (0.00%)\n",
      "Reported 3638 alignments\n",
      "# reads processed: 3235\n",
      "# reads with at least one alignment: 3235 (100.00%)\n",
      "# reads that failed to align: 0 (0.00%)\n",
      "Reported 30287 alignments\n",
      "# reads processed: 5284\n",
      "# reads with at least one alignment: 5284 (100.00%)\n",
      "# reads that failed to align: 0 (0.00%)\n",
      "Reported 5920 alignments\n",
      "# reads processed: 5652\n",
      "# reads with at least one alignment: 5652 (100.00%)\n",
      "# reads that failed to align: 0 (0.00%)\n",
      "Reported 55510 alignments\n",
      "# reads processed: 5736\n",
      "# reads with at least one alignment: 5736 (100.00%)\n",
      "# reads that failed to align: 0 (0.00%)\n",
      "Reported 11077 alignments\n",
      "# reads processed: 9285\n",
      "# reads with at least one alignment: 9285 (100.00%)\n",
      "# reads that failed to align: 0 (0.00%)\n",
      "Reported 44557 alignments\n",
      "# reads processed: 8190\n",
      "# reads with at least one alignment: 8190 (100.00%)\n",
      "# reads that failed to align: 0 (0.00%)\n",
      "Reported 327864 alignments\n",
      "# reads processed: 10881\n",
      "# reads with at least one alignment: 10881 (100.00%)\n",
      "# reads that failed to align: 0 (0.00%)\n",
      "Reported 90357 alignments\n"
     ]
    },
    {
     "name": "stdout",
     "output_type": "stream",
     "text": [
      "WASH7P, 0\n",
      "DDX11L1, 0\n",
      "TRNT, 59\n",
      "NOC2L, 1525\n",
      "PLEKHN1, 2421\n",
      "AGRN, 5284\n",
      "UBE2J2, 7937\n",
      "DVL1, 2654\n",
      "MIB2, 9760\n",
      "LOC112268402_1, 0\n"
     ]
    }
   ],
   "source": [
    "min_mismatches=4\n",
    "mismatch_region=5\n",
    "ligation_region=0\n",
    "\n",
    "bowtie_filter=Bowtie(dir_specificity, min_mismatches, mismatch_region)\n",
    "\n",
    "probe_info_dict=read_oligos_DB_tsv(file_probe_info)\n",
    "probes_updated = bowtie_filter.apply(probe_info_dict, file_transcriptome_fasta, n_jobs)\n",
    "#find a probe with mismatch in ligation region and run on that. \n",
    "for gene in probes_updated.keys():\n",
    "    print(f\"{gene}, {len(list(probes_updated[gene].keys()))}\")\n",
    "\n"
   ]
  },
  {
   "cell_type": "markdown",
   "metadata": {},
   "source": [
    "Test Bowtie 2 filter"
   ]
  },
  {
   "cell_type": "code",
   "execution_count": 4,
   "metadata": {},
   "outputs": [
    {
     "name": "stdout",
     "output_type": "stream",
     "text": [
      "Settings:\n",
      "  Output files: \"reference.*.bt2\"\n",
      "  Line rate: 6 (line is 64 bytes)\n",
      "  Lines per side: 1 (side is 64 bytes)\n",
      "  Offset rate: 4 (one in 16)\n",
      "  FTable chars: 10\n",
      "  Strings: unpacked\n",
      "  Max bucket size: default\n",
      "  Max bucket size, sqrt multiplier: default\n",
      "  Max bucket size, len divisor: 4\n",
      "  Difference-cover sample period: 1024\n",
      "  Endianness: little\n",
      "  Actual local endianness: little\n",
      "  Sanity checking: disabled\n",
      "  Assertions: disabled\n",
      "  Random seed: 0\n",
      "  Sizeofs: void*:8, int:4, long:8, size_t:8\n",
      "Input files DNA, FASTA:\n",
      "  /home/francesco/Desktop/Work/oligo-designer-toolsuite/output/annotation/reference_DB_unknown_unknown_Custom_release_unknown_gene_transcript.fna\n",
      "Reading reference sizes\n"
     ]
    },
    {
     "name": "stderr",
     "output_type": "stream",
     "text": [
      "Building a SMALL index\n"
     ]
    },
    {
     "name": "stdout",
     "output_type": "stream",
     "text": [
      "  Time reading reference sizes: 00:00:02\n",
      "Calculating joined length\n",
      "Writing header\n",
      "Reserving space for joined string\n",
      "Joining reference sequences\n",
      "  Time to join reference sequences: 00:00:01\n",
      "bmax according to bmaxDivN setting: 49779804\n",
      "Using parameters --bmax 37334853 --dcv 1024\n",
      "  Doing ahead-of-time memory usage test\n",
      "  Passed!  Constructing with these parameters: --bmax 37334853 --dcv 1024\n",
      "Constructing suffix-array element generator\n",
      "Building DifferenceCoverSample\n",
      "  Building sPrime\n",
      "  Building sPrimeOrder\n",
      "  V-Sorting samples\n",
      "  V-Sorting samples time: 00:00:03\n",
      "  Allocating rank array\n",
      "  Ranking v-sort output\n",
      "  Ranking v-sort output time: 00:00:01\n",
      "  Invoking Larsson-Sadakane on ranks\n",
      "  Invoking Larsson-Sadakane on ranks time: 00:00:02\n",
      "  Sanity-checking and returning\n",
      "Building samples\n",
      "Reserving space for 12 sample suffixes\n",
      "Generating random suffixes\n",
      "QSorting 12 sample offsets, eliminating duplicates\n",
      "QSorting sample offsets, eliminating duplicates time: 00:00:00\n",
      "Multikey QSorting 12 samples\n",
      "  (Using difference cover)\n",
      "  Multikey QSorting samples time: 00:00:00\n",
      "Calculating bucket sizes\n",
      "Splitting and merging\n",
      "  Splitting and merging time: 00:00:00\n",
      "Split 1, merged 7; iterating...\n",
      "Splitting and merging\n",
      "  Splitting and merging time: 00:00:00\n",
      "Avg bucket size: 3.31865e+07 (target: 37334852)\n",
      "Converting suffix-array elements to index image\n",
      "Allocating ftab, absorbFtab\n",
      "Entering Ebwt loop\n",
      "Getting block 1 of 6\n",
      "  Reserving size (37334853) for bucket 1\n",
      "  Calculating Z arrays for bucket 1\n",
      "  Entering block accumulator loop for bucket 1:\n",
      "  bucket 1: 10%\n",
      "  bucket 1: 20%\n",
      "  bucket 1: 30%\n",
      "  bucket 1: 40%\n",
      "  bucket 1: 50%\n",
      "  bucket 1: 60%\n",
      "  bucket 1: 70%\n",
      "  bucket 1: 80%\n",
      "  bucket 1: 90%\n",
      "  bucket 1: 100%\n",
      "  Sorting block of length 32207205 for bucket 1\n",
      "  (Using difference cover)\n",
      "  Sorting block time: 00:00:14\n",
      "Returning block of 32207206 for bucket 1\n",
      "Getting block 2 of 6\n",
      "  Reserving size (37334853) for bucket 2\n",
      "  Calculating Z arrays for bucket 2\n",
      "  Entering block accumulator loop for bucket 2:\n",
      "  bucket 2: 10%\n",
      "  bucket 2: 20%\n",
      "  bucket 2: 30%\n",
      "  bucket 2: 40%\n",
      "  bucket 2: 50%\n",
      "  bucket 2: 60%\n",
      "  bucket 2: 70%\n",
      "  bucket 2: 80%\n",
      "  bucket 2: 90%\n",
      "  bucket 2: 100%\n",
      "  Sorting block of length 34792722 for bucket 2\n",
      "  (Using difference cover)\n",
      "  Sorting block time: 00:00:16\n",
      "Returning block of 34792723 for bucket 2\n"
     ]
    },
    {
     "name": "stderr",
     "output_type": "stream",
     "text": [
      "Traceback (most recent call last):\n",
      "  File \"/home/francesco/miniconda3/envs/oligo/bin/bowtie2-build\", line 113, in <module>\n",
      "    main()\n",
      "  File \"/home/francesco/miniconda3/envs/oligo/bin/bowtie2-build\", line 110, in main\n",
      "    sys.exit(subprocess.call(argv))\n",
      "  File \"/home/francesco/miniconda3/envs/oligo/lib/python3.10/subprocess.py\", line 347, in call\n",
      "    return p.wait(timeout=timeout)\n",
      "  File \"/home/francesco/miniconda3/envs/oligo/lib/python3.10/subprocess.py\", line 1204, in wait\n",
      "    return self._wait(timeout=timeout)\n",
      "  File \"/home/francesco/miniconda3/envs/oligo/lib/python3.10/subprocess.py\", line 1938, in _wait\n",
      "    (pid, sts) = self._try_wait(0)\n",
      "  File \"/home/francesco/miniconda3/envs/oligo/lib/python3.10/subprocess.py\", line 1896, in _try_wait\n",
      "    (pid, sts) = os.waitpid(self.pid, wait_flags)\n",
      "KeyboardInterrupt\n"
     ]
    },
    {
     "ename": "KeyboardInterrupt",
     "evalue": "",
     "output_type": "error",
     "traceback": [
      "\u001b[0;31m---------------------------------------------------------------------------\u001b[0m",
      "\u001b[0;31mKeyboardInterrupt\u001b[0m                         Traceback (most recent call last)",
      "\u001b[1;32m/home/francesco/Desktop/Work/oligo-designer-toolsuite/tests/test_specificity_filter.ipynb Cell 15\u001b[0m in \u001b[0;36m<cell line: 4>\u001b[0;34m()\u001b[0m\n\u001b[1;32m      <a href='vscode-notebook-cell:/home/francesco/Desktop/Work/oligo-designer-toolsuite/tests/test_specificity_filter.ipynb#X20sZmlsZQ%3D%3D?line=0'>1</a>\u001b[0m bowtie2_filter\u001b[39m=\u001b[39mBowtie2(dir_specificity)\n\u001b[1;32m      <a href='vscode-notebook-cell:/home/francesco/Desktop/Work/oligo-designer-toolsuite/tests/test_specificity_filter.ipynb#X20sZmlsZQ%3D%3D?line=2'>3</a>\u001b[0m probe_info_dict\u001b[39m=\u001b[39mread_oligos_DB_tsv(file_probe_info)\n\u001b[0;32m----> <a href='vscode-notebook-cell:/home/francesco/Desktop/Work/oligo-designer-toolsuite/tests/test_specificity_filter.ipynb#X20sZmlsZQ%3D%3D?line=3'>4</a>\u001b[0m probes_updated \u001b[39m=\u001b[39m bowtie2_filter\u001b[39m.\u001b[39;49mapply(probe_info_dict, file_transcriptome_fasta, n_jobs)\n\u001b[1;32m      <a href='vscode-notebook-cell:/home/francesco/Desktop/Work/oligo-designer-toolsuite/tests/test_specificity_filter.ipynb#X20sZmlsZQ%3D%3D?line=4'>5</a>\u001b[0m \u001b[39mfor\u001b[39;00m gene \u001b[39min\u001b[39;00m probes_updated\u001b[39m.\u001b[39mkeys():\n\u001b[1;32m      <a href='vscode-notebook-cell:/home/francesco/Desktop/Work/oligo-designer-toolsuite/tests/test_specificity_filter.ipynb#X20sZmlsZQ%3D%3D?line=5'>6</a>\u001b[0m     \u001b[39mprint\u001b[39m(\u001b[39mf\u001b[39m\u001b[39m\"\u001b[39m\u001b[39m{\u001b[39;00mgene\u001b[39m}\u001b[39;00m\u001b[39m, \u001b[39m\u001b[39m{\u001b[39;00m\u001b[39mlen\u001b[39m(\u001b[39mlist\u001b[39m(probes_updated[gene]\u001b[39m.\u001b[39mkeys()))\u001b[39m}\u001b[39;00m\u001b[39m\"\u001b[39m)\n",
      "File \u001b[0;32m~/Desktop/Work/oligo-designer-toolsuite/oligo_designer_toolsuite/oligo_specificity_filter/_filter_bowtie2.py:65\u001b[0m, in \u001b[0;36mBowtie2.apply\u001b[0;34m(self, oligo_DB, file_reference_DB, n_jobs)\u001b[0m\n\u001b[1;32m     63\u001b[0m \u001b[39mif\u001b[39;00m \u001b[39mnot\u001b[39;00m index_exists:\n\u001b[1;32m     64\u001b[0m     command1 \u001b[39m=\u001b[39m \u001b[39m\"\u001b[39m\u001b[39mbowtie2-build -f \u001b[39m\u001b[39m\"\u001b[39m \u001b[39m+\u001b[39m file_reference_DB \u001b[39m+\u001b[39m \u001b[39m\"\u001b[39m\u001b[39m \u001b[39m\u001b[39m\"\u001b[39m \u001b[39m+\u001b[39m index_name\n\u001b[0;32m---> 65\u001b[0m     process \u001b[39m=\u001b[39m Popen(command1, shell\u001b[39m=\u001b[39;49m\u001b[39mTrue\u001b[39;49;00m, cwd\u001b[39m=\u001b[39;49m\u001b[39mself\u001b[39;49m\u001b[39m.\u001b[39;49mdir_bowtie2)\u001b[39m.\u001b[39;49mwait()\n\u001b[1;32m     67\u001b[0m genes \u001b[39m=\u001b[39m \u001b[39mlist\u001b[39m(oligo_DB\u001b[39m.\u001b[39mkeys())\n\u001b[1;32m     68\u001b[0m filtered_oligo_DBs \u001b[39m=\u001b[39m Parallel(n_jobs\u001b[39m=\u001b[39mn_jobs)(\n\u001b[1;32m     69\u001b[0m     delayed(\u001b[39mself\u001b[39m\u001b[39m.\u001b[39m_run_bowtie2)(oligo_DB[gene], gene, index_name) \u001b[39mfor\u001b[39;00m gene \u001b[39min\u001b[39;00m genes\n\u001b[1;32m     70\u001b[0m )\n",
      "File \u001b[0;32m~/miniconda3/envs/oligo/lib/python3.10/subprocess.py:1204\u001b[0m, in \u001b[0;36mPopen.wait\u001b[0;34m(self, timeout)\u001b[0m\n\u001b[1;32m   1202\u001b[0m     endtime \u001b[39m=\u001b[39m _time() \u001b[39m+\u001b[39m timeout\n\u001b[1;32m   1203\u001b[0m \u001b[39mtry\u001b[39;00m:\n\u001b[0;32m-> 1204\u001b[0m     \u001b[39mreturn\u001b[39;00m \u001b[39mself\u001b[39;49m\u001b[39m.\u001b[39;49m_wait(timeout\u001b[39m=\u001b[39;49mtimeout)\n\u001b[1;32m   1205\u001b[0m \u001b[39mexcept\u001b[39;00m \u001b[39mKeyboardInterrupt\u001b[39;00m:\n\u001b[1;32m   1206\u001b[0m     \u001b[39m# https://bugs.python.org/issue25942\u001b[39;00m\n\u001b[1;32m   1207\u001b[0m     \u001b[39m# The first keyboard interrupt waits briefly for the child to\u001b[39;00m\n\u001b[1;32m   1208\u001b[0m     \u001b[39m# exit under the common assumption that it also received the ^C\u001b[39;00m\n\u001b[1;32m   1209\u001b[0m     \u001b[39m# generated SIGINT and will exit rapidly.\u001b[39;00m\n\u001b[1;32m   1210\u001b[0m     \u001b[39mif\u001b[39;00m timeout \u001b[39mis\u001b[39;00m \u001b[39mnot\u001b[39;00m \u001b[39mNone\u001b[39;00m:\n",
      "File \u001b[0;32m~/miniconda3/envs/oligo/lib/python3.10/subprocess.py:1938\u001b[0m, in \u001b[0;36mPopen._wait\u001b[0;34m(self, timeout)\u001b[0m\n\u001b[1;32m   1936\u001b[0m \u001b[39mif\u001b[39;00m \u001b[39mself\u001b[39m\u001b[39m.\u001b[39mreturncode \u001b[39mis\u001b[39;00m \u001b[39mnot\u001b[39;00m \u001b[39mNone\u001b[39;00m:\n\u001b[1;32m   1937\u001b[0m     \u001b[39mbreak\u001b[39;00m  \u001b[39m# Another thread waited.\u001b[39;00m\n\u001b[0;32m-> 1938\u001b[0m (pid, sts) \u001b[39m=\u001b[39m \u001b[39mself\u001b[39;49m\u001b[39m.\u001b[39;49m_try_wait(\u001b[39m0\u001b[39;49m)\n\u001b[1;32m   1939\u001b[0m \u001b[39m# Check the pid and loop as waitpid has been known to\u001b[39;00m\n\u001b[1;32m   1940\u001b[0m \u001b[39m# return 0 even without WNOHANG in odd situations.\u001b[39;00m\n\u001b[1;32m   1941\u001b[0m \u001b[39m# http://bugs.python.org/issue14396.\u001b[39;00m\n\u001b[1;32m   1942\u001b[0m \u001b[39mif\u001b[39;00m pid \u001b[39m==\u001b[39m \u001b[39mself\u001b[39m\u001b[39m.\u001b[39mpid:\n",
      "File \u001b[0;32m~/miniconda3/envs/oligo/lib/python3.10/subprocess.py:1896\u001b[0m, in \u001b[0;36mPopen._try_wait\u001b[0;34m(self, wait_flags)\u001b[0m\n\u001b[1;32m   1894\u001b[0m \u001b[39m\"\"\"All callers to this function MUST hold self._waitpid_lock.\"\"\"\u001b[39;00m\n\u001b[1;32m   1895\u001b[0m \u001b[39mtry\u001b[39;00m:\n\u001b[0;32m-> 1896\u001b[0m     (pid, sts) \u001b[39m=\u001b[39m os\u001b[39m.\u001b[39;49mwaitpid(\u001b[39mself\u001b[39;49m\u001b[39m.\u001b[39;49mpid, wait_flags)\n\u001b[1;32m   1897\u001b[0m \u001b[39mexcept\u001b[39;00m \u001b[39mChildProcessError\u001b[39;00m:\n\u001b[1;32m   1898\u001b[0m     \u001b[39m# This happens if SIGCLD is set to be ignored or waiting\u001b[39;00m\n\u001b[1;32m   1899\u001b[0m     \u001b[39m# for child processes has otherwise been disabled for our\u001b[39;00m\n\u001b[1;32m   1900\u001b[0m     \u001b[39m# process.  This child is dead, we can't get the status.\u001b[39;00m\n\u001b[1;32m   1901\u001b[0m     pid \u001b[39m=\u001b[39m \u001b[39mself\u001b[39m\u001b[39m.\u001b[39mpid\n",
      "\u001b[0;31mKeyboardInterrupt\u001b[0m: "
     ]
    }
   ],
   "source": [
    "bowtie2_filter=Bowtie2(dir_specificity)\n",
    "\n",
    "probe_info_dict=read_oligos_DB_tsv(file_probe_info)\n",
    "probes_updated = bowtie2_filter.apply(probe_info_dict, file_transcriptome_fasta, n_jobs)\n",
    "for gene in probes_updated.keys():\n",
    "    print(f\"{gene}, {len(list(probes_updated[gene].keys()))}\")"
   ]
  },
  {
   "cell_type": "code",
   "execution_count": 8,
   "metadata": {},
   "outputs": [
    {
     "name": "stderr",
     "output_type": "stream",
     "text": [
      "# reads processed: 3235\n",
      "# reads with at least one alignment: 3235 (100.00%)\n",
      "# reads that failed to align: 0 (0.00%)\n",
      "Reported 34048 alignments\n",
      "# reads processed: 59\n",
      "# reads with at least one alignment: 59 (100.00%)\n",
      "# reads that failed to align: 0 (0.00%)\n",
      "Reported 59 alignments\n",
      "# reads processed: 5652\n",
      "# reads with at least one alignment: 5652 (100.00%)\n",
      "# reads that failed to align: 0 (0.00%)\n",
      "Reported 49738 alignments\n",
      "# reads processed: 2913\n",
      "# reads with at least one alignment: 2913 (100.00%)\n",
      "# reads that failed to align: 0 (0.00%)\n",
      "Reported 4040 alignments\n",
      "# reads processed: 5284\n",
      "# reads with at least one alignment: 5284 (100.00%)\n",
      "# reads that failed to align: 0 (0.00%)\n",
      "Reported 6730 alignments\n",
      "# reads processed: 5736\n",
      "# reads with at least one alignment: 5736 (100.00%)\n",
      "# reads that failed to align: 0 (0.00%)\n",
      "Reported 10151 alignments\n",
      "# reads processed: 2960\n",
      "# reads with at least one alignment: 2960 (100.00%)\n",
      "# reads that failed to align: 0 (0.00%)\n",
      "Reported 4428 alignments\n",
      "# reads processed: 10881\n",
      "# reads with at least one alignment: 10881 (100.00%)\n",
      "# reads that failed to align: 0 (0.00%)\n",
      "Reported 30191 alignments\n",
      "# reads processed: 9285\n",
      "# reads with at least one alignment: 9285 (100.00%)\n",
      "# reads that failed to align: 0 (0.00%)\n",
      "Reported 123248 alignments\n",
      "# reads processed: 8190\n",
      "# reads with at least one alignment: 8190 (100.00%)\n",
      "# reads that failed to align: 0 (0.00%)\n",
      "Reported 193617 alignments\n"
     ]
    },
    {
     "name": "stdout",
     "output_type": "stream",
     "text": [
      "WASH7P, 0\n",
      "DDX11L1, 104\n",
      "TRNT, 59\n",
      "NOC2L, 3541\n",
      "PLEKHN1, 2361\n",
      "AGRN, 5284\n",
      "UBE2J2, 7748\n",
      "DVL1, 2783\n",
      "MIB2, 9792\n",
      "LOC112268402_1, 0\n"
     ]
    }
   ],
   "source": [
    "ligation_seed_region = LigationRegionCreation(ligation_region_size=10)\n",
    "standard_seed_region = SeedRegionCreationStandard(start=5, end = 25)\n",
    "prec_seed_region = SeedRegionCreationPercentage(start=0.2, end = 0.8)\n",
    "\n",
    "bowtie_seed_region = BowtieSeedRegion(dir_specificity, ligation_seed_region)\n",
    "\n",
    "probe_info_dict=read_oligos_DB_tsv(file_probe_info)\n",
    "probes_updated = bowtie_seed_region.apply(probe_info_dict, file_transcriptome_fasta, n_jobs)\n",
    "for gene in probes_updated.keys():\n",
    "    print(f\"{gene}, {len(list(probes_updated[gene].keys()))}\")"
   ]
  }
 ],
 "metadata": {
  "kernelspec": {
   "display_name": "Python 3.10.4 ('oligo')",
   "language": "python",
   "name": "python3"
  },
  "language_info": {
   "codemirror_mode": {
    "name": "ipython",
    "version": 3
   },
   "file_extension": ".py",
   "mimetype": "text/x-python",
   "name": "python",
   "nbconvert_exporter": "python",
   "pygments_lexer": "ipython3",
   "version": "3.10.4"
  },
  "orig_nbformat": 4,
  "vscode": {
   "interpreter": {
    "hash": "7ff94d65164c54a2126c7dc0869520902e3a005d5dddb9f8c3667ad0fd9373c9"
   }
  }
 },
 "nbformat": 4,
 "nbformat_minor": 2
}
