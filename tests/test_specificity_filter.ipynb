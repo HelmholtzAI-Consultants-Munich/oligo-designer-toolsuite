{
 "cells": [
  {
   "cell_type": "code",
   "execution_count": 1,
   "metadata": {},
   "outputs": [],
   "source": [
    "%load_ext autoreload\n",
    "%autoreload 2"
   ]
  },
  {
   "cell_type": "code",
   "execution_count": 2,
   "metadata": {},
   "outputs": [],
   "source": [
    "import os\n",
    "cwd=os.getcwd()\n",
    "\n",
    "from oligo_designer_toolsuite.oligo_specificity_filter._filter_base import ProbeFilterBase\n",
    "from oligo_designer_toolsuite.oligo_specificity_filter._filter_blastn import ProbeFilterBlastn\n",
    "from oligo_designer_toolsuite.oligo_specificity_filter._filter_bowtie import ProbeFilterBowtie\n",
    "from oligo_designer_toolsuite.oligo_specificity_filter._filter_bowtie2 import ProbeFilterBowtie2\n",
    "from oligo_designer_toolsuite.IO._data_parser import read_oligos_DB_tsv, write_oligos_DB_tsv"
   ]
  },
  {
   "cell_type": "code",
   "execution_count": 5,
   "metadata": {},
   "outputs": [
    {
     "data": {
      "text/plain": [
       "'/home/chels/CRISPR/repos/oligo-designer-toolsuite/tests'"
      ]
     },
     "execution_count": 5,
     "metadata": {},
     "output_type": "execute_result"
    }
   ],
   "source": [
    "cwd"
   ]
  },
  {
   "cell_type": "code",
   "execution_count": 148,
   "metadata": {},
   "outputs": [],
   "source": [
    "n_jobs=8\n",
    "ligation_region=10\n",
    "dir_output=cwd + \"/output\"\n",
    "dir_annotations=cwd+\"/data\"\n",
    "file_probe_info=dir_annotations + \"/oligo_DB_unknown_unknown_Custom_release_unknown_gene_transcript.tsv\"\n",
    "min_probes_per_gene=2\n",
    "file_transcriptome_fasta=dir_annotations +\"/reference_DB_unknown_unknown_Custom_release_unknown_genome_False_gene_transcript_True\"\n",
    "word_size=10\n",
    "percent_identity=80\n",
    "probe_length_min=30\n",
    "probe_length_max=40\n",
    "coverage=50\n"
   ]
  },
  {
   "cell_type": "code",
   "execution_count": 149,
   "metadata": {},
   "outputs": [],
   "source": [
    "probe_info_dict=read_oligos_DB_tsv(file_probe_info)"
   ]
  },
  {
   "cell_type": "markdown",
   "metadata": {},
   "source": [
    "Test Blast filter"
   ]
  },
  {
   "cell_type": "code",
   "execution_count": 43,
   "metadata": {},
   "outputs": [],
   "source": [
    "blast_filter=ProbeFilterBlastn(n_jobs,\n",
    "        file_transcriptome_fasta, \n",
    "        dir_output, dir_annotations, word_size,\n",
    "        percent_identity, coverage, probe_length_min, probe_length_max, ligation_region)"
   ]
  },
  {
   "cell_type": "code",
   "execution_count": 44,
   "metadata": {},
   "outputs": [
    {
     "name": "stdout",
     "output_type": "stream",
     "text": [
      "INFO:filter_probes:Creating batches\n",
      "INFO:filter_probes:Exact matches filtered in 6.1890411999993376 seconds\n",
      "INFO:filter_probes:Creating blast database\n",
      "INFO:filter_probes:Blast database created in 23.24813390000054 seconds\n",
      "INFO:filter_probes:Blast alignmnet search finished in 157.10336969999844 seconds\n",
      "INFO:filter_probes:Blast results processed in 11.953025200000411 seconds\n"
     ]
    }
   ],
   "source": [
    "blast_filter.apply(probe_info_dict)"
   ]
  },
  {
   "cell_type": "markdown",
   "metadata": {},
   "source": [
    "Test Bowtie filter"
   ]
  },
  {
   "cell_type": "code",
   "execution_count": 220,
   "metadata": {},
   "outputs": [],
   "source": [
    "n_jobs=10\n",
    "min_mismatches=4\n",
    "mismatch_region=5\n",
    "ligation_region=7\n",
    "\n",
    "bowtie_filter=ProbeFilterBowtie(n_jobs,\n",
    "        dir_output,dir_annotations,\n",
    "        file_transcriptome_fasta, min_mismatches, mismatch_region, ligation_region)\n",
    "\n"
   ]
  },
  {
   "cell_type": "code",
   "execution_count": 37,
   "metadata": {},
   "outputs": [
    {
     "data": {
      "text/plain": [
       "'/home/chels/CRISPR/repos/oligo-designer-toolsuite/tests/output/bowtie'"
      ]
     },
     "execution_count": 37,
     "metadata": {},
     "output_type": "execute_result"
    }
   ],
   "source": [
    "bowtie_filter.dir_bowtie"
   ]
  },
  {
   "cell_type": "code",
   "execution_count": 208,
   "metadata": {},
   "outputs": [
    {
     "name": "stdout",
     "output_type": "stream",
     "text": [
      "INFO:filter_probes:Creating batches\n",
      "INFO:filter_probes:Exact matches filtered in 4.182710199995199 seconds\n"
     ]
    },
    {
     "name": "stderr",
     "output_type": "stream",
     "text": [
      "# reads processed: 2960\n",
      "# reads with at least one reported alignment: 2960 (100.00%)\n",
      "# reads that failed to align: 0 (0.00%)\n",
      "Reported 4038 alignments to 1 output stream(s)\n",
      "# reads processed: 5736\n",
      "# reads with at least one reported alignment: 5736 (100.00%)\n",
      "# reads that failed to align: 0 (0.00%)\n",
      "Reported 10770 alignments to 1 output stream(s)\n",
      "# reads processed: 5284\n",
      "# reads with at least one reported alignment: 5284 (100.00%)\n",
      "# reads that failed to align: 0 (0.00%)\n",
      "Reported 5920 alignments to 1 output stream(s)\n",
      "# reads processed: 59\n",
      "# reads with at least one reported alignment: 59 (100.00%)\n",
      "# reads that failed to align: 0 (0.00%)\n",
      "Reported 59 alignments to 1 output stream(s)\n",
      "# reads processed: 2913\n",
      "# reads with at least one reported alignment: 2913 (100.00%)\n",
      "# reads that failed to align: 0 (0.00%)\n",
      "Reported 3638 alignments to 1 output stream(s)\n",
      "# reads processed: 3235\n",
      "# reads with at least one reported alignment: 3235 (100.00%)\n",
      "# reads that failed to align: 0 (0.00%)\n",
      "Reported 30205 alignments to 1 output stream(s)\n",
      "# reads processed: 5652\n",
      "# reads with at least one reported alignment: 5652 (100.00%)\n",
      "# reads that failed to align: 0 (0.00%)\n",
      "Reported 55176 alignments to 1 output stream(s)\n",
      "# reads processed: 8190\n",
      "# reads with at least one reported alignment: 8190 (100.00%)\n",
      "# reads that failed to align: 0 (0.00%)\n",
      "Reported 237386 alignments to 1 output stream(s)\n"
     ]
    },
    {
     "name": "stdout",
     "output_type": "stream",
     "text": [
      "Unexpected exception formatting exception. Falling back to standard exception\n"
     ]
    },
    {
     "name": "stderr",
     "output_type": "stream",
     "text": [
      "Traceback (most recent call last):\n",
      "  File \"/home/chels/anaconda3/envs/oligo/lib/python3.10/site-packages/IPython/core/interactiveshell.py\", line 3397, in run_code\n",
      "    exec(code_obj, self.user_global_ns, self.user_ns)\n",
      "  File \"/tmp/ipykernel_4168/1462788976.py\", line 1, in <cell line: 1>\n",
      "    bowtie_filter.apply(probe_info_dict)\n",
      "  File \"/home/chels/CRISPR/repos/oligo-designer-toolsuite/oligo_designer_toolsuite/oligo_specificity_filter/_filter_bowtie.py\", line 310, in apply\n",
      "    self.run_bowtie()\n",
      "  File \"/home/chels/CRISPR/repos/oligo-designer-toolsuite/oligo_designer_toolsuite/oligo_specificity_filter/_filter_bowtie.py\", line 136, in run_bowtie\n",
      "    Parallel()(\n",
      "  File \"/home/chels/anaconda3/envs/oligo/lib/python3.10/site-packages/joblib/parallel.py\", line 1056, in __call__\n",
      "    self.retrieve()\n",
      "  File \"/home/chels/anaconda3/envs/oligo/lib/python3.10/site-packages/joblib/parallel.py\", line 935, in retrieve\n",
      "    self._output.extend(job.get(timeout=self.timeout))\n",
      "  File \"/home/chels/anaconda3/envs/oligo/lib/python3.10/site-packages/joblib/_parallel_backends.py\", line 542, in wrap_future_result\n",
      "    return future.result(timeout=timeout)\n",
      "  File \"/home/chels/anaconda3/envs/oligo/lib/python3.10/concurrent/futures/_base.py\", line 441, in result\n",
      "    self._condition.wait(timeout)\n",
      "  File \"/home/chels/anaconda3/envs/oligo/lib/python3.10/threading.py\", line 320, in wait\n",
      "    waiter.acquire()\n",
      "KeyboardInterrupt\n",
      "\n",
      "During handling of the above exception, another exception occurred:\n",
      "\n",
      "Traceback (most recent call last):\n",
      "  File \"/home/chels/anaconda3/envs/oligo/lib/python3.10/site-packages/IPython/core/interactiveshell.py\", line 1992, in showtraceback\n",
      "    stb = self.InteractiveTB.structured_traceback(\n",
      "  File \"/home/chels/anaconda3/envs/oligo/lib/python3.10/site-packages/IPython/core/ultratb.py\", line 1118, in structured_traceback\n",
      "    return FormattedTB.structured_traceback(\n",
      "  File \"/home/chels/anaconda3/envs/oligo/lib/python3.10/site-packages/IPython/core/ultratb.py\", line 1012, in structured_traceback\n",
      "    return VerboseTB.structured_traceback(\n",
      "  File \"/home/chels/anaconda3/envs/oligo/lib/python3.10/site-packages/IPython/core/ultratb.py\", line 865, in structured_traceback\n",
      "    formatted_exception = self.format_exception_as_a_whole(etype, evalue, etb, number_of_lines_of_context,\n",
      "  File \"/home/chels/anaconda3/envs/oligo/lib/python3.10/site-packages/IPython/core/ultratb.py\", line 818, in format_exception_as_a_whole\n",
      "    frames.append(self.format_record(r))\n",
      "  File \"/home/chels/anaconda3/envs/oligo/lib/python3.10/site-packages/IPython/core/ultratb.py\", line 736, in format_record\n",
      "    result += ''.join(_format_traceback_lines(frame_info.lines, Colors, self.has_colors, lvals))\n",
      "  File \"/home/chels/anaconda3/envs/oligo/lib/python3.10/site-packages/stack_data/utils.py\", line 145, in cached_property_wrapper\n",
      "    value = obj.__dict__[self.func.__name__] = self.func(obj)\n",
      "  File \"/home/chels/anaconda3/envs/oligo/lib/python3.10/site-packages/stack_data/core.py\", line 698, in lines\n",
      "    pieces = self.included_pieces\n",
      "  File \"/home/chels/anaconda3/envs/oligo/lib/python3.10/site-packages/stack_data/utils.py\", line 145, in cached_property_wrapper\n",
      "    value = obj.__dict__[self.func.__name__] = self.func(obj)\n",
      "  File \"/home/chels/anaconda3/envs/oligo/lib/python3.10/site-packages/stack_data/core.py\", line 649, in included_pieces\n",
      "    pos = scope_pieces.index(self.executing_piece)\n",
      "  File \"/home/chels/anaconda3/envs/oligo/lib/python3.10/site-packages/stack_data/utils.py\", line 145, in cached_property_wrapper\n",
      "    value = obj.__dict__[self.func.__name__] = self.func(obj)\n",
      "  File \"/home/chels/anaconda3/envs/oligo/lib/python3.10/site-packages/stack_data/core.py\", line 628, in executing_piece\n",
      "    return only(\n",
      "  File \"/home/chels/anaconda3/envs/oligo/lib/python3.10/site-packages/executing/executing.py\", line 164, in only\n",
      "    raise NotOneValueFound('Expected one value, found 0')\n",
      "executing.executing.NotOneValueFound: Expected one value, found 0\n"
     ]
    }
   ],
   "source": [
    "bowtie_filter.apply(probe_info_dict)\n",
    "#find a probe with mismatch in ligation region and run on that. \n",
    "\n",
    "\n"
   ]
  },
  {
   "cell_type": "code",
   "execution_count": 233,
   "metadata": {},
   "outputs": [],
   "source": [
    "#Get mismatches in ligation region for bowtie\n",
    "\n",
    "import pandas as pd\n",
    "bowtie_results_matches=pd.read_csv(\"output/bowtie/bowtie_batch0_0.txt\", sep=\"\\t\", header=None)\n",
    "\n",
    "#Get probes where mismatch positions are given\n",
    "bowtie_results_matches_mismatch_positions=bowtie_results_matches[bowtie_results_matches[7].notna()]\n",
    "#Extract positions\n",
    "positions=bowtie_results_matches_mismatch_positions[7].str.split(\",\").apply(lambda x: [elem.split(\":\")[0] for elem in x])\n",
    "#add positions to bowtie results \n",
    "bowtie_results_matches_positions = bowtie_results_matches.merge(\n",
    "                    positions,\n",
    "                    left_index=True,\n",
    "                    right_index=True,\n",
    "                    how=\"left\"\n",
    "                )\n",
    "                \n",
    "probes_info=pd.read_csv(\"data/probes_info_batch0.txt\", sep=\"\\t\", header=0)\n",
    "bowtie_results_add_ligation = bowtie_results_matches_positions.merge(\n",
    "    probes_info[[\"probe_id\", \"ligation_site\"]],\n",
    "    left_on=0,\n",
    "    right_on=\"probe_id\",\n",
    "    how=\"inner\",\n",
    ")\n",
    "\n",
    "#Calculate ligation region\n",
    "ligation_region=10\n",
    "bowtie_results_add_ligation['ligation_region_start']=bowtie_results_add_ligation.ligation_site-(ligation_region-1)\n",
    "bowtie_results_add_ligation['ligation_region_end']=bowtie_results_add_ligation.ligation_site+ligation_region\n",
    "\n",
    "bowtie_results_add_ligation.rename(columns={\"7_y\":\"positions\"}, inplace=True)\n",
    "bowtie_results_add_ligation['mismatch_in_ligation']=[False for i in range(len(bowtie_results_add_ligation))]\n",
    "bowtie_results_add_ligation_notna=bowtie_results_add_ligation[bowtie_results_add_ligation[\"positions\"].notna()]\n",
    "\n",
    "def mismatch_in_ligation(row):\n",
    "    mismatches_in_region=[]\n",
    "    for mismatch in row[\"positions\"]:\n",
    "        if int(mismatch) >= int(row[\"ligation_region_start\"]) and int(mismatch) <= int(row[\"ligation_region_end\"]):\n",
    "            mismatches_in_region.append(True)\n",
    "    if len(mismatches_in_region)>0:\n",
    "        row['mismatch_in_ligation']=mismatches_in_region[0]\n",
    "        row[\"num_mismatches_in_ligation\"] = len(mismatches_in_region)\n",
    "    return row\n",
    "\n",
    "bowtie_results_add_ligation_notna=bowtie_results_add_ligation_notna.apply(mismatch_in_ligation, axis=1)"
   ]
  },
  {
   "cell_type": "markdown",
   "metadata": {},
   "source": [
    "Test Bowtie 2 filter"
   ]
  },
  {
   "cell_type": "code",
   "execution_count": 5,
   "metadata": {},
   "outputs": [],
   "source": [
    "\n",
    "bowtie2_filter=ProbeFilterBowtie2(n_jobs,\n",
    "        dir_output,dir_annotations,\n",
    "        file_transcriptome_fasta)"
   ]
  },
  {
   "cell_type": "code",
   "execution_count": 6,
   "metadata": {},
   "outputs": [
    {
     "name": "stdout",
     "output_type": "stream",
     "text": [
      "INFO:filter_probes:Creating batches\n",
      "INFO:filter_probes:Exact matches filtered in 8.197780699999385 seconds\n",
      "Settings:\n",
      "  Output files: \"transcriptome_bowtie2.*.bt2\"\n",
      "  Line rate: 6 (line is 64 bytes)\n",
      "  Lines per side: 1 (side is 64 bytes)\n",
      "  Offset rate: 4 (one in 16)\n",
      "  FTable chars: 10\n",
      "  Strings: unpacked\n",
      "  Max bucket size: default\n",
      "  Max bucket size, sqrt multiplier: default\n",
      "  Max bucket size, len divisor: 4\n",
      "  Difference-cover sample period: 1024\n",
      "  Endianness: little\n",
      "  Actual local endianness: little\n",
      "  Sanity checking: disabled\n",
      "  Assertions: disabled\n",
      "  Random seed: 0\n",
      "  Sizeofs: void*:8, int:4, long:8, size_t:8\n",
      "Input files DNA, FASTA:\n",
      "  /home/chels/CRISPR/repos/oligo-designer-toolsuite/tests/data/reference_DB_unknown_unknown_Custom_release_unknown_genome_False_gene_transcript_True\n",
      "Reading reference sizes\n"
     ]
    },
    {
     "name": "stderr",
     "output_type": "stream",
     "text": [
      "Building a SMALL index\n"
     ]
    },
    {
     "name": "stdout",
     "output_type": "stream",
     "text": [
      "  Time reading reference sizes: 00:00:03\n",
      "Calculating joined length\n",
      "Writing header\n",
      "Reserving space for joined string\n",
      "Joining reference sequences\n",
      "  Time to join reference sequences: 00:00:02\n",
      "bmax according to bmaxDivN setting: 49779804\n",
      "Using parameters --bmax 37334853 --dcv 1024\n",
      "  Doing ahead-of-time memory usage test\n",
      "  Passed!  Constructing with these parameters: --bmax 37334853 --dcv 1024\n",
      "Constructing suffix-array element generator\n",
      "Building DifferenceCoverSample\n",
      "  Building sPrime\n",
      "  Building sPrimeOrder\n",
      "  V-Sorting samples\n",
      "  V-Sorting samples time: 00:00:08\n",
      "  Allocating rank array\n",
      "  Ranking v-sort output\n",
      "  Ranking v-sort output time: 00:00:03\n",
      "  Invoking Larsson-Sadakane on ranks\n",
      "  Invoking Larsson-Sadakane on ranks time: 00:00:03\n",
      "  Sanity-checking and returning\n",
      "Building samples\n",
      "Reserving space for 12 sample suffixes\n",
      "Generating random suffixes\n",
      "QSorting 12 sample offsets, eliminating duplicates\n",
      "QSorting sample offsets, eliminating duplicates time: 00:00:00\n",
      "Multikey QSorting 12 samples\n",
      "  (Using difference cover)\n",
      "  Multikey QSorting samples time: 00:00:00\n",
      "Calculating bucket sizes\n",
      "Splitting and merging\n",
      "  Splitting and merging time: 00:00:00\n",
      "Avg bucket size: 1.99119e+08 (target: 37334852)\n",
      "Converting suffix-array elements to index image\n",
      "Allocating ftab, absorbFtab\n",
      "Entering Ebwt loop\n",
      "Getting block 1 of 1\n",
      "  No samples; assembling all-inclusive block\n",
      "  Sorting block of length 199119217 for bucket 1\n",
      "  (Using difference cover)\n",
      "  Sorting block time: 00:01:30\n",
      "Returning block of 199119218 for bucket 1\n",
      "Exited Ebwt loop\n",
      "fchr[A]: 0\n",
      "fchr[C]: 53332783\n",
      "fchr[G]: 100044833\n",
      "fchr[T]: 147754209\n",
      "fchr[$]: 199119217\n",
      "Exiting Ebwt::buildToDisk()\n",
      "Returning from initFromVector\n",
      "Wrote 106111895 bytes to primary EBWT file: transcriptome_bowtie2.1.bt2\n",
      "Wrote 49779812 bytes to secondary EBWT file: transcriptome_bowtie2.2.bt2\n",
      "Re-opening _in1 and _in2 as input streams\n",
      "Returning from Ebwt constructor\n",
      "Headers:\n",
      "    len: 199119217\n",
      "    bwtLen: 199119218\n",
      "    sz: 49779805\n",
      "    bwtSz: 49779805\n",
      "    lineRate: 6\n",
      "    offRate: 4\n",
      "    offMask: 0xfffffff0\n",
      "    ftabChars: 10\n",
      "    eftabLen: 20\n",
      "    eftabSz: 80\n",
      "    ftabLen: 1048577\n",
      "    ftabSz: 4194308\n",
      "    offsLen: 12444952\n",
      "    offsSz: 49779808\n",
      "    lineSz: 64\n",
      "    sideSz: 64\n",
      "    sideBwtSz: 48\n",
      "    sideBwtLen: 192\n",
      "    numSides: 1037080\n",
      "    numLines: 1037080\n",
      "    ebwtTotLen: 66373120\n",
      "    ebwtTotSz: 66373120\n",
      "    color: 0\n",
      "    reverse: 0\n",
      "Total time for call to driver() for forward index: 00:02:32\n",
      "Reading reference sizes\n",
      "  Time reading reference sizes: 00:00:02\n",
      "Calculating joined length\n",
      "Writing header\n",
      "Reserving space for joined string\n",
      "Joining reference sequences\n",
      "  Time to join reference sequences: 00:00:03\n",
      "  Time to reverse reference sequence: 00:00:01\n",
      "bmax according to bmaxDivN setting: 49779804\n",
      "Using parameters --bmax 37334853 --dcv 1024\n",
      "  Doing ahead-of-time memory usage test\n",
      "  Passed!  Constructing with these parameters: --bmax 37334853 --dcv 1024\n",
      "Constructing suffix-array element generator\n",
      "Building DifferenceCoverSample\n",
      "  Building sPrime\n",
      "  Building sPrimeOrder\n",
      "  V-Sorting samples\n",
      "  V-Sorting samples time: 00:00:09\n",
      "  Allocating rank array\n",
      "  Ranking v-sort output\n",
      "  Ranking v-sort output time: 00:00:02\n",
      "  Invoking Larsson-Sadakane on ranks\n",
      "  Invoking Larsson-Sadakane on ranks time: 00:00:05\n",
      "  Sanity-checking and returning\n",
      "Building samples\n",
      "Reserving space for 12 sample suffixes\n",
      "Generating random suffixes\n",
      "QSorting 12 sample offsets, eliminating duplicates\n",
      "QSorting sample offsets, eliminating duplicates time: 00:00:00\n",
      "Multikey QSorting 12 samples\n",
      "  (Using difference cover)\n",
      "  Multikey QSorting samples time: 00:00:00\n",
      "Calculating bucket sizes\n",
      "Splitting and merging\n",
      "  Splitting and merging time: 00:00:00\n",
      "Avg bucket size: 1.99119e+08 (target: 37334852)\n",
      "Converting suffix-array elements to index image\n",
      "Allocating ftab, absorbFtab\n",
      "Entering Ebwt loop\n",
      "Getting block 1 of 1\n",
      "  No samples; assembling all-inclusive block\n",
      "  Sorting block of length 199119217 for bucket 1\n",
      "  (Using difference cover)\n",
      "  Sorting block time: 00:01:31\n",
      "Returning block of 199119218 for bucket 1\n",
      "Exited Ebwt loop\n",
      "fchr[A]: 0\n",
      "fchr[C]: 53332783\n",
      "fchr[G]: 100044833\n",
      "fchr[T]: 147754209\n",
      "fchr[$]: 199119217\n",
      "Exiting Ebwt::buildToDisk()\n",
      "Returning from initFromVector\n",
      "Wrote 106111895 bytes to primary EBWT file: transcriptome_bowtie2.rev.1.bt2\n",
      "Wrote 49779812 bytes to secondary EBWT file: transcriptome_bowtie2.rev.2.bt2\n",
      "Re-opening _in1 and _in2 as input streams\n",
      "Returning from Ebwt constructor\n",
      "Headers:\n",
      "    len: 199119217\n",
      "    bwtLen: 199119218\n",
      "    sz: 49779805\n",
      "    bwtSz: 49779805\n",
      "    lineRate: 6\n",
      "    offRate: 4\n",
      "    offMask: 0xfffffff0\n",
      "    ftabChars: 10\n",
      "    eftabLen: 20\n",
      "    eftabSz: 80\n",
      "    ftabLen: 1048577\n",
      "    ftabSz: 4194308\n",
      "    offsLen: 12444952\n",
      "    offsSz: 49779808\n",
      "    lineSz: 64\n",
      "    sideSz: 64\n",
      "    sideBwtSz: 48\n",
      "    sideBwtLen: 192\n",
      "    numSides: 1037080\n",
      "    numLines: 1037080\n",
      "    ebwtTotLen: 66373120\n",
      "    ebwtTotSz: 66373120\n",
      "    color: 0\n",
      "    reverse: 1\n",
      "Total time for backward call to driver() for mirror index: 00:02:35\n"
     ]
    },
    {
     "name": "stderr",
     "output_type": "stream",
     "text": [
      "Killed\n",
      "(ERR): bowtie2-align exited with value 137\n",
      "59 reads; of these:\n",
      "  59 (100.00%) were unpaired; of these:\n",
      "    0 (0.00%) aligned 0 times\n",
      "    59 (100.00%) aligned exactly 1 time\n",
      "    0 (0.00%) aligned >1 times\n",
      "100.00% overall alignment rate\n",
      "2960 reads; of these:\n",
      "  2960 (100.00%) were unpaired; of these:\n",
      "    0 (0.00%) aligned 0 times\n",
      "    2134 (72.09%) aligned exactly 1 time\n",
      "    826 (27.91%) aligned >1 times\n",
      "100.00% overall alignment rate\n",
      "2913 reads; of these:\n",
      "  2913 (100.00%) were unpaired; of these:\n",
      "    0 (0.00%) aligned 0 times\n",
      "    2180 (74.84%) aligned exactly 1 time\n",
      "    733 (25.16%) aligned >1 times\n",
      "100.00% overall alignment rate\n",
      "5284 reads; of these:\n",
      "  5284 (100.00%) were unpaired; of these:\n",
      "    0 (0.00%) aligned 0 times\n",
      "    4618 (87.40%) aligned exactly 1 time\n",
      "    666 (12.60%) aligned >1 times\n",
      "100.00% overall alignment rate\n",
      "3235 reads; of these:\n",
      "  3235 (100.00%) were unpaired; of these:\n",
      "    0 (0.00%) aligned 0 times\n",
      "    0 (0.00%) aligned exactly 1 time\n",
      "    3235 (100.00%) aligned >1 times\n",
      "100.00% overall alignment rate\n",
      "5652 reads; of these:\n",
      "  5652 (100.00%) were unpaired; of these:\n",
      "    0 (0.00%) aligned 0 times\n",
      "    0 (0.00%) aligned exactly 1 time\n",
      "    5652 (100.00%) aligned >1 times\n",
      "100.00% overall alignment rate\n",
      "10881 reads; of these:\n",
      "  10881 (100.00%) were unpaired; of these:\n",
      "    0 (0.00%) aligned 0 times\n",
      "    9681 (88.97%) aligned exactly 1 time\n",
      "    1200 (11.03%) aligned >1 times\n",
      "100.00% overall alignment rate\n",
      "9285 reads; of these:\n",
      "  9285 (100.00%) were unpaired; of these:\n",
      "    0 (0.00%) aligned 0 times\n",
      "    3425 (36.89%) aligned exactly 1 time\n",
      "    5860 (63.11%) aligned >1 times\n",
      "100.00% overall alignment rate\n"
     ]
    },
    {
     "name": "stdout",
     "output_type": "stream",
     "text": [
      "INFO:filter_probes:Bowtie2 alignmnet search finished in 39.63208680000025 seconds\n"
     ]
    },
    {
     "name": "stderr",
     "output_type": "stream",
     "text": [
      "8190 reads; of these:\n",
      "  8190 (100.00%) were unpaired; of these:\n",
      "    0 (0.00%) aligned 0 times\n",
      "    6567 (80.18%) aligned exactly 1 time\n",
      "    1623 (19.82%) aligned >1 times\n",
      "100.00% overall alignment rate\n"
     ]
    },
    {
     "name": "stdout",
     "output_type": "stream",
     "text": [
      "INFO:filter_probes:Bowtie2 results processed in 3.2599476999994295 seconds\n"
     ]
    }
   ],
   "source": [
    "bowtie2_filter.apply(probe_info_dict)"
   ]
  }
 ],
 "metadata": {
  "kernelspec": {
   "display_name": "Python 3.10.4 ('oligo': conda)",
   "language": "python",
   "name": "python3"
  },
  "language_info": {
   "codemirror_mode": {
    "name": "ipython",
    "version": 3
   },
   "file_extension": ".py",
   "mimetype": "text/x-python",
   "name": "python",
   "nbconvert_exporter": "python",
   "pygments_lexer": "ipython3",
   "version": "3.10.4"
  },
  "orig_nbformat": 4,
  "vscode": {
   "interpreter": {
    "hash": "797cf0fae3aa9496144015db7114399f14bdbbab56900ed16736529315e01dbb"
   }
  }
 },
 "nbformat": 4,
 "nbformat_minor": 2
}
