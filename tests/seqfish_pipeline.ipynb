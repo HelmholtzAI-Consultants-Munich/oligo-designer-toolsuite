{
 "cells": [
  {
   "cell_type": "markdown",
   "id": "f2a38aa9-3625-485b-99e0-139f2a2e36b2",
   "metadata": {},
   "source": [
    "# Imports"
   ]
  },
  {
   "cell_type": "code",
   "execution_count": 1,
   "id": "58ed26e3-151d-496b-a944-168a19bc1a04",
   "metadata": {
    "tags": []
   },
   "outputs": [],
   "source": [
    "import os\n",
    "import time\n",
    "from pathlib import Path\n",
    "\n",
    "import yaml\n",
    "\n",
    "from oligo_designer_toolsuite.pipelines import SeqFishPlusProbeDesigner"
   ]
  },
  {
   "cell_type": "markdown",
   "id": "c069fe21-2458-4ae2-b29e-aa81c2e5ce53",
   "metadata": {},
   "source": [
    "# Paths"
   ]
  },
  {
   "cell_type": "code",
   "execution_count": 3,
   "id": "15720e9a-cea8-42e9-8c59-cb628113910e",
   "metadata": {
    "tags": []
   },
   "outputs": [],
   "source": [
    "seqfish_config_path = \"../tutorials/configs/probe_design_SPOT_ncbi.yaml\"\n",
    "file_genes = \"../tutorials/data/genes/ncbi_10.txt\""
   ]
  },
  {
   "cell_type": "code",
   "execution_count": 4,
   "id": "cc6b8518-fa7e-4867-bed6-92b8fb874ea3",
   "metadata": {
    "tags": []
   },
   "outputs": [],
   "source": [
    "with open(seqfish_config_path, \"r\") as handle:\n",
    "        config = yaml.safe_load(handle)\n",
    "        \n",
    "dir_output = \"output_seqfish\"\n",
    "Path(dir_output).mkdir(parents=True, exist_ok=True)"
   ]
  },
  {
   "cell_type": "markdown",
   "id": "2aba10ab-aedf-40cb-9de1-973cce43d3d4",
   "metadata": {},
   "source": [
    "# Pipeline"
   ]
  },
  {
   "cell_type": "code",
   "execution_count": null,
   "id": "e79981cd-e225-46da-9723-3aa3db5e3c00",
   "metadata": {},
   "outputs": [],
   "source": [
    "## "
   ]
  }
 ],
 "metadata": {
  "kernelspec": {
   "display_name": "oligo_env",
   "language": "python",
   "name": "oligo_env"
  },
  "language_info": {
   "codemirror_mode": {
    "name": "ipython",
    "version": 3
   },
   "file_extension": ".py",
   "mimetype": "text/x-python",
   "name": "python",
   "nbconvert_exporter": "python",
   "pygments_lexer": "ipython3",
   "version": "3.10.9"
  }
 },
 "nbformat": 4,
 "nbformat_minor": 5
}
