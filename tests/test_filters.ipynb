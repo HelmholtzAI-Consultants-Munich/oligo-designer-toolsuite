{
 "cells": [
  {
   "cell_type": "markdown",
   "metadata": {},
   "source": [
    "# Test Filters"
   ]
  },
  {
   "cell_type": "code",
   "execution_count": 1,
   "metadata": {},
   "outputs": [
    {
     "name": "stdout",
     "output_type": "stream",
     "text": [
      "/home/francesco/Desktop/Work/oligo-designer-toolsuite/oligo_designer_toolsuite/output/annotations\n"
     ]
    }
   ],
   "source": [
    "import os\n",
    "import time\n",
    "from Bio.SeqUtils import MeltingTemp as mt\n",
    "import sys\n",
    "\n",
    "os.chdir('../' )\n",
    "cwd = os.getcwd()\n",
    "dir_output  = os.path.join(cwd, 'oligo_designer_toolsuite/output/annotations')\n",
    "print(dir_output)\n",
    "#sys.path.append(cwd)\n",
    "\n",
    "from oligo_designer_toolsuite.IO import NcbiDB, EnsemblDB, CustomDB\n",
    "from oligo_designer_toolsuite.oligo_pre_filter._filter_base import MaskedSequences, GCContent, MeltingTemperature\n",
    "from oligo_designer_toolsuite.oligo_pre_filter._filter_padlock_probes import PadlockArms"
   ]
  },
  {
   "cell_type": "markdown",
   "metadata": {},
   "source": [
    "Create a new Oligo_DB using the filters"
   ]
  },
  {
   "cell_type": "code",
   "execution_count": 2,
   "metadata": {},
   "outputs": [
    {
     "name": "stderr",
     "output_type": "stream",
     "text": [
      "/home/francesco/Desktop/Work/oligo-designer-toolsuite/oligo_designer_toolsuite/IO/_database.py:58: UserWarning: Species not specified.\n",
      "  warnings.warn(\"Species not specified.\")\n",
      "/home/francesco/Desktop/Work/oligo-designer-toolsuite/oligo_designer_toolsuite/IO/_database.py:62: UserWarning: Genome assembly not specified.\n",
      "  warnings.warn(f\"Genome assembly not specified.\")\n",
      "/home/francesco/Desktop/Work/oligo-designer-toolsuite/oligo_designer_toolsuite/IO/_database.py:66: UserWarning: Annotation release not specified.\n",
      "  warnings.warn(f\"Annotation release not specified.\")\n",
      "/home/francesco/Desktop/Work/oligo-designer-toolsuite/oligo_designer_toolsuite/IO/_database.py:70: UserWarning: Annotation source not specified.\n",
      "  warnings.warn(f\"Annotation source not specified.\")\n"
     ]
    },
    {
     "name": "stdout",
     "output_type": "stream",
     "text": [
      " Creating and filtering the probes: --- 8.997250080108643 seconds ---\n"
     ]
    }
   ],
   "source": [
    "Tm_parameters = {\n",
    "        'check': True,\n",
    "        'strict': True,\n",
    "        'c_seq': None,\n",
    "        'shift': 0,\n",
    "        'nn_table': getattr(mt,'DNA_NN3'),\n",
    "        'tmm_table': getattr(mt,'DNA_TMM1'),\n",
    "        'imm_table': getattr(mt,'DNA_IMM1'),\n",
    "        'de_table': getattr(mt, 'DNA_DE1'),\n",
    "        'dnac1': 50, #[nM]\n",
    "        'dnac2': 0,\n",
    "        'selfcomp': False,\n",
    "        'dNTPs': 0,\n",
    "        'saltcorr': 7,\n",
    "        'Na': 1.25, #[mM]\n",
    "        'K': 75, #[mM]\n",
    "        'Tris': 20, #[mM]\n",
    "        'Mg': 10, #[mM] \n",
    "        }\n",
    "Tm_correction_parameters = {\n",
    "        'DMSO': 0,\n",
    "        'DMSOfactor': 0.75,\n",
    "        'fmdfactor': 0.65,\n",
    "        'fmdmethod': 1,\n",
    "        'GC': None,\n",
    "        'fmd': 20}\n",
    "\n",
    "dir_annotation = '/home/francesco/Desktop/Work/NCBI'\n",
    "annotation = dir_annotation+'/GCF_000001405.40_GRCh38.p14_genomic.gtf'\n",
    "sequence = dir_annotation+'/GCF_000001405.40_GRCh38.p14_genomic.fna'\n",
    "genes = ['WASH7P']#, 'DDX11L1', 'TRNT', 'NOC2L', 'PLEKHN1', 'AGRN','UBE2J2', 'DVL1', 'MIB2', 'LOC112268402_1' ]\n",
    "\n",
    "masked_sequences = MaskedSequences()\n",
    "GC_content = GCContent(GC_content_min = 40, GC_content_max = 60)\n",
    "melting_temperature = MeltingTemperature(Tm_min = 52, Tm_max= 67, Tm_parameters = Tm_parameters, Tm_correction_parameters = Tm_correction_parameters)\n",
    "arms_tm = PadlockArms(min_arm_length=10,max_Tm_dif=2,Tm_min=38,Tm_max=49, Tm_parameters = Tm_parameters, Tm_correction_parameters = Tm_correction_parameters)\n",
    "\n",
    "filters = [masked_sequences, GC_content, melting_temperature, arms_tm]\n",
    "custom = CustomDB(probe_length_min = 30, probe_length_max=40, file_annotation=annotation, file_sequence=sequence, filters=filters)\n",
    "\n",
    "start_time = time.time()\n",
    "custom.create_oligos_DB(genes = genes, number_batchs = 1, dir_output=dir_output, write_tsv = True)\n",
    "print(\" Creating and filtering the probes: --- %s seconds ---\" % (time.time() - start_time))"
   ]
  },
  {
   "cell_type": "code",
   "execution_count": 4,
   "metadata": {},
   "outputs": [
    {
     "name": "stdout",
     "output_type": "stream",
     "text": [
      "dict_keys(['WASH7P'])\n",
      "WASH7P_104\n",
      "{'probe_sequence': Seq('AGAGGAGGACGAGGACGACTGGGAATCGTA'), 'transcript_id': ['NR_024540.1'], 'exon_id': ['NR_024540.1_exon11'], 'chromosome': '1', 'start': [14464], 'end': [14494], 'strand': '-', 'length': 30, 'GC_content': 56.67, 'melt_temp': 62.05, 'melt_temp_rm1': 43.24, 'melt_temp_arm2': 44.76, 'dif_melt_temp_arms': 1.52, 'ligation_site': 14}\n",
      "dict_keys(['WASH7P'])\n",
      "WASH7P_104\n",
      "{'probe_sequence': 'AGAGGAGGACGAGGACGACTGGGAATCGTA', 'transcript_id': ['NR_024540.1'], 'exon_id': ['NR_024540.1_exon11'], 'chromosome': '1', 'start': [14464], 'end': [14494], 'strand': '-', 'length': 30, 'GC_content': 56.67, 'melt_temp': 62.05, 'melt_temp_rm1': 43.24, 'melt_temp_arm2': 44.76, 'dif_melt_temp_arms': 1.52, 'ligation_site': 14.0}\n"
     ]
    }
   ],
   "source": [
    "# analyze the oligos DB\n",
    "print(custom.oligos_DB.keys())\n",
    "gene = list(custom.oligos_DB.keys())[0]\n",
    "seq = list(custom.oligos_DB[gene].keys())[0]\n",
    "print(seq)\n",
    "print(custom.oligos_DB[gene][seq])\n",
    "custom.write_oligos_DB_gtf()\n",
    "custom.read_oligos_DB_gtf(custom.file_oligos_DB_gtf, custom.file_oligos_DB_fasta)\n",
    "print(custom.oligos_DB.keys())\n",
    "gene = list(custom.oligos_DB.keys())[0]\n",
    "seq = list(custom.oligos_DB[gene].keys())[0]\n",
    "print(seq)\n",
    "print(custom.oligos_DB[gene][seq])"
   ]
  }
 ],
 "metadata": {
  "kernelspec": {
   "display_name": "Python 3.10.4 ('oligo')",
   "language": "python",
   "name": "python3"
  },
  "language_info": {
   "codemirror_mode": {
    "name": "ipython",
    "version": 3
   },
   "file_extension": ".py",
   "mimetype": "text/x-python",
   "name": "python",
   "nbconvert_exporter": "python",
   "pygments_lexer": "ipython3",
   "version": "3.10.4"
  },
  "orig_nbformat": 4,
  "vscode": {
   "interpreter": {
    "hash": "7ff94d65164c54a2126c7dc0869520902e3a005d5dddb9f8c3667ad0fd9373c9"
   }
  }
 },
 "nbformat": 4,
 "nbformat_minor": 2
}
