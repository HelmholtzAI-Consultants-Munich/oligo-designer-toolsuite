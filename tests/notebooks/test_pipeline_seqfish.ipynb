{
 "cells": [
  {
   "cell_type": "markdown",
   "id": "a206db61-3642-4c62-a8bd-6abf1eb24c4c",
   "metadata": {
    "tags": []
   },
   "source": [
    "# Imports"
   ]
  },
  {
   "cell_type": "code",
   "execution_count": 1,
   "id": "d137ed4b-d457-4f90-a650-cae5e38eb39b",
   "metadata": {
    "tags": []
   },
   "outputs": [],
   "source": [
    "import os\n",
    "import time\n",
    "from pathlib import Path\n",
    "\n",
    "import yaml\n",
    "\n",
    "# # loading initial data\n",
    "# from oligo_designer_toolsuite.database import (\n",
    "#     CustomGenomicRegionGenerator,\n",
    "#     NcbiGenomicRegionGenerator,\n",
    "#     EnsemblGenomicRegionGenerator,\n",
    "#     OligoDatabase,\n",
    "#     ReferenceDatabase,\n",
    "# )\n",
    "\n",
    "# # Property filters\n",
    "# from oligo_designer_toolsuite.oligo_property_filter import (\n",
    "#     MaskedSequences,\n",
    "#     ConsecutiveRepeats,\n",
    "#     GCContent,\n",
    "#     PropertyFilter\n",
    "# )   \n",
    "\n",
    "# # Specificity filters\n",
    "# from oligo_designer_toolsuite.oligo_specificity_filter import (\n",
    "#     ExactMatches,\n",
    "#     Blastn,\n",
    "#     SpecificityFilter\n",
    "# )\n",
    "\n",
    "# # Readout probes\n",
    "# from oligo_designer_toolsuite.sequence_design import (\n",
    "#     SeqFishReadoutProbes\n",
    "# )"
   ]
  },
  {
   "cell_type": "code",
   "execution_count": 2,
   "id": "1a0d8c0f-fbbc-44ad-8eb8-e52d6944adb5",
   "metadata": {
    "tags": []
   },
   "outputs": [],
   "source": [
    "from oligo_designer_toolsuite.pipelines import __seqFish_plus_probe_designer"
   ]
  },
  {
   "cell_type": "markdown",
   "id": "67b7e67f-7b91-4ba1-b38d-e6b41f3d52ac",
   "metadata": {
    "tags": []
   },
   "source": [
    "# Paths"
   ]
  },
  {
   "cell_type": "code",
   "execution_count": 10,
   "id": "15068fbd-e557-49aa-aa17-ee1c38efa1aa",
   "metadata": {
    "tags": []
   },
   "outputs": [],
   "source": [
    "seqfish_config_path = \"../../tutorials/configs/probe_design_SPOT_ncbi.yaml\"\n",
    "file_genes = \"../../tutorials/data/genes/ncbi_10.txt\""
   ]
  },
  {
   "cell_type": "code",
   "execution_count": 11,
   "id": "931ca671-cc60-47f7-9fbe-f6d3f6d6ae1e",
   "metadata": {
    "tags": []
   },
   "outputs": [],
   "source": [
    "with open(seqfish_config_path, \"r\") as handle:\n",
    "        config = yaml.safe_load(handle)\n",
    "        \n",
    "dir_output = \"output_seqfish\"\n",
    "Path(dir_output).mkdir(parents=True, exist_ok=True)"
   ]
  },
  {
   "cell_type": "markdown",
   "id": "2fa1f2c3-72cb-4b85-ad61-ede4daf5e7cd",
   "metadata": {
    "jp-MarkdownHeadingCollapsed": true,
    "tags": []
   },
   "source": [
    "# Loading initial data"
   ]
  },
  {
   "cell_type": "code",
   "execution_count": null,
   "id": "b84da513-370a-45f8-8f85-8dcc9e802ae0",
   "metadata": {
    "tags": []
   },
   "outputs": [
    {
     "name": "stderr",
     "output_type": "stream",
     "text": [
      "/Users/isra.mekki/Projects/odt/oligo-designer-toolsuite/oligo_designer_toolsuite/utils/_gff_parser.py:44: DtypeWarning: Columns (0) have mixed types. Specify dtype option on import or set low_memory=False.\n",
      "  csv_df = pd.read_csv(csv_file, sep=\"\\t\", names=self.GFF_HEADER, header=None)\n"
     ]
    }
   ],
   "source": [
    "region_generator = NcbiGenomicRegionGenerator(\n",
    "            taxon=config[\"taxon\"],\n",
    "            species=config[\"species\"],\n",
    "            annotation_release=config[\"annotation_release\"],\n",
    "            dir_output=dir_output,\n",
    "        )"
   ]
  },
  {
   "cell_type": "code",
   "execution_count": 5,
   "id": "b047c542-90ec-47db-84e7-7525cc133b52",
   "metadata": {
    "tags": []
   },
   "outputs": [
    {
     "name": "stderr",
     "output_type": "stream",
     "text": [
      "index file output_seqfish/annotation/GCF_000001405.40_GRCh38.p14_genomic.fna.fai not found, generating...\n"
     ]
    }
   ],
   "source": [
    "file_transcriptome = region_generator.generate_transcript_reduced_representation(\n",
    "        include_exon_junctions=True, exon_junction_size=2 * config[\"oligo_length_max\"]\n",
    "    )"
   ]
  },
  {
   "cell_type": "code",
   "execution_count": 8,
   "id": "465da0dc-e6a8-4c9f-a7f4-4d20acb97505",
   "metadata": {
    "tags": []
   },
   "outputs": [],
   "source": [
    "oligo_database = OligoDatabase(\n",
    "        file_fasta=file_transcriptome,\n",
    "        min_oligos_per_region=config[\"min_oligos_per_gene\"],\n",
    "        files_source=region_generator.files_source,\n",
    "        species=region_generator.species,\n",
    "        annotation_release=region_generator.annotation_release,\n",
    "        genome_assembly=region_generator.genome_assembly,\n",
    "        n_jobs=config[\"n_jobs\"],\n",
    "        dir_output=dir_output,\n",
    "    )"
   ]
  },
  {
   "cell_type": "code",
   "execution_count": 10,
   "id": "b71d8e3e-69e4-4a6f-9aa5-6e98e3b33199",
   "metadata": {
    "tags": []
   },
   "outputs": [],
   "source": [
    "with open(file_genes) as handle:\n",
    "    lines = handle.readlines()\n",
    "    genes = [line.rstrip() for line in lines]\n",
    "\n",
    "# generate the oligo sequences from gene transcripts\n",
    "oligo_database.create_database(region_ids=genes,\n",
    "                                oligo_length_min=config[\"oligo_length_min\"],\n",
    "                                oligo_length_max=config[\"oligo_length_max\"])"
   ]
  },
  {
   "cell_type": "code",
   "execution_count": 13,
   "id": "09d3cfbb-9916-45e1-8484-89c3cf566b1c",
   "metadata": {
    "tags": []
   },
   "outputs": [
    {
     "data": {
      "text/plain": [
       "'/Users/isra.mekki/Projects/odt/oligo-designer-toolsuite/tests/output_seqfish/oligo_database/database_0.tsv'"
      ]
     },
     "execution_count": 13,
     "metadata": {},
     "output_type": "execute_result"
    }
   ],
   "source": [
    "oligo_database.write_database(filename='database_0.tsv')"
   ]
  },
  {
   "cell_type": "code",
   "execution_count": 17,
   "id": "7dea113e-55d8-4b6f-a79f-ec821735f3bb",
   "metadata": {
    "tags": []
   },
   "outputs": [
    {
     "name": "stdout",
     "output_type": "stream",
     "text": [
      "  202574 /Users/isra.mekki/Projects/odt/oligo-designer-toolsuite/tests/output_seqfish/oligo_database/database_0.tsv\n"
     ]
    }
   ],
   "source": [
    "!wc -l /Users/isra.mekki/Projects/odt/oligo-designer-toolsuite/tests/output_seqfish/oligo_database/database_0.tsv"
   ]
  },
  {
   "cell_type": "markdown",
   "id": "921526a1-8774-4016-a63e-e6a0f998f8de",
   "metadata": {},
   "source": [
    "# Pipeline:"
   ]
  },
  {
   "cell_type": "markdown",
   "id": "46c22ad1-3c1a-4c8e-b53a-17efdcfa0c3b",
   "metadata": {
    "jp-MarkdownHeadingCollapsed": true,
    "tags": []
   },
   "source": [
    "## Property filters"
   ]
  },
  {
   "cell_type": "code",
   "execution_count": 31,
   "id": "5cfa207b-d33a-43c2-9a12-8bbe7986728f",
   "metadata": {
    "tags": []
   },
   "outputs": [],
   "source": [
    "masked_sequences = MaskedSequences()\n",
    "gc_content = GCContent(GC_content_min=config[\"GC_content_min\"], GC_content_max=config[\"GC_content_max\"])\n",
    "consecutive_repeats = ConsecutiveRepeats(num_consecutive = config[\"number_consecutive\"])\n",
    "\n",
    "filters = [masked_sequences, consecutive_repeats ,gc_content]\n",
    "property_filter = PropertyFilter(filters=filters, write_regions_with_insufficient_oligos=config[\"write_removed_genes\"])\n",
    "\n",
    "oligo_database = property_filter.apply(oligo_database=oligo_database, n_jobs=config[\"n_jobs\"])\n",
    "\n",
    "file_database = oligo_database.write_database(filename=\"database_property_filter.tsv\")\n"
   ]
  },
  {
   "cell_type": "code",
   "execution_count": 32,
   "id": "0b919bd2-69e5-4ded-aa54-ef823d2d01b1",
   "metadata": {
    "tags": []
   },
   "outputs": [
    {
     "data": {
      "text/plain": [
       "'/Users/isra.mekki/Projects/odt/oligo-designer-toolsuite/tests/output_seqfish/oligo_database/database_property_filter.tsv'"
      ]
     },
     "execution_count": 32,
     "metadata": {},
     "output_type": "execute_result"
    }
   ],
   "source": [
    "file_database"
   ]
  },
  {
   "cell_type": "code",
   "execution_count": 33,
   "id": "ea0090ed-dd4a-4fa8-a659-b28465d87c57",
   "metadata": {
    "tags": []
   },
   "outputs": [
    {
     "name": "stdout",
     "output_type": "stream",
     "text": [
      "   76114 /Users/isra.mekki/Projects/odt/oligo-designer-toolsuite/tests/output_seqfish/oligo_database/database_property_filter.tsv\n"
     ]
    }
   ],
   "source": [
    "!wc -l /Users/isra.mekki/Projects/odt/oligo-designer-toolsuite/tests/output_seqfish/oligo_database/database_property_filter.tsv"
   ]
  },
  {
   "cell_type": "markdown",
   "id": "cb22d636-d41b-4f01-8635-bb5d4058dc7e",
   "metadata": {
    "jp-MarkdownHeadingCollapsed": true,
    "tags": []
   },
   "source": [
    "## Specificity filters"
   ]
  },
  {
   "cell_type": "code",
   "execution_count": 44,
   "id": "b2f8f568-256e-4d5e-be7e-85c15e5129df",
   "metadata": {
    "tags": []
   },
   "outputs": [
    {
     "name": "stderr",
     "output_type": "stream",
     "text": [
      "/Users/isra.mekki/opt/anaconda3/envs/oligo_env/lib/python3.10/site-packages/joblib/externals/loky/process_executor.py:700: UserWarning: A worker stopped while some jobs were given to the executor. This can be caused by a too short worker timeout or by a memory leak.\n",
      "  warnings.warn(\n"
     ]
    }
   ],
   "source": [
    "dir_specificity = os.path.join(dir_output, \"specificity_temporary\") # folder where the temporary files will be written\n",
    "reference = ReferenceDatabase(\n",
    "    file_fasta = file_transcriptome,\n",
    "    files_source = region_generator.files_source,\n",
    "    species=region_generator.species,\n",
    "    annotation_release=region_generator.annotation_release,\n",
    "    genome_assembly=region_generator.genome_assembly,\n",
    "    dir_output=dir_output\n",
    "    )\n",
    "reference.load_fasta_into_database()\n",
    "exact_mathces = ExactMatches(dir_specificity=dir_specificity)\n",
    "blastn = Blastn(\n",
    "    dir_specificity=dir_specificity, \n",
    "    word_size=config[\"word_size\"],\n",
    "    percent_identity=config[\"percent_identity\"],\n",
    "    coverage=config[\"coverage\"],\n",
    "    strand=config[\"strand\"],\n",
    ")\n",
    "filters = [exact_mathces,blastn]\n",
    "specificity_filter = SpecificityFilter(filters=filters, write_regions_with_insufficient_oligos=config[\"write_removed_genes\"])\n",
    "oligo_database = specificity_filter.apply(oligo_database=oligo_database, reference_database=reference, n_jobs=config[\"n_jobs\"])\n",
    "\n",
    "file_database = oligo_database.write_database(filename=\"database_specificity_filter.tsv\")"
   ]
  },
  {
   "cell_type": "code",
   "execution_count": 45,
   "id": "e22797b9-3942-46a0-b53b-b0fc74cb6e15",
   "metadata": {
    "tags": []
   },
   "outputs": [
    {
     "data": {
      "text/plain": [
       "'/Users/isra.mekki/Projects/odt/oligo-designer-toolsuite/tests/output_seqfish/oligo_database/database_specificity_filter.tsv'"
      ]
     },
     "execution_count": 45,
     "metadata": {},
     "output_type": "execute_result"
    }
   ],
   "source": [
    "file_database"
   ]
  },
  {
   "cell_type": "code",
   "execution_count": 46,
   "id": "3b35506c-bd62-480d-a196-d6b3256080fe",
   "metadata": {
    "tags": []
   },
   "outputs": [
    {
     "name": "stdout",
     "output_type": "stream",
     "text": [
      "    3665 /Users/isra.mekki/Projects/odt/oligo-designer-toolsuite/tests/output_seqfish/oligo_database/database_specificity_filter.tsv\n"
     ]
    }
   ],
   "source": [
    "!wc -l /Users/isra.mekki/Projects/odt/oligo-designer-toolsuite/tests/output_seqfish/oligo_database/database_specificity_filter.tsv"
   ]
  },
  {
   "cell_type": "markdown",
   "id": "f287a4ae-b73b-49bd-a8bd-aa9914a86f62",
   "metadata": {},
   "source": [
    "## Readout probes"
   ]
  },
  {
   "cell_type": "code",
   "execution_count": null,
   "id": "b2b73934-bc1f-471f-9877-d45dbd1d2c7c",
   "metadata": {},
   "outputs": [],
   "source": [
    "readouts_generator = SeqFISHReadoutProbeDesigner(\n",
    "    self.config, blastn, self.reference, self.dir_output\n",
    ")\n",
    "\n",
    "self.readout_probes = readouts_generator.create_readout_probes()"
   ]
  },
  {
   "cell_type": "code",
   "execution_count": 54,
   "id": "012d3455-0951-40a8-b648-a42f5bd888d7",
   "metadata": {
    "tags": []
   },
   "outputs": [],
   "source": [
    "import itertools\n",
    "import random\n",
    "\n",
    "def _get_barcode(region_idx, length=4, seed=0):\n",
    "            \"\"\"Get barcode sub sequence of padlock oligo for in situ sequencing\n",
    "\n",
    "            For SCRINSHOT padlock oligos this could be constant, however it makes sense to have\n",
    "            different barcodes so that the oligo set could also be used for ISS experiments.\n",
    "\n",
    "            Arguments\n",
    "            ---------\n",
    "            region_idx: int\n",
    "                Identifier for a given region. The identifier makes sure to return the same bar code\n",
    "                for the different padlock oligos of a given region.\n",
    "            length: int\n",
    "                Length of barcode sequence\n",
    "            seed: int\n",
    "                Defines the random assignment of barcodes to each region_idx.\n",
    "\n",
    "            Returns\n",
    "            -------\n",
    "            str: barcode sequence (5' to 3')\n",
    "\n",
    "            \"\"\"\n",
    "            bases = [\"A\", \"C\", \"T\", \"G\"]\n",
    "\n",
    "            barcodes = [\"\".join(nts) for nts in itertools.product(bases, repeat=length)]\n",
    "            print(barcodes)\n",
    "            random.seed(seed)\n",
    "            random.shuffle(barcodes)\n",
    "\n",
    "            if region_idx >= len(barcodes):\n",
    "                raise ValueError(\n",
    "                    \"Barcode index exceeds number of possible combinations of barcodes. Increase barcode length?\"\n",
    "                )\n",
    "\n",
    "            return barcodes[region_idx]"
   ]
  },
  {
   "cell_type": "code",
   "execution_count": 55,
   "id": "1f05e8b9-df39-4621-bd2a-20fc4c137554",
   "metadata": {
    "tags": []
   },
   "outputs": [
    {
     "name": "stdout",
     "output_type": "stream",
     "text": [
      "['AAAA', 'AAAC', 'AAAT', 'AAAG', 'AACA', 'AACC', 'AACT', 'AACG', 'AATA', 'AATC', 'AATT', 'AATG', 'AAGA', 'AAGC', 'AAGT', 'AAGG', 'ACAA', 'ACAC', 'ACAT', 'ACAG', 'ACCA', 'ACCC', 'ACCT', 'ACCG', 'ACTA', 'ACTC', 'ACTT', 'ACTG', 'ACGA', 'ACGC', 'ACGT', 'ACGG', 'ATAA', 'ATAC', 'ATAT', 'ATAG', 'ATCA', 'ATCC', 'ATCT', 'ATCG', 'ATTA', 'ATTC', 'ATTT', 'ATTG', 'ATGA', 'ATGC', 'ATGT', 'ATGG', 'AGAA', 'AGAC', 'AGAT', 'AGAG', 'AGCA', 'AGCC', 'AGCT', 'AGCG', 'AGTA', 'AGTC', 'AGTT', 'AGTG', 'AGGA', 'AGGC', 'AGGT', 'AGGG', 'CAAA', 'CAAC', 'CAAT', 'CAAG', 'CACA', 'CACC', 'CACT', 'CACG', 'CATA', 'CATC', 'CATT', 'CATG', 'CAGA', 'CAGC', 'CAGT', 'CAGG', 'CCAA', 'CCAC', 'CCAT', 'CCAG', 'CCCA', 'CCCC', 'CCCT', 'CCCG', 'CCTA', 'CCTC', 'CCTT', 'CCTG', 'CCGA', 'CCGC', 'CCGT', 'CCGG', 'CTAA', 'CTAC', 'CTAT', 'CTAG', 'CTCA', 'CTCC', 'CTCT', 'CTCG', 'CTTA', 'CTTC', 'CTTT', 'CTTG', 'CTGA', 'CTGC', 'CTGT', 'CTGG', 'CGAA', 'CGAC', 'CGAT', 'CGAG', 'CGCA', 'CGCC', 'CGCT', 'CGCG', 'CGTA', 'CGTC', 'CGTT', 'CGTG', 'CGGA', 'CGGC', 'CGGT', 'CGGG', 'TAAA', 'TAAC', 'TAAT', 'TAAG', 'TACA', 'TACC', 'TACT', 'TACG', 'TATA', 'TATC', 'TATT', 'TATG', 'TAGA', 'TAGC', 'TAGT', 'TAGG', 'TCAA', 'TCAC', 'TCAT', 'TCAG', 'TCCA', 'TCCC', 'TCCT', 'TCCG', 'TCTA', 'TCTC', 'TCTT', 'TCTG', 'TCGA', 'TCGC', 'TCGT', 'TCGG', 'TTAA', 'TTAC', 'TTAT', 'TTAG', 'TTCA', 'TTCC', 'TTCT', 'TTCG', 'TTTA', 'TTTC', 'TTTT', 'TTTG', 'TTGA', 'TTGC', 'TTGT', 'TTGG', 'TGAA', 'TGAC', 'TGAT', 'TGAG', 'TGCA', 'TGCC', 'TGCT', 'TGCG', 'TGTA', 'TGTC', 'TGTT', 'TGTG', 'TGGA', 'TGGC', 'TGGT', 'TGGG', 'GAAA', 'GAAC', 'GAAT', 'GAAG', 'GACA', 'GACC', 'GACT', 'GACG', 'GATA', 'GATC', 'GATT', 'GATG', 'GAGA', 'GAGC', 'GAGT', 'GAGG', 'GCAA', 'GCAC', 'GCAT', 'GCAG', 'GCCA', 'GCCC', 'GCCT', 'GCCG', 'GCTA', 'GCTC', 'GCTT', 'GCTG', 'GCGA', 'GCGC', 'GCGT', 'GCGG', 'GTAA', 'GTAC', 'GTAT', 'GTAG', 'GTCA', 'GTCC', 'GTCT', 'GTCG', 'GTTA', 'GTTC', 'GTTT', 'GTTG', 'GTGA', 'GTGC', 'GTGT', 'GTGG', 'GGAA', 'GGAC', 'GGAT', 'GGAG', 'GGCA', 'GGCC', 'GGCT', 'GGCG', 'GGTA', 'GGTC', 'GGTT', 'GGTG', 'GGGA', 'GGGC', 'GGGT', 'GGGG']\n"
     ]
    },
    {
     "data": {
      "text/plain": [
       "'AAAC'"
      ]
     },
     "execution_count": 55,
     "metadata": {},
     "output_type": "execute_result"
    }
   ],
   "source": [
    "_get_barcode(0)"
   ]
  },
  {
   "cell_type": "code",
   "execution_count": null,
   "id": "06c668db-6485-4f40-9fda-03d1af5d4aff",
   "metadata": {},
   "outputs": [],
   "source": []
  }
 ],
 "metadata": {
  "kernelspec": {
   "display_name": "oligo_env",
   "language": "python",
   "name": "oligo_env"
  },
  "language_info": {
   "codemirror_mode": {
    "name": "ipython",
    "version": 3
   },
   "file_extension": ".py",
   "mimetype": "text/x-python",
   "name": "python",
   "nbconvert_exporter": "python",
   "pygments_lexer": "ipython3",
   "version": "3.10.9"
  }
 },
 "nbformat": 4,
 "nbformat_minor": 5
}
