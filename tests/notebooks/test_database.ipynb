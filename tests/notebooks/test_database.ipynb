{
 "cells": [
  {
   "attachments": {},
   "cell_type": "markdown",
   "metadata": {},
   "source": [
    "## Test Region Generator"
   ]
  },
  {
   "cell_type": "code",
   "execution_count": 1,
   "metadata": {},
   "outputs": [],
   "source": [
    "import os\n",
    "import sys\n",
    "\n",
    "import pandas as pd\n",
    "pd.set_option('display.max_columns', None)\n",
    "\n",
    "from oligo_designer_toolsuite.database import CustomGenomicRegionGenerator, NcbiGenomicRegionGenerator, EnsemblGenomicRegionGenerator, OligoDatabase\n",
    "from oligo_designer_toolsuite.utils import GffParser\n",
    "from oligo_designer_toolsuite.oligo_efficiency_filter import (\n",
    "    PadlockOligoScoring,\n",
    "    PadlockSetScoring,\n",
    ")\n",
    "from oligo_designer_toolsuite.oligo_selection import (\n",
    "    OligosetGenerator,\n",
    "    padlock_heuristic_selection,\n",
    ")"
   ]
  },
  {
   "attachments": {},
   "cell_type": "markdown",
   "metadata": {},
   "source": [
    "### Custom Generator with NCBI data"
   ]
  },
  {
   "cell_type": "code",
   "execution_count": 2,
   "metadata": {},
   "outputs": [
    {
     "name": "stdout",
     "output_type": "stream",
     "text": [
      "../data/annotations/custom_GCF_000001405.40_GRCh38.p14_genomic_chr16.gtf\n",
      "../data/annotations/custom_GCF_000001405.40_GRCh38.p14_genomic_chr16.fna\n",
      "NCBI\n",
      "Homo_sapiens\n",
      "110\n",
      "GRCh38\n"
     ]
    }
   ],
   "source": [
    "annotation_file = \"../data/annotations/custom_GCF_000001405.40_GRCh38.p14_genomic_chr16.gtf\"\n",
    "sequence_file = \"../data/annotations/custom_GCF_000001405.40_GRCh38.p14_genomic_chr16.fna\"\n",
    "region_generator_ncbi = CustomGenomicRegionGenerator(annotation_file, sequence_file, files_source=\"NCBI\", species = \"Homo_sapiens\", annotation_release=\"110\", genome_assembly=\"GRCh38\")\n",
    "print(region_generator_ncbi.annotation_file)\n",
    "print(region_generator_ncbi.sequence_file)\n",
    "print(region_generator_ncbi.files_source)\n",
    "print(region_generator_ncbi.species)\n",
    "print(region_generator_ncbi.annotation_release)\n",
    "print(region_generator_ncbi.genome_assembly)"
   ]
  },
  {
   "cell_type": "code",
   "execution_count": 3,
   "metadata": {},
   "outputs": [],
   "source": [
    "ncbi_genome = region_generator_ncbi.generate_genome()"
   ]
  },
  {
   "cell_type": "code",
   "execution_count": 4,
   "metadata": {},
   "outputs": [],
   "source": [
    "ncbi_transcriptome = region_generator_ncbi.generate_transcript_reduced_representation()"
   ]
  },
  {
   "cell_type": "code",
   "execution_count": 5,
   "metadata": {},
   "outputs": [],
   "source": [
    "ncbi_CDS = region_generator_ncbi.generate_CDS_reduced_representation()"
   ]
  },
  {
   "attachments": {},
   "cell_type": "markdown",
   "metadata": {},
   "source": [
    "### Custom Generator with Ensemble data"
   ]
  },
  {
   "cell_type": "code",
   "execution_count": 6,
   "metadata": {},
   "outputs": [
    {
     "name": "stdout",
     "output_type": "stream",
     "text": [
      "../data/annotations/custom_Homo_sapiens.GRCh38.108.chr16.gtf\n",
      "../data/annotations/custom_Homo_sapiens.GRCh38.dna_rm.primary_assembly_chr16.fa\n",
      "Ensembl\n",
      "Homo_sapiens\n",
      "108\n",
      "GRCh38\n"
     ]
    }
   ],
   "source": [
    "annotation_file = \"../data/annotations/custom_Homo_sapiens.GRCh38.108.chr16.gtf\"\n",
    "sequence_file = \"../data/annotations/custom_Homo_sapiens.GRCh38.dna_rm.primary_assembly_chr16.fa\"\n",
    "region_generator_ensembl = CustomGenomicRegionGenerator(annotation_file, sequence_file, files_source=\"Ensembl\", species = \"Homo_sapiens\", annotation_release=\"108\", genome_assembly=\"GRCh38\")\n",
    "print(region_generator_ensembl.annotation_file)\n",
    "print(region_generator_ensembl.sequence_file)\n",
    "print(region_generator_ensembl.files_source)\n",
    "print(region_generator_ensembl.species)\n",
    "print(region_generator_ensembl.annotation_release)\n",
    "print(region_generator_ensembl.genome_assembly)"
   ]
  },
  {
   "cell_type": "code",
   "execution_count": 7,
   "metadata": {},
   "outputs": [],
   "source": [
    "ensembl_genome = region_generator_ensembl.generate_genome()"
   ]
  },
  {
   "cell_type": "code",
   "execution_count": 8,
   "metadata": {},
   "outputs": [],
   "source": [
    "ensembl_transcriptome = region_generator_ensembl.generate_transcript_reduced_representation()"
   ]
  },
  {
   "cell_type": "code",
   "execution_count": 9,
   "metadata": {},
   "outputs": [],
   "source": [
    "ensembl_CDS = region_generator_ensembl.generate_CDS_reduced_representation()"
   ]
  },
  {
   "attachments": {},
   "cell_type": "markdown",
   "metadata": {},
   "source": [
    "## Test Reference Database\n"
   ]
  },
  {
   "cell_type": "code",
   "execution_count": 10,
   "metadata": {},
   "outputs": [],
   "source": [
    "from oligo_designer_toolsuite.database import ReferenceDatabase\n",
    "from oligo_designer_toolsuite.utils import parse_fasta_header, check_fasta_format"
   ]
  },
  {
   "cell_type": "code",
   "execution_count": 11,
   "metadata": {},
   "outputs": [],
   "source": [
    "ncbi_transcriptome = \"./output/annotation/transcriptome_source_NCBI_species_Homo_sapiens_annotation_release_110_genome_assemly_GRCh38_incl_exonjunctions_of_size_100.fna\"\n",
    "metadata = {\"annotation_source\": region_generator_ncbi.files_source, \"species\": region_generator_ncbi.species, \"annotation_release\": region_generator_ncbi.annotation_release, \"genome_assembly\": region_generator_ncbi.genome_assembly}\n",
    "reference = ReferenceDatabase(ncbi_transcriptome, metadata=metadata)"
   ]
  },
  {
   "cell_type": "code",
   "execution_count": 12,
   "metadata": {},
   "outputs": [],
   "source": [
    "reference.load_fasta_into_database()\n",
    "reference.filter_database(['AARS1'])\n",
    "for entry in reference.database:\n",
    "    region, _, _, = parse_fasta_header(entry.id)\n",
    "    assert region == 'AARS1', f\"error: this region {region} should be filtered out.\"\n",
    "file_fasta_database = reference.write_fasta_from_database(filename = \"filtered_databse\")\n",
    "file_metadata_database = reference.write_metadata_from_database(filename = \"filtered_databse\")\n",
    "assert check_fasta_format(file_fasta_database) == True, \"error: wrong file format\""
   ]
  },
  {
   "attachments": {},
   "cell_type": "markdown",
   "metadata": {},
   "source": [
    "## Test Oligo Database"
   ]
  },
  {
   "cell_type": "code",
   "execution_count": 13,
   "metadata": {},
   "outputs": [],
   "source": [
    "from Bio.SeqUtils import MeltingTemp as mt\n",
    "import copy\n",
    "\n",
    "from oligo_designer_toolsuite.database import OligoDatabase\n",
    "from oligo_designer_toolsuite.utils import check_fasta_format\n",
    "from oligo_designer_toolsuite.oligo_property_filter import (\n",
    "    GCContent,\n",
    "    MaskedSequences,\n",
    "    MeltingTemperatureNN,\n",
    "    PropertyFilter,\n",
    ")\n",
    "\n",
    "genes = [\"AARS1\",\"DECR2\",\"FAM234A\",\"RHBDF1\",\"WASIR2\"]\n",
    "ncbi_transcriptome = \"./output/annotation/transcriptome_source_NCBI_species_Homo_sapiens_annotation_release_110_genome_assemly_GRCh38_incl_exonjunctions_of_size_100.fna\"\n",
    "metadata = {\"annotation_source\": region_generator_ncbi.files_source, \"species\": region_generator_ncbi.species, \"annotation_release\": region_generator_ncbi.annotation_release, \"genome_assembly\": region_generator_ncbi.genome_assembly}\n"
   ]
  },
  {
   "cell_type": "code",
   "execution_count": 14,
   "metadata": {},
   "outputs": [],
   "source": [
    "oligos = OligoDatabase(\n",
    "    min_oligos_per_region = 0,\n",
    "    metadata = metadata,\n",
    "    n_jobs = 2\n",
    ")\n",
    "oligos.create_database(file_fasta=ncbi_transcriptome,\n",
    "                       oligo_length_min=30,\n",
    "                       oligo_length_max=35,\n",
    "                       region_ids=genes) \n",
    "file_database, file_metadata = oligos.write_database(filename=\"test_db\")\n",
    "oligos.load_database(file_database)\n",
    "assert oligos.metadata == {}, \"error: metadata not cleared\"\n",
    "file_fasta = oligos.write_fasta_from_database()\n",
    "assert check_fasta_format(file_fasta) == True, \"error: wrong file format\""
   ]
  },
  {
   "cell_type": "code",
   "execution_count": 15,
   "metadata": {},
   "outputs": [
    {
     "data": {
      "text/plain": [
       "<oligo_designer_toolsuite.database._oligos_database.OligoDatabase at 0x12c509370>"
      ]
     },
     "execution_count": 15,
     "metadata": {},
     "output_type": "execute_result"
    }
   ],
   "source": [
    "Tm_parameters = {\n",
    "            \"check\": True,\n",
    "            \"strict\": True,\n",
    "            \"c_seq\": None,\n",
    "            \"shift\": 0,\n",
    "            \"nn_table\": getattr(mt, \"DNA_NN3\"),\n",
    "            \"tmm_table\": getattr(mt, \"DNA_TMM1\"),\n",
    "            \"imm_table\": getattr(mt, \"DNA_IMM1\"),\n",
    "            \"de_table\": getattr(mt, \"DNA_DE1\"),\n",
    "            \"dnac1\": 50,  # [nM]\n",
    "            \"dnac2\": 0,\n",
    "            \"selfcomp\": False,\n",
    "            \"dNTPs\": 0,\n",
    "            \"saltcorr\": 7,\n",
    "            \"Na\": 1.25,  # [mM]\n",
    "            \"K\": 75,  # [mM]\n",
    "            \"Tris\": 20,  # [mM]\n",
    "            \"Mg\": 10,  # [mM]\n",
    "        }\n",
    "\n",
    "Tm_correction_parameters = {\n",
    "            \"DMSO\": 0,\n",
    "            \"DMSOfactor\": 0.75,\n",
    "            \"fmdfactor\": 0.65,\n",
    "            \"fmdmethod\": 1,\n",
    "            \"GC\": None,\n",
    "            \"fmd\": 20,\n",
    "        }\n",
    "\n",
    "masked_sequences = MaskedSequences(mask=\"N\")\n",
    "GC_content = GCContent(GC_content_min=40, GC_content_max=60)\n",
    "melting_temperature = MeltingTemperatureNN(\n",
    "    Tm_min=52,\n",
    "    Tm_max=67,\n",
    "    Tm_parameters=Tm_parameters,\n",
    "    Tm_chem_correction_parameters=Tm_correction_parameters,\n",
    ")\n",
    "\n",
    "filters = [masked_sequences, GC_content, melting_temperature]\n",
    "property_filter = PropertyFilter(filters=filters)\n",
    "property_filter.apply(oligos)"
   ]
  },
  {
   "cell_type": "code",
   "execution_count": 16,
   "metadata": {},
   "outputs": [
    {
     "name": "stdout",
     "output_type": "stream",
     "text": [
      "39788\n"
     ]
    }
   ],
   "source": [
    "\n",
    "def get_sequences_from_database(database):\n",
    "    sequences = []\n",
    "    for region_id, oligo in database.items():\n",
    "        for oligo_id, oligo_attributes in oligo.items():\n",
    "            sequences.append(oligo_attributes[\"sequence\"])\n",
    "    sequences.sort()  # needed to compare\n",
    "    return sequences\n",
    "\n",
    "sequences = get_sequences_from_database(oligos.database)\n",
    "print(len(sequences))"
   ]
  }
 ],
 "metadata": {
  "kernelspec": {
   "display_name": "ODT",
   "language": "python",
   "name": "odt"
  },
  "language_info": {
   "codemirror_mode": {
    "name": "ipython",
    "version": 3
   },
   "file_extension": ".py",
   "mimetype": "text/x-python",
   "name": "python",
   "nbconvert_exporter": "python",
   "pygments_lexer": "ipython3",
   "version": "3.9.15"
  },
  "orig_nbformat": 4,
  "vscode": {
   "interpreter": {
    "hash": "a7f4130ed83df3b8f06d6c345c87a414b57058a10ea01094325e8ae4cc394d7d"
   }
  }
 },
 "nbformat": 4,
 "nbformat_minor": 2
}
