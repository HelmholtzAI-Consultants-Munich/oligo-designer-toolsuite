{
 "cells": [
  {
   "attachments": {},
   "cell_type": "markdown",
   "metadata": {},
   "source": [
    "## Test Region Generator"
   ]
  },
  {
   "cell_type": "code",
   "execution_count": 1,
   "metadata": {},
   "outputs": [],
   "source": [
    "import os\n",
    "import sys\n",
    "\n",
    "import pandas as pd\n",
    "pd.set_option('display.max_columns', None)\n",
    "\n",
    "from oligo_designer_toolsuite.database import CustomGenomicRegionGenerator, NcbiGenomicRegionGenerator, EnsemblGenomicRegionGenerator, OligoDatabase\n",
    "from oligo_designer_toolsuite.utils import GffParser\n",
    "from oligo_designer_toolsuite.oligo_efficiency import (\n",
    "    PadlockOligoScoring,\n",
    "    PadlockSetScoring,\n",
    ")\n",
    "from oligo_designer_toolsuite.oligo_selection import (\n",
    "    OligosetGenerator,\n",
    "    padlock_heuristic_selection,\n",
    ")"
   ]
  },
  {
   "attachments": {},
   "cell_type": "markdown",
   "metadata": {},
   "source": [
    "### Custom Generator with NCBI data"
   ]
  },
  {
   "cell_type": "code",
   "execution_count": 3,
   "metadata": {},
   "outputs": [
    {
     "ename": "TypeError",
     "evalue": "CustomGenomicRegionGenerator.__init__() got an unexpected keyword argument 'source'",
     "output_type": "error",
     "traceback": [
      "\u001b[0;31m---------------------------------------------------------------------------\u001b[0m",
      "\u001b[0;31mTypeError\u001b[0m                                 Traceback (most recent call last)",
      "Cell \u001b[0;32mIn[3], line 3\u001b[0m\n\u001b[1;32m      1\u001b[0m annotation_file \u001b[39m=\u001b[39m \u001b[39m\"\u001b[39m\u001b[39m../data/custom_GCF_000001405.40_GRCh38.p14_genomic_chr16.gtf\u001b[39m\u001b[39m\"\u001b[39m\n\u001b[1;32m      2\u001b[0m sequence_file \u001b[39m=\u001b[39m \u001b[39m\"\u001b[39m\u001b[39m../data/custom_GCF_000001405.40_GRCh38.p14_genomic_chr16.fna\u001b[39m\u001b[39m\"\u001b[39m\n\u001b[0;32m----> 3\u001b[0m region_generator_ncbi \u001b[39m=\u001b[39m CustomGenomicRegionGenerator(annotation_file, sequence_file, source\u001b[39m=\u001b[39;49m\u001b[39m\"\u001b[39;49m\u001b[39mNCBI\u001b[39;49m\u001b[39m\"\u001b[39;49m, species \u001b[39m=\u001b[39;49m \u001b[39m\"\u001b[39;49m\u001b[39mHomo_sapiens\u001b[39;49m\u001b[39m\"\u001b[39;49m, annotation_release\u001b[39m=\u001b[39;49m\u001b[39m\"\u001b[39;49m\u001b[39m110\u001b[39;49m\u001b[39m\"\u001b[39;49m, genome_assembly\u001b[39m=\u001b[39;49m\u001b[39m\"\u001b[39;49m\u001b[39mGRCh38\u001b[39;49m\u001b[39m\"\u001b[39;49m)\n\u001b[1;32m      4\u001b[0m \u001b[39mprint\u001b[39m(region_generator_ncbi\u001b[39m.\u001b[39mannotation_file)\n\u001b[1;32m      5\u001b[0m \u001b[39mprint\u001b[39m(region_generator_ncbi\u001b[39m.\u001b[39msequence_file)\n",
      "\u001b[0;31mTypeError\u001b[0m: CustomGenomicRegionGenerator.__init__() got an unexpected keyword argument 'source'"
     ]
    }
   ],
   "source": [
    "annotation_file = \"../data/custom_GCF_000001405.40_GRCh38.p14_genomic_chr16.gtf\"\n",
    "sequence_file = \"../data/custom_GCF_000001405.40_GRCh38.p14_genomic_chr16.fna\"\n",
    "region_generator_ncbi = CustomGenomicRegionGenerator(annotation_file, sequence_file, source=\"NCBI\", species = \"Homo_sapiens\", annotation_release=\"110\", genome_assembly=\"GRCh38\")\n",
    "print(region_generator_ncbi.annotation_file)\n",
    "print(region_generator_ncbi.sequence_file)\n",
    "print(region_generator_ncbi.source)\n",
    "print(region_generator_ncbi.species)\n",
    "print(region_generator_ncbi.annotation_release)\n",
    "print(region_generator_ncbi.genome_assembly)"
   ]
  },
  {
   "cell_type": "code",
   "execution_count": null,
   "metadata": {},
   "outputs": [],
   "source": [
    "ncbi_genome = region_generator_ncbi.generate_genome()"
   ]
  },
  {
   "cell_type": "code",
   "execution_count": null,
   "metadata": {},
   "outputs": [],
   "source": [
    "ncbi_transcriptome = region_generator_ncbi.generate_transcript_reduced_representation()"
   ]
  },
  {
   "cell_type": "code",
   "execution_count": null,
   "metadata": {},
   "outputs": [],
   "source": [
    "ncbi_CDS = region_generator_ncbi.generate_CDS_reduced_representation()"
   ]
  },
  {
   "attachments": {},
   "cell_type": "markdown",
   "metadata": {},
   "source": [
    "### Custom Generator with Ensemble data"
   ]
  },
  {
   "cell_type": "code",
   "execution_count": null,
   "metadata": {},
   "outputs": [],
   "source": [
    "annotation_file = \"../data/custom_Homo_sapiens.GRCh38.108.chr16.gtf\"\n",
    "sequence_file = \"../data/custom_Homo_sapiens.GRCh38.dna_rm.primary_assembly_chr16.fa\"\n",
    "region_generator_ensembl = CustomGenomicRegionGenerator(annotation_file, sequence_file, source=\"Ensembl\", species = \"Homo_sapiens\", annotation_release=\"108\", genome_assembly=\"GRCh38\")\n",
    "print(region_generator_ensembl.annotation_file)\n",
    "print(region_generator_ensembl.sequence_file)\n",
    "print(region_generator_ensembl.source)\n",
    "print(region_generator_ensembl.species)\n",
    "print(region_generator_ensembl.annotation_release)\n",
    "print(region_generator_ensembl.genome_assembly)"
   ]
  },
  {
   "cell_type": "code",
   "execution_count": null,
   "metadata": {},
   "outputs": [],
   "source": [
    "ensembl_genome = region_generator_ensembl.generate_genome()"
   ]
  },
  {
   "cell_type": "code",
   "execution_count": null,
   "metadata": {},
   "outputs": [],
   "source": [
    "ensembl_transcriptome = region_generator_ensembl.generate_transcript_reduced_representation()"
   ]
  },
  {
   "cell_type": "code",
   "execution_count": null,
   "metadata": {},
   "outputs": [],
   "source": [
    "ensembl_CDS = region_generator_ensembl.generate_CDS_reduced_representation()"
   ]
  },
  {
   "attachments": {},
   "cell_type": "markdown",
   "metadata": {},
   "source": [
    "## Test Reference Database\n"
   ]
  },
  {
   "cell_type": "code",
   "execution_count": null,
   "metadata": {},
   "outputs": [],
   "source": [
    "from oligo_designer_toolsuite.database import ReferenceDatabase\n",
    "from oligo_designer_toolsuite.utils import parse_fasta_header, check_fasta_format"
   ]
  },
  {
   "cell_type": "code",
   "execution_count": null,
   "metadata": {},
   "outputs": [],
   "source": [
    "ncbi_transcriptome = \"./output/annotation/transcriptome_source_NCBI_species_Homo_sapiens_annotation_release_110_genome_assemly_GRCh38_incl_exonjunctions_of_size_100.fna\"\n",
    "reference = ReferenceDatabase(ncbi_transcriptome, source=region_generator_ncbi.source, species=region_generator_ncbi.species, annotation_release=region_generator_ncbi.annotation_release, genome_assembly=region_generator_ncbi.genome_assembly)"
   ]
  },
  {
   "cell_type": "code",
   "execution_count": null,
   "metadata": {},
   "outputs": [],
   "source": [
    "reference.load_fasta_into_database()\n",
    "reference.filter_database(['AARS1'])\n",
    "for entry in reference.database:\n",
    "    region, _, _, = parse_fasta_header(entry.id)\n",
    "    assert region == 'AARS1', f\"error: this region {region} should be filtered out.\"\n",
    "file_fasta_database = reference.write_fasta_from_database(filename = \"filtered_databse\")\n",
    "assert check_fasta_format(file_fasta_database) == True, \"error: wrong file format\""
   ]
  },
  {
   "attachments": {},
   "cell_type": "markdown",
   "metadata": {},
   "source": [
    "## Test Oligo Database"
   ]
  },
  {
   "cell_type": "code",
   "execution_count": null,
   "metadata": {},
   "outputs": [],
   "source": [
    "from Bio.SeqUtils import MeltingTemp as mt\n",
    "import copy\n",
    "\n",
    "from oligo_designer_toolsuite.database import OligoDatabase\n",
    "from oligo_designer_toolsuite.utils import check_fasta_format\n",
    "from oligo_designer_toolsuite.oligo_property_filter import (\n",
    "    GCContent,\n",
    "    MaskedSequences,\n",
    "    MeltingTemperatureNN,\n",
    "    PropertyFilter,\n",
    ")\n",
    "\n",
    "genes = [\"AARS1\",\"DECR2\",\"FAM234A\",\"RHBDF1\",\"WASIR2\"]\n",
    "ncbi_transcriptome = \"./output/annotation/transcriptome_source_NCBI_species_Homo_sapiens_annotation_release_110_genome_assemly_GRCh38_incl_exonjunctions_of_size_100.fna\"\n"
   ]
  },
  {
   "cell_type": "code",
   "execution_count": null,
   "metadata": {},
   "outputs": [],
   "source": [
    "oligos = OligoDatabase(file_fasta = ncbi_transcriptome,\n",
    "    oligo_length_min = 90,\n",
    "    oligo_length_max = 90,\n",
    "    min_oligos_per_region = 0,\n",
    "    source = region_generator_ncbi.source,\n",
    "    species = region_generator_ncbi.species,\n",
    "    annotation_release = region_generator_ncbi.annotation_release,\n",
    "    genome_assembly = region_generator_ncbi.genome_assembly,\n",
    "    n_jobs = 2\n",
    ")\n",
    "oligos.create_oligo_database(region_ids=genes) \n",
    "file_database = oligos.save_oligo_database()\n",
    "oligos.load_oligo_database(file_database)\n",
    "file_fasta = oligos.write_fasta_from_database()\n",
    "assert check_fasta_format(file_fasta) == True, \"error: wrong file format\""
   ]
  },
  {
   "cell_type": "code",
   "execution_count": null,
   "metadata": {},
   "outputs": [
    {
     "data": {
      "text/plain": [
       "<oligo_designer_toolsuite.database._oligos_database.OligoDatabase at 0x16aa583a0>"
      ]
     },
     "execution_count": 33,
     "metadata": {},
     "output_type": "execute_result"
    }
   ],
   "source": [
    "Tm_parameters = {\n",
    "            \"check\": True,\n",
    "            \"strict\": True,\n",
    "            \"c_seq\": None,\n",
    "            \"shift\": 0,\n",
    "            \"nn_table\": getattr(mt, \"DNA_NN3\"),\n",
    "            \"tmm_table\": getattr(mt, \"DNA_TMM1\"),\n",
    "            \"imm_table\": getattr(mt, \"DNA_IMM1\"),\n",
    "            \"de_table\": getattr(mt, \"DNA_DE1\"),\n",
    "            \"dnac1\": 50,  # [nM]\n",
    "            \"dnac2\": 0,\n",
    "            \"selfcomp\": False,\n",
    "            \"dNTPs\": 0,\n",
    "            \"saltcorr\": 7,\n",
    "            \"Na\": 1.25,  # [mM]\n",
    "            \"K\": 75,  # [mM]\n",
    "            \"Tris\": 20,  # [mM]\n",
    "            \"Mg\": 10,  # [mM]\n",
    "        }\n",
    "\n",
    "Tm_correction_parameters = {\n",
    "            \"DMSO\": 0,\n",
    "            \"DMSOfactor\": 0.75,\n",
    "            \"fmdfactor\": 0.65,\n",
    "            \"fmdmethod\": 1,\n",
    "            \"GC\": None,\n",
    "            \"fmd\": 20,\n",
    "        }\n",
    "\n",
    "masked_sequences = MaskedSequences(mask=\"N\")\n",
    "GC_content = GCContent(GC_content_min=40, GC_content_max=60)\n",
    "melting_temperature = MeltingTemperatureNN(\n",
    "    Tm_min=52,\n",
    "    Tm_max=67,\n",
    "    Tm_parameters=Tm_parameters,\n",
    "    Tm_chem_correction_parameters=Tm_correction_parameters,\n",
    ")\n",
    "\n",
    "filters = [masked_sequences, GC_content, melting_temperature]\n",
    "property_filter = PropertyFilter(filters=filters)\n",
    "property_filter.apply(oligos)"
   ]
  },
  {
   "cell_type": "code",
   "execution_count": null,
   "metadata": {},
   "outputs": [
    {
     "name": "stdout",
     "output_type": "stream",
     "text": [
      "35\n"
     ]
    }
   ],
   "source": [
    "\n",
    "def get_sequences_from_database(database):\n",
    "    sequences = []\n",
    "    for region_id, oligo in database.items():\n",
    "        for oligo_id, oligo_attributes in oligo.items():\n",
    "            sequences.append(oligo_attributes[\"sequence\"])\n",
    "    sequences.sort()  # needed to compare\n",
    "    return sequences\n",
    "\n",
    "sequences = get_sequences_from_database(oligos.database)\n",
    "print(len(sequences))"
   ]
  }
 ],
 "metadata": {
  "kernelspec": {
   "display_name": "ODT",
   "language": "python",
   "name": "python3"
  },
  "language_info": {
   "codemirror_mode": {
    "name": "ipython",
    "version": 3
   },
   "file_extension": ".py",
   "mimetype": "text/x-python",
   "name": "python",
   "nbconvert_exporter": "python",
   "pygments_lexer": "ipython3",
   "version": "3.10.8"
  },
  "orig_nbformat": 4,
  "vscode": {
   "interpreter": {
    "hash": "a7f4130ed83df3b8f06d6c345c87a414b57058a10ea01094325e8ae4cc394d7d"
   }
  }
 },
 "nbformat": 4,
 "nbformat_minor": 2
}
