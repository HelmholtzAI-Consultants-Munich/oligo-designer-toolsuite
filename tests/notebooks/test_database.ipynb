{
 "cells": [
  {
   "cell_type": "markdown",
   "metadata": {},
   "source": [
    "# Test Databases"
   ]
  },
  {
   "cell_type": "code",
   "execution_count": 1,
   "metadata": {},
   "outputs": [],
   "source": [
    "import os\n",
    "import shutil\n",
    "\n",
    "from oligo_designer_toolsuite.utils import FastaParser\n",
    "from oligo_designer_toolsuite.database import OligoDatabase, ReferenceDatabase, OligoAttributes\n",
    "from oligo_designer_toolsuite.sequence_generator import OligoSequenceGenerator"
   ]
  },
  {
   "cell_type": "markdown",
   "metadata": {},
   "source": [
    "## Setup"
   ]
  },
  {
   "cell_type": "code",
   "execution_count": 2,
   "metadata": {},
   "outputs": [],
   "source": [
    "# Global Parameters\n",
    "FILE_NCBI_EXONS = \"../data/genomic_regions/sequences_ncbi_exons.fna\"\n",
    "FILE_DATABASE_OLIGO_ATTRIBUTES = \"../data/databases/database_oligo_attributes.csv\"\n",
    "\n",
    "REGION_IDS = [\n",
    "    \"AARS1\",\n",
    "    \"DECR2\",\n",
    "    \"FAM234A\",\n",
    "    \"RHBDF1\",\n",
    "    \"WASIR2\",\n",
    "    \"this_gene_does_not_exist\",\n",
    "]"
   ]
  },
  {
   "cell_type": "markdown",
   "metadata": {},
   "source": [
    "## Test Reference Database"
   ]
  },
  {
   "cell_type": "code",
   "execution_count": 3,
   "metadata": {},
   "outputs": [],
   "source": [
    "tmp_path = os.path.join(os.getcwd(), \"tmp_reference_database\")\n",
    "\n",
    "fasta_parser = FastaParser()\n",
    "\n",
    "reference = ReferenceDatabase(dir_output=tmp_path)\n",
    "reference.load_database_from_fasta(files_fasta=[FILE_NCBI_EXONS, FILE_NCBI_EXONS], database_overwrite=True)\n",
    "reference.load_database_from_fasta(files_fasta=FILE_NCBI_EXONS, database_overwrite=False)"
   ]
  },
  {
   "cell_type": "code",
   "execution_count": 4,
   "metadata": {},
   "outputs": [],
   "source": [
    "reference.filter_database(\"AARS1\", remove_region=True)\n",
    "for entry in reference.database:\n",
    "    region, _, _, = fasta_parser.parse_fasta_header(entry.id)\n",
    "    assert region != \"AARS1\", f\"error: this region {region} should be filtered out.\""
   ]
  },
  {
   "cell_type": "code",
   "execution_count": 5,
   "metadata": {},
   "outputs": [],
   "source": [
    "file_fasta_database = reference.write_database_to_fasta(filename=\"filtered_databse\")\n",
    "# assert fasta_parser.check_fasta_format(file_fasta_database) == True, f\"error: wrong file format for database in {file_fasta_database}\""
   ]
  },
  {
   "cell_type": "code",
   "execution_count": 6,
   "metadata": {},
   "outputs": [],
   "source": [
    "shutil.rmtree(tmp_path)"
   ]
  },
  {
   "cell_type": "markdown",
   "metadata": {},
   "source": [
    "## Test Oligo Database"
   ]
  },
  {
   "cell_type": "code",
   "execution_count": 7,
   "metadata": {},
   "outputs": [],
   "source": [
    "tmp_path = os.path.join(os.getcwd(), \"tmp_oligo_database\")\n",
    "\n",
    "fasta_parser = FastaParser()\n",
    "attribute_calculator = OligoAttributes()\n",
    "oligo_sequence_generator = OligoSequenceGenerator(dir_output=tmp_path)\n",
    "oligo_database = OligoDatabase(min_oligos_per_region=2, write_regions_with_insufficient_oligos=True, dir_output=tmp_path)\n",
    "\n",
    "file_random_seqs = oligo_sequence_generator.create_sequences_random(\n",
    "    filename_out=\"random_sequences1\",\n",
    "    length_sequences=30,\n",
    "    num_sequences=100,\n",
    "    name_sequences=\"random_sequences1\",\n",
    "    base_alphabet_with_probability={\"A\": 0.1, \"C\": 0.3, \"G\": 0.4, \"T\": 0.2},\n",
    ")\n",
    "\n",
    "file_sliding_window = oligo_sequence_generator.create_sequences_sliding_window(\n",
    "    files_fasta_in=FILE_NCBI_EXONS,\n",
    "    length_interval_sequences=(30, 31),\n",
    "    region_ids=REGION_IDS\n",
    ")\n"
   ]
  },
  {
   "cell_type": "code",
   "execution_count": 8,
   "metadata": {},
   "outputs": [
    {
     "data": {
      "application/vnd.jupyter.widget-view+json": {
       "model_id": "b9d319dfe4b24c7fa504ce0c7ae18616",
       "version_major": 2,
       "version_minor": 0
      },
      "text/plain": [
       "Output()"
      ]
     },
     "metadata": {},
     "output_type": "display_data"
    },
    {
     "data": {
      "text/html": [
       "<pre style=\"white-space:pre;overflow-x:auto;line-height:normal;font-family:Menlo,'DejaVu Sans Mono',consolas,'Courier New',monospace\"></pre>\n"
      ],
      "text/plain": []
     },
     "metadata": {},
     "output_type": "display_data"
    },
    {
     "data": {
      "text/html": [
       "<pre style=\"white-space:pre;overflow-x:auto;line-height:normal;font-family:Menlo,'DejaVu Sans Mono',consolas,'Courier New',monospace\">\n",
       "</pre>\n"
      ],
      "text/plain": [
       "\n"
      ]
     },
     "metadata": {},
     "output_type": "display_data"
    },
    {
     "data": {
      "application/vnd.jupyter.widget-view+json": {
       "model_id": "eec36c0cf4f945b28d02702cdbec10ca",
       "version_major": 2,
       "version_minor": 0
      },
      "text/plain": [
       "Output()"
      ]
     },
     "metadata": {},
     "output_type": "display_data"
    },
    {
     "data": {
      "text/html": [
       "<pre style=\"white-space:pre;overflow-x:auto;line-height:normal;font-family:Menlo,'DejaVu Sans Mono',consolas,'Courier New',monospace\"></pre>\n"
      ],
      "text/plain": []
     },
     "metadata": {},
     "output_type": "display_data"
    },
    {
     "data": {
      "text/html": [
       "<pre style=\"white-space:pre;overflow-x:auto;line-height:normal;font-family:Menlo,'DejaVu Sans Mono',consolas,'Courier New',monospace\">\n",
       "</pre>\n"
      ],
      "text/plain": [
       "\n"
      ]
     },
     "metadata": {},
     "output_type": "display_data"
    },
    {
     "name": "stderr",
     "output_type": "stream",
     "text": [
      "/Users/lisa.barros/Desktop/oligo-designer-toolsuite/oligo_designer_toolsuite/utils/_database_processor.py:206: UserWarning: Region this_gene_does_not_exist not available in reference file.\n",
      "  warnings.warn(f\"Region {region_id} not available in reference file.\")\n"
     ]
    }
   ],
   "source": [
    "oligo_database.load_database_from_fasta(\n",
    "    files_fasta=file_random_seqs,\n",
    "    sequence_type=\"oligo\",\n",
    "    region_ids=[\"random_sequences1\"],\n",
    "    database_overwrite=True,\n",
    ")\n",
    "oligo_database.load_database_from_fasta(\n",
    "    files_fasta=file_sliding_window,\n",
    "    sequence_type=\"target\",\n",
    "    region_ids=REGION_IDS,\n",
    "    database_overwrite=False,\n",
    ")\n",
    "\n",
    "assert len(oligo_database.database) > 0, \"error: no sequences loaded into database\""
   ]
  },
  {
   "cell_type": "code",
   "execution_count": 9,
   "metadata": {},
   "outputs": [],
   "source": [
    "oligo_database = attribute_calculator.calculate_isoform_consensus(oligo_database=oligo_database)\n",
    "oligo_database = attribute_calculator.calculate_GC_content(oligo_database=oligo_database, sequence_type=\"oligo\")"
   ]
  },
  {
   "cell_type": "code",
   "execution_count": 10,
   "metadata": {},
   "outputs": [
    {
     "name": "stdout",
     "output_type": "stream",
     "text": [
      "{'region_1::1': {'oligo': 'ATGCCCCAATGGATGACGAT', 'target': 'ATCGTCATCCATTGGGGCAT', 'test_attribute': [['red']], 'ligation_site': [[10]], 'chromosome': [['16']], 'start': [[70289456]], 'end': [[70289485]], 'strand': [['-']], 'regiontype': [['exon']], 'gene_id': [['region_1', 'region_1']], 'transcript_id': [['NM_001605.3', 'XM_047433666.1']], 'exon_number': [['1', '1']], 'number_transcripts': [['2']]}, 'region_1::2': {'oligo': 'GGCTAGGGAATCGAATGGTTCCAATAGAG', 'target': 'CTCTATTGGAACCATTCGATTCCCTAGCC', 'test_attribute': [['blue']], 'ligation_site': [[10]], 'chromosome': [['16']], 'start': [[70289456]], 'end': [[70289485]], 'strand': [['-']], 'regiontype': [['exon']], 'gene_id': [['region_1', 'region_1']], 'transcript_id': [['NM_001605.3', 'XM_047433666.1']], 'exon_number': [['1', '1']], 'number_transcripts': [['2']]}, 'region_1::3': {'oligo': 'CTCACTCGACTCTTACACAGTCATA', 'target': 'TATGACTGTGTAAGAGTCGAGTGAG', 'test_attribute': [['red']], 'ligation_site': [[10]], 'chromosome': [['16']], 'start': [[70289456]], 'end': [[70289485]], 'strand': [['-']], 'regiontype': [['exon']], 'gene_id': [['region_1', 'region_1']], 'transcript_id': [['NM_001605.3', 'XM_047433666.1']], 'exon_number': [['1', '1']], 'number_transcripts': [['2']]}, 'region_1::4': {'oligo': 'TATAACCCTGAGGAGGTATACCTAG', 'target': 'CTAGGTATACCTCCTCAGGGTTATA', 'test_attribute': [['red']], 'ligation_site': [[10]], 'chromosome': [['16']], 'start': [[70252793]], 'end': [[70252823]], 'strand': [['-']], 'regiontype': [['exon']], 'gene_id': [['region_1']], 'transcript_id': [['NM_001605.3']], 'exon_number': [['21']], 'number_transcripts': [['2']]}, 'region_1::5': {'oligo': 'CGATTCGGAGATGTTTGATTGTCCG', 'target': 'CGGACAATCAAACATCTCCGAATCG', 'test_attribute': [['red']], 'ligation_site': [[10]], 'chromosome': [['16']], 'start': [[70252793]], 'end': [[70252823]], 'strand': [['-']], 'regiontype': [['exon']], 'gene_id': [['region_1']], 'transcript_id': [['NM_001605.3']], 'exon_number': [['21']], 'number_transcripts': [['2']]}, 'region_1::6': {'oligo': 'AAGAAGAGAGCTGAGTATCTCCTGG', 'target': 'CCAGGAGATACTCAGCTCTCTTCTT', 'test_attribute': [['blue']], 'ligation_site': [[10]], 'chromosome': [['16']], 'start': [[70252793]], 'end': [[70252823]], 'strand': [['-']], 'regiontype': [['exon']], 'gene_id': [['region_1']], 'transcript_id': [['NM_001605.3']], 'exon_number': [['21']], 'number_transcripts': [['2']]}, 'region_1::7': {'oligo': 'AGCAAAGTCTTTGAGGTATCTATGG', 'target': 'CCATAGATACCTCAAAGACTTTGCT', 'test_attribute': [['blue']], 'ligation_site': [[10]], 'chromosome': [['16']], 'start': [[70252793]], 'end': [[70252823]], 'strand': [['-']], 'regiontype': [['exon']], 'gene_id': [['region_1']], 'transcript_id': [['NM_001605.3']], 'exon_number': [['21']], 'number_transcripts': [['2']]}, 'region_1::8': {'oligo': 'ACTTGATGAACTACGTAGTCGTATT', 'target': 'AATACGACTACGTAGTTCATCAAGT', 'test_attribute': [['blue']], 'ligation_site': [[13]], 'chromosome': [['16']], 'start': [[70252793]], 'end': [[70252823]], 'strand': [['-']], 'regiontype': [['exon']], 'gene_id': [['region_1']], 'transcript_id': [['NM_001605.3']], 'exon_number': [['21']], 'number_transcripts': [['2']]}, 'region_1::9': {'oligo': 'CACTACTAGTTCCTGTGGTAGAGCG', 'target': 'CGCTCTACCACAGGAACTAGTAGTG', 'test_attribute': [['red']], 'ligation_site': [[13]], 'chromosome': [['16']], 'start': [[70252793]], 'end': [[70252823]], 'strand': [['-']], 'regiontype': [['exon']], 'gene_id': [['region_1']], 'transcript_id': [['NM_001605.3']], 'exon_number': [['21']], 'number_transcripts': [['2']]}}\n",
      "{'region_2::1': {'oligo': 'GAACGCCATTCTATATATCCTCAGT', 'target': 'ACTGAGGATATATAGAATGGCGTTC', 'test_attribute': [['red']], 'ligation_site': [[13]], 'chromosome': [['16']], 'start': [[70252793]], 'end': [[70252823]], 'strand': [['-']], 'regiontype': [['exon']], 'gene_id': [['region_2']], 'transcript_id': [['NM_001605.3']], 'exon_number': [['21']], 'number_transcripts': [['2']]}, 'region_2::2': {'oligo': 'CAAGATTGGATAGGACTCGACCCCG', 'target': 'CGGGGTCGAGTCCTATCCAATCTTG', 'test_attribute': [['red']], 'ligation_site': [[13]], 'chromosome': [['16']], 'start': [[70252793]], 'end': [[70252823]], 'strand': [['-']], 'regiontype': [['exon']], 'gene_id': [['region_2']], 'transcript_id': [['NM_001605.3']], 'exon_number': [['21']], 'number_transcripts': [['2']]}, 'region_2::3': {'oligo': 'AAATTTAGAAGACTAGTCACGCACA', 'target': 'TGTGCGTGACTAGTCTTCTAAATTT', 'test_attribute': [['blue']], 'ligation_site': [[13]], 'chromosome': [['16']], 'start': [[70252793]], 'end': [[70252823]], 'strand': [['-']], 'regiontype': [['exon']], 'gene_id': [['region_2']], 'transcript_id': [['NM_001605.3']], 'exon_number': [['21']], 'number_transcripts': [['2']]}, 'region_2::4': {'oligo': 'TAGTTCAGTAGCAATGAGAGGCCCG', 'target': 'CGGGCCTCTCATTGCTACTGAACTA', 'test_attribute': [['red']], 'ligation_site': [[13]], 'chromosome': [['16']], 'start': [[70252793]], 'end': [[70252823]], 'strand': [['-']], 'regiontype': [['exon']], 'gene_id': [['region_2']], 'transcript_id': [['NM_001605.3']], 'exon_number': [['21']], 'number_transcripts': [['2']]}, 'region_2::5': {'oligo': 'GATGATATTATCATGGACTATCGTC', 'target': 'GACGATAGTCCATGATAATATCATC', 'test_attribute': [['blue']], 'ligation_site': [[13]], 'chromosome': [['16']], 'start': [[70252793]], 'end': [[70252823]], 'strand': [['-']], 'regiontype': [['exon']], 'gene_id': [['region_2']], 'transcript_id': [['NM_001605.3']], 'exon_number': [['21']], 'number_transcripts': [['2']]}, 'region_2::6': {'oligo': 'CGTGTTCTTCTCTGTTGTCCGCACC', 'target': 'GGTGCGGACAACAGAGAAGAACACG', 'test_attribute': [['blue']], 'ligation_site': [[13]], 'chromosome': [['16']], 'start': [[70252793]], 'end': [[70252823]], 'strand': [['-']], 'regiontype': [['exon']], 'gene_id': [['region_2']], 'transcript_id': [['NM_001605.3']], 'exon_number': [['21']], 'number_transcripts': [['2']]}, 'region_2::7': {'oligo': 'CTCACTCGACTCTTACACAGTCATA', 'target': 'TATGACTGTGTAAGAGTCGAGTGAG', 'test_attribute': [['red']], 'ligation_site': [[13]], 'chromosome': [['16']], 'start': [[70252793]], 'end': [[70252823]], 'strand': [['-']], 'regiontype': [['exon']], 'gene_id': [['region_2']], 'transcript_id': [['NM_001605.3']], 'exon_number': [['21']], 'number_transcripts': [['2']]}}\n",
      "{'region_3::1': {'oligo': 'TATGACTGTGTAAGAGTCGAGTGAG', 'target': 'CTCACTCGACTCTTACACAGTCATA', 'test_attribute': [['red']], 'ligation_site': [[13]], 'chromosome': [['16']], 'start': [[70252793]], 'end': [[70252823]], 'strand': [['-']], 'regiontype': [['exon']], 'gene_id': [['region_3']], 'transcript_id': [['NM_001605.3']], 'exon_number': [['21']], 'number_transcripts': [['2']]}, 'region_3::2': {'oligo': 'CTAGGTATACCTCCTCAGGGTTATA', 'target': 'TATAACCCTGAGGAGGTATACCTAG', 'test_attribute': [['red']], 'ligation_site': [[13]], 'chromosome': [['16']], 'start': [[70252793]], 'end': [[70252823]], 'strand': [['-']], 'regiontype': [['exon']], 'gene_id': [['region_3']], 'transcript_id': [['NM_001605.3']], 'exon_number': [['21']], 'number_transcripts': [['2']]}, 'region_3::3': {'oligo': 'TAACAATATATATTGTTA', 'target': 'TAACAATATATATTGTTA', 'test_attribute': [['blue']], 'ligation_site': [[13]], 'chromosome': [['16']], 'start': [[70252793]], 'end': [[70252823]], 'strand': [['-']], 'regiontype': [['exon']], 'gene_id': [['region_3']], 'transcript_id': [['NM_001605.3']], 'exon_number': [['21']], 'number_transcripts': [['2']]}, 'region_3::4': {'oligo': 'CTCACTCGACTCTTACACAGTCATA', 'target': 'TATGACTGTGTAAGAGTCGAGTGAG', 'test_attribute': [['blue']], 'ligation_site': [[13]], 'chromosome': [['16']], 'start': [[261484]], 'end': [[261514]], 'strand': [['+']], 'regiontype': [['exon']], 'gene_id': [['region_3', 'region_3', 'region_3', 'region_3', 'region_3', 'region_3', 'region_3', 'region_3', 'region_3', 'region_3', 'region_3', 'region_3', 'region_3', 'region_3', 'region_3', 'region_3', 'region_3', 'region_3', 'region_3', 'region_3', 'region_3', 'region_3', 'region_3', 'region_3', 'region_3', 'region_3', 'region_3', 'region_3']], 'transcript_id': [['NR_104317.2', 'XM_047434744.1', 'XM_047434753.1', 'XM_047434745.1', 'XM_047434742.1', 'XM_047434747.1', 'XM_047434749.1', 'XM_047434746.1', 'XM_047434743.1', 'XM_011522691.2', 'XM_047434748.1', 'XM_047434750.1', 'XM_017023761.2', 'XM_047434752.1', 'XM_047434755.1', 'XM_005255622.2', 'XM_047434751.1', 'XM_017023764.2', 'NM_032039.4', 'XM_006720957.2', 'XM_005255623.4', 'XM_017023765.3', 'NM_001284497.2', 'XM_017023762.2', 'XM_011522692.2', 'XM_017023763.3', 'XM_047434756.1', 'XM_017023760.3']], 'exon_number': [['6', '8', '8', '7', '7', '7', '7', '8', '7', '7', '7', '7', '7', '7', '7', '6', '6', '6', '6', '6', '6', '6', '6', '7', '6', '6', '7', '6']], 'number_transcripts': [['28']]}, 'region_3::5': {'oligo': 'CTCACTCGACTCTTACACAGTCATA', 'target': 'TATGACTGTGTAAGAGTCGAGTGAG', 'test_attribute': [['red']], 'ligation_site': [[13]], 'chromosome': [['16']], 'start': [[261484]], 'end': [[261514]], 'strand': [['+']], 'regiontype': [['exon']], 'gene_id': [['region_3', 'region_3', 'region_3', 'region_3', 'region_3', 'region_3', 'region_3', 'region_3', 'region_3', 'region_3', 'region_3', 'region_3', 'region_3', 'region_3', 'region_3', 'region_3', 'region_3', 'region_3', 'region_3', 'region_3', 'region_3', 'region_3', 'region_3', 'region_3', 'region_3', 'region_3', 'region_3', 'region_3']], 'transcript_id': [['NR_104317.2', 'XM_047434744.1', 'XM_047434753.1', 'XM_047434745.1', 'XM_047434742.1', 'XM_047434747.1', 'XM_047434749.1', 'XM_047434746.1', 'XM_047434743.1', 'XM_011522691.2', 'XM_047434748.1', 'XM_047434750.1', 'XM_017023761.2', 'XM_047434752.1', 'XM_047434755.1', 'XM_005255622.2', 'XM_047434751.1', 'XM_017023764.2', 'NM_032039.4', 'XM_006720957.2', 'XM_005255623.4', 'XM_017023765.3', 'NM_001284497.2', 'XM_017023762.2', 'XM_011522692.2', 'XM_017023763.3', 'XM_047434756.1', 'XM_017023760.3']], 'exon_number': [['6', '8', '8', '7', '7', '7', '7', '8', '7', '7', '7', '7', '7', '7', '7', '6', '6', '6', '6', '6', '6', '6', '6', '7', '6', '6', '7', '6']], 'number_transcripts': [['28']]}}\n"
     ]
    }
   ],
   "source": [
    "oligo_database.load_database_from_table(FILE_DATABASE_OLIGO_ATTRIBUTES, database_overwrite=True)\n",
    "print(oligo_database.database[\"region_1\"])\n",
    "print(oligo_database.database[\"region_2\"])\n",
    "print(oligo_database.database[\"region_3\"])"
   ]
  },
  {
   "cell_type": "code",
   "execution_count": 11,
   "metadata": {},
   "outputs": [
    {
     "data": {
      "application/vnd.jupyter.widget-view+json": {
       "model_id": "6d1059db8b0e41d99eca64e4b6111f2a",
       "version_major": 2,
       "version_minor": 0
      },
      "text/plain": [
       "Output()"
      ]
     },
     "metadata": {},
     "output_type": "display_data"
    },
    {
     "data": {
      "text/html": [
       "<pre style=\"white-space:pre;overflow-x:auto;line-height:normal;font-family:Menlo,'DejaVu Sans Mono',consolas,'Courier New',monospace\"></pre>\n"
      ],
      "text/plain": []
     },
     "metadata": {},
     "output_type": "display_data"
    },
    {
     "data": {
      "text/html": [
       "<pre style=\"white-space:pre;overflow-x:auto;line-height:normal;font-family:Menlo,'DejaVu Sans Mono',consolas,'Courier New',monospace\">\n",
       "</pre>\n"
      ],
      "text/plain": [
       "\n"
      ]
     },
     "metadata": {},
     "output_type": "display_data"
    }
   ],
   "source": [
    "file_database = oligo_database.save_database(region_ids=[\"region_1\", \"region_2\"])\n",
    "oligo_database.load_database(file_database, database_overwrite=True)\n",
    "\n",
    "assert len(oligo_database.database.keys()) == 2, \"error: wrong number regions saved and loaded\""
   ]
  },
  {
   "cell_type": "code",
   "execution_count": 12,
   "metadata": {},
   "outputs": [],
   "source": [
    "oligo_database.load_database_from_table(FILE_DATABASE_OLIGO_ATTRIBUTES, database_overwrite=True)\n",
    "oligo_database.filter_oligo_attribute_by_category(name_attribute=\"exon_number\", category_attribute=[\"1\",\"21\"], remove_if_equals_category=False)\n",
    "\n",
    "assert len(oligo_database.database[\"region_3\"]) == 3, \"error: wrong number of oligos removed\""
   ]
  },
  {
   "cell_type": "code",
   "execution_count": 13,
   "metadata": {},
   "outputs": [],
   "source": [
    "attribute_calculator = OligoAttributes()\n",
    "oligo_database = attribute_calculator.calculate_isoform_consensus(oligo_database=oligo_database)\n",
    "oligo_database.filter_oligo_attribute_by_threshold(name_attribute=\"isoform_consensus\", thr_attribute=70, remove_if_smaller_threshold=True)\n",
    "\n",
    "assert len(oligo_database.database[\"region_1\"]) == 3, \"error: wrong number of oligos removed\""
   ]
  },
  {
   "cell_type": "code",
   "execution_count": 14,
   "metadata": {},
   "outputs": [],
   "source": [
    "file_fasta = oligo_database.write_database_to_fasta(filename=\"database_region1_region2\")\n",
    "\n",
    "assert fasta_parser.check_fasta_format(file_fasta) == True, f\"error: wrong file format for database in {file_fasta}\""
   ]
  },
  {
   "cell_type": "code",
   "execution_count": 15,
   "metadata": {},
   "outputs": [
    {
     "data": {
      "application/vnd.jupyter.widget-view+json": {
       "model_id": "67063726542d461196758c5d6a8b36ae",
       "version_major": 2,
       "version_minor": 0
      },
      "text/plain": [
       "Output()"
      ]
     },
     "metadata": {},
     "output_type": "display_data"
    },
    {
     "data": {
      "text/html": [
       "<pre style=\"white-space:pre;overflow-x:auto;line-height:normal;font-family:Menlo,'DejaVu Sans Mono',consolas,'Courier New',monospace\"></pre>\n"
      ],
      "text/plain": []
     },
     "metadata": {},
     "output_type": "display_data"
    },
    {
     "data": {
      "text/html": [
       "<pre style=\"white-space:pre;overflow-x:auto;line-height:normal;font-family:Menlo,'DejaVu Sans Mono',consolas,'Courier New',monospace\">\n",
       "</pre>\n"
      ],
      "text/plain": [
       "\n"
      ]
     },
     "metadata": {},
     "output_type": "display_data"
    },
    {
     "data": {
      "application/vnd.jupyter.widget-view+json": {
       "model_id": "162b956327324dc78c47c5595e68ceaa",
       "version_major": 2,
       "version_minor": 0
      },
      "text/plain": [
       "Output()"
      ]
     },
     "metadata": {},
     "output_type": "display_data"
    },
    {
     "name": "stderr",
     "output_type": "stream",
     "text": [
      "/Users/lisa.barros/Desktop/oligo-designer-toolsuite/oligo_designer_toolsuite/utils/_database_processor.py:206: UserWarning: Region this_gene_does_not_exist not available in reference file.\n",
      "  warnings.warn(f\"Region {region_id} not available in reference file.\")\n"
     ]
    },
    {
     "data": {
      "text/html": [
       "<pre style=\"white-space:pre;overflow-x:auto;line-height:normal;font-family:Menlo,'DejaVu Sans Mono',consolas,'Courier New',monospace\"></pre>\n"
      ],
      "text/plain": []
     },
     "metadata": {},
     "output_type": "display_data"
    },
    {
     "data": {
      "text/html": [
       "<pre style=\"white-space:pre;overflow-x:auto;line-height:normal;font-family:Menlo,'DejaVu Sans Mono',consolas,'Courier New',monospace\">\n",
       "</pre>\n"
      ],
      "text/plain": [
       "\n"
      ]
     },
     "metadata": {},
     "output_type": "display_data"
    }
   ],
   "source": [
    "oligo_database.load_database_from_fasta(\n",
    "    files_fasta=file_sliding_window,\n",
    "    sequence_type=\"target\",\n",
    "    region_ids=REGION_IDS,\n",
    "    database_overwrite=True,\n",
    ")\n",
    "oligo_database.load_database_from_fasta(\n",
    "    files_fasta=file_random_seqs,\n",
    "    sequence_type=\"oligo\",\n",
    "    database_overwrite=False,\n",
    ")\n",
    "\n",
    "oligo_database.remove_regions_with_insufficient_oligos(\"database_generation\")\n",
    "assert len(oligo_database.database.keys()) == (len(REGION_IDS) - 1 + 1), \"error: wrong number of regions in database\""
   ]
  },
  {
   "cell_type": "code",
   "execution_count": 16,
   "metadata": {},
   "outputs": [
    {
     "data": {
      "application/vnd.jupyter.widget-view+json": {
       "model_id": "b63f2341495443abbda30e71f68e88ec",
       "version_major": 2,
       "version_minor": 0
      },
      "text/plain": [
       "Output()"
      ]
     },
     "metadata": {},
     "output_type": "display_data"
    },
    {
     "data": {
      "text/html": [
       "<pre style=\"white-space:pre;overflow-x:auto;line-height:normal;font-family:Menlo,'DejaVu Sans Mono',consolas,'Courier New',monospace\"></pre>\n"
      ],
      "text/plain": []
     },
     "metadata": {},
     "output_type": "display_data"
    },
    {
     "data": {
      "text/html": [
       "<pre style=\"white-space:pre;overflow-x:auto;line-height:normal;font-family:Menlo,'DejaVu Sans Mono',consolas,'Courier New',monospace\">\n",
       "</pre>\n"
      ],
      "text/plain": [
       "\n"
      ]
     },
     "metadata": {},
     "output_type": "display_data"
    }
   ],
   "source": [
    "oligo_database.load_database_from_fasta(\n",
    "    files_fasta=file_random_seqs,\n",
    "    sequence_type=\"oligo\",\n",
    "    database_overwrite=True,\n",
    ")\n",
    "\n",
    "list_sequences = oligo_database.get_sequence_list()\n",
    "assert len(list_sequences) == 100, \"error: wrong number of sequences in database\""
   ]
  },
  {
   "cell_type": "code",
   "execution_count": 17,
   "metadata": {},
   "outputs": [],
   "source": [
    "oligo_database.load_database_from_table(\n",
    "    file_database=FILE_DATABASE_OLIGO_ATTRIBUTES,\n",
    "    region_ids=None,\n",
    "    database_overwrite=True,\n",
    ")\n",
    "\n",
    "mapping = oligo_database.get_sequence_oligoid_mapping(sequence_type=\"oligo\")\n",
    "assert len(mapping[\"CTCACTCGACTCTTACACAGTCATA\"]) == 4, \"error: wrong number of oligos for sequence\""
   ]
  },
  {
   "cell_type": "code",
   "execution_count": 18,
   "metadata": {},
   "outputs": [],
   "source": [
    "oligo_database.load_database_from_table(\n",
    "    file_database=FILE_DATABASE_OLIGO_ATTRIBUTES,\n",
    "    region_ids=None,\n",
    "    database_overwrite=True,\n",
    ")\n",
    "attribute = oligo_database.get_oligo_attribute_table(attribute=\"test_attribute\")\n",
    "\n",
    "assert len(attribute[\"test_attribute\"].unique()) == 2, \"error: wrong attribute returned\""
   ]
  },
  {
   "cell_type": "code",
   "execution_count": 19,
   "metadata": {},
   "outputs": [],
   "source": [
    "oligo_database.load_database_from_table(\n",
    "    file_database=FILE_DATABASE_OLIGO_ATTRIBUTES,\n",
    "    region_ids=\"region_3\",\n",
    "    database_overwrite=True,\n",
    ")\n",
    "new_attribute = {\n",
    "    \"region_3::1\": {\"GC_content\": 63},\n",
    "    \"region_3::2\": {\"GC_content\": 66},\n",
    "    \"region_3::3\": {\"GC_content\": 80},\n",
    "    \"region_3::4\": {\"GC_content\": 70},\n",
    "    \"region_3::5\": {\"GC_content\": 40},\n",
    "}\n",
    "oligo_database.update_oligo_attributes(new_attribute)\n",
    "attribute = oligo_database.get_oligo_attribute_table(attribute=\"GC_content\")\n",
    "\n",
    "assert len(attribute) == 5, \"error: attribute not correctly updated\""
   ]
  }
 ],
 "metadata": {
  "kernelspec": {
   "display_name": "odt",
   "language": "python",
   "name": "python3"
  },
  "language_info": {
   "codemirror_mode": {
    "name": "ipython",
    "version": 3
   },
   "file_extension": ".py",
   "mimetype": "text/x-python",
   "name": "python",
   "nbconvert_exporter": "python",
   "pygments_lexer": "ipython3",
   "version": "3.10.14"
  }
 },
 "nbformat": 4,
 "nbformat_minor": 2
}
