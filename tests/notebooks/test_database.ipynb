{
 "cells": [
  {
   "cell_type": "markdown",
   "metadata": {},
   "source": [
    "# Test Databases"
   ]
  },
  {
   "cell_type": "code",
   "execution_count": 1,
   "metadata": {},
   "outputs": [],
   "source": [
    "import os\n",
    "import shutil\n",
    "\n",
    "from oligo_designer_toolsuite.utils import FastaParser\n",
    "from oligo_designer_toolsuite.database import OligoDatabase, ReferenceDatabase, OligoAttributes\n",
    "from oligo_designer_toolsuite.sequence_generator import OligoSequenceGenerator"
   ]
  },
  {
   "cell_type": "markdown",
   "metadata": {},
   "source": [
    "## Setup"
   ]
  },
  {
   "cell_type": "code",
   "execution_count": 2,
   "metadata": {},
   "outputs": [],
   "source": [
    "# Global Parameters\n",
    "FILE_NCBI_EXONS = \"../data/genomic_regions/sequences_ncbi_exons.fna\"\n",
    "FILE_DATABASE_OLIGO_ATTRIBUTES = \"../data/databases/database_oligo_attributes.tsv\"\n",
    "FILE_VARIANTS = \"../../data/annotations/custom_GCF_000001405.40.chr16.vcf\"\n",
    "\n",
    "REGION_IDS = [\n",
    "    \"AARS1\",\n",
    "    \"DECR2\",\n",
    "    \"FAM234A\",\n",
    "    \"RHBDF1\",\n",
    "    \"WASIR2\",\n",
    "    \"this_gene_does_not_exist\",\n",
    "]"
   ]
  },
  {
   "cell_type": "markdown",
   "metadata": {},
   "source": [
    "## Test Reference Database"
   ]
  },
  {
   "cell_type": "code",
   "execution_count": null,
   "metadata": {},
   "outputs": [],
   "source": [
    "tmp_path = os.path.join(os.getcwd(), \"tmp_reference_database\")\n",
    "\n",
    "fasta_parser = FastaParser()\n",
    "\n",
    "reference = ReferenceDatabase(dir_output=tmp_path)\n",
    "reference.load_database_from_fasta(files_fasta=[FILE_NCBI_EXONS, FILE_NCBI_EXONS], database_overwrite=True)\n",
    "reference.load_database_from_fasta(files_fasta=FILE_NCBI_EXONS, database_overwrite=False)"
   ]
  },
  {
   "cell_type": "code",
   "execution_count": null,
   "metadata": {},
   "outputs": [],
   "source": [
    "reference.filter_database(\"AARS1\", remove_region=True)\n",
    "for entry in reference.database:\n",
    "    region, _, _, = fasta_parser.parse_fasta_header(entry.id)\n",
    "    assert region != \"AARS1\", f\"error: this region {region} should be filtered out.\""
   ]
  },
  {
   "cell_type": "code",
   "execution_count": null,
   "metadata": {},
   "outputs": [],
   "source": [
    "file_fasta_database = reference.write_database_to_fasta(filename=\"filtered_databse\")\n",
    "# assert fasta_parser.check_fasta_format(file_fasta_database) == True, f\"error: wrong file format for database in {file_fasta_database}\""
   ]
  },
  {
   "cell_type": "code",
   "execution_count": null,
   "metadata": {},
   "outputs": [],
   "source": [
    "shutil.rmtree(tmp_path)"
   ]
  },
  {
   "cell_type": "markdown",
   "metadata": {},
   "source": [
    "## Test Oligo Database"
   ]
  },
  {
   "cell_type": "code",
   "execution_count": null,
   "metadata": {},
   "outputs": [],
   "source": [
    "tmp_path = os.path.join(os.getcwd(), \"tmp_oligo_database\")\n",
    "\n",
    "fasta_parser = FastaParser()\n",
    "attribute_calculator = OligoAttributes()\n",
    "oligo_sequence_generator = OligoSequenceGenerator(dir_output=tmp_path)\n",
    "oligo_database = OligoDatabase(min_oligos_per_region=2, write_regions_with_insufficient_oligos=True, dir_output=tmp_path)\n",
    "\n",
    "file_random_seqs = oligo_sequence_generator.create_sequences_random(\n",
    "    filename_out=\"random_sequences1\",\n",
    "    length_sequences=30,\n",
    "    num_sequences=100,\n",
    "    name_sequences=\"random_sequences1\",\n",
    "    base_alphabet_with_probability={\"A\": 0.1, \"C\": 0.3, \"G\": 0.4, \"T\": 0.2},\n",
    ")\n",
    "\n",
    "file_sliding_window = oligo_sequence_generator.create_sequences_sliding_window(\n",
    "    files_fasta_in=FILE_NCBI_EXONS,\n",
    "    length_interval_sequences=(30, 31),\n",
    "    region_ids=REGION_IDS\n",
    ")\n"
   ]
  },
  {
   "cell_type": "code",
   "execution_count": null,
   "metadata": {},
   "outputs": [],
   "source": [
    "oligo_database.load_database_from_fasta(\n",
    "    files_fasta=file_random_seqs,\n",
    "    sequence_type=\"oligo\",\n",
    "    region_ids=[\"random_sequences1\"],\n",
    "    database_overwrite=True,\n",
    ")\n",
    "oligo_database = attribute_calculator.calculate_reverse_complement_sequence(oligo_database=oligo_database,sequence_type=\"oligo\", sequence_type_reverse_complement=\"target\")\n",
    "oligo_database.load_database_from_fasta(\n",
    "    files_fasta=file_sliding_window,\n",
    "    sequence_type=\"target\",\n",
    "    region_ids=REGION_IDS,\n",
    "    database_overwrite=False,\n",
    ")\n",
    "oligo_database = attribute_calculator.calculate_reverse_complement_sequence(oligo_database=oligo_database,sequence_type=\"target\", sequence_type_reverse_complement=\"oligo\")\n",
    "\n",
    "assert len(oligo_database.database) > 0, \"error: no sequences loaded into database\""
   ]
  },
  {
   "cell_type": "code",
   "execution_count": null,
   "metadata": {},
   "outputs": [],
   "source": [
    "oligo_database = attribute_calculator.calculate_isoform_consensus(oligo_database=oligo_database)\n",
    "oligo_database = attribute_calculator.calculate_GC_content(oligo_database=oligo_database, sequence_type=\"oligo\")"
   ]
  },
  {
   "cell_type": "code",
   "execution_count": null,
   "metadata": {},
   "outputs": [],
   "source": [
    "oligo_database.load_database_from_table(FILE_DATABASE_OLIGO_ATTRIBUTES, database_overwrite=True, merge_databases_on_sequence_type=\"oligo\")\n",
    "print(oligo_database.database[\"region_1\"])\n",
    "print(oligo_database.database[\"region_2\"])\n",
    "print(oligo_database.database[\"region_3\"])"
   ]
  },
  {
   "cell_type": "code",
   "execution_count": null,
   "metadata": {},
   "outputs": [],
   "source": [
    "file_database = oligo_database.save_database(region_ids=[\"region_1\", \"region_2\"])\n",
    "oligo_database.load_database(file_database, database_overwrite=True)\n",
    "\n",
    "assert len(oligo_database.database.keys()) == 2, \"error: wrong number regions saved and loaded\""
   ]
  },
  {
   "cell_type": "code",
   "execution_count": null,
   "metadata": {},
   "outputs": [],
   "source": [
    "oligo_database.load_database_from_table(FILE_DATABASE_OLIGO_ATTRIBUTES, database_overwrite=True)\n",
    "oligo_database.filter_database_by_attribute_category(attribute_name=\"exon_number\", attribute_category=[\"1\",\"21\"], remove_if_equals_category=False)\n",
    "\n",
    "assert len(oligo_database.database[\"region_3\"]) == 3, \"error: wrong number of oligos removed\""
   ]
  },
  {
   "cell_type": "code",
   "execution_count": null,
   "metadata": {},
   "outputs": [],
   "source": [
    "attribute_calculator = OligoAttributes()\n",
    "oligo_database = attribute_calculator.calculate_isoform_consensus(oligo_database=oligo_database)\n",
    "oligo_database.filter_database_by_attribute_threshold(attribute_name=\"isoform_consensus\", attribute_thr=70, remove_if_smaller_threshold=True)\n",
    "\n",
    "assert len(oligo_database.database[\"region_1\"]) == 3, \"error: wrong number of oligos removed\""
   ]
  },
  {
   "cell_type": "code",
   "execution_count": null,
   "metadata": {},
   "outputs": [],
   "source": [
    "file_fasta = oligo_database.write_database_to_fasta(sequence_type=\"oligo\", save_description=False, filename=\"database_region1_region2\")\n",
    "\n",
    "assert fasta_parser.check_fasta_format(file_fasta) == True, f\"error: wrong file format for database in {file_fasta}\""
   ]
  },
  {
   "cell_type": "code",
   "execution_count": null,
   "metadata": {},
   "outputs": [],
   "source": [
    "oligo_database.load_database_from_fasta(\n",
    "    files_fasta=file_sliding_window,\n",
    "    sequence_type=\"target\",\n",
    "    region_ids=REGION_IDS,\n",
    "    database_overwrite=True,\n",
    ")\n",
    "oligo_database.load_database_from_fasta(\n",
    "    files_fasta=file_random_seqs,\n",
    "    sequence_type=\"oligo\",\n",
    "    database_overwrite=False,\n",
    ")\n",
    "\n",
    "oligo_database.remove_regions_with_insufficient_oligos(\"database_generation\")\n",
    "assert len(oligo_database.database.keys()) == (len(REGION_IDS) - 1 + 1), \"error: wrong number of regions in database\""
   ]
  },
  {
   "cell_type": "code",
   "execution_count": null,
   "metadata": {},
   "outputs": [],
   "source": [
    "oligo_database.load_database_from_fasta(\n",
    "    files_fasta=file_random_seqs,\n",
    "    sequence_type=\"oligo\",\n",
    "    database_overwrite=True,\n",
    ")\n",
    "\n",
    "list_sequences = oligo_database.get_sequence_list()\n",
    "assert len(list_sequences) == 100, \"error: wrong number of sequences in database\""
   ]
  },
  {
   "cell_type": "code",
   "execution_count": null,
   "metadata": {},
   "outputs": [],
   "source": [
    "oligo_database.load_database_from_table(\n",
    "    file_database=FILE_DATABASE_OLIGO_ATTRIBUTES,\n",
    "    region_ids=None,\n",
    "    database_overwrite=True,\n",
    ")\n",
    "\n",
    "mapping = oligo_database.get_sequence_oligoid_mapping(sequence_type=\"oligo\")\n",
    "assert len(mapping[\"CTCACTCGACTCTTACACAGTCATA\"]) == 4, \"error: wrong number of oligos for sequence\""
   ]
  },
  {
   "cell_type": "code",
   "execution_count": null,
   "metadata": {},
   "outputs": [],
   "source": [
    "oligo_database.load_database_from_table(\n",
    "    file_database=FILE_DATABASE_OLIGO_ATTRIBUTES,\n",
    "    region_ids=None,\n",
    "    database_overwrite=True,\n",
    ")\n",
    "attribute = oligo_database.get_oligo_attribute_table(attribute=\"test_attribute\")\n",
    "\n",
    "assert len(attribute[\"test_attribute\"].unique()) == 2, \"error: wrong attribute returned\""
   ]
  },
  {
   "cell_type": "code",
   "execution_count": null,
   "metadata": {},
   "outputs": [],
   "source": [
    "oligo_database.load_database_from_table(\n",
    "    file_database=FILE_DATABASE_OLIGO_ATTRIBUTES,\n",
    "    region_ids=\"region_3\",\n",
    "    database_overwrite=True,\n",
    ")\n",
    "new_attribute = {\n",
    "    \"region_3::1\": {\"GC_content\": 63},\n",
    "    \"region_3::2\": {\"GC_content\": 66},\n",
    "    \"region_3::3\": {\"GC_content\": 80},\n",
    "    \"region_3::4\": {\"GC_content\": 70},\n",
    "    \"region_3::5\": {\"GC_content\": 40},\n",
    "}\n",
    "oligo_database.update_oligo_attributes(new_attribute)\n",
    "attribute = oligo_database.get_oligo_attribute_table(attribute=\"GC_content\")\n",
    "\n",
    "assert len(attribute) == 5, \"error: attribute not correctly updated\""
   ]
  }
 ],
 "metadata": {
  "kernelspec": {
   "display_name": "odt-arm64",
   "language": "python",
   "name": "python3"
  },
  "language_info": {
   "codemirror_mode": {
    "name": "ipython",
    "version": 3
   },
   "file_extension": ".py",
   "mimetype": "text/x-python",
   "name": "python",
   "nbconvert_exporter": "python",
   "pygments_lexer": "ipython3",
   "version": "3.11.11"
  }
 },
 "nbformat": 4,
 "nbformat_minor": 2
}
