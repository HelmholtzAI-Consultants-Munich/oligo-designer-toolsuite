{
 "cells": [
  {
   "cell_type": "markdown",
   "metadata": {},
   "source": [
    "# Test Databases"
   ]
  },
  {
   "cell_type": "code",
   "execution_count": 1,
   "metadata": {},
   "outputs": [],
   "source": [
    "import os\n",
    "import shutil\n",
    "\n",
    "from oligo_designer_toolsuite.utils import FastaParser\n",
    "from oligo_designer_toolsuite.database import OligoDatabase, ReferenceDatabase, OligoAttributes\n",
    "from oligo_designer_toolsuite.sequence_generator import OligoSequenceGenerator"
   ]
  },
  {
   "cell_type": "markdown",
   "metadata": {},
   "source": [
    "## Setup"
   ]
  },
  {
   "cell_type": "code",
   "execution_count": 2,
   "metadata": {},
   "outputs": [],
   "source": [
    "# Global Parameters\n",
    "FILE_NCBI_EXONS = \"../data/genomic_regions/sequences_ncbi_exons.fna\"\n",
    "FILE_DATABASE_OLIGO_ATTRIBUTES = \"../data/databases/database_oligo_attributes.tsv\"\n",
    "FILE_VARIANTS = \"../../data/annotations/custom_GCF_000001405.40.chr16.vcf\"\n",
    "\n",
    "REGION_IDS = [\n",
    "    \"AARS1\",\n",
    "    \"DECR2\",\n",
    "    \"FAM234A\",\n",
    "    \"RHBDF1\",\n",
    "    \"WASIR2\",\n",
    "    \"this_gene_does_not_exist\",\n",
    "]"
   ]
  },
  {
   "cell_type": "markdown",
   "metadata": {},
   "source": [
    "## Test Reference Database"
   ]
  },
  {
   "cell_type": "code",
   "execution_count": null,
   "metadata": {},
   "outputs": [],
   "source": [
    "tmp_path = os.path.join(os.getcwd(), \"tmp_reference_database\")\n",
    "\n",
    "fasta_parser = FastaParser()\n",
    "\n",
    "reference = ReferenceDatabase(dir_output=tmp_path)\n",
    "reference.load_database_from_fasta(files_fasta=[FILE_NCBI_EXONS, FILE_NCBI_EXONS], database_overwrite=True)\n",
    "reference.load_database_from_fasta(files_fasta=FILE_NCBI_EXONS, database_overwrite=False)"
   ]
  },
  {
   "cell_type": "code",
   "execution_count": null,
   "metadata": {},
   "outputs": [],
   "source": [
    "reference.filter_database(\"AARS1\", remove_region=True)\n",
    "for entry in reference.database:\n",
    "    region, _, _, = fasta_parser.parse_fasta_header(entry.id)\n",
    "    assert region != \"AARS1\", f\"error: this region {region} should be filtered out.\""
   ]
  },
  {
   "cell_type": "code",
   "execution_count": null,
   "metadata": {},
   "outputs": [],
   "source": [
    "file_fasta_database = reference.write_database_to_fasta(filename=\"filtered_databse\")\n",
    "# assert fasta_parser.check_fasta_format(file_fasta_database) == True, f\"error: wrong file format for database in {file_fasta_database}\""
   ]
  },
  {
   "cell_type": "code",
   "execution_count": null,
   "metadata": {},
   "outputs": [],
   "source": [
    "shutil.rmtree(tmp_path)"
   ]
  },
  {
   "cell_type": "markdown",
   "metadata": {},
   "source": [
    "## Test Oligo Database"
   ]
  },
  {
   "cell_type": "code",
   "execution_count": 3,
   "metadata": {},
   "outputs": [],
   "source": [
    "tmp_path = os.path.join(os.getcwd(), \"tmp_oligo_database\")\n",
    "\n",
    "fasta_parser = FastaParser()\n",
    "attribute_calculator = OligoAttributes()\n",
    "oligo_sequence_generator = OligoSequenceGenerator(dir_output=tmp_path)\n",
    "oligo_database = OligoDatabase(min_oligos_per_region=2, write_regions_with_insufficient_oligos=True, dir_output=tmp_path)\n",
    "\n",
    "file_random_seqs = oligo_sequence_generator.create_sequences_random(\n",
    "    filename_out=\"random_sequences1\",\n",
    "    length_sequences=30,\n",
    "    num_sequences=100,\n",
    "    name_sequences=\"random_sequences1\",\n",
    "    base_alphabet_with_probability={\"A\": 0.1, \"C\": 0.3, \"G\": 0.4, \"T\": 0.2},\n",
    ")\n",
    "\n",
    "file_sliding_window = oligo_sequence_generator.create_sequences_sliding_window(\n",
    "    files_fasta_in=FILE_NCBI_EXONS,\n",
    "    length_interval_sequences=(30, 31),\n",
    "    region_ids=REGION_IDS\n",
    ")\n"
   ]
  },
  {
   "cell_type": "code",
   "execution_count": 16,
   "metadata": {},
   "outputs": [
    {
     "data": {
      "application/vnd.jupyter.widget-view+json": {
       "model_id": "fac2d62311fc4095a0dca2cf52e39950",
       "version_major": 2,
       "version_minor": 0
      },
      "text/plain": [
       "Output()"
      ]
     },
     "metadata": {},
     "output_type": "display_data"
    },
    {
     "data": {
      "text/html": [
       "<pre style=\"white-space:pre;overflow-x:auto;line-height:normal;font-family:Menlo,'DejaVu Sans Mono',consolas,'Courier New',monospace\"></pre>\n"
      ],
      "text/plain": []
     },
     "metadata": {},
     "output_type": "display_data"
    },
    {
     "name": "stderr",
     "output_type": "stream",
     "text": [
      "/Users/lisasousa/Desktop/oligo-designer-toolsuite/oligo_designer_toolsuite/utils/_database_processor.py:181: UserWarning: Region this_gene_does_not_exist not available in reference file.\n",
      "  warnings.warn(f\"Region {region_id} not available in reference file.\")\n"
     ]
    }
   ],
   "source": [
    "from oligo_designer_toolsuite.utils import check_if_list\n",
    "from subprocess import Popen\n",
    "\n",
    "oligo_database.load_database_from_fasta(\n",
    "    files_fasta=file_sliding_window,\n",
    "    sequence_type=\"target\",\n",
    "    region_ids=REGION_IDS,\n",
    "    database_overwrite=True,\n",
    ")\n",
    "oligo_database = attribute_calculator.calculate_reverse_complement_sequence(oligo_database=oligo_database,sequence_type=\"target\", sequence_type_reverse_complement=\"oligo\")"
   ]
  },
  {
   "cell_type": "code",
   "execution_count": 23,
   "metadata": {},
   "outputs": [],
   "source": [
    "file_A = oligo_database.write_database_to_bed(dir_output=\"/Users/lisasousa/Desktop/oligo-designer-toolsuite/projects/SNP_filter/\",region_ids=REGION_IDS)\n",
    "file_B = '/Users/lisasousa/Desktop/oligo-designer-toolsuite/projects/SNP_filter/GCF_000001405.40.chr16.vcf'\n",
    "file_bed_out = '/Users/lisasousa/Desktop/oligo-designer-toolsuite/projects/SNP_filter/overlap.bed'"
   ]
  },
  {
   "cell_type": "code",
   "execution_count": 24,
   "metadata": {},
   "outputs": [
    {
     "name": "stdout",
     "output_type": "stream",
     "text": [
      "bedtools intersect -wa -wb -bed -a /Users/lisasousa/Desktop/oligo-designer-toolsuite/projects/SNP_filter/db_oligo.bed -b /Users/lisasousa/Desktop/oligo-designer-toolsuite/projects/SNP_filter/GCF_000001405.40.chr16.vcf > /Users/lisasousa/Desktop/oligo-designer-toolsuite/projects/SNP_filter/overlap.bed\n"
     ]
    }
   ],
   "source": [
    "file_B = check_if_list(file_B)\n",
    "\n",
    "cmd = \"bedtools intersect -wa -wb -bed\"\n",
    "cmd += \" -a \" + file_A\n",
    "cmd += \" -b \" + \" \".join(file_B)\n",
    "cmd += \" > \" + file_bed_out\n",
    "\n",
    "print(cmd)"
   ]
  },
  {
   "cell_type": "code",
   "execution_count": 25,
   "metadata": {},
   "outputs": [],
   "source": [
    "process = Popen(cmd, shell=True).wait()"
   ]
  },
  {
   "cell_type": "code",
   "execution_count": 26,
   "metadata": {},
   "outputs": [
    {
     "data": {
      "text/html": [
       "<div>\n",
       "<style scoped>\n",
       "    .dataframe tbody tr th:only-of-type {\n",
       "        vertical-align: middle;\n",
       "    }\n",
       "\n",
       "    .dataframe tbody tr th {\n",
       "        vertical-align: top;\n",
       "    }\n",
       "\n",
       "    .dataframe thead th {\n",
       "        text-align: right;\n",
       "    }\n",
       "</style>\n",
       "<table border=\"1\" class=\"dataframe\">\n",
       "  <thead>\n",
       "    <tr style=\"text-align: right;\">\n",
       "      <th></th>\n",
       "      <th>oligo_id</th>\n",
       "      <th>snp_id</th>\n",
       "      <th>region_id</th>\n",
       "    </tr>\n",
       "  </thead>\n",
       "  <tbody>\n",
       "    <tr>\n",
       "      <th>0</th>\n",
       "      <td>AARS1::1</td>\n",
       "      <td>rs749554524</td>\n",
       "      <td>AARS1</td>\n",
       "    </tr>\n",
       "    <tr>\n",
       "      <th>1</th>\n",
       "      <td>AARS1::1</td>\n",
       "      <td>rs1295605832</td>\n",
       "      <td>AARS1</td>\n",
       "    </tr>\n",
       "    <tr>\n",
       "      <th>2</th>\n",
       "      <td>AARS1::1</td>\n",
       "      <td>rs755334113</td>\n",
       "      <td>AARS1</td>\n",
       "    </tr>\n",
       "    <tr>\n",
       "      <th>3</th>\n",
       "      <td>AARS1::1</td>\n",
       "      <td>rs373069396</td>\n",
       "      <td>AARS1</td>\n",
       "    </tr>\n",
       "    <tr>\n",
       "      <th>4</th>\n",
       "      <td>AARS1::1</td>\n",
       "      <td>rs1960244242</td>\n",
       "      <td>AARS1</td>\n",
       "    </tr>\n",
       "    <tr>\n",
       "      <th>...</th>\n",
       "      <td>...</td>\n",
       "      <td>...</td>\n",
       "      <td>...</td>\n",
       "    </tr>\n",
       "    <tr>\n",
       "      <th>453715</th>\n",
       "      <td>WASIR2::1960</td>\n",
       "      <td>rs1030129796</td>\n",
       "      <td>WASIR2</td>\n",
       "    </tr>\n",
       "    <tr>\n",
       "      <th>453716</th>\n",
       "      <td>WASIR2::1960</td>\n",
       "      <td>rs1250590943</td>\n",
       "      <td>WASIR2</td>\n",
       "    </tr>\n",
       "    <tr>\n",
       "      <th>453717</th>\n",
       "      <td>WASIR2::1960</td>\n",
       "      <td>rs1197079217</td>\n",
       "      <td>WASIR2</td>\n",
       "    </tr>\n",
       "    <tr>\n",
       "      <th>453718</th>\n",
       "      <td>WASIR2::1960</td>\n",
       "      <td>rs1456353780</td>\n",
       "      <td>WASIR2</td>\n",
       "    </tr>\n",
       "    <tr>\n",
       "      <th>453719</th>\n",
       "      <td>WASIR2::1960</td>\n",
       "      <td>rs1939793501</td>\n",
       "      <td>WASIR2</td>\n",
       "    </tr>\n",
       "  </tbody>\n",
       "</table>\n",
       "<p>453720 rows × 3 columns</p>\n",
       "</div>"
      ],
      "text/plain": [
       "            oligo_id        snp_id region_id\n",
       "0           AARS1::1   rs749554524     AARS1\n",
       "1           AARS1::1  rs1295605832     AARS1\n",
       "2           AARS1::1   rs755334113     AARS1\n",
       "3           AARS1::1   rs373069396     AARS1\n",
       "4           AARS1::1  rs1960244242     AARS1\n",
       "...              ...           ...       ...\n",
       "453715  WASIR2::1960  rs1030129796    WASIR2\n",
       "453716  WASIR2::1960  rs1250590943    WASIR2\n",
       "453717  WASIR2::1960  rs1197079217    WASIR2\n",
       "453718  WASIR2::1960  rs1456353780    WASIR2\n",
       "453719  WASIR2::1960  rs1939793501    WASIR2\n",
       "\n",
       "[453720 rows x 3 columns]"
      ]
     },
     "execution_count": 26,
     "metadata": {},
     "output_type": "execute_result"
    }
   ],
   "source": [
    "import pandas as pd\n",
    "SEPARATOR_OLIGO_ID = \"::\"\n",
    "search_results = pd.read_csv(\n",
    "    filepath_or_buffer=file_bed_out,\n",
    "    header=None,\n",
    "    sep=\"\\t\",\n",
    "    low_memory=False,\n",
    "    engine=\"c\",\n",
    "    usecols=[3,8],\n",
    "    names=[\"oligo_id\", \"snp_id\"],\n",
    ")\n",
    "\n",
    "search_results[\"region_id\"] = search_results[\"oligo_id\"].str.split(SEPARATOR_OLIGO_ID).str[0]\n",
    "search_results"
   ]
  },
  {
   "cell_type": "code",
   "execution_count": 32,
   "metadata": {},
   "outputs": [
    {
     "data": {
      "text/html": [
       "<div>\n",
       "<style scoped>\n",
       "    .dataframe tbody tr th:only-of-type {\n",
       "        vertical-align: middle;\n",
       "    }\n",
       "\n",
       "    .dataframe tbody tr th {\n",
       "        vertical-align: top;\n",
       "    }\n",
       "\n",
       "    .dataframe thead th {\n",
       "        text-align: right;\n",
       "    }\n",
       "</style>\n",
       "<table border=\"1\" class=\"dataframe\">\n",
       "  <thead>\n",
       "    <tr style=\"text-align: right;\">\n",
       "      <th></th>\n",
       "      <th>oligo_id</th>\n",
       "      <th>snp_id</th>\n",
       "      <th>region_id</th>\n",
       "    </tr>\n",
       "  </thead>\n",
       "  <tbody>\n",
       "    <tr>\n",
       "      <th>0</th>\n",
       "      <td>AARS1::1</td>\n",
       "      <td>[rs749554524, rs1295605832, rs755334113, rs373...</td>\n",
       "      <td>AARS1</td>\n",
       "    </tr>\n",
       "    <tr>\n",
       "      <th>1</th>\n",
       "      <td>AARS1::10</td>\n",
       "      <td>[rs1388493313, rs147433234, rs749554524, rs129...</td>\n",
       "      <td>AARS1</td>\n",
       "    </tr>\n",
       "    <tr>\n",
       "      <th>2</th>\n",
       "      <td>AARS1::100</td>\n",
       "      <td>[rs147433234, rs749554524, rs1295605832, rs755...</td>\n",
       "      <td>AARS1</td>\n",
       "    </tr>\n",
       "    <tr>\n",
       "      <th>3</th>\n",
       "      <td>AARS1::1000</td>\n",
       "      <td>[rs1295970458, rs1960068371, rs762373456, rs12...</td>\n",
       "      <td>AARS1</td>\n",
       "    </tr>\n",
       "    <tr>\n",
       "      <th>4</th>\n",
       "      <td>AARS1::1001</td>\n",
       "      <td>[rs774810867, rs1295970458, rs1960068371, rs76...</td>\n",
       "      <td>AARS1</td>\n",
       "    </tr>\n",
       "    <tr>\n",
       "      <th>...</th>\n",
       "      <td>...</td>\n",
       "      <td>...</td>\n",
       "      <td>...</td>\n",
       "    </tr>\n",
       "    <tr>\n",
       "      <th>26562</th>\n",
       "      <td>WASIR2::995</td>\n",
       "      <td>[rs372330566, rs1897139288, rs535254974, rs146...</td>\n",
       "      <td>WASIR2</td>\n",
       "    </tr>\n",
       "    <tr>\n",
       "      <th>26563</th>\n",
       "      <td>WASIR2::996</td>\n",
       "      <td>[rs1897139288, rs535254974, rs1465620309, rs18...</td>\n",
       "      <td>WASIR2</td>\n",
       "    </tr>\n",
       "    <tr>\n",
       "      <th>26564</th>\n",
       "      <td>WASIR2::997</td>\n",
       "      <td>[rs1897139288, rs535254974, rs1465620309, rs18...</td>\n",
       "      <td>WASIR2</td>\n",
       "    </tr>\n",
       "    <tr>\n",
       "      <th>26565</th>\n",
       "      <td>WASIR2::998</td>\n",
       "      <td>[rs535254974, rs1465620309, rs1897139356, rs18...</td>\n",
       "      <td>WASIR2</td>\n",
       "    </tr>\n",
       "    <tr>\n",
       "      <th>26566</th>\n",
       "      <td>WASIR2::999</td>\n",
       "      <td>[rs535254974, rs1465620309, rs1897139356, rs18...</td>\n",
       "      <td>WASIR2</td>\n",
       "    </tr>\n",
       "  </tbody>\n",
       "</table>\n",
       "<p>26567 rows × 3 columns</p>\n",
       "</div>"
      ],
      "text/plain": [
       "          oligo_id                                             snp_id  \\\n",
       "0         AARS1::1  [rs749554524, rs1295605832, rs755334113, rs373...   \n",
       "1        AARS1::10  [rs1388493313, rs147433234, rs749554524, rs129...   \n",
       "2       AARS1::100  [rs147433234, rs749554524, rs1295605832, rs755...   \n",
       "3      AARS1::1000  [rs1295970458, rs1960068371, rs762373456, rs12...   \n",
       "4      AARS1::1001  [rs774810867, rs1295970458, rs1960068371, rs76...   \n",
       "...            ...                                                ...   \n",
       "26562  WASIR2::995  [rs372330566, rs1897139288, rs535254974, rs146...   \n",
       "26563  WASIR2::996  [rs1897139288, rs535254974, rs1465620309, rs18...   \n",
       "26564  WASIR2::997  [rs1897139288, rs535254974, rs1465620309, rs18...   \n",
       "26565  WASIR2::998  [rs535254974, rs1465620309, rs1897139356, rs18...   \n",
       "26566  WASIR2::999  [rs535254974, rs1465620309, rs1897139356, rs18...   \n",
       "\n",
       "      region_id  \n",
       "0         AARS1  \n",
       "1         AARS1  \n",
       "2         AARS1  \n",
       "3         AARS1  \n",
       "4         AARS1  \n",
       "...         ...  \n",
       "26562    WASIR2  \n",
       "26563    WASIR2  \n",
       "26564    WASIR2  \n",
       "26565    WASIR2  \n",
       "26566    WASIR2  \n",
       "\n",
       "[26567 rows x 3 columns]"
      ]
     },
     "execution_count": 32,
     "metadata": {},
     "output_type": "execute_result"
    }
   ],
   "source": [
    "search_results = (\n",
    "    search_results.groupby(\"oligo_id\", as_index=False)\n",
    "      .agg({\n",
    "          \"snp_id\": list,             # store all matching snp_id entries as a list\n",
    "          \"region_id\": \"first\"        # or any aggregator (min, max, etc.) since they should be the same\n",
    "      })\n",
    ")\n",
    "search_results"
   ]
  },
  {
   "cell_type": "code",
   "execution_count": 37,
   "metadata": {},
   "outputs": [
    {
     "data": {
      "text/plain": [
       "['test', 'g', 'f']"
      ]
     },
     "execution_count": 37,
     "metadata": {},
     "output_type": "execute_result"
    }
   ],
   "source": [
    "li = []\n",
    "li.append(\"test\")\n",
    "li.extend([\"g\", \"f\"])\n",
    "li"
   ]
  },
  {
   "cell_type": "code",
   "execution_count": null,
   "metadata": {},
   "outputs": [],
   "source": [
    "oligo_database.load_database_from_fasta(\n",
    "    files_fasta=file_random_seqs,\n",
    "    sequence_type=\"oligo\",\n",
    "    region_ids=[\"random_sequences1\"],\n",
    "    database_overwrite=True,\n",
    ")\n",
    "oligo_database = attribute_calculator.calculate_reverse_complement_sequence(oligo_database=oligo_database,sequence_type=\"oligo\", sequence_type_reverse_complement=\"target\")\n",
    "oligo_database.load_database_from_fasta(\n",
    "    files_fasta=file_sliding_window,\n",
    "    sequence_type=\"target\",\n",
    "    region_ids=REGION_IDS,\n",
    "    database_overwrite=False,\n",
    ")\n",
    "oligo_database = attribute_calculator.calculate_reverse_complement_sequence(oligo_database=oligo_database,sequence_type=\"target\", sequence_type_reverse_complement=\"oligo\")\n",
    "\n",
    "assert len(oligo_database.database) > 0, \"error: no sequences loaded into database\""
   ]
  },
  {
   "cell_type": "code",
   "execution_count": null,
   "metadata": {},
   "outputs": [],
   "source": [
    "oligo_database = attribute_calculator.calculate_isoform_consensus(oligo_database=oligo_database)\n",
    "oligo_database = attribute_calculator.calculate_GC_content(oligo_database=oligo_database, sequence_type=\"oligo\")"
   ]
  },
  {
   "cell_type": "code",
   "execution_count": null,
   "metadata": {},
   "outputs": [],
   "source": [
    "oligo_database.load_database_from_table(FILE_DATABASE_OLIGO_ATTRIBUTES, database_overwrite=True, merge_databases_on_sequence_type=\"oligo\")\n",
    "print(oligo_database.database[\"region_1\"])\n",
    "print(oligo_database.database[\"region_2\"])\n",
    "print(oligo_database.database[\"region_3\"])"
   ]
  },
  {
   "cell_type": "code",
   "execution_count": null,
   "metadata": {},
   "outputs": [],
   "source": [
    "file_database = oligo_database.save_database(region_ids=[\"region_1\", \"region_2\"])\n",
    "oligo_database.load_database(file_database, database_overwrite=True)\n",
    "\n",
    "assert len(oligo_database.database.keys()) == 2, \"error: wrong number regions saved and loaded\""
   ]
  },
  {
   "cell_type": "code",
   "execution_count": null,
   "metadata": {},
   "outputs": [],
   "source": [
    "oligo_database.load_database_from_table(FILE_DATABASE_OLIGO_ATTRIBUTES, database_overwrite=True)\n",
    "oligo_database.filter_database_by_attribute_category(attribute_name=\"exon_number\", attribute_category=[\"1\",\"21\"], remove_if_equals_category=False)\n",
    "\n",
    "assert len(oligo_database.database[\"region_3\"]) == 3, \"error: wrong number of oligos removed\""
   ]
  },
  {
   "cell_type": "code",
   "execution_count": null,
   "metadata": {},
   "outputs": [],
   "source": [
    "attribute_calculator = OligoAttributes()\n",
    "oligo_database = attribute_calculator.calculate_isoform_consensus(oligo_database=oligo_database)\n",
    "oligo_database.filter_database_by_attribute_threshold(attribute_name=\"isoform_consensus\", attribute_thr=70, remove_if_smaller_threshold=True)\n",
    "\n",
    "assert len(oligo_database.database[\"region_1\"]) == 3, \"error: wrong number of oligos removed\""
   ]
  },
  {
   "cell_type": "code",
   "execution_count": null,
   "metadata": {},
   "outputs": [],
   "source": [
    "file_fasta = oligo_database.write_database_to_fasta(sequence_type=\"oligo\", save_description=False, filename=\"database_region1_region2\")\n",
    "\n",
    "assert fasta_parser.check_fasta_format(file_fasta) == True, f\"error: wrong file format for database in {file_fasta}\""
   ]
  },
  {
   "cell_type": "code",
   "execution_count": null,
   "metadata": {},
   "outputs": [],
   "source": [
    "oligo_database.load_database_from_fasta(\n",
    "    files_fasta=file_sliding_window,\n",
    "    sequence_type=\"target\",\n",
    "    region_ids=REGION_IDS,\n",
    "    database_overwrite=True,\n",
    ")\n",
    "oligo_database.load_database_from_fasta(\n",
    "    files_fasta=file_random_seqs,\n",
    "    sequence_type=\"oligo\",\n",
    "    database_overwrite=False,\n",
    ")\n",
    "\n",
    "oligo_database.remove_regions_with_insufficient_oligos(\"database_generation\")\n",
    "assert len(oligo_database.database.keys()) == (len(REGION_IDS) - 1 + 1), \"error: wrong number of regions in database\""
   ]
  },
  {
   "cell_type": "code",
   "execution_count": null,
   "metadata": {},
   "outputs": [],
   "source": [
    "oligo_database.load_database_from_fasta(\n",
    "    files_fasta=file_random_seqs,\n",
    "    sequence_type=\"oligo\",\n",
    "    database_overwrite=True,\n",
    ")\n",
    "\n",
    "list_sequences = oligo_database.get_sequence_list()\n",
    "assert len(list_sequences) == 100, \"error: wrong number of sequences in database\""
   ]
  },
  {
   "cell_type": "code",
   "execution_count": null,
   "metadata": {},
   "outputs": [],
   "source": [
    "oligo_database.load_database_from_table(\n",
    "    file_database=FILE_DATABASE_OLIGO_ATTRIBUTES,\n",
    "    region_ids=None,\n",
    "    database_overwrite=True,\n",
    ")\n",
    "\n",
    "mapping = oligo_database.get_sequence_oligoid_mapping(sequence_type=\"oligo\")\n",
    "assert len(mapping[\"CTCACTCGACTCTTACACAGTCATA\"]) == 4, \"error: wrong number of oligos for sequence\""
   ]
  },
  {
   "cell_type": "code",
   "execution_count": null,
   "metadata": {},
   "outputs": [],
   "source": [
    "oligo_database.load_database_from_table(\n",
    "    file_database=FILE_DATABASE_OLIGO_ATTRIBUTES,\n",
    "    region_ids=None,\n",
    "    database_overwrite=True,\n",
    ")\n",
    "attribute = oligo_database.get_oligo_attribute_table(attribute=\"test_attribute\")\n",
    "\n",
    "assert len(attribute[\"test_attribute\"].unique()) == 2, \"error: wrong attribute returned\""
   ]
  },
  {
   "cell_type": "code",
   "execution_count": null,
   "metadata": {},
   "outputs": [],
   "source": [
    "oligo_database.load_database_from_table(\n",
    "    file_database=FILE_DATABASE_OLIGO_ATTRIBUTES,\n",
    "    region_ids=\"region_3\",\n",
    "    database_overwrite=True,\n",
    ")\n",
    "new_attribute = {\n",
    "    \"region_3::1\": {\"GC_content\": 63},\n",
    "    \"region_3::2\": {\"GC_content\": 66},\n",
    "    \"region_3::3\": {\"GC_content\": 80},\n",
    "    \"region_3::4\": {\"GC_content\": 70},\n",
    "    \"region_3::5\": {\"GC_content\": 40},\n",
    "}\n",
    "oligo_database.update_oligo_attributes(new_attribute)\n",
    "attribute = oligo_database.get_oligo_attribute_table(attribute=\"GC_content\")\n",
    "\n",
    "assert len(attribute) == 5, \"error: attribute not correctly updated\""
   ]
  }
 ],
 "metadata": {
  "kernelspec": {
   "display_name": "odt-arm64",
   "language": "python",
   "name": "python3"
  },
  "language_info": {
   "codemirror_mode": {
    "name": "ipython",
    "version": 3
   },
   "file_extension": ".py",
   "mimetype": "text/x-python",
   "name": "python",
   "nbconvert_exporter": "python",
   "pygments_lexer": "ipython3",
   "version": "3.11.11"
  }
 },
 "nbformat": 4,
 "nbformat_minor": 2
}
