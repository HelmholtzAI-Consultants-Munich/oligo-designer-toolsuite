{
 "cells": [
  {
   "cell_type": "markdown",
   "metadata": {},
   "source": [
    "# Test Databases"
   ]
  },
  {
   "cell_type": "code",
   "execution_count": 1,
   "metadata": {},
   "outputs": [],
   "source": [
    "import os\n",
    "import shutil\n",
    "\n",
    "from oligo_designer_toolsuite.utils import FastaParser\n",
    "from oligo_designer_toolsuite.database import OligoDatabase, ReferenceDatabase, OligoAttributes\n",
    "from oligo_designer_toolsuite.sequence_generator import OligoSequenceGenerator"
   ]
  },
  {
   "cell_type": "markdown",
   "metadata": {},
   "source": [
    "## Setup"
   ]
  },
  {
   "cell_type": "code",
   "execution_count": 2,
   "metadata": {},
   "outputs": [],
   "source": [
    "# Global Parameters\n",
    "FILE_NCBI_EXONS = \"../../data/tests/annotations/sequences_ncbi_exons.fna\"\n",
    "FILE_DATABASE_OLIGO_ATTRIBUTES = \"../../data/tests/databases/database_oligo_attributes.fna\"\n",
    "\n",
    "METADATA = {\n",
    "    \"files_source\": \"NCBI\",\n",
    "    \"species\": \"Homo_sapiens\",\n",
    "    \"annotation_release\": \"110\",\n",
    "    \"genome_assembly\": \"GRCh38\",\n",
    "}\n",
    "\n",
    "REGION_IDS = [\n",
    "    \"AARS1\",\n",
    "    \"DECR2\",\n",
    "    \"FAM234A\",\n",
    "    \"RHBDF1\",\n",
    "    \"WASIR2\",\n",
    "    \"this_gene_does_not_exist\",\n",
    "]"
   ]
  },
  {
   "cell_type": "markdown",
   "metadata": {},
   "source": [
    "## Test Reference Database"
   ]
  },
  {
   "cell_type": "code",
   "execution_count": 3,
   "metadata": {},
   "outputs": [
    {
     "name": "stderr",
     "output_type": "stream",
     "text": [
      "/Users/lisa.barros/Desktop/oligo-designer-toolsuite/oligo_designer_toolsuite/database/_reference_database.py:88: UserWarning: Overwriting database!\n",
      "  warnings.warn(\"Overwriting database!\")\n"
     ]
    }
   ],
   "source": [
    "tmp_path = os.path.join(os.getcwd(), \"tmp_reference_database\")\n",
    "\n",
    "fasta_parser = FastaParser()\n",
    "\n",
    "reference = ReferenceDatabase(dir_output=tmp_path)\n",
    "reference.load_metadata(metadata=METADATA)\n",
    "reference.load_sequences_from_fasta(file_fasta=[FILE_NCBI_EXONS, FILE_NCBI_EXONS], database_overwrite=True)\n",
    "reference.load_sequences_from_fasta(file_fasta=FILE_NCBI_EXONS, database_overwrite=False)"
   ]
  },
  {
   "cell_type": "code",
   "execution_count": 4,
   "metadata": {},
   "outputs": [],
   "source": [
    "reference.filter_database(\"AARS1\", remove_region=True)\n",
    "for entry in reference.database:\n",
    "    region, _, _, = fasta_parser.parse_fasta_header(entry.id)\n",
    "    assert region != \"AARS1\", f\"error: this region {region} should be filtered out.\""
   ]
  },
  {
   "cell_type": "code",
   "execution_count": 5,
   "metadata": {},
   "outputs": [],
   "source": [
    "file_fasta_database = reference.write_database_to_fasta(filename=\"filtered_databse\")\n",
    "file_metadata_database = reference.write_metadata_to_yaml(filename=\"filtered_databse\")\n",
    "assert fasta_parser.check_fasta_format(file_fasta_database) == True, f\"error: wrong file format for database in {file_fasta_database}\""
   ]
  },
  {
   "cell_type": "code",
   "execution_count": 6,
   "metadata": {},
   "outputs": [],
   "source": [
    "shutil.rmtree(tmp_path)"
   ]
  },
  {
   "cell_type": "markdown",
   "metadata": {},
   "source": [
    "## Test Oligo Database"
   ]
  },
  {
   "cell_type": "code",
   "execution_count": 7,
   "metadata": {},
   "outputs": [],
   "source": [
    "tmp_path = os.path.join(os.getcwd(), \"tmp_oligo_database\")\n",
    "\n",
    "fasta_parser = FastaParser()\n",
    "oligo_sequence_generator = OligoSequenceGenerator(dir_output=tmp_path)\n",
    "oligo_database = OligoDatabase(min_oligos_per_region=2, write_regions_with_insufficient_oligos=True, dir_output=tmp_path)\n",
    "oligo_database.load_metadata(METADATA)\n",
    "\n",
    "file_random_seqs = oligo_sequence_generator.create_sequences_random(\n",
    "    filename_out=\"random_sequences1\",\n",
    "    length_sequences=30,\n",
    "    num_sequences=100,\n",
    "    name_sequences=\"random_sequences1\",\n",
    "    base_alphabet_with_probability={\"A\": 0.1, \"C\": 0.3, \"G\": 0.4, \"T\": 0.2},\n",
    ")\n",
    "\n",
    "file_sliding_window = oligo_sequence_generator.create_sequences_sliding_window(\n",
    "    filename_out=\"sliding_window_sequences\",\n",
    "    file_fasta_in=FILE_NCBI_EXONS,\n",
    "    length_interval_sequences=(30, 31),\n",
    ")\n"
   ]
  },
  {
   "cell_type": "code",
   "execution_count": 8,
   "metadata": {},
   "outputs": [
    {
     "name": "stderr",
     "output_type": "stream",
     "text": [
      "/Users/lisa.barros/Desktop/oligo-designer-toolsuite/oligo_designer_toolsuite/database/_oligo_database.py:225: UserWarning: Overwriting database!\n",
      "  warnings.warn(\"Overwriting database!\")\n",
      "/Users/lisa.barros/Desktop/oligo-designer-toolsuite/oligo_designer_toolsuite/utils/_database_processor.py:158: UserWarning: Region this_gene_does_not_exist not available in reference file.\n",
      "  warnings.warn(f\"Region {region_id} not available in reference file.\")\n"
     ]
    }
   ],
   "source": [
    "oligo_database.load_sequences_from_fasta(\n",
    "    file_fasta=file_random_seqs,\n",
    "    sequence_type=\"oligo\",\n",
    "    region_ids=[\"random_sequences1\"],\n",
    "    database_overwrite=True,\n",
    ")\n",
    "oligo_database.load_sequences_from_fasta(\n",
    "    file_fasta=file_sliding_window,\n",
    "    sequence_type=\"target\",\n",
    "    region_ids=REGION_IDS,\n",
    "    database_overwrite=False,\n",
    ")\n",
    "\n",
    "assert len(oligo_database.database) > 0, \"error: no sequences loaded into database\""
   ]
  },
  {
   "cell_type": "code",
   "execution_count": 9,
   "metadata": {},
   "outputs": [
    {
     "name": "stderr",
     "output_type": "stream",
     "text": [
      "/Users/lisa.barros/Desktop/oligo-designer-toolsuite/oligo_designer_toolsuite/database/_oligo_database.py:146: UserWarning: Overwriting database!\n",
      "  warnings.warn(\"Overwriting database!\")\n",
      "/Users/lisa.barros/Desktop/oligo-designer-toolsuite/oligo_designer_toolsuite/database/_oligo_database.py:105: UserWarning: Metadata not empty! Overwriting metadata with new metadata from file!\n",
      "  warnings.warn(\"Metadata not empty! Overwriting metadata with new metadata from file!\")\n",
      "/Users/lisa.barros/Desktop/oligo-designer-toolsuite/oligo_designer_toolsuite/database/_oligo_database.py:146: UserWarning: Overwriting database!\n",
      "  warnings.warn(\"Overwriting database!\")\n"
     ]
    }
   ],
   "source": [
    "oligo_database.load_database(FILE_DATABASE_OLIGO_ATTRIBUTES, database_overwrite=True)\n",
    "\n",
    "file_database, file_metadata = oligo_database.save_database(region_ids=[\"region_1\", \"region_2\"], filename=\"database_region1_region2\")\n",
    "\n",
    "oligo_database.load_metadata(file_metadata)\n",
    "oligo_database.load_database(file_database, database_overwrite=True)\n",
    "\n",
    "assert oligo_database.metadata[\"files_source\"] == \"NCBI\", \"error: wrong metadata loaded\"\n",
    "assert len(oligo_database.database.keys()) == 2, \"error: wrong number regions saved and loaded\""
   ]
  },
  {
   "cell_type": "code",
   "execution_count": 10,
   "metadata": {},
   "outputs": [],
   "source": [
    "file_fasta = oligo_database.write_database_to_fasta(filename=\"database_region1_region2\")\n",
    "\n",
    "assert fasta_parser.check_fasta_format(file_fasta) == True, f\"error: wrong file format for database in {file_fasta}\""
   ]
  },
  {
   "cell_type": "code",
   "execution_count": 11,
   "metadata": {},
   "outputs": [
    {
     "name": "stderr",
     "output_type": "stream",
     "text": [
      "/Users/lisa.barros/Desktop/oligo-designer-toolsuite/oligo_designer_toolsuite/database/_oligo_database.py:225: UserWarning: Overwriting database!\n",
      "  warnings.warn(\"Overwriting database!\")\n",
      "/Users/lisa.barros/Desktop/oligo-designer-toolsuite/oligo_designer_toolsuite/utils/_database_processor.py:158: UserWarning: Region this_gene_does_not_exist not available in reference file.\n",
      "  warnings.warn(f\"Region {region_id} not available in reference file.\")\n"
     ]
    }
   ],
   "source": [
    "oligo_database.load_sequences_from_fasta(\n",
    "    file_fasta=file_sliding_window,\n",
    "    sequence_type=\"target\",\n",
    "    region_ids=REGION_IDS,\n",
    "    database_overwrite=True,\n",
    ")\n",
    "oligo_database.load_sequences_from_fasta(\n",
    "    file_fasta=file_random_seqs,\n",
    "    sequence_type=\"oligo\",\n",
    "    database_overwrite=False,\n",
    ")\n",
    "\n",
    "oligo_database.remove_regions_with_insufficient_oligos(\"database_generation\")\n",
    "assert len(oligo_database.database.keys()) == (len(REGION_IDS) - 1 + 1), \"error: wrong number of regions in database\""
   ]
  },
  {
   "cell_type": "code",
   "execution_count": 12,
   "metadata": {},
   "outputs": [],
   "source": [
    "oligo_database.load_sequences_from_fasta(\n",
    "    file_fasta=file_random_seqs,\n",
    "    sequence_type=\"oligo\",\n",
    "    database_overwrite=True,\n",
    ")\n",
    "\n",
    "list_sequences = oligo_database.get_sequence_list()\n",
    "assert len(list_sequences) == 100, \"error: wrong number of sequences in database\""
   ]
  },
  {
   "cell_type": "code",
   "execution_count": 13,
   "metadata": {},
   "outputs": [
    {
     "name": "stderr",
     "output_type": "stream",
     "text": [
      "/Users/lisa.barros/Desktop/oligo-designer-toolsuite/oligo_designer_toolsuite/database/_oligo_database.py:146: UserWarning: Overwriting database!\n",
      "  warnings.warn(\"Overwriting database!\")\n"
     ]
    }
   ],
   "source": [
    "oligo_database.load_database(\n",
    "    file_database=FILE_DATABASE_OLIGO_ATTRIBUTES,\n",
    "    region_ids=None,\n",
    "    database_overwrite=True,\n",
    ")\n",
    "\n",
    "mapping = oligo_database.get_sequence_oligoid_mapping(sequence_type=\"oligo\")\n",
    "assert len(mapping[\"CTCACTCGACTCTTACACAGTCATA\"]) == 4, \"error: wrong number of oligos for sequence\""
   ]
  },
  {
   "cell_type": "code",
   "execution_count": 14,
   "metadata": {},
   "outputs": [
    {
     "name": "stderr",
     "output_type": "stream",
     "text": [
      "/Users/lisa.barros/Desktop/oligo-designer-toolsuite/oligo_designer_toolsuite/database/_oligo_database.py:146: UserWarning: Overwriting database!\n",
      "  warnings.warn(\"Overwriting database!\")\n"
     ]
    }
   ],
   "source": [
    "oligo_database.load_database(\n",
    "    file_database=FILE_DATABASE_OLIGO_ATTRIBUTES,\n",
    "    region_ids=None,\n",
    "    database_overwrite=True,\n",
    ")\n",
    "attribute = oligo_database.get_oligo_attribute(attribute=\"test_attribute\")\n",
    "\n",
    "assert len(attribute[\"test_attribute\"].unique()) == 2, \"error: wrong attribute returned\""
   ]
  },
  {
   "cell_type": "code",
   "execution_count": 15,
   "metadata": {},
   "outputs": [
    {
     "name": "stderr",
     "output_type": "stream",
     "text": [
      "/Users/lisa.barros/Desktop/oligo-designer-toolsuite/oligo_designer_toolsuite/database/_oligo_database.py:146: UserWarning: Overwriting database!\n",
      "  warnings.warn(\"Overwriting database!\")\n"
     ]
    }
   ],
   "source": [
    "oligo_database.load_database(\n",
    "    file_database=FILE_DATABASE_OLIGO_ATTRIBUTES,\n",
    "    region_ids=\"region_3\",\n",
    "    database_overwrite=True,\n",
    ")\n",
    "new_attribute = {\n",
    "    \"region_3::1\": {\"GC_content\": 63},\n",
    "    \"region_3::2\": {\"GC_content\": 66},\n",
    "    \"region_3::3\": {\"GC_content\": 80},\n",
    "    \"region_3::4\": {\"GC_content\": 70},\n",
    "    \"region_3::5\": {\"GC_content\": 40},\n",
    "}\n",
    "oligo_database.update_oligo_attributes(new_attribute)\n",
    "attribute = oligo_database.get_oligo_attribute(attribute=\"GC_content\")\n",
    "\n",
    "assert len(attribute) == 5, \"error: attribute not correctly updated\""
   ]
  }
 ],
 "metadata": {
  "kernelspec": {
   "display_name": "odt",
   "language": "python",
   "name": "python3"
  },
  "language_info": {
   "codemirror_mode": {
    "name": "ipython",
    "version": 3
   },
   "file_extension": ".py",
   "mimetype": "text/x-python",
   "name": "python",
   "nbconvert_exporter": "python",
   "pygments_lexer": "ipython3",
   "version": "3.10.13"
  }
 },
 "nbformat": 4,
 "nbformat_minor": 2
}
