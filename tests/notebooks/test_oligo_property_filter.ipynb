{
   "cells": [
      {
         "attachments": {},
         "cell_type": "markdown",
         "metadata": {},
         "source": [
            "## Test Property Filters"
         ]
      },
      {
         "cell_type": "code",
         "execution_count": 1,
         "metadata": {},
         "outputs": [],
         "source": [
            "\n",
            "from Bio.Seq import Seq\n",
            "from Bio.SeqUtils import MeltingTemp as mt\n",
            "\n",
            "from oligo_designer_toolsuite.oligo_property_filter import (\n",
            "    GCContent,\n",
            "    MaskedSequences,\n",
            "    MeltingTemperatureNN,\n",
            ")\n",
            "from oligo_designer_toolsuite.oligo_property_filter import (\n",
            "    PadlockArms,\n",
            ")\n",
            "from oligo_designer_toolsuite.oligo_property_filter import (\n",
            "    PropertyFilter,\n",
            ")"
         ]
      },
      {
         "cell_type": "code",
         "execution_count": 2,
         "metadata": {},
         "outputs": [],
         "source": [
            "## Melting temp parameters\n",
            "\n",
            "\n",
            "Tm_parameters = {\n",
            "    \"check\": True,\n",
            "    \"strict\": True,\n",
            "    \"c_seq\": None,\n",
            "    \"shift\": 0,\n",
            "    \"nn_table\": getattr(mt, \"DNA_NN3\"),\n",
            "    \"tmm_table\": getattr(mt, \"DNA_TMM1\"),\n",
            "    \"imm_table\": getattr(mt, \"DNA_IMM1\"),\n",
            "    \"de_table\": getattr(mt, \"DNA_DE1\"),\n",
            "    \"dnac1\": 50,  # [nM]\n",
            "    \"dnac2\": 0,\n",
            "    \"selfcomp\": False,\n",
            "    \"dNTPs\": 0,\n",
            "    \"saltcorr\": 7,\n",
            "    \"Na\": 1.25,  # [mM]\n",
            "    \"K\": 75,  # [mM]\n",
            "    \"Tris\": 20,  # [mM]\n",
            "    \"Mg\": 10,  # [mM]\n",
            "}\n",
            "\n",
            "Tm_chem_correction_parameters = {\n",
            "    \"DMSO\": 0,\n",
            "    \"DMSOfactor\": 0.75,\n",
            "    \"fmdfactor\": 0.65,\n",
            "    \"fmdmethod\": 1,\n",
            "    \"GC\": None,\n",
            "    \"fmd\": 20,\n",
            "}"
         ]
      },
      {
         "attachments": {},
         "cell_type": "markdown",
         "metadata": {},
         "source": [
            "### Test masked Sequences"
         ]
      },
      {
         "cell_type": "code",
         "execution_count": 3,
         "metadata": {},
         "outputs": [],
         "source": [
            "masked_sequences_filter = MaskedSequences(mask=\"N\")\n",
            "\n",
            "seq_remove = Seq(\"TGTCGGATCTCNTCAACAAGCTGGTCNTGA\")\n",
            "res, _ = masked_sequences_filter.apply(seq_remove)\n",
            "assert (\n",
            "    res == False\n",
            "), f\"error: A sequence ({seq_remove}) not fulfilling the mask condition has been accepted!\"\n",
            "\n",
            "seq_keep = Seq(\"TGTCGGATCTCTTCAACAAGCTGGTCATGA\")\n",
            "res, _ = masked_sequences_filter.apply(seq_keep)\n",
            "assert (\n",
            "    res == True\n",
            "), f\"error: A sequence ({seq_keep}) fulfilling the mask conditions has not been accepted!\""
         ]
      },
      {
         "attachments": {},
         "cell_type": "markdown",
         "metadata": {},
         "source": [
            "### Test GC content filter"
         ]
      },
      {
         "cell_type": "code",
         "execution_count": 4,
         "metadata": {},
         "outputs": [],
         "source": [
            "GC_content_filter = GCContent(GC_content_min=40, GC_content_max=60)\n",
            "\n",
            "seq_remove = Seq(\"TCGGGCGGGAGATCCAGGTGGCGCGCAAAG\")\n",
            "res, _ = GC_content_filter.apply(seq_remove)\n",
            "assert (\n",
            "    res == False\n",
            "), f\"error: A sequence ({seq_remove}) not fulfilling the GC content condition has been accepted!\"\n",
            "\n",
            "seq_keep = Seq(\"TGTCGGATCTCTTCAACAAGCTGGTCATGA\")\n",
            "res, _ = GC_content_filter.apply(seq_keep)\n",
            "assert (\n",
            "    res == True\n",
            "), f\"error: A sequence ({seq_keep}) fulfilling the GC content conditions has not been accepted!\""
         ]
      },
      {
         "attachments": {},
         "cell_type": "markdown",
         "metadata": {},
         "source": [
            "### Test melting Temperature Filter"
         ]
      },
      {
         "cell_type": "code",
         "execution_count": 5,
         "metadata": {},
         "outputs": [],
         "source": [
            "# Test if Tm filter works with default parameters\n",
            "Tm_filter = MeltingTemperatureNN(Tm_min=52, Tm_max=67, Tm_parameters={})\n",
            "\n",
            "seq_remove = Seq(\"TGGCTTGGGCCTTTCCAAGCCCCCATTTGAGCT\")\n",
            "res, _ = Tm_filter.apply(seq_remove)\n",
            "assert (\n",
            "    res == False\n",
            "), f\"error: A sequence ({seq_remove}) not fulfilling the Tm condition with has been accepted!\"\n",
            "\n",
            "seq_keep = Seq(\"TGTCGGATCTCTTCAACAAGCTGGTCATGA\")\n",
            "res, _ = Tm_filter.apply(seq_keep)\n",
            "assert (\n",
            "    res == True\n",
            "), f\"error: A sequence ({seq_keep}) fulfilling the Tm conditions has not been accepted!\"\n",
            "\n",
            "# Test if Tm filter works with user-defined Tm parameters\n",
            "Tm_filter = MeltingTemperatureNN(\n",
            "    Tm_min=52,\n",
            "    Tm_max=67,\n",
            "    Tm_parameters=Tm_parameters,\n",
            "    Tm_chem_correction_parameters=Tm_chem_correction_parameters,\n",
            ")\n",
            "\n",
            "seq_remove = Seq(\"TGGCTTGGGCCTTTCCAAGCCCCCATTTGAGCT\")\n",
            "res, _ = Tm_filter.apply(seq_remove)\n",
            "assert (\n",
            "    res == False\n",
            "), f\"error: A sequence ({seq_remove}) not fulfilling the Tm condition with user-defined parameters has been accepted!\"\n",
            "\n",
            "seq_keep = Seq(\"TGTCGGATCTCTTCAACAAGCTGGTCATGA\")\n",
            "res, _ = Tm_filter.apply(seq_keep)\n",
            "assert (\n",
            "    res == True\n",
            "), f\"error: A sequence ({seq_keep}) fulfilling the Tm conditions with user-defined parameters has not been accepted!\""
         ]
      }
   ],
   "metadata": {
      "kernelspec": {
         "display_name": "ODT",
         "language": "python",
         "name": "python3"
      },
      "language_info": {
         "codemirror_mode": {
            "name": "ipython",
            "version": 3
         },
         "file_extension": ".py",
         "mimetype": "text/x-python",
         "name": "python",
         "nbconvert_exporter": "python",
         "pygments_lexer": "ipython3",
         "version": "3.9.15"
      },
      "orig_nbformat": 4,
      "vscode": {
         "interpreter": {
            "hash": "a7f4130ed83df3b8f06d6c345c87a414b57058a10ea01094325e8ae4cc394d7d"
         }
      }
   },
   "nbformat": 4,
   "nbformat_minor": 2
}