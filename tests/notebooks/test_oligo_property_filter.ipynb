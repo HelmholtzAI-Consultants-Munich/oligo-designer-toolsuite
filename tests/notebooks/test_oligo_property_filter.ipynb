{
   "cells": [
      {
         "attachments": {},
         "cell_type": "markdown",
         "metadata": {},
         "source": [
            "# Test Property Filters"
         ]
      },
      {
         "cell_type": "markdown",
         "metadata": {},
         "source": [
            "## Import Packages"
         ]
      },
      {
         "cell_type": "code",
         "execution_count": 1,
         "metadata": {},
         "outputs": [],
         "source": [
            "\n",
            "from Bio.Seq import Seq\n",
            "from Bio.SeqUtils import MeltingTemp as mt\n",
            "\n",
            "from oligo_designer_toolsuite.oligo_property_filter import PropertyFilter\n",
            "\n",
            "from oligo_designer_toolsuite.oligo_property_filter import (\n",
            "    SoftMaskedSequenceFilter,\n",
            "    HardMaskedSequenceFilter,\n",
            "    ProhibitedSequenceFilter,\n",
            "    HomopolymericRunsFilter,\n",
            "    ThreePrimeSequenceFilter,\n",
            "    FivePrimeSequenceFilter,\n",
            "    GCContentFilter,\n",
            "    GCClampFilter,\n",
            "    MeltingTemperatureNNFilter,\n",
            "    HomodimerFilter,\n",
            "    SecondaryStructureFilter,\n",
            ")\n",
            "from oligo_designer_toolsuite.oligo_property_filter import PadlockArmsFilter\n"
         ]
      },
      {
         "cell_type": "markdown",
         "metadata": {},
         "source": [
            "## Define Parameters"
         ]
      },
      {
         "cell_type": "code",
         "execution_count": 2,
         "metadata": {},
         "outputs": [],
         "source": [
            "## Melting temp parameters\n",
            "\n",
            "Tm_parameters = {\n",
            "    \"check\": True,\n",
            "    \"strict\": True,\n",
            "    \"c_seq\": None,\n",
            "    \"shift\": 0,\n",
            "    \"nn_table\": getattr(mt, \"DNA_NN3\"),\n",
            "    \"tmm_table\": getattr(mt, \"DNA_TMM1\"),\n",
            "    \"imm_table\": getattr(mt, \"DNA_IMM1\"),\n",
            "    \"de_table\": getattr(mt, \"DNA_DE1\"),\n",
            "    \"dnac1\": 50,  # [nM]\n",
            "    \"dnac2\": 0,\n",
            "    \"selfcomp\": False,\n",
            "    \"saltcorr\": 7,\n",
            "    \"Na\": 50,  # [mM]\n",
            "    \"K\": 75,  # [mM]\n",
            "    \"Tris\": 20,  # [mM]\n",
            "    \"Mg\": 10,  # [mM]\n",
            "    \"dNTPs\": 0,\n",
            "}\n",
            "\n",
            "Tm_chem_correction_parameters = {\n",
            "    \"DMSO\": 0,\n",
            "    \"DMSOfactor\": 0.75,\n",
            "    \"fmdfactor\": 0.65,\n",
            "    \"fmdmethod\": 1,\n",
            "    \"GC\": None,\n",
            "    \"fmd\": 20,\n",
            "}\n",
            "\n",
            "Tm_salt_correction_parameters = {\n",
            "    \"method\": 7,\n",
            "    \"Na\": 50,  # [mM]\n",
            "    \"K\": 75,  # [mM]\n",
            "    \"Tris\": 20,  # [mM]\n",
            "    \"Mg\": 10,  # [mM]\n",
            "    \"dNTPs\": 0,\n",
            "}"
         ]
      },
      {
         "attachments": {},
         "cell_type": "markdown",
         "metadata": {},
         "source": [
            "## Test Masked Sequences"
         ]
      },
      {
         "cell_type": "code",
         "execution_count": 3,
         "metadata": {},
         "outputs": [
            {
               "name": "stdout",
               "output_type": "stream",
               "text": [
                  "{}\n"
               ]
            }
         ],
         "source": [
            "softmasked_sequence_filter = SoftMaskedSequenceFilter()\n",
            "\n",
            "seq_remove = Seq(\"TGTCGGATCTCcTCAACAAGCTGGTCtTGA\")\n",
            "res, _ = softmasked_sequence_filter.apply(seq_remove)\n",
            "assert (\n",
            "    res == False\n",
            "), f\"error: A sequence ({seq_remove}) not fulfilling the condition has been accepted!\"\n",
            "\n",
            "seq_keep = Seq(\"TGTCGGATCTCTTCAACAAGCTGGTCATGA\")\n",
            "res, feature = softmasked_sequence_filter.apply(seq_keep)\n",
            "assert (\n",
            "    res == True\n",
            "), f\"error: A sequence ({seq_keep}) fulfilling the conditions has not been accepted!\"\n",
            "print(feature)"
         ]
      },
      {
         "cell_type": "code",
         "execution_count": 4,
         "metadata": {},
         "outputs": [
            {
               "name": "stdout",
               "output_type": "stream",
               "text": [
                  "{}\n",
                  "{}\n"
               ]
            }
         ],
         "source": [
            "hardmasked_sequence_filter1 = HardMaskedSequenceFilter(mask=\"N\")\n",
            "\n",
            "seq_remove = Seq(\"TGTCGGATCTCNTCAACAAGCTGGTCNTGA\")\n",
            "res, _ = hardmasked_sequence_filter1.apply(seq_remove)\n",
            "assert (\n",
            "    res == False\n",
            "), f\"error: A sequence ({seq_remove}) not fulfilling the condition has been accepted!\"\n",
            "\n",
            "seq_keep = Seq(\"TGTCGGATCTCTTCAACAAGCTGGTCATGA\")\n",
            "res, feature = hardmasked_sequence_filter1.apply(seq_keep)\n",
            "assert (\n",
            "    res == True\n",
            "), f\"error: A sequence ({seq_keep}) fulfilling the conditions has not been accepted!\"\n",
            "print(feature)\n",
            "\n",
            "\n",
            "hardmasked_sequence_filter2 = HardMaskedSequenceFilter(mask=\"Q\")\n",
            "\n",
            "seq_remove = Seq(\"TGTCGGATCTCQTCAACAAGCTGGTCQTGA\")\n",
            "res, _ = hardmasked_sequence_filter2.apply(seq_remove)\n",
            "assert (\n",
            "    res == False\n",
            "), f\"error: A sequence ({seq_remove}) not fulfilling the condition has been accepted!\"\n",
            "\n",
            "seq_keep = Seq(\"TGTCGGATCTCTNNAACAAGCTGGTCATGA\")\n",
            "res, feature = hardmasked_sequence_filter2.apply(seq_keep)\n",
            "assert (\n",
            "    res == True\n",
            "), f\"error: A sequence ({seq_keep}) fulfilling the conditions has not been accepted!\"\n",
            "print(feature)"
         ]
      },
      {
         "cell_type": "markdown",
         "metadata": {},
         "source": [
            "## Test Sequence Content"
         ]
      },
      {
         "cell_type": "code",
         "execution_count": 5,
         "metadata": {},
         "outputs": [
            {
               "name": "stdout",
               "output_type": "stream",
               "text": [
                  "{}\n"
               ]
            }
         ],
         "source": [
            "prohibited_sequence_filter = ProhibitedSequenceFilter(prohibited_sequence=\"ACT\")\n",
            "\n",
            "seq_remove = Seq(\"GGGGGGGGGGGGGGACT\")\n",
            "res, _ = prohibited_sequence_filter.apply(seq_remove)\n",
            "assert (\n",
            "    res == False\n",
            "), f\"error: A sequence ({seq_remove}) not fulfilling the condition has been accepted!\"\n",
            "\n",
            "seq_keep = Seq(\"GGGGGGGGGGGGGGATC\")\n",
            "res, feature = prohibited_sequence_filter.apply(seq_keep)\n",
            "assert (\n",
            "    res == True\n",
            "), f\"error: A sequence ({seq_keep}) fulfilling the conditions has not been accepted!\"\n",
            "print(feature)"
         ]
      },
      {
         "cell_type": "code",
         "execution_count": 6,
         "metadata": {},
         "outputs": [
            {
               "name": "stdout",
               "output_type": "stream",
               "text": [
                  "{}\n"
               ]
            }
         ],
         "source": [
            "homopolymeric_run_filter = HomopolymericRunsFilter(base=\"A\", n=4)\n",
            "\n",
            "seq_remove = Seq(\"GGGGGGGGGGGGGGAAAAA\")\n",
            "res, _ = homopolymeric_run_filter.apply(seq_remove)\n",
            "assert (\n",
            "    res == False\n",
            "), f\"error: A sequence ({seq_remove}) not fulfilling the condition has been accepted!\"\n",
            "\n",
            "seq_keep = Seq(\"GGGGGGGGGGGGGGAAA\")\n",
            "res, feature = homopolymeric_run_filter.apply(seq_keep)\n",
            "assert (\n",
            "    res == True\n",
            "), f\"error: A sequence ({seq_keep}) fulfilling the conditions has not been accepted!\"\n",
            "print(feature)"
         ]
      },
      {
         "cell_type": "code",
         "execution_count": 7,
         "metadata": {},
         "outputs": [
            {
               "name": "stdout",
               "output_type": "stream",
               "text": [
                  "{}\n"
               ]
            }
         ],
         "source": [
            "three_prime_filter = ThreePrimeSequenceFilter(three_prime_sequence=\"TT\", remove=False)\n",
            "\n",
            "seq_remove = Seq(\"GGGGGGGGGGGGGGAAAAA\")\n",
            "res, _ = three_prime_filter.apply(seq_remove)\n",
            "assert (\n",
            "    res == False\n",
            "), f\"error: A sequence ({seq_remove}) not fulfilling the condition has been accepted!\"\n",
            "\n",
            "seq_keep = Seq(\"GGGGGGGGGGGGGGAAATT\")\n",
            "res, feature = three_prime_filter.apply(seq_keep)\n",
            "assert (\n",
            "    res == True\n",
            "), f\"error: A sequence ({seq_keep}) fulfilling the conditions has not been accepted!\"\n",
            "print(feature)"
         ]
      },
      {
         "cell_type": "code",
         "execution_count": 8,
         "metadata": {},
         "outputs": [
            {
               "name": "stdout",
               "output_type": "stream",
               "text": [
                  "{}\n"
               ]
            }
         ],
         "source": [
            "five_prime_filter = FivePrimeSequenceFilter(five_prime_sequence=\"TT\", remove=True)\n",
            "\n",
            "seq_remove = Seq(\"TTGGGGGGGGGGGGGGAAAAA\")\n",
            "res, _ = five_prime_filter.apply(seq_remove)\n",
            "assert (\n",
            "    res == False\n",
            "), f\"error: A sequence ({seq_remove}) not fulfilling the condition has been accepted!\"\n",
            "\n",
            "seq_keep = Seq(\"GGGGGGGGGGGGGGAAATT\")\n",
            "res, feature = five_prime_filter.apply(seq_keep)\n",
            "assert (\n",
            "    res == True\n",
            "), f\"error: A sequence ({seq_keep}) fulfilling the conditions has not been accepted!\"\n",
            "print(feature)"
         ]
      },
      {
         "attachments": {},
         "cell_type": "markdown",
         "metadata": {},
         "source": [
            "## Test GC content"
         ]
      },
      {
         "cell_type": "code",
         "execution_count": 9,
         "metadata": {},
         "outputs": [
            {
               "name": "stdout",
               "output_type": "stream",
               "text": [
                  "{'GC_content': 46.6667}\n"
               ]
            }
         ],
         "source": [
            "GC_content_filter = GCContentFilter(GC_content_min=40, GC_content_max=60)\n",
            "\n",
            "seq_remove = Seq(\"TCGGGCGGGAGATCCAGGTGGCGCGCAAAG\")\n",
            "res, _ = GC_content_filter.apply(seq_remove)\n",
            "assert (\n",
            "    res == False\n",
            "), f\"error: A sequence ({seq_remove}) not fulfilling the condition has been accepted!\"\n",
            "\n",
            "seq_keep = Seq(\"TGTCGGATCTCTTCAACAAGCTGGTCATGA\")\n",
            "res, feature = GC_content_filter.apply(seq_keep)\n",
            "assert (\n",
            "    res == True\n",
            "), f\"error: A sequence ({seq_keep}) fulfilling the conditions has not been accepted!\"\n",
            "print(feature)"
         ]
      },
      {
         "cell_type": "code",
         "execution_count": 10,
         "metadata": {},
         "outputs": [
            {
               "name": "stdout",
               "output_type": "stream",
               "text": [
                  "{}\n"
               ]
            }
         ],
         "source": [
            "GC_clamp_filter = GCClampFilter(n_bases=3, n_GC=1)\n",
            "\n",
            "seq_remove = Seq(\"TCGGGCGGGAGATCCAGGTGGCGCGCAAAAA\")\n",
            "res, _ = GC_clamp_filter.apply(seq_remove)\n",
            "assert (\n",
            "    res == False\n",
            "), f\"error: A sequence ({seq_remove}) not fulfilling the condition has been accepted!\"\n",
            "\n",
            "seq_keep = Seq(\"TGTCGGATCTCTTCAACAAGCTGGTCATGAA\")\n",
            "res, feature = GC_clamp_filter.apply(seq_keep)\n",
            "assert (\n",
            "    res == True\n",
            "), f\"error: A sequence ({seq_keep}) fulfilling the conditions has not been accepted!\"\n",
            "print(feature)"
         ]
      },
      {
         "attachments": {},
         "cell_type": "markdown",
         "metadata": {},
         "source": [
            "## Test Sequence Structure"
         ]
      },
      {
         "cell_type": "code",
         "execution_count": 11,
         "metadata": {},
         "outputs": [
            {
               "name": "stdout",
               "output_type": "stream",
               "text": [
                  "{'melting_temperature': 61.405}\n",
                  "{'melting_temperature': 63.4241}\n"
               ]
            }
         ],
         "source": [
            "# Test if Tm filter works with default parameters\n",
            "Tm_filter1 = MeltingTemperatureNNFilter(Tm_min=52, Tm_max=67, Tm_parameters={})\n",
            "\n",
            "seq_remove = Seq(\"TGGCTTGGGCCTTTCCAAGCCCCCATTTGAGCT\")\n",
            "res, _ = Tm_filter1.apply(seq_remove)\n",
            "assert (\n",
            "    res == False\n",
            "), f\"error: A sequence ({seq_remove}) not fulfilling the condition with has been accepted!\"\n",
            "\n",
            "seq_keep = Seq(\"TGTCGGATCTCTTCAACAAGCTGGTCATGA\")\n",
            "res, feature = Tm_filter1.apply(seq_keep)\n",
            "assert (\n",
            "    res == True\n",
            "), f\"error: A sequence ({seq_keep}) fulfilling the conditions has not been accepted!\"\n",
            "print(feature)\n",
            "\n",
            "# Test if Tm filter works with user-defined Tm parameters\n",
            "Tm_filter2 = MeltingTemperatureNNFilter(\n",
            "    Tm_min=52,\n",
            "    Tm_max=67,\n",
            "    Tm_parameters=Tm_parameters,\n",
            "    Tm_chem_correction_parameters=Tm_chem_correction_parameters,\n",
            "    Tm_salt_correction_parameters=Tm_salt_correction_parameters,\n",
            ")\n",
            "\n",
            "seq_remove = Seq(\"TGGCTTGGGCCTTTCCAAGCCCCCATTTGAGCT\")\n",
            "res, _ = Tm_filter2.apply(seq_remove)\n",
            "assert (\n",
            "    res == False\n",
            "), f\"error: A sequence ({seq_remove}) not fulfilling the condition with user-defined parameters has been accepted!\"\n",
            "\n",
            "seq_keep = Seq(\"TGGCTTGGGCCTTTCCAAGCCCCCATTTAAAAA\")\n",
            "res, feature = Tm_filter2.apply(seq_keep)\n",
            "assert (\n",
            "    res == True\n",
            "), f\"error: A sequence ({seq_keep}) fulfilling the conditions with user-defined parameters has not been accepted!\"\n",
            "print(feature)"
         ]
      },
      {
         "cell_type": "code",
         "execution_count": 12,
         "metadata": {},
         "outputs": [
            {
               "name": "stdout",
               "output_type": "stream",
               "text": [
                  "{'secondary_structure_DG': 0.5}\n"
               ]
            }
         ],
         "source": [
            "secondary_structure_filter = SecondaryStructureFilter(T=37, thr_DG=0)\n",
            "\n",
            "seq_remove = Seq(\"TGGCTTGGGCCTTTCCAAGCCCCCATTTGAGCT\")\n",
            "res, _ = secondary_structure_filter.apply(seq_remove)\n",
            "assert (\n",
            "    res == False\n",
            "), f\"error: A sequence ({seq_remove}) not fulfilling the condition with has been accepted!\"\n",
            "\n",
            "seq_keep = Seq(\"TGTCGGATCTCTTCAACAAGCTGGTCATGA\")\n",
            "res, feature = secondary_structure_filter.apply(seq_keep)\n",
            "assert (\n",
            "    res == True\n",
            "), f\"error: A sequence ({seq_keep}) fulfilling the conditions has not been accepted!\"\n",
            "print(feature)"
         ]
      },
      {
         "cell_type": "code",
         "execution_count": 13,
         "metadata": {},
         "outputs": [
            {
               "name": "stdout",
               "output_type": "stream",
               "text": [
                  "{'secondary_structure_DG': 0.5}\n"
               ]
            }
         ],
         "source": [
            "secondary_structure_filter = SecondaryStructureFilter(T=37, thr_DG=0)\n",
            "\n",
            "seq_remove = Seq(\"TGGCTTGGGCCTTTCCAAGCCCCCATTTGAGCT\")\n",
            "res, _ = secondary_structure_filter.apply(seq_remove)\n",
            "assert (\n",
            "    res == False\n",
            "), f\"error: A sequence ({seq_remove}) not fulfilling the condition with has been accepted!\"\n",
            "\n",
            "seq_keep = Seq(\"TGTCGGATCTCTTCAACAAGCTGGTCATGA\")\n",
            "res, feature = secondary_structure_filter.apply(seq_keep)\n",
            "assert (\n",
            "    res == True\n",
            "), f\"error: A sequence ({seq_keep}) fulfilling the conditions has not been accepted!\"\n",
            "print(feature)"
         ]
      },
      {
         "cell_type": "markdown",
         "metadata": {},
         "source": [
            "## Test Padlock Arms"
         ]
      },
      {
         "cell_type": "code",
         "execution_count": 14,
         "metadata": {},
         "outputs": [
            {
               "name": "stdout",
               "output_type": "stream",
               "text": [
                  "{'arm1_Tm': 51.3523, 'arm2_Tm': 50.375, 'arms_Tm_dif': 0.98, 'ligation_site': 16}\n"
               ]
            }
         ],
         "source": [
            "padlock_arms_filter = PadlockArmsFilter(arm_length_min = 5, arm_Tm_dif_max = 5, arm_Tm_min = 40, arm_Tm_max = 60, Tm_parameters = Tm_parameters, Tm_salt_correction_parameters = Tm_salt_correction_parameters, Tm_chem_correction_parameters = Tm_chem_correction_parameters)\n",
            "\n",
            "seq_remove = Seq(\"TGTCGGATCTCTTCAACAAGCTGGTCAT\")\n",
            "res, _ = padlock_arms_filter.apply(seq_remove)\n",
            "assert (\n",
            "    res == False\n",
            "), f\"error: A sequence ({seq_remove}) not fulfilling the condition with has been accepted!\"\n",
            "\n",
            "seq_keep = Seq(\"TGGCTTGGGCCTTTCCAAGCCCCCATTTGAGCT\")\n",
            "res, feature = padlock_arms_filter.apply(seq_keep)\n",
            "assert (\n",
            "    res == True\n",
            "), f\"error: A sequence ({seq_keep}) fulfilling the conditions has not been accepted!\"\n",
            "print(feature)"
         ]
      }
   ],
   "metadata": {
      "kernelspec": {
         "display_name": "ODT",
         "language": "python",
         "name": "python3"
      },
      "language_info": {
         "codemirror_mode": {
            "name": "ipython",
            "version": 3
         },
         "file_extension": ".py",
         "mimetype": "text/x-python",
         "name": "python",
         "nbconvert_exporter": "python",
         "pygments_lexer": "ipython3",
         "version": "3.10.13"
      },
      "orig_nbformat": 4,
      "vscode": {
         "interpreter": {
            "hash": "a7f4130ed83df3b8f06d6c345c87a414b57058a10ea01094325e8ae4cc394d7d"
         }
      }
   },
   "nbformat": 4,
   "nbformat_minor": 2
}
