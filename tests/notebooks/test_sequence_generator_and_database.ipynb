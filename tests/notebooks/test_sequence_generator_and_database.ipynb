{
 "cells": [
  {
   "attachments": {},
   "cell_type": "markdown",
   "metadata": {},
   "source": [
    "## Test Sequence Generator"
   ]
  },
  {
   "cell_type": "code",
   "execution_count": 1,
   "metadata": {},
   "outputs": [],
   "source": [
    "import os\n",
    "import shutil\n",
    "import pandas as pd\n",
    "pd.set_option('display.max_columns', None)\n",
    "\n",
    "from oligo_designer_toolsuite.sequence_generator import CustomGenomicRegionGenerator, NcbiGenomicRegionGenerator, FtpLoaderEnsembl, FtpLoaderNCBI"
   ]
  },
  {
   "cell_type": "markdown",
   "metadata": {},
   "source": [
    "### FTP Loader"
   ]
  },
  {
   "cell_type": "code",
   "execution_count": 2,
   "metadata": {},
   "outputs": [
    {
     "name": "stdout",
     "output_type": "stream",
     "text": [
      "('/Users/lisa.barros/Desktop/oligo-designer-toolsuite/tests/output/Homo_sapiens.GRCh38.108.gff3', '108', 'GRCh38')\n",
      "('/Users/lisa.barros/Desktop/oligo-designer-toolsuite/tests/output/Homo_sapiens.GRCh38.108.gtf', '108', 'GRCh38')\n",
      "('/Users/lisa.barros/Desktop/oligo-designer-toolsuite/tests/output/Homo_sapiens.GRCh38.dna_sm.primary_assembly.fa', '108', 'GRCh38')\n"
     ]
    }
   ],
   "source": [
    "##### Test Loader Ensemble\n",
    "\n",
    "#Parameters\n",
    "dir_output = os.path.join(os.path.dirname(os.getcwd()), 'output') # create the complete path for the output directory\n",
    "\n",
    "species= 'homo_sapiens' # available species: human or mouse\n",
    "annotation_release= '108'\n",
    "\n",
    "#initialize\n",
    "loader_ensemble=FtpLoaderEnsembl(dir_output, species, annotation_release)\n",
    "\n",
    "#retrieve files\n",
    "print(loader_ensemble.download_files(\"gff\"))\n",
    "print(loader_ensemble.download_files(\"gtf\"))\n",
    "print(loader_ensemble.download_files(\"fasta\"))\n",
    "\n",
    "shutil.rmtree(dir_output)"
   ]
  },
  {
   "cell_type": "code",
   "execution_count": 3,
   "metadata": {},
   "outputs": [
    {
     "name": "stdout",
     "output_type": "stream",
     "text": [
      "('/Users/lisa.barros/Desktop/oligo-designer-toolsuite/tests/output/GCF_000001405.40_GRCh38.p14_genomic.gff', '110', 'GRCh38.p14')\n",
      "('/Users/lisa.barros/Desktop/oligo-designer-toolsuite/tests/output/GCF_000001405.40_GRCh38.p14_genomic.gtf', '110', 'GRCh38.p14')\n",
      "('/Users/lisa.barros/Desktop/oligo-designer-toolsuite/tests/output/GCF_000001405.40_GRCh38.p14_genomic.fna', '110', 'GRCh38.p14')\n"
     ]
    }
   ],
   "source": [
    "##### Test Loader NCBI\n",
    "\n",
    "## Test for release <= 110\n",
    "#Parameters\n",
    "dir_output = os.path.join(os.path.dirname(os.getcwd()), 'output') # create the complete path for the output directory\n",
    "\n",
    "taxon = 'vertebrate_mammalian' # taxon the species belongs to\n",
    "species= 'Homo_sapiens' # available species: human or mouse\n",
    "annotation_release= '110'\n",
    "\n",
    "#initialize\n",
    "loader_ncbi=FtpLoaderNCBI(dir_output, taxon, species, annotation_release)\n",
    "\n",
    "#retrieve files\n",
    "print(loader_ncbi.download_files(\"gff\"))\n",
    "print(loader_ncbi.download_files(\"gtf\"))\n",
    "print(loader_ncbi.download_files(\"fasta\"))\n",
    "\n",
    "shutil.rmtree(dir_output)"
   ]
  },
  {
   "cell_type": "code",
   "execution_count": 5,
   "metadata": {},
   "outputs": [
    {
     "name": "stdout",
     "output_type": "stream",
     "text": [
      "('/Users/lisa.barros/Desktop/oligo-designer-toolsuite/tests/output/GCF_000001405.40_GRCh38.p14_genomic.gff', 'GCF_000001405.40-RS_2023_10', 'GRCh38.p14')\n",
      "('/Users/lisa.barros/Desktop/oligo-designer-toolsuite/tests/output/GCF_000001405.40_GRCh38.p14_genomic.gtf', 'GCF_000001405.40-RS_2023_10', 'GRCh38.p14')\n",
      "('/Users/lisa.barros/Desktop/oligo-designer-toolsuite/tests/output/GCF_000001405.40_GRCh38.p14_genomic.fna', 'GCF_000001405.40-RS_2023_10', 'GRCh38.p14')\n"
     ]
    }
   ],
   "source": [
    "## Test for release > 110 -> changed folder structure\n",
    "#Parameters\n",
    "dir_output = os.path.join(os.path.dirname(os.getcwd()), 'output') # create the complete path for the output directory\n",
    "\n",
    "taxon = 'vertebrate_mammalian' # taxon the species belongs to\n",
    "species= 'Homo_sapiens' # available species: human or mouse\n",
    "annotation_release= 'current'\n",
    "\n",
    "#initialize\n",
    "loader_ncbi=FtpLoaderNCBI(dir_output, taxon, species, annotation_release)\n",
    "\n",
    "#retrieve files\n",
    "print(loader_ncbi.download_files(\"gff\"))\n",
    "print(loader_ncbi.download_files(\"gtf\"))\n",
    "print(loader_ncbi.download_files(\"fasta\"))\n",
    "\n",
    "shutil.rmtree(dir_output)"
   ]
  },
  {
   "cell_type": "markdown",
   "metadata": {},
   "source": [
    "### Genomic Region Generator with FTP loader"
   ]
  },
  {
   "cell_type": "code",
   "execution_count": null,
   "metadata": {},
   "outputs": [],
   "source": [
    "taxon = \"vertebrate_mammalian\"\n",
    "species = \"Homo_sapiens\"\n",
    "annotation_release = \"current\"\n",
    "\n",
    "region_generator_ncbi_ftp = NcbiGenomicRegionGenerator(taxon, species, annotation_release)"
   ]
  },
  {
   "cell_type": "code",
   "execution_count": null,
   "metadata": {},
   "outputs": [],
   "source": [
    "print(region_generator_ncbi_ftp.annotation_file)\n",
    "print(region_generator_ncbi_ftp.sequence_file)\n",
    "print(region_generator_ncbi_ftp.files_source)\n",
    "print(region_generator_ncbi_ftp.species)\n",
    "print(region_generator_ncbi_ftp.annotation_release)\n",
    "print(region_generator_ncbi_ftp.genome_assembly)"
   ]
  },
  {
   "cell_type": "code",
   "execution_count": null,
   "metadata": {},
   "outputs": [],
   "source": [
    "region_generator_ncbi_ftp.get_sequence_gene()\n",
    "region_generator_ncbi_ftp.get_sequence_exon()\n",
    "region_generator_ncbi_ftp.get_sequence_CDS()\n",
    "\n",
    "region_generator_ncbi_ftp.get_sequence_UTR(five_prime=True, three_prime=True)\n",
    "region_generator_ncbi_ftp.get_sequence_exon_exon_junction(block_size=50)\n",
    "\n",
    "region_generator_ncbi_ftp.get_sequence_intergenic()\n",
    "region_generator_ncbi_ftp.get_sequence_intron()"
   ]
  },
  {
   "attachments": {},
   "cell_type": "markdown",
   "metadata": {},
   "source": [
    "### Custom Generator with NCBI data"
   ]
  },
  {
   "cell_type": "code",
   "execution_count": null,
   "metadata": {},
   "outputs": [],
   "source": [
    "annotation_file = \"../../data/annotations/custom_GCF_000001405.40_GRCh38.p14_genomic_chr16.gtf\"\n",
    "sequence_file = \"../../data/annotations/custom_GCF_000001405.40_GRCh38.p14_genomic_chr16.fna\"\n",
    "region_generator_ncbi = CustomGenomicRegionGenerator(annotation_file, sequence_file, files_source=\"NCBI\", species = \"Homo_sapiens\", annotation_release=\"110\", genome_assembly=\"GRCh38\")\n",
    "print(region_generator_ncbi.annotation_file)\n",
    "print(region_generator_ncbi.sequence_file)\n",
    "print(region_generator_ncbi.files_source)\n",
    "print(region_generator_ncbi.species)\n",
    "print(region_generator_ncbi.annotation_release)\n",
    "print(region_generator_ncbi.genome_assembly)"
   ]
  },
  {
   "cell_type": "code",
   "execution_count": null,
   "metadata": {},
   "outputs": [],
   "source": [
    "ncbi_genes = region_generator_ncbi.get_sequence_gene()\n",
    "ncbi_exons = region_generator_ncbi.get_sequence_exon()\n",
    "ncbi_CDS = region_generator_ncbi.get_sequence_CDS()\n",
    "\n",
    "ncbi_UTR = region_generator_ncbi.get_sequence_UTR(five_prime=True, three_prime=True)\n",
    "ncbi_junction = region_generator_ncbi.get_sequence_exon_exon_junction(block_size=50)\n",
    "\n",
    "ncbi_intergenic = region_generator_ncbi.get_sequence_intergenic()\n",
    "ncbi_introns = region_generator_ncbi.get_sequence_intron()"
   ]
  },
  {
   "attachments": {},
   "cell_type": "markdown",
   "metadata": {},
   "source": [
    "### Custom Generator with Ensemble data"
   ]
  },
  {
   "cell_type": "code",
   "execution_count": null,
   "metadata": {},
   "outputs": [],
   "source": [
    "annotation_file = \"../../data/annotations/custom_Homo_sapiens.GRCh38.108.chr16.gtf\"\n",
    "sequence_file = \"../../data/annotations/custom_Homo_sapiens.GRCh38.dna_rm.primary_assembly_chr16.fa\"\n",
    "region_generator_ensembl = CustomGenomicRegionGenerator(annotation_file, sequence_file, files_source=\"Ensembl\", species = \"Homo_sapiens\", annotation_release=\"108\", genome_assembly=\"GRCh38\")\n",
    "print(region_generator_ensembl.annotation_file)\n",
    "print(region_generator_ensembl.sequence_file)\n",
    "print(region_generator_ensembl.files_source)\n",
    "print(region_generator_ensembl.species)\n",
    "print(region_generator_ensembl.annotation_release)\n",
    "print(region_generator_ensembl.genome_assembly)"
   ]
  },
  {
   "cell_type": "code",
   "execution_count": null,
   "metadata": {},
   "outputs": [],
   "source": [
    "ensembl_gene = region_generator_ensembl.get_sequence_gene()\n",
    "ensembl_exon = region_generator_ensembl.get_sequence_exon()\n",
    "ensembl_CDS = region_generator_ensembl.get_sequence_CDS()\n",
    "\n",
    "ensembl_UTR = region_generator_ensembl.get_sequence_UTR(five_prime=True, three_prime=True)\n",
    "ensembl_junction = region_generator_ensembl.get_sequence_exon_exon_junction(block_size=50)\n",
    "\n",
    "ensembl_intergenic = region_generator_ensembl.get_sequence_intergenic()\n",
    "ensembl_intron = region_generator_ensembl.get_sequence_intron()"
   ]
  },
  {
   "cell_type": "markdown",
   "metadata": {},
   "source": [
    "### Generate Oligo Sequences"
   ]
  },
  {
   "cell_type": "code",
   "execution_count": null,
   "metadata": {},
   "outputs": [],
   "source": [
    "from oligo_designer_toolsuite.sequence_generator import OligoSequenceGenerator"
   ]
  },
  {
   "cell_type": "code",
   "execution_count": null,
   "metadata": {},
   "outputs": [],
   "source": [
    "oligo_sequence_generator = OligoSequenceGenerator()"
   ]
  },
  {
   "cell_type": "code",
   "execution_count": null,
   "metadata": {},
   "outputs": [],
   "source": [
    "file_fasta_random_seqs1 = oligo_sequence_generator.create_sequences_random(\n",
    "    filename_out=\"random_sequences1\",\n",
    "    length_sequences=30,\n",
    "    num_sequences=100,\n",
    "    name_sequences=\"random_sequences1\",\n",
    "    base_alphabet_with_probability={\"A\": 0.1, \"C\": 0.3, \"G\": 0.4, \"T\": 0.2},\n",
    ")"
   ]
  },
  {
   "cell_type": "code",
   "execution_count": null,
   "metadata": {},
   "outputs": [],
   "source": [
    "file_fasta_random_seqs2 = oligo_sequence_generator.create_sequences_random(\n",
    "    filename_out=\"random_sequences2\",\n",
    "    length_sequences=15,\n",
    "    num_sequences=3,\n",
    "    name_sequences=\"random_sequences2\",\n",
    ")"
   ]
  },
  {
   "cell_type": "code",
   "execution_count": null,
   "metadata": {},
   "outputs": [],
   "source": [
    "file_fasta_exons = oligo_sequence_generator.create_sequences_sliding_window(\n",
    "    filename_out=\"sliding_window_sequences\",\n",
    "    file_fasta_in=[ncbi_exons, ncbi_junction],\n",
    "    length_interval_sequences=(30, 31),\n",
    ")"
   ]
  },
  {
   "attachments": {},
   "cell_type": "markdown",
   "metadata": {},
   "source": [
    "## Test Oligo Database"
   ]
  },
  {
   "cell_type": "code",
   "execution_count": null,
   "metadata": {},
   "outputs": [],
   "source": [
    "from oligo_designer_toolsuite.database import OligoDatabase"
   ]
  },
  {
   "cell_type": "code",
   "execution_count": null,
   "metadata": {},
   "outputs": [],
   "source": [
    "region_ids = [\"AARS1\",\"DECR2\",\"FAM234A\",\"RHBDF1\",\"WASIR2\", \"this_gene_does_not_exist\"]\n",
    "\n",
    "metadata_ncbi = {\"annotation_source\": region_generator_ncbi.files_source, \n",
    "            \"species\": region_generator_ncbi.species, \n",
    "            \"annotation_release\": region_generator_ncbi.annotation_release, \n",
    "            \"genome_assembly\": region_generator_ncbi.genome_assembly\n",
    "            }"
   ]
  },
  {
   "cell_type": "code",
   "execution_count": null,
   "metadata": {},
   "outputs": [],
   "source": [
    "oligos = OligoDatabase(min_oligos_per_region=2, write_regions_with_insufficient_oligos=True)\n",
    "oligos2 = OligoDatabase(min_oligos_per_region=4, write_regions_with_insufficient_oligos=True)"
   ]
  },
  {
   "cell_type": "code",
   "execution_count": null,
   "metadata": {},
   "outputs": [],
   "source": [
    "oligos.load_metadata(metadata_ncbi)\n",
    "#oligos.metadata"
   ]
  },
  {
   "cell_type": "code",
   "execution_count": null,
   "metadata": {},
   "outputs": [],
   "source": [
    "oligos.load_sequences_from_fasta(\n",
    "    file_fasta_in=file_fasta_random_seqs1,\n",
    "    sequence_type=\"oligo\",\n",
    "    region_ids=[\"random_sequences1\"],\n",
    "    database_overwrite=True,\n",
    ")\n",
    "oligos.database"
   ]
  },
  {
   "cell_type": "code",
   "execution_count": null,
   "metadata": {},
   "outputs": [],
   "source": [
    "oligos.load_sequences_from_fasta(\n",
    "    file_fasta_in=file_fasta_random_seqs2,\n",
    "    sequence_type=\"oligo\",\n",
    "    database_overwrite=False,\n",
    ")\n",
    "#oligos.database"
   ]
  },
  {
   "cell_type": "code",
   "execution_count": null,
   "metadata": {},
   "outputs": [],
   "source": [
    "oligos.load_sequences_from_fasta(\n",
    "    file_fasta_in=file_fasta_exons,\n",
    "    sequence_type=\"target\",\n",
    "    region_ids=region_ids,\n",
    "    database_overwrite=False,\n",
    ")\n",
    "oligos.database"
   ]
  },
  {
   "cell_type": "code",
   "execution_count": null,
   "metadata": {},
   "outputs": [],
   "source": [
    "# check if calculation of number of targeted transcripts and isoform consensus works\n",
    "oligos.calculate_num_targeted_transcripts()\n",
    "oligos.calculate_isoform_consensus()"
   ]
  },
  {
   "cell_type": "code",
   "execution_count": null,
   "metadata": {},
   "outputs": [],
   "source": [
    "# check if removale of regions works\n",
    "oligos.remove_regions_with_insufficient_oligos(\"database_generation\")\n",
    "assert len(oligos.database.keys()) == (len(region_ids) - 1 + 2), \"error: wrong number of regions in database\""
   ]
  },
  {
   "cell_type": "code",
   "execution_count": null,
   "metadata": {},
   "outputs": [],
   "source": [
    "# check if save and load works\n",
    "file_database, file_metadata = oligos.save_database(\n",
    "    region_ids=\"random_sequences2\", filename_out=\"database_random_sequences2\"\n",
    ")\n",
    "\n",
    "oligos2.load_metadata(file_metadata)\n",
    "oligos2.load_database(file_database, database_overwrite=True)\n",
    "oligos2.load_sequences_from_fasta(\n",
    "    file_fasta_in=file_fasta_random_seqs1,\n",
    "    sequence_type=\"oligo\",\n",
    "    database_overwrite=False,\n",
    ")"
   ]
  },
  {
   "cell_type": "code",
   "execution_count": null,
   "metadata": {},
   "outputs": [],
   "source": [
    "# check if removale of regions works\n",
    "oligos2.remove_regions_with_insufficient_oligos(\"database_generation\")\n",
    "assert len(oligos2.database.keys()) == 1, \"error: wrong number of regions in database\""
   ]
  },
  {
   "cell_type": "code",
   "execution_count": null,
   "metadata": {},
   "outputs": [],
   "source": [
    "# check if we get the correct number of sequences returned\n",
    "list_sequences = oligos2.get_sequence_list()\n",
    "assert len(list_sequences) == 100, \"error: wrong number of sequences in database\""
   ]
  },
  {
   "cell_type": "code",
   "execution_count": null,
   "metadata": {},
   "outputs": [],
   "source": [
    "oligos.write_database_to_fasta()"
   ]
  },
  {
   "attachments": {},
   "cell_type": "markdown",
   "metadata": {},
   "source": [
    "## Test Reference Database\n"
   ]
  },
  {
   "cell_type": "code",
   "execution_count": null,
   "metadata": {},
   "outputs": [],
   "source": [
    "from oligo_designer_toolsuite.database import ReferenceDatabase\n",
    "from oligo_designer_toolsuite.utils import FastaParser"
   ]
  },
  {
   "cell_type": "code",
   "execution_count": null,
   "metadata": {},
   "outputs": [],
   "source": [
    "fasta_parser = FastaParser()\n",
    "\n",
    "metadata = {\"annotation_source\": region_generator_ncbi.files_source, \"species\": region_generator_ncbi.species, \"annotation_release\": region_generator_ncbi.annotation_release, \"genome_assembly\": region_generator_ncbi.genome_assembly}"
   ]
  },
  {
   "cell_type": "code",
   "execution_count": null,
   "metadata": {},
   "outputs": [],
   "source": [
    "reference = ReferenceDatabase()\n",
    "reference.load_metadata(metadata=metadata)\n",
    "reference.load_sequences_from_fasta(file_fasta=ncbi_genes, database_overwrite=True)\n",
    "reference.load_sequences_from_fasta(file_fasta=ncbi_intergenic, database_overwrite=False)"
   ]
  },
  {
   "cell_type": "code",
   "execution_count": null,
   "metadata": {},
   "outputs": [],
   "source": [
    "reference.filter_database(\"AARS1\")\n",
    "for entry in reference.database:\n",
    "    region, _, _, = fasta_parser.parse_fasta_header(entry.id)\n",
    "    assert region == 'AARS1', f\"error: this region {region} should be filtered out.\"\n",
    "reference.database"
   ]
  },
  {
   "cell_type": "code",
   "execution_count": null,
   "metadata": {},
   "outputs": [],
   "source": [
    "file_fasta_database = reference.write_database_to_fasta(filename = \"filtered_databse\")\n",
    "file_metadata_database = reference.write_metadata_to_yaml(filename = \"filtered_databse\")\n",
    "assert fasta_parser.check_fasta_format(file_fasta_database) == True, \"error: wrong file format\""
   ]
  }
 ],
 "metadata": {
  "kernelspec": {
   "display_name": "ODT",
   "language": "python",
   "name": "python3"
  },
  "language_info": {
   "codemirror_mode": {
    "name": "ipython",
    "version": 3
   },
   "file_extension": ".py",
   "mimetype": "text/x-python",
   "name": "python",
   "nbconvert_exporter": "python",
   "pygments_lexer": "ipython3",
   "version": "3.10.13"
  },
  "orig_nbformat": 4
 },
 "nbformat": 4,
 "nbformat_minor": 2
}
