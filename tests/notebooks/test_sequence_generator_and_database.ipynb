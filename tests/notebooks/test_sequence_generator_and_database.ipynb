{
 "cells": [
  {
   "attachments": {},
   "cell_type": "markdown",
   "metadata": {},
   "source": [
    "## Test Sequence Generator"
   ]
  },
  {
   "cell_type": "code",
   "execution_count": 1,
   "metadata": {},
   "outputs": [],
   "source": [
    "import os\n",
    "import shutil\n",
    "import pandas as pd\n",
    "pd.set_option('display.max_columns', None)\n",
    "\n",
    "from oligo_designer_toolsuite.sequence_generator import CustomGenomicRegionGenerator, NcbiGenomicRegionGenerator, FtpLoaderEnsembl, FtpLoaderNCBI"
   ]
  },
  {
   "cell_type": "code",
   "execution_count": 29,
   "metadata": {},
   "outputs": [],
   "source": [
    "dir_output = os.path.join(os.path.dirname(os.getcwd()), 'output') # create the complete path for the output directory"
   ]
  },
  {
   "cell_type": "markdown",
   "metadata": {},
   "source": [
    "### FTP Loader"
   ]
  },
  {
   "cell_type": "code",
   "execution_count": 2,
   "metadata": {},
   "outputs": [
    {
     "name": "stdout",
     "output_type": "stream",
     "text": [
      "('/Users/lisa.barros/Desktop/oligo-designer-toolsuite/tests/output/Homo_sapiens.GRCh38.108.gff3', '108', 'GRCh38')\n",
      "('/Users/lisa.barros/Desktop/oligo-designer-toolsuite/tests/output/Homo_sapiens.GRCh38.108.gtf', '108', 'GRCh38')\n",
      "('/Users/lisa.barros/Desktop/oligo-designer-toolsuite/tests/output/Homo_sapiens.GRCh38.dna_sm.primary_assembly.fa', '108', 'GRCh38')\n"
     ]
    }
   ],
   "source": [
    "##### Test Loader Ensemble\n",
    "\n",
    "#Parameters\n",
    "species= 'homo_sapiens' # available species: human or mouse\n",
    "annotation_release= '108'\n",
    "\n",
    "#initialize\n",
    "loader_ensemble=FtpLoaderEnsembl(dir_output, species, annotation_release)\n",
    "\n",
    "#retrieve files\n",
    "print(loader_ensemble.download_files(\"gff\"))\n",
    "print(loader_ensemble.download_files(\"gtf\"))\n",
    "print(loader_ensemble.download_files(\"fasta\"))\n",
    "\n",
    "shutil.rmtree(dir_output)"
   ]
  },
  {
   "cell_type": "code",
   "execution_count": 3,
   "metadata": {},
   "outputs": [
    {
     "name": "stdout",
     "output_type": "stream",
     "text": [
      "('/Users/lisa.barros/Desktop/oligo-designer-toolsuite/tests/output/GCF_000001405.40_GRCh38.p14_genomic.gff', '110', 'GRCh38.p14')\n",
      "('/Users/lisa.barros/Desktop/oligo-designer-toolsuite/tests/output/GCF_000001405.40_GRCh38.p14_genomic.gtf', '110', 'GRCh38.p14')\n",
      "('/Users/lisa.barros/Desktop/oligo-designer-toolsuite/tests/output/GCF_000001405.40_GRCh38.p14_genomic.fna', '110', 'GRCh38.p14')\n"
     ]
    }
   ],
   "source": [
    "##### Test Loader NCBI\n",
    "\n",
    "## Test for release <= 110\n",
    "#Parameters\n",
    "taxon = 'vertebrate_mammalian' # taxon the species belongs to\n",
    "species= 'Homo_sapiens' # available species: human or mouse\n",
    "annotation_release= '110'\n",
    "\n",
    "#initialize\n",
    "loader_ncbi=FtpLoaderNCBI(dir_output, taxon, species, annotation_release)\n",
    "\n",
    "#retrieve files\n",
    "print(loader_ncbi.download_files(\"gff\"))\n",
    "print(loader_ncbi.download_files(\"gtf\"))\n",
    "print(loader_ncbi.download_files(\"fasta\"))\n",
    "\n",
    "shutil.rmtree(dir_output)"
   ]
  },
  {
   "cell_type": "code",
   "execution_count": 4,
   "metadata": {},
   "outputs": [
    {
     "name": "stdout",
     "output_type": "stream",
     "text": [
      "('/Users/lisa.barros/Desktop/oligo-designer-toolsuite/tests/output/GCF_000001405.40_GRCh38.p14_genomic.gff', 'GCF_000001405.40-RS_2023_10', 'GRCh38.p14')\n",
      "('/Users/lisa.barros/Desktop/oligo-designer-toolsuite/tests/output/GCF_000001405.40_GRCh38.p14_genomic.gtf', 'GCF_000001405.40-RS_2023_10', 'GRCh38.p14')\n",
      "('/Users/lisa.barros/Desktop/oligo-designer-toolsuite/tests/output/GCF_000001405.40_GRCh38.p14_genomic.fna', 'GCF_000001405.40-RS_2023_10', 'GRCh38.p14')\n"
     ]
    }
   ],
   "source": [
    "## Test for release > 110 -> changed folder structure\n",
    "#Parameters\n",
    "taxon = 'vertebrate_mammalian' # taxon the species belongs to\n",
    "species= 'Homo_sapiens' # available species: human or mouse\n",
    "annotation_release= 'current'\n",
    "\n",
    "#initialize\n",
    "loader_ncbi=FtpLoaderNCBI(dir_output, taxon, species, annotation_release)\n",
    "\n",
    "#retrieve files\n",
    "print(loader_ncbi.download_files(\"gff\"))\n",
    "print(loader_ncbi.download_files(\"gtf\"))\n",
    "print(loader_ncbi.download_files(\"fasta\"))\n",
    "\n",
    "shutil.rmtree(dir_output)"
   ]
  },
  {
   "cell_type": "markdown",
   "metadata": {},
   "source": [
    "### Genomic Region Generator with FTP loader"
   ]
  },
  {
   "cell_type": "code",
   "execution_count": 5,
   "metadata": {},
   "outputs": [
    {
     "name": "stderr",
     "output_type": "stream",
     "text": [
      "/Users/lisa.barros/Desktop/oligo-designer-toolsuite/oligo_designer_toolsuite/utils/_sequence_parser.py:104: DtypeWarning: Columns (0) have mixed types. Specify dtype option on import or set low_memory=False.\n",
      "  csv_df = pd.read_csv(csv_file, sep=\"\\t\", names=self.GFF_HEADER, header=None)\n"
     ]
    }
   ],
   "source": [
    "taxon = \"vertebrate_mammalian\"\n",
    "species = \"Homo_sapiens\"\n",
    "annotation_release = \"current\"\n",
    "\n",
    "region_generator_ncbi_ftp = NcbiGenomicRegionGenerator(taxon, species, annotation_release)"
   ]
  },
  {
   "cell_type": "code",
   "execution_count": 6,
   "metadata": {},
   "outputs": [
    {
     "name": "stdout",
     "output_type": "stream",
     "text": [
      "output/annotation/GCF_000001405.40_GRCh38.p14_genomic.gtf\n",
      "output/annotation/GCF_000001405.40_GRCh38.p14_genomic.fna\n",
      "NCBI\n",
      "Homo_sapiens\n",
      "GCF_000001405.40-RS_2023_10\n",
      "GRCh38.p14\n"
     ]
    }
   ],
   "source": [
    "print(region_generator_ncbi_ftp.annotation_file)\n",
    "print(region_generator_ncbi_ftp.sequence_file)\n",
    "print(region_generator_ncbi_ftp.files_source)\n",
    "print(region_generator_ncbi_ftp.species)\n",
    "print(region_generator_ncbi_ftp.annotation_release)\n",
    "print(region_generator_ncbi_ftp.genome_assembly)"
   ]
  },
  {
   "cell_type": "code",
   "execution_count": null,
   "metadata": {},
   "outputs": [],
   "source": [
    "region_generator_ncbi_ftp.get_sequence_gene()\n",
    "region_generator_ncbi_ftp.get_sequence_exon()\n",
    "region_generator_ncbi_ftp.get_sequence_CDS()"
   ]
  },
  {
   "cell_type": "code",
   "execution_count": 8,
   "metadata": {},
   "outputs": [],
   "source": [
    "region_generator_ncbi_ftp.get_sequence_UTR(five_prime=True, three_prime=True)\n",
    "region_generator_ncbi_ftp.get_sequence_exon_exon_junction(block_size=50)"
   ]
  },
  {
   "cell_type": "code",
   "execution_count": null,
   "metadata": {},
   "outputs": [],
   "source": [
    "# region_generator_ncbi_ftp.get_sequence_intergenic()\n",
    "region_generator_ncbi_ftp.get_sequence_intron()"
   ]
  },
  {
   "attachments": {},
   "cell_type": "markdown",
   "metadata": {},
   "source": [
    "### Custom Generator with NCBI data"
   ]
  },
  {
   "cell_type": "code",
   "execution_count": 2,
   "metadata": {},
   "outputs": [
    {
     "name": "stdout",
     "output_type": "stream",
     "text": [
      "../../data/annotations/custom_GCF_000001405.40_GRCh38.p14_genomic_chr16.gtf\n",
      "../../data/annotations/custom_GCF_000001405.40_GRCh38.p14_genomic_chr16.fna\n",
      "NCBI\n",
      "Homo_sapiens\n",
      "110\n",
      "GRCh38\n"
     ]
    }
   ],
   "source": [
    "annotation_file = \"../../data/annotations/custom_GCF_000001405.40_GRCh38.p14_genomic_chr16.gtf\"\n",
    "sequence_file = \"../../data/annotations/custom_GCF_000001405.40_GRCh38.p14_genomic_chr16.fna\"\n",
    "region_generator_ncbi = CustomGenomicRegionGenerator(annotation_file, sequence_file, files_source=\"NCBI\", species = \"Homo_sapiens\", annotation_release=\"110\", genome_assembly=\"GRCh38\")\n",
    "print(region_generator_ncbi.annotation_file)\n",
    "print(region_generator_ncbi.sequence_file)\n",
    "print(region_generator_ncbi.files_source)\n",
    "print(region_generator_ncbi.species)\n",
    "print(region_generator_ncbi.annotation_release)\n",
    "print(region_generator_ncbi.genome_assembly)"
   ]
  },
  {
   "cell_type": "code",
   "execution_count": 3,
   "metadata": {},
   "outputs": [],
   "source": [
    "ncbi_genes = region_generator_ncbi.get_sequence_gene()\n",
    "ncbi_exons = region_generator_ncbi.get_sequence_exon()\n",
    "ncbi_CDS = region_generator_ncbi.get_sequence_CDS()\n",
    "\n",
    "ncbi_UTR = region_generator_ncbi.get_sequence_UTR(five_prime=True, three_prime=True)\n",
    "ncbi_junction = region_generator_ncbi.get_sequence_exon_exon_junction(block_size=50)\n",
    "\n",
    "ncbi_intergenic = region_generator_ncbi.get_sequence_intergenic()\n",
    "ncbi_introns = region_generator_ncbi.get_sequence_intron()"
   ]
  },
  {
   "attachments": {},
   "cell_type": "markdown",
   "metadata": {},
   "source": [
    "### Custom Generator with Ensemble data"
   ]
  },
  {
   "cell_type": "code",
   "execution_count": null,
   "metadata": {},
   "outputs": [],
   "source": [
    "annotation_file = \"../../data/annotations/custom_Homo_sapiens.GRCh38.108.chr16.gtf\"\n",
    "sequence_file = \"../../data/annotations/custom_Homo_sapiens.GRCh38.dna_rm.primary_assembly_chr16.fa\"\n",
    "region_generator_ensembl = CustomGenomicRegionGenerator(annotation_file, sequence_file, files_source=\"Ensembl\", species = \"Homo_sapiens\", annotation_release=\"108\", genome_assembly=\"GRCh38\")\n",
    "print(region_generator_ensembl.annotation_file)\n",
    "print(region_generator_ensembl.sequence_file)\n",
    "print(region_generator_ensembl.files_source)\n",
    "print(region_generator_ensembl.species)\n",
    "print(region_generator_ensembl.annotation_release)\n",
    "print(region_generator_ensembl.genome_assembly)"
   ]
  },
  {
   "cell_type": "code",
   "execution_count": null,
   "metadata": {},
   "outputs": [],
   "source": [
    "ensembl_gene = region_generator_ensembl.get_sequence_gene()\n",
    "ensembl_exon = region_generator_ensembl.get_sequence_exon()\n",
    "ensembl_CDS = region_generator_ensembl.get_sequence_CDS()\n",
    "\n",
    "ensembl_UTR = region_generator_ensembl.get_sequence_UTR(five_prime=True, three_prime=True)\n",
    "ensembl_junction = region_generator_ensembl.get_sequence_exon_exon_junction(block_size=50)\n",
    "\n",
    "ensembl_intergenic = region_generator_ensembl.get_sequence_intergenic()\n",
    "ensembl_intron = region_generator_ensembl.get_sequence_intron()"
   ]
  },
  {
   "cell_type": "markdown",
   "metadata": {},
   "source": [
    "### Generate Oligo Sequences"
   ]
  },
  {
   "cell_type": "code",
   "execution_count": 4,
   "metadata": {},
   "outputs": [],
   "source": [
    "from oligo_designer_toolsuite.sequence_generator import OligoSequenceGenerator"
   ]
  },
  {
   "cell_type": "code",
   "execution_count": 5,
   "metadata": {},
   "outputs": [],
   "source": [
    "oligo_sequence_generator = OligoSequenceGenerator()"
   ]
  },
  {
   "cell_type": "code",
   "execution_count": 6,
   "metadata": {},
   "outputs": [
    {
     "data": {
      "text/plain": [
       "'/Users/lisa.barros/Desktop/oligo-designer-toolsuite/tests/notebooks/output/annotation/random_sequences1.fna'"
      ]
     },
     "execution_count": 6,
     "metadata": {},
     "output_type": "execute_result"
    }
   ],
   "source": [
    "file_fasta_random_seqs1 = oligo_sequence_generator.create_sequences_random(\n",
    "    filename_out=\"random_sequences1\",\n",
    "    length_sequences=30,\n",
    "    num_sequences=100,\n",
    "    name_sequences=\"random_sequences1\",\n",
    "    base_alphabet_with_probability={\"A\": 0.1, \"C\": 0.3, \"G\": 0.4, \"T\": 0.2},\n",
    ")\n",
    "file_fasta_random_seqs1"
   ]
  },
  {
   "cell_type": "code",
   "execution_count": 7,
   "metadata": {},
   "outputs": [
    {
     "data": {
      "text/plain": [
       "'/Users/lisa.barros/Desktop/oligo-designer-toolsuite/tests/notebooks/output/annotation/random_sequences2.fna'"
      ]
     },
     "execution_count": 7,
     "metadata": {},
     "output_type": "execute_result"
    }
   ],
   "source": [
    "file_fasta_random_seqs2 = oligo_sequence_generator.create_sequences_random(\n",
    "    filename_out=\"random_sequences2\",\n",
    "    length_sequences=15,\n",
    "    num_sequences=3,\n",
    "    name_sequences=\"random_sequences2\",\n",
    ")\n",
    "file_fasta_random_seqs2"
   ]
  },
  {
   "cell_type": "code",
   "execution_count": 9,
   "metadata": {},
   "outputs": [
    {
     "data": {
      "text/plain": [
       "['/Users/lisa.barros/Desktop/oligo-designer-toolsuite/tests/notebooks/output/annotation/AARS1.fna',\n",
       " '/Users/lisa.barros/Desktop/oligo-designer-toolsuite/tests/notebooks/output/annotation/ABAT.fna',\n",
       " '/Users/lisa.barros/Desktop/oligo-designer-toolsuite/tests/notebooks/output/annotation/ABCA17P.fna',\n",
       " '/Users/lisa.barros/Desktop/oligo-designer-toolsuite/tests/notebooks/output/annotation/ABCA3.fna',\n",
       " '/Users/lisa.barros/Desktop/oligo-designer-toolsuite/tests/notebooks/output/annotation/ABCC1.fna',\n",
       " '/Users/lisa.barros/Desktop/oligo-designer-toolsuite/tests/notebooks/output/annotation/ABCC11.fna',\n",
       " '/Users/lisa.barros/Desktop/oligo-designer-toolsuite/tests/notebooks/output/annotation/ABCC12.fna',\n",
       " '/Users/lisa.barros/Desktop/oligo-designer-toolsuite/tests/notebooks/output/annotation/ABCC6.fna',\n",
       " '/Users/lisa.barros/Desktop/oligo-designer-toolsuite/tests/notebooks/output/annotation/ABCC6P1.fna',\n",
       " '/Users/lisa.barros/Desktop/oligo-designer-toolsuite/tests/notebooks/output/annotation/ABCC6P2.fna',\n",
       " '/Users/lisa.barros/Desktop/oligo-designer-toolsuite/tests/notebooks/output/annotation/ACD.fna',\n",
       " '/Users/lisa.barros/Desktop/oligo-designer-toolsuite/tests/notebooks/output/annotation/ACSF3.fna',\n",
       " '/Users/lisa.barros/Desktop/oligo-designer-toolsuite/tests/notebooks/output/annotation/ACSM1.fna',\n",
       " '/Users/lisa.barros/Desktop/oligo-designer-toolsuite/tests/notebooks/output/annotation/ACSM2A.fna',\n",
       " '/Users/lisa.barros/Desktop/oligo-designer-toolsuite/tests/notebooks/output/annotation/ACSM2B.fna',\n",
       " '/Users/lisa.barros/Desktop/oligo-designer-toolsuite/tests/notebooks/output/annotation/ACSM3.fna',\n",
       " '/Users/lisa.barros/Desktop/oligo-designer-toolsuite/tests/notebooks/output/annotation/ACSM5.fna',\n",
       " '/Users/lisa.barros/Desktop/oligo-designer-toolsuite/tests/notebooks/output/annotation/ADAD2.fna',\n",
       " '/Users/lisa.barros/Desktop/oligo-designer-toolsuite/tests/notebooks/output/annotation/ADAM3B.fna',\n",
       " '/Users/lisa.barros/Desktop/oligo-designer-toolsuite/tests/notebooks/output/annotation/ADAMTS18.fna',\n",
       " '/Users/lisa.barros/Desktop/oligo-designer-toolsuite/tests/notebooks/output/annotation/ADAT1.fna',\n",
       " '/Users/lisa.barros/Desktop/oligo-designer-toolsuite/tests/notebooks/output/annotation/ADCY7.fna',\n",
       " '/Users/lisa.barros/Desktop/oligo-designer-toolsuite/tests/notebooks/output/annotation/ADCY9.fna',\n",
       " '/Users/lisa.barros/Desktop/oligo-designer-toolsuite/tests/notebooks/output/annotation/ADGRG1.fna',\n",
       " '/Users/lisa.barros/Desktop/oligo-designer-toolsuite/tests/notebooks/output/annotation/ADGRG3.fna',\n",
       " '/Users/lisa.barros/Desktop/oligo-designer-toolsuite/tests/notebooks/output/annotation/ADGRG5.fna',\n",
       " '/Users/lisa.barros/Desktop/oligo-designer-toolsuite/tests/notebooks/output/annotation/AFG3L1P.fna',\n",
       " '/Users/lisa.barros/Desktop/oligo-designer-toolsuite/tests/notebooks/output/annotation/AGRP.fna',\n",
       " '/Users/lisa.barros/Desktop/oligo-designer-toolsuite/tests/notebooks/output/annotation/AHSP.fna',\n",
       " '/Users/lisa.barros/Desktop/oligo-designer-toolsuite/tests/notebooks/output/annotation/AKTIP.fna',\n",
       " '/Users/lisa.barros/Desktop/oligo-designer-toolsuite/tests/notebooks/output/annotation/ALDOA.fna',\n",
       " '/Users/lisa.barros/Desktop/oligo-designer-toolsuite/tests/notebooks/output/annotation/ALG1.fna',\n",
       " '/Users/lisa.barros/Desktop/oligo-designer-toolsuite/tests/notebooks/output/annotation/AMDHD2.fna',\n",
       " '/Users/lisa.barros/Desktop/oligo-designer-toolsuite/tests/notebooks/output/annotation/AMFR.fna',\n",
       " '/Users/lisa.barros/Desktop/oligo-designer-toolsuite/tests/notebooks/output/annotation/ANKRD11.fna',\n",
       " '/Users/lisa.barros/Desktop/oligo-designer-toolsuite/tests/notebooks/output/annotation/ANKRD26P1.fna',\n",
       " '/Users/lisa.barros/Desktop/oligo-designer-toolsuite/tests/notebooks/output/annotation/ANKS3.fna',\n",
       " '/Users/lisa.barros/Desktop/oligo-designer-toolsuite/tests/notebooks/output/annotation/ANKS4B.fna',\n",
       " '/Users/lisa.barros/Desktop/oligo-designer-toolsuite/tests/notebooks/output/annotation/ANTKMT.fna',\n",
       " '/Users/lisa.barros/Desktop/oligo-designer-toolsuite/tests/notebooks/output/annotation/AP1G1.fna',\n",
       " '/Users/lisa.barros/Desktop/oligo-designer-toolsuite/tests/notebooks/output/annotation/APOBR.fna',\n",
       " '/Users/lisa.barros/Desktop/oligo-designer-toolsuite/tests/notebooks/output/annotation/APOOP5.fna',\n",
       " '/Users/lisa.barros/Desktop/oligo-designer-toolsuite/tests/notebooks/output/annotation/APRT.fna',\n",
       " '/Users/lisa.barros/Desktop/oligo-designer-toolsuite/tests/notebooks/output/annotation/AQP8.fna',\n",
       " '/Users/lisa.barros/Desktop/oligo-designer-toolsuite/tests/notebooks/output/annotation/ARHGAP17.fna',\n",
       " '/Users/lisa.barros/Desktop/oligo-designer-toolsuite/tests/notebooks/output/annotation/ARHGDIG.fna',\n",
       " '/Users/lisa.barros/Desktop/oligo-designer-toolsuite/tests/notebooks/output/annotation/ARL2BP.fna',\n",
       " '/Users/lisa.barros/Desktop/oligo-designer-toolsuite/tests/notebooks/output/annotation/ARL6IP1.fna',\n",
       " '/Users/lisa.barros/Desktop/oligo-designer-toolsuite/tests/notebooks/output/annotation/ARLNC1.fna',\n",
       " '/Users/lisa.barros/Desktop/oligo-designer-toolsuite/tests/notebooks/output/annotation/ARMC5.fna',\n",
       " '/Users/lisa.barros/Desktop/oligo-designer-toolsuite/tests/notebooks/output/annotation/ASPHD1.fna',\n",
       " '/Users/lisa.barros/Desktop/oligo-designer-toolsuite/tests/notebooks/output/annotation/ATF7IP2.fna',\n",
       " '/Users/lisa.barros/Desktop/oligo-designer-toolsuite/tests/notebooks/output/annotation/ATMIN.fna',\n",
       " '/Users/lisa.barros/Desktop/oligo-designer-toolsuite/tests/notebooks/output/annotation/ATP2A1-AS1.fna',\n",
       " '/Users/lisa.barros/Desktop/oligo-designer-toolsuite/tests/notebooks/output/annotation/ATP2A1.fna',\n",
       " '/Users/lisa.barros/Desktop/oligo-designer-toolsuite/tests/notebooks/output/annotation/ATP2C2-AS1.fna',\n",
       " '/Users/lisa.barros/Desktop/oligo-designer-toolsuite/tests/notebooks/output/annotation/ATP2C2.fna',\n",
       " '/Users/lisa.barros/Desktop/oligo-designer-toolsuite/tests/notebooks/output/annotation/ATP6V0C.fna',\n",
       " '/Users/lisa.barros/Desktop/oligo-designer-toolsuite/tests/notebooks/output/annotation/ATP6V0D1-DT.fna',\n",
       " '/Users/lisa.barros/Desktop/oligo-designer-toolsuite/tests/notebooks/output/annotation/ATP6V0D1.fna',\n",
       " '/Users/lisa.barros/Desktop/oligo-designer-toolsuite/tests/notebooks/output/annotation/ATXN1L.fna',\n",
       " '/Users/lisa.barros/Desktop/oligo-designer-toolsuite/tests/notebooks/output/annotation/ATXN2L.fna',\n",
       " '/Users/lisa.barros/Desktop/oligo-designer-toolsuite/tests/notebooks/output/annotation/AXIN1.fna',\n",
       " '/Users/lisa.barros/Desktop/oligo-designer-toolsuite/tests/notebooks/output/annotation/B3GNT9.fna',\n",
       " '/Users/lisa.barros/Desktop/oligo-designer-toolsuite/tests/notebooks/output/annotation/BAIAP3.fna',\n",
       " '/Users/lisa.barros/Desktop/oligo-designer-toolsuite/tests/notebooks/output/annotation/BANP.fna',\n",
       " '/Users/lisa.barros/Desktop/oligo-designer-toolsuite/tests/notebooks/output/annotation/BBS2.fna',\n",
       " '/Users/lisa.barros/Desktop/oligo-designer-toolsuite/tests/notebooks/output/annotation/BCAR1.fna',\n",
       " '/Users/lisa.barros/Desktop/oligo-designer-toolsuite/tests/notebooks/output/annotation/BCAR4.fna',\n",
       " '/Users/lisa.barros/Desktop/oligo-designer-toolsuite/tests/notebooks/output/annotation/BCKDK.fna',\n",
       " '/Users/lisa.barros/Desktop/oligo-designer-toolsuite/tests/notebooks/output/annotation/BCL7C.fna',\n",
       " '/Users/lisa.barros/Desktop/oligo-designer-toolsuite/tests/notebooks/output/annotation/BCLAF1P2.fna',\n",
       " '/Users/lisa.barros/Desktop/oligo-designer-toolsuite/tests/notebooks/output/annotation/BCO1.fna',\n",
       " '/Users/lisa.barros/Desktop/oligo-designer-toolsuite/tests/notebooks/output/annotation/BEAN1-AS1.fna',\n",
       " '/Users/lisa.barros/Desktop/oligo-designer-toolsuite/tests/notebooks/output/annotation/BEAN1.fna',\n",
       " '/Users/lisa.barros/Desktop/oligo-designer-toolsuite/tests/notebooks/output/annotation/BFAR.fna',\n",
       " '/Users/lisa.barros/Desktop/oligo-designer-toolsuite/tests/notebooks/output/annotation/BICDL2.fna',\n",
       " '/Users/lisa.barros/Desktop/oligo-designer-toolsuite/tests/notebooks/output/annotation/BMERB1.fna',\n",
       " '/Users/lisa.barros/Desktop/oligo-designer-toolsuite/tests/notebooks/output/annotation/BOLA2-SMG1P6.fna',\n",
       " '/Users/lisa.barros/Desktop/oligo-designer-toolsuite/tests/notebooks/output/annotation/BOLA2.fna',\n",
       " '/Users/lisa.barros/Desktop/oligo-designer-toolsuite/tests/notebooks/output/annotation/BOLA2B.fna',\n",
       " '/Users/lisa.barros/Desktop/oligo-designer-toolsuite/tests/notebooks/output/annotation/BRD7.fna',\n",
       " '/Users/lisa.barros/Desktop/oligo-designer-toolsuite/tests/notebooks/output/annotation/BRICD5.fna',\n",
       " '/Users/lisa.barros/Desktop/oligo-designer-toolsuite/tests/notebooks/output/annotation/C16orf46.fna',\n",
       " '/Users/lisa.barros/Desktop/oligo-designer-toolsuite/tests/notebooks/output/annotation/C16orf54.fna',\n",
       " '/Users/lisa.barros/Desktop/oligo-designer-toolsuite/tests/notebooks/output/annotation/C16orf72.fna',\n",
       " '/Users/lisa.barros/Desktop/oligo-designer-toolsuite/tests/notebooks/output/annotation/C16orf74.fna',\n",
       " '/Users/lisa.barros/Desktop/oligo-designer-toolsuite/tests/notebooks/output/annotation/C16orf78.fna',\n",
       " '/Users/lisa.barros/Desktop/oligo-designer-toolsuite/tests/notebooks/output/annotation/C16orf82.fna',\n",
       " '/Users/lisa.barros/Desktop/oligo-designer-toolsuite/tests/notebooks/output/annotation/C16orf86.fna',\n",
       " '/Users/lisa.barros/Desktop/oligo-designer-toolsuite/tests/notebooks/output/annotation/C16orf87.fna',\n",
       " '/Users/lisa.barros/Desktop/oligo-designer-toolsuite/tests/notebooks/output/annotation/C16orf89.fna',\n",
       " '/Users/lisa.barros/Desktop/oligo-designer-toolsuite/tests/notebooks/output/annotation/C16orf90.fna',\n",
       " '/Users/lisa.barros/Desktop/oligo-designer-toolsuite/tests/notebooks/output/annotation/C16orf91.fna',\n",
       " '/Users/lisa.barros/Desktop/oligo-designer-toolsuite/tests/notebooks/output/annotation/C16orf92.fna',\n",
       " '/Users/lisa.barros/Desktop/oligo-designer-toolsuite/tests/notebooks/output/annotation/C16orf95-DT.fna',\n",
       " '/Users/lisa.barros/Desktop/oligo-designer-toolsuite/tests/notebooks/output/annotation/C16orf95.fna',\n",
       " '/Users/lisa.barros/Desktop/oligo-designer-toolsuite/tests/notebooks/output/annotation/C16orf96.fna',\n",
       " '/Users/lisa.barros/Desktop/oligo-designer-toolsuite/tests/notebooks/output/annotation/C1QTNF8.fna',\n",
       " '/Users/lisa.barros/Desktop/oligo-designer-toolsuite/tests/notebooks/output/annotation/CA5A.fna',\n",
       " '/Users/lisa.barros/Desktop/oligo-designer-toolsuite/tests/notebooks/output/annotation/CA7.fna',\n",
       " '/Users/lisa.barros/Desktop/oligo-designer-toolsuite/tests/notebooks/output/annotation/CACNA1H.fna',\n",
       " '/Users/lisa.barros/Desktop/oligo-designer-toolsuite/tests/notebooks/output/annotation/CACNG3.fna',\n",
       " '/Users/lisa.barros/Desktop/oligo-designer-toolsuite/tests/notebooks/output/annotation/CALB2.fna',\n",
       " '/Users/lisa.barros/Desktop/oligo-designer-toolsuite/tests/notebooks/output/annotation/CAPN15.fna',\n",
       " '/Users/lisa.barros/Desktop/oligo-designer-toolsuite/tests/notebooks/output/annotation/CAPNS2.fna',\n",
       " '/Users/lisa.barros/Desktop/oligo-designer-toolsuite/tests/notebooks/output/annotation/CARHSP1.fna',\n",
       " '/Users/lisa.barros/Desktop/oligo-designer-toolsuite/tests/notebooks/output/annotation/CARMIL2.fna',\n",
       " '/Users/lisa.barros/Desktop/oligo-designer-toolsuite/tests/notebooks/output/annotation/CASC16.fna',\n",
       " '/Users/lisa.barros/Desktop/oligo-designer-toolsuite/tests/notebooks/output/annotation/CASC22.fna',\n",
       " '/Users/lisa.barros/Desktop/oligo-designer-toolsuite/tests/notebooks/output/annotation/CASKIN1.fna',\n",
       " '/Users/lisa.barros/Desktop/oligo-designer-toolsuite/tests/notebooks/output/annotation/CASP16P.fna',\n",
       " '/Users/lisa.barros/Desktop/oligo-designer-toolsuite/tests/notebooks/output/annotation/CBFA2T3.fna',\n",
       " '/Users/lisa.barros/Desktop/oligo-designer-toolsuite/tests/notebooks/output/annotation/CBFB.fna',\n",
       " '/Users/lisa.barros/Desktop/oligo-designer-toolsuite/tests/notebooks/output/annotation/CBLN1.fna',\n",
       " '/Users/lisa.barros/Desktop/oligo-designer-toolsuite/tests/notebooks/output/annotation/CCDC102A.fna',\n",
       " '/Users/lisa.barros/Desktop/oligo-designer-toolsuite/tests/notebooks/output/annotation/CCDC113.fna',\n",
       " '/Users/lisa.barros/Desktop/oligo-designer-toolsuite/tests/notebooks/output/annotation/CCDC154.fna',\n",
       " '/Users/lisa.barros/Desktop/oligo-designer-toolsuite/tests/notebooks/output/annotation/CCDC78.fna',\n",
       " '/Users/lisa.barros/Desktop/oligo-designer-toolsuite/tests/notebooks/output/annotation/CCL17.fna',\n",
       " '/Users/lisa.barros/Desktop/oligo-designer-toolsuite/tests/notebooks/output/annotation/CCL22.fna',\n",
       " '/Users/lisa.barros/Desktop/oligo-designer-toolsuite/tests/notebooks/output/annotation/CCNF.fna',\n",
       " '/Users/lisa.barros/Desktop/oligo-designer-toolsuite/tests/notebooks/output/annotation/CCNYL3.fna',\n",
       " '/Users/lisa.barros/Desktop/oligo-designer-toolsuite/tests/notebooks/output/annotation/CCP110.fna',\n",
       " '/Users/lisa.barros/Desktop/oligo-designer-toolsuite/tests/notebooks/output/annotation/CD19.fna',\n",
       " '/Users/lisa.barros/Desktop/oligo-designer-toolsuite/tests/notebooks/output/annotation/CD2BP2-DT.fna',\n",
       " '/Users/lisa.barros/Desktop/oligo-designer-toolsuite/tests/notebooks/output/annotation/CD2BP2.fna',\n",
       " '/Users/lisa.barros/Desktop/oligo-designer-toolsuite/tests/notebooks/output/annotation/CDH1.fna',\n",
       " '/Users/lisa.barros/Desktop/oligo-designer-toolsuite/tests/notebooks/output/annotation/CDH11.fna',\n",
       " '/Users/lisa.barros/Desktop/oligo-designer-toolsuite/tests/notebooks/output/annotation/CDH13-AS1.fna',\n",
       " '/Users/lisa.barros/Desktop/oligo-designer-toolsuite/tests/notebooks/output/annotation/CDH13.fna',\n",
       " '/Users/lisa.barros/Desktop/oligo-designer-toolsuite/tests/notebooks/output/annotation/CDH15.fna',\n",
       " '/Users/lisa.barros/Desktop/oligo-designer-toolsuite/tests/notebooks/output/annotation/CDH16.fna',\n",
       " '/Users/lisa.barros/Desktop/oligo-designer-toolsuite/tests/notebooks/output/annotation/CDH3.fna',\n",
       " '/Users/lisa.barros/Desktop/oligo-designer-toolsuite/tests/notebooks/output/annotation/CDH5.fna',\n",
       " '/Users/lisa.barros/Desktop/oligo-designer-toolsuite/tests/notebooks/output/annotation/CDH8.fna',\n",
       " '/Users/lisa.barros/Desktop/oligo-designer-toolsuite/tests/notebooks/output/annotation/CDIP1.fna',\n",
       " '/Users/lisa.barros/Desktop/oligo-designer-toolsuite/tests/notebooks/output/annotation/CDIPT.fna',\n",
       " '/Users/lisa.barros/Desktop/oligo-designer-toolsuite/tests/notebooks/output/annotation/CDIPTOSP.fna',\n",
       " '/Users/lisa.barros/Desktop/oligo-designer-toolsuite/tests/notebooks/output/annotation/CDK10.fna',\n",
       " '/Users/lisa.barros/Desktop/oligo-designer-toolsuite/tests/notebooks/output/annotation/CDR2-DT.fna',\n",
       " '/Users/lisa.barros/Desktop/oligo-designer-toolsuite/tests/notebooks/output/annotation/CDR2.fna',\n",
       " '/Users/lisa.barros/Desktop/oligo-designer-toolsuite/tests/notebooks/output/annotation/CDT1.fna',\n",
       " '/Users/lisa.barros/Desktop/oligo-designer-toolsuite/tests/notebooks/output/annotation/CDYL2.fna',\n",
       " '/Users/lisa.barros/Desktop/oligo-designer-toolsuite/tests/notebooks/output/annotation/CEMP1.fna',\n",
       " '/Users/lisa.barros/Desktop/oligo-designer-toolsuite/tests/notebooks/output/annotation/CENPBD1P.fna',\n",
       " '/Users/lisa.barros/Desktop/oligo-designer-toolsuite/tests/notebooks/output/annotation/CENPN-AS1.fna',\n",
       " '/Users/lisa.barros/Desktop/oligo-designer-toolsuite/tests/notebooks/output/annotation/CENPN.fna',\n",
       " '/Users/lisa.barros/Desktop/oligo-designer-toolsuite/tests/notebooks/output/annotation/CENPT.fna',\n",
       " '/Users/lisa.barros/Desktop/oligo-designer-toolsuite/tests/notebooks/output/annotation/CEP20.fna',\n",
       " '/Users/lisa.barros/Desktop/oligo-designer-toolsuite/tests/notebooks/output/annotation/CEROX1.fna',\n",
       " '/Users/lisa.barros/Desktop/oligo-designer-toolsuite/tests/notebooks/output/annotation/CES1.fna',\n",
       " '/Users/lisa.barros/Desktop/oligo-designer-toolsuite/tests/notebooks/output/annotation/CES1P1.fna',\n",
       " '/Users/lisa.barros/Desktop/oligo-designer-toolsuite/tests/notebooks/output/annotation/CES1P2.fna',\n",
       " '/Users/lisa.barros/Desktop/oligo-designer-toolsuite/tests/notebooks/output/annotation/CES2.fna',\n",
       " '/Users/lisa.barros/Desktop/oligo-designer-toolsuite/tests/notebooks/output/annotation/CES3.fna',\n",
       " '/Users/lisa.barros/Desktop/oligo-designer-toolsuite/tests/notebooks/output/annotation/CES4A.fna',\n",
       " '/Users/lisa.barros/Desktop/oligo-designer-toolsuite/tests/notebooks/output/annotation/CES5A.fna',\n",
       " '/Users/lisa.barros/Desktop/oligo-designer-toolsuite/tests/notebooks/output/annotation/CETP.fna',\n",
       " '/Users/lisa.barros/Desktop/oligo-designer-toolsuite/tests/notebooks/output/annotation/CFAP119.fna',\n",
       " '/Users/lisa.barros/Desktop/oligo-designer-toolsuite/tests/notebooks/output/annotation/CFAP20.fna',\n",
       " '/Users/lisa.barros/Desktop/oligo-designer-toolsuite/tests/notebooks/output/annotation/CFDP1.fna',\n",
       " '/Users/lisa.barros/Desktop/oligo-designer-toolsuite/tests/notebooks/output/annotation/CHD9.fna',\n",
       " '/Users/lisa.barros/Desktop/oligo-designer-toolsuite/tests/notebooks/output/annotation/CHMP1A.fna',\n",
       " '/Users/lisa.barros/Desktop/oligo-designer-toolsuite/tests/notebooks/output/annotation/CHP2.fna',\n",
       " '/Users/lisa.barros/Desktop/oligo-designer-toolsuite/tests/notebooks/output/annotation/CHST4.fna',\n",
       " '/Users/lisa.barros/Desktop/oligo-designer-toolsuite/tests/notebooks/output/annotation/CHST5.fna',\n",
       " '/Users/lisa.barros/Desktop/oligo-designer-toolsuite/tests/notebooks/output/annotation/CHST6.fna',\n",
       " '/Users/lisa.barros/Desktop/oligo-designer-toolsuite/tests/notebooks/output/annotation/CHTF18.fna',\n",
       " '/Users/lisa.barros/Desktop/oligo-designer-toolsuite/tests/notebooks/output/annotation/CHTF8.fna',\n",
       " '/Users/lisa.barros/Desktop/oligo-designer-toolsuite/tests/notebooks/output/annotation/CIAO2B.fna',\n",
       " '/Users/lisa.barros/Desktop/oligo-designer-toolsuite/tests/notebooks/output/annotation/CIAO3.fna',\n",
       " '/Users/lisa.barros/Desktop/oligo-designer-toolsuite/tests/notebooks/output/annotation/CIAPIN1.fna',\n",
       " '/Users/lisa.barros/Desktop/oligo-designer-toolsuite/tests/notebooks/output/annotation/CIBAR2.fna',\n",
       " '/Users/lisa.barros/Desktop/oligo-designer-toolsuite/tests/notebooks/output/annotation/CIITA.fna',\n",
       " '/Users/lisa.barros/Desktop/oligo-designer-toolsuite/tests/notebooks/output/annotation/CKLF-CMTM1.fna',\n",
       " '/Users/lisa.barros/Desktop/oligo-designer-toolsuite/tests/notebooks/output/annotation/CKLF.fna',\n",
       " '/Users/lisa.barros/Desktop/oligo-designer-toolsuite/tests/notebooks/output/annotation/CLCN7.fna',\n",
       " '/Users/lisa.barros/Desktop/oligo-designer-toolsuite/tests/notebooks/output/annotation/CLDN6.fna',\n",
       " '/Users/lisa.barros/Desktop/oligo-designer-toolsuite/tests/notebooks/output/annotation/CLDN9.fna',\n",
       " '/Users/lisa.barros/Desktop/oligo-designer-toolsuite/tests/notebooks/output/annotation/CLEC16A.fna',\n",
       " '/Users/lisa.barros/Desktop/oligo-designer-toolsuite/tests/notebooks/output/annotation/CLEC18A.fna',\n",
       " '/Users/lisa.barros/Desktop/oligo-designer-toolsuite/tests/notebooks/output/annotation/CLEC18B.fna',\n",
       " '/Users/lisa.barros/Desktop/oligo-designer-toolsuite/tests/notebooks/output/annotation/CLEC18C.fna',\n",
       " '/Users/lisa.barros/Desktop/oligo-designer-toolsuite/tests/notebooks/output/annotation/CLEC19A.fna',\n",
       " '/Users/lisa.barros/Desktop/oligo-designer-toolsuite/tests/notebooks/output/annotation/CLEC3A.fna',\n",
       " '/Users/lisa.barros/Desktop/oligo-designer-toolsuite/tests/notebooks/output/annotation/CLN3.fna',\n",
       " '/Users/lisa.barros/Desktop/oligo-designer-toolsuite/tests/notebooks/output/annotation/CLUAP1.fna',\n",
       " '/Users/lisa.barros/Desktop/oligo-designer-toolsuite/tests/notebooks/output/annotation/CLUHP3.fna',\n",
       " '/Users/lisa.barros/Desktop/oligo-designer-toolsuite/tests/notebooks/output/annotation/CMC2.fna',\n",
       " '/Users/lisa.barros/Desktop/oligo-designer-toolsuite/tests/notebooks/output/annotation/CMIP.fna',\n",
       " '/Users/lisa.barros/Desktop/oligo-designer-toolsuite/tests/notebooks/output/annotation/CMTM1.fna',\n",
       " '/Users/lisa.barros/Desktop/oligo-designer-toolsuite/tests/notebooks/output/annotation/CMTM2.fna',\n",
       " '/Users/lisa.barros/Desktop/oligo-designer-toolsuite/tests/notebooks/output/annotation/CMTM3.fna',\n",
       " '/Users/lisa.barros/Desktop/oligo-designer-toolsuite/tests/notebooks/output/annotation/CMTM4.fna',\n",
       " '/Users/lisa.barros/Desktop/oligo-designer-toolsuite/tests/notebooks/output/annotation/CMTR2.fna',\n",
       " '/Users/lisa.barros/Desktop/oligo-designer-toolsuite/tests/notebooks/output/annotation/CNEP1R1.fna',\n",
       " '/Users/lisa.barros/Desktop/oligo-designer-toolsuite/tests/notebooks/output/annotation/CNGB1.fna',\n",
       " '/Users/lisa.barros/Desktop/oligo-designer-toolsuite/tests/notebooks/output/annotation/CNOT1.fna',\n",
       " '/Users/lisa.barros/Desktop/oligo-designer-toolsuite/tests/notebooks/output/annotation/CNTNAP4.fna',\n",
       " '/Users/lisa.barros/Desktop/oligo-designer-toolsuite/tests/notebooks/output/annotation/COG4.fna',\n",
       " '/Users/lisa.barros/Desktop/oligo-designer-toolsuite/tests/notebooks/output/annotation/COG7.fna',\n",
       " '/Users/lisa.barros/Desktop/oligo-designer-toolsuite/tests/notebooks/output/annotation/COG8.fna',\n",
       " '/Users/lisa.barros/Desktop/oligo-designer-toolsuite/tests/notebooks/output/annotation/COQ7-DT.fna',\n",
       " '/Users/lisa.barros/Desktop/oligo-designer-toolsuite/tests/notebooks/output/annotation/COQ7.fna',\n",
       " '/Users/lisa.barros/Desktop/oligo-designer-toolsuite/tests/notebooks/output/annotation/COQ9.fna',\n",
       " '/Users/lisa.barros/Desktop/oligo-designer-toolsuite/tests/notebooks/output/annotation/CORO1A.fna',\n",
       " '/Users/lisa.barros/Desktop/oligo-designer-toolsuite/tests/notebooks/output/annotation/CORO7-PAM16.fna',\n",
       " '/Users/lisa.barros/Desktop/oligo-designer-toolsuite/tests/notebooks/output/annotation/CORO7.fna',\n",
       " '/Users/lisa.barros/Desktop/oligo-designer-toolsuite/tests/notebooks/output/annotation/COTL1.fna',\n",
       " '/Users/lisa.barros/Desktop/oligo-designer-toolsuite/tests/notebooks/output/annotation/COX4I1.fna',\n",
       " '/Users/lisa.barros/Desktop/oligo-designer-toolsuite/tests/notebooks/output/annotation/COX6A2.fna',\n",
       " '/Users/lisa.barros/Desktop/oligo-designer-toolsuite/tests/notebooks/output/annotation/CPHXL.fna',\n",
       " '/Users/lisa.barros/Desktop/oligo-designer-toolsuite/tests/notebooks/output/annotation/CPHXL2.fna',\n",
       " '/Users/lisa.barros/Desktop/oligo-designer-toolsuite/tests/notebooks/output/annotation/CPNE2.fna',\n",
       " '/Users/lisa.barros/Desktop/oligo-designer-toolsuite/tests/notebooks/output/annotation/CPNE7.fna',\n",
       " '/Users/lisa.barros/Desktop/oligo-designer-toolsuite/tests/notebooks/output/annotation/CPPED1.fna',\n",
       " '/Users/lisa.barros/Desktop/oligo-designer-toolsuite/tests/notebooks/output/annotation/CRAMP1.fna',\n",
       " '/Users/lisa.barros/Desktop/oligo-designer-toolsuite/tests/notebooks/output/annotation/CREBBP.fna',\n",
       " '/Users/lisa.barros/Desktop/oligo-designer-toolsuite/tests/notebooks/output/annotation/CRISPLD2.fna',\n",
       " '/Users/lisa.barros/Desktop/oligo-designer-toolsuite/tests/notebooks/output/annotation/CRNDE.fna',\n",
       " '/Users/lisa.barros/Desktop/oligo-designer-toolsuite/tests/notebooks/output/annotation/CRYM-AS1.fna',\n",
       " '/Users/lisa.barros/Desktop/oligo-designer-toolsuite/tests/notebooks/output/annotation/CRYM.fna',\n",
       " '/Users/lisa.barros/Desktop/oligo-designer-toolsuite/tests/notebooks/output/annotation/CSNK2A2.fna',\n",
       " '/Users/lisa.barros/Desktop/oligo-designer-toolsuite/tests/notebooks/output/annotation/CTCF-DT.fna',\n",
       " '/Users/lisa.barros/Desktop/oligo-designer-toolsuite/tests/notebooks/output/annotation/CTCF.fna',\n",
       " '/Users/lisa.barros/Desktop/oligo-designer-toolsuite/tests/notebooks/output/annotation/CTF1.fna',\n",
       " '/Users/lisa.barros/Desktop/oligo-designer-toolsuite/tests/notebooks/output/annotation/CTRB1.fna',\n",
       " '/Users/lisa.barros/Desktop/oligo-designer-toolsuite/tests/notebooks/output/annotation/CTRB2.fna',\n",
       " '/Users/lisa.barros/Desktop/oligo-designer-toolsuite/tests/notebooks/output/annotation/CTRL.fna',\n",
       " '/Users/lisa.barros/Desktop/oligo-designer-toolsuite/tests/notebooks/output/annotation/CTU2.fna',\n",
       " '/Users/lisa.barros/Desktop/oligo-designer-toolsuite/tests/notebooks/output/annotation/CX3CL1.fna',\n",
       " '/Users/lisa.barros/Desktop/oligo-designer-toolsuite/tests/notebooks/output/annotation/CYB5B.fna',\n",
       " '/Users/lisa.barros/Desktop/oligo-designer-toolsuite/tests/notebooks/output/annotation/CYBA.fna',\n",
       " '/Users/lisa.barros/Desktop/oligo-designer-toolsuite/tests/notebooks/output/annotation/CYLD-AS1.fna',\n",
       " '/Users/lisa.barros/Desktop/oligo-designer-toolsuite/tests/notebooks/output/annotation/CYLD.fna',\n",
       " '/Users/lisa.barros/Desktop/oligo-designer-toolsuite/tests/notebooks/output/annotation/DBNDD1.fna',\n",
       " '/Users/lisa.barros/Desktop/oligo-designer-toolsuite/tests/notebooks/output/annotation/DCTN5.fna',\n",
       " '/Users/lisa.barros/Desktop/oligo-designer-toolsuite/tests/notebooks/output/annotation/DCTPP1.fna',\n",
       " '/Users/lisa.barros/Desktop/oligo-designer-toolsuite/tests/notebooks/output/annotation/DCUN1D3.fna',\n",
       " '/Users/lisa.barros/Desktop/oligo-designer-toolsuite/tests/notebooks/output/annotation/DDX11L10.fna',\n",
       " '/Users/lisa.barros/Desktop/oligo-designer-toolsuite/tests/notebooks/output/annotation/DDX19A-DT.fna',\n",
       " '/Users/lisa.barros/Desktop/oligo-designer-toolsuite/tests/notebooks/output/annotation/DDX19A.fna',\n",
       " '/Users/lisa.barros/Desktop/oligo-designer-toolsuite/tests/notebooks/output/annotation/DDX19B.fna',\n",
       " '/Users/lisa.barros/Desktop/oligo-designer-toolsuite/tests/notebooks/output/annotation/DDX28.fna',\n",
       " '/Users/lisa.barros/Desktop/oligo-designer-toolsuite/tests/notebooks/output/annotation/DECR2.fna',\n",
       " '/Users/lisa.barros/Desktop/oligo-designer-toolsuite/tests/notebooks/output/annotation/DEF8.fna',\n",
       " '/Users/lisa.barros/Desktop/oligo-designer-toolsuite/tests/notebooks/output/annotation/DERPC.fna',\n",
       " '/Users/lisa.barros/Desktop/oligo-designer-toolsuite/tests/notebooks/output/annotation/DEXI.fna',\n",
       " '/Users/lisa.barros/Desktop/oligo-designer-toolsuite/tests/notebooks/output/annotation/DHODH.fna',\n",
       " '/Users/lisa.barros/Desktop/oligo-designer-toolsuite/tests/notebooks/output/annotation/DHX38.fna',\n",
       " '/Users/lisa.barros/Desktop/oligo-designer-toolsuite/tests/notebooks/output/annotation/DNAAF1.fna',\n",
       " '/Users/lisa.barros/Desktop/oligo-designer-toolsuite/tests/notebooks/output/annotation/DNAAF8.fna',\n",
       " '/Users/lisa.barros/Desktop/oligo-designer-toolsuite/tests/notebooks/output/annotation/DNAH3.fna',\n",
       " '/Users/lisa.barros/Desktop/oligo-designer-toolsuite/tests/notebooks/output/annotation/DNAJA2.fna',\n",
       " '/Users/lisa.barros/Desktop/oligo-designer-toolsuite/tests/notebooks/output/annotation/DNAJA3.fna',\n",
       " '/Users/lisa.barros/Desktop/oligo-designer-toolsuite/tests/notebooks/output/annotation/DNASE1.fna',\n",
       " '/Users/lisa.barros/Desktop/oligo-designer-toolsuite/tests/notebooks/output/annotation/DNASE1L2.fna',\n",
       " '/Users/lisa.barros/Desktop/oligo-designer-toolsuite/tests/notebooks/output/annotation/DOC2A.fna',\n",
       " '/Users/lisa.barros/Desktop/oligo-designer-toolsuite/tests/notebooks/output/annotation/DOK4.fna',\n",
       " '/Users/lisa.barros/Desktop/oligo-designer-toolsuite/tests/notebooks/output/annotation/DPEP1.fna',\n",
       " '/Users/lisa.barros/Desktop/oligo-designer-toolsuite/tests/notebooks/output/annotation/DPEP2.fna',\n",
       " '/Users/lisa.barros/Desktop/oligo-designer-toolsuite/tests/notebooks/output/annotation/DPEP2NB.fna',\n",
       " '/Users/lisa.barros/Desktop/oligo-designer-toolsuite/tests/notebooks/output/annotation/DPEP3.fna',\n",
       " '/Users/lisa.barros/Desktop/oligo-designer-toolsuite/tests/notebooks/output/annotation/DRC7.fna',\n",
       " '/Users/lisa.barros/Desktop/oligo-designer-toolsuite/tests/notebooks/output/annotation/DUS2.fna',\n",
       " '/Users/lisa.barros/Desktop/oligo-designer-toolsuite/tests/notebooks/output/annotation/DUXB.fna',\n",
       " '/Users/lisa.barros/Desktop/oligo-designer-toolsuite/tests/notebooks/output/annotation/DYNC1LI2-DT.fna',\n",
       " '/Users/lisa.barros/Desktop/oligo-designer-toolsuite/tests/notebooks/output/annotation/DYNC1LI2.fna',\n",
       " '/Users/lisa.barros/Desktop/oligo-designer-toolsuite/tests/notebooks/output/annotation/DYNLRB2-AS1.fna',\n",
       " '/Users/lisa.barros/Desktop/oligo-designer-toolsuite/tests/notebooks/output/annotation/DYNLRB2.fna',\n",
       " '/Users/lisa.barros/Desktop/oligo-designer-toolsuite/tests/notebooks/output/annotation/E2F4.fna',\n",
       " '/Users/lisa.barros/Desktop/oligo-designer-toolsuite/tests/notebooks/output/annotation/E4F1.fna',\n",
       " '/Users/lisa.barros/Desktop/oligo-designer-toolsuite/tests/notebooks/output/annotation/EARS2.fna',\n",
       " '/Users/lisa.barros/Desktop/oligo-designer-toolsuite/tests/notebooks/output/annotation/ECI1.fna',\n",
       " '/Users/lisa.barros/Desktop/oligo-designer-toolsuite/tests/notebooks/output/annotation/EDC4.fna',\n",
       " '/Users/lisa.barros/Desktop/oligo-designer-toolsuite/tests/notebooks/output/annotation/EEF2K.fna',\n",
       " '/Users/lisa.barros/Desktop/oligo-designer-toolsuite/tests/notebooks/output/annotation/EEF2KMT.fna',\n",
       " '/Users/lisa.barros/Desktop/oligo-designer-toolsuite/tests/notebooks/output/annotation/EIF3C.fna',\n",
       " '/Users/lisa.barros/Desktop/oligo-designer-toolsuite/tests/notebooks/output/annotation/EIF3CL.fna',\n",
       " '/Users/lisa.barros/Desktop/oligo-designer-toolsuite/tests/notebooks/output/annotation/ELMO3.fna',\n",
       " '/Users/lisa.barros/Desktop/oligo-designer-toolsuite/tests/notebooks/output/annotation/ELOB.fna',\n",
       " '/Users/lisa.barros/Desktop/oligo-designer-toolsuite/tests/notebooks/output/annotation/EMC8.fna',\n",
       " '/Users/lisa.barros/Desktop/oligo-designer-toolsuite/tests/notebooks/output/annotation/EME2.fna',\n",
       " '/Users/lisa.barros/Desktop/oligo-designer-toolsuite/tests/notebooks/output/annotation/EMP2.fna',\n",
       " '/Users/lisa.barros/Desktop/oligo-designer-toolsuite/tests/notebooks/output/annotation/ENKD1.fna',\n",
       " '/Users/lisa.barros/Desktop/oligo-designer-toolsuite/tests/notebooks/output/annotation/ENPP7P13.fna',\n",
       " '/Users/lisa.barros/Desktop/oligo-designer-toolsuite/tests/notebooks/output/annotation/ERCC4.fna',\n",
       " '/Users/lisa.barros/Desktop/oligo-designer-toolsuite/tests/notebooks/output/annotation/ERI2.fna',\n",
       " '/Users/lisa.barros/Desktop/oligo-designer-toolsuite/tests/notebooks/output/annotation/ERN2.fna',\n",
       " '/Users/lisa.barros/Desktop/oligo-designer-toolsuite/tests/notebooks/output/annotation/ERVK13-1.fna',\n",
       " '/Users/lisa.barros/Desktop/oligo-designer-toolsuite/tests/notebooks/output/annotation/ESRP2.fna',\n",
       " '/Users/lisa.barros/Desktop/oligo-designer-toolsuite/tests/notebooks/output/annotation/EXOC3L1.fna',\n",
       " '/Users/lisa.barros/Desktop/oligo-designer-toolsuite/tests/notebooks/output/annotation/EXOSC6.fna',\n",
       " '/Users/lisa.barros/Desktop/oligo-designer-toolsuite/tests/notebooks/output/annotation/FA2H.fna',\n",
       " '/Users/lisa.barros/Desktop/oligo-designer-toolsuite/tests/notebooks/output/annotation/FAHD1.fna',\n",
       " '/Users/lisa.barros/Desktop/oligo-designer-toolsuite/tests/notebooks/output/annotation/FAM153DP.fna',\n",
       " '/Users/lisa.barros/Desktop/oligo-designer-toolsuite/tests/notebooks/output/annotation/FAM157C.fna',\n",
       " '/Users/lisa.barros/Desktop/oligo-designer-toolsuite/tests/notebooks/output/annotation/FAM234A.fna',\n",
       " '/Users/lisa.barros/Desktop/oligo-designer-toolsuite/tests/notebooks/output/annotation/FANCA.fna',\n",
       " '/Users/lisa.barros/Desktop/oligo-designer-toolsuite/tests/notebooks/output/annotation/FBRS.fna',\n",
       " '/Users/lisa.barros/Desktop/oligo-designer-toolsuite/tests/notebooks/output/annotation/FBXL16.fna',\n",
       " '/Users/lisa.barros/Desktop/oligo-designer-toolsuite/tests/notebooks/output/annotation/FBXL19-AS1.fna',\n",
       " '/Users/lisa.barros/Desktop/oligo-designer-toolsuite/tests/notebooks/output/annotation/FBXL19.fna',\n",
       " '/Users/lisa.barros/Desktop/oligo-designer-toolsuite/tests/notebooks/output/annotation/FBXL8.fna',\n",
       " '/Users/lisa.barros/Desktop/oligo-designer-toolsuite/tests/notebooks/output/annotation/FBXO31.fna',\n",
       " '/Users/lisa.barros/Desktop/oligo-designer-toolsuite/tests/notebooks/output/annotation/FCSK.fna',\n",
       " '/Users/lisa.barros/Desktop/oligo-designer-toolsuite/tests/notebooks/output/annotation/FENDRR.fna',\n",
       " '/Users/lisa.barros/Desktop/oligo-designer-toolsuite/tests/notebooks/output/annotation/FHOD1.fna',\n",
       " '/Users/lisa.barros/Desktop/oligo-designer-toolsuite/tests/notebooks/output/annotation/FLJ30679.fna',\n",
       " '/Users/lisa.barros/Desktop/oligo-designer-toolsuite/tests/notebooks/output/annotation/FLJ42627.fna',\n",
       " '/Users/lisa.barros/Desktop/oligo-designer-toolsuite/tests/notebooks/output/annotation/FLYWCH1.fna',\n",
       " '/Users/lisa.barros/Desktop/oligo-designer-toolsuite/tests/notebooks/output/annotation/FLYWCH2.fna',\n",
       " '/Users/lisa.barros/Desktop/oligo-designer-toolsuite/tests/notebooks/output/annotation/FOXC2-AS1.fna',\n",
       " '/Users/lisa.barros/Desktop/oligo-designer-toolsuite/tests/notebooks/output/annotation/FOXC2.fna',\n",
       " '/Users/lisa.barros/Desktop/oligo-designer-toolsuite/tests/notebooks/output/annotation/FOXF1.fna',\n",
       " '/Users/lisa.barros/Desktop/oligo-designer-toolsuite/tests/notebooks/output/annotation/FOXL1.fna',\n",
       " '/Users/lisa.barros/Desktop/oligo-designer-toolsuite/tests/notebooks/output/annotation/FRG2DP.fna',\n",
       " '/Users/lisa.barros/Desktop/oligo-designer-toolsuite/tests/notebooks/output/annotation/FRG2KP.fna',\n",
       " '/Users/lisa.barros/Desktop/oligo-designer-toolsuite/tests/notebooks/output/annotation/FTO-IT1.fna',\n",
       " '/Users/lisa.barros/Desktop/oligo-designer-toolsuite/tests/notebooks/output/annotation/FTO.fna',\n",
       " '/Users/lisa.barros/Desktop/oligo-designer-toolsuite/tests/notebooks/output/annotation/FUS.fna',\n",
       " '/Users/lisa.barros/Desktop/oligo-designer-toolsuite/tests/notebooks/output/annotation/GABARAPL2.fna',\n",
       " '/Users/lisa.barros/Desktop/oligo-designer-toolsuite/tests/notebooks/output/annotation/GALNS.fna',\n",
       " '/Users/lisa.barros/Desktop/oligo-designer-toolsuite/tests/notebooks/output/annotation/GAN.fna',\n",
       " '/Users/lisa.barros/Desktop/oligo-designer-toolsuite/tests/notebooks/output/annotation/GAS8-AS1.fna',\n",
       " '/Users/lisa.barros/Desktop/oligo-designer-toolsuite/tests/notebooks/output/annotation/GAS8.fna',\n",
       " '/Users/lisa.barros/Desktop/oligo-designer-toolsuite/tests/notebooks/output/annotation/GCSH.fna',\n",
       " '/Users/lisa.barros/Desktop/oligo-designer-toolsuite/tests/notebooks/output/annotation/GDE1.fna',\n",
       " '/Users/lisa.barros/Desktop/oligo-designer-toolsuite/tests/notebooks/output/annotation/GDPD3.fna',\n",
       " '/Users/lisa.barros/Desktop/oligo-designer-toolsuite/tests/notebooks/output/annotation/GFER.fna',\n",
       " '/Users/lisa.barros/Desktop/oligo-designer-toolsuite/tests/notebooks/output/annotation/GFOD2.fna',\n",
       " '/Users/lisa.barros/Desktop/oligo-designer-toolsuite/tests/notebooks/output/annotation/GGA2.fna',\n",
       " '/Users/lisa.barros/Desktop/oligo-designer-toolsuite/tests/notebooks/output/annotation/GINS2.fna',\n",
       " '/Users/lisa.barros/Desktop/oligo-designer-toolsuite/tests/notebooks/output/annotation/GINS3.fna',\n",
       " '/Users/lisa.barros/Desktop/oligo-designer-toolsuite/tests/notebooks/output/annotation/GLG1.fna',\n",
       " '/Users/lisa.barros/Desktop/oligo-designer-toolsuite/tests/notebooks/output/annotation/GLIS2-AS1.fna',\n",
       " '/Users/lisa.barros/Desktop/oligo-designer-toolsuite/tests/notebooks/output/annotation/GLIS2.fna',\n",
       " '/Users/lisa.barros/Desktop/oligo-designer-toolsuite/tests/notebooks/output/annotation/GLYR1.fna',\n",
       " '/Users/lisa.barros/Desktop/oligo-designer-toolsuite/tests/notebooks/output/annotation/GNAO1-AS1.fna',\n",
       " '/Users/lisa.barros/Desktop/oligo-designer-toolsuite/tests/notebooks/output/annotation/GNAO1-DT.fna',\n",
       " '/Users/lisa.barros/Desktop/oligo-designer-toolsuite/tests/notebooks/output/annotation/GNAO1.fna',\n",
       " '/Users/lisa.barros/Desktop/oligo-designer-toolsuite/tests/notebooks/output/annotation/GNG13.fna',\n",
       " '/Users/lisa.barros/Desktop/oligo-designer-toolsuite/tests/notebooks/output/annotation/GNPTG.fna',\n",
       " '/Users/lisa.barros/Desktop/oligo-designer-toolsuite/tests/notebooks/output/annotation/GOT2.fna',\n",
       " '/Users/lisa.barros/Desktop/oligo-designer-toolsuite/tests/notebooks/output/annotation/GP2.fna',\n",
       " '/Users/lisa.barros/Desktop/oligo-designer-toolsuite/tests/notebooks/output/annotation/GPR139.fna',\n",
       " '/Users/lisa.barros/Desktop/oligo-designer-toolsuite/tests/notebooks/output/annotation/GPRC5B.fna',\n",
       " '/Users/lisa.barros/Desktop/oligo-designer-toolsuite/tests/notebooks/output/annotation/GPT2.fna',\n",
       " '/Users/lisa.barros/Desktop/oligo-designer-toolsuite/tests/notebooks/output/annotation/GREP1.fna',\n",
       " '/Users/lisa.barros/Desktop/oligo-designer-toolsuite/tests/notebooks/output/annotation/GRIN2A.fna',\n",
       " '/Users/lisa.barros/Desktop/oligo-designer-toolsuite/tests/notebooks/output/annotation/GSE1.fna',\n",
       " '/Users/lisa.barros/Desktop/oligo-designer-toolsuite/tests/notebooks/output/annotation/GSG1L.fna',\n",
       " '/Users/lisa.barros/Desktop/oligo-designer-toolsuite/tests/notebooks/output/annotation/GSPT1.fna',\n",
       " '/Users/lisa.barros/Desktop/oligo-designer-toolsuite/tests/notebooks/output/annotation/GTF3C1.fna',\n",
       " '/Users/lisa.barros/Desktop/oligo-designer-toolsuite/tests/notebooks/output/annotation/HAGH.fna',\n",
       " '/Users/lisa.barros/Desktop/oligo-designer-toolsuite/tests/notebooks/output/annotation/HAGHL.fna',\n",
       " '/Users/lisa.barros/Desktop/oligo-designer-toolsuite/tests/notebooks/output/annotation/HAS3.fna',\n",
       " '/Users/lisa.barros/Desktop/oligo-designer-toolsuite/tests/notebooks/output/annotation/HBA1.fna',\n",
       " '/Users/lisa.barros/Desktop/oligo-designer-toolsuite/tests/notebooks/output/annotation/HBA2.fna',\n",
       " '/Users/lisa.barros/Desktop/oligo-designer-toolsuite/tests/notebooks/output/annotation/HBM.fna',\n",
       " '/Users/lisa.barros/Desktop/oligo-designer-toolsuite/tests/notebooks/output/annotation/HBQ1.fna',\n",
       " '/Users/lisa.barros/Desktop/oligo-designer-toolsuite/tests/notebooks/output/annotation/HBZ.fna',\n",
       " '/Users/lisa.barros/Desktop/oligo-designer-toolsuite/tests/notebooks/output/annotation/HCCAT5.fna',\n",
       " '/Users/lisa.barros/Desktop/oligo-designer-toolsuite/tests/notebooks/output/annotation/HCFC1R1.fna',\n",
       " '/Users/lisa.barros/Desktop/oligo-designer-toolsuite/tests/notebooks/output/annotation/HEATR3.fna',\n",
       " '/Users/lisa.barros/Desktop/oligo-designer-toolsuite/tests/notebooks/output/annotation/HERC2P4.fna',\n",
       " '/Users/lisa.barros/Desktop/oligo-designer-toolsuite/tests/notebooks/output/annotation/HERPUD1.fna',\n",
       " '/Users/lisa.barros/Desktop/oligo-designer-toolsuite/tests/notebooks/output/annotation/HIRIP3.fna',\n",
       " '/Users/lisa.barros/Desktop/oligo-designer-toolsuite/tests/notebooks/output/annotation/HMOX2.fna',\n",
       " '/Users/lisa.barros/Desktop/oligo-designer-toolsuite/tests/notebooks/output/annotation/HNRNPA1L3.fna',\n",
       " '/Users/lisa.barros/Desktop/oligo-designer-toolsuite/tests/notebooks/output/annotation/HP.fna',\n",
       " '/Users/lisa.barros/Desktop/oligo-designer-toolsuite/tests/notebooks/output/annotation/HPR.fna',\n",
       " '/Users/lisa.barros/Desktop/oligo-designer-toolsuite/tests/notebooks/output/annotation/HS3ST2.fna',\n",
       " '/Users/lisa.barros/Desktop/oligo-designer-toolsuite/tests/notebooks/output/annotation/HS3ST4.fna',\n",
       " '/Users/lisa.barros/Desktop/oligo-designer-toolsuite/tests/notebooks/output/annotation/HS3ST6.fna',\n",
       " '/Users/lisa.barros/Desktop/oligo-designer-toolsuite/tests/notebooks/output/annotation/HSBP1.fna',\n",
       " '/Users/lisa.barros/Desktop/oligo-designer-toolsuite/tests/notebooks/output/annotation/HSD11B2.fna',\n",
       " '/Users/lisa.barros/Desktop/oligo-designer-toolsuite/tests/notebooks/output/annotation/HSD17B2.fna',\n",
       " '/Users/lisa.barros/Desktop/oligo-designer-toolsuite/tests/notebooks/output/annotation/HSD3B7.fna',\n",
       " '/Users/lisa.barros/Desktop/oligo-designer-toolsuite/tests/notebooks/output/annotation/HSDL1.fna',\n",
       " '/Users/lisa.barros/Desktop/oligo-designer-toolsuite/tests/notebooks/output/annotation/HSF4.fna',\n",
       " '/Users/lisa.barros/Desktop/oligo-designer-toolsuite/tests/notebooks/output/annotation/HYDIN.fna',\n",
       " '/Users/lisa.barros/Desktop/oligo-designer-toolsuite/tests/notebooks/output/annotation/IFT140.fna',\n",
       " '/Users/lisa.barros/Desktop/oligo-designer-toolsuite/tests/notebooks/output/annotation/IGFALS.fna',\n",
       " '/Users/lisa.barros/Desktop/oligo-designer-toolsuite/tests/notebooks/output/annotation/IGHV3OR16-17.fna',\n",
       " '/Users/lisa.barros/Desktop/oligo-designer-toolsuite/tests/notebooks/output/annotation/IGHV3OR16-8.fna',\n",
       " '/Users/lisa.barros/Desktop/oligo-designer-toolsuite/tests/notebooks/output/annotation/IGSF6.fna',\n",
       " '/Users/lisa.barros/Desktop/oligo-designer-toolsuite/tests/notebooks/output/annotation/IL17C.fna',\n",
       " '/Users/lisa.barros/Desktop/oligo-designer-toolsuite/tests/notebooks/output/annotation/IL21R-AS1.fna',\n",
       " '/Users/lisa.barros/Desktop/oligo-designer-toolsuite/tests/notebooks/output/annotation/IL21R.fna',\n",
       " '/Users/lisa.barros/Desktop/oligo-designer-toolsuite/tests/notebooks/output/annotation/IL27.fna',\n",
       " '/Users/lisa.barros/Desktop/oligo-designer-toolsuite/tests/notebooks/output/annotation/IL32.fna',\n",
       " '/Users/lisa.barros/Desktop/oligo-designer-toolsuite/tests/notebooks/output/annotation/IL34.fna',\n",
       " '/Users/lisa.barros/Desktop/oligo-designer-toolsuite/tests/notebooks/output/annotation/IL4R.fna',\n",
       " '/Users/lisa.barros/Desktop/oligo-designer-toolsuite/tests/notebooks/output/annotation/INO80E.fna',\n",
       " '/Users/lisa.barros/Desktop/oligo-designer-toolsuite/tests/notebooks/output/annotation/IQCK.fna',\n",
       " '/Users/lisa.barros/Desktop/oligo-designer-toolsuite/tests/notebooks/output/annotation/IRF8.fna',\n",
       " '/Users/lisa.barros/Desktop/oligo-designer-toolsuite/tests/notebooks/output/annotation/IRX3.fna',\n",
       " '/Users/lisa.barros/Desktop/oligo-designer-toolsuite/tests/notebooks/output/annotation/IRX5.fna',\n",
       " '/Users/lisa.barros/Desktop/oligo-designer-toolsuite/tests/notebooks/output/annotation/IRX6.fna',\n",
       " '/Users/lisa.barros/Desktop/oligo-designer-toolsuite/tests/notebooks/output/annotation/IST1.fna',\n",
       " '/Users/lisa.barros/Desktop/oligo-designer-toolsuite/tests/notebooks/output/annotation/ITFG1-AS1.fna',\n",
       " '/Users/lisa.barros/Desktop/oligo-designer-toolsuite/tests/notebooks/output/annotation/ITFG1.fna',\n",
       " '/Users/lisa.barros/Desktop/oligo-designer-toolsuite/tests/notebooks/output/annotation/ITGAD.fna',\n",
       " '/Users/lisa.barros/Desktop/oligo-designer-toolsuite/tests/notebooks/output/annotation/ITGAL.fna',\n",
       " '/Users/lisa.barros/Desktop/oligo-designer-toolsuite/tests/notebooks/output/annotation/ITGAM.fna',\n",
       " '/Users/lisa.barros/Desktop/oligo-designer-toolsuite/tests/notebooks/output/annotation/ITGAX.fna',\n",
       " '/Users/lisa.barros/Desktop/oligo-designer-toolsuite/tests/notebooks/output/annotation/ITPRIPL2.fna',\n",
       " '/Users/lisa.barros/Desktop/oligo-designer-toolsuite/tests/notebooks/output/annotation/JMJD8.fna',\n",
       " '/Users/lisa.barros/Desktop/oligo-designer-toolsuite/tests/notebooks/output/annotation/JPH3.fna',\n",
       " '/Users/lisa.barros/Desktop/oligo-designer-toolsuite/tests/notebooks/output/annotation/JPT2.fna',\n",
       " '/Users/lisa.barros/Desktop/oligo-designer-toolsuite/tests/notebooks/output/annotation/KARS1.fna',\n",
       " '/Users/lisa.barros/Desktop/oligo-designer-toolsuite/tests/notebooks/output/annotation/KAT8.fna',\n",
       " '/Users/lisa.barros/Desktop/oligo-designer-toolsuite/tests/notebooks/output/annotation/KATNB1.fna',\n",
       " '/Users/lisa.barros/Desktop/oligo-designer-toolsuite/tests/notebooks/output/annotation/KATNIP.fna',\n",
       " '/Users/lisa.barros/Desktop/oligo-designer-toolsuite/tests/notebooks/output/annotation/KCNG4.fna',\n",
       " '/Users/lisa.barros/Desktop/oligo-designer-toolsuite/tests/notebooks/output/annotation/KCTD13-DT.fna',\n",
       " '/Users/lisa.barros/Desktop/oligo-designer-toolsuite/tests/notebooks/output/annotation/KCTD13.fna',\n",
       " '/Users/lisa.barros/Desktop/oligo-designer-toolsuite/tests/notebooks/output/annotation/KCTD19.fna',\n",
       " '/Users/lisa.barros/Desktop/oligo-designer-toolsuite/tests/notebooks/output/annotation/KCTD5.fna',\n",
       " '/Users/lisa.barros/Desktop/oligo-designer-toolsuite/tests/notebooks/output/annotation/KDM8.fna',\n",
       " '/Users/lisa.barros/Desktop/oligo-designer-toolsuite/tests/notebooks/output/annotation/KIAA0513.fna',\n",
       " '/Users/lisa.barros/Desktop/oligo-designer-toolsuite/tests/notebooks/output/annotation/KIAA0895L.fna',\n",
       " '/Users/lisa.barros/Desktop/oligo-designer-toolsuite/tests/notebooks/output/annotation/KIF22.fna',\n",
       " '/Users/lisa.barros/Desktop/oligo-designer-toolsuite/tests/notebooks/output/annotation/KIFC3.fna',\n",
       " '/Users/lisa.barros/Desktop/oligo-designer-toolsuite/tests/notebooks/output/annotation/KLHDC4.fna',\n",
       " '/Users/lisa.barros/Desktop/oligo-designer-toolsuite/tests/notebooks/output/annotation/KLHL36.fna',\n",
       " '/Users/lisa.barros/Desktop/oligo-designer-toolsuite/tests/notebooks/output/annotation/KNOP1.fna',\n",
       " '/Users/lisa.barros/Desktop/oligo-designer-toolsuite/tests/notebooks/output/annotation/KRBOX5.fna',\n",
       " '/Users/lisa.barros/Desktop/oligo-designer-toolsuite/tests/notebooks/output/annotation/KREMEN2.fna',\n",
       " '/Users/lisa.barros/Desktop/oligo-designer-toolsuite/tests/notebooks/output/annotation/LAT.fna',\n",
       " '/Users/lisa.barros/Desktop/oligo-designer-toolsuite/tests/notebooks/output/annotation/LCAT.fna',\n",
       " '/Users/lisa.barros/Desktop/oligo-designer-toolsuite/tests/notebooks/output/annotation/LCMT1-AS1.fna',\n",
       " '/Users/lisa.barros/Desktop/oligo-designer-toolsuite/tests/notebooks/output/annotation/LCMT1-AS2.fna',\n",
       " '/Users/lisa.barros/Desktop/oligo-designer-toolsuite/tests/notebooks/output/annotation/LCMT1.fna',\n",
       " '/Users/lisa.barros/Desktop/oligo-designer-toolsuite/tests/notebooks/output/annotation/LDAF1.fna',\n",
       " '/Users/lisa.barros/Desktop/oligo-designer-toolsuite/tests/notebooks/output/annotation/LDHD.fna',\n",
       " '/Users/lisa.barros/Desktop/oligo-designer-toolsuite/tests/notebooks/output/annotation/LINC00235.fna',\n",
       " '/Users/lisa.barros/Desktop/oligo-designer-toolsuite/tests/notebooks/output/annotation/LINC00254.fna',\n",
       " '/Users/lisa.barros/Desktop/oligo-designer-toolsuite/tests/notebooks/output/annotation/LINC00273.fna',\n",
       " '/Users/lisa.barros/Desktop/oligo-designer-toolsuite/tests/notebooks/output/annotation/LINC00304.fna',\n",
       " '/Users/lisa.barros/Desktop/oligo-designer-toolsuite/tests/notebooks/output/annotation/LINC00311.fna',\n",
       " '/Users/lisa.barros/Desktop/oligo-designer-toolsuite/tests/notebooks/output/annotation/LINC00917.fna',\n",
       " '/Users/lisa.barros/Desktop/oligo-designer-toolsuite/tests/notebooks/output/annotation/LINC00919.fna',\n",
       " '/Users/lisa.barros/Desktop/oligo-designer-toolsuite/tests/notebooks/output/annotation/LINC00920.fna',\n",
       " '/Users/lisa.barros/Desktop/oligo-designer-toolsuite/tests/notebooks/output/annotation/LINC00921.fna',\n",
       " '/Users/lisa.barros/Desktop/oligo-designer-toolsuite/tests/notebooks/output/annotation/LINC00922.fna',\n",
       " '/Users/lisa.barros/Desktop/oligo-designer-toolsuite/tests/notebooks/output/annotation/LINC01081.fna',\n",
       " '/Users/lisa.barros/Desktop/oligo-designer-toolsuite/tests/notebooks/output/annotation/LINC01082.fna',\n",
       " '/Users/lisa.barros/Desktop/oligo-designer-toolsuite/tests/notebooks/output/annotation/LINC01177.fna',\n",
       " '/Users/lisa.barros/Desktop/oligo-designer-toolsuite/tests/notebooks/output/annotation/LINC01195.fna',\n",
       " '/Users/lisa.barros/Desktop/oligo-designer-toolsuite/tests/notebooks/output/annotation/LINC01227.fna',\n",
       " '/Users/lisa.barros/Desktop/oligo-designer-toolsuite/tests/notebooks/output/annotation/LINC01228.fna',\n",
       " '/Users/lisa.barros/Desktop/oligo-designer-toolsuite/tests/notebooks/output/annotation/LINC01229.fna',\n",
       " '/Users/lisa.barros/Desktop/oligo-designer-toolsuite/tests/notebooks/output/annotation/LINC01290.fna',\n",
       " '/Users/lisa.barros/Desktop/oligo-designer-toolsuite/tests/notebooks/output/annotation/LINC01566.fna',\n",
       " '/Users/lisa.barros/Desktop/oligo-designer-toolsuite/tests/notebooks/output/annotation/LINC01567.fna',\n",
       " '/Users/lisa.barros/Desktop/oligo-designer-toolsuite/tests/notebooks/output/annotation/LINC01568.fna',\n",
       " '/Users/lisa.barros/Desktop/oligo-designer-toolsuite/tests/notebooks/output/annotation/LINC01569.fna',\n",
       " '/Users/lisa.barros/Desktop/oligo-designer-toolsuite/tests/notebooks/output/annotation/LINC01570.fna',\n",
       " '/Users/lisa.barros/Desktop/oligo-designer-toolsuite/tests/notebooks/output/annotation/LINC01571.fna',\n",
       " '/Users/lisa.barros/Desktop/oligo-designer-toolsuite/tests/notebooks/output/annotation/LINC01572.fna',\n",
       " '/Users/lisa.barros/Desktop/oligo-designer-toolsuite/tests/notebooks/output/annotation/LINC02124.fna',\n",
       " '/Users/lisa.barros/Desktop/oligo-designer-toolsuite/tests/notebooks/output/annotation/LINC02125.fna',\n",
       " '/Users/lisa.barros/Desktop/oligo-designer-toolsuite/tests/notebooks/output/annotation/LINC02126.fna',\n",
       " '/Users/lisa.barros/Desktop/oligo-designer-toolsuite/tests/notebooks/output/annotation/LINC02127.fna',\n",
       " '/Users/lisa.barros/Desktop/oligo-designer-toolsuite/tests/notebooks/output/annotation/LINC02128.fna',\n",
       " '/Users/lisa.barros/Desktop/oligo-designer-toolsuite/tests/notebooks/output/annotation/LINC02129.fna',\n",
       " '/Users/lisa.barros/Desktop/oligo-designer-toolsuite/tests/notebooks/output/annotation/LINC02130.fna',\n",
       " '/Users/lisa.barros/Desktop/oligo-designer-toolsuite/tests/notebooks/output/annotation/LINC02131.fna',\n",
       " '/Users/lisa.barros/Desktop/oligo-designer-toolsuite/tests/notebooks/output/annotation/LINC02132.fna',\n",
       " '/Users/lisa.barros/Desktop/oligo-designer-toolsuite/tests/notebooks/output/annotation/LINC02133.fna',\n",
       " '/Users/lisa.barros/Desktop/oligo-designer-toolsuite/tests/notebooks/output/annotation/LINC02134.fna',\n",
       " '/Users/lisa.barros/Desktop/oligo-designer-toolsuite/tests/notebooks/output/annotation/LINC02135.fna',\n",
       " '/Users/lisa.barros/Desktop/oligo-designer-toolsuite/tests/notebooks/output/annotation/LINC02136.fna',\n",
       " '/Users/lisa.barros/Desktop/oligo-designer-toolsuite/tests/notebooks/output/annotation/LINC02137.fna',\n",
       " '/Users/lisa.barros/Desktop/oligo-designer-toolsuite/tests/notebooks/output/annotation/LINC02138.fna',\n",
       " '/Users/lisa.barros/Desktop/oligo-designer-toolsuite/tests/notebooks/output/annotation/LINC02139.fna',\n",
       " '/Users/lisa.barros/Desktop/oligo-designer-toolsuite/tests/notebooks/output/annotation/LINC02140.fna',\n",
       " '/Users/lisa.barros/Desktop/oligo-designer-toolsuite/tests/notebooks/output/annotation/LINC02141.fna',\n",
       " '/Users/lisa.barros/Desktop/oligo-designer-toolsuite/tests/notebooks/output/annotation/LINC02152.fna',\n",
       " '/Users/lisa.barros/Desktop/oligo-designer-toolsuite/tests/notebooks/output/annotation/LINC02164.fna',\n",
       " '/Users/lisa.barros/Desktop/oligo-designer-toolsuite/tests/notebooks/output/annotation/LINC02165.fna',\n",
       " '/Users/lisa.barros/Desktop/oligo-designer-toolsuite/tests/notebooks/output/annotation/LINC02166.fna',\n",
       " '/Users/lisa.barros/Desktop/oligo-designer-toolsuite/tests/notebooks/output/annotation/LINC02167.fna',\n",
       " '/Users/lisa.barros/Desktop/oligo-designer-toolsuite/tests/notebooks/output/annotation/LINC02168.fna',\n",
       " '/Users/lisa.barros/Desktop/oligo-designer-toolsuite/tests/notebooks/output/annotation/LINC02169.fna',\n",
       " '/Users/lisa.barros/Desktop/oligo-designer-toolsuite/tests/notebooks/output/annotation/LINC02175.fna',\n",
       " '/Users/lisa.barros/Desktop/oligo-designer-toolsuite/tests/notebooks/output/annotation/LINC02176.fna',\n",
       " '/Users/lisa.barros/Desktop/oligo-designer-toolsuite/tests/notebooks/output/annotation/LINC02177.fna',\n",
       " '/Users/lisa.barros/Desktop/oligo-designer-toolsuite/tests/notebooks/output/annotation/LINC02178.fna',\n",
       " '/Users/lisa.barros/Desktop/oligo-designer-toolsuite/tests/notebooks/output/annotation/LINC02179.fna',\n",
       " '/Users/lisa.barros/Desktop/oligo-designer-toolsuite/tests/notebooks/output/annotation/LINC02180.fna',\n",
       " '/Users/lisa.barros/Desktop/oligo-designer-toolsuite/tests/notebooks/output/annotation/LINC02181.fna',\n",
       " '/Users/lisa.barros/Desktop/oligo-designer-toolsuite/tests/notebooks/output/annotation/LINC02182.fna',\n",
       " '/Users/lisa.barros/Desktop/oligo-designer-toolsuite/tests/notebooks/output/annotation/LINC02183.fna',\n",
       " '/Users/lisa.barros/Desktop/oligo-designer-toolsuite/tests/notebooks/output/annotation/LINC02184.fna',\n",
       " '/Users/lisa.barros/Desktop/oligo-designer-toolsuite/tests/notebooks/output/annotation/LINC02185.fna',\n",
       " '/Users/lisa.barros/Desktop/oligo-designer-toolsuite/tests/notebooks/output/annotation/LINC02186.fna',\n",
       " '/Users/lisa.barros/Desktop/oligo-designer-toolsuite/tests/notebooks/output/annotation/LINC02188.fna',\n",
       " '/Users/lisa.barros/Desktop/oligo-designer-toolsuite/tests/notebooks/output/annotation/LINC02189.fna',\n",
       " '/Users/lisa.barros/Desktop/oligo-designer-toolsuite/tests/notebooks/output/annotation/LINC02190.fna',\n",
       " '/Users/lisa.barros/Desktop/oligo-designer-toolsuite/tests/notebooks/output/annotation/LINC02191.fna',\n",
       " '/Users/lisa.barros/Desktop/oligo-designer-toolsuite/tests/notebooks/output/annotation/LINC02192.fna',\n",
       " '/Users/lisa.barros/Desktop/oligo-designer-toolsuite/tests/notebooks/output/annotation/LINC02194.fna',\n",
       " '/Users/lisa.barros/Desktop/oligo-designer-toolsuite/tests/notebooks/output/annotation/LINC02195.fna',\n",
       " '/Users/lisa.barros/Desktop/oligo-designer-toolsuite/tests/notebooks/output/annotation/LINC02858.fna',\n",
       " '/Users/lisa.barros/Desktop/oligo-designer-toolsuite/tests/notebooks/output/annotation/LINC02861.fna',\n",
       " '/Users/lisa.barros/Desktop/oligo-designer-toolsuite/tests/notebooks/output/annotation/LINC02911.fna',\n",
       " '/Users/lisa.barros/Desktop/oligo-designer-toolsuite/tests/notebooks/output/annotation/LITAF.fna',\n",
       " '/Users/lisa.barros/Desktop/oligo-designer-toolsuite/tests/notebooks/output/annotation/LITAFD.fna',\n",
       " '/Users/lisa.barros/Desktop/oligo-designer-toolsuite/tests/notebooks/output/annotation/LMF1-AS1.fna',\n",
       " '/Users/lisa.barros/Desktop/oligo-designer-toolsuite/tests/notebooks/output/annotation/LMF1.fna',\n",
       " '/Users/lisa.barros/Desktop/oligo-designer-toolsuite/tests/notebooks/output/annotation/LOC100128079.fna',\n",
       " '/Users/lisa.barros/Desktop/oligo-designer-toolsuite/tests/notebooks/output/annotation/LOC100128770.fna',\n",
       " '/Users/lisa.barros/Desktop/oligo-designer-toolsuite/tests/notebooks/output/annotation/LOC100129215.fna',\n",
       " '/Users/lisa.barros/Desktop/oligo-designer-toolsuite/tests/notebooks/output/annotation/LOC100129617.fna',\n",
       " '/Users/lisa.barros/Desktop/oligo-designer-toolsuite/tests/notebooks/output/annotation/LOC100129697.fna',\n",
       " '/Users/lisa.barros/Desktop/oligo-designer-toolsuite/tests/notebooks/output/annotation/LOC100130283.fna',\n",
       " '/Users/lisa.barros/Desktop/oligo-designer-toolsuite/tests/notebooks/output/annotation/LOC100134368.fna',\n",
       " '/Users/lisa.barros/Desktop/oligo-designer-toolsuite/tests/notebooks/output/annotation/LOC100190986.fna',\n",
       " '/Users/lisa.barros/Desktop/oligo-designer-toolsuite/tests/notebooks/output/annotation/LOC100287036.fna',\n",
       " '/Users/lisa.barros/Desktop/oligo-designer-toolsuite/tests/notebooks/output/annotation/LOC100287175.fna',\n",
       " '/Users/lisa.barros/Desktop/oligo-designer-toolsuite/tests/notebooks/output/annotation/LOC100288162.fna',\n",
       " '/Users/lisa.barros/Desktop/oligo-designer-toolsuite/tests/notebooks/output/annotation/LOC100289580.fna',\n",
       " '/Users/lisa.barros/Desktop/oligo-designer-toolsuite/tests/notebooks/output/annotation/LOC100505915.fna',\n",
       " '/Users/lisa.barros/Desktop/oligo-designer-toolsuite/tests/notebooks/output/annotation/LOC100505942.fna',\n",
       " '/Users/lisa.barros/Desktop/oligo-designer-toolsuite/tests/notebooks/output/annotation/LOC100506281.fna',\n",
       " '/Users/lisa.barros/Desktop/oligo-designer-toolsuite/tests/notebooks/output/annotation/LOC100507221.fna',\n",
       " '/Users/lisa.barros/Desktop/oligo-designer-toolsuite/tests/notebooks/output/annotation/LOC100652777.fna',\n",
       " '/Users/lisa.barros/Desktop/oligo-designer-toolsuite/tests/notebooks/output/annotation/LOC101927026.fna',\n",
       " '/Users/lisa.barros/Desktop/oligo-designer-toolsuite/tests/notebooks/output/annotation/LOC101927080.fna',\n",
       " '/Users/lisa.barros/Desktop/oligo-designer-toolsuite/tests/notebooks/output/annotation/LOC101927131.fna',\n",
       " '/Users/lisa.barros/Desktop/oligo-designer-toolsuite/tests/notebooks/output/annotation/LOC101927227.fna',\n",
       " '/Users/lisa.barros/Desktop/oligo-designer-toolsuite/tests/notebooks/output/annotation/LOC101927272.fna',\n",
       " '/Users/lisa.barros/Desktop/oligo-designer-toolsuite/tests/notebooks/output/annotation/LOC101927469.fna',\n",
       " '/Users/lisa.barros/Desktop/oligo-designer-toolsuite/tests/notebooks/output/annotation/LOC101927480.fna',\n",
       " '/Users/lisa.barros/Desktop/oligo-designer-toolsuite/tests/notebooks/output/annotation/LOC101927536.fna',\n",
       " '/Users/lisa.barros/Desktop/oligo-designer-toolsuite/tests/notebooks/output/annotation/LOC101927556.fna',\n",
       " '/Users/lisa.barros/Desktop/oligo-designer-toolsuite/tests/notebooks/output/annotation/LOC101927605.fna',\n",
       " '/Users/lisa.barros/Desktop/oligo-designer-toolsuite/tests/notebooks/output/annotation/LOC101927793.fna',\n",
       " '/Users/lisa.barros/Desktop/oligo-designer-toolsuite/tests/notebooks/output/annotation/LOC101927814.fna',\n",
       " '/Users/lisa.barros/Desktop/oligo-designer-toolsuite/tests/notebooks/output/annotation/LOC101927817.fna',\n",
       " '/Users/lisa.barros/Desktop/oligo-designer-toolsuite/tests/notebooks/output/annotation/LOC101927863.fna',\n",
       " '/Users/lisa.barros/Desktop/oligo-designer-toolsuite/tests/notebooks/output/annotation/LOC101927999.fna',\n",
       " '/Users/lisa.barros/Desktop/oligo-designer-toolsuite/tests/notebooks/output/annotation/LOC101928188.fna',\n",
       " '/Users/lisa.barros/Desktop/oligo-designer-toolsuite/tests/notebooks/output/annotation/LOC101928215.fna',\n",
       " '/Users/lisa.barros/Desktop/oligo-designer-toolsuite/tests/notebooks/output/annotation/LOC101928230.fna',\n",
       " '/Users/lisa.barros/Desktop/oligo-designer-toolsuite/tests/notebooks/output/annotation/LOC101928392.fna',\n",
       " '/Users/lisa.barros/Desktop/oligo-designer-toolsuite/tests/notebooks/output/annotation/LOC101928417.fna',\n",
       " '/Users/lisa.barros/Desktop/oligo-designer-toolsuite/tests/notebooks/output/annotation/LOC101928446.fna',\n",
       " '/Users/lisa.barros/Desktop/oligo-designer-toolsuite/tests/notebooks/output/annotation/LOC101928502.fna',\n",
       " '/Users/lisa.barros/Desktop/oligo-designer-toolsuite/tests/notebooks/output/annotation/LOC101928557.fna',\n",
       " '/Users/lisa.barros/Desktop/oligo-designer-toolsuite/tests/notebooks/output/annotation/LOC101928682.fna',\n",
       " '/Users/lisa.barros/Desktop/oligo-designer-toolsuite/tests/notebooks/output/annotation/LOC101928708.fna',\n",
       " '/Users/lisa.barros/Desktop/oligo-designer-toolsuite/tests/notebooks/output/annotation/LOC101929031.fna',\n",
       " '/Users/lisa.barros/Desktop/oligo-designer-toolsuite/tests/notebooks/output/annotation/LOC101929440.fna',\n",
       " '/Users/lisa.barros/Desktop/oligo-designer-toolsuite/tests/notebooks/output/annotation/LOC101929566.fna',\n",
       " '/Users/lisa.barros/Desktop/oligo-designer-toolsuite/tests/notebooks/output/annotation/LOC101929732.fna',\n",
       " '/Users/lisa.barros/Desktop/oligo-designer-toolsuite/tests/notebooks/output/annotation/LOC101929894.fna',\n",
       " '/Users/lisa.barros/Desktop/oligo-designer-toolsuite/tests/notebooks/output/annotation/LOC101930112.fna',\n",
       " '/Users/lisa.barros/Desktop/oligo-designer-toolsuite/tests/notebooks/output/annotation/LOC102723323.fna',\n",
       " '/Users/lisa.barros/Desktop/oligo-designer-toolsuite/tests/notebooks/output/annotation/LOC102723373.fna',\n",
       " '/Users/lisa.barros/Desktop/oligo-designer-toolsuite/tests/notebooks/output/annotation/LOC102723396.fna',\n",
       " '/Users/lisa.barros/Desktop/oligo-designer-toolsuite/tests/notebooks/output/annotation/LOC102723536.fna',\n",
       " '/Users/lisa.barros/Desktop/oligo-designer-toolsuite/tests/notebooks/output/annotation/LOC102723560.fna',\n",
       " '/Users/lisa.barros/Desktop/oligo-designer-toolsuite/tests/notebooks/output/annotation/LOC102723692.fna',\n",
       " '/Users/lisa.barros/Desktop/oligo-designer-toolsuite/tests/notebooks/output/annotation/LOC102723708.fna',\n",
       " '/Users/lisa.barros/Desktop/oligo-designer-toolsuite/tests/notebooks/output/annotation/LOC102723728.fna',\n",
       " '/Users/lisa.barros/Desktop/oligo-designer-toolsuite/tests/notebooks/output/annotation/LOC102723786.fna',\n",
       " '/Users/lisa.barros/Desktop/oligo-designer-toolsuite/tests/notebooks/output/annotation/LOC102723876.fna',\n",
       " '/Users/lisa.barros/Desktop/oligo-designer-toolsuite/tests/notebooks/output/annotation/LOC102724163.fna',\n",
       " '/Users/lisa.barros/Desktop/oligo-designer-toolsuite/tests/notebooks/output/annotation/LOC102724207.fna',\n",
       " '/Users/lisa.barros/Desktop/oligo-designer-toolsuite/tests/notebooks/output/annotation/LOC102724467.fna',\n",
       " '/Users/lisa.barros/Desktop/oligo-designer-toolsuite/tests/notebooks/output/annotation/LOC102724485.fna',\n",
       " '/Users/lisa.barros/Desktop/oligo-designer-toolsuite/tests/notebooks/output/annotation/LOC102724523.fna',\n",
       " '/Users/lisa.barros/Desktop/oligo-designer-toolsuite/tests/notebooks/output/annotation/LOC102724632.fna',\n",
       " '/Users/lisa.barros/Desktop/oligo-designer-toolsuite/tests/notebooks/output/annotation/LOC102724847.fna',\n",
       " '/Users/lisa.barros/Desktop/oligo-designer-toolsuite/tests/notebooks/output/annotation/LOC102724859.fna',\n",
       " '/Users/lisa.barros/Desktop/oligo-designer-toolsuite/tests/notebooks/output/annotation/LOC102725101.fna',\n",
       " '/Users/lisa.barros/Desktop/oligo-designer-toolsuite/tests/notebooks/output/annotation/LOC102725116.fna',\n",
       " '/Users/lisa.barros/Desktop/oligo-designer-toolsuite/tests/notebooks/output/annotation/LOC102725168.fna',\n",
       " '/Users/lisa.barros/Desktop/oligo-designer-toolsuite/tests/notebooks/output/annotation/LOC105369183.fna',\n",
       " '/Users/lisa.barros/Desktop/oligo-designer-toolsuite/tests/notebooks/output/annotation/LOC105369266.fna',\n",
       " '/Users/lisa.barros/Desktop/oligo-designer-toolsuite/tests/notebooks/output/annotation/LOC105369297.fna',\n",
       " '/Users/lisa.barros/Desktop/oligo-designer-toolsuite/tests/notebooks/output/annotation/LOC105371038.fna',\n",
       " '/Users/lisa.barros/Desktop/oligo-designer-toolsuite/tests/notebooks/output/annotation/LOC105371042.fna',\n",
       " '/Users/lisa.barros/Desktop/oligo-designer-toolsuite/tests/notebooks/output/annotation/LOC105371044.fna',\n",
       " '/Users/lisa.barros/Desktop/oligo-designer-toolsuite/tests/notebooks/output/annotation/LOC105371046.fna',\n",
       " '/Users/lisa.barros/Desktop/oligo-designer-toolsuite/tests/notebooks/output/annotation/LOC105371050.fna',\n",
       " '/Users/lisa.barros/Desktop/oligo-designer-toolsuite/tests/notebooks/output/annotation/LOC105371055.fna',\n",
       " '/Users/lisa.barros/Desktop/oligo-designer-toolsuite/tests/notebooks/output/annotation/LOC105371059.fna',\n",
       " '/Users/lisa.barros/Desktop/oligo-designer-toolsuite/tests/notebooks/output/annotation/LOC105371060.fna',\n",
       " '/Users/lisa.barros/Desktop/oligo-designer-toolsuite/tests/notebooks/output/annotation/LOC105371062.fna',\n",
       " '/Users/lisa.barros/Desktop/oligo-designer-toolsuite/tests/notebooks/output/annotation/LOC105371064.fna',\n",
       " '/Users/lisa.barros/Desktop/oligo-designer-toolsuite/tests/notebooks/output/annotation/LOC105371067.fna',\n",
       " '/Users/lisa.barros/Desktop/oligo-designer-toolsuite/tests/notebooks/output/annotation/LOC105371068.fna',\n",
       " '/Users/lisa.barros/Desktop/oligo-designer-toolsuite/tests/notebooks/output/annotation/LOC105371069.fna',\n",
       " '/Users/lisa.barros/Desktop/oligo-designer-toolsuite/tests/notebooks/output/annotation/LOC105371070.fna',\n",
       " '/Users/lisa.barros/Desktop/oligo-designer-toolsuite/tests/notebooks/output/annotation/LOC105371072.fna',\n",
       " '/Users/lisa.barros/Desktop/oligo-designer-toolsuite/tests/notebooks/output/annotation/LOC105371075.fna',\n",
       " '/Users/lisa.barros/Desktop/oligo-designer-toolsuite/tests/notebooks/output/annotation/LOC105371076.fna',\n",
       " '/Users/lisa.barros/Desktop/oligo-designer-toolsuite/tests/notebooks/output/annotation/LOC105371077.fna',\n",
       " '/Users/lisa.barros/Desktop/oligo-designer-toolsuite/tests/notebooks/output/annotation/LOC105371078.fna',\n",
       " '/Users/lisa.barros/Desktop/oligo-designer-toolsuite/tests/notebooks/output/annotation/LOC105371079.fna',\n",
       " '/Users/lisa.barros/Desktop/oligo-designer-toolsuite/tests/notebooks/output/annotation/LOC105371081.fna',\n",
       " '/Users/lisa.barros/Desktop/oligo-designer-toolsuite/tests/notebooks/output/annotation/LOC105371082.fna',\n",
       " '/Users/lisa.barros/Desktop/oligo-designer-toolsuite/tests/notebooks/output/annotation/LOC105371083.fna',\n",
       " '/Users/lisa.barros/Desktop/oligo-designer-toolsuite/tests/notebooks/output/annotation/LOC105371085.fna',\n",
       " '/Users/lisa.barros/Desktop/oligo-designer-toolsuite/tests/notebooks/output/annotation/LOC105371087.fna',\n",
       " '/Users/lisa.barros/Desktop/oligo-designer-toolsuite/tests/notebooks/output/annotation/LOC105371088.fna',\n",
       " '/Users/lisa.barros/Desktop/oligo-designer-toolsuite/tests/notebooks/output/annotation/LOC105371090.fna',\n",
       " '/Users/lisa.barros/Desktop/oligo-designer-toolsuite/tests/notebooks/output/annotation/LOC105371091.fna',\n",
       " '/Users/lisa.barros/Desktop/oligo-designer-toolsuite/tests/notebooks/output/annotation/LOC105371092.fna',\n",
       " '/Users/lisa.barros/Desktop/oligo-designer-toolsuite/tests/notebooks/output/annotation/LOC105371093.fna',\n",
       " '/Users/lisa.barros/Desktop/oligo-designer-toolsuite/tests/notebooks/output/annotation/LOC105371094.fna',\n",
       " '/Users/lisa.barros/Desktop/oligo-designer-toolsuite/tests/notebooks/output/annotation/LOC105371096.fna',\n",
       " '/Users/lisa.barros/Desktop/oligo-designer-toolsuite/tests/notebooks/output/annotation/LOC105371097.fna',\n",
       " '/Users/lisa.barros/Desktop/oligo-designer-toolsuite/tests/notebooks/output/annotation/LOC105371099.fna',\n",
       " '/Users/lisa.barros/Desktop/oligo-designer-toolsuite/tests/notebooks/output/annotation/LOC105371100.fna',\n",
       " '/Users/lisa.barros/Desktop/oligo-designer-toolsuite/tests/notebooks/output/annotation/LOC105371102.fna',\n",
       " '/Users/lisa.barros/Desktop/oligo-designer-toolsuite/tests/notebooks/output/annotation/LOC105371103.fna',\n",
       " '/Users/lisa.barros/Desktop/oligo-designer-toolsuite/tests/notebooks/output/annotation/LOC105371105.fna',\n",
       " '/Users/lisa.barros/Desktop/oligo-designer-toolsuite/tests/notebooks/output/annotation/LOC105371106.fna',\n",
       " '/Users/lisa.barros/Desktop/oligo-designer-toolsuite/tests/notebooks/output/annotation/LOC105371108.fna',\n",
       " '/Users/lisa.barros/Desktop/oligo-designer-toolsuite/tests/notebooks/output/annotation/LOC105371114.fna',\n",
       " '/Users/lisa.barros/Desktop/oligo-designer-toolsuite/tests/notebooks/output/annotation/LOC105371115.fna',\n",
       " '/Users/lisa.barros/Desktop/oligo-designer-toolsuite/tests/notebooks/output/annotation/LOC105371116.fna',\n",
       " '/Users/lisa.barros/Desktop/oligo-designer-toolsuite/tests/notebooks/output/annotation/LOC105371117.fna',\n",
       " '/Users/lisa.barros/Desktop/oligo-designer-toolsuite/tests/notebooks/output/annotation/LOC105371119.fna',\n",
       " '/Users/lisa.barros/Desktop/oligo-designer-toolsuite/tests/notebooks/output/annotation/LOC105371120.fna',\n",
       " '/Users/lisa.barros/Desktop/oligo-designer-toolsuite/tests/notebooks/output/annotation/LOC105371121.fna',\n",
       " '/Users/lisa.barros/Desktop/oligo-designer-toolsuite/tests/notebooks/output/annotation/LOC105371123.fna',\n",
       " '/Users/lisa.barros/Desktop/oligo-designer-toolsuite/tests/notebooks/output/annotation/LOC105371125.fna',\n",
       " '/Users/lisa.barros/Desktop/oligo-designer-toolsuite/tests/notebooks/output/annotation/LOC105371126.fna',\n",
       " '/Users/lisa.barros/Desktop/oligo-designer-toolsuite/tests/notebooks/output/annotation/LOC105371129.fna',\n",
       " '/Users/lisa.barros/Desktop/oligo-designer-toolsuite/tests/notebooks/output/annotation/LOC105371131.fna',\n",
       " '/Users/lisa.barros/Desktop/oligo-designer-toolsuite/tests/notebooks/output/annotation/LOC105371143.fna',\n",
       " '/Users/lisa.barros/Desktop/oligo-designer-toolsuite/tests/notebooks/output/annotation/LOC105371147.fna',\n",
       " '/Users/lisa.barros/Desktop/oligo-designer-toolsuite/tests/notebooks/output/annotation/LOC105371149.fna',\n",
       " '/Users/lisa.barros/Desktop/oligo-designer-toolsuite/tests/notebooks/output/annotation/LOC105371150.fna',\n",
       " '/Users/lisa.barros/Desktop/oligo-designer-toolsuite/tests/notebooks/output/annotation/LOC105371153.fna',\n",
       " '/Users/lisa.barros/Desktop/oligo-designer-toolsuite/tests/notebooks/output/annotation/LOC105371154.fna',\n",
       " '/Users/lisa.barros/Desktop/oligo-designer-toolsuite/tests/notebooks/output/annotation/LOC105371155.fna',\n",
       " '/Users/lisa.barros/Desktop/oligo-designer-toolsuite/tests/notebooks/output/annotation/LOC105371157.fna',\n",
       " '/Users/lisa.barros/Desktop/oligo-designer-toolsuite/tests/notebooks/output/annotation/LOC105371159.fna',\n",
       " '/Users/lisa.barros/Desktop/oligo-designer-toolsuite/tests/notebooks/output/annotation/LOC105371167.fna',\n",
       " '/Users/lisa.barros/Desktop/oligo-designer-toolsuite/tests/notebooks/output/annotation/LOC105371168.fna',\n",
       " '/Users/lisa.barros/Desktop/oligo-designer-toolsuite/tests/notebooks/output/annotation/LOC105371174.fna',\n",
       " '/Users/lisa.barros/Desktop/oligo-designer-toolsuite/tests/notebooks/output/annotation/LOC105371177.fna',\n",
       " '/Users/lisa.barros/Desktop/oligo-designer-toolsuite/tests/notebooks/output/annotation/LOC105371191.fna',\n",
       " '/Users/lisa.barros/Desktop/oligo-designer-toolsuite/tests/notebooks/output/annotation/LOC105371197.fna',\n",
       " '/Users/lisa.barros/Desktop/oligo-designer-toolsuite/tests/notebooks/output/annotation/LOC105371198.fna',\n",
       " '/Users/lisa.barros/Desktop/oligo-designer-toolsuite/tests/notebooks/output/annotation/LOC105371199.fna',\n",
       " '/Users/lisa.barros/Desktop/oligo-designer-toolsuite/tests/notebooks/output/annotation/LOC105371200.fna',\n",
       " '/Users/lisa.barros/Desktop/oligo-designer-toolsuite/tests/notebooks/output/annotation/LOC105371201.fna',\n",
       " '/Users/lisa.barros/Desktop/oligo-designer-toolsuite/tests/notebooks/output/annotation/LOC105371203.fna',\n",
       " '/Users/lisa.barros/Desktop/oligo-designer-toolsuite/tests/notebooks/output/annotation/LOC105371204.fna',\n",
       " '/Users/lisa.barros/Desktop/oligo-designer-toolsuite/tests/notebooks/output/annotation/LOC105371236.fna',\n",
       " '/Users/lisa.barros/Desktop/oligo-designer-toolsuite/tests/notebooks/output/annotation/LOC105371237.fna',\n",
       " '/Users/lisa.barros/Desktop/oligo-designer-toolsuite/tests/notebooks/output/annotation/LOC105371240.fna',\n",
       " '/Users/lisa.barros/Desktop/oligo-designer-toolsuite/tests/notebooks/output/annotation/LOC105371241.fna',\n",
       " '/Users/lisa.barros/Desktop/oligo-designer-toolsuite/tests/notebooks/output/annotation/LOC105371243.fna',\n",
       " '/Users/lisa.barros/Desktop/oligo-designer-toolsuite/tests/notebooks/output/annotation/LOC105371244.fna',\n",
       " '/Users/lisa.barros/Desktop/oligo-designer-toolsuite/tests/notebooks/output/annotation/LOC105371251.fna',\n",
       " '/Users/lisa.barros/Desktop/oligo-designer-toolsuite/tests/notebooks/output/annotation/LOC105371253.fna',\n",
       " '/Users/lisa.barros/Desktop/oligo-designer-toolsuite/tests/notebooks/output/annotation/LOC105371256.fna',\n",
       " '/Users/lisa.barros/Desktop/oligo-designer-toolsuite/tests/notebooks/output/annotation/LOC105371257.fna',\n",
       " '/Users/lisa.barros/Desktop/oligo-designer-toolsuite/tests/notebooks/output/annotation/LOC105371259.fna',\n",
       " '/Users/lisa.barros/Desktop/oligo-designer-toolsuite/tests/notebooks/output/annotation/LOC105371261.fna',\n",
       " '/Users/lisa.barros/Desktop/oligo-designer-toolsuite/tests/notebooks/output/annotation/LOC105371262.fna',\n",
       " '/Users/lisa.barros/Desktop/oligo-designer-toolsuite/tests/notebooks/output/annotation/LOC105371264.fna',\n",
       " '/Users/lisa.barros/Desktop/oligo-designer-toolsuite/tests/notebooks/output/annotation/LOC105371265.fna',\n",
       " '/Users/lisa.barros/Desktop/oligo-designer-toolsuite/tests/notebooks/output/annotation/LOC105371267.fna',\n",
       " '/Users/lisa.barros/Desktop/oligo-designer-toolsuite/tests/notebooks/output/annotation/LOC105371268.fna',\n",
       " '/Users/lisa.barros/Desktop/oligo-designer-toolsuite/tests/notebooks/output/annotation/LOC105371269.fna',\n",
       " '/Users/lisa.barros/Desktop/oligo-designer-toolsuite/tests/notebooks/output/annotation/LOC105371271.fna',\n",
       " '/Users/lisa.barros/Desktop/oligo-designer-toolsuite/tests/notebooks/output/annotation/LOC105371272.fna',\n",
       " '/Users/lisa.barros/Desktop/oligo-designer-toolsuite/tests/notebooks/output/annotation/LOC105371274.fna',\n",
       " '/Users/lisa.barros/Desktop/oligo-designer-toolsuite/tests/notebooks/output/annotation/LOC105371275.fna',\n",
       " '/Users/lisa.barros/Desktop/oligo-designer-toolsuite/tests/notebooks/output/annotation/LOC105371276.fna',\n",
       " '/Users/lisa.barros/Desktop/oligo-designer-toolsuite/tests/notebooks/output/annotation/LOC105371277.fna',\n",
       " '/Users/lisa.barros/Desktop/oligo-designer-toolsuite/tests/notebooks/output/annotation/LOC105371278.fna',\n",
       " '/Users/lisa.barros/Desktop/oligo-designer-toolsuite/tests/notebooks/output/annotation/LOC105371279.fna',\n",
       " '/Users/lisa.barros/Desktop/oligo-designer-toolsuite/tests/notebooks/output/annotation/LOC105371280.fna',\n",
       " '/Users/lisa.barros/Desktop/oligo-designer-toolsuite/tests/notebooks/output/annotation/LOC105371281.fna',\n",
       " '/Users/lisa.barros/Desktop/oligo-designer-toolsuite/tests/notebooks/output/annotation/LOC105371283.fna',\n",
       " '/Users/lisa.barros/Desktop/oligo-designer-toolsuite/tests/notebooks/output/annotation/LOC105371287.fna',\n",
       " '/Users/lisa.barros/Desktop/oligo-designer-toolsuite/tests/notebooks/output/annotation/LOC105371291.fna',\n",
       " '/Users/lisa.barros/Desktop/oligo-designer-toolsuite/tests/notebooks/output/annotation/LOC105371293.fna',\n",
       " '/Users/lisa.barros/Desktop/oligo-designer-toolsuite/tests/notebooks/output/annotation/LOC105371296.fna',\n",
       " '/Users/lisa.barros/Desktop/oligo-designer-toolsuite/tests/notebooks/output/annotation/LOC105371298.fna',\n",
       " '/Users/lisa.barros/Desktop/oligo-designer-toolsuite/tests/notebooks/output/annotation/LOC105371299.fna',\n",
       " '/Users/lisa.barros/Desktop/oligo-designer-toolsuite/tests/notebooks/output/annotation/LOC105371300.fna',\n",
       " '/Users/lisa.barros/Desktop/oligo-designer-toolsuite/tests/notebooks/output/annotation/LOC105371301.fna',\n",
       " '/Users/lisa.barros/Desktop/oligo-designer-toolsuite/tests/notebooks/output/annotation/LOC105371302.fna',\n",
       " '/Users/lisa.barros/Desktop/oligo-designer-toolsuite/tests/notebooks/output/annotation/LOC105371306.fna',\n",
       " '/Users/lisa.barros/Desktop/oligo-designer-toolsuite/tests/notebooks/output/annotation/LOC105371307.fna',\n",
       " '/Users/lisa.barros/Desktop/oligo-designer-toolsuite/tests/notebooks/output/annotation/LOC105371308.fna',\n",
       " '/Users/lisa.barros/Desktop/oligo-designer-toolsuite/tests/notebooks/output/annotation/LOC105371309.fna',\n",
       " '/Users/lisa.barros/Desktop/oligo-designer-toolsuite/tests/notebooks/output/annotation/LOC105371310.fna',\n",
       " '/Users/lisa.barros/Desktop/oligo-designer-toolsuite/tests/notebooks/output/annotation/LOC105371311.fna',\n",
       " '/Users/lisa.barros/Desktop/oligo-designer-toolsuite/tests/notebooks/output/annotation/LOC105371313.fna',\n",
       " '/Users/lisa.barros/Desktop/oligo-designer-toolsuite/tests/notebooks/output/annotation/LOC105371316.fna',\n",
       " '/Users/lisa.barros/Desktop/oligo-designer-toolsuite/tests/notebooks/output/annotation/LOC105371317.fna',\n",
       " '/Users/lisa.barros/Desktop/oligo-designer-toolsuite/tests/notebooks/output/annotation/LOC105371318.fna',\n",
       " '/Users/lisa.barros/Desktop/oligo-designer-toolsuite/tests/notebooks/output/annotation/LOC105371321.fna',\n",
       " '/Users/lisa.barros/Desktop/oligo-designer-toolsuite/tests/notebooks/output/annotation/LOC105371325.fna',\n",
       " '/Users/lisa.barros/Desktop/oligo-designer-toolsuite/tests/notebooks/output/annotation/LOC105371328.fna',\n",
       " '/Users/lisa.barros/Desktop/oligo-designer-toolsuite/tests/notebooks/output/annotation/LOC105371332.fna',\n",
       " '/Users/lisa.barros/Desktop/oligo-designer-toolsuite/tests/notebooks/output/annotation/LOC105371334.fna',\n",
       " '/Users/lisa.barros/Desktop/oligo-designer-toolsuite/tests/notebooks/output/annotation/LOC105371335.fna',\n",
       " '/Users/lisa.barros/Desktop/oligo-designer-toolsuite/tests/notebooks/output/annotation/LOC105371341.fna',\n",
       " '/Users/lisa.barros/Desktop/oligo-designer-toolsuite/tests/notebooks/output/annotation/LOC105371342.fna',\n",
       " '/Users/lisa.barros/Desktop/oligo-designer-toolsuite/tests/notebooks/output/annotation/LOC105371343.fna',\n",
       " '/Users/lisa.barros/Desktop/oligo-designer-toolsuite/tests/notebooks/output/annotation/LOC105371344.fna',\n",
       " '/Users/lisa.barros/Desktop/oligo-designer-toolsuite/tests/notebooks/output/annotation/LOC105371347.fna',\n",
       " '/Users/lisa.barros/Desktop/oligo-designer-toolsuite/tests/notebooks/output/annotation/LOC105371348.fna',\n",
       " '/Users/lisa.barros/Desktop/oligo-designer-toolsuite/tests/notebooks/output/annotation/LOC105371349.fna',\n",
       " '/Users/lisa.barros/Desktop/oligo-designer-toolsuite/tests/notebooks/output/annotation/LOC105371351.fna',\n",
       " '/Users/lisa.barros/Desktop/oligo-designer-toolsuite/tests/notebooks/output/annotation/LOC105371354.fna',\n",
       " '/Users/lisa.barros/Desktop/oligo-designer-toolsuite/tests/notebooks/output/annotation/LOC105371356.fna',\n",
       " '/Users/lisa.barros/Desktop/oligo-designer-toolsuite/tests/notebooks/output/annotation/LOC105371357.fna',\n",
       " '/Users/lisa.barros/Desktop/oligo-designer-toolsuite/tests/notebooks/output/annotation/LOC105371358.fna',\n",
       " '/Users/lisa.barros/Desktop/oligo-designer-toolsuite/tests/notebooks/output/annotation/LOC105371361.fna',\n",
       " '/Users/lisa.barros/Desktop/oligo-designer-toolsuite/tests/notebooks/output/annotation/LOC105371362.fna',\n",
       " '/Users/lisa.barros/Desktop/oligo-designer-toolsuite/tests/notebooks/output/annotation/LOC105371363.fna',\n",
       " '/Users/lisa.barros/Desktop/oligo-designer-toolsuite/tests/notebooks/output/annotation/LOC105371366.fna',\n",
       " '/Users/lisa.barros/Desktop/oligo-designer-toolsuite/tests/notebooks/output/annotation/LOC105371372.fna',\n",
       " '/Users/lisa.barros/Desktop/oligo-designer-toolsuite/tests/notebooks/output/annotation/LOC105371376.fna',\n",
       " '/Users/lisa.barros/Desktop/oligo-designer-toolsuite/tests/notebooks/output/annotation/LOC105371378.fna',\n",
       " '/Users/lisa.barros/Desktop/oligo-designer-toolsuite/tests/notebooks/output/annotation/LOC105371381.fna',\n",
       " '/Users/lisa.barros/Desktop/oligo-designer-toolsuite/tests/notebooks/output/annotation/LOC105371382.fna',\n",
       " '/Users/lisa.barros/Desktop/oligo-designer-toolsuite/tests/notebooks/output/annotation/LOC105371388.fna',\n",
       " '/Users/lisa.barros/Desktop/oligo-designer-toolsuite/tests/notebooks/output/annotation/LOC105371389.fna',\n",
       " '/Users/lisa.barros/Desktop/oligo-designer-toolsuite/tests/notebooks/output/annotation/LOC105371392.fna',\n",
       " '/Users/lisa.barros/Desktop/oligo-designer-toolsuite/tests/notebooks/output/annotation/LOC105371394.fna',\n",
       " '/Users/lisa.barros/Desktop/oligo-designer-toolsuite/tests/notebooks/output/annotation/LOC105371399.fna',\n",
       " '/Users/lisa.barros/Desktop/oligo-designer-toolsuite/tests/notebooks/output/annotation/LOC105371401.fna',\n",
       " '/Users/lisa.barros/Desktop/oligo-designer-toolsuite/tests/notebooks/output/annotation/LOC105371409.fna',\n",
       " '/Users/lisa.barros/Desktop/oligo-designer-toolsuite/tests/notebooks/output/annotation/LOC105371411.fna',\n",
       " '/Users/lisa.barros/Desktop/oligo-designer-toolsuite/tests/notebooks/output/annotation/LOC105371412.fna',\n",
       " '/Users/lisa.barros/Desktop/oligo-designer-toolsuite/tests/notebooks/output/annotation/LOC105371414.fna',\n",
       " '/Users/lisa.barros/Desktop/oligo-designer-toolsuite/tests/notebooks/output/annotation/LOC105376749.fna',\n",
       " '/Users/lisa.barros/Desktop/oligo-designer-toolsuite/tests/notebooks/output/annotation/LOC105376751.fna',\n",
       " '/Users/lisa.barros/Desktop/oligo-designer-toolsuite/tests/notebooks/output/annotation/LOC105376772.fna',\n",
       " '/Users/lisa.barros/Desktop/oligo-designer-toolsuite/tests/notebooks/output/annotation/LOC105376774.fna',\n",
       " '/Users/lisa.barros/Desktop/oligo-designer-toolsuite/tests/notebooks/output/annotation/LOC105376775.fna',\n",
       " '/Users/lisa.barros/Desktop/oligo-designer-toolsuite/tests/notebooks/output/annotation/LOC105376778.fna',\n",
       " '/Users/lisa.barros/Desktop/oligo-designer-toolsuite/tests/notebooks/output/annotation/LOC105376781.fna',\n",
       " '/Users/lisa.barros/Desktop/oligo-designer-toolsuite/tests/notebooks/output/annotation/LOC105376786.fna',\n",
       " '/Users/lisa.barros/Desktop/oligo-designer-toolsuite/tests/notebooks/output/annotation/LOC105379460.fna',\n",
       " '/Users/lisa.barros/Desktop/oligo-designer-toolsuite/tests/notebooks/output/annotation/LOC105379466.fna',\n",
       " '/Users/lisa.barros/Desktop/oligo-designer-toolsuite/tests/notebooks/output/annotation/LOC105379473.fna',\n",
       " '/Users/lisa.barros/Desktop/oligo-designer-toolsuite/tests/notebooks/output/annotation/LOC105379474.fna',\n",
       " '/Users/lisa.barros/Desktop/oligo-designer-toolsuite/tests/notebooks/output/annotation/LOC107983950.fna',\n",
       " '/Users/lisa.barros/Desktop/oligo-designer-toolsuite/tests/notebooks/output/annotation/LOC107983961.fna',\n",
       " '/Users/lisa.barros/Desktop/oligo-designer-toolsuite/tests/notebooks/output/annotation/LOC107983982.fna',\n",
       " '/Users/lisa.barros/Desktop/oligo-designer-toolsuite/tests/notebooks/output/annotation/LOC107983990.fna',\n",
       " '/Users/lisa.barros/Desktop/oligo-designer-toolsuite/tests/notebooks/output/annotation/LOC107984013.fna',\n",
       " '/Users/lisa.barros/Desktop/oligo-designer-toolsuite/tests/notebooks/output/annotation/LOC107984083.fna',\n",
       " '/Users/lisa.barros/Desktop/oligo-designer-toolsuite/tests/notebooks/output/annotation/LOC107984137.fna',\n",
       " '/Users/lisa.barros/Desktop/oligo-designer-toolsuite/tests/notebooks/output/annotation/LOC107984806.fna',\n",
       " '/Users/lisa.barros/Desktop/oligo-designer-toolsuite/tests/notebooks/output/annotation/LOC107984812.fna',\n",
       " '/Users/lisa.barros/Desktop/oligo-designer-toolsuite/tests/notebooks/output/annotation/LOC107984815.fna',\n",
       " '/Users/lisa.barros/Desktop/oligo-designer-toolsuite/tests/notebooks/output/annotation/LOC107984819.fna',\n",
       " '/Users/lisa.barros/Desktop/oligo-designer-toolsuite/tests/notebooks/output/annotation/LOC107984821.fna',\n",
       " '/Users/lisa.barros/Desktop/oligo-designer-toolsuite/tests/notebooks/output/annotation/LOC107984822.fna',\n",
       " '/Users/lisa.barros/Desktop/oligo-designer-toolsuite/tests/notebooks/output/annotation/LOC107984823.fna',\n",
       " '/Users/lisa.barros/Desktop/oligo-designer-toolsuite/tests/notebooks/output/annotation/LOC107984824.fna',\n",
       " '/Users/lisa.barros/Desktop/oligo-designer-toolsuite/tests/notebooks/output/annotation/LOC107984827.fna',\n",
       " '/Users/lisa.barros/Desktop/oligo-designer-toolsuite/tests/notebooks/output/annotation/LOC107984828.fna',\n",
       " '/Users/lisa.barros/Desktop/oligo-designer-toolsuite/tests/notebooks/output/annotation/LOC107984830.fna',\n",
       " '/Users/lisa.barros/Desktop/oligo-designer-toolsuite/tests/notebooks/output/annotation/LOC107984831.fna',\n",
       " '/Users/lisa.barros/Desktop/oligo-designer-toolsuite/tests/notebooks/output/annotation/LOC107984835.fna',\n",
       " '/Users/lisa.barros/Desktop/oligo-designer-toolsuite/tests/notebooks/output/annotation/LOC107984839.fna',\n",
       " '/Users/lisa.barros/Desktop/oligo-designer-toolsuite/tests/notebooks/output/annotation/LOC107984840.fna',\n",
       " '/Users/lisa.barros/Desktop/oligo-designer-toolsuite/tests/notebooks/output/annotation/LOC107984851.fna',\n",
       " '/Users/lisa.barros/Desktop/oligo-designer-toolsuite/tests/notebooks/output/annotation/LOC107984852.fna',\n",
       " '/Users/lisa.barros/Desktop/oligo-designer-toolsuite/tests/notebooks/output/annotation/LOC107984855.fna',\n",
       " '/Users/lisa.barros/Desktop/oligo-designer-toolsuite/tests/notebooks/output/annotation/LOC107984856.fna',\n",
       " '/Users/lisa.barros/Desktop/oligo-designer-toolsuite/tests/notebooks/output/annotation/LOC107984859.fna',\n",
       " '/Users/lisa.barros/Desktop/oligo-designer-toolsuite/tests/notebooks/output/annotation/LOC107984862.fna',\n",
       " '/Users/lisa.barros/Desktop/oligo-designer-toolsuite/tests/notebooks/output/annotation/LOC107984865.fna',\n",
       " '/Users/lisa.barros/Desktop/oligo-designer-toolsuite/tests/notebooks/output/annotation/LOC107984867.fna',\n",
       " '/Users/lisa.barros/Desktop/oligo-designer-toolsuite/tests/notebooks/output/annotation/LOC107984869.fna',\n",
       " '/Users/lisa.barros/Desktop/oligo-designer-toolsuite/tests/notebooks/output/annotation/LOC107984871.fna',\n",
       " '/Users/lisa.barros/Desktop/oligo-designer-toolsuite/tests/notebooks/output/annotation/LOC107984874.fna',\n",
       " '/Users/lisa.barros/Desktop/oligo-designer-toolsuite/tests/notebooks/output/annotation/LOC107984876.fna',\n",
       " '/Users/lisa.barros/Desktop/oligo-designer-toolsuite/tests/notebooks/output/annotation/LOC107984877.fna',\n",
       " '/Users/lisa.barros/Desktop/oligo-designer-toolsuite/tests/notebooks/output/annotation/LOC107984878.fna',\n",
       " '/Users/lisa.barros/Desktop/oligo-designer-toolsuite/tests/notebooks/output/annotation/LOC107984881.fna',\n",
       " '/Users/lisa.barros/Desktop/oligo-designer-toolsuite/tests/notebooks/output/annotation/LOC107984886.fna',\n",
       " '/Users/lisa.barros/Desktop/oligo-designer-toolsuite/tests/notebooks/output/annotation/LOC107984887.fna',\n",
       " '/Users/lisa.barros/Desktop/oligo-designer-toolsuite/tests/notebooks/output/annotation/LOC107984888.fna',\n",
       " '/Users/lisa.barros/Desktop/oligo-designer-toolsuite/tests/notebooks/output/annotation/LOC107984889.fna',\n",
       " '/Users/lisa.barros/Desktop/oligo-designer-toolsuite/tests/notebooks/output/annotation/LOC107984890.fna',\n",
       " '/Users/lisa.barros/Desktop/oligo-designer-toolsuite/tests/notebooks/output/annotation/LOC107984892.fna',\n",
       " '/Users/lisa.barros/Desktop/oligo-designer-toolsuite/tests/notebooks/output/annotation/LOC107984893.fna',\n",
       " '/Users/lisa.barros/Desktop/oligo-designer-toolsuite/tests/notebooks/output/annotation/LOC107984894.fna',\n",
       " '/Users/lisa.barros/Desktop/oligo-designer-toolsuite/tests/notebooks/output/annotation/LOC107984897.fna',\n",
       " '/Users/lisa.barros/Desktop/oligo-designer-toolsuite/tests/notebooks/output/annotation/LOC107984900.fna',\n",
       " '/Users/lisa.barros/Desktop/oligo-designer-toolsuite/tests/notebooks/output/annotation/LOC107984901.fna',\n",
       " '/Users/lisa.barros/Desktop/oligo-designer-toolsuite/tests/notebooks/output/annotation/LOC107984902.fna',\n",
       " '/Users/lisa.barros/Desktop/oligo-designer-toolsuite/tests/notebooks/output/annotation/LOC107984903.fna',\n",
       " '/Users/lisa.barros/Desktop/oligo-designer-toolsuite/tests/notebooks/output/annotation/LOC107984906.fna',\n",
       " '/Users/lisa.barros/Desktop/oligo-designer-toolsuite/tests/notebooks/output/annotation/LOC107987234.fna',\n",
       " '/Users/lisa.barros/Desktop/oligo-designer-toolsuite/tests/notebooks/output/annotation/LOC107987236.fna',\n",
       " '/Users/lisa.barros/Desktop/oligo-designer-toolsuite/tests/notebooks/output/annotation/LOC107987240.fna',\n",
       " '/Users/lisa.barros/Desktop/oligo-designer-toolsuite/tests/notebooks/output/annotation/LOC107987417.fna',\n",
       " '/Users/lisa.barros/Desktop/oligo-designer-toolsuite/tests/notebooks/output/annotation/LOC112267895.fna',\n",
       " '/Users/lisa.barros/Desktop/oligo-designer-toolsuite/tests/notebooks/output/annotation/LOC112268165.fna',\n",
       " '/Users/lisa.barros/Desktop/oligo-designer-toolsuite/tests/notebooks/output/annotation/LOC112268169.fna',\n",
       " '/Users/lisa.barros/Desktop/oligo-designer-toolsuite/tests/notebooks/output/annotation/LOC112268170.fna',\n",
       " '/Users/lisa.barros/Desktop/oligo-designer-toolsuite/tests/notebooks/output/annotation/LOC112268172.fna',\n",
       " '/Users/lisa.barros/Desktop/oligo-designer-toolsuite/tests/notebooks/output/annotation/LOC112268173.fna',\n",
       " '/Users/lisa.barros/Desktop/oligo-designer-toolsuite/tests/notebooks/output/annotation/LOC112268174.fna',\n",
       " '/Users/lisa.barros/Desktop/oligo-designer-toolsuite/tests/notebooks/output/annotation/LOC112268175.fna',\n",
       " '/Users/lisa.barros/Desktop/oligo-designer-toolsuite/tests/notebooks/output/annotation/LOC112268176.fna',\n",
       " '/Users/lisa.barros/Desktop/oligo-designer-toolsuite/tests/notebooks/output/annotation/LOC112268179.fna',\n",
       " '/Users/lisa.barros/Desktop/oligo-designer-toolsuite/tests/notebooks/output/annotation/LOC112268182.fna',\n",
       " '/Users/lisa.barros/Desktop/oligo-designer-toolsuite/tests/notebooks/output/annotation/LOC112694756.fna',\n",
       " '/Users/lisa.barros/Desktop/oligo-designer-toolsuite/tests/notebooks/output/annotation/LOC124900372.fna',\n",
       " '/Users/lisa.barros/Desktop/oligo-designer-toolsuite/tests/notebooks/output/annotation/LOC124900373.fna',\n",
       " '/Users/lisa.barros/Desktop/oligo-designer-toolsuite/tests/notebooks/output/annotation/LOC124900374.fna',\n",
       " '/Users/lisa.barros/Desktop/oligo-designer-toolsuite/tests/notebooks/output/annotation/LOC124900377.fna',\n",
       " '/Users/lisa.barros/Desktop/oligo-designer-toolsuite/tests/notebooks/output/annotation/LOC124900378.fna',\n",
       " '/Users/lisa.barros/Desktop/oligo-designer-toolsuite/tests/notebooks/output/annotation/LOC124900379.fna',\n",
       " '/Users/lisa.barros/Desktop/oligo-designer-toolsuite/tests/notebooks/output/annotation/LOC124900382.fna',\n",
       " '/Users/lisa.barros/Desktop/oligo-designer-toolsuite/tests/notebooks/output/annotation/LOC124900383.fna',\n",
       " '/Users/lisa.barros/Desktop/oligo-designer-toolsuite/tests/notebooks/output/annotation/LOC124900603.fna',\n",
       " '/Users/lisa.barros/Desktop/oligo-designer-toolsuite/tests/notebooks/output/annotation/LOC124903617.fna',\n",
       " '/Users/lisa.barros/Desktop/oligo-designer-toolsuite/tests/notebooks/output/annotation/LOC124903618.fna',\n",
       " '/Users/lisa.barros/Desktop/oligo-designer-toolsuite/tests/notebooks/output/annotation/LOC124903619.fna',\n",
       " '/Users/lisa.barros/Desktop/oligo-designer-toolsuite/tests/notebooks/output/annotation/LOC124903620.fna',\n",
       " '/Users/lisa.barros/Desktop/oligo-designer-toolsuite/tests/notebooks/output/annotation/LOC124903621.fna',\n",
       " '/Users/lisa.barros/Desktop/oligo-designer-toolsuite/tests/notebooks/output/annotation/LOC124903622.fna',\n",
       " '/Users/lisa.barros/Desktop/oligo-designer-toolsuite/tests/notebooks/output/annotation/LOC124903623.fna',\n",
       " '/Users/lisa.barros/Desktop/oligo-designer-toolsuite/tests/notebooks/output/annotation/LOC124903624.fna',\n",
       " '/Users/lisa.barros/Desktop/oligo-designer-toolsuite/tests/notebooks/output/annotation/LOC124903625.fna',\n",
       " '/Users/lisa.barros/Desktop/oligo-designer-toolsuite/tests/notebooks/output/annotation/LOC124903626.fna',\n",
       " '/Users/lisa.barros/Desktop/oligo-designer-toolsuite/tests/notebooks/output/annotation/LOC124903627.fna',\n",
       " '/Users/lisa.barros/Desktop/oligo-designer-toolsuite/tests/notebooks/output/annotation/LOC124903628.fna',\n",
       " '/Users/lisa.barros/Desktop/oligo-designer-toolsuite/tests/notebooks/output/annotation/LOC124903629.fna',\n",
       " '/Users/lisa.barros/Desktop/oligo-designer-toolsuite/tests/notebooks/output/annotation/LOC124903630.fna',\n",
       " '/Users/lisa.barros/Desktop/oligo-designer-toolsuite/tests/notebooks/output/annotation/LOC124903631.fna',\n",
       " '/Users/lisa.barros/Desktop/oligo-designer-toolsuite/tests/notebooks/output/annotation/LOC124903632.fna',\n",
       " '/Users/lisa.barros/Desktop/oligo-designer-toolsuite/tests/notebooks/output/annotation/LOC124903633.fna',\n",
       " '/Users/lisa.barros/Desktop/oligo-designer-toolsuite/tests/notebooks/output/annotation/LOC124903634.fna',\n",
       " '/Users/lisa.barros/Desktop/oligo-designer-toolsuite/tests/notebooks/output/annotation/LOC124903635.fna',\n",
       " '/Users/lisa.barros/Desktop/oligo-designer-toolsuite/tests/notebooks/output/annotation/LOC124903636.fna',\n",
       " '/Users/lisa.barros/Desktop/oligo-designer-toolsuite/tests/notebooks/output/annotation/LOC124903637.fna',\n",
       " '/Users/lisa.barros/Desktop/oligo-designer-toolsuite/tests/notebooks/output/annotation/LOC124903638.fna',\n",
       " '/Users/lisa.barros/Desktop/oligo-designer-toolsuite/tests/notebooks/output/annotation/LOC124903640.fna',\n",
       " '/Users/lisa.barros/Desktop/oligo-designer-toolsuite/tests/notebooks/output/annotation/LOC124903641.fna',\n",
       " '/Users/lisa.barros/Desktop/oligo-designer-toolsuite/tests/notebooks/output/annotation/LOC124903642.fna',\n",
       " '/Users/lisa.barros/Desktop/oligo-designer-toolsuite/tests/notebooks/output/annotation/LOC124903643.fna',\n",
       " '/Users/lisa.barros/Desktop/oligo-designer-toolsuite/tests/notebooks/output/annotation/LOC124903644.fna',\n",
       " '/Users/lisa.barros/Desktop/oligo-designer-toolsuite/tests/notebooks/output/annotation/LOC124903645.fna',\n",
       " '/Users/lisa.barros/Desktop/oligo-designer-toolsuite/tests/notebooks/output/annotation/LOC124903646.fna',\n",
       " '/Users/lisa.barros/Desktop/oligo-designer-toolsuite/tests/notebooks/output/annotation/LOC124903647.fna',\n",
       " '/Users/lisa.barros/Desktop/oligo-designer-toolsuite/tests/notebooks/output/annotation/LOC124903648.fna',\n",
       " '/Users/lisa.barros/Desktop/oligo-designer-toolsuite/tests/notebooks/output/annotation/LOC124903649.fna',\n",
       " '/Users/lisa.barros/Desktop/oligo-designer-toolsuite/tests/notebooks/output/annotation/LOC124903650.fna',\n",
       " '/Users/lisa.barros/Desktop/oligo-designer-toolsuite/tests/notebooks/output/annotation/LOC124903651.fna',\n",
       " '/Users/lisa.barros/Desktop/oligo-designer-toolsuite/tests/notebooks/output/annotation/LOC124903652.fna',\n",
       " '/Users/lisa.barros/Desktop/oligo-designer-toolsuite/tests/notebooks/output/annotation/LOC124903653.fna',\n",
       " '/Users/lisa.barros/Desktop/oligo-designer-toolsuite/tests/notebooks/output/annotation/LOC124903654.fna',\n",
       " '/Users/lisa.barros/Desktop/oligo-designer-toolsuite/tests/notebooks/output/annotation/LOC124903655.fna',\n",
       " '/Users/lisa.barros/Desktop/oligo-designer-toolsuite/tests/notebooks/output/annotation/LOC124903656.fna',\n",
       " '/Users/lisa.barros/Desktop/oligo-designer-toolsuite/tests/notebooks/output/annotation/LOC124903657.fna',\n",
       " '/Users/lisa.barros/Desktop/oligo-designer-toolsuite/tests/notebooks/output/annotation/LOC124903658.fna',\n",
       " '/Users/lisa.barros/Desktop/oligo-designer-toolsuite/tests/notebooks/output/annotation/LOC124903659.fna',\n",
       " '/Users/lisa.barros/Desktop/oligo-designer-toolsuite/tests/notebooks/output/annotation/LOC124903660.fna',\n",
       " '/Users/lisa.barros/Desktop/oligo-designer-toolsuite/tests/notebooks/output/annotation/LOC124903662.fna',\n",
       " '/Users/lisa.barros/Desktop/oligo-designer-toolsuite/tests/notebooks/output/annotation/LOC124903663.fna',\n",
       " '/Users/lisa.barros/Desktop/oligo-designer-toolsuite/tests/notebooks/output/annotation/LOC124903664.fna',\n",
       " '/Users/lisa.barros/Desktop/oligo-designer-toolsuite/tests/notebooks/output/annotation/LOC124903665.fna',\n",
       " '/Users/lisa.barros/Desktop/oligo-designer-toolsuite/tests/notebooks/output/annotation/LOC124903666.fna',\n",
       " '/Users/lisa.barros/Desktop/oligo-designer-toolsuite/tests/notebooks/output/annotation/LOC124903667.fna',\n",
       " '/Users/lisa.barros/Desktop/oligo-designer-toolsuite/tests/notebooks/output/annotation/LOC124903668.fna',\n",
       " '/Users/lisa.barros/Desktop/oligo-designer-toolsuite/tests/notebooks/output/annotation/LOC124903669.fna',\n",
       " '/Users/lisa.barros/Desktop/oligo-designer-toolsuite/tests/notebooks/output/annotation/LOC124903670.fna',\n",
       " '/Users/lisa.barros/Desktop/oligo-designer-toolsuite/tests/notebooks/output/annotation/LOC124903671.fna',\n",
       " '/Users/lisa.barros/Desktop/oligo-designer-toolsuite/tests/notebooks/output/annotation/LOC124903672.fna',\n",
       " '/Users/lisa.barros/Desktop/oligo-designer-toolsuite/tests/notebooks/output/annotation/LOC124903673.fna',\n",
       " '/Users/lisa.barros/Desktop/oligo-designer-toolsuite/tests/notebooks/output/annotation/LOC124903674.fna',\n",
       " '/Users/lisa.barros/Desktop/oligo-designer-toolsuite/tests/notebooks/output/annotation/LOC124903675.fna',\n",
       " '/Users/lisa.barros/Desktop/oligo-designer-toolsuite/tests/notebooks/output/annotation/LOC124903676.fna',\n",
       " '/Users/lisa.barros/Desktop/oligo-designer-toolsuite/tests/notebooks/output/annotation/LOC124903677.fna',\n",
       " '/Users/lisa.barros/Desktop/oligo-designer-toolsuite/tests/notebooks/output/annotation/LOC124903678.fna',\n",
       " '/Users/lisa.barros/Desktop/oligo-designer-toolsuite/tests/notebooks/output/annotation/LOC124903679.fna',\n",
       " '/Users/lisa.barros/Desktop/oligo-designer-toolsuite/tests/notebooks/output/annotation/LOC124903680.fna',\n",
       " '/Users/lisa.barros/Desktop/oligo-designer-toolsuite/tests/notebooks/output/annotation/LOC124903681.fna',\n",
       " '/Users/lisa.barros/Desktop/oligo-designer-toolsuite/tests/notebooks/output/annotation/LOC124903683.fna',\n",
       " '/Users/lisa.barros/Desktop/oligo-designer-toolsuite/tests/notebooks/output/annotation/LOC124903684.fna',\n",
       " '/Users/lisa.barros/Desktop/oligo-designer-toolsuite/tests/notebooks/output/annotation/LOC124903685.fna',\n",
       " '/Users/lisa.barros/Desktop/oligo-designer-toolsuite/tests/notebooks/output/annotation/LOC124903686.fna',\n",
       " '/Users/lisa.barros/Desktop/oligo-designer-toolsuite/tests/notebooks/output/annotation/LOC124903687.fna',\n",
       " '/Users/lisa.barros/Desktop/oligo-designer-toolsuite/tests/notebooks/output/annotation/LOC124903688.fna',\n",
       " '/Users/lisa.barros/Desktop/oligo-designer-toolsuite/tests/notebooks/output/annotation/LOC124903689.fna',\n",
       " '/Users/lisa.barros/Desktop/oligo-designer-toolsuite/tests/notebooks/output/annotation/LOC124903690.fna',\n",
       " '/Users/lisa.barros/Desktop/oligo-designer-toolsuite/tests/notebooks/output/annotation/LOC124903691.fna',\n",
       " '/Users/lisa.barros/Desktop/oligo-designer-toolsuite/tests/notebooks/output/annotation/LOC124903692.fna',\n",
       " '/Users/lisa.barros/Desktop/oligo-designer-toolsuite/tests/notebooks/output/annotation/LOC124903693.fna',\n",
       " '/Users/lisa.barros/Desktop/oligo-designer-toolsuite/tests/notebooks/output/annotation/LOC124903694.fna',\n",
       " '/Users/lisa.barros/Desktop/oligo-designer-toolsuite/tests/notebooks/output/annotation/LOC124903695.fna',\n",
       " '/Users/lisa.barros/Desktop/oligo-designer-toolsuite/tests/notebooks/output/annotation/LOC124903696.fna',\n",
       " '/Users/lisa.barros/Desktop/oligo-designer-toolsuite/tests/notebooks/output/annotation/LOC124903697.fna',\n",
       " '/Users/lisa.barros/Desktop/oligo-designer-toolsuite/tests/notebooks/output/annotation/LOC124903698.fna',\n",
       " '/Users/lisa.barros/Desktop/oligo-designer-toolsuite/tests/notebooks/output/annotation/LOC124903699.fna',\n",
       " '/Users/lisa.barros/Desktop/oligo-designer-toolsuite/tests/notebooks/output/annotation/LOC124903700.fna',\n",
       " '/Users/lisa.barros/Desktop/oligo-designer-toolsuite/tests/notebooks/output/annotation/LOC124903701.fna',\n",
       " '/Users/lisa.barros/Desktop/oligo-designer-toolsuite/tests/notebooks/output/annotation/LOC124903702.fna',\n",
       " '/Users/lisa.barros/Desktop/oligo-designer-toolsuite/tests/notebooks/output/annotation/LOC124903703.fna',\n",
       " '/Users/lisa.barros/Desktop/oligo-designer-toolsuite/tests/notebooks/output/annotation/LOC124903704.fna',\n",
       " '/Users/lisa.barros/Desktop/oligo-designer-toolsuite/tests/notebooks/output/annotation/LOC124903705.fna',\n",
       " '/Users/lisa.barros/Desktop/oligo-designer-toolsuite/tests/notebooks/output/annotation/LOC124903706.fna',\n",
       " '/Users/lisa.barros/Desktop/oligo-designer-toolsuite/tests/notebooks/output/annotation/LOC124903707.fna',\n",
       " '/Users/lisa.barros/Desktop/oligo-designer-toolsuite/tests/notebooks/output/annotation/LOC124903708.fna',\n",
       " '/Users/lisa.barros/Desktop/oligo-designer-toolsuite/tests/notebooks/output/annotation/LOC124903709.fna',\n",
       " '/Users/lisa.barros/Desktop/oligo-designer-toolsuite/tests/notebooks/output/annotation/LOC124903710.fna',\n",
       " '/Users/lisa.barros/Desktop/oligo-designer-toolsuite/tests/notebooks/output/annotation/LOC124903711.fna',\n",
       " '/Users/lisa.barros/Desktop/oligo-designer-toolsuite/tests/notebooks/output/annotation/LOC124903712.fna',\n",
       " '/Users/lisa.barros/Desktop/oligo-designer-toolsuite/tests/notebooks/output/annotation/LOC124903713.fna',\n",
       " '/Users/lisa.barros/Desktop/oligo-designer-toolsuite/tests/notebooks/output/annotation/LOC124903714.fna',\n",
       " '/Users/lisa.barros/Desktop/oligo-designer-toolsuite/tests/notebooks/output/annotation/LOC124903715.fna',\n",
       " '/Users/lisa.barros/Desktop/oligo-designer-toolsuite/tests/notebooks/output/annotation/LOC124903716.fna',\n",
       " '/Users/lisa.barros/Desktop/oligo-designer-toolsuite/tests/notebooks/output/annotation/LOC124903717.fna',\n",
       " '/Users/lisa.barros/Desktop/oligo-designer-toolsuite/tests/notebooks/output/annotation/LOC124903718.fna',\n",
       " '/Users/lisa.barros/Desktop/oligo-designer-toolsuite/tests/notebooks/output/annotation/LOC124903719.fna',\n",
       " '/Users/lisa.barros/Desktop/oligo-designer-toolsuite/tests/notebooks/output/annotation/LOC124903720.fna',\n",
       " '/Users/lisa.barros/Desktop/oligo-designer-toolsuite/tests/notebooks/output/annotation/LOC124903721.fna',\n",
       " '/Users/lisa.barros/Desktop/oligo-designer-toolsuite/tests/notebooks/output/annotation/LOC124903722.fna',\n",
       " '/Users/lisa.barros/Desktop/oligo-designer-toolsuite/tests/notebooks/output/annotation/LOC124903723.fna',\n",
       " '/Users/lisa.barros/Desktop/oligo-designer-toolsuite/tests/notebooks/output/annotation/LOC124903724.fna',\n",
       " '/Users/lisa.barros/Desktop/oligo-designer-toolsuite/tests/notebooks/output/annotation/LOC124903725.fna',\n",
       " '/Users/lisa.barros/Desktop/oligo-designer-toolsuite/tests/notebooks/output/annotation/LOC124903726.fna',\n",
       " '/Users/lisa.barros/Desktop/oligo-designer-toolsuite/tests/notebooks/output/annotation/LOC124903727.fna',\n",
       " '/Users/lisa.barros/Desktop/oligo-designer-toolsuite/tests/notebooks/output/annotation/LOC124903728.fna',\n",
       " '/Users/lisa.barros/Desktop/oligo-designer-toolsuite/tests/notebooks/output/annotation/LOC124903729.fna',\n",
       " '/Users/lisa.barros/Desktop/oligo-designer-toolsuite/tests/notebooks/output/annotation/LOC124903730.fna',\n",
       " '/Users/lisa.barros/Desktop/oligo-designer-toolsuite/tests/notebooks/output/annotation/LOC124903731.fna',\n",
       " '/Users/lisa.barros/Desktop/oligo-designer-toolsuite/tests/notebooks/output/annotation/LOC124903732.fna',\n",
       " '/Users/lisa.barros/Desktop/oligo-designer-toolsuite/tests/notebooks/output/annotation/LOC124903733.fna',\n",
       " '/Users/lisa.barros/Desktop/oligo-designer-toolsuite/tests/notebooks/output/annotation/LOC124903734.fna',\n",
       " '/Users/lisa.barros/Desktop/oligo-designer-toolsuite/tests/notebooks/output/annotation/LOC124903735.fna',\n",
       " '/Users/lisa.barros/Desktop/oligo-designer-toolsuite/tests/notebooks/output/annotation/LOC124903736.fna',\n",
       " '/Users/lisa.barros/Desktop/oligo-designer-toolsuite/tests/notebooks/output/annotation/LOC124903737.fna',\n",
       " '/Users/lisa.barros/Desktop/oligo-designer-toolsuite/tests/notebooks/output/annotation/LOC124903738.fna',\n",
       " '/Users/lisa.barros/Desktop/oligo-designer-toolsuite/tests/notebooks/output/annotation/LOC124903739.fna',\n",
       " '/Users/lisa.barros/Desktop/oligo-designer-toolsuite/tests/notebooks/output/annotation/LOC124903740.fna',\n",
       " '/Users/lisa.barros/Desktop/oligo-designer-toolsuite/tests/notebooks/output/annotation/LOC124903741.fna',\n",
       " '/Users/lisa.barros/Desktop/oligo-designer-toolsuite/tests/notebooks/output/annotation/LOC124903742.fna',\n",
       " '/Users/lisa.barros/Desktop/oligo-designer-toolsuite/tests/notebooks/output/annotation/LOC124903743.fna',\n",
       " '/Users/lisa.barros/Desktop/oligo-designer-toolsuite/tests/notebooks/output/annotation/LOC124903744.fna',\n",
       " '/Users/lisa.barros/Desktop/oligo-designer-toolsuite/tests/notebooks/output/annotation/LOC124903745.fna',\n",
       " '/Users/lisa.barros/Desktop/oligo-designer-toolsuite/tests/notebooks/output/annotation/LOC124903746.fna',\n",
       " '/Users/lisa.barros/Desktop/oligo-designer-toolsuite/tests/notebooks/output/annotation/LOC124903747.fna',\n",
       " '/Users/lisa.barros/Desktop/oligo-designer-toolsuite/tests/notebooks/output/annotation/LOC124903748.fna',\n",
       " '/Users/lisa.barros/Desktop/oligo-designer-toolsuite/tests/notebooks/output/annotation/LOC124903749.fna',\n",
       " '/Users/lisa.barros/Desktop/oligo-designer-toolsuite/tests/notebooks/output/annotation/LOC124903750.fna',\n",
       " '/Users/lisa.barros/Desktop/oligo-designer-toolsuite/tests/notebooks/output/annotation/LOC124903751.fna',\n",
       " '/Users/lisa.barros/Desktop/oligo-designer-toolsuite/tests/notebooks/output/annotation/LOC124903752.fna',\n",
       " '/Users/lisa.barros/Desktop/oligo-designer-toolsuite/tests/notebooks/output/annotation/LOC124903753.fna',\n",
       " '/Users/lisa.barros/Desktop/oligo-designer-toolsuite/tests/notebooks/output/annotation/LOC124903754.fna',\n",
       " '/Users/lisa.barros/Desktop/oligo-designer-toolsuite/tests/notebooks/output/annotation/LOC124903755.fna',\n",
       " '/Users/lisa.barros/Desktop/oligo-designer-toolsuite/tests/notebooks/output/annotation/LOC124903756.fna',\n",
       " '/Users/lisa.barros/Desktop/oligo-designer-toolsuite/tests/notebooks/output/annotation/LOC124903757.fna',\n",
       " '/Users/lisa.barros/Desktop/oligo-designer-toolsuite/tests/notebooks/output/annotation/LOC124903758.fna',\n",
       " '/Users/lisa.barros/Desktop/oligo-designer-toolsuite/tests/notebooks/output/annotation/LOC124903759.fna',\n",
       " '/Users/lisa.barros/Desktop/oligo-designer-toolsuite/tests/notebooks/output/annotation/LOC124903760.fna',\n",
       " '/Users/lisa.barros/Desktop/oligo-designer-toolsuite/tests/notebooks/output/annotation/LOC124903761.fna',\n",
       " '/Users/lisa.barros/Desktop/oligo-designer-toolsuite/tests/notebooks/output/annotation/LOC124903762.fna',\n",
       " '/Users/lisa.barros/Desktop/oligo-designer-toolsuite/tests/notebooks/output/annotation/LOC124903763.fna',\n",
       " '/Users/lisa.barros/Desktop/oligo-designer-toolsuite/tests/notebooks/output/annotation/LOC124903765.fna',\n",
       " '/Users/lisa.barros/Desktop/oligo-designer-toolsuite/tests/notebooks/output/annotation/LOC124903766.fna',\n",
       " '/Users/lisa.barros/Desktop/oligo-designer-toolsuite/tests/notebooks/output/annotation/LOC124903767.fna',\n",
       " '/Users/lisa.barros/Desktop/oligo-designer-toolsuite/tests/notebooks/output/annotation/LOC124903768.fna',\n",
       " '/Users/lisa.barros/Desktop/oligo-designer-toolsuite/tests/notebooks/output/annotation/LOC124903769.fna',\n",
       " '/Users/lisa.barros/Desktop/oligo-designer-toolsuite/tests/notebooks/output/annotation/LOC124903770.fna',\n",
       " '/Users/lisa.barros/Desktop/oligo-designer-toolsuite/tests/notebooks/output/annotation/LOC124903771.fna',\n",
       " '/Users/lisa.barros/Desktop/oligo-designer-toolsuite/tests/notebooks/output/annotation/LOC124903772.fna',\n",
       " '/Users/lisa.barros/Desktop/oligo-designer-toolsuite/tests/notebooks/output/annotation/LOC124903773.fna',\n",
       " '/Users/lisa.barros/Desktop/oligo-designer-toolsuite/tests/notebooks/output/annotation/LOC124903774.fna',\n",
       " '/Users/lisa.barros/Desktop/oligo-designer-toolsuite/tests/notebooks/output/annotation/LOC124903775.fna',\n",
       " '/Users/lisa.barros/Desktop/oligo-designer-toolsuite/tests/notebooks/output/annotation/LOC124903776.fna',\n",
       " '/Users/lisa.barros/Desktop/oligo-designer-toolsuite/tests/notebooks/output/annotation/LOC124903777.fna',\n",
       " '/Users/lisa.barros/Desktop/oligo-designer-toolsuite/tests/notebooks/output/annotation/LOC124903778.fna',\n",
       " '/Users/lisa.barros/Desktop/oligo-designer-toolsuite/tests/notebooks/output/annotation/LOC124903779.fna',\n",
       " '/Users/lisa.barros/Desktop/oligo-designer-toolsuite/tests/notebooks/output/annotation/LOC124903780.fna',\n",
       " '/Users/lisa.barros/Desktop/oligo-designer-toolsuite/tests/notebooks/output/annotation/LOC124903782.fna',\n",
       " '/Users/lisa.barros/Desktop/oligo-designer-toolsuite/tests/notebooks/output/annotation/LOC124903784.fna',\n",
       " '/Users/lisa.barros/Desktop/oligo-designer-toolsuite/tests/notebooks/output/annotation/LOC124903785.fna',\n",
       " '/Users/lisa.barros/Desktop/oligo-designer-toolsuite/tests/notebooks/output/annotation/LOC124903786.fna',\n",
       " '/Users/lisa.barros/Desktop/oligo-designer-toolsuite/tests/notebooks/output/annotation/LOC124903787.fna',\n",
       " '/Users/lisa.barros/Desktop/oligo-designer-toolsuite/tests/notebooks/output/annotation/LOC124903789.fna',\n",
       " '/Users/lisa.barros/Desktop/oligo-designer-toolsuite/tests/notebooks/output/annotation/LOC124903790.fna',\n",
       " '/Users/lisa.barros/Desktop/oligo-designer-toolsuite/tests/notebooks/output/annotation/LOC124903791.fna',\n",
       " ...]"
      ]
     },
     "execution_count": 9,
     "metadata": {},
     "output_type": "execute_result"
    }
   ],
   "source": [
    "file_fasta_exons = oligo_sequence_generator.create_sequences_sliding_window(\n",
    "    files_fasta_in=[ncbi_exons, ncbi_junction],\n",
    "    length_interval_sequences=(30, 31),\n",
    ")\n",
    "file_fasta_exons"
   ]
  },
  {
   "attachments": {},
   "cell_type": "markdown",
   "metadata": {},
   "source": [
    "## Test Oligo Database"
   ]
  },
  {
   "cell_type": "code",
   "execution_count": 23,
   "metadata": {},
   "outputs": [],
   "source": [
    "from oligo_designer_toolsuite.database import OligoDatabase, OligoAttributes"
   ]
  },
  {
   "cell_type": "code",
   "execution_count": 11,
   "metadata": {},
   "outputs": [],
   "source": [
    "region_ids = [\"AARS1\",\"DECR2\",\"FAM234A\",\"RHBDF1\",\"WASIR2\", \"this_gene_does_not_exist\"]\n",
    "\n",
    "metadata_ncbi = {\"annotation_source\": region_generator_ncbi.files_source, \n",
    "            \"species\": region_generator_ncbi.species, \n",
    "            \"annotation_release\": region_generator_ncbi.annotation_release, \n",
    "            \"genome_assembly\": region_generator_ncbi.genome_assembly\n",
    "            }"
   ]
  },
  {
   "cell_type": "code",
   "execution_count": 12,
   "metadata": {},
   "outputs": [],
   "source": [
    "oligos = OligoDatabase(min_oligos_per_region=2, write_regions_with_insufficient_oligos=True)\n",
    "oligos2 = OligoDatabase(min_oligos_per_region=4, write_regions_with_insufficient_oligos=True)"
   ]
  },
  {
   "cell_type": "code",
   "execution_count": 19,
   "metadata": {},
   "outputs": [
    {
     "data": {
      "application/vnd.jupyter.widget-view+json": {
       "model_id": "e7be8ac934324242853a72a780be68d3",
       "version_major": 2,
       "version_minor": 0
      },
      "text/plain": [
       "Output()"
      ]
     },
     "metadata": {},
     "output_type": "display_data"
    },
    {
     "data": {
      "text/html": [
       "<pre style=\"white-space:pre;overflow-x:auto;line-height:normal;font-family:Menlo,'DejaVu Sans Mono',consolas,'Courier New',monospace\"></pre>\n"
      ],
      "text/plain": []
     },
     "metadata": {},
     "output_type": "display_data"
    },
    {
     "data": {
      "text/html": [
       "<pre style=\"white-space:pre;overflow-x:auto;line-height:normal;font-family:Menlo,'DejaVu Sans Mono',consolas,'Courier New',monospace\">\n",
       "</pre>\n"
      ],
      "text/plain": [
       "\n"
      ]
     },
     "metadata": {},
     "output_type": "display_data"
    }
   ],
   "source": [
    "oligos.load_database_from_fasta(\n",
    "    files_fasta=file_fasta_random_seqs1,\n",
    "    sequence_type=\"oligo\",\n",
    "    region_ids=[\"random_sequences1\"],\n",
    "    database_overwrite=True,\n",
    ")"
   ]
  },
  {
   "cell_type": "code",
   "execution_count": 20,
   "metadata": {},
   "outputs": [
    {
     "data": {
      "application/vnd.jupyter.widget-view+json": {
       "model_id": "af383a4659cc4a42968b7dfd37bd561e",
       "version_major": 2,
       "version_minor": 0
      },
      "text/plain": [
       "Output()"
      ]
     },
     "metadata": {},
     "output_type": "display_data"
    },
    {
     "data": {
      "text/html": [
       "<pre style=\"white-space:pre;overflow-x:auto;line-height:normal;font-family:Menlo,'DejaVu Sans Mono',consolas,'Courier New',monospace\"></pre>\n"
      ],
      "text/plain": []
     },
     "metadata": {},
     "output_type": "display_data"
    },
    {
     "data": {
      "text/html": [
       "<pre style=\"white-space:pre;overflow-x:auto;line-height:normal;font-family:Menlo,'DejaVu Sans Mono',consolas,'Courier New',monospace\">\n",
       "</pre>\n"
      ],
      "text/plain": [
       "\n"
      ]
     },
     "metadata": {},
     "output_type": "display_data"
    }
   ],
   "source": [
    "oligos.load_database_from_fasta(\n",
    "    files_fasta=file_fasta_random_seqs2,\n",
    "    sequence_type=\"oligo\",\n",
    "    database_overwrite=False,\n",
    ")"
   ]
  },
  {
   "cell_type": "code",
   "execution_count": 21,
   "metadata": {},
   "outputs": [
    {
     "data": {
      "application/vnd.jupyter.widget-view+json": {
       "model_id": "d45808938a9f410baa1025add9e61610",
       "version_major": 2,
       "version_minor": 0
      },
      "text/plain": [
       "Output()"
      ]
     },
     "metadata": {},
     "output_type": "display_data"
    },
    {
     "data": {
      "text/html": [
       "<pre style=\"white-space:pre;overflow-x:auto;line-height:normal;font-family:Menlo,'DejaVu Sans Mono',consolas,'Courier New',monospace\">/Users/lisa.barros/Desktop/oligo-designer-toolsuite/oligo_designer_toolsuite/utils/_sequence_parser.py:378: \n",
       "UserWarning: Regions {'FAM234A', 'AARS1', 'DECR2', 'WASIR2', 'RHBDF1', 'this_gene_does_not_exist'} were not found \n",
       "in the input FASTA file.\n",
       "  warnings.warn(f\"Regions {missing_regions} were not found in the input FASTA file.\")\n",
       "</pre>\n"
      ],
      "text/plain": [
       "/Users/lisa.barros/Desktop/oligo-designer-toolsuite/oligo_designer_toolsuite/utils/_sequence_parser.py:378: \n",
       "UserWarning: Regions {'FAM234A', 'AARS1', 'DECR2', 'WASIR2', 'RHBDF1', 'this_gene_does_not_exist'} were not found \n",
       "in the input FASTA file.\n",
       "  warnings.warn(f\"Regions {missing_regions} were not found in the input FASTA file.\")\n"
      ]
     },
     "metadata": {},
     "output_type": "display_data"
    },
    {
     "data": {
      "text/html": [
       "<pre style=\"white-space:pre;overflow-x:auto;line-height:normal;font-family:Menlo,'DejaVu Sans Mono',consolas,'Courier New',monospace\"></pre>\n"
      ],
      "text/plain": []
     },
     "metadata": {},
     "output_type": "display_data"
    },
    {
     "data": {
      "text/html": [
       "<pre style=\"white-space:pre;overflow-x:auto;line-height:normal;font-family:Menlo,'DejaVu Sans Mono',consolas,'Courier New',monospace\">\n",
       "</pre>\n"
      ],
      "text/plain": [
       "\n"
      ]
     },
     "metadata": {},
     "output_type": "display_data"
    },
    {
     "name": "stderr",
     "output_type": "stream",
     "text": [
      "/Users/lisa.barros/Desktop/oligo-designer-toolsuite/oligo_designer_toolsuite/utils/_database_processor.py:201: UserWarning: Region this_gene_does_not_exist not available in reference file.\n",
      "  warnings.warn(f\"Region {region_id} not available in reference file.\")\n"
     ]
    }
   ],
   "source": [
    "oligos.load_database_from_fasta(\n",
    "    files_fasta=file_fasta_exons,\n",
    "    sequence_type=\"target\",\n",
    "    region_ids=region_ids,\n",
    "    database_overwrite=False,\n",
    ")"
   ]
  },
  {
   "cell_type": "code",
   "execution_count": 25,
   "metadata": {},
   "outputs": [],
   "source": [
    "# check if calculation of number of targeted transcripts and isoform consensus works\n",
    "oligo_attributes = OligoAttributes()\n",
    "oligos = oligo_attributes.calculate_num_targeted_transcripts(oligo_database=oligos)\n",
    "oligos = oligo_attributes.calculate_isoform_consensus(oligo_database=oligos)"
   ]
  },
  {
   "cell_type": "code",
   "execution_count": 26,
   "metadata": {},
   "outputs": [],
   "source": [
    "# check if removale of regions works\n",
    "oligos.remove_regions_with_insufficient_oligos(\"database_generation\")\n",
    "assert len(oligos.database.keys()) == (len(region_ids) - 1 + 2), \"error: wrong number of regions in database\""
   ]
  },
  {
   "cell_type": "code",
   "execution_count": 32,
   "metadata": {},
   "outputs": [
    {
     "data": {
      "application/vnd.jupyter.widget-view+json": {
       "model_id": "a16a8691a38c4c759f3096bc4d0c6b65",
       "version_major": 2,
       "version_minor": 0
      },
      "text/plain": [
       "Output()"
      ]
     },
     "metadata": {},
     "output_type": "display_data"
    },
    {
     "data": {
      "text/html": [
       "<pre style=\"white-space:pre;overflow-x:auto;line-height:normal;font-family:Menlo,'DejaVu Sans Mono',consolas,'Courier New',monospace\"></pre>\n"
      ],
      "text/plain": []
     },
     "metadata": {},
     "output_type": "display_data"
    },
    {
     "data": {
      "text/html": [
       "<pre style=\"white-space:pre;overflow-x:auto;line-height:normal;font-family:Menlo,'DejaVu Sans Mono',consolas,'Courier New',monospace\">\n",
       "</pre>\n"
      ],
      "text/plain": [
       "\n"
      ]
     },
     "metadata": {},
     "output_type": "display_data"
    },
    {
     "data": {
      "application/vnd.jupyter.widget-view+json": {
       "model_id": "4162dcd6d34c442a9984b2ee8fc7bbf6",
       "version_major": 2,
       "version_minor": 0
      },
      "text/plain": [
       "Output()"
      ]
     },
     "metadata": {},
     "output_type": "display_data"
    },
    {
     "data": {
      "text/html": [
       "<pre style=\"white-space:pre;overflow-x:auto;line-height:normal;font-family:Menlo,'DejaVu Sans Mono',consolas,'Courier New',monospace\"></pre>\n"
      ],
      "text/plain": []
     },
     "metadata": {},
     "output_type": "display_data"
    },
    {
     "data": {
      "text/html": [
       "<pre style=\"white-space:pre;overflow-x:auto;line-height:normal;font-family:Menlo,'DejaVu Sans Mono',consolas,'Courier New',monospace\">\n",
       "</pre>\n"
      ],
      "text/plain": [
       "\n"
      ]
     },
     "metadata": {},
     "output_type": "display_data"
    }
   ],
   "source": [
    "# check if save and load works\n",
    "dir_database = oligos.save_database(\n",
    "    dir_database=dir_output, region_ids=\"random_sequences2\"\n",
    ")\n",
    "\n",
    "oligos2.load_database(dir_database, database_overwrite=True)\n",
    "oligos2.load_database_from_fasta(\n",
    "    files_fasta=file_fasta_random_seqs1,\n",
    "    sequence_type=\"oligo\",\n",
    "    database_overwrite=False,\n",
    ")"
   ]
  },
  {
   "cell_type": "code",
   "execution_count": 33,
   "metadata": {},
   "outputs": [],
   "source": [
    "# check if removale of regions works\n",
    "oligos2.remove_regions_with_insufficient_oligos(\"database_generation\")\n",
    "assert len(oligos2.database.keys()) == 1, \"error: wrong number of regions in database\""
   ]
  },
  {
   "cell_type": "code",
   "execution_count": 34,
   "metadata": {},
   "outputs": [],
   "source": [
    "# check if we get the correct number of sequences returned\n",
    "list_sequences = oligos2.get_sequence_list()\n",
    "assert len(list_sequences) == 100, \"error: wrong number of sequences in database\""
   ]
  },
  {
   "cell_type": "code",
   "execution_count": 35,
   "metadata": {},
   "outputs": [
    {
     "data": {
      "text/plain": [
       "'/Users/lisa.barros/Desktop/oligo-designer-toolsuite/tests/notebooks/output/db_oligo/db_oligo.fna'"
      ]
     },
     "execution_count": 35,
     "metadata": {},
     "output_type": "execute_result"
    }
   ],
   "source": [
    "oligos.write_database_to_fasta()"
   ]
  },
  {
   "attachments": {},
   "cell_type": "markdown",
   "metadata": {},
   "source": [
    "## Test Reference Database\n"
   ]
  },
  {
   "cell_type": "code",
   "execution_count": 43,
   "metadata": {},
   "outputs": [],
   "source": [
    "from oligo_designer_toolsuite.database import ReferenceDatabase\n",
    "from oligo_designer_toolsuite.utils import FastaParser"
   ]
  },
  {
   "cell_type": "code",
   "execution_count": 44,
   "metadata": {},
   "outputs": [],
   "source": [
    "fasta_parser = FastaParser()\n",
    "\n",
    "metadata = {\"annotation_source\": region_generator_ncbi.files_source, \"species\": region_generator_ncbi.species, \"annotation_release\": region_generator_ncbi.annotation_release, \"genome_assembly\": region_generator_ncbi.genome_assembly}"
   ]
  },
  {
   "cell_type": "code",
   "execution_count": 45,
   "metadata": {},
   "outputs": [],
   "source": [
    "reference = ReferenceDatabase()\n",
    "reference.load_database_from_fasta(files_fasta=ncbi_genes, database_overwrite=True)\n",
    "reference.load_database_from_fasta(files_fasta=ncbi_intergenic, database_overwrite=False)"
   ]
  },
  {
   "cell_type": "code",
   "execution_count": 46,
   "metadata": {},
   "outputs": [
    {
     "data": {
      "text/plain": [
       "[SeqRecord(seq=Seq('ACAGCTGCGCGTCTGCGGGAATAGGTGCAGCGGGCCCTTGGCGGGGGACTctga...CTG'), id='AARS1::source=NCBI;species=Homo_sapiens;annotation_release=110;genome_assembly=GRCh38;regiontype=gene;gene_id=AARS1::16:70252298-70289506(-)(-)', name='AARS1::source=NCBI;species=Homo_sapiens;annotation_release=110;genome_assembly=GRCh38;regiontype=gene;gene_id=AARS1::16:70252298-70289506(-)(-)', description='AARS1::source=NCBI;species=Homo_sapiens;annotation_release=110;genome_assembly=GRCh38;regiontype=gene;gene_id=AARS1::16:70252298-70289506(-)(-)', dbxrefs=[])]"
      ]
     },
     "execution_count": 46,
     "metadata": {},
     "output_type": "execute_result"
    }
   ],
   "source": [
    "reference.filter_database(\"AARS1\", remove_region=False)\n",
    "for entry in reference.database:\n",
    "    region, _, _, = fasta_parser.parse_fasta_header(entry.id)\n",
    "    assert region == 'AARS1', f\"error: this region {region} should be filtered out.\"\n",
    "reference.database"
   ]
  },
  {
   "cell_type": "code",
   "execution_count": 48,
   "metadata": {},
   "outputs": [],
   "source": [
    "file_fasta_database = reference.write_database_to_fasta(filename = \"filtered_databse\")\n",
    "assert fasta_parser.check_fasta_format(file_fasta_database) == True, \"error: wrong file format\""
   ]
  }
 ],
 "metadata": {
  "kernelspec": {
   "display_name": "ODT",
   "language": "python",
   "name": "python3"
  },
  "language_info": {
   "codemirror_mode": {
    "name": "ipython",
    "version": 3
   },
   "file_extension": ".py",
   "mimetype": "text/x-python",
   "name": "python",
   "nbconvert_exporter": "python",
   "pygments_lexer": "ipython3",
   "version": "3.10.14"
  },
  "orig_nbformat": 4
 },
 "nbformat": 4,
 "nbformat_minor": 2
}
