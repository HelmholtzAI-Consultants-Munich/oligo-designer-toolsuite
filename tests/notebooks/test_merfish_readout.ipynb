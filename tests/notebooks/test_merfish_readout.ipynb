{
 "cells": [
  {
   "cell_type": "code",
   "execution_count": null,
   "metadata": {
    "collapsed": false
   },
   "outputs": [],
   "source": [
    "import os\n",
    "import sys\n",
    "import warnings\n",
    "sys.path.append(os.path.dirname(os.getcwd()))\n",
    "\n",
    "import yaml\n",
    "from oligo_designer_toolsuite.pipelines import ReadoutProbes"
   ]
  },
  {
   "cell_type": "code",
   "execution_count": null,
   "metadata": {},
   "outputs": [],
   "source": [
    "config_file = \"./configs/merfish_probe_designer_test.yaml\"\n",
    "# config_file = \"./configs/padlock_probe_designer_ncbi.yaml\" # NCBI config\n",
    "# config_file = \"./configs/padlock_probe_designer_ensemble.yaml\" # Ensemble config\n",
    "with open(config_file, 'r') as yaml_file:\n",
    "    config = yaml.safe_load(yaml_file)\n",
    "dir_output = os.path.join(os.path.dirname(os.getcwd()), config[\"dir_output\"])"
   ]
  },
  {
   "cell_type": "code",
   "execution_count": null,
   "metadata": {},
   "outputs": [],
   "source": [
    "from oligo_designer_toolsuite.database import CustomGenomicRegionGenerator, NcbiGenomicRegionGenerator, EnsemblGenomicRegionGenerator\n",
    "\n",
    "# If the custom config file is selected\n",
    "if config[\"source\"] == \"custom\":\n",
    "    region_generator_custom = CustomGenomicRegionGenerator(\n",
    "        annotation_file=config[\"annotation_file\"], \n",
    "        sequence_file=config[\"sequence_file\"], \n",
    "        files_source=config[\"files_source\"], \n",
    "        species=config[\"species\"], \n",
    "        annotation_release=config[\"annotation_release\"], \n",
    "        genome_assembly=config[\"genome_assembly\"],\n",
    "        dir_output=dir_output\n",
    "    )\n",
    "# If the Ncbi config file is selected\n",
    "elif config[\"source\"] == \"ncbi\":\n",
    "    region_generator = NcbiGenomicRegionGenerator(\n",
    "        taxon=config[\"taxon\"],\n",
    "        species=config[\"species\"], \n",
    "        annotation_release=config[\"annotation_release\"], \n",
    "        dir_output=dir_output\n",
    "    )\n",
    "# If the Ensembl config file is generated\n",
    "elif config[\"source\"] == \"ensembl\":\n",
    "    region_generator = EnsemblGenomicRegionGenerator(\n",
    "        species=config[\"species\"], \n",
    "        annotation_release=config[\"annotation_release\"], \n",
    "        dir_output=dir_output\n",
    "    )\n",
    "\n",
    "file_transcriptome = region_generator_custom.generate_transcript_reduced_representation(include_exon_junctions=True, exon_junction_size=2*config[\"target_oligo\"][\"oligo_length_max\"])"
   ]
  },
  {
   "cell_type": "code",
   "execution_count": null,
   "metadata": {},
   "outputs": [],
   "source": [
    "readout_probe_class = ReadoutProbes(config,\n",
    "            dir_output,\n",
    "            file_transcriptome,\n",
    "            region_generator_custom)\n",
    "readout_probes= readout_probe_class.create_readouts(100)"
   ]
  }
 ],
 "metadata": {
  "kernelspec": {
   "display_name": "Python 3",
   "language": "python",
   "name": "python3"
  },
  "language_info": {
   "codemirror_mode": {
    "name": "ipython",
    "version": 2
   },
   "file_extension": ".py",
   "mimetype": "text/x-python",
   "name": "python",
   "nbconvert_exporter": "python",
   "pygments_lexer": "ipython2",
   "version": "2.7.6"
  }
 },
 "nbformat": 4,
 "nbformat_minor": 0
}
