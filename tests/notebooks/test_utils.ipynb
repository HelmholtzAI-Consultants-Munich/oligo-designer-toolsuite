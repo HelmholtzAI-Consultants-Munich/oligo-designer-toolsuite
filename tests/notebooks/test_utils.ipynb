{
 "cells": [
  {
   "attachments": {},
   "cell_type": "markdown",
   "metadata": {},
   "source": [
    "## Test Data Parser"
   ]
  },
  {
   "cell_type": "code",
   "execution_count": null,
   "metadata": {},
   "outputs": [],
   "source": [
    "import os\n",
    "import pandas as pd\n",
    "pd.set_option('display.max_columns', None)\n",
    "import pickle\n",
    "\n",
    "from oligo_designer_toolsuite.utils import GffParser, parse_fasta_header\n",
    "\n",
    "%load_ext memory_profiler"
   ]
  },
  {
   "cell_type": "code",
   "execution_count": null,
   "metadata": {},
   "outputs": [],
   "source": [
    "# Initialize parser\n",
    "parser = GffParser()"
   ]
  },
  {
   "cell_type": "code",
   "execution_count": null,
   "metadata": {},
   "outputs": [],
   "source": [
    "##### Test GFF3 parser\n",
    "file_gff = os.path.join(os.path.dirname(os.getcwd()), \"data/custom_GCF_000001405.40_GRCh38.p14_genomic_chr16.gff\")\n",
    "dataframe_gff = parser.read_gff(file_gff, target_lines=10)\n",
    "\n",
    "assert dataframe_gff.shape[1] == 23, \"error: GFF3 dataframe not correctly loaded\""
   ]
  },
  {
   "cell_type": "code",
   "execution_count": null,
   "metadata": {},
   "outputs": [],
   "source": [
    "file_gff = \"/Users/lisa.barros/projects/GP0002_Oligo_Designer_Toolsuite/Toolsuite/oligo-designer-toolsuite/tests/output/GCF_000001405.40_GRCh38.p14_genomic.gtf\"\n",
    "target_lines = 100000"
   ]
  },
  {
   "cell_type": "code",
   "execution_count": null,
   "metadata": {},
   "outputs": [],
   "source": [
    "%mprun -f parser.read_gff parser.read_gff(file_gff, target_lines=target_lines)"
   ]
  },
  {
   "cell_type": "code",
   "execution_count": null,
   "metadata": {},
   "outputs": [],
   "source": [
    "# Initialize parser\n",
    "parser = GffParser()"
   ]
  },
  {
   "cell_type": "code",
   "execution_count": null,
   "metadata": {},
   "outputs": [],
   "source": [
    "##### Test GTF parser\n",
    "file_gtf = os.path.join(os.path.dirname(os.getcwd()), \"data/custom_GCF_000001405.40_GRCh38.p14_genomic_chr16.gtf\")\n",
    "dataframe_gtf = parser.read_gff(file_gtf, target_lines=10)\n",
    "\n",
    "assert dataframe_gtf.shape[1] == 20, \"error: GTF dataframe not correctly loaded\""
   ]
  },
  {
   "attachments": {},
   "cell_type": "markdown",
   "metadata": {},
   "source": [
    "## Test Fasta Header Parser"
   ]
  },
  {
   "cell_type": "code",
   "execution_count": null,
   "metadata": {},
   "outputs": [],
   "source": [
    "header = \"ARPG3::transcript_id=XM4581;exon_id=XM4581_exon1::16:70265537-70265662(-)\"\n",
    "region, additional_information, coordinates = parse_fasta_header(header)\n",
    "assert region == \"ARPG3\", \"error: wrong region parsed\"\n",
    "assert coordinates[\"chromosome\"] == [\"16\"], \"error: wrong chrom parsed\"\n",
    "assert coordinates[\"start\"] == [70265537], \"error: wrong start parsed\"\n",
    "assert coordinates[\"end\"] == [70265662], \"error: wrong end parsed\"\n",
    "assert coordinates[\"strand\"] == [\"-\"], \"error: wrong strand parsed\"\n",
    "assert (\n",
    "    additional_information == \"transcript_id=XM4581;exon_id=XM4581_exon1\"\n",
    "), \"error: wrong additional information parsed\""
   ]
  },
  {
   "cell_type": "markdown",
   "metadata": {},
   "source": [
    "## Test VCF parser"
   ]
  },
  {
   "cell_type": "code",
   "execution_count": 1,
   "metadata": {},
   "outputs": [],
   "source": [
    "import os\n",
    "import subprocess\n",
    "from cyvcf2 import VCF"
   ]
  },
  {
   "cell_type": "code",
   "execution_count": null,
   "metadata": {},
   "outputs": [],
   "source": [
    "file_vcf = \"./SNP_testfiles/GCF_000001405.40.gz\"\n",
    "file_vcf_chr16_tmp = \"./SNP_testfiles/GCF_000001405.40.chr16_tmp.vcf\"\n",
    "file_vcf_chr16 = \"./SNP_testfiles/GCF_000001405.40.chr16.vcf\"\n",
    "file_chr_mapping = \"./SNP_testfiles/chr_mapping.txt\"\n",
    "\n",
    "chr16_refseq_accession = \"NC_000016.10\""
   ]
  },
  {
   "cell_type": "code",
   "execution_count": null,
   "metadata": {},
   "outputs": [
    {
     "name": "stderr",
     "output_type": "stream",
     "text": [
      "[W::vcf_parse_info] Extreme INFO/RS value encountered and set to missing at NC_000016.10:566081\n"
     ]
    }
   ],
   "source": [
    "cmd = f\"bcftools view -r {chr16_refseq_accession} --output-file {file_vcf_chr16_tmp} --output-type v {file_vcf}\"\n",
    "process = subprocess.Popen(cmd, shell=True, cwd=\"./\", stdout=subprocess.DEVNULL).wait()"
   ]
  },
  {
   "cell_type": "code",
   "execution_count": null,
   "metadata": {},
   "outputs": [],
   "source": [
    "cmd = f\"bcftools annotate --rename-chrs {file_chr_mapping} -o {file_vcf_chr16} -O v {file_vcf_chr16_tmp}\"\n",
    "process = subprocess.Popen(cmd, shell=True, cwd=\"./\", stdout=subprocess.DEVNULL).wait()"
   ]
  },
  {
   "cell_type": "code",
   "execution_count": 5,
   "metadata": {},
   "outputs": [],
   "source": [
    "vcf = VCF(file_vcf_chr16)\n",
    "variant_type_identifier = \"SNV\""
   ]
  },
  {
   "cell_type": "code",
   "execution_count": 9,
   "metadata": {},
   "outputs": [
    {
     "name": "stdout",
     "output_type": "stream",
     "text": [
      "REF:T\n",
      "ALT:['G']\n",
      "CHROM:16\n",
      "start:10166\n",
      "end:10167\n",
      "ID:rs1896972751\n",
      "VC:SNV\n",
      "\n",
      "\n",
      "REF:T\n",
      "ALT:['C']\n",
      "CHROM:16\n",
      "start:10167\n",
      "end:10168\n",
      "ID:rs1207290905\n",
      "VC:SNV\n",
      "\n",
      "\n",
      "REF:G\n",
      "ALT:['A']\n",
      "CHROM:16\n",
      "start:10168\n",
      "end:10169\n",
      "ID:rs558005370\n",
      "VC:SNV\n",
      "\n",
      "\n",
      "REF:G\n",
      "ALT:['A', 'T']\n",
      "CHROM:16\n",
      "start:10169\n",
      "end:10170\n",
      "ID:rs1263140383\n",
      "VC:SNV\n",
      "\n",
      "\n",
      "REF:G\n",
      "ALT:['A', 'C', 'T']\n",
      "CHROM:16\n",
      "start:10170\n",
      "end:10171\n",
      "ID:rs1037473004\n",
      "VC:SNV\n",
      "\n",
      "\n",
      "REF:A\n",
      "ALT:['C']\n",
      "CHROM:16\n",
      "start:10171\n",
      "end:10172\n",
      "ID:rs1282658436\n",
      "VC:SNV\n",
      "\n",
      "\n"
     ]
    }
   ],
   "source": [
    "for i, variant in enumerate(vcf): \n",
    "\n",
    "    variant_type = variant.INFO.get('VC')\n",
    "\n",
    "    if variant_type == variant_type_identifier:\n",
    "\n",
    "        #print(str(variant))\n",
    "        print(f\"REF:{variant.REF}\")\n",
    "        print(f\"ALT:{variant.ALT}\")\n",
    "\n",
    "        print(f\"CHROM:{variant.CHROM}\")\n",
    "        print(f\"start:{variant.start}\")\n",
    "        print(f\"end:{variant.end}\")\n",
    "\n",
    "        print(f\"ID:{variant.ID}\")\n",
    "        print(f\"VC:{variant_type}\")\n",
    "\n",
    "        print(\"\\n\")\n",
    "\n",
    "    if i > 5:\n",
    "        break"
   ]
  }
 ],
 "metadata": {
  "kernelspec": {
   "display_name": "odt-arm64",
   "language": "python",
   "name": "python3"
  },
  "language_info": {
   "codemirror_mode": {
    "name": "ipython",
    "version": 3
   },
   "file_extension": ".py",
   "mimetype": "text/x-python",
   "name": "python",
   "nbconvert_exporter": "python",
   "pygments_lexer": "ipython3",
   "version": "3.11.11"
  },
  "orig_nbformat": 4
 },
 "nbformat": 4,
 "nbformat_minor": 2
}
