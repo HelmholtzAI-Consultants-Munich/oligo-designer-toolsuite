{
 "cells": [
  {
   "attachments": {},
   "cell_type": "markdown",
   "metadata": {},
   "source": [
    "## Test Data Parser"
   ]
  },
  {
   "cell_type": "code",
   "execution_count": null,
   "metadata": {},
   "outputs": [],
   "source": [
    "import os\n",
    "import pandas as pd\n",
    "pd.set_option('display.max_columns', None)\n",
    "import pickle\n",
    "\n",
    "from oligo_designer_toolsuite.utils import GffParser, parse_fasta_header\n",
    "\n",
    "%load_ext memory_profiler"
   ]
  },
  {
   "cell_type": "code",
   "execution_count": null,
   "metadata": {},
   "outputs": [],
   "source": [
    "# Initialize parser\n",
    "parser = GffParser()"
   ]
  },
  {
   "cell_type": "code",
   "execution_count": null,
   "metadata": {},
   "outputs": [],
   "source": [
    "##### Test GFF3 parser\n",
    "file_gff = os.path.join(os.path.dirname(os.getcwd()), \"data/custom_GCF_000001405.40_GRCh38.p14_genomic_chr16.gff\")\n",
    "dataframe_gff = parser.read_gff(file_gff, target_lines=10)\n",
    "\n",
    "assert dataframe_gff.shape[1] == 23, \"error: GFF3 dataframe not correctly loaded\""
   ]
  },
  {
   "cell_type": "code",
   "execution_count": null,
   "metadata": {},
   "outputs": [],
   "source": [
    "file_gff = \"/Users/lisa.barros/projects/GP0002_Oligo_Designer_Toolsuite/Toolsuite/oligo-designer-toolsuite/tests/output/GCF_000001405.40_GRCh38.p14_genomic.gtf\"\n",
    "target_lines = 100000"
   ]
  },
  {
   "cell_type": "code",
   "execution_count": null,
   "metadata": {},
   "outputs": [],
   "source": [
    "%mprun -f parser.read_gff parser.read_gff(file_gff, target_lines=target_lines)"
   ]
  },
  {
   "cell_type": "code",
   "execution_count": null,
   "metadata": {},
   "outputs": [],
   "source": [
    "# Initialize parser\n",
    "parser = GffParser()"
   ]
  },
  {
   "cell_type": "code",
   "execution_count": null,
   "metadata": {},
   "outputs": [],
   "source": [
    "##### Test GTF parser\n",
    "file_gtf = os.path.join(os.path.dirname(os.getcwd()), \"data/custom_GCF_000001405.40_GRCh38.p14_genomic_chr16.gtf\")\n",
    "dataframe_gtf = parser.read_gff(file_gtf, target_lines=10)\n",
    "\n",
    "assert dataframe_gtf.shape[1] == 20, \"error: GTF dataframe not correctly loaded\""
   ]
  },
  {
   "attachments": {},
   "cell_type": "markdown",
   "metadata": {},
   "source": [
    "## Test Fasta Header Parser"
   ]
  },
  {
   "cell_type": "code",
   "execution_count": null,
   "metadata": {},
   "outputs": [],
   "source": [
    "header = \"ARPG3::transcript_id=XM4581;exon_id=XM4581_exon1::16:70265537-70265662(-)\"\n",
    "region, additional_information, coordinates = parse_fasta_header(header)\n",
    "assert region == \"ARPG3\", \"error: wrong region parsed\"\n",
    "assert coordinates[\"chromosome\"] == [\"16\"], \"error: wrong chrom parsed\"\n",
    "assert coordinates[\"start\"] == [70265537], \"error: wrong start parsed\"\n",
    "assert coordinates[\"end\"] == [70265662], \"error: wrong end parsed\"\n",
    "assert coordinates[\"strand\"] == [\"-\"], \"error: wrong strand parsed\"\n",
    "assert (\n",
    "    additional_information == \"transcript_id=XM4581;exon_id=XM4581_exon1\"\n",
    "), \"error: wrong additional information parsed\""
   ]
  }
 ],
 "metadata": {
  "kernelspec": {
   "display_name": "ODT",
   "language": "python",
   "name": "python3"
  },
  "language_info": {
   "codemirror_mode": {
    "name": "ipython",
    "version": 3
   },
   "file_extension": ".py",
   "mimetype": "text/x-python",
   "name": "python",
   "nbconvert_exporter": "python",
   "pygments_lexer": "ipython3",
   "version": "3.9.15"
  },
  "orig_nbformat": 4
 },
 "nbformat": 4,
 "nbformat_minor": 2
}
