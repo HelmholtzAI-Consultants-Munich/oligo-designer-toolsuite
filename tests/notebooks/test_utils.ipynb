{
 "cells": [
  {
   "attachments": {},
   "cell_type": "markdown",
   "metadata": {},
   "source": [
    "## Test FTP Loader"
   ]
  },
  {
   "cell_type": "code",
   "execution_count": 1,
   "metadata": {},
   "outputs": [],
   "source": [
    "import os\n",
    "import sys\n",
    "from pathlib import Path\n",
    "import shutil\n",
    "\n",
    "cwd = os.getcwd()\n",
    "\n",
    "from oligo_designer_toolsuite.utils import FtpLoaderEnsembl, FtpLoaderNCBI"
   ]
  },
  {
   "cell_type": "code",
   "execution_count": 3,
   "metadata": {},
   "outputs": [
    {
     "name": "stdout",
     "output_type": "stream",
     "text": [
      "('/Users/lisa.barros/projects/GP0002_Oligo_Designer_Toolsuite/Toolsuite/oligo-designer-toolsuite/tests/output/Homo_sapiens.GRCh38.108.gff3', '108', 'GRCh38')\n",
      "('/Users/lisa.barros/projects/GP0002_Oligo_Designer_Toolsuite/Toolsuite/oligo-designer-toolsuite/tests/output/Homo_sapiens.GRCh38.108.gtf', '108', 'GRCh38')\n",
      "('/Users/lisa.barros/projects/GP0002_Oligo_Designer_Toolsuite/Toolsuite/oligo-designer-toolsuite/tests/output/Homo_sapiens.GRCh38.dna_rm.primary_assembly.fa', '108', 'GRCh38')\n"
     ]
    }
   ],
   "source": [
    "##### Test Loader Ensemble\n",
    "\n",
    "#Parameters\n",
    "dir_output = os.path.join(os.path.dirname(os.getcwd()), 'output') # create the complete path for the output directory\n",
    "\n",
    "species= 'homo_sapiens' # available species: human or mouse\n",
    "annotation_release= '108'\n",
    "\n",
    "#initialize\n",
    "loader_ensemble=FtpLoaderEnsembl(dir_output, species, annotation_release)\n",
    "\n",
    "#retrieve files\n",
    "print(loader_ensemble.download_files(\"gff\"))\n",
    "print(loader_ensemble.download_files(\"gtf\"))\n",
    "print(loader_ensemble.download_files(\"fasta\"))\n",
    "\n",
    "shutil.rmtree(dir_output)"
   ]
  },
  {
   "cell_type": "code",
   "execution_count": 4,
   "metadata": {},
   "outputs": [
    {
     "name": "stdout",
     "output_type": "stream",
     "text": [
      "('/Users/lisa.barros/projects/GP0002_Oligo_Designer_Toolsuite/Toolsuite/oligo-designer-toolsuite/tests/output/GCF_000001405.40_GRCh38.p14_genomic.gff', '110', 'GRCh38.p14')\n",
      "('/Users/lisa.barros/projects/GP0002_Oligo_Designer_Toolsuite/Toolsuite/oligo-designer-toolsuite/tests/output/GCF_000001405.40_GRCh38.p14_genomic.gtf', '110', 'GRCh38.p14')\n",
      "('/Users/lisa.barros/projects/GP0002_Oligo_Designer_Toolsuite/Toolsuite/oligo-designer-toolsuite/tests/output/GCF_000001405.40_GRCh38.p14_genomic.fna', '110', 'GRCh38.p14')\n"
     ]
    }
   ],
   "source": [
    "##### Test Loader NCBI\n",
    "\n",
    "#Parameters\n",
    "dir_output = os.path.join(os.path.dirname(os.getcwd()), 'output') # create the complete path for the output directory\n",
    "\n",
    "taxon = 'vertebrate_mammalian' # taxon the species belongs to\n",
    "species= 'Homo_sapiens' # available species: human or mouse\n",
    "annotation_release= 'current'\n",
    "\n",
    "#initialize\n",
    "loader_ncbi=FtpLoaderNCBI(dir_output, taxon, species, annotation_release)\n",
    "\n",
    "#retrieve files\n",
    "print(loader_ncbi.download_files(\"gff\"))\n",
    "print(loader_ncbi.download_files(\"gtf\"))\n",
    "print(loader_ncbi.download_files(\"fasta\"))\n",
    "\n",
    "shutil.rmtree(dir_output)"
   ]
  },
  {
   "attachments": {},
   "cell_type": "markdown",
   "metadata": {},
   "source": [
    "## Test Data Parser"
   ]
  },
  {
   "cell_type": "code",
   "execution_count": 1,
   "metadata": {},
   "outputs": [],
   "source": [
    "import pandas as pd\n",
    "pd.set_option('display.max_columns', None)\n",
    "import pickle\n",
    "\n",
    "from oligo_designer_toolsuite.utils import GffParser, parse_fasta_header\n",
    "\n",
    "%load_ext memory_profiler"
   ]
  },
  {
   "cell_type": "code",
   "execution_count": 2,
   "metadata": {},
   "outputs": [],
   "source": [
    "# Initialize parser\n",
    "parser = GffParser()"
   ]
  },
  {
   "cell_type": "code",
   "execution_count": null,
   "metadata": {},
   "outputs": [],
   "source": [
    "##### Test GFF3 parser\n",
    "file_gff = os.path.join(os.path.dirname(os.getcwd()), \"data/custom_GCF_000001405.40_GRCh38.p14_genomic_chr16.gff\")\n",
    "dataframe_gff = parser.read_gff(file_gff, target_lines=10)\n",
    "\n",
    "assert dataframe_gff.shape[1] == 23, \"error: GFF3 dataframe not correctly loaded\"\n"
   ]
  },
  {
   "cell_type": "code",
   "execution_count": 6,
   "metadata": {},
   "outputs": [],
   "source": [
    "file_gff = \"/Users/lisa.barros/projects/GP0002_Oligo_Designer_Toolsuite/Toolsuite/oligo-designer-toolsuite/tests/output/GCF_000001405.40_GRCh38.p14_genomic.gtf\"\n",
    "target_lines = 100000"
   ]
  },
  {
   "cell_type": "code",
   "execution_count": 5,
   "metadata": {},
   "outputs": [
    {
     "name": "stdout",
     "output_type": "stream",
     "text": [
      "*** KeyboardInterrupt exception caught in code being profiled.\n"
     ]
    },
    {
     "name": "stdout",
     "output_type": "stream",
     "text": [
      "Filename: /Users/lisa.barros/projects/GP0002_Oligo_Designer_Toolsuite/Toolsuite/oligo-designer-toolsuite/oligo_designer_toolsuite/utils/_gff_parser.py\n",
      "\n",
      "Line #    Mem usage    Increment  Occurrences   Line Contents\n",
      "=============================================================\n",
      "    42    106.3 MiB    106.3 MiB           1       def read_gff(self, file: str, target_lines: int = None):\n",
      "    43                                                 \"\"\"Open an optionally gzipped GFF3/GTF file and return a pandas.DataFrame.\n",
      "    44                                         \n",
      "    45                                                 :param file: Filename of GFF3/GTF file.\n",
      "    46                                                 :type file: str\n",
      "    47                                                 :param target_lines: Read the first n lines or leave 'None' to read all lines, default: None\n",
      "    48                                                 :type target_lines: int\n",
      "    49                                                 :return: DataFrame with GFF§/GTF file content.\n",
      "    50                                                 :rtype: pandas.DataFrame\n",
      "    51                                                 \"\"\"\n",
      "    52                                                 # Each column is a list stored as a value in this dict.\n",
      "    53    106.3 MiB      0.0 MiB           1           result = defaultdict(list)\n",
      "    54                                         \n",
      "    55   1071.3 MiB -10460274.9 MiB      747540           for i, line in enumerate(self._read_lines(file, target_lines)):\n",
      "    56   1071.3 MiB -189793956.8 MiB    13566862               for key in line.keys():\n",
      "    57                                                         # This key has not been seen yet, so set it to None for all\n",
      "    58                                                         # previous lines.\n",
      "    59   1071.3 MiB -179334265.1 MiB    12819322                   if key not in result:\n",
      "    60    813.3 MiB     -8.8 MiB          57                       result[key] = [None] * i\n",
      "    61                                         \n",
      "    62                                                     # Ensure this row has some value for each column.\n",
      "    63   1071.3 MiB -601905450.9 MiB    41361049               for key in result.keys():\n",
      "    64   1071.3 MiB -591445211.2 MiB    40613509                   result[key].append(line.get(key, None))\n",
      "    65                                         \n",
      "    66                                                 result = pd.DataFrame(result)\n",
      "    67                                                 cols = [\n",
      "    68                                                     col\n",
      "    69                                                     for col in result.columns\n",
      "    70                                                     if col in self.GFF_HEADER or not result[col].isnull().all()\n",
      "    71                                                 ]\n",
      "    72                                                 dataframe = result[cols]\n",
      "    73                                         \n",
      "    74                                                 if self.dataframe_gff is not None:\n",
      "    75                                                     warnings.warn(f\"Overwriting existing gff dataframe!\")\n",
      "    76                                                 self.dataframe_gff = dataframe\n",
      "    77                                         \n",
      "    78                                                 return dataframe"
     ]
    }
   ],
   "source": [
    "%mprun -f parser.read_gff parser.read_gff(file_gff, target_lines=target_lines)"
   ]
  },
  {
   "cell_type": "code",
   "execution_count": null,
   "metadata": {},
   "outputs": [],
   "source": [
    "# Initialize parser\n",
    "parser = GffParser()"
   ]
  },
  {
   "cell_type": "code",
   "execution_count": null,
   "metadata": {},
   "outputs": [],
   "source": [
    "##### Test GTF parser\n",
    "file_gtf = os.path.join(os.path.dirname(os.getcwd()), \"data/custom_GCF_000001405.40_GRCh38.p14_genomic_chr16.gtf\")\n",
    "dataframe_gtf = parser.read_gff(file_gtf, target_lines=10)\n",
    "\n",
    "assert dataframe_gtf.shape[1] == 20, \"error: GTF dataframe not correctly loaded\""
   ]
  },
  {
   "attachments": {},
   "cell_type": "markdown",
   "metadata": {},
   "source": [
    "## Test Fasta Header Parser"
   ]
  },
  {
   "cell_type": "code",
   "execution_count": null,
   "metadata": {},
   "outputs": [],
   "source": [
    "header = \"ARPG3::transcript_id=XM4581;exon_id=XM4581_exon1::16:70265537-70265662(-)\"\n",
    "region, additional_information, coordinates = parse_fasta_header(header)\n",
    "assert region == \"ARPG3\", \"error: wrong region parsed\"\n",
    "assert coordinates[\"chromosome\"] == [\"16\"], \"error: wrong chrom parsed\"\n",
    "assert coordinates[\"start\"] == [70265537], \"error: wrong start parsed\"\n",
    "assert coordinates[\"end\"] == [70265662], \"error: wrong end parsed\"\n",
    "assert coordinates[\"strand\"] == [\"-\"], \"error: wrong strand parsed\"\n",
    "assert (\n",
    "    additional_information == \"transcript_id=XM4581;exon_id=XM4581_exon1\"\n",
    "), \"error: wrong additional information parsed\""
   ]
  }
 ],
 "metadata": {
  "kernelspec": {
   "display_name": "ODT",
   "language": "python",
   "name": "python3"
  },
  "language_info": {
   "codemirror_mode": {
    "name": "ipython",
    "version": 3
   },
   "file_extension": ".py",
   "mimetype": "text/x-python",
   "name": "python",
   "nbconvert_exporter": "python",
   "pygments_lexer": "ipython3",
   "version": "3.9.15"
  },
  "orig_nbformat": 4,
  "vscode": {
   "interpreter": {
    "hash": "a7f4130ed83df3b8f06d6c345c87a414b57058a10ea01094325e8ae4cc394d7d"
   }
  }
 },
 "nbformat": 4,
 "nbformat_minor": 2
}
