{
 "cells": [
  {
   "attachments": {},
   "cell_type": "markdown",
   "metadata": {},
   "source": [
    "## Test FTP Loader"
   ]
  },
  {
   "cell_type": "code",
   "execution_count": 4,
   "metadata": {},
   "outputs": [],
   "source": [
    "import os\n",
    "import sys\n",
    "from pathlib import Path\n",
    "import shutil\n",
    "\n",
    "cwd = os.getcwd()\n",
    "\n",
    "from oligo_designer_toolsuite.utils import FtpLoaderEnsembl, FtpLoaderNCBI"
   ]
  },
  {
   "cell_type": "code",
   "execution_count": null,
   "metadata": {},
   "outputs": [],
   "source": [
    "##### Test Loader Ensemble\n",
    "\n",
    "#Parameters\n",
    "dir_output = os.path.join(os.path.dirname(os.getcwd()), 'output') # create the complete path for the output directory\n",
    "\n",
    "species= 'homo_sapiens' # available species: human or mouse\n",
    "annotation_release= '108'\n",
    "\n",
    "#initialize\n",
    "loader_ensemble=FtpLoaderEnsembl(dir_output, species, annotation_release)\n",
    "\n",
    "#retrieve files\n",
    "print(loader_ensemble.download_files(\"gff\"))\n",
    "print(loader_ensemble.download_files(\"gtf\"))\n",
    "print(loader_ensemble.download_files(\"fasta\"))\n",
    "\n",
    "shutil.rmtree(dir_output)"
   ]
  },
  {
   "cell_type": "code",
   "execution_count": null,
   "metadata": {},
   "outputs": [],
   "source": [
    "##### Test Loader NCBI\n",
    "\n",
    "#Parameters\n",
    "dir_output = os.path.join(os.path.dirname(os.getcwd()), 'output') # create the complete path for the output directory\n",
    "\n",
    "taxon = 'vertebrate_mammalian' # taxon the species belongs to\n",
    "species= 'Homo_sapiens' # available species: human or mouse\n",
    "annotation_release= 'current'\n",
    "\n",
    "#initialize\n",
    "loader_ncbi=FtpLoaderNCBI(dir_output, taxon, species, annotation_release)\n",
    "\n",
    "#retrieve files\n",
    "print(loader_ncbi.download_files(\"gff\"))\n",
    "print(loader_ncbi.download_files(\"gtf\"))\n",
    "print(loader_ncbi.download_files(\"fasta\"))\n",
    "\n",
    "shutil.rmtree(dir_output)"
   ]
  },
  {
   "attachments": {},
   "cell_type": "markdown",
   "metadata": {},
   "source": [
    "## Test Data Parser"
   ]
  },
  {
   "cell_type": "code",
   "execution_count": 14,
   "metadata": {},
   "outputs": [],
   "source": [
    "import pandas as pd\n",
    "pd.set_option('display.max_columns', None)\n",
    "import pickle\n",
    "\n",
    "from oligo_designer_toolsuite.utils import GffParser, parse_fasta_header"
   ]
  },
  {
   "cell_type": "code",
   "execution_count": 15,
   "metadata": {},
   "outputs": [],
   "source": [
    "# Initialize parser\n",
    "parser = GffParser()"
   ]
  },
  {
   "cell_type": "code",
   "execution_count": 16,
   "metadata": {},
   "outputs": [],
   "source": [
    "##### Test GFF3 parser\n",
    "file_gff = os.path.join(os.path.dirname(os.getcwd()), \"data/custom_GCF_000001405.40_GRCh38.p14_genomic_chr16.gff\")\n",
    "dataframe_gff = parser.read_gff(file_gff, target_lines=10)\n",
    "\n",
    "assert dataframe_gff.shape[1] == 23, \"error: GFF3 dataframe not correctly loaded\"\n"
   ]
  },
  {
   "cell_type": "code",
   "execution_count": 18,
   "metadata": {},
   "outputs": [],
   "source": [
    "# Initialize parser\n",
    "parser = GffParser()"
   ]
  },
  {
   "cell_type": "code",
   "execution_count": 19,
   "metadata": {},
   "outputs": [],
   "source": [
    "##### Test GTF parser\n",
    "file_gtf = os.path.join(os.path.dirname(os.getcwd()), \"data/custom_GCF_000001405.40_GRCh38.p14_genomic_chr16.gtf\")\n",
    "dataframe_gtf = parser.read_gff(file_gtf, target_lines=10)\n",
    "\n",
    "assert dataframe_gtf.shape[1] == 20, \"error: GTF dataframe not correctly loaded\""
   ]
  },
  {
   "attachments": {},
   "cell_type": "markdown",
   "metadata": {},
   "source": [
    "## Test Fasta Header Parser"
   ]
  },
  {
   "cell_type": "code",
   "execution_count": 23,
   "metadata": {},
   "outputs": [],
   "source": [
    "header = \"ARPG3::transcript_id=XM4581;exon_id=XM4581_exon1::16:70265537-70265662(-)\"\n",
    "region, additional_information, coordinates = parse_fasta_header(header)\n",
    "assert region == \"ARPG3\", \"error: wrong region parsed\"\n",
    "assert coordinates[\"chromosome\"] == [\"16\"], \"error: wrong chrom parsed\"\n",
    "assert coordinates[\"start\"] == [70265537], \"error: wrong start parsed\"\n",
    "assert coordinates[\"end\"] == [70265662], \"error: wrong end parsed\"\n",
    "assert coordinates[\"strand\"] == [\"-\"], \"error: wrong strand parsed\"\n",
    "assert (\n",
    "    additional_information == \"transcript_id=XM4581;exon_id=XM4581_exon1\"\n",
    "), \"error: wrong additional information parsed\""
   ]
  }
 ],
 "metadata": {
  "kernelspec": {
   "display_name": "ODT",
   "language": "python",
   "name": "python3"
  },
  "language_info": {
   "codemirror_mode": {
    "name": "ipython",
    "version": 3
   },
   "file_extension": ".py",
   "mimetype": "text/x-python",
   "name": "python",
   "nbconvert_exporter": "python",
   "pygments_lexer": "ipython3",
   "version": "3.9.15"
  },
  "orig_nbformat": 4,
  "vscode": {
   "interpreter": {
    "hash": "a7f4130ed83df3b8f06d6c345c87a414b57058a10ea01094325e8ae4cc394d7d"
   }
  }
 },
 "nbformat": 4,
 "nbformat_minor": 2
}
