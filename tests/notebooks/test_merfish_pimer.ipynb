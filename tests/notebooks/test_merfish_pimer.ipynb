{
 "cells": [
  {
   "cell_type": "code",
   "execution_count": 43,
   "metadata": {
    "collapsed": true
   },
   "outputs": [],
   "source": [
    "import os\n",
    "import sys\n",
    "from oligo_designer_toolsuite.oligo_property_filter import (\n",
    "    PropertyFilter,\n",
    "    GCContent,\n",
    "    ConsecutiveRepeats,\n",
    "    Secondary_struct\n",
    ")\n",
    "import pandas as pd\n",
    "\n",
    "from oligo_designer_toolsuite.pipelines._merfish_primer_designer import(\n",
    "PrimerProbes\n",
    ")\n",
    "\n",
    "#sys.path.append(os.path.dirname(os.getcwd()))\n",
    "#ROOT_DIR = \"/home/cw/PycharmProjects/oligo-designer-toolsuite_merfish\"\n",
    "#os.chdir(ROOT_DIR)\n",
    "import yaml\n",
    "from Bio.SeqUtils import MeltingTemp as mt\n",
    "\n",
    "\n",
    "\n",
    "from pathlib import Path\n",
    "os.getcwd()\n"
   ]
  },
  {
   "cell_type": "code",
   "execution_count": 2,
   "outputs": [
    {
     "name": "stdout",
     "output_type": "stream",
     "text": [
      "Creating transcriptome\n",
      "making file_transcriptome\n",
      "Done!\n"
     ]
    }
   ],
   "source": [
    "from oligo_designer_toolsuite.database import CustomGenomicRegionGenerator, NcbiGenomicRegionGenerator, \\\n",
    "    EnsemblGenomicRegionGenerator\n",
    "\n",
    "config_file = \"../configs/merfish_probe_designer_test.yaml\"\n",
    "with open(config_file, 'r') as yaml_file:\n",
    "    config = yaml.safe_load(yaml_file)\n",
    "\n",
    "dir_output = os.path.join(os.path.dirname(os.getcwd()), config[\"dir_output\"])\n",
    "dir_output = os.path.join(dir_output, \"merfish_sequences\")\n",
    "Path(dir_output).mkdir(parents=True, exist_ok=True)\n",
    "\n",
    "# Create the transcriptome file\n",
    "# If the custom config file is selected\n",
    "print(\"Creating transcriptome\")\n",
    "annotation_file = \"../data/custom_GCF_000001405.40_GRCh38.p14_genomic_chr16.gtf\" # required: GTF file with gene annotation\n",
    "sequence_file = \"../data/custom_GCF_000001405.40_GRCh38.p14_genomic_chr16.fna\" # required: FASTA file with genome sequence\n",
    "if config[\"source\"] == \"custom\":\n",
    "    region_generator = CustomGenomicRegionGenerator(\n",
    "        annotation_file=annotation_file,\n",
    "        sequence_file=sequence_file,\n",
    "        files_source=config[\"files_source\"],\n",
    "        species=config[\"species\"],\n",
    "        annotation_release=config[\"annotation_release\"],\n",
    "        genome_assembly=config[\"genome_assembly\"],\n",
    "        dir_output=dir_output\n",
    "    )\n",
    "# If the Ncbi config file is selected\n",
    "elif config[\"source\"] == \"ncbi\":\n",
    "    region_generator = NcbiGenomicRegionGenerator(\n",
    "        taxon=config[\"taxon\"],\n",
    "        species=config[\"species\"],\n",
    "        annotation_release=config[\"annotation_release\"],\n",
    "        dir_output=dir_output\n",
    "    )\n",
    "# If the Ensembl config file is generated\n",
    "elif config[\"source\"] == \"ensembl\":\n",
    "    region_generator = EnsemblGenomicRegionGenerator(\n",
    "        species=config[\"species\"],\n",
    "        annotation_release=config[\"annotation_release\"],\n",
    "        dir_output=dir_output\n",
    "    )\n",
    "\n",
    "print(\"making file_transcriptome\")\n",
    "file_transcriptome = region_generator.generate_transcript_reduced_representation(\n",
    "    include_exon_junctions=True, exon_junction_size=2 * config[\"oligo_length_max\"])\n",
    "print(\"Done!\")"
   ],
   "metadata": {
    "collapsed": false
   }
  },
  {
   "cell_type": "code",
   "execution_count": 3,
   "outputs": [
    {
     "name": "stdout",
     "output_type": "stream",
     "text": [
      "write bc20mer_oligo done!\n"
     ]
    },
    {
     "name": "stderr",
     "output_type": "stream",
     "text": [
      "/home/cw/PycharmProjects/oligo-designer-toolsuite_merfish/oligo_designer_toolsuite/database/_reference_database.py:59: UserWarning: No files_source defined. Using default files_source custom!\n",
      "  warnings.warn(\n",
      "/home/cw/PycharmProjects/oligo-designer-toolsuite_merfish/oligo_designer_toolsuite/database/_reference_database.py:65: UserWarning: No species defined. Using default species unknown!\n",
      "  warnings.warn(f\"No species defined. Using default species {species}!\")\n",
      "/home/cw/PycharmProjects/oligo-designer-toolsuite_merfish/oligo_designer_toolsuite/database/_reference_database.py:69: UserWarning: No annotation release defined. Using default release unknown!\n",
      "  warnings.warn(\n",
      "/home/cw/PycharmProjects/oligo-designer-toolsuite_merfish/oligo_designer_toolsuite/database/_reference_database.py:75: UserWarning: No genome assembly defined. Using default genome assembly unknown!\n",
      "  warnings.warn(\n",
      "/home/cw/PycharmProjects/oligo-designer-toolsuite_merfish/oligo_designer_toolsuite/database/_oligos_database.py:98: UserWarning: No files_source defined. Using default files_source custom!\n",
      "  warnings.warn(f\"No files_source defined. Using default files_source {files_source}!\")\n",
      "/home/cw/PycharmProjects/oligo-designer-toolsuite_merfish/oligo_designer_toolsuite/database/_oligos_database.py:102: UserWarning: No species defined. Using default species unknown!\n",
      "  warnings.warn(f\"No species defined. Using default species {species}!\")\n",
      "/home/cw/PycharmProjects/oligo-designer-toolsuite_merfish/oligo_designer_toolsuite/database/_oligos_database.py:106: UserWarning: No annotation release defined. Using default release unknown!\n",
      "  warnings.warn(\n",
      "/home/cw/PycharmProjects/oligo-designer-toolsuite_merfish/oligo_designer_toolsuite/database/_oligos_database.py:112: UserWarning: No genome assembly defined. Using default genome assembly unknown!\n",
      "  warnings.warn(\n"
     ]
    }
   ],
   "source": [
    "test_primer_probs = PrimerProbes(30,config_path, file_transcriptome,region_generator)"
   ],
   "metadata": {
    "collapsed": false
   }
  },
  {
   "cell_type": "code",
   "execution_count": 4,
   "outputs": [
    {
     "name": "stdout",
     "output_type": "stream",
     "text": [
      "Property filter...Start\n",
      "Property filter...Done\n",
      "Specifity filter 1...Start\n",
      "Specifity filter 1...Apply\n",
      "Specifity filter 1...Done\n",
      "Specifity filter 2...Start\n",
      "write trimmed primer done!\n"
     ]
    },
    {
     "name": "stderr",
     "output_type": "stream",
     "text": [
      "/home/cw/PycharmProjects/oligo-designer-toolsuite_merfish/oligo_designer_toolsuite/database/_reference_database.py:59: UserWarning: No files_source defined. Using default files_source custom!\n",
      "  warnings.warn(\n",
      "/home/cw/PycharmProjects/oligo-designer-toolsuite_merfish/oligo_designer_toolsuite/database/_reference_database.py:65: UserWarning: No species defined. Using default species unknown!\n",
      "  warnings.warn(f\"No species defined. Using default species {species}!\")\n",
      "/home/cw/PycharmProjects/oligo-designer-toolsuite_merfish/oligo_designer_toolsuite/database/_reference_database.py:69: UserWarning: No annotation release defined. Using default release unknown!\n",
      "  warnings.warn(\n",
      "/home/cw/PycharmProjects/oligo-designer-toolsuite_merfish/oligo_designer_toolsuite/database/_reference_database.py:75: UserWarning: No genome assembly defined. Using default genome assembly unknown!\n",
      "  warnings.warn(\n"
     ]
    },
    {
     "name": "stdout",
     "output_type": "stream",
     "text": [
      "Specifity filter 2...Done\n",
      "Specifity filter 3...Start\n",
      "Specifity filter 3...Done\n",
      "Writing Primer1...Start\n",
      "Writing Primer1...Done\n",
      "Writing Primer2...Start\n",
      "Writing Primer2...Done\n"
     ]
    }
   ],
   "source": [
    "primer1,primer2,_ = test_primer_probs.create_primer()"
   ],
   "metadata": {
    "collapsed": false
   }
  },
  {
   "cell_type": "code",
   "execution_count": 7,
   "outputs": [
    {
     "data": {
      "text/plain": "('CTGACGTGTGAGGCGCTAGA', 'TAATACGACTCACTATAGGCATGGAACGCATGTGTCAG')"
     },
     "execution_count": 7,
     "metadata": {},
     "output_type": "execute_result"
    }
   ],
   "source": [
    "primer1[0],primer2[0]"
   ],
   "metadata": {
    "collapsed": false
   }
  },
  {
   "cell_type": "code",
   "execution_count": 6,
   "outputs": [
    {
     "data": {
      "text/plain": "'../data/primer_oligo.fasta'"
     },
     "execution_count": 6,
     "metadata": {},
     "output_type": "execute_result"
    }
   ],
   "source": [
    "test_primer_probs.oligo_20nt_path"
   ],
   "metadata": {
    "collapsed": false
   }
  }
 ],
 "metadata": {
  "kernelspec": {
   "display_name": "Python 3",
   "language": "python",
   "name": "python3"
  },
  "language_info": {
   "codemirror_mode": {
    "name": "ipython",
    "version": 2
   },
   "file_extension": ".py",
   "mimetype": "text/x-python",
   "name": "python",
   "nbconvert_exporter": "python",
   "pygments_lexer": "ipython2",
   "version": "2.7.6"
  }
 },
 "nbformat": 4,
 "nbformat_minor": 0
}
