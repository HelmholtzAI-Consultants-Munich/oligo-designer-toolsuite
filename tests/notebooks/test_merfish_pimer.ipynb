{
 "cells": [
  {
   "cell_type": "code",
   "execution_count": 1,
   "metadata": {
    "collapsed": true
   },
   "outputs": [],
   "source": [
    "import os\n",
    "import sys\n",
    "from oligo_designer_toolsuite.oligo_property_filter import (\n",
    "    PropertyFilter,\n",
    "    GCContent,\n",
    "    MeltingTemperature,\n",
    "    ConsecutiveRepeats,\n",
    "    Secondary_struct\n",
    ")\n",
    "import pandas as pd\n",
    "\n",
    "from oligo_designer_toolsuite.experiment_specific import(\n",
    "PrimerProbes\n",
    ")\n",
    "\n",
    "#sys.path.append(os.path.dirname(os.getcwd()))\n",
    "ROOT_DIR = \"/home/cw/PycharmProjects/oligo-designer-toolsuite_merfish\"\n",
    "os.chdir(ROOT_DIR)\n",
    "import yaml\n",
    "from Bio.SeqUtils import MeltingTemp as mt\n",
    "os.getcwd()\n",
    "config_path = \"/home/cw/PycharmProjects/oligo-designer-toolsuite_merfish/tutorials/configs/merfish_probe_designer_test.yaml\"\n",
    "test_primer_probs = PrimerProbes(30,30,config_path)"
   ]
  },
  {
   "cell_type": "code",
   "execution_count": 2,
   "outputs": [
    {
     "ename": "AttributeError",
     "evalue": "'dict' object has no attribute 'oligos_DB'",
     "output_type": "error",
     "traceback": [
      "\u001B[0;31m---------------------------------------------------------------------------\u001B[0m",
      "\u001B[0;31mAttributeError\u001B[0m                            Traceback (most recent call last)",
      "Cell \u001B[0;32mIn[2], line 1\u001B[0m\n\u001B[0;32m----> 1\u001B[0m \u001B[43mtest_primer_probs\u001B[49m\u001B[38;5;241;43m.\u001B[39;49m\u001B[43mcreate_primer1\u001B[49m\u001B[43m(\u001B[49m\u001B[43m)\u001B[49m\n",
      "File \u001B[0;32m~/PycharmProjects/oligo-designer-toolsuite_merfish/oligo_designer_toolsuite/experiment_specific/_merfish_primer_designer.py:126\u001B[0m, in \u001B[0;36mPrimerProbes.create_primer1\u001B[0;34m(self)\u001B[0m\n\u001B[1;32m    123\u001B[0m property_filter \u001B[38;5;241m=\u001B[39m PropertyFilter(filters\u001B[38;5;241m=\u001B[39m\u001B[38;5;28mself\u001B[39m\u001B[38;5;241m.\u001B[39mfilters,\n\u001B[1;32m    124\u001B[0m                                  write_genes_with_insufficient_oligos\u001B[38;5;241m=\u001B[39m\u001B[38;5;28mself\u001B[39m\u001B[38;5;241m.\u001B[39mconfig[\u001B[38;5;124m\"\u001B[39m\u001B[38;5;124mwrite_removed_genes\u001B[39m\u001B[38;5;124m\"\u001B[39m])\n\u001B[1;32m    125\u001B[0m \u001B[38;5;66;03m# property filter\u001B[39;00m\n\u001B[0;32m--> 126\u001B[0m oligo_database \u001B[38;5;241m=\u001B[39m \u001B[43mproperty_filter\u001B[49m\u001B[38;5;241;43m.\u001B[39;49m\u001B[43mapply\u001B[49m\u001B[43m(\u001B[49m\u001B[43moligo_database\u001B[49m\u001B[38;5;241;43m=\u001B[39;49m\u001B[38;5;28;43mself\u001B[39;49m\u001B[38;5;241;43m.\u001B[39;49m\u001B[43moligo_20nt_dict\u001B[49m\u001B[43m,\u001B[49m\u001B[43m \u001B[49m\u001B[43mn_jobs\u001B[49m\u001B[38;5;241;43m=\u001B[39;49m\u001B[38;5;28;43mself\u001B[39;49m\u001B[38;5;241;43m.\u001B[39;49m\u001B[43mconfig\u001B[49m\u001B[43m[\u001B[49m\u001B[38;5;124;43m\"\u001B[39;49m\u001B[38;5;124;43mn_jobs\u001B[39;49m\u001B[38;5;124;43m\"\u001B[39;49m\u001B[43m]\u001B[49m\u001B[43m)\u001B[49m\n\u001B[1;32m    128\u001B[0m \u001B[38;5;250m\u001B[39m\u001B[38;5;124;03m'''\u001B[39;00m\n\u001B[1;32m    129\u001B[0m \u001B[38;5;124;03m#specifity filter 1\u001B[39;00m\n\u001B[1;32m    130\u001B[0m \u001B[38;5;124;03mspecificity_filter1 = SpecificityFilter(filters=[self.blast_filter1], write_genes_with_insufficient_oligos=self.config[\"write_removed_genes\"])\u001B[39;00m\n\u001B[0;32m   (...)\u001B[0m\n\u001B[1;32m    153\u001B[0m \u001B[38;5;124;03mself.primer_database = self.blast_filter3._create_fasta_file(oligo_database, self.config[\"dir_output\"], 'primerDB')\u001B[39;00m\n\u001B[1;32m    154\u001B[0m \u001B[38;5;124;03m'''\u001B[39;00m\n\u001B[1;32m    156\u001B[0m \u001B[38;5;28;01mreturn\u001B[39;00m oligo_database[\u001B[38;5;241m1\u001B[39m:\u001B[38;5;28mself\u001B[39m\u001B[38;5;241m.\u001B[39mnum_probes]\n",
      "File \u001B[0;32m~/PycharmProjects/oligo-designer-toolsuite_merfish/oligo_designer_toolsuite/oligo_property_filter/_property_filter.py:43\u001B[0m, in \u001B[0;36mPropertyFilter.apply\u001B[0;34m(self, oligo_database, n_jobs)\u001B[0m\n\u001B[1;32m     40\u001B[0m \u001B[38;5;28;01mif\u001B[39;00m n_jobs \u001B[38;5;129;01mis\u001B[39;00m \u001B[38;5;28;01mNone\u001B[39;00m:\n\u001B[1;32m     41\u001B[0m     n_jobs \u001B[38;5;241m=\u001B[39m oligo_database\u001B[38;5;241m.\u001B[39mn_jobs\n\u001B[0;32m---> 43\u001B[0m oligos_DB \u001B[38;5;241m=\u001B[39m \u001B[43moligo_database\u001B[49m\u001B[38;5;241;43m.\u001B[39;49m\u001B[43moligos_DB\u001B[49m\n\u001B[1;32m     44\u001B[0m gene_ids \u001B[38;5;241m=\u001B[39m \u001B[38;5;28mlist\u001B[39m(oligos_DB\u001B[38;5;241m.\u001B[39mkeys())\n\u001B[1;32m     45\u001B[0m filtered_oligos \u001B[38;5;241m=\u001B[39m Parallel(n_jobs\u001B[38;5;241m=\u001B[39mn_jobs)(\n\u001B[1;32m     46\u001B[0m     delayed(\u001B[38;5;28mself\u001B[39m\u001B[38;5;241m.\u001B[39m_filter_gene)(oligos_DB[gene]) \u001B[38;5;28;01mfor\u001B[39;00m gene \u001B[38;5;129;01min\u001B[39;00m gene_ids\n\u001B[1;32m     47\u001B[0m )\n",
      "\u001B[0;31mAttributeError\u001B[0m: 'dict' object has no attribute 'oligos_DB'"
     ]
    }
   ],
   "source": [
    "test_primer_probs.create_primer1()"
   ],
   "metadata": {
    "collapsed": false
   }
  },
  {
   "cell_type": "code",
   "execution_count": 3,
   "outputs": [
    {
     "ename": "TypeError",
     "evalue": "MeltingTemperature.__init__() got an unexpected keyword argument 'arm_Tm_max'",
     "output_type": "error",
     "traceback": [
      "\u001B[0;31m---------------------------------------------------------------------------\u001B[0m",
      "\u001B[0;31mTypeError\u001B[0m                                 Traceback (most recent call last)",
      "Cell \u001B[0;32mIn[3], line 1\u001B[0m\n\u001B[0;32m----> 1\u001B[0m test_primer_probs \u001B[38;5;241m=\u001B[39m \u001B[43mPrimerProbes\u001B[49m\u001B[43m(\u001B[49m\u001B[38;5;241;43m30\u001B[39;49m\u001B[43m,\u001B[49m\u001B[38;5;241;43m30\u001B[39;49m\u001B[43m,\u001B[49m\u001B[38;5;124;43m\"\u001B[39;49m\u001B[38;5;124;43m/home/cw/PycharmProjects/oligo-designer-toolsuite_merfish/tutorials/configs/merfish_probe_designer_test.yaml\u001B[39;49m\u001B[38;5;124;43m\"\u001B[39;49m\u001B[43m)\u001B[49m\n\u001B[1;32m      2\u001B[0m \u001B[38;5;66;03m#PrimerProbes.create_primer1()\u001B[39;00m\n",
      "File \u001B[0;32m~/PycharmProjects/oligo-designer-toolsuite_merfish/oligo_designer_toolsuite/experiment_specific/_merfish_primer_designer.py:55\u001B[0m, in \u001B[0;36mPrimerProbes.__init__\u001B[0;34m(self, length, number_probes, config_path)\u001B[0m\n\u001B[1;32m     53\u001B[0m \u001B[38;5;28mself\u001B[39m\u001B[38;5;241m.\u001B[39mTm_params \u001B[38;5;241m=\u001B[39m \u001B[38;5;28mself\u001B[39m\u001B[38;5;241m.\u001B[39mconfig[\u001B[38;5;124m\"\u001B[39m\u001B[38;5;124mTm_parameters\u001B[39m\u001B[38;5;124m\"\u001B[39m][\u001B[38;5;124m\"\u001B[39m\u001B[38;5;124mshared\u001B[39m\u001B[38;5;124m\"\u001B[39m]\u001B[38;5;241m.\u001B[39mcopy()\n\u001B[1;32m     54\u001B[0m \u001B[38;5;28mself\u001B[39m\u001B[38;5;241m.\u001B[39mTm_correction_param \u001B[38;5;241m=\u001B[39m \u001B[38;5;28mself\u001B[39m\u001B[38;5;241m.\u001B[39mconfig[\u001B[38;5;124m\"\u001B[39m\u001B[38;5;124mTm_correction_parameters\u001B[39m\u001B[38;5;124m\"\u001B[39m][\u001B[38;5;124m\"\u001B[39m\u001B[38;5;124mshared\u001B[39m\u001B[38;5;124m\"\u001B[39m]\u001B[38;5;241m.\u001B[39mcopy()\n\u001B[0;32m---> 55\u001B[0m \u001B[38;5;28mself\u001B[39m\u001B[38;5;241m.\u001B[39mmelting_temperature \u001B[38;5;241m=\u001B[39m \u001B[43mMeltingTemperature\u001B[49m\u001B[43m(\u001B[49m\n\u001B[1;32m     56\u001B[0m \u001B[43m    \u001B[49m\u001B[38;5;66;43;03m#min_arm_length=self.config[\"primers_setup\"][\"min_arm_length\"],\u001B[39;49;00m\n\u001B[1;32m     57\u001B[0m \u001B[43m    \u001B[49m\u001B[38;5;66;43;03m#max_arm_Tm_dif=self.config[\"primers_setup\"][\"max_arm_Tm_dif\"],\u001B[39;49;00m\n\u001B[1;32m     58\u001B[0m \u001B[43m    \u001B[49m\u001B[43marm_Tm_max\u001B[49m\u001B[38;5;241;43m=\u001B[39;49m\u001B[38;5;28;43mself\u001B[39;49m\u001B[38;5;241;43m.\u001B[39;49m\u001B[43mconfig\u001B[49m\u001B[43m[\u001B[49m\u001B[38;5;124;43m\"\u001B[39;49m\u001B[38;5;124;43mprimers_setup\u001B[39;49m\u001B[38;5;124;43m\"\u001B[39;49m\u001B[43m]\u001B[49m\u001B[43m[\u001B[49m\u001B[38;5;124;43m\"\u001B[39;49m\u001B[38;5;124;43mTm_max\u001B[39;49m\u001B[38;5;124;43m\"\u001B[39;49m\u001B[43m]\u001B[49m\u001B[43m,\u001B[49m\n\u001B[1;32m     59\u001B[0m \u001B[43m    \u001B[49m\u001B[43marm_Tm_min\u001B[49m\u001B[38;5;241;43m=\u001B[39;49m\u001B[38;5;28;43mself\u001B[39;49m\u001B[38;5;241;43m.\u001B[39;49m\u001B[43mconfig\u001B[49m\u001B[43m[\u001B[49m\u001B[38;5;124;43m\"\u001B[39;49m\u001B[38;5;124;43mprimers_setup\u001B[39;49m\u001B[38;5;124;43m\"\u001B[39;49m\u001B[43m]\u001B[49m\u001B[43m[\u001B[49m\u001B[38;5;124;43m\"\u001B[39;49m\u001B[38;5;124;43mTm_min\u001B[39;49m\u001B[38;5;124;43m\"\u001B[39;49m\u001B[43m]\u001B[49m\u001B[43m,\u001B[49m\n\u001B[1;32m     60\u001B[0m \u001B[43m    \u001B[49m\u001B[43mTm_parameters\u001B[49m\u001B[38;5;241;43m=\u001B[39;49m\u001B[38;5;28;43mself\u001B[39;49m\u001B[38;5;241;43m.\u001B[39;49m\u001B[43mTm_params\u001B[49m\u001B[43m,\u001B[49m\n\u001B[1;32m     61\u001B[0m \u001B[43m    \u001B[49m\u001B[43mTm_correction_parameters\u001B[49m\u001B[38;5;241;43m=\u001B[39;49m\u001B[38;5;28;43mself\u001B[39;49m\u001B[38;5;241;43m.\u001B[39;49m\u001B[43mTm_correction_param\u001B[49m\u001B[43m,\u001B[49m\n\u001B[1;32m     62\u001B[0m \u001B[43m\u001B[49m\u001B[43m)\u001B[49m\n\u001B[1;32m     64\u001B[0m \u001B[38;5;28mself\u001B[39m\u001B[38;5;241m.\u001B[39mconsecutive_repeats \u001B[38;5;241m=\u001B[39m ConsecutiveRepeats(\u001B[38;5;28mself\u001B[39m\u001B[38;5;241m.\u001B[39mconfig[\u001B[38;5;124m\"\u001B[39m\u001B[38;5;124mprimers_setup\u001B[39m\u001B[38;5;124m\"\u001B[39m][\u001B[38;5;124m\"\u001B[39m\u001B[38;5;124mRepeat_AA_max\u001B[39m\u001B[38;5;124m\"\u001B[39m])\n\u001B[1;32m     65\u001B[0m \u001B[38;5;28mself\u001B[39m\u001B[38;5;241m.\u001B[39mGC_clamp \u001B[38;5;241m=\u001B[39m GCClamp(\u001B[38;5;28mself\u001B[39m\u001B[38;5;241m.\u001B[39mconfig[\u001B[38;5;124m\"\u001B[39m\u001B[38;5;124mprimers_setup\u001B[39m\u001B[38;5;124m\"\u001B[39m][\u001B[38;5;124m\"\u001B[39m\u001B[38;5;124mGC_clamp_n\u001B[39m\u001B[38;5;124m\"\u001B[39m])\n",
      "\u001B[0;31mTypeError\u001B[0m: MeltingTemperature.__init__() got an unexpected keyword argument 'arm_Tm_max'"
     ]
    }
   ],
   "source": [
    "test_primer_probs = PrimerProbes(30,30,\"/home/cw/PycharmProjects/oligo-designer-toolsuite_merfish/tutorials/configs/merfish_probe_designer_test.yaml\")\n",
    "#PrimerProbes.create_primer1()"
   ],
   "metadata": {
    "collapsed": false
   }
  },
  {
   "cell_type": "code",
   "execution_count": 5,
   "outputs": [
    {
     "data": {
      "text/plain": "'/home/cw/PycharmProjects/oligo-designer-toolsuite_merfish/test_merfish/output'"
     },
     "execution_count": 5,
     "metadata": {},
     "output_type": "execute_result"
    }
   ],
   "source": [
    "config_file = os.path.join(ROOT_DIR,\"tutorials\",\"configs\",\"merfish_probe_designer_test.yaml\")\n",
    "\n",
    "with open(config_file, 'r') as yaml_file:\n",
    "    config = yaml.safe_load(yaml_file)\n",
    "dir_output = os.path.join(os.getcwd(),\"test_merfish\", config[\"dir_output\"]) # create the complete path for the output directory\n",
    "dir_output"
   ],
   "metadata": {
    "collapsed": false
   }
  },
  {
   "cell_type": "code",
   "execution_count": 12,
   "outputs": [
    {
     "data": {
      "text/plain": "       id                    sequence  gene  \\\n0  CYBA_1  ACCCAGTGGTACTTTGGTGCCTACTC  CYBA   \n1  CYBA_2  CCCAGTGGTACTTTGGTGCCTACTCC  CYBA   \n2  CYBA_3  CCAGTGGTACTTTGGTGCCTACTCCA  CYBA   \n3  CYBA_4  CAGTGGTACTTTGGTGCCTACTCCAT  CYBA   \n4  CYBA_5  AGTGGTACTTTGGTGCCTACTCCATT  CYBA   \n\n                                       transcript_id  \\\n0  NM_000101.4:XM_011522905.4;NM_000101.4:XM_0115...   \n1  NM_000101.4:XM_011522905.4;NM_000101.4:XM_0115...   \n2  NM_000101.4:XM_011522905.4;NM_000101.4:XM_0115...   \n3  NM_000101.4:XM_011522905.4;NM_000101.4:XM_0115...   \n4                         NM_000101.4:XM_011522905.4   \n\n                                             exon_id  chromosome  \\\n0  NM_000101.4_exon3_NM_000101.4_exon2:XM_0115229...          16   \n1  NM_000101.4_exon3_NM_000101.4_exon2:XM_0115229...          16   \n2  NM_000101.4_exon3_NM_000101.4_exon2:XM_0115229...          16   \n3  NM_000101.4_exon3_NM_000101.4_exon2:XM_0115229...          16   \n4  NM_000101.4_exon3_NM_000101.4_exon2:XM_0115229...          16   \n\n               start                end strand  length  melting_temperature  \\\n0  88647146;88648085  88647172;88648111      -      26            59.897116   \n1  88647147;88648086  88647173;88648112      -      26            60.446422   \n2  88647148;88648087  88647174;88648113      -      26            59.897258   \n3  88647149;88648088  88647175;88648114      -      26            58.301068   \n4           88647150           88647176      -      26            57.720478   \n\n   GC_content  \n0       53.85  \n1       57.69  \n2       53.85  \n3       50.00  \n4       46.15  ",
      "text/html": "<div>\n<style scoped>\n    .dataframe tbody tr th:only-of-type {\n        vertical-align: middle;\n    }\n\n    .dataframe tbody tr th {\n        vertical-align: top;\n    }\n\n    .dataframe thead th {\n        text-align: right;\n    }\n</style>\n<table border=\"1\" class=\"dataframe\">\n  <thead>\n    <tr style=\"text-align: right;\">\n      <th></th>\n      <th>id</th>\n      <th>sequence</th>\n      <th>gene</th>\n      <th>transcript_id</th>\n      <th>exon_id</th>\n      <th>chromosome</th>\n      <th>start</th>\n      <th>end</th>\n      <th>strand</th>\n      <th>length</th>\n      <th>melting_temperature</th>\n      <th>GC_content</th>\n    </tr>\n  </thead>\n  <tbody>\n    <tr>\n      <th>0</th>\n      <td>CYBA_1</td>\n      <td>ACCCAGTGGTACTTTGGTGCCTACTC</td>\n      <td>CYBA</td>\n      <td>NM_000101.4:XM_011522905.4;NM_000101.4:XM_0115...</td>\n      <td>NM_000101.4_exon3_NM_000101.4_exon2:XM_0115229...</td>\n      <td>16</td>\n      <td>88647146;88648085</td>\n      <td>88647172;88648111</td>\n      <td>-</td>\n      <td>26</td>\n      <td>59.897116</td>\n      <td>53.85</td>\n    </tr>\n    <tr>\n      <th>1</th>\n      <td>CYBA_2</td>\n      <td>CCCAGTGGTACTTTGGTGCCTACTCC</td>\n      <td>CYBA</td>\n      <td>NM_000101.4:XM_011522905.4;NM_000101.4:XM_0115...</td>\n      <td>NM_000101.4_exon3_NM_000101.4_exon2:XM_0115229...</td>\n      <td>16</td>\n      <td>88647147;88648086</td>\n      <td>88647173;88648112</td>\n      <td>-</td>\n      <td>26</td>\n      <td>60.446422</td>\n      <td>57.69</td>\n    </tr>\n    <tr>\n      <th>2</th>\n      <td>CYBA_3</td>\n      <td>CCAGTGGTACTTTGGTGCCTACTCCA</td>\n      <td>CYBA</td>\n      <td>NM_000101.4:XM_011522905.4;NM_000101.4:XM_0115...</td>\n      <td>NM_000101.4_exon3_NM_000101.4_exon2:XM_0115229...</td>\n      <td>16</td>\n      <td>88647148;88648087</td>\n      <td>88647174;88648113</td>\n      <td>-</td>\n      <td>26</td>\n      <td>59.897258</td>\n      <td>53.85</td>\n    </tr>\n    <tr>\n      <th>3</th>\n      <td>CYBA_4</td>\n      <td>CAGTGGTACTTTGGTGCCTACTCCAT</td>\n      <td>CYBA</td>\n      <td>NM_000101.4:XM_011522905.4;NM_000101.4:XM_0115...</td>\n      <td>NM_000101.4_exon3_NM_000101.4_exon2:XM_0115229...</td>\n      <td>16</td>\n      <td>88647149;88648088</td>\n      <td>88647175;88648114</td>\n      <td>-</td>\n      <td>26</td>\n      <td>58.301068</td>\n      <td>50.00</td>\n    </tr>\n    <tr>\n      <th>4</th>\n      <td>CYBA_5</td>\n      <td>AGTGGTACTTTGGTGCCTACTCCATT</td>\n      <td>CYBA</td>\n      <td>NM_000101.4:XM_011522905.4</td>\n      <td>NM_000101.4_exon3_NM_000101.4_exon2:XM_0115229...</td>\n      <td>16</td>\n      <td>88647150</td>\n      <td>88647176</td>\n      <td>-</td>\n      <td>26</td>\n      <td>57.720478</td>\n      <td>46.15</td>\n    </tr>\n  </tbody>\n</table>\n</div>"
     },
     "execution_count": 12,
     "metadata": {},
     "output_type": "execute_result"
    }
   ],
   "source": [
    "\n",
    "oligo_database = pd.read_csv('output/output/oligos_creation/oligo_DB_human_GRCh38_NCBI_release_110_transcripts.tsv',sep='\\t')\n",
    "oligo_database.head()"
   ],
   "metadata": {
    "collapsed": false
   }
  },
  {
   "cell_type": "code",
   "execution_count": 7,
   "outputs": [],
   "source": [
    "# the melting temperature params need to be preprocessed\n",
    "Tm_params = config[\"Tm_parameters\"][\"shared\"].copy()\n",
    "Tm_params.update(config[\"Tm_parameters\"][\"property_filter\"])\n",
    "Tm_params[\"nn_table\"] = getattr(mt, Tm_params[\"nn_table\"])\n",
    "Tm_params[\"tmm_table\"] = getattr(mt, Tm_params[\"tmm_table\"])\n",
    "Tm_params[\"imm_table\"] = getattr(mt, Tm_params[\"imm_table\"])\n",
    "Tm_params[\"de_table\"] = getattr(mt, Tm_params[\"de_table\"])\n",
    "\n",
    "Tm_params = config[\"Tm_parameters\"][\"shared\"].copy()\n",
    "Tm_correction_param = config[\"Tm_correction_parameters\"][\"shared\"].copy()\n",
    "Tm_correction_param.update(config[\"Tm_correction_parameters\"][\"property_filter\"])"
   ],
   "metadata": {
    "collapsed": false
   }
  },
  {
   "cell_type": "code",
   "execution_count": 8,
   "outputs": [
    {
     "data": {
      "text/plain": "{'GC_content_min': 40,\n 'GC_content_max': 60,\n 'GC_clamp_n': 2,\n 'Tm_min': 70,\n 'Tm_max': 80,\n 'Repeat_AA_max': 2}"
     },
     "execution_count": 8,
     "metadata": {},
     "output_type": "execute_result"
    }
   ],
   "source": [
    "#property filter for primer\n",
    "primers_param = config[\"primers_setup\"].copy()\n",
    "primers_param"
   ],
   "metadata": {
    "collapsed": false
   }
  },
  {
   "cell_type": "code",
   "execution_count": 9,
   "outputs": [],
   "source": [
    "# initialize the property filters for primer\n",
    "\n",
    "gc_content_primer = GCContent(GC_content_min=primers_param[\"GC_content_min\"], GC_content_max=primers_param[\"GC_content_max\"])\n",
    "melting_temperature_primer = MeltingTemperature(\n",
    "    Tm_min=primers_param[\"Tm_min\"],\n",
    "    Tm_max=primers_param[\"Tm_max\"],\n",
    "    Tm_parameters=Tm_params,\n",
    "    Tm_correction_parameters=Tm_correction_param\n",
    ")\n",
    "consecutive_repeats = ConsecutiveRepeats(primers_param[\"Repeat_AA_max\"])\n",
    "secondary_structure = Secondary_struct()"
   ],
   "metadata": {
    "collapsed": false
   }
  },
  {
   "cell_type": "code",
   "execution_count": null,
   "outputs": [],
   "source": [],
   "metadata": {
    "collapsed": false
   }
  },
  {
   "cell_type": "code",
   "execution_count": null,
   "outputs": [],
   "source": [
    "\n",
    "# create the list of filters\n",
    "filters = [gc_content, melting_temperature]\n",
    "\n",
    "# initialize the property filter class\n",
    "property_filter = PropertyFilter(filters=filters)\n",
    "\n",
    "# filter the database\n",
    "oligo_database = property_filter.apply(oligo_database=oligo_database, n_jobs=config[\"n_jobs\"])\n",
    "# write the intermediate result in a file\n",
    "if config[\"write_intermediate_steps\"]:\n",
    "    oligo_database.write_oligos_DB(format=config[\"file_format\"], dir_oligos_DB=\"property_filter\")"
   ],
   "metadata": {
    "collapsed": false
   }
  },
  {
   "cell_type": "code",
   "execution_count": null,
   "outputs": [],
   "source": [
    "from oligo_designer_toolsuite.database import CustomReferenceDB, NcbiReferenceDB, EnsemblReferenceDB\n",
    "from oligo_designer_toolsuite.oligo_specificity_filter import (\n",
    "    SpecificityFilter,\n",
    "    ExactMatches,\n",
    "    LigationRegionCreation,\n",
    "    BowtieSeedRegion,\n",
    "    Blastn,\n",
    ")\n",
    "\n",
    "dir_specificity = os.path.join(dir_output, \"specificity_temporary\") # folder where the temporary files will be written\n",
    "\n",
    "# generate the reference\n",
    "reference_database = CustomReferenceDB(\n",
    "    species=oligo_database.species,\n",
    "    genome_assembly=oligo_database.genome_assembly,\n",
    "    annotation_release=oligo_database.annotation_release,\n",
    "    files_source=oligo_database.files_source,\n",
    "    annotation_file=oligo_database.annotation_file,\n",
    "    sequence_file=oligo_database.sequence_file,\n",
    "    dir_output=dir_output\n",
    ")\n",
    "reference_database.create_reference_DB(block_size=config[\"block_size\"]) # leave the standard parameters\n",
    "\n",
    "# intialize the filter classes\n",
    "exact_mathces = ExactMatches(dir_specificity=dir_specificity)\n",
    "seed_ligation = LigationRegionCreation(ligation_region_size=config[\"ligation_region_size\"])\n",
    "seed_region = BowtieSeedRegion(dir_specificity=dir_specificity, seed_region_creation=seed_ligation)\n",
    "blastn = Blastn(\n",
    "    dir_specificity=dir_specificity,\n",
    "    word_size=config[\"word_size\"],\n",
    "    percent_identity=config[\"percent_identity\"],\n",
    "    coverage=config[\"coverage\"],\n",
    ")\n",
    "filters = [exact_mathces, seed_region, blastn]\n",
    "\n",
    "# initialize the specificity filter class\n",
    "specificity_filter = SpecificityFilter(filters=filters, write_genes_with_insufficient_oligos=config[\"write_removed_genes\"])\n",
    "# filte r the database\n",
    "oligo_database = specificity_filter.apply(oligo_database=oligo_database, reference_database=reference_database, n_jobs=config[\"n_jobs\"])\n",
    "# write the intermediate result\n",
    "if config[\"write_intermediate_steps\"]:\n",
    "    oligo_database.write_oligos_DB(format=config[\"file_format\"], dir_oligos_DB=\"specificity_filter\")"
   ],
   "metadata": {
    "collapsed": false
   }
  },
  {
   "cell_type": "code",
   "execution_count": null,
   "outputs": [],
   "source": [],
   "metadata": {
    "collapsed": false
   }
  },
  {
   "cell_type": "code",
   "execution_count": null,
   "outputs": [],
   "source": [],
   "metadata": {
    "collapsed": false
   }
  },
  {
   "cell_type": "code",
   "execution_count": null,
   "outputs": [],
   "source": [],
   "metadata": {
    "collapsed": false
   }
  },
  {
   "cell_type": "code",
   "execution_count": null,
   "outputs": [],
   "source": [],
   "metadata": {
    "collapsed": false
   }
  },
  {
   "cell_type": "code",
   "execution_count": null,
   "outputs": [],
   "source": [],
   "metadata": {
    "collapsed": false
   }
  },
  {
   "cell_type": "code",
   "execution_count": null,
   "outputs": [],
   "source": [],
   "metadata": {
    "collapsed": false
   }
  },
  {
   "cell_type": "code",
   "execution_count": null,
   "outputs": [],
   "source": [],
   "metadata": {
    "collapsed": false
   }
  },
  {
   "cell_type": "code",
   "execution_count": null,
   "outputs": [],
   "source": [],
   "metadata": {
    "collapsed": false
   }
  },
  {
   "cell_type": "code",
   "execution_count": null,
   "outputs": [],
   "source": [],
   "metadata": {
    "collapsed": false
   }
  },
  {
   "cell_type": "code",
   "execution_count": null,
   "outputs": [],
   "source": [],
   "metadata": {
    "collapsed": false
   }
  }
 ],
 "metadata": {
  "kernelspec": {
   "display_name": "Python 3",
   "language": "python",
   "name": "python3"
  },
  "language_info": {
   "codemirror_mode": {
    "name": "ipython",
    "version": 2
   },
   "file_extension": ".py",
   "mimetype": "text/x-python",
   "name": "python",
   "nbconvert_exporter": "python",
   "pygments_lexer": "ipython2",
   "version": "2.7.6"
  }
 },
 "nbformat": 4,
 "nbformat_minor": 0
}
