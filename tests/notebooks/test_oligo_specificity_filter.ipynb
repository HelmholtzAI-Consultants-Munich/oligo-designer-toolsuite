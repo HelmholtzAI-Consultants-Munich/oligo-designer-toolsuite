{
 "cells": [
  {
   "cell_type": "markdown",
   "metadata": {},
   "source": [
    "# Test Specificity Filters"
   ]
  },
  {
   "cell_type": "code",
   "execution_count": 1,
   "metadata": {},
   "outputs": [],
   "source": [
    "import os\n",
    "from pathlib import Path\n",
    "from Bio.SeqUtils import MeltingTemp as mt\n",
    "\n",
    "from oligo_designer_toolsuite.sequence_generator import CustomGenomicRegionGenerator, OligoSequenceGenerator\n",
    "from oligo_designer_toolsuite.database import OligoDatabase, ReferenceDatabase\n",
    "from oligo_designer_toolsuite.oligo_specificity_filter import BlastNFilter, BlastNSeedregionFilter, BlastNSeedregionLigationsiteFilter, BowtieFilter, Bowtie2Filter, CrossHybridizationFilter, RemoveByLargerRegionPolicy, RemoveByDegreePolicy\n",
    "from oligo_designer_toolsuite.oligo_property_filter import PropertyFilter, PadlockArmsFilter\n"
   ]
  },
  {
   "cell_type": "code",
   "execution_count": 2,
   "metadata": {},
   "outputs": [],
   "source": [
    "# Parameter definition\n",
    "Tm_parameters = {\n",
    "    \"nn_table\": getattr(mt, \"DNA_NN3\"),\n",
    "    \"tmm_table\": getattr(mt, \"DNA_TMM1\"),\n",
    "    \"imm_table\": getattr(mt, \"DNA_IMM1\"),\n",
    "    \"de_table\": getattr(mt, \"DNA_DE1\"),\n",
    "    \"dnac1\": 50,  # [nM]\n",
    "    \"dnac2\": 0,\n",
    "    \"selfcomp\": False,\n",
    "    \"saltcorr\": 7,\n",
    "    \"Na\": 50,  # [mM]\n",
    "    \"K\": 75,  # [mM]\n",
    "    \"Tris\": 20,  # [mM]\n",
    "    \"Mg\": 10,  # [mM]\n",
    "    \"dNTPs\": 0,\n",
    "}\n",
    "\n",
    "annotation_file = \"../../data/annotations/custom_GCF_000001405.40_GRCh38.p14_genomic_chr16.gtf\"\n",
    "sequence_file = \"../../data/annotations/custom_GCF_000001405.40_GRCh38.p14_genomic_chr16.fna\"\n",
    "region_ids = [\"AARS1\",\"DECR2\",\"FAM234A\",\"RHBDF1\",\"WASIR2\"]\n",
    "\n",
    "# Output directory\n",
    "dir_output = os.path.join(os.path.dirname(os.getcwd()), 'notebooks/output')\n",
    "Path(dir_output).mkdir(parents=True, exist_ok=True)"
   ]
  },
  {
   "cell_type": "code",
   "execution_count": 3,
   "metadata": {},
   "outputs": [],
   "source": [
    "region_generator_ncbi = CustomGenomicRegionGenerator(annotation_file, sequence_file, files_source=\"NCBI\", species = \"Homo_sapiens\", annotation_release=\"110\", genome_assembly=\"GRCh38\")\n",
    "file_reference = region_generator_ncbi.get_sequence_exon()\n",
    "\n",
    "metadata_ncbi = {\n",
    "    \"annotation_source\": region_generator_ncbi.files_source, \n",
    "    \"species\": region_generator_ncbi.species, \n",
    "    \"annotation_release\": region_generator_ncbi.annotation_release, \n",
    "    \"genome_assembly\": region_generator_ncbi.genome_assembly\n",
    "}"
   ]
  },
  {
   "cell_type": "code",
   "execution_count": 4,
   "metadata": {},
   "outputs": [],
   "source": [
    "oligo_sequence_generator = OligoSequenceGenerator()\n",
    "file_fasta_oligos = oligo_sequence_generator.create_sequences_sliding_window(\n",
    "    filename_out=\"sliding_window_sequences\",\n",
    "    file_fasta_in=file_reference,\n",
    "    length_interval_sequences=(30, 31),\n",
    ")"
   ]
  },
  {
   "cell_type": "code",
   "execution_count": 5,
   "metadata": {},
   "outputs": [],
   "source": [
    "def get_oligo_database(metadata_ncbi, file_fasta_oligos, region_ids):\n",
    "    oligos = OligoDatabase(min_oligos_per_region=2, write_regions_with_insufficient_oligos=True)\n",
    "    oligos.load_metadata(metadata_ncbi)\n",
    "    oligos.load_sequences_from_fasta(\n",
    "        file_fasta_in=file_fasta_oligos,\n",
    "        sequence_type=\"target\",\n",
    "        region_ids=region_ids,\n",
    "        database_overwrite=True,\n",
    "    )\n",
    "    return oligos"
   ]
  },
  {
   "cell_type": "code",
   "execution_count": 6,
   "metadata": {},
   "outputs": [
    {
     "name": "stderr",
     "output_type": "stream",
     "text": [
      "/Users/lisa.barros/Desktop/oligo-designer-toolsuite/oligo_designer_toolsuite/database/_reference_database.py:89: UserWarning: Overwriting database!\n",
      "  warnings.warn(\"Overwriting database!\")\n"
     ]
    }
   ],
   "source": [
    "reference_exon = ReferenceDatabase()\n",
    "reference_exon.load_metadata(metadata=metadata_ncbi)\n",
    "reference_exon.load_sequences_fom_fasta(file_fasta=file_reference, database_overwrite=True)"
   ]
  },
  {
   "cell_type": "code",
   "execution_count": 7,
   "metadata": {},
   "outputs": [
    {
     "name": "stderr",
     "output_type": "stream",
     "text": [
      "/Users/lisa.barros/Desktop/oligo-designer-toolsuite/oligo_designer_toolsuite/database/_oligos_database.py:215: UserWarning: Overwriting database!\n",
      "  warnings.warn(\"Overwriting database!\")\n"
     ]
    }
   ],
   "source": [
    "oligos = get_oligo_database(metadata_ncbi, file_fasta_oligos, region_ids)\n",
    "file_fasta = oligos.write_database_to_fasta(\"reference_db_tmp\", None, \"oligo\")\n",
    "\n",
    "reference_oligos = ReferenceDatabase()\n",
    "reference_oligos.load_metadata(metadata=oligos.metadata)\n",
    "reference_oligos.load_sequences_fom_fasta(file_fasta=file_fasta, database_overwrite=True)\n",
    "reference_oligos.filter_database(region_ids)\n",
    "os.remove(file_fasta)"
   ]
  },
  {
   "cell_type": "markdown",
   "metadata": {},
   "source": [
    "## Test Blast Filters"
   ]
  },
  {
   "cell_type": "code",
   "execution_count": 8,
   "metadata": {},
   "outputs": [
    {
     "data": {
      "text/plain": [
       "[('AARS1::3995', 'RHBDF1::2076'),\n",
       " ('AARS1::3995', 'RHBDF1::2075'),\n",
       " ('AARS1::3995', 'RHBDF1::2074'),\n",
       " ('AARS1::3995', 'RHBDF1::2073'),\n",
       " ('AARS1::3995', 'RHBDF1::2072')]"
      ]
     },
     "execution_count": 8,
     "metadata": {},
     "output_type": "execute_result"
    }
   ],
   "source": [
    "oligos = get_oligo_database(metadata_ncbi, file_fasta_oligos, region_ids)\n",
    "\n",
    "sequence_type=\"oligo\"\n",
    "blast_search_parameters = {\"perc_identity\":80, \"strand\": \"minus\", \"word_size\": 10}\n",
    "blast_hit_parameters = {\"coverage\": 80}\n",
    "blast_filter = BlastNFilter(blast_search_parameters, blast_hit_parameters, dir_output=dir_output)\n",
    "\n",
    "hits = blast_filter.get_oligo_pair_hits(sequence_type, oligos, 2, reference_oligos)\n",
    "hits[:5]"
   ]
  },
  {
   "cell_type": "code",
   "execution_count": 9,
   "metadata": {},
   "outputs": [
    {
     "name": "stderr",
     "output_type": "stream",
     "text": [
      "/Users/lisa.barros/Desktop/oligo-designer-toolsuite/oligo_designer_toolsuite/database/_oligos_database.py:215: UserWarning: Overwriting database!\n",
      "  warnings.warn(\"Overwriting database!\")\n",
      "/Users/lisa.barros/Desktop/oligo-designer-toolsuite/oligo_designer_toolsuite/oligo_specificity_filter/_filter_blastn.py:175: UserWarning: Both, 'min_alignment_length' and 'coverage' parameters were provided. Using 'min_alignment_length' parameter.\n",
      "  warnings.warn(\n",
      "/Users/lisa.barros/Desktop/oligo-designer-toolsuite/oligo_designer_toolsuite/oligo_specificity_filter/_filter_blastn.py:175: UserWarning: Both, 'min_alignment_length' and 'coverage' parameters were provided. Using 'min_alignment_length' parameter.\n",
      "  warnings.warn(\n",
      "/Users/lisa.barros/Desktop/oligo-designer-toolsuite/oligo_designer_toolsuite/oligo_specificity_filter/_filter_blastn.py:175: UserWarning: Both, 'min_alignment_length' and 'coverage' parameters were provided. Using 'min_alignment_length' parameter.\n",
      "  warnings.warn(\n",
      "/Users/lisa.barros/Desktop/oligo-designer-toolsuite/oligo_designer_toolsuite/oligo_specificity_filter/_filter_blastn.py:175: UserWarning: Both, 'min_alignment_length' and 'coverage' parameters were provided. Using 'min_alignment_length' parameter.\n",
      "  warnings.warn(\n",
      "/Users/lisa.barros/Desktop/oligo-designer-toolsuite/oligo_designer_toolsuite/oligo_specificity_filter/_filter_blastn.py:175: UserWarning: Both, 'min_alignment_length' and 'coverage' parameters were provided. Using 'min_alignment_length' parameter.\n",
      "  warnings.warn(\n"
     ]
    }
   ],
   "source": [
    "oligos = get_oligo_database(metadata_ncbi, file_fasta_oligos, region_ids)\n",
    "\n",
    "sequence_type=\"target\"\n",
    "blast_search_parameters = {\"perc_identity\":80, \"strand\": \"plus\", \"word_size\": 10}\n",
    "blast_hit_parameters = {\"coverage\": 50, \"min_alignment_length\": 25}\n",
    "blast_filter = BlastNFilter(blast_search_parameters, blast_hit_parameters, dir_output=dir_output)\n",
    "oligos = blast_filter.apply(sequence_type, oligos, 2, reference_exon)"
   ]
  },
  {
   "cell_type": "code",
   "execution_count": 10,
   "metadata": {},
   "outputs": [],
   "source": [
    "oligos = get_oligo_database(metadata_ncbi, file_fasta_oligos, region_ids)\n",
    "\n",
    "sequence_type=\"target\"\n",
    "seedregion_start = 12\n",
    "seedregion_end = 18\n",
    "blast_search_parameters = {\"perc_identity\":80, \"strand\": \"plus\", \"word_size\": 10}\n",
    "blast_hit_parameters = {\"coverage\": 50}\n",
    "blast_filter = BlastNSeedregionFilter(seedregion_start, seedregion_end, blast_search_parameters, blast_hit_parameters, dir_output)\n",
    "oligos = blast_filter.apply(sequence_type, oligos, 2, reference_exon)"
   ]
  },
  {
   "cell_type": "code",
   "execution_count": 11,
   "metadata": {},
   "outputs": [],
   "source": [
    "oligos = get_oligo_database(metadata_ncbi, file_fasta_oligos, region_ids)\n",
    "\n",
    "padlock_arms_filter = PadlockArmsFilter(arm_length_min = 5, arm_Tm_dif_max = 5, arm_Tm_min = 40, arm_Tm_max = 60, Tm_parameters = Tm_parameters)\n",
    "property_filters = PropertyFilter([padlock_arms_filter])\n",
    "property_filters.apply(sequence_type, oligo_database=oligos)\n",
    "\n",
    "sequence_type=\"target\"\n",
    "seedregion_size = 5\n",
    "blast_search_parameters = {\"perc_identity\":80, \"strand\": \"plus\", \"word_size\": 10}\n",
    "blast_hit_parameters = {\"coverage\": 50}\n",
    "blast_filter = BlastNSeedregionLigationsiteFilter(seedregion_size, blast_search_parameters, blast_hit_parameters, dir_output)\n",
    "oligos = blast_filter.apply(sequence_type, oligos, 2, reference_exon)"
   ]
  },
  {
   "cell_type": "markdown",
   "metadata": {},
   "source": [
    "## Test Bowtie Filters"
   ]
  },
  {
   "cell_type": "code",
   "execution_count": 12,
   "metadata": {},
   "outputs": [
    {
     "name": "stderr",
     "output_type": "stream",
     "text": [
      "# reads processed: 5635\n",
      "# reads with at least one alignment: 0 (0.00%)\n",
      "# reads that failed to align: 5635 (100.00%)\n",
      "No alignments\n",
      "# reads processed: 2571\n",
      "# reads with at least one alignment: 0 (0.00%)\n",
      "# reads that failed to align: 2571 (100.00%)\n",
      "No alignments\n",
      "# reads processed: 9351\n",
      "# reads with at least one alignment: 833 (8.91%)\n",
      "# reads that failed to align: 8518 (91.09%)\n",
      "Reported 7938 alignments\n",
      "# reads processed: 7050\n",
      "# reads with at least one alignment: 0 (0.00%)\n",
      "# reads that failed to align: 7050 (100.00%)\n",
      "No alignments\n",
      "# reads processed: 1960\n",
      "# reads with at least one alignment: 285 (14.54%)\n",
      "# reads that failed to align: 1675 (85.46%)\n",
      "Reported 5967 alignments\n"
     ]
    }
   ],
   "source": [
    "oligos = get_oligo_database(metadata_ncbi, file_fasta_oligos, region_ids)\n",
    "\n",
    "sequence_type=\"target\"\n",
    "bowtie_search_parameters = {\"-v\":1, \"--nofw\": \"\"}\n",
    "bowtie_filter = BowtieFilter(bowtie_search_parameters, dir_output)\n",
    "oligos = bowtie_filter.apply(sequence_type, oligos, 2, reference_exon)"
   ]
  },
  {
   "cell_type": "code",
   "execution_count": 13,
   "metadata": {},
   "outputs": [],
   "source": [
    "oligos = get_oligo_database(metadata_ncbi, file_fasta_oligos, region_ids)\n",
    "\n",
    "sequence_type=\"target\"\n",
    "bowtie_search_parameters = {\"-N\":1, \"--norc\": \"\"}\n",
    "bowtie_filter = Bowtie2Filter(bowtie_search_parameters, dir_output)\n",
    "oligos = bowtie_filter.apply(sequence_type, oligos, 2, reference_exon)"
   ]
  },
  {
   "cell_type": "markdown",
   "metadata": {},
   "source": [
    "## Test Cross-Hybridization Filters"
   ]
  },
  {
   "cell_type": "code",
   "execution_count": 14,
   "metadata": {},
   "outputs": [],
   "source": [
    "blast_search_parameters = {\"perc_identity\":80, \"strand\": \"minus\", \"word_size\": 10}\n",
    "blast_hit_parameters = {\"coverage\": 80}\n",
    "specificity_filter = BlastNFilter(blast_search_parameters, blast_hit_parameters, dir_output)\n",
    "\n",
    "policy1 = RemoveByLargerRegionPolicy()\n",
    "policy2 = RemoveByDegreePolicy()"
   ]
  },
  {
   "cell_type": "code",
   "execution_count": 15,
   "metadata": {},
   "outputs": [
    {
     "name": "stderr",
     "output_type": "stream",
     "text": [
      "/Users/lisa.barros/Desktop/oligo-designer-toolsuite/oligo_designer_toolsuite/database/_reference_database.py:89: UserWarning: Overwriting database!\n",
      "  warnings.warn(\"Overwriting database!\")\n"
     ]
    }
   ],
   "source": [
    "oligos = get_oligo_database(metadata_ncbi, file_fasta_oligos, region_ids)\n",
    "sequence_type=\"oligo\"\n",
    "\n",
    "cross_hyb_filter = CrossHybridizationFilter(policy1, specificity_filter, dir_output)\n",
    "oligos = cross_hyb_filter.apply(sequence_type, oligos, 2)"
   ]
  },
  {
   "cell_type": "code",
   "execution_count": 16,
   "metadata": {},
   "outputs": [
    {
     "name": "stderr",
     "output_type": "stream",
     "text": [
      "/Users/lisa.barros/Desktop/oligo-designer-toolsuite/oligo_designer_toolsuite/database/_oligos_database.py:215: UserWarning: Overwriting database!\n",
      "  warnings.warn(\"Overwriting database!\")\n",
      "/Users/lisa.barros/Desktop/oligo-designer-toolsuite/oligo_designer_toolsuite/database/_reference_database.py:89: UserWarning: Overwriting database!\n",
      "  warnings.warn(\"Overwriting database!\")\n"
     ]
    }
   ],
   "source": [
    "oligos = get_oligo_database(metadata_ncbi, file_fasta_oligos, region_ids)\n",
    "sequence_type=\"oligo\"\n",
    "\n",
    "cross_hyb_filter = CrossHybridizationFilter(policy2, specificity_filter, dir_output)\n",
    "oligos = cross_hyb_filter.apply(sequence_type, oligos, 2)"
   ]
  }
 ],
 "metadata": {
  "kernelspec": {
   "display_name": "Python 3",
   "language": "python",
   "name": "python3"
  },
  "language_info": {
   "codemirror_mode": {
    "name": "ipython",
    "version": 3
   },
   "file_extension": ".py",
   "mimetype": "text/x-python",
   "name": "python",
   "nbconvert_exporter": "python",
   "pygments_lexer": "ipython3",
   "version": "3.10.13"
  },
  "orig_nbformat": 4,
  "vscode": {
   "interpreter": {
    "hash": "aee8b7b246df8f9039afb4144a1f6fd8d2ca17a180786b69acc140d282b71a49"
   }
  }
 },
 "nbformat": 4,
 "nbformat_minor": 2
}
