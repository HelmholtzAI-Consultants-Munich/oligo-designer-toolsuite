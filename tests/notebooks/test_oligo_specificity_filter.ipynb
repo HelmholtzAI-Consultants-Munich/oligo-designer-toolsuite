{
 "cells": [
  {
   "cell_type": "code",
   "execution_count": null,
   "metadata": {},
   "outputs": [],
   "source": [
    "import os\n",
    "import sys\n",
    "\n",
    "cwd=os.path.dirname(os.getcwd())\n",
    "sys.path.append(cwd)\n",
    "print(cwd)\n",
    "\n",
    "from oligo_designer_toolsuite.oligo_specificity_filter import Blastn, Bowtie, Bowtie2, ExactMatches, BowtieSeedRegion, LigationRegionCreation, SeedRegionCreationStandard, SeedRegionCreationPercentage\n",
    "\n",
    "from oligo_designer_toolsuite.utils._data_parser import read_oligos_DB_tsv\n",
    "from oligo_designer_toolsuite.IO._database import CustomDB\n",
    "from oligo_designer_toolsuite.oligo_specificity_filter._specificity_filters import SpecificityFilter"
   ]
  },
  {
   "cell_type": "code",
   "execution_count": null,
   "metadata": {},
   "outputs": [],
   "source": [
    "n_jobs=10\n",
    "ligation_region=10\n",
    "dir_output=cwd + \"/output\"\n",
    "dir_annotations=dir_output +\"/reference\"\n",
    "dir_specificity = dir_output + \"/specificity_temporary\"\n",
    "dir_probes = dir_output +\"/property_filter\"\n",
    "file_probe_info=dir_probes + \"/oligo_DB_human_GRCh38.p14_NCBI_release_GCF_000001405.40_gene_transcript.tsv\"\n",
    "print(file_probe_info)\n",
    "min_probes_per_gene=2\n",
    "file_transcriptome_fasta=dir_annotations + \"/reference_DB_human_GRCh38.p14_NCBI_release_GCF_000001405.40_gene_transcript.fna\"\n",
    "word_size=10\n",
    "percent_identity=80\n",
    "probe_length_min=30\n",
    "probe_length_max=40\n",
    "coverage=50\n",
    "seed_region_creation = LigationRegionCreation(ligation_region_size=ligation_region)\n"
   ]
  },
  {
   "cell_type": "code",
   "execution_count": null,
   "metadata": {},
   "outputs": [],
   "source": [
    "probe_info_dict=read_oligos_DB_tsv(file_probe_info)\n",
    "for gene in probe_info_dict.keys():\n",
    "    print(f\"{gene}, {len(list(probe_info_dict[gene].keys()))}\")"
   ]
  },
  {
   "cell_type": "code",
   "execution_count": null,
   "metadata": {},
   "outputs": [],
   "source": [
    "bowtie2_filter=Bowtie2(dir_specificity)\n",
    "\n",
    "probe_info_dict=read_oligos_DB_tsv(file_probe_info)\n",
    "probes_updated = bowtie2_filter.apply(probe_info_dict, file_transcriptome_fasta, n_jobs)\n",
    "for gene in probes_updated.keys():\n",
    "    print(f\"{gene}, {len(list(probes_updated[gene].keys()))}\")"
   ]
  },
  {
   "cell_type": "markdown",
   "metadata": {},
   "source": [
    "Test exact match filter"
   ]
  },
  {
   "cell_type": "code",
   "execution_count": null,
   "metadata": {},
   "outputs": [],
   "source": [
    "exact_match_filter=ExactMatches(dir_specificity)\n",
    "#exact_match_filter=ExactMatches(n_jobs, dir_output, dir_annotations)"
   ]
  },
  {
   "cell_type": "code",
   "execution_count": null,
   "metadata": {},
   "outputs": [],
   "source": [
    "probes_updated = exact_match_filter.apply(probe_info_dict, file_transcriptome_fasta, 10)\n",
    "#probes_updated = exact_match_filter.apply(probe_info_dict)\n",
    "for gene in probes_updated.keys():\n",
    "    print(f\"{gene}, {len(list(probes_updated[gene].keys()))}\")"
   ]
  },
  {
   "cell_type": "markdown",
   "metadata": {},
   "source": [
    "Test Blast filter"
   ]
  },
  {
   "cell_type": "code",
   "execution_count": null,
   "metadata": {},
   "outputs": [],
   "source": [
    "blast_filter=Blastn(dir_specificity, word_size,percent_identity, coverage)"
   ]
  },
  {
   "cell_type": "code",
   "execution_count": null,
   "metadata": {},
   "outputs": [],
   "source": [
    "probes_updated = blast_filter.apply(probe_info_dict, file_transcriptome_fasta, n_jobs)\n",
    "for gene in probes_updated.keys():\n",
    "    print(f\"{gene}, {len(list(probes_updated[gene].keys()))}\")\n",
    "print(probes_updated[\"NOC2L\"])"
   ]
  },
  {
   "cell_type": "markdown",
   "metadata": {},
   "source": [
    "Test the two filters one after the other"
   ]
  },
  {
   "cell_type": "code",
   "execution_count": null,
   "metadata": {},
   "outputs": [],
   "source": [
    "dir_annotation = '/home/francesco/Desktop/Work/NCBI'\n",
    "annotation = dir_annotation+'/GCF_000001405.40_GRCh38.p14_genomic.gtf'\n",
    "sequence = dir_annotation+'/GCF_000001405.40_GRCh38.p14_genomic.fna'\n",
    "ligation_seed_region = LigationRegionCreation(ligation_region_size=10)\n",
    "seed_region_filter = BowtieSeedRegion(dir_specificity, ligation_seed_region)\n",
    "db = CustomDB(25, 30, None, dir_output=dir_output, file_annotation=annotation, file_sequence = sequence)\n",
    "db.read_reference_DB(file_reference_DB=file_transcriptome_fasta)\n",
    "db.read_oligos_DB(file_oligos_DB_tsv=file_probe_info, format='tsv')\n",
    "specificity_filters = SpecificityFilter([exact_match_filter,seed_region_filter, blast_filter])\n",
    "db = specificity_filters.apply(database=db, n_jobs=n_jobs)\n",
    "for gene in db.oligos_DB.keys():\n",
    "    print(f\"{gene}, {len(list(db.oligos_DB[gene].keys()))}\")"
   ]
  },
  {
   "cell_type": "markdown",
   "metadata": {},
   "source": [
    "Test Bowtie filter"
   ]
  },
  {
   "cell_type": "code",
   "execution_count": null,
   "metadata": {},
   "outputs": [],
   "source": [
    "min_mismatches=3\n",
    "mismatch_region=5\n",
    "ligation_region=0\n",
    "\n",
    "bowtie_filter=Bowtie(dir_specificity, min_mismatches, mismatch_region)\n",
    "\n",
    "probe_info_dict=read_oligos_DB_tsv(file_probe_info)\n",
    "probes_updated = bowtie_filter.apply(probe_info_dict, file_transcriptome_fasta, n_jobs)\n",
    "#find a probe with mismatch in ligation region and run on that. \n",
    "for gene in probes_updated.keys():\n",
    "    print(f\"{gene}, {len(list(probes_updated[gene].keys()))}\")\n",
    "\n"
   ]
  },
  {
   "cell_type": "markdown",
   "metadata": {},
   "source": [
    "Test Bowtie 2 filter"
   ]
  },
  {
   "cell_type": "code",
   "execution_count": null,
   "metadata": {},
   "outputs": [],
   "source": [
    "bowtie2_filter=Bowtie2(dir_specificity)\n",
    "\n",
    "probe_info_dict=read_oligos_DB_tsv(file_probe_info)\n",
    "probes_updated = bowtie2_filter.apply(probe_info_dict, file_transcriptome_fasta, n_jobs)\n",
    "for gene in probes_updated.keys():\n",
    "    print(f\"{gene}, {len(list(probes_updated[gene].keys()))}\")"
   ]
  },
  {
   "cell_type": "code",
   "execution_count": null,
   "metadata": {},
   "outputs": [],
   "source": [
    "ligation_seed_region = LigationRegionCreation(ligation_region_size=10)\n",
    "standard_seed_region = SeedRegionCreationStandard(start=5, end = 25)\n",
    "prec_seed_region = SeedRegionCreationPercentage(start=0.2, end = 0.8)\n",
    "\n",
    "bowtie_seed_region = BowtieSeedRegion(dir_specificity, ligation_seed_region)\n",
    "\n",
    "probe_info_dict=read_oligos_DB_tsv(file_probe_info)\n",
    "probes_updated = bowtie_seed_region.apply(probe_info_dict, file_transcriptome_fasta, n_jobs)\n",
    "for gene in probes_updated.keys():\n",
    "    print(f\"{gene}, {len(list(probes_updated[gene].keys()))}\")"
   ]
  }
 ],
 "metadata": {
  "kernelspec": {
   "display_name": "Python 3",
   "language": "python",
   "name": "python3"
  },
  "language_info": {
   "codemirror_mode": {
    "name": "ipython",
    "version": 3
   },
   "file_extension": ".py",
   "mimetype": "text/x-python",
   "name": "python",
   "nbconvert_exporter": "python",
   "pygments_lexer": "ipython3",
   "version": "3.10.9"
  },
  "orig_nbformat": 4,
  "vscode": {
   "interpreter": {
    "hash": "aee8b7b246df8f9039afb4144a1f6fd8d2ca17a180786b69acc140d282b71a49"
   }
  }
 },
 "nbformat": 4,
 "nbformat_minor": 2
}
