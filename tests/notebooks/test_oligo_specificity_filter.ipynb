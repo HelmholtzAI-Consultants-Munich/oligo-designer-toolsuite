{
      "cells": [
            {
                  "cell_type": "markdown",
                  "metadata": {},
                  "source": [
                        "# Test Specificity Filters"
                  ]
            },
            {
                  "cell_type": "code",
                  "execution_count": 2,
                  "metadata": {},
                  "outputs": [],
                  "source": [
                        "import os\n",
                        "from pathlib import Path\n",
                        "\n",
                        "from oligo_designer_toolsuite.database import OligoDatabase, ReferenceDatabase\n",
                        "from oligo_designer_toolsuite.oligo_specificity_filter import ExactMatchFilter, BlastNFilter, BlastNSeedregionFilter, BlastNSeedregionLigationsiteFilter, BowtieFilter, Bowtie2Filter, CrossHybridizationFilter, RemoveByLargerRegionPolicy, RemoveByDegreePolicy"
                  ]
            },
            {
                  "cell_type": "markdown",
                  "metadata": {},
                  "source": [
                        "## Setup"
                  ]
            },
            {
                  "cell_type": "code",
                  "execution_count": 2,
                  "metadata": {},
                  "outputs": [],
                  "source": [
                        "# Output directory\n",
                        "dir_output = os.path.join(os.path.dirname(os.getcwd()), 'notebooks/output')\n",
                        "Path(dir_output).mkdir(parents=True, exist_ok=True)"
                  ]
            },
            {
                  "cell_type": "code",
                  "execution_count": 3,
                  "metadata": {},
                  "outputs": [],
                  "source": [
                        "# Files\n",
                        "file_database_oligos_exact_match = \"../../data/tests/databases/database_oligos_exactmatch.tsv\"\n",
                        "file_database_oligos_match = \"../../data/tests/databases/database_oligos_match.tsv\"\n",
                        "file_database_oligos_nomatch = \"../../data/tests/databases/database_oligos_nomatch.tsv\"\n",
                        "\n",
                        "file_database_oligos_ligation_match = \"../../data/tests/databases/database_oligos_ligation_match.tsv\"\n",
                        "file_database_oligos_ligation_nomatch = \"../../data/tests/databases/database_oligos_ligation_nomatch.tsv\"\n",
                        "\n",
                        "file_database_oligos_crosshyb = \"../../data/tests/databases/database_oligos_crosshybridization.tsv\"\n",
                        "\n",
                        "file_database_reference = \"../../data/tests/databases/database_reference.fna\"\n",
                        "file_database_reference_ligation = \"../../data/tests/databases/database_reference_ligation.fna\""
                  ]
            },
            {
                  "cell_type": "code",
                  "execution_count": 4,
                  "metadata": {},
                  "outputs": [],
                  "source": [
                        "# Metadata\n",
                        "metadata_ncbi = {\n",
                        "    \"files_source\": \"NCBI\",\n",
                        "    \"species\": \"Homo_sapiens\",\n",
                        "    \"annotation_release\": \"110\",\n",
                        "    \"genome_assembly\": \"GRCh38\",\n",
                        "}\n",
                        "\n",
                        "region_ids = [\"AARS1\", \"DECR2\", \"FAM234A\", \"RHBDF1\", \"WASIR2\"]"
                  ]
            },
            {
                  "cell_type": "code",
                  "execution_count": 5,
                  "metadata": {},
                  "outputs": [],
                  "source": [
                        "# Blast parameters\n",
                        "blast_search_parameters = {\"perc_identity\": 80, \"strand\": \"plus\", \"word_size\": 10}\n",
                        " \n",
                        "\n",
                        "blast_hit_parameters = {\"coverage\": 50}\n",
                        "blast_hit_parameters_crosshyb = {\"coverage\": 50}\n",
                        "\n",
                        "# Bowtie parameters\n",
                        "bowtie_search_parameters = {\"-n\": 3, \"-l\": 5}\n",
                        "bowtie_search_parameters_crosshyb = {\"-n\": 3, \"-l\": 5, \"--nofw\": \"\"}\n",
                        "\n",
                        "bowtie2_search_parameters = {\"-N\": 0}\n",
                        "\n",
                        "# Parameters Cross-hybridization\n",
                        "expected_oligos_bigger_region = {\n",
                        "    \"region_1\": {\"region_1::oligo_7\", \"region_1::oligo_5\", \"region_1::oligo_6\", \"region_1::oligo_8\", \"region_1::oligo_4\"},\n",
                        "    \"region_2\": {\"region_2::oligo_3\", \"region_2::oligo_2\", \"region_2::oligo_6\", \"region_2::oligo_5\", \"region_2::oligo_4\"},\n",
                        "    \"region_3\": {\"region_3::oligo_1\", \"region_3::oligo_4\", \"region_3::oligo_3\", \"region_3::oligo_2\", \"region_3::oligo_5\"},\n",
                        "}\n",
                        "\n",
                        "expected_oligos_degree = {\n",
                        "    \"region_1\": {\"region_1::oligo_1\", \"region_1::oligo_4\", \"region_1::oligo_5\", \"region_1::oligo_6\", \"region_1::oligo_7\"},\n",
                        "    \"region_2\": {\"region_2::oligo_1\", \"region_2::oligo_2\", \"region_2::oligo_3\", \"region_2::oligo_4\", \"region_2::oligo_5\", \"region_2::oligo_6\", \"region_2::oligo_7\"},\n",
                        "    \"region_3\": {\"region_3::oligo_2\", \"region_3::oligo_3\", \"region_3::oligo_4\", \"region_3::oligo_5\"},\n",
                        "}"
                  ]
            },
            {
                  "cell_type": "markdown",
                  "metadata": {},
                  "source": [
                        "## Test Exact Match Filter"
                  ]
            },
            {
                  "cell_type": "code",
                  "execution_count": 6,
                  "metadata": {},
                  "outputs": [],
                  "source": [
                        "sequence_type = \"oligo\"\n",
                        "\n",
                        "oligo_database_exact_match = OligoDatabase(min_oligos_per_region=2, write_regions_with_insufficient_oligos=True, dir_output=dir_output)\n",
                        "oligo_database_exact_match.load_database(file_database_oligos_exact_match)\n",
                        "\n",
                        "policy = RemoveByLargerRegionPolicy()\n",
                        "exactmatch_filter = ExactMatchFilter(policy)\n",
                        "res = exactmatch_filter.apply(sequence_type, oligo_database_exact_match, 2)\n",
                        "\n",
                        "assert \"WASH7P::2\" not in res.database[\"WASH7P\"].keys(), \"A matching oligo has not been filtered from exact matches!\"\n",
                        "assert \"AGRN::1\" in res.database[\"AGRN\"].keys(), \"A non-matching oligo has been filtered from exact mathces!\""
                  ]
            },
            {
                  "cell_type": "markdown",
                  "metadata": {},
                  "source": [
                        "## Test BlastN Filter"
                  ]
            },
            {
                  "cell_type": "code",
                  "execution_count": 7,
                  "metadata": {},
                  "outputs": [
                        {
                              "name": "stderr",
                              "output_type": "stream",
                              "text": [
                                    "/Users/lisa.barros/Desktop/oligo-designer-toolsuite/oligo_designer_toolsuite/database/_reference_database.py:88: UserWarning: Overwriting database!\n",
                                    "  warnings.warn(\"Overwriting database!\")\n"
                              ]
                        }
                  ],
                  "source": [
                        "reference_database = ReferenceDatabase(dir_output=dir_output)\n",
                        "reference_database.load_sequences_from_fasta(file_fasta=file_database_reference, database_overwrite=True)"
                  ]
            },
            {
                  "cell_type": "markdown",
                  "metadata": {},
                  "source": []
            },
            {
                  "cell_type": "code",
                  "execution_count": 8,
                  "metadata": {},
                  "outputs": [
                        {
                              "name": "stdout",
                              "output_type": "stream",
                              "text": [
                                    "<class 'oligo_designer_toolsuite.oligo_specificity_filter._filter_blastn.BlastNFilter'>\n"
                              ]
                        }
                  ],
                  "source": [
                        "sequence_type = \"target\"\n",
                        "\n",
                        "oligo_database_match = OligoDatabase(min_oligos_per_region=2, write_regions_with_insufficient_oligos=True, dir_output=dir_output)\n",
                        "oligo_database_match.load_database(file_database_oligos_match)\n",
                        "\n",
                        "blast_filter = BlastNFilter(blast_search_parameters, blast_hit_parameters, dir_output=dir_output)\n",
                        "print(type(blast_filter))\n",
                        "res = blast_filter.apply(sequence_type, oligo_database_match, 2, reference_database)\n",
                        "\n",
                        "assert \"WASH7P::1\" not in res.database[\"WASH7P\"].keys(), \"A matching oligo has not been filtered by Blast!\""
                  ]
            },
            {
                  "cell_type": "code",
                  "execution_count": 10,
                  "metadata": {},
                  "outputs": [],
                  "source": [
                        "sequence_type = \"target\"\n",
                        "\n",
                        "oligo_database_nomatch = OligoDatabase(min_oligos_per_region=2, write_regions_with_insufficient_oligos=True, dir_output=dir_output)\n",
                        "oligo_database_nomatch.load_database(file_database_oligos_nomatch)\n",
                        "\n",
                        "blast_filter = BlastNFilter(blast_search_parameters, blast_hit_parameters, dir_output=dir_output)\n",
                        "res = blast_filter.apply(sequence_type, oligo_database_nomatch, 2, reference_database)\n",
                        "\n",
                        "assert \"AGRN::1\" in res.database[\"AGRN\"].keys(), \"A non matching oligo has been filtered by Blast!\""
                  ]
            },
            {
                  "cell_type": "code",
                  "execution_count": 11,
                  "metadata": {},
                  "outputs": [
                        {
                              "name": "stderr",
                              "output_type": "stream",
                              "text": [
                                    "/Users/lisa.barros/Desktop/oligo-designer-toolsuite/oligo_designer_toolsuite/database/_reference_database.py:88: UserWarning: Overwriting database!\n",
                                    "  warnings.warn(\"Overwriting database!\")\n"
                              ]
                        }
                  ],
                  "source": [
                        "reference_database_ligation = ReferenceDatabase(dir_output=dir_output)\n",
                        "reference_database_ligation.load_sequences_from_fasta(file_fasta=file_database_reference_ligation, database_overwrite=True)"
                  ]
            },
            {
                  "cell_type": "code",
                  "execution_count": 18,
                  "metadata": {},
                  "outputs": [
                        {
                              "name": "stdout",
                              "output_type": "stream",
                              "text": [
                                    "[('AlignmentSpecificityFilter', <class 'oligo_designer_toolsuite.oligo_specificity_filter._filter_base.AlignmentSpecificityFilter'>), ('BlastNFilter', <class 'oligo_designer_toolsuite.oligo_specificity_filter._filter_blastn.BlastNFilter'>), ('BlastNSeedregionFilter', <class 'oligo_designer_toolsuite.oligo_specificity_filter._filter_blastn.BlastNSeedregionFilter'>), ('BlastNSeedregionFilterBase', <class 'oligo_designer_toolsuite.oligo_specificity_filter._filter_blastn.BlastNSeedregionFilterBase'>), ('BlastNSeedregionLigationsiteFilter', <class 'oligo_designer_toolsuite.oligo_specificity_filter._filter_blastn.BlastNSeedregionLigationsiteFilter'>), ('NcbiblastnCommandline', <class 'Bio.Blast.Applications.NcbiblastnCommandline'>), ('NcbimakeblastdbCommandline', <class 'Bio.Blast.Applications.NcbimakeblastdbCommandline'>), ('OligoDatabase', <class 'oligo_designer_toolsuite.database._oligos_database.OligoDatabase'>), ('Path', <class 'pathlib.Path'>), ('ReferenceDatabase', <class 'oligo_designer_toolsuite.database._reference_database.ReferenceDatabase'>)]\n"
                              ]
                        }
                  ],
                  "source": [
                        "from oligo_designer_toolsuite.oligo_specificity_filter import _filter_blastn\n",
                        "import inspect\n",
                        "sequence_type = \"target\"\n",
                        "seedregion_size = 10\n",
                        "\n",
                        "oligo_database_ligation_match = OligoDatabase(min_oligos_per_region=2, write_regions_with_insufficient_oligos=True, dir_output=dir_output)\n",
                        "oligo_database_ligation_match.load_database(file_database_oligos_ligation_match)\n",
                        "\n",
                        "blast_ligation_filter = BlastNSeedregionLigationsiteFilter(seedregion_size, blast_search_parameters, blast_hit_parameters, dir_output=dir_output)\n",
                        "res = blast_ligation_filter.apply(sequence_type, oligo_database_ligation_match, 2, reference_database_ligation)\n",
                        "\n",
                        "assert \"WASH7P::1\" not in res.database[\"WASH7P\"].keys(), \"A matching oligo has not been filtered by Blast!\""
                  ]
            },
            {
                  "cell_type": "code",
                  "execution_count": null,
                  "metadata": {},
                  "outputs": [],
                  "source": [
                        "sequence_type = \"target\"\n",
                        "seedregion_size = 5\n",
                        "\n",
                        "oligo_database_ligation_nomatch = OligoDatabase(min_oligos_per_region=2, write_regions_with_insufficient_oligos=True, dir_output=dir_output)\n",
                        "oligo_database_ligation_nomatch.load_database(file_database_oligos_ligation_nomatch)\n",
                        "\n",
                        "blast_ligation_filter = BlastNSeedregionLigationsiteFilter(seedregion_size, blast_search_parameters, blast_hit_parameters, dir_output=dir_output)\n",
                        "res = blast_ligation_filter.apply(sequence_type, oligo_database_ligation_nomatch, 2, reference_database_ligation)\n",
                        "\n",
                        "assert \"AGRN::1\" in res.database[\"AGRN\"].keys(), \"A non matching oligo has been filtered by Blast!\""
                  ]
            },
            {
                  "cell_type": "markdown",
                  "metadata": {},
                  "source": [
                        "## Test Bowtie Filter"
                  ]
            },
            {
                  "cell_type": "code",
                  "execution_count": null,
                  "metadata": {},
                  "outputs": [
                        {
                              "name": "stderr",
                              "output_type": "stream",
                              "text": [
                                    "/Users/lisa.barros/Desktop/oligo-designer-toolsuite/oligo_designer_toolsuite/database/_reference_database.py:88: UserWarning: Overwriting database!\n",
                                    "  warnings.warn(\"Overwriting database!\")\n"
                              ]
                        }
                  ],
                  "source": [
                        "reference_database = ReferenceDatabase(dir_output=dir_output)\n",
                        "reference_database.load_sequences_from_fasta(file_fasta=file_database_reference, database_overwrite=True)"
                  ]
            },
            {
                  "cell_type": "markdown",
                  "metadata": {},
                  "source": []
            },
            {
                  "cell_type": "code",
                  "execution_count": null,
                  "metadata": {},
                  "outputs": [
                        {
                              "name": "stdout",
                              "output_type": "stream",
                              "text": [
                                    "['GCTGGTCCGGGGACAGCGCGCCGGTCGAGT']\n",
                                    "[Seq('GCTGGTCCGGGGACAGCGCGCCGGTCGAGC')]\n",
                                    "['GCTGGTCCGGGGACAGCGCGCCGGTCGAGT']\n",
                                    "[Seq('GCTGGTCCGGGGACAGCGCGCCGGTCGAGC')]\n"
                              ]
                        },
                        {
                              "name": "stderr",
                              "output_type": "stream",
                              "text": [
                                    "# reads processed: 1\n",
                                    "# reads with at least one alignment: 1 (100.00%)\n",
                                    "# reads that failed to align: 0 (0.00%)\n",
                                    "Reported 1 alignments\n"
                              ]
                        }
                  ],
                  "source": [
                        "sequence_type = \"target\"\n",
                        "\n",
                        "oligo_database_match = OligoDatabase(min_oligos_per_region=2, write_regions_with_insufficient_oligos=True, dir_output=dir_output)\n",
                        "oligo_database_match.load_database(file_database_oligos_match)\n",
                        "\n",
                        "bowtie_filter = BowtieFilter(bowtie_search_parameters, dir_output=dir_output)\n",
                        "res = bowtie_filter.apply(sequence_type, oligo_database_match, 2, reference_database)\n",
                        "\n",
                        "assert \"WASH7P::1\" not in res.database[\"WASH7P\"].keys(), \"A matching oligo has not been filtered by Bowtie!\""
                  ]
            },
            {
                  "cell_type": "code",
                  "execution_count": null,
                  "metadata": {},
                  "outputs": [
                        {
                              "name": "stderr",
                              "output_type": "stream",
                              "text": [
                                    "# reads processed: 1\n",
                                    "# reads with at least one alignment: 0 (0.00%)\n",
                                    "# reads that failed to align: 1 (100.00%)\n",
                                    "No alignments\n"
                              ]
                        }
                  ],
                  "source": [
                        "sequence_type = \"target\"\n",
                        "\n",
                        "oligo_database_nomatch = OligoDatabase(min_oligos_per_region=2, write_regions_with_insufficient_oligos=True, dir_output=dir_output)\n",
                        "oligo_database_nomatch.load_database(file_database_oligos_nomatch)\n",
                        "\n",
                        "bowtie_filter = BowtieFilter(bowtie_search_parameters, dir_output=dir_output)\n",
                        "res = bowtie_filter.apply(sequence_type, oligo_database_nomatch, 2, reference_database)\n",
                        "\n",
                        "assert \"AGRN::1\" in res.database[\"AGRN\"].keys(), \"A non matching oligo has been filtered by Bowtie!\""
                  ]
            },
            {
                  "cell_type": "code",
                  "execution_count": null,
                  "metadata": {},
                  "outputs": [],
                  "source": [
                        "sequence_type = \"target\"\n",
                        "\n",
                        "oligo_database_match = OligoDatabase(min_oligos_per_region=2, write_regions_with_insufficient_oligos=True, dir_output=dir_output)\n",
                        "oligo_database_match.load_database(file_database_oligos_match)\n",
                        "\n",
                        "bowtie_filter = Bowtie2Filter(bowtie2_search_parameters, dir_output=dir_output)\n",
                        "res = bowtie_filter.apply(sequence_type, oligo_database_match, 2, reference_database)\n",
                        "\n",
                        "assert \"WASH7P::1\" not in res.database[\"WASH7P\"].keys(), \"A matching oligo has not been filtered by Bowtie2!\""
                  ]
            },
            {
                  "cell_type": "code",
                  "execution_count": null,
                  "metadata": {},
                  "outputs": [],
                  "source": [
                        "sequence_type = \"target\"\n",
                        "\n",
                        "oligo_database_nomatch = OligoDatabase(min_oligos_per_region=2, write_regions_with_insufficient_oligos=True, dir_output=dir_output)\n",
                        "oligo_database_nomatch.load_database(file_database_oligos_nomatch)\n",
                        "\n",
                        "bowtie_filter = Bowtie2Filter(bowtie2_search_parameters, dir_output=dir_output)\n",
                        "res = bowtie_filter.apply(sequence_type, oligo_database_nomatch, 2, reference_database)\n",
                        "\n",
                        "assert \"AGRN::1\" in res.database[\"AGRN\"].keys(), \"A non matching oligo has been filtered by Bowtie2!\""
                  ]
            },
            {
                  "cell_type": "markdown",
                  "metadata": {},
                  "source": [
                        "## Test Crosshybridization Filter"
                  ]
            },
            {
                  "cell_type": "code",
                  "execution_count": null,
                  "metadata": {},
                  "outputs": [
                        {
                              "name": "stderr",
                              "output_type": "stream",
                              "text": [
                                    "/Users/lisa.barros/Desktop/oligo-designer-toolsuite/oligo_designer_toolsuite/database/_reference_database.py:88: UserWarning: Overwriting database!\n",
                                    "  warnings.warn(\"Overwriting database!\")\n"
                              ]
                        }
                  ],
                  "source": [
                        "exactmatch_filter = ExactMatchFilter()\n",
                        "policy = RemoveByLargerRegionPolicy()\n",
                        "\n",
                        "sequence_type = \"oligo\"\n",
                        "\n",
                        "oligo_database_exact_match = OligoDatabase(min_oligos_per_region=2, write_regions_with_insufficient_oligos=True, dir_output=dir_output)\n",
                        "oligo_database_exact_match.load_database(file_database_oligos_exact_match)\n",
                        "\n",
                        "cross_hyb_filter = CrossHybridizationFilter(policy, exactmatch_filter, dir_output)\n",
                        "res = cross_hyb_filter.apply(sequence_type, oligo_database_exact_match, 2)\n",
                        "\n",
                        "assert \"WASH7P::1\" not in res.database[\"WASH7P\"].keys(), \"A non matching oligo has been filtered by exact matches!\"\n",
                        "assert \"WASH7P::3\" not in res.database[\"WASH7P\"].keys(), \"A matching oligo has not been filtered by exact mathces!\"\n",
                        "assert \"AGRN::1\" in res.database[\"AGRN\"].keys(), \"A non matching oligo has been filtered by exact matches!\"\n"
                  ]
            },
            {
                  "cell_type": "code",
                  "execution_count": null,
                  "metadata": {},
                  "outputs": [
                        {
                              "name": "stderr",
                              "output_type": "stream",
                              "text": [
                                    "/Users/lisa.barros/Desktop/oligo-designer-toolsuite/oligo_designer_toolsuite/database/_reference_database.py:88: UserWarning: Overwriting database!\n",
                                    "  warnings.warn(\"Overwriting database!\")\n"
                              ]
                        }
                  ],
                  "source": [
                        "blast_filter = BlastNFilter(blast_search_parameters_crosshyb, blast_hit_parameters_crosshyb, dir_output=dir_output)\n",
                        "policy = RemoveByLargerRegionPolicy()\n",
                        "\n",
                        "sequence_type = \"oligo\"\n",
                        "\n",
                        "oligo_database_crosshyb = OligoDatabase(min_oligos_per_region=2, write_regions_with_insufficient_oligos=True, dir_output=dir_output)\n",
                        "oligo_database_crosshyb.load_database(file_database_oligos_crosshyb)\n",
                        "\n",
                        "cross_hyb_filter = CrossHybridizationFilter(policy, blast_filter, dir_output)\n",
                        "res = cross_hyb_filter.apply(sequence_type, oligo_database_crosshyb, 2)\n",
                        "\n",
                        "filtered_oligos = {key: {key_2 for key_2 in list(res.database[key].keys())} for key in list(res.database.keys())}\n",
                        "assert expected_oligos_bigger_region == filtered_oligos, f\"The cross-hybridization filter didn't return the expected oligos. Expected: {expected_oligos_bigger_region} Got: {filtered_oligos}\""
                  ]
            },
            {
                  "cell_type": "code",
                  "execution_count": null,
                  "metadata": {},
                  "outputs": [
                        {
                              "name": "stderr",
                              "output_type": "stream",
                              "text": [
                                    "/Users/lisa.barros/Desktop/oligo-designer-toolsuite/oligo_designer_toolsuite/database/_reference_database.py:88: UserWarning: Overwriting database!\n",
                                    "  warnings.warn(\"Overwriting database!\")\n"
                              ]
                        }
                  ],
                  "source": [
                        "blast_filter = BlastNFilter(blast_search_parameters_crosshyb, blast_hit_parameters_crosshyb, dir_output=dir_output)\n",
                        "policy = RemoveByDegreePolicy()\n",
                        "\n",
                        "sequence_type = \"oligo\"\n",
                        "\n",
                        "oligo_database_crosshyb = OligoDatabase(min_oligos_per_region=2, write_regions_with_insufficient_oligos=True, dir_output=dir_output)\n",
                        "oligo_database_crosshyb.load_database(file_database_oligos_crosshyb)\n",
                        "\n",
                        "cross_hyb_filter = CrossHybridizationFilter(policy, blast_filter, dir_output)\n",
                        "res = cross_hyb_filter.apply(sequence_type, oligo_database_crosshyb, 2)\n",
                        "\n",
                        "filtered_oligos = {key: {key_2 for key_2 in list(res.database[key].keys())} for key in list(res.database.keys())}\n",
                        "assert expected_oligos_degree == filtered_oligos, f\"The cross-hybridization filter didn't return the expected oligos. Expected: {expected_oligos_degree} Got: {filtered_oligos}\""
                  ]
            },
            {
                  "cell_type": "code",
                  "execution_count": null,
                  "metadata": {},
                  "outputs": [
                        {
                              "name": "stderr",
                              "output_type": "stream",
                              "text": [
                                    "/Users/lisa.barros/Desktop/oligo-designer-toolsuite/oligo_designer_toolsuite/database/_reference_database.py:88: UserWarning: Overwriting database!\n",
                                    "  warnings.warn(\"Overwriting database!\")\n"
                              ]
                        },
                        {
                              "name": "stderr",
                              "output_type": "stream",
                              "text": [
                                    "# reads processed: 8\n",
                                    "# reads with at least one alignment: 4 (50.00%)\n",
                                    "# reads that failed to align: 4 (50.00%)\n",
                                    "Reported 4 alignments\n",
                                    "# reads processed: 7\n",
                                    "# reads with at least one alignment: 2 (28.57%)\n",
                                    "# reads that failed to align: 5 (71.43%)\n",
                                    "Reported 2 alignments\n",
                                    "# reads processed: 5\n",
                                    "# reads with at least one alignment: 3 (60.00%)\n",
                                    "# reads that failed to align: 2 (40.00%)\n",
                                    "Reported 4 alignments\n"
                              ]
                        }
                  ],
                  "source": [
                        "bowtie_filter = BowtieFilter(bowtie_search_parameters_crosshyb, dir_output=dir_output)\n",
                        "policy = RemoveByLargerRegionPolicy()\n",
                        "\n",
                        "sequence_type = \"oligo\"\n",
                        "\n",
                        "oligo_database_crosshyb = OligoDatabase(min_oligos_per_region=2, write_regions_with_insufficient_oligos=True, dir_output=dir_output)\n",
                        "oligo_database_crosshyb.load_database(file_database_oligos_crosshyb)\n",
                        "\n",
                        "cross_hyb_filter = CrossHybridizationFilter(policy, bowtie_filter, dir_output)\n",
                        "res = cross_hyb_filter.apply(sequence_type, oligo_database_crosshyb, 2)\n",
                        "\n",
                        "filtered_oligos = {key: {key_2 for key_2 in list(res.database[key].keys())} for key in list(res.database.keys())}\n",
                        "assert expected_oligos_bigger_region == filtered_oligos, f\"The cross-hybridization filter didn't return the expected oligos. Expected: {expected_oligos_bigger_region} Got: {filtered_oligos}\""
                  ]
            },
            {
                  "cell_type": "code",
                  "execution_count": null,
                  "metadata": {},
                  "outputs": [
                        {
                              "name": "stderr",
                              "output_type": "stream",
                              "text": [
                                    "/Users/lisa.barros/Desktop/oligo-designer-toolsuite/oligo_designer_toolsuite/database/_reference_database.py:88: UserWarning: Overwriting database!\n",
                                    "  warnings.warn(\"Overwriting database!\")\n"
                              ]
                        },
                        {
                              "name": "stderr",
                              "output_type": "stream",
                              "text": [
                                    "# reads processed: 8\n",
                                    "# reads with at least one alignment: 4 (50.00%)\n",
                                    "# reads that failed to align: 4 (50.00%)\n",
                                    "Reported 4 alignments\n",
                                    "# reads processed: 7\n",
                                    "# reads with at least one alignment: 2 (28.57%)\n",
                                    "# reads that failed to align: 5 (71.43%)\n",
                                    "Reported 2 alignments\n",
                                    "# reads processed: 5\n",
                                    "# reads with at least one alignment: 3 (60.00%)\n",
                                    "# reads that failed to align: 2 (40.00%)\n",
                                    "Reported 4 alignments\n"
                              ]
                        }
                  ],
                  "source": [
                        "bowtie_filter = BowtieFilter(bowtie_search_parameters_crosshyb, dir_output=dir_output)\n",
                        "policy = RemoveByDegreePolicy()\n",
                        "\n",
                        "sequence_type = \"oligo\"\n",
                        "\n",
                        "oligo_database_crosshyb = OligoDatabase(min_oligos_per_region=2, write_regions_with_insufficient_oligos=True, dir_output=dir_output)\n",
                        "oligo_database_crosshyb.load_database(file_database_oligos_crosshyb)\n",
                        "\n",
                        "cross_hyb_filter = CrossHybridizationFilter(policy, bowtie_filter, dir_output)\n",
                        "res = cross_hyb_filter.apply(sequence_type, oligo_database_crosshyb, 2)\n",
                        "\n",
                        "filtered_oligos = {key: {key_2 for key_2 in list(res.database[key].keys())} for key in list(res.database.keys())}\n",
                        "assert expected_oligos_degree == filtered_oligos, f\"The cross-hybridization filter didn't return the expected oligos. Expected: {expected_oligos_degree} Got: {filtered_oligos}\""
                  ]
            },
            {
                  "cell_type": "markdown",
                  "metadata": {},
                  "source": [
                        "## AI FIlters\n",
                        "\n"
                  ]
            },
            {
                  "cell_type": "code",
                  "execution_count": null,
                  "metadata": {},
                  "outputs": [],
                  "source": [
                        "def reverse_complement(sequence):\n",
                        "    nt = {\"A\": \"T\", \"T\": \"A\", \"C\": \"G\", \"G\":'C',\"-\":'-'}\n",
                        "    rc_seqeunce = []\n",
                        "    for n in sequence:\n",
                        "        rc_seqeunce = [nt[n]] + rc_seqeunce\n",
                        "    return \"\".join(rc_seqeunce)"
                  ]
            },
            {
                  "cell_type": "markdown",
                  "metadata": {},
                  "source": [
                        "Test blast in specific scenarious"
                  ]
            },
            {
                  "cell_type": "code",
                  "execution_count": null,
                  "metadata": {},
                  "outputs": [
                        {
                              "name": "stdout",
                              "output_type": "stream",
                              "text": [
                                    "['GCTCGGGCTTGTCCACAGGATGGACCCAGCTGAGCAAGCT', 'AGCTTGCTCAGCTGGGTCCATCCTGTGGACAAGCCCGAGC', 'TACAGGCATGACCCACCATGCCTGGCCAACTTACATTTTT', 'AAAAATGTAAGTTGGCCAGGCATGGTGGGTCATGCCTGTA', 'AAGGCCAAGGTCTCTGGGGGGCTGGACAAGCCGCCCTCAT', 'ATGAGGGCGGCTTGTCCAGCCCCCCAGAGACCTTGGCCTT', 'TTTTGCACCAGCCCAGATCGCATCTTCTTTCACCTGTTTT', 'AAAACAGGTGAAAGAAGATGCGATCTGGGCTGGTGCAAAA', 'CCGCTCGGCTGCATGAAACCAAAACGGCTGTCCGGGGACA', 'TGTCCCCGGACAGCCGTTTTGGTTTCATGCAGCCGAGCGG', 'AACCCGGCATCACCAAGAGGAGGTTCAAGGGAACGCTGCA', 'TGCAGCGTTCCCTTGAACCTCCTCTTGGTGATGCCGGGTT', 'TGCCCGCGCCGGAGTTCTCCCCAGCCGGAGTCCGGCAGGG', 'CCCTGCCGGACTCCGGCTGGGGAGAACTCCGGCGCGGGCA', 'AACCTGGTTGCACCTCGGCCTGGTCCCAGCAGGTATGGTT', 'AACCATACCTGCTGGGACCAGGCCGAGGTGCAACCAGGTT', 'ACTGATTGCTGCAGACGCTCACCCCAGACACTCACTGCAC', 'GTGCAGTGAGTGTCTGGGGTGAGCGTCTGCAGCAATCAGT', 'TATATATTTTGCACACTTTAAAATATTGGGTTGTTTACCG', 'CGGTAAACAACCCAATATTTTAAAGTGTGCAAAATATATA']\n",
                                    "[Seq('GCTCGGGCTTGTCCACAGGATGGACCCAGCTGAGCAAGCT'), Seq('AGCTTGCTCAGCTGGGTCCATCCTGTGGACAAGCCCGAGC'), Seq('TACAGGCATGAGCCACCATGCCTGGCCAACTCACATTTTT'), Seq('AAAAATGTGAGTTGGCCAGGCATGGTGGCTCATGCCTGTA'), Seq('AAGGCCGGGGTCTCTGGGGGGCTGGAGAAGCCTCCCTCAT'), Seq('ATGAGGGAGGCTTCTCCAGCCCCCCAGAGACCCCGGCCTT'), Seq('AGCAGCACCAGCCCAGATCGCATCTTCTTTCACCTGAACG'), Seq('CGTTCAGGTGAAAGAAGATGCGATCTGGGCTGGTGCTGCT'), Seq('CCGCTACCGGCTGCATGACAACCAAAACGGCTGGTCCGGGGACA'), Seq('TGTCCCCGGACCAGCCGTTTTGGTTGTCATGCAGCCGGTAGCGG'), Seq('AACCCCATCACCAAGAGGAGGTTCAGGGAAGCTGCA'), Seq('TGCAGCTTCCCTGAACCTCCTCTTGGTGATGGGGTT'), Seq('TGCCCGCGCCGGAGTTCTCCCCGGAGCCGGAGTCCGGCAGGG'), Seq('CCCTGCCGGACTCCGGCTCCGGGGAGAACTCCGGCGCGGGCA'), Seq('TCCCTGGGCACCTCGGCCTGGTCCCAGCAGGTATGGGC'), Seq('GCCCATACCTGCTGGGACCAGGCCGAGGTGCCCAGGGA'), Seq('----ATTGCTGCAGACGCTCACCCCAGACACTCACTGCAC'), Seq('GTGCAGTGAGTGTCTGGGGTGAGCGTCTGCAGCAAT----'), Seq('TATATATTTTGCACACTTTAAAATATTGGGTTGTTT----'), Seq('----AAACAACCCAATATTTTAAAGTGTGCAAAATATATA')]\n",
                                    "CCGCT-CGGCTGCATGAAACCAAAACGGCTGTCCGGGGACA\n",
                                    "CCGCT--CGGCTGCATGAAACCAAAACGGCTGTCCGGGGACA\n",
                                    "CCGCT--CGGCTGCATGA-AACCAAAACGGCTGTCCGGGGACA\n",
                                    "CCGCT--CGGCTGCATGA-AACCAAAACGGCTG-TCCGGGGACA\n",
                                    "TGTCCCCGGA-CAGCCGTTTTGGTTTCATGCAGCCGAGCGG\n",
                                    "TGTCCCCGGA-CAGCCGTTTTGGTT-TCATGCAGCCGAGCGG\n",
                                    "TGTCCCCGGA-CAGCCGTTTTGGTT-TCATGCAGCCG-AGCGG\n",
                                    "TGTCCCCGGA-CAGCCGTTTTGGTT-TCATGCAGCCG--AGCGG\n",
                                    "TGCCCGCGCCGGAGTTCTCCCC-AGCCGGAGTCCGGCAGGG\n",
                                    "TGCCCGCGCCGGAGTTCTCCCC--AGCCGGAGTCCGGCAGGG\n",
                                    "CCCTGCCGGACTCCGGCT-GGGGAGAACTCCGGCGCGGGCA\n",
                                    "CCCTGCCGGACTCCGGCT--GGGGAGAACTCCGGCGCGGGCA\n",
                                    "AACCC-CATCACCAAGAGGAGGTTCAGGGAAGCTGCA\n",
                                    "AACCC--CATCACCAAGAGGAGGTTCAGGGAAGCTGCA\n",
                                    "AACCC--CATCACCAAGAGGAGGTTCA-GGGAAGCTGCA\n",
                                    "AACCC--CATCACCAAGAGGAGGTTCA-GGGAA-GCTGCA\n",
                                    "TGCAGC-TTCCCTGAACCTCCTCTTGGTGATGGGGTT\n",
                                    "TGCAGC-TTCCC-TGAACCTCCTCTTGGTGATGGGGTT\n",
                                    "TGCAGC-TTCCC-TGAACCTCCTCTTGGTGATG-GGGTT\n",
                                    "TGCAGC-TTCCC-TGAACCTCCTCTTGGTGATG--GGGTT\n",
                                    "TCCCTGG-GCACCTCGGCCTGGTCCCAGCAGGTATGGGC\n",
                                    "TCCCTGG--GCACCTCGGCCTGGTCCCAGCAGGTATGGGC\n",
                                    "GCCCATACCTGCTGGGACCAGGCCGAGGTGC-CCAGGGA\n",
                                    "GCCCATACCTGCTGGGACCAGGCCGAGGTGC--CCAGGGA\n",
                                    "['GCTCGGGCTTGTCCACAGGATGGACCCAGCTGAGCAAGCT', 'AGCTTGCTCAGCTGGGTCCATCCTGTGGACAAGCCCGAGC', 'TACAGGCATGACCCACCATGCCTGGCCAACTTACATTTTT', 'AAAAATGTAAGTTGGCCAGGCATGGTGGGTCATGCCTGTA', 'AAGGCCAAGGTCTCTGGGGGGCTGGACAAGCCGCCCTCAT', 'ATGAGGGCGGCTTGTCCAGCCCCCCAGAGACCTTGGCCTT', 'TTTTGCACCAGCCCAGATCGCATCTTCTTTCACCTGTTTT', 'AAAACAGGTGAAAGAAGATGCGATCTGGGCTGGTGCAAAA', 'CCGCT--CGGCTGCATGA-AACCAAAACGGCTG-TCCGGGGACA', 'TGTCCCCGGA-CAGCCGTTTTGGTT-TCATGCAGCCG--AGCGG', 'AACCCGGCATCACCAAGAGGAGGTTCAAGGGAACGCTGCA', 'TGCAGCGTTCCCTTGAACCTCCTCTTGGTGATGCCGGGTT', 'TGCCCGCGCCGGAGTTCTCCCC--AGCCGGAGTCCGGCAGGG', 'CCCTGCCGGACTCCGGCT--GGGGAGAACTCCGGCGCGGGCA', 'AACCTGGTTGCACCTCGGCCTGGTCCCAGCAGGTATGGTT', 'AACCATACCTGCTGGGACCAGGCCGAGGTGCAACCAGGTT', 'ACTGATTGCTGCAGACGCTCACCCCAGACACTCACTGCAC', 'GTGCAGTGAGTGTCTGGGGTGAGCGTCTGCAGCAATCAGT', 'TATATATTTTGCACACTTTAAAATATTGGGTTGTTTACCG', 'CGGTAAACAACCCAATATTTTAAAGTGTGCAAAATATATA']\n",
                                    "[Seq('GCTCGGGCTTGTCCACAGGATGGACCCAGCTGAGCAAGCT'), Seq('AGCTTGCTCAGCTGGGTCCATCCTGTGGACAAGCCCGAGC'), Seq('TACAGGCATGAGCCACCATGCCTGGCCAACTCACATTTTT'), Seq('AAAAATGTGAGTTGGCCAGGCATGGTGGCTCATGCCTGTA'), Seq('AAGGCCGGGGTCTCTGGGGGGCTGGAGAAGCCTCCCTCAT'), Seq('ATGAGGGAGGCTTCTCCAGCCCCCCAGAGACCCCGGCCTT'), Seq('AGCAGCACCAGCCCAGATCGCATCTTCTTTCACCTGAACG'), Seq('CGTTCAGGTGAAAGAAGATGCGATCTGGGCTGGTGCTGCT'), Seq('CCGCTACCGGCTGCATGACAACCAAAACGGCTGGTCCGGGGACA'), Seq('TGTCCCCGGACCAGCCGTTTTGGTTGTCATGCAGCCGGTAGCGG'), Seq('AACCC--CATCACCAAGAGGAGGTTCA-GGGAA-GCTGCA'), Seq('TGCAGC-TTCCC-TGAACCTCCTCTTGGTGATG--GGGTT'), Seq('TGCCCGCGCCGGAGTTCTCCCCGGAGCCGGAGTCCGGCAGGG'), Seq('CCCTGCCGGACTCCGGCTCCGGGGAGAACTCCGGCGCGGGCA'), Seq('TCCCTGG--GCACCTCGGCCTGGTCCCAGCAGGTATGGGC'), Seq('GCCCATACCTGCTGGGACCAGGCCGAGGTGC--CCAGGGA'), Seq('----ATTGCTGCAGACGCTCACCCCAGACACTCACTGCAC'), Seq('GTGCAGTGAGTGTCTGGGGTGAGCGTCTGCAGCAAT----'), Seq('TATATATTTTGCACACTTTAAAATATTGGGTTGTTT----'), Seq('----AAACAACCCAATATTTTAAAGTGTGCAAAATATATA')]\n",
                                    "{'region': {}}\n"
                              ]
                        }
                  ],
                  "source": [
                        "blast_search_parameters = {\"perc_identity\": 80, \"strand\": \"both\", \"word_size\": 10}\n",
                        "\n",
                        "# define the seqeunces\n",
                        "sequences = [\n",
                        "    \"GCTCGGGCTTGTCCACAGGATGGACCCAGCTGAGCAAGCT\", #100% match\n",
                        "    \"TACAGGCATGACCCACCATGCCTGGCCAACTTACATTTTT\", #2 mismatches\n",
                        "    \"AAGGCCAAGGTCTCTGGGGGGCTGGACAAGCCGCCCTCAT\",  #90% mismatches\n",
                        "    \"TTTTGCACCAGCCCAGATCGCATCTTCTTTCACCTGTTTT\",  #80% coverage\n",
                        "    \"CCGCTCGGCTGCATGAAACCAAAACGGCTGTCCGGGGACA\", #gaps on the target \n",
                        "    \"AACCCGGCATCACCAAGAGGAGGTTCAAGGGAACGCTGCA\", #gaps on reference\n",
                        "    \"TGCCCGCGCCGGAGTTCTCCCCAGCCGGAGTCCGGCAGGG\", #gaps on the target, 80% cov\n",
                        "    \"AACCTGGTTGCACCTCGGCCTGGTCCCAGCAGGTATGGTT\", #gaps on reference, 80% cov\n",
                        "    \"ACTGATTGCTGCAGACGCTCACCCCAGACACTCACTGCAC\", #overflow start\n",
                        "    \"TATATATTTTGCACACTTTAAAATATTGGGTTGTTTACCG\" # overflow end\n",
                        "]\n",
                        "refrences = [\n",
                        "    \"GCTCGGGCTTGTCCACAGGATGGACCCAGCTGAGCAAGCT\",  #100% match\n",
                        "    \"TACAGGCATGAGCCACCATGCCTGGCCAACTCACATTTTT\", #2 mismatches\n",
                        "    \"AAGGCCGGGGTCTCTGGGGGGCTGGAGAAGCCTCCCTCAT\",  #90% mismatches\n",
                        "    \"AGCAGCACCAGCCCAGATCGCATCTTCTTTCACCTGAACG\",  #80% coverage\n",
                        "    \"CCGCTACCGGCTGCATGACAACCAAAACGGCTGGTCCGGGGACA\",  #gaps on the target\n",
                        "    \"AACCCCATCACCAAGAGGAGGTTCAGGGAAGCTGCA\", #gaps on reference\n",
                        "    \"TGCCCGCGCCGGAGTTCTCCCCGGAGCCGGAGTCCGGCAGGG\", #gaps on the target, 80% cov\n",
                        "    \"TCCCTGGGCACCTCGGCCTGGTCCCAGCAGGTATGGGC\", #gaps on reference, 80% cov\n",
                        "    \"----ATTGCTGCAGACGCTCACCCCAGACACTCACTGCAC\", #overflow start\n",
                        "    \"TATATATTTTGCACACTTTAAAATATTGGGTTGTTT----\", # oevrflow end\n",
                        "]\n",
                        "gapped_queries = [\n",
                        "    \"GCTCGGGCTTGTCCACAGGATGGACCCAGCTGAGCAAGCT\", #100% match\n",
                        "    \"TACAGGCATGACCCACCATGCCTGGCCAACTTACATTTTT\", #2 mismatches\n",
                        "    \"AAGGCCAAGGTCTCTGGGGGGCTGGACAAGCCGCCCTCAT\",  #90% mismatches\n",
                        "    \"TTTTGCACCAGCCCAGATCGCATCTTCTTTCACCTGTTTT\",  #80% coverage\n",
                        "    \"CCGCT--CGGCTGCATGA-AACCAAAACGGCTG-TCCGGGGACA\", #gaps on the target \n",
                        "    \"AACCCGGCATCACCAAGAGGAGGTTCAAGGGAACGCTGCA\", #gaps on reference\n",
                        "    \"TGCCCGCGCCGGAGTTCTCCCC--AGCCGGAGTCCGGCAGGG\", #gaps on the target, 80% cov\n",
                        "    \"AACCTGGTTGCACCTCGGCCTGGTCCCAGCAGGTATGGTT\", #gaps on reference, 80% cov\n",
                        "    \"ACTGATTGCTGCAGACGCTCACCCCAGACACTCACTGCAC\", #overflow start\n",
                        "    \"TATATATTTTGCACACTTTAAAATATTGGGTTGTTTACCG\" # overflow end\n",
                        "]\n",
                        "gapped_references = [\n",
                        "    \"GCTCGGGCTTGTCCACAGGATGGACCCAGCTGAGCAAGCT\",  #100% match\n",
                        "    \"TACAGGCATGAGCCACCATGCCTGGCCAACTCACATTTTT\", #2 mismatches\n",
                        "    \"AAGGCCGGGGTCTCTGGGGGGCTGGAGAAGCCTCCCTCAT\",  #90% mismatches\n",
                        "    \"AGCAGCACCAGCCCAGATCGCATCTTCTTTCACCTGAACG\",  #80% coverage\n",
                        "    \"CCGCTACCGGCTGCATGACAACCAAAACGGCTGGTCCGGGGACA\",  #gaps on the target\n",
                        "    \"AACCC--CATCACCAAGAGGAGGTTCA-GGGAA-GCTGCA\", #gaps on reference\n",
                        "    \"TGCCCGCGCCGGAGTTCTCCCCGGAGCCGGAGTCCGGCAGGG\", #gaps on the target, 80% cov\n",
                        "    \"TCCCTGG--GCACCTCGGCCTGGTCCCAGCAGGTATGGGC\", #gaps on reference, 80% cov\n",
                        "    \"----ATTGCTGCAGACGCTCACCCCAGACACTCACTGCAC\", #overflow start\n",
                        "    \"TATATATTTTGCACACTTTAAAATATTGGGTTGTTT----\" # oevrflow end\n",
                        "]\n",
                        "# define dictionary\n",
                        "dict = {\"region\":{}}\n",
                        "for i, seq in enumerate(sequences):\n",
                        "    #add both the oligo and its reverse complement to search also on the minus strandnd\n",
                        "    dict[\"region\"][f\"region::{2*i}\"] = {\n",
                        "        \"oligo\": reverse_complement(sequences[i]),\n",
                        "        \"target\": sequences[i],\n",
                        "        'chromosome': [None],\n",
                        "        'start': [None],\n",
                        "        'end': [None],\n",
                        "        'strand': [None],\n",
                        "        'regiontype': ['random_sequence']\n",
                        "    }\n",
                        "    dict[\"region\"][f\"region::{2*i + 1}\"] = {\n",
                        "        \"oligo\": sequences[i],\n",
                        "        \"target\": reverse_complement(sequences[i]),\n",
                        "        'chromosome': [None],\n",
                        "        'start': [None],\n",
                        "        'end': [None],\n",
                        "        'strand': [None],\n",
                        "        'regiontype': ['random_sequence']\n",
                        "    }\n",
                        "oligo_database = OligoDatabase()\n",
                        "oligo_database.database = dict\n",
                        "oligo_database.save_database()\n",
                        "blast_filter = BlastNFilter(blast_search_parameters, blast_hit_parameters, dir_output=dir_output)\n",
                        "res = blast_filter.apply(\"target\", oligo_database, 2, reference_database)\n",
                        "print(res.database)\n"
                  ]
            },
            {
                  "cell_type": "markdown",
                  "metadata": {},
                  "source": [
                        "Test bowtie in specific scenarious"
                  ]
            },
            {
                  "cell_type": "code",
                  "execution_count": null,
                  "metadata": {},
                  "outputs": [
                        {
                              "name": "stdout",
                              "output_type": "stream",
                              "text": [
                                    "['GCTCGGGCTTGTCCACAGGATGGACCCAGCTGAGCAAGCT', 'AGCTTGCTCAGCTGGGTCCATCCTGTGGACAAGCCCGAGC', 'TACAGGCATGACCCACCATGCCTGGCCAACTTACATTTTT', 'AAAAATGTAAGTTGGCCAGGCATGGTGGGTCATGCCTGTA']\n",
                                    "[Seq('GCTCGGGCTTGTCCACAGGATGGACCCAGCTGAGCAAGCT'), Seq('AGCTTGCTCAGCTGGGTCCATCCTGTGGACAAGCCCGAGC'), Seq('TACAGGCATGAGCCACCATGCCTGGCCAACTCACATTTTT'), Seq('AAAAATGTGAGTTGGCCAGGCATGGTGGCTCATGCCTGTA')]\n",
                                    "['GCTCGGGCTTGTCCACAGGATGGACCCAGCTGAGCAAGCT', 'AGCTTGCTCAGCTGGGTCCATCCTGTGGACAAGCCCGAGC', 'TACAGGCATGACCCACCATGCCTGGCCAACTTACATTTTT', 'AAAAATGTAAGTTGGCCAGGCATGGTGGGTCATGCCTGTA']\n",
                                    "[Seq('GCTCGGGCTTGTCCACAGGATGGACCCAGCTGAGCAAGCT'), Seq('AGCTTGCTCAGCTGGGTCCATCCTGTGGACAAGCCCGAGC'), Seq('TACAGGCATGAGCCACCATGCCTGGCCAACTCACATTTTT'), Seq('AAAAATGTGAGTTGGCCAGGCATGGTGGCTCATGCCTGTA')]\n",
                                    "{'region': {'region::4': {'oligo': 'ATGAGGGCGGCTTGTCCAGCCCCCCAGAGACCTTGGCCTT', 'target': 'AAGGCCAAGGTCTCTGGGGGGCTGGACAAGCCGCCCTCAT', 'chromosome': [None], 'start': [None], 'end': [None], 'strand': [None], 'regiontype': ['random_sequence']}, 'region::5': {'oligo': 'AAGGCCAAGGTCTCTGGGGGGCTGGACAAGCCGCCCTCAT', 'target': 'ATGAGGGCGGCTTGTCCAGCCCCCCAGAGACCTTGGCCTT', 'chromosome': [None], 'start': [None], 'end': [None], 'strand': [None], 'regiontype': ['random_sequence']}, 'region::6': {'oligo': 'AAAACAGGTGAAAGAAGATGCGATCTGGGCTGGTGCAAAA', 'target': 'TTTTGCACCAGCCCAGATCGCATCTTCTTTCACCTGTTTT', 'chromosome': [None], 'start': [None], 'end': [None], 'strand': [None], 'regiontype': ['random_sequence']}, 'region::7': {'oligo': 'TTTTGCACCAGCCCAGATCGCATCTTCTTTCACCTGTTTT', 'target': 'AAAACAGGTGAAAGAAGATGCGATCTGGGCTGGTGCAAAA', 'chromosome': [None], 'start': [None], 'end': [None], 'strand': [None], 'regiontype': ['random_sequence']}, 'region::8': {'oligo': 'TGTCCCCGGACAGCCGTTTTGGTTTCATGCAGCCGAGCGG', 'target': 'CCGCTCGGCTGCATGAAACCAAAACGGCTGTCCGGGGACA', 'chromosome': [None], 'start': [None], 'end': [None], 'strand': [None], 'regiontype': ['random_sequence']}, 'region::9': {'oligo': 'CCGCTCGGCTGCATGAAACCAAAACGGCTGTCCGGGGACA', 'target': 'TGTCCCCGGACAGCCGTTTTGGTTTCATGCAGCCGAGCGG', 'chromosome': [None], 'start': [None], 'end': [None], 'strand': [None], 'regiontype': ['random_sequence']}, 'region::10': {'oligo': 'TGCAGCGTTCCCTTGAACCTCCTCTTGGTGATGCCGGGTT', 'target': 'AACCCGGCATCACCAAGAGGAGGTTCAAGGGAACGCTGCA', 'chromosome': [None], 'start': [None], 'end': [None], 'strand': [None], 'regiontype': ['random_sequence']}, 'region::11': {'oligo': 'AACCCGGCATCACCAAGAGGAGGTTCAAGGGAACGCTGCA', 'target': 'TGCAGCGTTCCCTTGAACCTCCTCTTGGTGATGCCGGGTT', 'chromosome': [None], 'start': [None], 'end': [None], 'strand': [None], 'regiontype': ['random_sequence']}, 'region::12': {'oligo': 'CCCTGCCGGACTCCGGCTGGGGAGAACTCCGGCGCGGGCA', 'target': 'TGCCCGCGCCGGAGTTCTCCCCAGCCGGAGTCCGGCAGGG', 'chromosome': [None], 'start': [None], 'end': [None], 'strand': [None], 'regiontype': ['random_sequence']}, 'region::13': {'oligo': 'TGCCCGCGCCGGAGTTCTCCCCAGCCGGAGTCCGGCAGGG', 'target': 'CCCTGCCGGACTCCGGCTGGGGAGAACTCCGGCGCGGGCA', 'chromosome': [None], 'start': [None], 'end': [None], 'strand': [None], 'regiontype': ['random_sequence']}, 'region::14': {'oligo': 'AACCATACCTGCTGGGACCAGGCCGAGGTGCAACCAGGTT', 'target': 'AACCTGGTTGCACCTCGGCCTGGTCCCAGCAGGTATGGTT', 'chromosome': [None], 'start': [None], 'end': [None], 'strand': [None], 'regiontype': ['random_sequence']}, 'region::15': {'oligo': 'AACCTGGTTGCACCTCGGCCTGGTCCCAGCAGGTATGGTT', 'target': 'AACCATACCTGCTGGGACCAGGCCGAGGTGCAACCAGGTT', 'chromosome': [None], 'start': [None], 'end': [None], 'strand': [None], 'regiontype': ['random_sequence']}, 'region::16': {'oligo': 'GTGCAGTGAGTGTCTGGGGTGAGCGTCTGCAGCAATCAGT', 'target': 'ACTGATTGCTGCAGACGCTCACCCCAGACACTCACTGCAC', 'chromosome': [None], 'start': [None], 'end': [None], 'strand': [None], 'regiontype': ['random_sequence']}, 'region::17': {'oligo': 'ACTGATTGCTGCAGACGCTCACCCCAGACACTCACTGCAC', 'target': 'GTGCAGTGAGTGTCTGGGGTGAGCGTCTGCAGCAATCAGT', 'chromosome': [None], 'start': [None], 'end': [None], 'strand': [None], 'regiontype': ['random_sequence']}, 'region::18': {'oligo': 'CGGTAAACAACCCAATATTTTAAAGTGTGCAAAATATATA', 'target': 'TATATATTTTGCACACTTTAAAATATTGGGTTGTTTACCG', 'chromosome': [None], 'start': [None], 'end': [None], 'strand': [None], 'regiontype': ['random_sequence']}, 'region::19': {'oligo': 'TATATATTTTGCACACTTTAAAATATTGGGTTGTTTACCG', 'target': 'CGGTAAACAACCCAATATTTTAAAGTGTGCAAAATATATA', 'chromosome': [None], 'start': [None], 'end': [None], 'strand': [None], 'regiontype': ['random_sequence']}}}\n"
                              ]
                        },
                        {
                              "name": "stderr",
                              "output_type": "stream",
                              "text": [
                                    "# reads processed: 20\n",
                                    "# reads with at least one alignment: 4 (20.00%)\n",
                                    "# reads that failed to align: 16 (80.00%)\n",
                                    "Reported 4 alignments\n"
                              ]
                        }
                  ],
                  "source": [
                        "dict = {\"region\":{}}\n",
                        "for i, seq in enumerate(sequences):\n",
                        "    #add both the oligo and its reverse complement to search also on the minus strandnd\n",
                        "    dict[\"region\"][f\"region::{2*i}\"] = {\n",
                        "        \"oligo\": reverse_complement(sequences[i]),\n",
                        "        \"target\": sequences[i],\n",
                        "        'chromosome': [None],\n",
                        "        'start': [None],\n",
                        "        'end': [None],\n",
                        "        'strand': [None],\n",
                        "        'regiontype': ['random_sequence']\n",
                        "    }\n",
                        "    dict[\"region\"][f\"region::{2*i + 1}\"] = {\n",
                        "        \"oligo\": sequences[i],\n",
                        "        \"target\": reverse_complement(sequences[i]),\n",
                        "        'chromosome': [None],\n",
                        "        'start': [None],\n",
                        "        'end': [None],\n",
                        "        'strand': [None],\n",
                        "        'regiontype': ['random_sequence']\n",
                        "    }\n",
                        "oligo_database = OligoDatabase()\n",
                        "oligo_database.database = dict\n",
                        "bowtie_filter = BowtieFilter(bowtie_search_parameters, dir_output=dir_output)\n",
                        "res = bowtie_filter.apply(\"target\", oligo_database, 2, reference_database)\n",
                        "print(res.database)"
                  ]
            },
            {
                  "cell_type": "code",
                  "execution_count": null,
                  "metadata": {},
                  "outputs": [
                        {
                              "name": "stdout",
                              "output_type": "stream",
                              "text": [
                                    "[Seq('GCTCGGGCTTGTCCACAGGATGGACCCAGCTGAGCAAGCT'), Seq('AGCTTGCTCAGCTGGGTCCATCCTGTGGACAAGCCCGAGC'), Seq('AAGGCCAAGGTCTCTGGGGGGCTGGACAAGCCGCCCTCAT'), Seq('ATGAGGGCGGCTTGTCCAGCCCCCCAGAGACCTTGGCCTT'), Seq('TTTTGCACCAGCCCAGATCGCATCTTCTTTCACCTGTTTT'), Seq('AAAACAGGTGAAAGAAGATGCGATCTGGGCTGGTGCAAAA'), Seq('CCGCTCGGCTGCATGAAACCAAAACGGCTGTCCGGGGACA'), Seq('TGTCCCCGGACAGCCGTTTTGGTTTCATGCAGCCGAGCGG'), Seq('AACCCGGCATCACCAAGAGGAGGTTCAAGGGAACGCTGCA'), Seq('TGCAGCGTTCCCTTGAACCTCCTCTTGGTGATGCCGGGTT'), Seq('TGCCCGCGCCGGAGTTCTCCCCAGCCGGAGTCCGGCAGGG'), Seq('CCCTGCCGGACTCCGGCTGGGGAGAACTCCGGCGCGGGCA'), Seq('AACCTGGTTGCACCTCGGCCTGGTCCCAGCAGGTATGGTT'), Seq('AACCATACCTGCTGGGACCAGGCCGAGGTGCAACCAGGTT'), Seq('ACTGATTGCTGCAGACGCTCACCCCAGACACTCACTGCAC'), Seq('GTGCAGTGAGTGTCTGGGGTGAGCGTCTGCAGCAATCAGT'), Seq('TATATATTTTGCACACTTTAAAATATTGGGTTGTTTACCG'), Seq('CGGTAAACAACCCAATATTTTAAAGTGTGCAAAATATATA')]\n"
                              ]
                        }
                  ],
                  "source": [
                        "from Bio.Seq import Seq\n",
                        "list_to_change = sequences\n",
                        "new_list = []\n",
                        "for elem in list_to_change:\n",
                        "    new_list.append(Seq(elem))\n",
                        "    new_list.append(Seq(reverse_complement(elem)))\n",
                        "print(new_list)"
                  ]
            },
            {
                  "cell_type": "code",
                  "execution_count": 7,
                  "metadata": {},
                  "outputs": [
                        {
                              "name": "stderr",
                              "output_type": "stream",
                              "text": [
                                    "/Users/francesco/Documents/Work/Oligo/oligo-designer-toolsuite/oligo_designer_toolsuite/database/_reference_database.py:89: UserWarning: Overwriting database!\n",
                                    "  warnings.warn(\"Overwriting database!\")\n"
                              ]
                        },
                        {
                              "name": "stdout",
                              "output_type": "stream",
                              "text": [
                                    "[         query    reference  ...  reference_region_id  min_alignment_length\n",
                                    "0    region::0  NM_130786.4  ...          NM_130786.4                  20.0\n",
                                    "1    region::1  NM_130786.4  ...          NM_130786.4                  20.0\n",
                                    "2    region::2  NM_130786.4  ...          NM_130786.4                  20.0\n",
                                    "4    region::3  NM_130786.4  ...          NM_130786.4                  20.0\n",
                                    "6    region::4  NM_130786.4  ...          NM_130786.4                  20.0\n",
                                    "8    region::5  NM_130786.4  ...          NM_130786.4                  20.0\n",
                                    "10   region::6  NM_130786.4  ...          NM_130786.4                  20.0\n",
                                    "12   region::7  NM_130786.4  ...          NM_130786.4                  20.0\n",
                                    "14   region::8  NM_130786.4  ...          NM_130786.4                  20.0\n",
                                    "15   region::9  NM_130786.4  ...          NM_130786.4                  20.0\n",
                                    "16  region::10  NM_130786.4  ...          NM_130786.4                  20.0\n",
                                    "17  region::11  NM_130786.4  ...          NM_130786.4                  20.0\n",
                                    "18  region::12  NM_130786.4  ...          NM_130786.4                  20.0\n",
                                    "19  region::13  NM_130786.4  ...          NM_130786.4                  20.0\n",
                                    "20  region::14  NM_130786.4  ...          NM_130786.4                  20.0\n",
                                    "21  region::15  NM_130786.4  ...          NM_130786.4                  20.0\n",
                                    "22  region::16  NM_130786.4  ...          NM_130786.4                  20.0\n",
                                    "23  region::17  NM_130786.4  ...          NM_130786.4                  20.0\n",
                                    "24  region::18  NM_130786.4  ...          NM_130786.4                  20.0\n",
                                    "25  region::19  NM_130786.4  ...          NM_130786.4                  20.0\n",
                                    "\n",
                                    "[20 rows x 14 columns]]\n",
                                    "[1. 1. 0. 0. 0. 0. 0. 0. 0. 0. 0. 0. 0. 0. 0. 0. 0. 0. 0. 0.]\n"
                              ]
                        }
                  ],
                  "source": [
                        "from oligo_designer_toolsuite.oligo_specificity_filter import HybridizationProbabilityFilter\n",
                        "from oligo_designer_toolsuite_ai_filters.api import APIBase\n",
                        "import numpy as np\n",
                        "import pandas as pd\n",
                        "\n",
                        "FILE_DATABASE_REFERENCE = \"../../data/tests/databases/database_reference.fna\"\n",
                        "FILE_DATABASE_OLIGOS_AI = \"../../data/tests/databases/database_oligos_ai.tsv\"\n",
                        "FILE_TABLE_HITS_BLAST_AI = \"../../data/tests/table_hits/table_hits_blast_ai.tsv\"\n",
                        "FILE_TABLE_HITS_BOWTIE_AI = \"../../data/tests/table_hits/table_hits_bowtie_ai.tsv\"\n",
                        "\n",
                        "class DummyAPI(APIBase):\n",
                        "    # Class that considers real hits all the hits that have a 100% match\n",
                        "    def predict(self, queries,gapped_queries,references,gapped_references):\n",
                        "        predictions = np.ndarray(shape=(len(queries),), dtype=np.float32)\n",
                        "        for i, (q, r) in enumerate(zip(gapped_queries, gapped_references)):\n",
                        "            if q == r:\n",
                        "                predictions[i] = 1\n",
                        "            else:\n",
                        "                predictions[i] = 0\n",
                        "        return predictions\n",
                        "    \n",
                        "tmp_path = os.path.join(os.getcwd(), \"tmp_hybridization_probability_outputs\")\n",
                        "blast_search_parameters = blast_search_parameters = {\"perc_identity\": 80, \"strand\": \"both\", \"word_size\": 10}\n",
                        "blast_hit_parameters = {\"coverage\": 50}\n",
                        "alignment_filter = BlastNFilter(\n",
                        "    blast_search_parameters=blast_search_parameters, \n",
                        "    blast_hit_parameters=blast_hit_parameters, \n",
                        "    dir_output=tmp_path\n",
                        ")\n",
                        "filter = HybridizationProbabilityFilter(alignment_method=alignment_filter, threshold=0.1)\n",
                        "filter.model = DummyAPI()\n",
                        "database = OligoDatabase(dir_output=tmp_path)\n",
                        "database.load_database(FILE_DATABASE_OLIGOS_AI)\n",
                        "reference_database = ReferenceDatabase(dir_output=tmp_path)\n",
                        "reference_database.load_sequences_from_fasta(file_fasta=FILE_DATABASE_REFERENCE, database_overwrite=True)\n",
                        "table_hits = pd.read_csv(FILE_TABLE_HITS_BLAST_AI, sep=\"\\t\")\n",
                        "sequence_type = \"target\"\n",
                        "region_id = \"region\"\n",
                        "\n",
                        "filtered_database = filter.apply(\n",
                        "    sequence_type=sequence_type,\n",
                        "    oligo_database=database,\n",
                        "    n_jobs=2,\n",
                        "    reference_database=reference_database,\n",
                        ")\n",
                        "returned_oligos = set(filtered_database.database[\"region\"].keys())\n",
                        "expected_oligos = set(f\"region::{i}\" for i in range(2, 20))\n",
                        "\n",
                        "assert returned_oligos == expected_oligos, f\"The Blast ai filter didn't return the expected oligos. \\n\\nExpected:\\n{expected_oligos}\\n\\nGot:\\n{returned_oligos}\"\n"
                  ]
            }
      ],
      "metadata": {
            "kernelspec": {
                  "display_name": "Python 3",
                  "language": "python",
                  "name": "python3"
            },
            "language_info": {
                  "codemirror_mode": {
                        "name": "ipython",
                        "version": 3
                  },
                  "file_extension": ".py",
                  "mimetype": "text/x-python",
                  "name": "python",
                  "nbconvert_exporter": "python",
                  "pygments_lexer": "ipython3",
                  "version": "3.10.13"
            },
            "orig_nbformat": 4,
            "vscode": {
                  "interpreter": {
                        "hash": "aee8b7b246df8f9039afb4144a1f6fd8d2ca17a180786b69acc140d282b71a49"
                  }
            }
      },
      "nbformat": 4,
      "nbformat_minor": 2
}