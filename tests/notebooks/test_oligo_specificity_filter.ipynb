{
      "cells": [
            {
                  "cell_type": "markdown",
                  "metadata": {},
                  "source": [
                        "# Test Specificity Filters"
                  ]
            },
            {
                  "cell_type": "code",
                  "execution_count": null,
                  "metadata": {},
                  "outputs": [],
                  "source": [
                        "import os\n",
                        "from pathlib import Path\n",
                        "\n",
                        "from oligo_designer_toolsuite.database import OligoDatabase, ReferenceDatabase\n",
                        "from oligo_designer_toolsuite.oligo_specificity_filter import (\n",
                        "    ExactMatchFilter, \n",
                        "    BlastNFilter, \n",
                        "    BlastNSeedregionFilter, \n",
                        "    BlastNSeedregionSiteFilter, \n",
                        "    BowtieFilter, \n",
                        "    Bowtie2Filter, \n",
                        "    CrossHybridizationFilter, \n",
                        "    RemoveByLargerRegionPolicy, \n",
                        "    RemoveByDegreePolicy, \n",
                        "    VariantsFilter,\n",
                        "    )"
                  ]
            },
            {
                  "cell_type": "markdown",
                  "metadata": {},
                  "source": [
                        "## Setup"
                  ]
            },
            {
                  "cell_type": "code",
                  "execution_count": null,
                  "metadata": {},
                  "outputs": [],
                  "source": [
                        "# Output directory\n",
                        "dir_output = os.path.join(os.path.dirname(os.getcwd()), 'notebooks/output')\n",
                        "Path(dir_output).mkdir(parents=True, exist_ok=True)"
                  ]
            },
            {
                  "cell_type": "code",
                  "execution_count": null,
                  "metadata": {},
                  "outputs": [],
                  "source": [
                        "# Files\n",
                        "file_database_oligos_exact_match = \"../data/databases/database_oligos_tsv/database_oligos_exactmatch.tsv\"\n",
                        "file_database_oligos_match = \"../data/databases/database_oligos_tsv/database_oligos_match.tsv\"\n",
                        "file_database_oligos_nomatch = \"../data/databases/database_oligos_tsv/database_oligos_nomatch.tsv\"\n",
                        "\n",
                        "file_database_oligos_ligation_match = \"../data/databases/database_oligos_tsv/database_oligos_ligation_match.tsv\"\n",
                        "file_database_oligos_ligation_nomatch = \"../data/databases/database_oligos_tsv/database_oligos_ligation_nomatch.tsv\"\n",
                        "\n",
                        "file_database_oligos_crosshyb = \"../data/databases/database_oligos_tsv/database_oligos_crosshybridization.tsv\"\n",
                        "solutions_larger_region = [f\"../data/databases/expected_results/solution_crosshyb_larger_region_{i}.tsv\" for i in range(3)]\n",
                        "solutions_degree = [f\"../data/databases/expected_results/solution_crosshyb_degree_{i}.tsv\" for i in range(8)]\n",
                        "\n",
                        "file_database_reference = \"../data/databases/database_reference/database_reference.fna\"\n",
                        "file_database_reference_ligation = \"../data/databases/database_reference/database_reference_ligation.fna\"\n",
                        "file_database_reference_variants = \"../data/databases/database_reference/database_reference_variants.vcf\""
                  ]
            },
            {
                  "cell_type": "code",
                  "execution_count": null,
                  "metadata": {},
                  "outputs": [],
                  "source": [
                        "# Metadata\n",
                        "metadata_ncbi = {\n",
                        "    \"files_source\": \"NCBI\",\n",
                        "    \"species\": \"Homo_sapiens\",\n",
                        "    \"annotation_release\": \"110\",\n",
                        "    \"genome_assembly\": \"GRCh38\",\n",
                        "}\n",
                        "\n",
                        "region_ids = [\"AARS1\", \"DECR2\", \"FAM234A\", \"RHBDF1\", \"WASIR2\"]"
                  ]
            },
            {
                  "cell_type": "code",
                  "execution_count": null,
                  "metadata": {},
                  "outputs": [],
                  "source": [
                        "# Blast parameters\n",
                        "blast_search_parameters = {\"perc_identity\": 80, \"strand\": \"plus\", \"word_size\": 10}\n",
                        " \n",
                        "\n",
                        "blast_hit_parameters = {\"coverage\": 50}\n",
                        "blast_hit_parameters_crosshyb = {\"coverage\": 50}\n",
                        "\n",
                        "# Bowtie parameters\n",
                        "bowtie_search_parameters = {\"-n\": 3, \"-l\": 5}\n",
                        "bowtie_search_parameters_crosshyb = {\"-n\": 3, \"-l\": 5, \"--nofw\": \"\"}\n",
                        "\n",
                        "bowtie2_search_parameters = {\"-N\": 0}\n",
                        "\n",
                        "# Parameters Cross-hybridization\n",
                        "blast_search_parameters_crosshyb = {\n",
                        "    \"perc_identity\": 80,\n",
                        "    \"strand\": \"minus\",\n",
                        "    \"word_size\": 10,\n",
                        "}\n"
                  ]
            },
            {
                  "cell_type": "markdown",
                  "metadata": {},
                  "source": [
                        "## Test Exact Match Filter"
                  ]
            },
            {
                  "cell_type": "code",
                  "execution_count": null,
                  "metadata": {},
                  "outputs": [],
                  "source": [
                        "sequence_type = \"oligo\"\n",
                        "\n",
                        "oligo_database_exact_match = OligoDatabase(min_oligos_per_region=2, write_regions_with_insufficient_oligos=True, dir_output=dir_output)\n",
                        "oligo_database_exact_match.load_database_from_table(file_database_oligos_exact_match, database_overwrite=True, merge_databases_on_sequence_type=\"oligo\")\n",
                        "\n",
                        "policy = RemoveByLargerRegionPolicy()\n",
                        "exactmatch_filter = ExactMatchFilter(policy)\n",
                        "res = exactmatch_filter.apply(sequence_type, oligo_database_exact_match, 2)\n",
                        "\n",
                        "assert \"WASH7P::2\" not in res.database[\"WASH7P\"].keys(), \"A matching oligo has not been filtered from exact matches!\"\n",
                        "assert \"AGRN::1\" in res.database[\"AGRN\"].keys(), \"A non-matching oligo has been filtered from exact mathces!\""
                  ]
            },
            {
                  "cell_type": "markdown",
                  "metadata": {},
                  "source": [
                        "## Test BlastN Filter"
                  ]
            },
            {
                  "cell_type": "code",
                  "execution_count": null,
                  "metadata": {},
                  "outputs": [],
                  "source": [
                        "reference_database = ReferenceDatabase(dir_output=dir_output)\n",
                        "reference_database.load_database_from_file(files=file_database_reference,file_type=\"fasta\",database_overwrite=True)"
                  ]
            },
            {
                  "cell_type": "code",
                  "execution_count": null,
                  "metadata": {},
                  "outputs": [],
                  "source": [
                        "sequence_type = \"target\"\n",
                        "\n",
                        "oligo_database_match = OligoDatabase(min_oligos_per_region=2, write_regions_with_insufficient_oligos=True, dir_output=dir_output)\n",
                        "oligo_database_match.load_database_from_table(file_database_oligos_match, database_overwrite=True, merge_databases_on_sequence_type=\"oligo\")\n",
                        "\n",
                        "blast_filter = BlastNFilter(blast_search_parameters, blast_hit_parameters, dir_output=dir_output)\n",
                        "blast_filter.set_reference_database(reference_database=reference_database)\n",
                        "print(type(blast_filter))\n",
                        "res = blast_filter.apply(sequence_type=sequence_type, oligo_database=oligo_database_match, remove_hits=True, n_jobs=2)\n",
                        "\n",
                        "assert \"WASH7P::1\" not in res.database[\"WASH7P\"].keys(), \"A matching oligo has not been filtered by Blast!\""
                  ]
            },
            {
                  "cell_type": "code",
                  "execution_count": null,
                  "metadata": {},
                  "outputs": [],
                  "source": [
                        "sequence_type = \"target\"\n",
                        "\n",
                        "oligo_database_nomatch = OligoDatabase(min_oligos_per_region=2, write_regions_with_insufficient_oligos=True, dir_output=dir_output)\n",
                        "oligo_database_nomatch.load_database(file_database_oligos_nomatch)\n",
                        "\n",
                        "blast_filter = BlastNFilter(blast_search_parameters, blast_hit_parameters, dir_output=dir_output)\n",
                        "res = blast_filter.apply(sequence_type, oligo_database_nomatch, 2, reference_database)\n",
                        "\n",
                        "assert \"AGRN::1\" in res.database[\"AGRN\"].keys(), \"A non matching oligo has been filtered by Blast!\""
                  ]
            },
            {
                  "cell_type": "code",
                  "execution_count": null,
                  "metadata": {},
                  "outputs": [],
                  "source": [
                        "reference_database_ligation = ReferenceDatabase(dir_output=dir_output)\n",
                        "reference_database_ligation.load_sequences_from_fasta(files_fasta=file_database_reference_ligation, database_overwrite=True)"
                  ]
            },
            {
                  "cell_type": "code",
                  "execution_count": null,
                  "metadata": {},
                  "outputs": [],
                  "source": [
                        "from oligo_designer_toolsuite.oligo_specificity_filter import _filter_blastn\n",
                        "import inspect\n",
                        "sequence_type = \"target\"\n",
                        "seedregion_size = 10\n",
                        "\n",
                        "oligo_database_ligation_match = OligoDatabase(min_oligos_per_region=2, write_regions_with_insufficient_oligos=True, dir_output=dir_output)\n",
                        "oligo_database_ligation_match.load_database(file_database_oligos_ligation_match)\n",
                        "\n",
                        "blast_ligation_filter = BlastNSeedregionSiteFilter(seedregion_size, blast_search_parameters, blast_hit_parameters, dir_output=dir_output)\n",
                        "res = blast_ligation_filter.apply(sequence_type, oligo_database_ligation_match, 2, reference_database_ligation)\n",
                        "\n",
                        "assert \"WASH7P::1\" not in res.database[\"WASH7P\"].keys(), \"A matching oligo has not been filtered by Blast!\""
                  ]
            },
            {
                  "cell_type": "code",
                  "execution_count": null,
                  "metadata": {},
                  "outputs": [],
                  "source": [
                        "sequence_type = \"target\"\n",
                        "seedregion_size = 5\n",
                        "\n",
                        "oligo_database_ligation_nomatch = OligoDatabase(min_oligos_per_region=2, write_regions_with_insufficient_oligos=True, dir_output=dir_output)\n",
                        "oligo_database_ligation_nomatch.load_database(file_database_oligos_ligation_nomatch)\n",
                        "\n",
                        "blast_ligation_filter = BlastNSeedregionSiteFilter(seedregion_size, blast_search_parameters, blast_hit_parameters, dir_output=dir_output)\n",
                        "res = blast_ligation_filter.apply(sequence_type, oligo_database_ligation_nomatch, 2, reference_database_ligation)\n",
                        "\n",
                        "assert \"AGRN::1\" in res.database[\"AGRN\"].keys(), \"A non matching oligo has been filtered by Blast!\""
                  ]
            },
            {
                  "cell_type": "markdown",
                  "metadata": {},
                  "source": [
                        "## Test Bowtie Filter"
                  ]
            },
            {
                  "cell_type": "code",
                  "execution_count": null,
                  "metadata": {},
                  "outputs": [],
                  "source": [
                        "reference_database = ReferenceDatabase(dir_output=dir_output)\n",
                        "reference_database.load_database_from_file(files=file_database_reference, database_overwrite=True)"
                  ]
            },
            {
                  "cell_type": "code",
                  "execution_count": null,
                  "metadata": {},
                  "outputs": [],
                  "source": [
                        "sequence_type = \"target\"\n",
                        "\n",
                        "oligo_database_match = OligoDatabase(min_oligos_per_region=2, write_regions_with_insufficient_oligos=True, dir_output=dir_output)\n",
                        "oligo_database_match.load_database(file_database_oligos_match)\n",
                        "\n",
                        "bowtie_filter = BowtieFilter(bowtie_search_parameters, dir_output=dir_output)\n",
                        "res = bowtie_filter.apply(sequence_type, oligo_database_match, 2, reference_database)\n",
                        "\n",
                        "assert \"WASH7P::1\" not in res.database[\"WASH7P\"].keys(), \"A matching oligo has not been filtered by Bowtie!\""
                  ]
            },
            {
                  "cell_type": "code",
                  "execution_count": null,
                  "metadata": {},
                  "outputs": [],
                  "source": [
                        "sequence_type = \"target\"\n",
                        "\n",
                        "oligo_database_nomatch = OligoDatabase(min_oligos_per_region=2, write_regions_with_insufficient_oligos=True, dir_output=dir_output)\n",
                        "oligo_database_nomatch.load_database(file_database_oligos_nomatch)\n",
                        "\n",
                        "bowtie_filter = BowtieFilter(bowtie_search_parameters, dir_output=dir_output)\n",
                        "res = bowtie_filter.apply(sequence_type, oligo_database_nomatch, 2, reference_database)\n",
                        "\n",
                        "assert \"AGRN::1\" in res.database[\"AGRN\"].keys(), \"A non matching oligo has been filtered by Bowtie!\""
                  ]
            },
            {
                  "cell_type": "code",
                  "execution_count": null,
                  "metadata": {},
                  "outputs": [],
                  "source": [
                        "sequence_type = \"target\"\n",
                        "\n",
                        "oligo_database_match = OligoDatabase(min_oligos_per_region=2, write_regions_with_insufficient_oligos=True, dir_output=dir_output)\n",
                        "oligo_database_match.load_database(file_database_oligos_match)\n",
                        "\n",
                        "bowtie_filter = Bowtie2Filter(bowtie2_search_parameters, dir_output=dir_output)\n",
                        "res = bowtie_filter.apply(sequence_type, oligo_database_match, 2, reference_database)\n",
                        "\n",
                        "assert \"WASH7P::1\" not in res.database[\"WASH7P\"].keys(), \"A matching oligo has not been filtered by Bowtie2!\""
                  ]
            },
            {
                  "cell_type": "code",
                  "execution_count": null,
                  "metadata": {},
                  "outputs": [],
                  "source": [
                        "sequence_type = \"target\"\n",
                        "\n",
                        "oligo_database_nomatch = OligoDatabase(min_oligos_per_region=2, write_regions_with_insufficient_oligos=True, dir_output=dir_output)\n",
                        "oligo_database_nomatch.load_database(file_database_oligos_nomatch)\n",
                        "\n",
                        "bowtie_filter = Bowtie2Filter(bowtie2_search_parameters, dir_output=dir_output)\n",
                        "res = bowtie_filter.apply(sequence_type, oligo_database_nomatch, 2, reference_database)\n",
                        "\n",
                        "assert \"AGRN::1\" in res.database[\"AGRN\"].keys(), \"A non matching oligo has been filtered by Bowtie2!\""
                  ]
            },
            {
                  "cell_type": "markdown",
                  "metadata": {},
                  "source": [
                        "## Test Variants Filter"
                  ]
            },
            {
                  "cell_type": "code",
                  "execution_count": null,
                  "metadata": {},
                  "outputs": [],
                  "source": [
                        "reference_database = ReferenceDatabase(dir_output=dir_output)\n",
                        "reference_database.load_database_from_file(files=file_database_reference_variants,file_type=\"vcf\",database_overwrite=True)"
                  ]
            },
            {
                  "cell_type": "code",
                  "execution_count": null,
                  "metadata": {},
                  "outputs": [],
                  "source": [
                        "oligo_database_match = OligoDatabase(min_oligos_per_region=2, write_regions_with_insufficient_oligos=True, dir_output=dir_output)\n",
                        "oligo_database_match.load_database_from_table(file_database_oligos_match, database_overwrite=True, merge_databases_on_sequence_type=\"oligo\")\n",
                        "\n",
                        "variants_filter = VariantsFilter(dir_output=dir_output)\n",
                        "  \n",
                        "variants_filter.set_reference_database(reference_database=reference_database)\n",
                        "print(type(variants_filter))\n",
                        "res = variants_filter.apply(oligo_database=oligo_database_match, remove_hits=False, n_jobs=2)\n",
                        "\n",
                        "\n",
                        "assert oligo_database_match.get_oligo_attribute_value(attribute=\"variants_filter\", \n",
                        "                                                      flatten=True, \n",
                        "                                                      region_id=\"WASH7P\", \n",
                        "                                                      oligo_id=\"WASH7P::1\") is not None, \"A matching oligo has not been flagged!\""
                  ]
            },
            {
                  "cell_type": "code",
                  "execution_count": null,
                  "metadata": {},
                  "outputs": [],
                  "source": [
                        "oligo_database_nomatch = OligoDatabase(min_oligos_per_region=2, write_regions_with_insufficient_oligos=True, dir_output=dir_output)\n",
                        "oligo_database_nomatch.load_database_from_table(file_database_oligos_nomatch, database_overwrite=True, merge_databases_on_sequence_type=\"oligo\")\n",
                        "\n",
                        "variants_filter = VariantsFilter(dir_output=dir_output)\n",
                        "  \n",
                        "variants_filter.set_reference_database(reference_database=reference_database)\n",
                        "print(type(variants_filter))\n",
                        "res = variants_filter.apply(oligo_database=oligo_database_nomatch, remove_hits=False, n_jobs=2)\n",
                        "\n",
                        "assert oligo_database_nomatch.get_oligo_attribute_value(attribute=\"variants_filter\", \n",
                        "                                                        flatten=True, \n",
                        "                                                        region_id=\"AGRN\", \n",
                        "                                                        oligo_id=\"AGRN::1\") is None, \"A non-matching oligo has been flagged!\""
                  ]
            },
            {
                  "cell_type": "markdown",
                  "metadata": {},
                  "source": [
                        "## Test Crosshybridization Filter"
                  ]
            },
            {
                  "cell_type": "code",
                  "execution_count": null,
                  "metadata": {},
                  "outputs": [],
                  "source": [
                        "expected_oligos_larger_region = []\n",
                        "for i, solution_file in enumerate(solutions_larger_region):\n",
                        "    solution = OligoDatabase(\n",
                        "        min_oligos_per_region=2,\n",
                        "        write_regions_with_insufficient_oligos=True,\n",
                        "        dir_output=os.path.join(dir_output, f\"oligo_database_solution_larger_region_{i}\"),\n",
                        "    )\n",
                        "    solution.load_database(solution_file)\n",
                        "    expected_oligos_larger_region.append(solution.database)\n",
                        "\n",
                        "expected_oligos_degree = []\n",
                        "for i, solution_file in enumerate(solutions_degree):\n",
                        "    solution = OligoDatabase(\n",
                        "        min_oligos_per_region=2,\n",
                        "        write_regions_with_insufficient_oligos=True,\n",
                        "        dir_output=os.path.join(dir_output, f\"oligo_database_solution_larger_region_{i}\"),\n",
                        "    )\n",
                        "    solution.load_database(solution_file)\n",
                        "    expected_oligos_degree.append(solution.database)"
                  ]
            },
            {
                  "cell_type": "code",
                  "execution_count": null,
                  "metadata": {},
                  "outputs": [],
                  "source": [
                        "exactmatch_filter = ExactMatchFilter()\n",
                        "policy = RemoveByLargerRegionPolicy()\n",
                        "\n",
                        "sequence_type = \"oligo\"\n",
                        "\n",
                        "oligo_database_crosshyb = OligoDatabase(\n",
                        "            min_oligos_per_region=2,\n",
                        "            write_regions_with_insufficient_oligos=True,\n",
                        "            dir_output=dir_output,\n",
                        "        )\n",
                        "oligo_database_crosshyb.load_database(file_database_oligos_crosshyb)\n",
                        "\n",
                        "cross_hyb_filter = CrossHybridizationFilter(policy, exactmatch_filter, dir_output)\n",
                        "res = cross_hyb_filter.apply(sequence_type, oligo_database_crosshyb, 2)\n",
                        "\n",
                        "assert res.database in expected_oligos_larger_region, f\"The cross-hybridization filter didn't return the expected oligos.\""
                  ]
            },
            {
                  "cell_type": "code",
                  "execution_count": null,
                  "metadata": {},
                  "outputs": [],
                  "source": [
                        "exactmatch_filter = ExactMatchFilter()\n",
                        "policy = RemoveByDegreePolicy()\n",
                        "\n",
                        "sequence_type = \"oligo\"\n",
                        "\n",
                        "oligo_database_crosshyb = OligoDatabase(\n",
                        "            min_oligos_per_region=2,\n",
                        "            write_regions_with_insufficient_oligos=True,\n",
                        "            dir_output=dir_output,\n",
                        "        )\n",
                        "oligo_database_crosshyb.load_database(file_database_oligos_crosshyb)\n",
                        "\n",
                        "cross_hyb_filter = CrossHybridizationFilter(policy, exactmatch_filter, dir_output)\n",
                        "res = cross_hyb_filter.apply(sequence_type, oligo_database_crosshyb, 2)\n",
                        "\n",
                        "assert res.database in expected_oligos_degree, f\"The cross-hybridization filter didn't return the expected oligos.\""
                  ]
            },
            {
                  "cell_type": "code",
                  "execution_count": null,
                  "metadata": {},
                  "outputs": [],
                  "source": [
                        "blast_filter = BlastNFilter(blast_search_parameters_crosshyb, blast_hit_parameters_crosshyb, dir_output=dir_output)\n",
                        "policy = RemoveByLargerRegionPolicy()\n",
                        "\n",
                        "sequence_type = \"oligo\"\n",
                        "\n",
                        "oligo_database_crosshyb = OligoDatabase(\n",
                        "            min_oligos_per_region=2,\n",
                        "            write_regions_with_insufficient_oligos=True,\n",
                        "            dir_output=dir_output,\n",
                        "        )\n",
                        "oligo_database_crosshyb.load_database(file_database_oligos_crosshyb)\n",
                        "\n",
                        "cross_hyb_filter = CrossHybridizationFilter(policy, blast_filter, dir_output)\n",
                        "res = cross_hyb_filter.apply(sequence_type, oligo_database_crosshyb, 2)\n",
                        "\n",
                        "assert res.database in expected_oligos_larger_region, f\"The cross-hybridization filter didn't return the expected oligos.\""
                  ]
            },
            {
                  "cell_type": "code",
                  "execution_count": null,
                  "metadata": {},
                  "outputs": [],
                  "source": [
                        "blast_filter = BlastNFilter(blast_search_parameters_crosshyb, blast_hit_parameters_crosshyb, dir_output=dir_output)\n",
                        "policy = RemoveByDegreePolicy()\n",
                        "\n",
                        "sequence_type = \"oligo\"\n",
                        "\n",
                        "oligo_database_crosshyb = OligoDatabase(\n",
                        "            min_oligos_per_region=2,\n",
                        "            write_regions_with_insufficient_oligos=True,\n",
                        "            dir_output=dir_output,\n",
                        "        )\n",
                        "oligo_database_crosshyb.load_database(file_database_oligos_crosshyb)\n",
                        "\n",
                        "cross_hyb_filter = CrossHybridizationFilter(policy, blast_filter, dir_output)\n",
                        "res = cross_hyb_filter.apply(sequence_type, oligo_database_crosshyb, 2)\n",
                        "\n",
                        "assert res.database in expected_oligos_degree, f\"The cross-hybridization filter didn't return the expected oligos.\""
                  ]
            },
            {
                  "cell_type": "code",
                  "execution_count": null,
                  "metadata": {},
                  "outputs": [],
                  "source": [
                        "bowtie_filter = BowtieFilter(bowtie_search_parameters_crosshyb, dir_output=dir_output)\n",
                        "policy = RemoveByLargerRegionPolicy()\n",
                        "\n",
                        "sequence_type = \"oligo\"\n",
                        "\n",
                        "oligo_database_crosshyb = OligoDatabase(\n",
                        "            min_oligos_per_region=2,\n",
                        "            write_regions_with_insufficient_oligos=True,\n",
                        "            dir_output=dir_output,\n",
                        "        )\n",
                        "oligo_database_crosshyb.load_database(file_database_oligos_crosshyb)\n",
                        "\n",
                        "cross_hyb_filter = CrossHybridizationFilter(policy, bowtie_filter, dir_output)\n",
                        "res = cross_hyb_filter.apply(sequence_type, oligo_database_crosshyb, 2)\n",
                        "\n",
                        "assert res.database in expected_oligos_larger_region, f\"The cross-hybridization filter didn't return the expected oligos.\""
                  ]
            },
            {
                  "cell_type": "code",
                  "execution_count": null,
                  "metadata": {},
                  "outputs": [],
                  "source": [
                        "bowtie_filter = BowtieFilter(bowtie_search_parameters_crosshyb, dir_output=dir_output)\n",
                        "policy = RemoveByDegreePolicy()\n",
                        "\n",
                        "sequence_type = \"oligo\"\n",
                        "\n",
                        "oligo_database_crosshyb = OligoDatabase(\n",
                        "            min_oligos_per_region=2,\n",
                        "            write_regions_with_insufficient_oligos=True,\n",
                        "            dir_output=dir_output,\n",
                        "        )\n",
                        "oligo_database_crosshyb.load_database(file_database_oligos_crosshyb)\n",
                        "\n",
                        "cross_hyb_filter = CrossHybridizationFilter(policy, bowtie_filter, dir_output)\n",
                        "res = cross_hyb_filter.apply(sequence_type, oligo_database_crosshyb, 2)\n",
                        "\n",
                        "assert res.database in expected_oligos_degree, f\"The cross-hybridization filter didn't return the expected oligos.\""
                  ]
            },
            {
                  "cell_type": "markdown",
                  "metadata": {},
                  "source": [
                        "## AI FIlters\n",
                        "\n"
                  ]
            },
            {
                  "cell_type": "code",
                  "execution_count": null,
                  "metadata": {},
                  "outputs": [],
                  "source": [
                        "def reverse_complement(sequence):\n",
                        "    nt = {\"A\": \"T\", \"T\": \"A\", \"C\": \"G\", \"G\":'C',\"-\":'-'}\n",
                        "    rc_seqeunce = []\n",
                        "    for n in sequence:\n",
                        "        rc_seqeunce = [nt[n]] + rc_seqeunce\n",
                        "    return \"\".join(rc_seqeunce)"
                  ]
            },
            {
                  "cell_type": "markdown",
                  "metadata": {},
                  "source": [
                        "Test blast in specific scenarious"
                  ]
            },
            {
                  "cell_type": "code",
                  "execution_count": null,
                  "metadata": {},
                  "outputs": [],
                  "source": [
                        "blast_search_parameters = {\"perc_identity\": 80, \"strand\": \"both\", \"word_size\": 10}\n",
                        "\n",
                        "# define the seqeunces\n",
                        "sequences = [\n",
                        "    \"GCTCGGGCTTGTCCACAGGATGGACCCAGCTGAGCAAGCT\", #100% match\n",
                        "    \"TACAGGCATGACCCACCATGCCTGGCCAACTTACATTTTT\", #2 mismatches\n",
                        "    \"AAGGCCAAGGTCTCTGGGGGGCTGGACAAGCCGCCCTCAT\",  #90% mismatches\n",
                        "    \"TTTTGCACCAGCCCAGATCGCATCTTCTTTCACCTGTTTT\",  #80% coverage\n",
                        "    \"CCGCTCGGCTGCATGAAACCAAAACGGCTGTCCGGGGACA\", #gaps on the target \n",
                        "    \"AACCCGGCATCACCAAGAGGAGGTTCAAGGGAACGCTGCA\", #gaps on reference\n",
                        "    \"TGCCCGCGCCGGAGTTCTCCCCAGCCGGAGTCCGGCAGGG\", #gaps on the target, 80% cov\n",
                        "    \"AACCTGGTTGCACCTCGGCCTGGTCCCAGCAGGTATGGTT\", #gaps on reference, 80% cov\n",
                        "    \"ACTGATTGCTGCAGACGCTCACCCCAGACACTCACTGCAC\", #overflow start\n",
                        "    \"TATATATTTTGCACACTTTAAAATATTGGGTTGTTTACCG\" # overflow end\n",
                        "]\n",
                        "refrences = [\n",
                        "    \"GCTCGGGCTTGTCCACAGGATGGACCCAGCTGAGCAAGCT\",  #100% match\n",
                        "    \"TACAGGCATGAGCCACCATGCCTGGCCAACTCACATTTTT\", #2 mismatches\n",
                        "    \"AAGGCCGGGGTCTCTGGGGGGCTGGAGAAGCCTCCCTCAT\",  #90% mismatches\n",
                        "    \"AGCAGCACCAGCCCAGATCGCATCTTCTTTCACCTGAACG\",  #80% coverage\n",
                        "    \"CCGCTACCGGCTGCATGACAACCAAAACGGCTGGTCCGGGGACA\",  #gaps on the target\n",
                        "    \"AACCCCATCACCAAGAGGAGGTTCAGGGAAGCTGCA\", #gaps on reference\n",
                        "    \"TGCCCGCGCCGGAGTTCTCCCCGGAGCCGGAGTCCGGCAGGG\", #gaps on the target, 80% cov\n",
                        "    \"TCCCTGGGCACCTCGGCCTGGTCCCAGCAGGTATGGGC\", #gaps on reference, 80% cov\n",
                        "    \"----ATTGCTGCAGACGCTCACCCCAGACACTCACTGCAC\", #overflow start\n",
                        "    \"TATATATTTTGCACACTTTAAAATATTGGGTTGTTT----\", # oevrflow end\n",
                        "]\n",
                        "gapped_queries = [\n",
                        "    \"GCTCGGGCTTGTCCACAGGATGGACCCAGCTGAGCAAGCT\", #100% match\n",
                        "    \"TACAGGCATGACCCACCATGCCTGGCCAACTTACATTTTT\", #2 mismatches\n",
                        "    \"AAGGCCAAGGTCTCTGGGGGGCTGGACAAGCCGCCCTCAT\",  #90% mismatches\n",
                        "    \"TTTTGCACCAGCCCAGATCGCATCTTCTTTCACCTGTTTT\",  #80% coverage\n",
                        "    \"CCGCT--CGGCTGCATGA-AACCAAAACGGCTG-TCCGGGGACA\", #gaps on the target \n",
                        "    \"AACCCGGCATCACCAAGAGGAGGTTCAAGGGAACGCTGCA\", #gaps on reference\n",
                        "    \"TGCCCGCGCCGGAGTTCTCCCC--AGCCGGAGTCCGGCAGGG\", #gaps on the target, 80% cov\n",
                        "    \"AACCTGGTTGCACCTCGGCCTGGTCCCAGCAGGTATGGTT\", #gaps on reference, 80% cov\n",
                        "    \"ACTGATTGCTGCAGACGCTCACCCCAGACACTCACTGCAC\", #overflow start\n",
                        "    \"TATATATTTTGCACACTTTAAAATATTGGGTTGTTTACCG\" # overflow end\n",
                        "]\n",
                        "gapped_references = [\n",
                        "    \"GCTCGGGCTTGTCCACAGGATGGACCCAGCTGAGCAAGCT\",  #100% match\n",
                        "    \"TACAGGCATGAGCCACCATGCCTGGCCAACTCACATTTTT\", #2 mismatches\n",
                        "    \"AAGGCCGGGGTCTCTGGGGGGCTGGAGAAGCCTCCCTCAT\",  #90% mismatches\n",
                        "    \"AGCAGCACCAGCCCAGATCGCATCTTCTTTCACCTGAACG\",  #80% coverage\n",
                        "    \"CCGCTACCGGCTGCATGACAACCAAAACGGCTGGTCCGGGGACA\",  #gaps on the target\n",
                        "    \"AACCC--CATCACCAAGAGGAGGTTCA-GGGAA-GCTGCA\", #gaps on reference\n",
                        "    \"TGCCCGCGCCGGAGTTCTCCCCGGAGCCGGAGTCCGGCAGGG\", #gaps on the target, 80% cov\n",
                        "    \"TCCCTGG--GCACCTCGGCCTGGTCCCAGCAGGTATGGGC\", #gaps on reference, 80% cov\n",
                        "    \"----ATTGCTGCAGACGCTCACCCCAGACACTCACTGCAC\", #overflow start\n",
                        "    \"TATATATTTTGCACACTTTAAAATATTGGGTTGTTT----\" # oevrflow end\n",
                        "]\n",
                        "# define dictionary\n",
                        "dict = {\"region\":{}}\n",
                        "for i, seq in enumerate(sequences):\n",
                        "    #add both the oligo and its reverse complement to search also on the minus strandnd\n",
                        "    dict[\"region\"][f\"region::{2*i}\"] = {\n",
                        "        \"oligo\": reverse_complement(sequences[i]),\n",
                        "        \"target\": sequences[i],\n",
                        "        'chromosome': [None],\n",
                        "        'start': [None],\n",
                        "        'end': [None],\n",
                        "        'strand': [None],\n",
                        "        'regiontype': ['random_sequence']\n",
                        "    }\n",
                        "    dict[\"region\"][f\"region::{2*i + 1}\"] = {\n",
                        "        \"oligo\": sequences[i],\n",
                        "        \"target\": reverse_complement(sequences[i]),\n",
                        "        'chromosome': [None],\n",
                        "        'start': [None],\n",
                        "        'end': [None],\n",
                        "        'strand': [None],\n",
                        "        'regiontype': ['random_sequence']\n",
                        "    }\n",
                        "oligo_database = OligoDatabase()\n",
                        "oligo_database.database = dict\n",
                        "oligo_database.save_database()\n",
                        "blast_filter = BlastNFilter(blast_search_parameters, blast_hit_parameters, dir_output=dir_output)\n",
                        "res = blast_filter.apply(\"target\", oligo_database, 2, reference_database)\n",
                        "print(res.database)\n"
                  ]
            },
            {
                  "cell_type": "markdown",
                  "metadata": {},
                  "source": [
                        "Test bowtie in specific scenarious"
                  ]
            },
            {
                  "cell_type": "code",
                  "execution_count": null,
                  "metadata": {},
                  "outputs": [],
                  "source": [
                        "dict = {\"region\":{}}\n",
                        "for i, seq in enumerate(sequences):\n",
                        "    #add both the oligo and its reverse complement to search also on the minus strandnd\n",
                        "    dict[\"region\"][f\"region::{2*i}\"] = {\n",
                        "        \"oligo\": reverse_complement(sequences[i]),\n",
                        "        \"target\": sequences[i],\n",
                        "        'chromosome': [None],\n",
                        "        'start': [None],\n",
                        "        'end': [None],\n",
                        "        'strand': [None],\n",
                        "        'regiontype': ['random_sequence']\n",
                        "    }\n",
                        "    dict[\"region\"][f\"region::{2*i + 1}\"] = {\n",
                        "        \"oligo\": sequences[i],\n",
                        "        \"target\": reverse_complement(sequences[i]),\n",
                        "        'chromosome': [None],\n",
                        "        'start': [None],\n",
                        "        'end': [None],\n",
                        "        'strand': [None],\n",
                        "        'regiontype': ['random_sequence']\n",
                        "    }\n",
                        "oligo_database = OligoDatabase()\n",
                        "oligo_database.database = dict\n",
                        "bowtie_filter = BowtieFilter(bowtie_search_parameters, dir_output=dir_output)\n",
                        "res = bowtie_filter.apply(\"target\", oligo_database, 2, reference_database)\n",
                        "print(res.database)"
                  ]
            },
            {
                  "cell_type": "code",
                  "execution_count": null,
                  "metadata": {},
                  "outputs": [],
                  "source": [
                        "from Bio.Seq import Seq\n",
                        "list_to_change = sequences\n",
                        "new_list = []\n",
                        "for elem in list_to_change:\n",
                        "    new_list.append(Seq(elem))\n",
                        "    new_list.append(Seq(reverse_complement(elem)))\n",
                        "print(new_list)"
                  ]
            },
            {
                  "cell_type": "code",
                  "execution_count": null,
                  "metadata": {},
                  "outputs": [],
                  "source": [
                        "from oligo_designer_toolsuite.oligo_specificity_filter import HybridizationProbabilityFilter\n",
                        "from oligo_designer_toolsuite_ai_filters.api import APIBase\n",
                        "import numpy as np\n",
                        "import pandas as pd\n",
                        "\n",
                        "FILE_DATABASE_REFERENCE = \"../../data/tests/databases/database_reference/database_reference.fna\"\n",
                        "FILE_DATABASE_OLIGOS_AI = \"../../data/tests/databases/database_oligos_tsv/database_oligos_ai.tsv\"\n",
                        "FILE_TABLE_HITS_BLAST_AI = \"../../data/tests/table_hits/table_hits_blast_ai.tsv\"\n",
                        "FILE_TABLE_HITS_BOWTIE_AI = \"../../data/tests/table_hits/table_hits_bowtie_ai.tsv\"\n",
                        "\n",
                        "class DummyAPI(APIBase):\n",
                        "    # Class that considers real hits all the hits that have a 100% match\n",
                        "    def predict(self, queries,gapped_queries,references,gapped_references):\n",
                        "        predictions = np.ndarray(shape=(len(queries),), dtype=np.float32)\n",
                        "        for i, (q, r) in enumerate(zip(gapped_queries, gapped_references)):\n",
                        "            if q == r:\n",
                        "                predictions[i] = 1\n",
                        "            else:\n",
                        "                predictions[i] = 0\n",
                        "        return predictions\n",
                        "    \n",
                        "tmp_path = os.path.join(os.getcwd(), \"tmp_hybridization_probability_outputs\")\n",
                        "blast_search_parameters = blast_search_parameters = {\"perc_identity\": 80, \"strand\": \"both\", \"word_size\": 10}\n",
                        "blast_hit_parameters = {\"coverage\": 50}\n",
                        "alignment_filter = BlastNFilter(\n",
                        "    blast_search_parameters=blast_search_parameters, \n",
                        "    blast_hit_parameters=blast_hit_parameters, \n",
                        "    dir_output=tmp_path\n",
                        ")\n",
                        "filter = HybridizationProbabilityFilter(alignment_method=alignment_filter, threshold=0.1)\n",
                        "filter.model = DummyAPI()\n",
                        "database = OligoDatabase(dir_output=tmp_path)\n",
                        "database.load_database(FILE_DATABASE_OLIGOS_AI)\n",
                        "reference_database = ReferenceDatabase(dir_output=tmp_path)\n",
                        "reference_database.load_sequences_from_fasta(files_fasta=FILE_DATABASE_REFERENCE, database_overwrite=True)\n",
                        "table_hits = pd.read_csv(FILE_TABLE_HITS_BLAST_AI, sep=\"\\t\")\n",
                        "sequence_type = \"target\"\n",
                        "region_id = \"region\"\n",
                        "\n",
                        "filtered_database = filter.apply(\n",
                        "    sequence_type=sequence_type,\n",
                        "    oligo_database=database,\n",
                        "    n_jobs=2,\n",
                        "    reference_database=reference_database,\n",
                        ")\n",
                        "returned_oligos = set(filtered_database.database[\"region\"].keys())\n",
                        "expected_oligos = set(f\"region::{i}\" for i in range(2, 20))\n",
                        "\n",
                        "assert returned_oligos == expected_oligos, f\"The Blast ai filter didn't return the expected oligos. \\n\\nExpected:\\n{expected_oligos}\\n\\nGot:\\n{returned_oligos}\"\n"
                  ]
            }
      ],
      "metadata": {
            "kernelspec": {
                  "display_name": "odt-arm64",
                  "language": "python",
                  "name": "python3"
            },
            "language_info": {
                  "codemirror_mode": {
                        "name": "ipython",
                        "version": 3
                  },
                  "file_extension": ".py",
                  "mimetype": "text/x-python",
                  "name": "python",
                  "nbconvert_exporter": "python",
                  "pygments_lexer": "ipython3",
                  "version": "3.11.11"
            },
            "orig_nbformat": 4
      },
      "nbformat": 4,
      "nbformat_minor": 2
}
