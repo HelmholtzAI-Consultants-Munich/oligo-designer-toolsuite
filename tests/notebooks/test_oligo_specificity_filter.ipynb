{
 "cells": [
  {
   "cell_type": "markdown",
   "metadata": {},
   "source": [
    "# Test Specificity Filters"
   ]
  },
  {
   "cell_type": "code",
   "execution_count": 1,
   "metadata": {},
   "outputs": [],
   "source": [
    "import os\n",
    "from pathlib import Path\n",
    "\n",
    "from oligo_designer_toolsuite.sequence_generator import CustomGenomicRegionGenerator, OligoSequenceGenerator\n",
    "from oligo_designer_toolsuite.database import OligoDatabase, ReferenceDatabase\n",
    "from oligo_designer_toolsuite.oligo_specificity_filter import ExactMatchFilter, BlastNFilter, BlastNSeedregionFilter, BlastNSeedregionLigationsiteFilter, BowtieFilter, Bowtie2Filter, CrossHybridizationFilter, RemoveByLargerRegionPolicy, RemoveByDegreePolicy\n",
    "from oligo_designer_toolsuite.oligo_property_filter import PropertyFilter, PadlockArmsFilter\n"
   ]
  },
  {
   "cell_type": "markdown",
   "metadata": {},
   "source": [
    "## Setup"
   ]
  },
  {
   "cell_type": "code",
   "execution_count": 2,
   "metadata": {},
   "outputs": [],
   "source": [
    "# Output directory\n",
    "dir_output = os.path.join(os.path.dirname(os.getcwd()), 'notebooks/output')\n",
    "Path(dir_output).mkdir(parents=True, exist_ok=True)"
   ]
  },
  {
   "cell_type": "code",
   "execution_count": 3,
   "metadata": {},
   "outputs": [],
   "source": [
    "# Files\n",
    "file_database_oligos_exact_match = \"../../data/tests/databases/database_oligos_exactmatch.tsv\"\n",
    "file_database_oligos_match = \"../../data/tests/databases/database_oligos_match.tsv\"\n",
    "file_database_oligos_nomatch = \"../../data/tests/databases/database_oligos_nomatch.tsv\"\n",
    "\n",
    "file_database_oligos_ligation_match = \"../../data/tests/databases/database_oligos_ligation_match.tsv\"\n",
    "file_database_oligos_ligation_nomatch = \"../../data/tests/databases/database_oligos_ligation_nomatch.tsv\"\n",
    "\n",
    "file_database_oligos_crosshyb = \"../../data/tests/databases/database_oligos_crosshybridization.tsv\"\n",
    "\n",
    "file_database_reference = \"../../data/tests/databases/database_reference.fna\"\n",
    "file_database_reference_ligation = \"../../data/tests/databases/database_reference_ligation.fna\""
   ]
  },
  {
   "cell_type": "code",
   "execution_count": 4,
   "metadata": {},
   "outputs": [],
   "source": [
    "# Metadata\n",
    "metadata_ncbi = {\n",
    "    \"files_source\": \"NCBI\",\n",
    "    \"species\": \"Homo_sapiens\",\n",
    "    \"annotation_release\": \"110\",\n",
    "    \"genome_assembly\": \"GRCh38\",\n",
    "}\n",
    "\n",
    "region_ids = [\"AARS1\", \"DECR2\", \"FAM234A\", \"RHBDF1\", \"WASIR2\"]"
   ]
  },
  {
   "cell_type": "code",
   "execution_count": 5,
   "metadata": {},
   "outputs": [],
   "source": [
    "# Blast parameters\n",
    "blast_search_parameters = {\"perc_identity\": 80, \"strand\": \"plus\", \"word_size\": 10}\n",
    "blast_search_parameters_crosshyb = {\"perc_identity\": 80, \"strand\": \"minus\", \"word_size\": 10}\n",
    "\n",
    "blast_hit_parameters = {\"coverage\": 50}\n",
    "blast_hit_parameters_crosshyb = {\"coverage\": 50}\n",
    "\n",
    "# Bowtie parameters\n",
    "bowtie_search_parameters = {\"-n\": 3, \"-l\": 5}\n",
    "bowtie_search_parameters_crosshyb = {\"-n\": 3, \"-l\": 5, \"--nofw\": \"\"}\n",
    "\n",
    "bowtie2_search_parameters = {\"-N\": 0}\n",
    "\n",
    "# Parameters Cross-hybridization\n",
    "expected_oligos_bigger_region = {\n",
    "    \"region_1\": {\"region_1::oligo_7\", \"region_1::oligo_5\", \"region_1::oligo_6\", \"region_1::oligo_8\", \"region_1::oligo_4\"},\n",
    "    \"region_2\": {\"region_2::oligo_3\", \"region_2::oligo_2\", \"region_2::oligo_6\", \"region_2::oligo_5\", \"region_2::oligo_4\"},\n",
    "    \"region_3\": {\"region_3::oligo_1\", \"region_3::oligo_4\", \"region_3::oligo_3\", \"region_3::oligo_2\", \"region_3::oligo_5\"},\n",
    "}\n",
    "\n",
    "expected_oligos_degree = {\n",
    "    \"region_1\": {\"region_1::oligo_1\", \"region_1::oligo_4\", \"region_1::oligo_5\", \"region_1::oligo_6\", \"region_1::oligo_7\"},\n",
    "    \"region_2\": {\"region_2::oligo_1\", \"region_2::oligo_2\", \"region_2::oligo_3\", \"region_2::oligo_4\", \"region_2::oligo_5\", \"region_2::oligo_6\", \"region_2::oligo_7\"},\n",
    "    \"region_3\": {\"region_3::oligo_2\", \"region_3::oligo_3\", \"region_3::oligo_4\", \"region_3::oligo_5\"},\n",
    "}"
   ]
  },
  {
   "cell_type": "markdown",
   "metadata": {},
   "source": [
    "## Test Exact Match Filter"
   ]
  },
  {
   "cell_type": "code",
   "execution_count": 6,
   "metadata": {},
   "outputs": [],
   "source": [
    "sequence_type = \"oligo\"\n",
    "\n",
    "oligo_database_exact_match = OligoDatabase(min_oligos_per_region=2, write_regions_with_insufficient_oligos=True, dir_output=dir_output)\n",
    "oligo_database_exact_match.load_database(file_database_oligos_exact_match)\n",
    "\n",
    "exactmatch_filter = ExactMatchFilter()\n",
    "res = exactmatch_filter.apply(sequence_type, oligo_database_exact_match, 2)\n",
    "\n",
    "assert \"WASH7P::2\" not in res.database[\"WASH7P\"].keys(), \"A matching oligo has not been filtered from exact matches!\"\n",
    "assert \"AGRN::1\" in res.database[\"AGRN\"].keys(), \"A non-matching oligo has been filtered from exact mathces!\""
   ]
  },
  {
   "cell_type": "markdown",
   "metadata": {},
   "source": [
    "## Test BlastN Filter"
   ]
  },
  {
   "cell_type": "code",
   "execution_count": 7,
   "metadata": {},
   "outputs": [
    {
     "name": "stderr",
     "output_type": "stream",
     "text": [
      "/Users/lisa.barros/Desktop/oligo-designer-toolsuite/oligo_designer_toolsuite/database/_reference_database.py:88: UserWarning: Overwriting database!\n",
      "  warnings.warn(\"Overwriting database!\")\n"
     ]
    }
   ],
   "source": [
    "reference_database = ReferenceDatabase(dir_output=dir_output)\n",
    "reference_database.load_sequences_from_fasta(file_fasta=file_database_reference, database_overwrite=True)"
   ]
  },
  {
   "cell_type": "code",
   "execution_count": 8,
   "metadata": {},
   "outputs": [],
   "source": [
    "sequence_type = \"target\"\n",
    "\n",
    "oligo_database_match = OligoDatabase(min_oligos_per_region=2, write_regions_with_insufficient_oligos=True, dir_output=dir_output)\n",
    "oligo_database_match.load_database(file_database_oligos_match)\n",
    "\n",
    "blast_filter = BlastNFilter(blast_search_parameters, blast_hit_parameters, dir_output=dir_output)\n",
    "res = blast_filter.apply(sequence_type, oligo_database_match, 2, reference_database)\n",
    "\n",
    "assert \"WASH7P::1\" not in res.database[\"WASH7P\"].keys(), \"A matching oligo has not been filtered by Blast!\""
   ]
  },
  {
   "cell_type": "code",
   "execution_count": 9,
   "metadata": {},
   "outputs": [],
   "source": [
    "sequence_type = \"target\"\n",
    "\n",
    "oligo_database_nomatch = OligoDatabase(min_oligos_per_region=2, write_regions_with_insufficient_oligos=True, dir_output=dir_output)\n",
    "oligo_database_nomatch.load_database(file_database_oligos_nomatch)\n",
    "\n",
    "blast_filter = BlastNFilter(blast_search_parameters, blast_hit_parameters, dir_output=dir_output)\n",
    "res = blast_filter.apply(sequence_type, oligo_database_nomatch, 2, reference_database)\n",
    "\n",
    "assert \"AGRN::1\" in res.database[\"AGRN\"].keys(), \"A non matching oligo has been filtered by Blast!\""
   ]
  },
  {
   "cell_type": "code",
   "execution_count": 10,
   "metadata": {},
   "outputs": [
    {
     "name": "stderr",
     "output_type": "stream",
     "text": [
      "/Users/lisa.barros/Desktop/oligo-designer-toolsuite/oligo_designer_toolsuite/database/_reference_database.py:88: UserWarning: Overwriting database!\n",
      "  warnings.warn(\"Overwriting database!\")\n"
     ]
    }
   ],
   "source": [
    "reference_database_ligation = ReferenceDatabase(dir_output=dir_output)\n",
    "reference_database_ligation.load_sequences_from_fasta(file_fasta=file_database_reference_ligation, database_overwrite=True)"
   ]
  },
  {
   "cell_type": "code",
   "execution_count": 11,
   "metadata": {},
   "outputs": [],
   "source": [
    "sequence_type = \"target\"\n",
    "seedregion_size = 10\n",
    "\n",
    "oligo_database_ligation_match = OligoDatabase(min_oligos_per_region=2, write_regions_with_insufficient_oligos=True, dir_output=dir_output)\n",
    "oligo_database_ligation_match.load_database(file_database_oligos_ligation_match)\n",
    "\n",
    "blast_ligation_filter = BlastNSeedregionLigationsiteFilter(seedregion_size, blast_search_parameters, blast_hit_parameters, dir_output=dir_output)\n",
    "res = blast_ligation_filter.apply(sequence_type, oligo_database_ligation_match, 2, reference_database_ligation)\n",
    "\n",
    "assert \"WASH7P::1\" not in res.database[\"WASH7P\"].keys(), \"A matching oligo has not been filtered by Blast!\""
   ]
  },
  {
   "cell_type": "code",
   "execution_count": 12,
   "metadata": {},
   "outputs": [],
   "source": [
    "sequence_type = \"target\"\n",
    "seedregion_size = 5\n",
    "\n",
    "oligo_database_ligation_nomatch = OligoDatabase(min_oligos_per_region=2, write_regions_with_insufficient_oligos=True, dir_output=dir_output)\n",
    "oligo_database_ligation_nomatch.load_database(file_database_oligos_ligation_nomatch)\n",
    "\n",
    "blast_ligation_filter = BlastNSeedregionLigationsiteFilter(seedregion_size, blast_search_parameters, blast_hit_parameters, dir_output=dir_output)\n",
    "res = blast_ligation_filter.apply(sequence_type, oligo_database_ligation_nomatch, 2, reference_database_ligation)\n",
    "\n",
    "assert \"AGRN::1\" in res.database[\"AGRN\"].keys(), \"A non matching oligo has been filtered by Blast!\""
   ]
  },
  {
   "cell_type": "markdown",
   "metadata": {},
   "source": [
    "## Test Bowtie Filter"
   ]
  },
  {
   "cell_type": "code",
   "execution_count": 14,
   "metadata": {},
   "outputs": [
    {
     "name": "stderr",
     "output_type": "stream",
     "text": [
      "/Users/lisa.barros/Desktop/oligo-designer-toolsuite/oligo_designer_toolsuite/database/_reference_database.py:88: UserWarning: Overwriting database!\n",
      "  warnings.warn(\"Overwriting database!\")\n"
     ]
    }
   ],
   "source": [
    "reference_database = ReferenceDatabase(dir_output=dir_output)\n",
    "reference_database.load_sequences_from_fasta(file_fasta=file_database_reference, database_overwrite=True)"
   ]
  },
  {
   "cell_type": "code",
   "execution_count": 15,
   "metadata": {},
   "outputs": [
    {
     "name": "stderr",
     "output_type": "stream",
     "text": [
      "# reads processed: 1\n",
      "# reads with at least one alignment: 1 (100.00%)\n",
      "# reads that failed to align: 0 (0.00%)\n",
      "Reported 1 alignments\n"
     ]
    }
   ],
   "source": [
    "sequence_type = \"target\"\n",
    "\n",
    "oligo_database_match = OligoDatabase(min_oligos_per_region=2, write_regions_with_insufficient_oligos=True, dir_output=dir_output)\n",
    "oligo_database_match.load_database(file_database_oligos_match)\n",
    "\n",
    "bowtie_filter = BowtieFilter(bowtie_search_parameters, dir_output=dir_output)\n",
    "res = bowtie_filter.apply(sequence_type, oligo_database_match, 2, reference_database)\n",
    "\n",
    "assert \"WASH7P::1\" not in res.database[\"WASH7P\"].keys(), \"A matching oligo has not been filtered by Bowtie!\""
   ]
  },
  {
   "cell_type": "code",
   "execution_count": 16,
   "metadata": {},
   "outputs": [
    {
     "name": "stderr",
     "output_type": "stream",
     "text": [
      "# reads processed: 1\n",
      "# reads with at least one alignment: 0 (0.00%)\n",
      "# reads that failed to align: 1 (100.00%)\n",
      "No alignments\n"
     ]
    }
   ],
   "source": [
    "sequence_type = \"target\"\n",
    "\n",
    "oligo_database_nomatch = OligoDatabase(min_oligos_per_region=2, write_regions_with_insufficient_oligos=True, dir_output=dir_output)\n",
    "oligo_database_nomatch.load_database(file_database_oligos_nomatch)\n",
    "\n",
    "bowtie_filter = BowtieFilter(bowtie_search_parameters, dir_output=dir_output)\n",
    "res = bowtie_filter.apply(sequence_type, oligo_database_nomatch, 2, reference_database)\n",
    "\n",
    "assert \"AGRN::1\" in res.database[\"AGRN\"].keys(), \"A non matching oligo has been filtered by Bowtie!\""
   ]
  },
  {
   "cell_type": "code",
   "execution_count": 17,
   "metadata": {},
   "outputs": [],
   "source": [
    "sequence_type = \"target\"\n",
    "\n",
    "oligo_database_match = OligoDatabase(min_oligos_per_region=2, write_regions_with_insufficient_oligos=True, dir_output=dir_output)\n",
    "oligo_database_match.load_database(file_database_oligos_match)\n",
    "\n",
    "bowtie_filter = Bowtie2Filter(bowtie2_search_parameters, dir_output=dir_output)\n",
    "res = bowtie_filter.apply(sequence_type, oligo_database_match, 2, reference_database)\n",
    "\n",
    "assert \"WASH7P::1\" not in res.database[\"WASH7P\"].keys(), \"A matching oligo has not been filtered by Bowtie2!\""
   ]
  },
  {
   "cell_type": "code",
   "execution_count": 18,
   "metadata": {},
   "outputs": [],
   "source": [
    "sequence_type = \"target\"\n",
    "\n",
    "oligo_database_nomatch = OligoDatabase(min_oligos_per_region=2, write_regions_with_insufficient_oligos=True, dir_output=dir_output)\n",
    "oligo_database_nomatch.load_database(file_database_oligos_nomatch)\n",
    "\n",
    "bowtie_filter = Bowtie2Filter(bowtie2_search_parameters, dir_output=dir_output)\n",
    "res = bowtie_filter.apply(sequence_type, oligo_database_nomatch, 2, reference_database)\n",
    "\n",
    "assert \"AGRN::1\" in res.database[\"AGRN\"].keys(), \"A non matching oligo has been filtered by Bowtie2!\""
   ]
  },
  {
   "cell_type": "markdown",
   "metadata": {},
   "source": [
    "## Test Crosshybridization Filter"
   ]
  },
  {
   "cell_type": "code",
   "execution_count": 19,
   "metadata": {},
   "outputs": [
    {
     "name": "stderr",
     "output_type": "stream",
     "text": [
      "/Users/lisa.barros/Desktop/oligo-designer-toolsuite/oligo_designer_toolsuite/database/_reference_database.py:88: UserWarning: Overwriting database!\n",
      "  warnings.warn(\"Overwriting database!\")\n"
     ]
    }
   ],
   "source": [
    "exactmatch_filter = ExactMatchFilter()\n",
    "policy = RemoveByLargerRegionPolicy()\n",
    "\n",
    "sequence_type = \"oligo\"\n",
    "\n",
    "oligo_database_exact_match = OligoDatabase(min_oligos_per_region=2, write_regions_with_insufficient_oligos=True, dir_output=dir_output)\n",
    "oligo_database_exact_match.load_database(file_database_oligos_exact_match)\n",
    "\n",
    "cross_hyb_filter = CrossHybridizationFilter(policy, exactmatch_filter, dir_output)\n",
    "res = cross_hyb_filter.apply(sequence_type, oligo_database_exact_match, 2)\n",
    "\n",
    "assert \"WASH7P::1\" not in res.database[\"WASH7P\"].keys(), \"A non matching oligo has been filtered by exact matches!\"\n",
    "assert \"WASH7P::3\" not in res.database[\"WASH7P\"].keys(), \"A matching oligo has not been filtered by exact mathces!\"\n",
    "assert \"AGRN::1\" in res.database[\"AGRN\"].keys(), \"A non matching oligo has been filtered by exact matches!\"\n"
   ]
  },
  {
   "cell_type": "code",
   "execution_count": 20,
   "metadata": {},
   "outputs": [
    {
     "name": "stderr",
     "output_type": "stream",
     "text": [
      "/Users/lisa.barros/Desktop/oligo-designer-toolsuite/oligo_designer_toolsuite/database/_reference_database.py:88: UserWarning: Overwriting database!\n",
      "  warnings.warn(\"Overwriting database!\")\n"
     ]
    }
   ],
   "source": [
    "blast_filter = BlastNFilter(blast_search_parameters_crosshyb, blast_hit_parameters_crosshyb, dir_output=dir_output)\n",
    "policy = RemoveByLargerRegionPolicy()\n",
    "\n",
    "sequence_type = \"oligo\"\n",
    "\n",
    "oligo_database_crosshyb = OligoDatabase(min_oligos_per_region=2, write_regions_with_insufficient_oligos=True, dir_output=dir_output)\n",
    "oligo_database_crosshyb.load_database(file_database_oligos_crosshyb)\n",
    "\n",
    "cross_hyb_filter = CrossHybridizationFilter(policy, blast_filter, dir_output)\n",
    "res = cross_hyb_filter.apply(sequence_type, oligo_database_crosshyb, 2)\n",
    "\n",
    "filtered_oligos = {key: {key_2 for key_2 in list(res.database[key].keys())} for key in list(res.database.keys())}\n",
    "assert expected_oligos_bigger_region == filtered_oligos, f\"The cross-hybridization filter didn't return the expected oligos. Expected: {expected_oligos_bigger_region} Got: {filtered_oligos}\""
   ]
  },
  {
   "cell_type": "code",
   "execution_count": 21,
   "metadata": {},
   "outputs": [
    {
     "name": "stderr",
     "output_type": "stream",
     "text": [
      "/Users/lisa.barros/Desktop/oligo-designer-toolsuite/oligo_designer_toolsuite/database/_reference_database.py:88: UserWarning: Overwriting database!\n",
      "  warnings.warn(\"Overwriting database!\")\n"
     ]
    }
   ],
   "source": [
    "blast_filter = BlastNFilter(blast_search_parameters_crosshyb, blast_hit_parameters_crosshyb, dir_output=dir_output)\n",
    "policy = RemoveByDegreePolicy()\n",
    "\n",
    "sequence_type = \"oligo\"\n",
    "\n",
    "oligo_database_crosshyb = OligoDatabase(min_oligos_per_region=2, write_regions_with_insufficient_oligos=True, dir_output=dir_output)\n",
    "oligo_database_crosshyb.load_database(file_database_oligos_crosshyb)\n",
    "\n",
    "cross_hyb_filter = CrossHybridizationFilter(policy, blast_filter, dir_output)\n",
    "res = cross_hyb_filter.apply(sequence_type, oligo_database_crosshyb, 2)\n",
    "\n",
    "filtered_oligos = {key: {key_2 for key_2 in list(res.database[key].keys())} for key in list(res.database.keys())}\n",
    "assert expected_oligos_degree == filtered_oligos, f\"The cross-hybridization filter didn't return the expected oligos. Expected: {expected_oligos_degree} Got: {filtered_oligos}\""
   ]
  },
  {
   "cell_type": "code",
   "execution_count": 22,
   "metadata": {},
   "outputs": [
    {
     "name": "stderr",
     "output_type": "stream",
     "text": [
      "/Users/lisa.barros/Desktop/oligo-designer-toolsuite/oligo_designer_toolsuite/database/_reference_database.py:88: UserWarning: Overwriting database!\n",
      "  warnings.warn(\"Overwriting database!\")\n",
      "# reads processed: 8\n",
      "# reads with at least one alignment: 4 (50.00%)\n",
      "# reads that failed to align: 4 (50.00%)\n",
      "Reported 4 alignments\n",
      "# reads processed: 7\n",
      "# reads with at least one alignment: 2 (28.57%)\n",
      "# reads that failed to align: 5 (71.43%)\n",
      "Reported 2 alignments\n",
      "# reads processed: 5\n",
      "# reads with at least one alignment: 3 (60.00%)\n",
      "# reads that failed to align: 2 (40.00%)\n",
      "Reported 4 alignments\n"
     ]
    }
   ],
   "source": [
    "bowtie_filter = BowtieFilter(bowtie_search_parameters_crosshyb, dir_output=dir_output)\n",
    "policy = RemoveByLargerRegionPolicy()\n",
    "\n",
    "sequence_type = \"oligo\"\n",
    "\n",
    "oligo_database_crosshyb = OligoDatabase(min_oligos_per_region=2, write_regions_with_insufficient_oligos=True, dir_output=dir_output)\n",
    "oligo_database_crosshyb.load_database(file_database_oligos_crosshyb)\n",
    "\n",
    "cross_hyb_filter = CrossHybridizationFilter(policy, bowtie_filter, dir_output)\n",
    "res = cross_hyb_filter.apply(sequence_type, oligo_database_crosshyb, 2)\n",
    "\n",
    "filtered_oligos = {key: {key_2 for key_2 in list(res.database[key].keys())} for key in list(res.database.keys())}\n",
    "assert expected_oligos_bigger_region == filtered_oligos, f\"The cross-hybridization filter didn't return the expected oligos. Expected: {expected_oligos_bigger_region} Got: {filtered_oligos}\""
   ]
  },
  {
   "cell_type": "code",
   "execution_count": 23,
   "metadata": {},
   "outputs": [
    {
     "name": "stderr",
     "output_type": "stream",
     "text": [
      "/Users/lisa.barros/Desktop/oligo-designer-toolsuite/oligo_designer_toolsuite/database/_reference_database.py:88: UserWarning: Overwriting database!\n",
      "  warnings.warn(\"Overwriting database!\")\n",
      "# reads processed: 8\n",
      "# reads with at least one alignment: 4 (50.00%)\n",
      "# reads that failed to align: 4 (50.00%)\n",
      "Reported 4 alignments\n",
      "# reads processed: 7\n",
      "# reads with at least one alignment: 2 (28.57%)\n",
      "# reads that failed to align: 5 (71.43%)\n",
      "Reported 2 alignments\n",
      "# reads processed: 5\n",
      "# reads with at least one alignment: 3 (60.00%)\n",
      "# reads that failed to align: 2 (40.00%)\n",
      "Reported 4 alignments\n"
     ]
    }
   ],
   "source": [
    "bowtie_filter = BowtieFilter(bowtie_search_parameters_crosshyb, dir_output=dir_output)\n",
    "policy = RemoveByDegreePolicy()\n",
    "\n",
    "sequence_type = \"oligo\"\n",
    "\n",
    "oligo_database_crosshyb = OligoDatabase(min_oligos_per_region=2, write_regions_with_insufficient_oligos=True, dir_output=dir_output)\n",
    "oligo_database_crosshyb.load_database(file_database_oligos_crosshyb)\n",
    "\n",
    "cross_hyb_filter = CrossHybridizationFilter(policy, bowtie_filter, dir_output)\n",
    "res = cross_hyb_filter.apply(sequence_type, oligo_database_crosshyb, 2)\n",
    "\n",
    "filtered_oligos = {key: {key_2 for key_2 in list(res.database[key].keys())} for key in list(res.database.keys())}\n",
    "assert expected_oligos_degree == filtered_oligos, f\"The cross-hybridization filter didn't return the expected oligos. Expected: {expected_oligos_degree} Got: {filtered_oligos}\""
   ]
  }
 ],
 "metadata": {
  "kernelspec": {
   "display_name": "Python 3",
   "language": "python",
   "name": "python3"
  },
  "language_info": {
   "codemirror_mode": {
    "name": "ipython",
    "version": 3
   },
   "file_extension": ".py",
   "mimetype": "text/x-python",
   "name": "python",
   "nbconvert_exporter": "python",
   "pygments_lexer": "ipython3",
   "version": "3.10.13"
  },
  "orig_nbformat": 4,
  "vscode": {
   "interpreter": {
    "hash": "aee8b7b246df8f9039afb4144a1f6fd8d2ca17a180786b69acc140d282b71a49"
   }
  }
 },
 "nbformat": 4,
 "nbformat_minor": 2
}
