{
 "cells": [
  {
   "cell_type": "markdown",
   "metadata": {},
   "source": [
    "Run blastn genewise"
   ]
  },
  {
   "cell_type": "code",
   "execution_count": 1,
   "metadata": {},
   "outputs": [],
   "source": [
    "import os\n",
    "os.chdir('../../' )\n",
    "cwd=os.getcwd()\n",
    "\n",
    "from oligo_designer_toolsuite.oligo_specificity_filter._filter_base import ProbeFilterBase\n",
    "from oligo_designer_toolsuite.oligo_specificity_filter._filter_exact import ProbeFilterExact\n",
    "from oligo_designer_toolsuite.oligo_specificity_filter._filter_blastn import ProbeFilterBlastn"
   ]
  },
  {
   "cell_type": "code",
   "execution_count": 2,
   "metadata": {},
   "outputs": [
    {
     "data": {
      "text/plain": [
       "'/home/chels/CRISPR/repos/oligo-designer-toolsuite'"
      ]
     },
     "execution_count": 2,
     "metadata": {},
     "output_type": "execute_result"
    }
   ],
   "source": [
    "cwd"
   ]
  },
  {
   "cell_type": "code",
   "execution_count": 2,
   "metadata": {},
   "outputs": [],
   "source": [
    "from oligo_designer_toolsuite.IO._data_parser import read_gtf\n",
    "\n",
    "gtf= cwd + \"/output/annotations/GCF_000001405.40_GRCh38.p14_genomic.gtf\"\n",
    "\n",
    "df=read_gtf(gtf)"
   ]
  },
  {
   "cell_type": "code",
   "execution_count": 3,
   "metadata": {},
   "outputs": [],
   "source": [
    "genes=df[\"gene_id\"].tolist()[:100]\n",
    "ligation_region=0\n",
    "dir_output=cwd + \"/output/\"\n",
    "dir_annotations=dir_output+\"annotations/\"\n",
    "file_probe_info=dir_annotations + \"oligo_DB_unknown_unknown_Custom_release_unknown_gene_transcript\"\n",
    "min_probes_per_gene=2\n",
    "file_transcriptome_fasta=dir_output +\"annotations/reference_DB_unknown_unknown_Custom_release_unknown_genome_False_gene_transcript_True\"\n",
    "word_size=10\n",
    "percent_identity=80\n",
    "probe_length_min=30\n",
    "probe_length_max=40\n",
    "coverage=60"
   ]
  },
  {
   "cell_type": "markdown",
   "metadata": {},
   "source": [
    "Run for no. batches=no. genes"
   ]
  },
  {
   "cell_type": "code",
   "execution_count": 6,
   "metadata": {},
   "outputs": [
    {
     "name": "stdout",
     "output_type": "stream",
     "text": [
      "INFO:filter_probes:Creating batches\n",
      "INFO:filter_probes:Exact matches filtered in 0.5288085000001956 seconds\n",
      "INFO:filter_probes:Creating blast database\n",
      "INFO:filter_probes:Blast database created in 27.879516999999396 seconds\n",
      "INFO:filter_probes:Blast alignmnet search finished in 9.00010360000033 seconds\n",
      "INFO:filter_probes:Blast results processed in 0.9777730000005249 seconds\n"
     ]
    }
   ],
   "source": [
    "\n",
    "number_batches=len(genes)\n",
    "filter_exact=ProbeFilterExact(number_batches, ligation_region,\n",
    "        dir_output,\n",
    "        file_probe_info,\n",
    "        genes,\n",
    "        min_probes_per_gene,\n",
    "        dir_annotations)\n",
    "\n",
    "blast_filter=ProbeFilterBlastn(number_batches,\n",
    "        file_transcriptome_fasta, \n",
    "        ligation_region,\n",
    "        dir_output,\n",
    "        file_probe_info,\n",
    "        genes,\n",
    "        min_probes_per_gene, word_size, percent_identity, probe_length_min, probe_length_max, coverage)\n",
    "\n",
    "filter_exact.apply()\n",
    "blast_filter.apply()"
   ]
  },
  {
   "cell_type": "markdown",
   "metadata": {},
   "source": [
    "Run filter for 8 batches (number cpus)"
   ]
  },
  {
   "cell_type": "code",
   "execution_count": 5,
   "metadata": {},
   "outputs": [
    {
     "name": "stdout",
     "output_type": "stream",
     "text": [
      "INFO:filter_probes:Creating batches\n",
      "INFO:filter_probes:Exact matches filtered in 0.41575880000073084 seconds\n",
      "INFO:filter_probes:Creating blast database\n",
      "INFO:filter_probes:Blast database created in 39.262963899999704 seconds\n",
      "INFO:filter_probes:Blast alignmnet search finished in 10.247859300000528 seconds\n",
      "INFO:filter_probes:Blast results processed in 0.7422986000001401 seconds\n"
     ]
    }
   ],
   "source": [
    "number_batches=8\n",
    "\n",
    "filter_exact=ProbeFilterExact(number_batches, ligation_region,\n",
    "        dir_output,\n",
    "        file_probe_info,\n",
    "        genes,\n",
    "        min_probes_per_gene,\n",
    "        dir_annotations)\n",
    "\n",
    "blast_filter=ProbeFilterBlastn(number_batches,\n",
    "        file_transcriptome_fasta, \n",
    "        ligation_region,\n",
    "        dir_output,\n",
    "        file_probe_info,\n",
    "        genes,\n",
    "        min_probes_per_gene, word_size, percent_identity, probe_length_min, probe_length_max, coverage)\n",
    "\n",
    "\n",
    "filter_exact.apply()\n",
    "blast_filter.apply()"
   ]
  },
  {
   "cell_type": "markdown",
   "metadata": {},
   "source": [
    "Run filter for 5 batches (2 genes per batch)"
   ]
  },
  {
   "cell_type": "code",
   "execution_count": 9,
   "metadata": {},
   "outputs": [],
   "source": [
    "number_batches=5\n",
    "\n",
    "        \n",
    "filter_exact=ProbeFilterExact(number_batches, ligation_region,\n",
    "        dir_output,\n",
    "        file_probe_info,\n",
    "        genes,\n",
    "        min_probes_per_gene,\n",
    "        dir_annotations)\n",
    "\n",
    "blast_filter=ProbeFilterBlastn(number_batches,\n",
    "        file_transcriptome_fasta, \n",
    "        ligation_region,\n",
    "        dir_output,\n",
    "        file_probe_info,\n",
    "        genes, min_probes_per_gene,\n",
    "        word_size, percent_identity, probe_length_min, probe_length_max, coverage)"
   ]
  },
  {
   "cell_type": "code",
   "execution_count": 10,
   "metadata": {},
   "outputs": [
    {
     "name": "stdout",
     "output_type": "stream",
     "text": [
      "INFO:filter_probes:Creating batches\n",
      "INFO:filter_probes:Exact matches filtered in 0.04456019999997807 seconds\n"
     ]
    }
   ],
   "source": [
    "filter_exact.apply()"
   ]
  },
  {
   "cell_type": "code",
   "execution_count": 11,
   "metadata": {},
   "outputs": [
    {
     "name": "stdout",
     "output_type": "stream",
     "text": [
      "INFO:filter_probes:Creating blast database\n",
      "INFO:filter_probes:Blast database created in 29.68888589999915 seconds\n",
      "INFO:filter_probes:Blast alignmnet search finished in 1.0400885000017297 seconds\n",
      "INFO:filter_probes:Blast results processed in 0.1416412999969907 seconds\n"
     ]
    }
   ],
   "source": [
    "blast_filter.apply()"
   ]
  },
  {
   "cell_type": "markdown",
   "metadata": {},
   "source": [
    "Run filter for 1 batch"
   ]
  },
  {
   "cell_type": "code",
   "execution_count": 15,
   "metadata": {},
   "outputs": [],
   "source": [
    "number_batches=1\n",
    "\n",
    "filter_exact=ProbeFilterExact(number_batches, ligation_region,\n",
    "        dir_output,\n",
    "        file_probe_info,\n",
    "        genes,\n",
    "        min_probes_per_gene,\n",
    "        dir_annotations)\n",
    "\n",
    "blast_filter=ProbeFilterBlastn(number_batches,\n",
    "        file_transcriptome_fasta, \n",
    "        ligation_region,\n",
    "        dir_output,\n",
    "        file_probe_info,\n",
    "        genes, min_probes_per_gene,\n",
    "        word_size, percent_identity, probe_length_min, probe_length_max, coverage)"
   ]
  },
  {
   "cell_type": "code",
   "execution_count": 16,
   "metadata": {},
   "outputs": [
    {
     "name": "stdout",
     "output_type": "stream",
     "text": [
      "INFO:filter_probes:Creating batches\n",
      "INFO:filter_probes:Exact matches filtered in 0.019585199999710312 seconds\n"
     ]
    }
   ],
   "source": [
    "filter_exact.apply()"
   ]
  },
  {
   "cell_type": "code",
   "execution_count": 17,
   "metadata": {},
   "outputs": [
    {
     "name": "stdout",
     "output_type": "stream",
     "text": [
      "INFO:filter_probes:Creating blast database\n",
      "INFO:filter_probes:Blast database created in 26.746704400000453 seconds\n",
      "INFO:filter_probes:Blast alignmnet search finished in 1.1757191000033345 seconds\n",
      "INFO:filter_probes:Blast results processed in 0.11555640000005951 seconds\n"
     ]
    }
   ],
   "source": [
    "blast_filter.apply()"
   ]
  },
  {
   "cell_type": "markdown",
   "metadata": {},
   "source": [
    "Run filter for 2 batches (5 genes per batch)"
   ]
  },
  {
   "cell_type": "code",
   "execution_count": 12,
   "metadata": {},
   "outputs": [],
   "source": [
    "number_batches=2\n",
    "\n",
    "filter_exact=ProbeFilterExact(number_batches, ligation_region,\n",
    "        dir_output,\n",
    "        file_probe_info,\n",
    "        genes,\n",
    "        min_probes_per_gene,\n",
    "        dir_annotations)\n",
    "\n",
    "blast_filter=ProbeFilterBlastn(number_batches,\n",
    "        file_transcriptome_fasta, \n",
    "        ligation_region,\n",
    "        dir_output,\n",
    "        file_probe_info,\n",
    "        genes, min_probes_per_gene,\n",
    "        word_size, percent_identity, probe_length_min, probe_length_max, coverage)"
   ]
  },
  {
   "cell_type": "code",
   "execution_count": 13,
   "metadata": {},
   "outputs": [
    {
     "name": "stdout",
     "output_type": "stream",
     "text": [
      "INFO:filter_probes:Creating batches\n",
      "INFO:filter_probes:Exact matches filtered in 0.014794200000324054 seconds\n"
     ]
    }
   ],
   "source": [
    "filter_exact.apply()"
   ]
  },
  {
   "cell_type": "code",
   "execution_count": 14,
   "metadata": {},
   "outputs": [
    {
     "name": "stdout",
     "output_type": "stream",
     "text": [
      "INFO:filter_probes:Creating blast database\n",
      "INFO:filter_probes:Blast database created in 28.575938599999063 seconds\n",
      "INFO:filter_probes:Blast alignmnet search finished in 0.9676265000016429 seconds\n",
      "INFO:filter_probes:Blast results processed in 0.15396490000057383 seconds\n"
     ]
    }
   ],
   "source": [
    "blast_filter.apply()"
   ]
  },
  {
   "cell_type": "markdown",
   "metadata": {},
   "source": [
    "Check correlation between no. input probes and file size"
   ]
  },
  {
   "cell_type": "code",
   "execution_count": 7,
   "metadata": {},
   "outputs": [
    {
     "name": "stdout",
     "output_type": "stream",
     "text": [
      "Blast run in 29.329777799997828 seconds\n",
      "no_probes_per_batch: [614, 1342, 48, 1092, 588, 852, 2100, 678, 2472, 2948]\n",
      "blast_file_size_per_batch: [473881, 957068, 8818, 461997, 317143, 330968, 3196579, 495229, 2857723, 2939119]\n"
     ]
    }
   ],
   "source": [
    "\n",
    "batches=[10]\n",
    "number_subbatches=1\n",
    "no_probes_per_batch=[]\n",
    "blast_file_size_per_batch=[]\n",
    "for i in batches:\n",
    "    filter_exact.apply(number_batches=i)\n",
    "\n",
    "    #check no probes per batch \n",
    "    for batch_id in range(i):\n",
    "        for subbatch_id in range(number_subbatches):\n",
    "            file_probe_fasta_batch = os.path.join(\n",
    "                dir_annotations,\n",
    "                \"probes_sequence_batch{}_{}.fna\".format(batch_id, subbatch_id),\n",
    "            )\n",
    "            with open(file_probe_fasta_batch, \"r\") as handle:\n",
    "                sequences_batch = [line.rstrip() for line in handle]\n",
    "            probes_in_batch=len(sequences_batch)\n",
    "            no_probes_per_batch.append(probes_in_batch)\n",
    "\n",
    "    #run blast\n",
    "    blast_filter.run_blast_search(i)\n",
    "\n",
    "    for batch_id in range(i):\n",
    "        for subbatch_id in range(number_subbatches):\n",
    "            #get size of blast results file\n",
    "            dir_blast=os.path.join(dir_output, \"blast\")\n",
    "            file_blast_batch = os.path.join(\n",
    "                dir_blast, \"blast_batch{}_{}.txt\".format(batch_id, subbatch_id)\n",
    "            )\n",
    "            blast_file_size=os.path.getsize(file_blast_batch)\n",
    "            blast_file_size_per_batch.append(blast_file_size)\n",
    "\n",
    "print(f\"no_probes_per_batch: {no_probes_per_batch}\" )\n",
    "print(f\"blast_file_size_per_batch: {blast_file_size_per_batch}\" )"
   ]
  },
  {
   "cell_type": "code",
   "execution_count": 10,
   "metadata": {},
   "outputs": [
    {
     "data": {
      "image/png": "[encoded data removed]",
      "text/plain": [
       "<Figure size 432x288 with 1 Axes>"
      ]
     },
     "metadata": {
      "needs_background": "light"
     },
     "output_type": "display_data"
    }
   ],
   "source": [
    "import matplotlib.pyplot as plt\n",
    "plt.plot(no_probes_per_batch, blast_file_size_per_batch, 'ro')\n",
    "plt.xlabel('no. probes in batch')\n",
    "plt.ylabel('blast file size per batch (bytes)')\n",
    "plt.show()\n",
    "\n",
    "#Approx linear relationship between no. probes in batch and blast file size per batch."
   ]
  },
  {
   "cell_type": "code",
   "execution_count": 4,
   "metadata": {},
   "outputs": [],
   "source": [
    "#apply filter\n",
    "filter_exact.apply()\n",
    "\n",
    "#for n=10,5,2 batches:\n",
    "\n",
    "#check no probes per batch \n",
    "\n",
    "#run blast\n",
    "\n",
    "#make graph x- different batches (with approx no probes), y file size of each batch (should be approx a straight line)\n",
    "\n",
    "#run experiment again for n\n"
   ]
  }
 ],
 "metadata": {
  "kernelspec": {
   "display_name": "Python 3.10.4 ('oligo': conda)",
   "language": "python",
   "name": "python3"
  },
  "language_info": {
   "codemirror_mode": {
    "name": "ipython",
    "version": 3
   },
   "file_extension": ".py",
   "mimetype": "text/x-python",
   "name": "python",
   "nbconvert_exporter": "python",
   "pygments_lexer": "ipython3",
   "version": "3.10.4"
  },
  "orig_nbformat": 4,
  "vscode": {
   "interpreter": {
    "hash": "797cf0fae3aa9496144015db7114399f14bdbbab56900ed16736529315e01dbb"
   }
  }
 },
 "nbformat": 4,
 "nbformat_minor": 2
}
