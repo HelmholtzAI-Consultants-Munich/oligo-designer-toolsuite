{
   "cells": [
      {
         "cell_type": "code",
         "execution_count": 1,
         "metadata": {},
         "outputs": [
            {
               "name": "stdout",
               "output_type": "stream",
               "text": [
                  "/home/francesco/Desktop/Work/oligo-designer-toolsuite/output\n"
               ]
            }
         ],
         "source": [
            "import os\n",
            "import sys\n",
            "import time\n",
            "\n",
            "os.chdir('../' )\n",
            "cwd = os.getcwd()\n",
            "sys.path.append(cwd)\n",
            "\n",
            "from oligo_designer_toolsuite.IO._database import CustomDB\n",
            "from oligo_designer_toolsuite.oligo_selection._generate_probesets_h import ProbesetGenerator as ProbesetGenerator_h\n",
            "from oligo_designer_toolsuite.oligo_selection._generate_probesets import ProbesetGenerator\n",
            "from oligo_designer_toolsuite.oligo_efficiency import PadlockProbeScoring, PadlockSetScoring, AverageSetScoring\n",
            "from oligo_designer_toolsuite.oligo_selection import padlock_heuristic_selection\n",
            "from oligo_designer_toolsuite.experiment_specific import PadlockSequenceDesigner\n",
            "\n",
            "from Bio.SeqUtils import MeltingTemp as mt\n",
            "\n",
            "os.chdir('../' )\n",
            "cwd = os.getcwd()\n",
            "dir_output  = os.path.join(cwd, 'oligo-designer-toolsuite/output')\n",
            "print(dir_output)\n",
            "\n"
         ]
      },
      {
         "cell_type": "markdown",
         "metadata": {},
         "source": [
            "Initilitze the classes"
         ]
      },
      {
         "cell_type": "code",
         "execution_count": 2,
         "metadata": {},
         "outputs": [
            {
               "name": "stderr",
               "output_type": "stream",
               "text": [
                  "/home/francesco/Desktop/Work/oligo-designer-toolsuite/oligo_designer_toolsuite/IO/_database.py:64: UserWarning: Species not specified.\n",
                  "  warnings.warn(\"Species not specified.\")\n",
                  "/home/francesco/Desktop/Work/oligo-designer-toolsuite/oligo_designer_toolsuite/IO/_database.py:68: UserWarning: Genome assembly not specified.\n",
                  "  warnings.warn(f\"Genome assembly not specified.\")\n",
                  "/home/francesco/Desktop/Work/oligo-designer-toolsuite/oligo_designer_toolsuite/IO/_database.py:72: UserWarning: Annotation release not specified.\n",
                  "  warnings.warn(f\"Annotation release not specified.\")\n",
                  "/home/francesco/Desktop/Work/oligo-designer-toolsuite/oligo_designer_toolsuite/IO/_database.py:76: UserWarning: Annotation source not specified.\n",
                  "  warnings.warn(f\"Annotation source not specified.\")\n"
               ]
            }
         ],
         "source": [
            "dir_annotation = '/home/francesco/Desktop/Work/NCBI'\n",
            "annotation = dir_annotation+'/GCF_000001405.40_GRCh38.p14_genomic.gtf'\n",
            "sequence = dir_annotation+'/GCF_000001405.40_GRCh38.p14_genomic.fna'\n",
            "file_oligos = '/home/francesco/Desktop/Work/oligo-designer-toolsuite/output/specificity_filter/oligo_DB_human_GRCh38_NCBI_release_current_gene_transcript.tsv'\n",
            "#file_oligos = \"/home/francesco/Desktop/Work/oligo-designer-toolsuite/output/specificity_filter/probes_info.txt\"\n",
            "\n",
            "database = CustomDB(probe_length_min = 30, probe_length_max = 40, dir_output=dir_output, file_annotation=annotation, file_sequence=sequence)\n",
            "database.read_oligos_DB(format = 'tsv', file_oligos_DB_tsv = file_oligos)\n",
            "#enalrge teh DB\n",
            "genes = list(database.oligos_DB.keys())\n",
            "\"\"\"for gene in genes:\n",
            "    for i in range(1):\n",
            "        database.oligos_DB[gene+f'_{i}'] = database.oligos_DB[gene]\"\"\"\n",
            "padlock_scoring = PadlockProbeScoring(Tm_min = 52, Tm_opt = 60, Tm_max = 67, GC_content_min = 40, GC_content_opt = 50, GC_content_max = 60)\n",
            "set_scoring = PadlockSetScoring()\n",
            "#set_scoring = AverageSetScoring()\n",
            "n_jobs = 1"
         ]
      },
      {
         "cell_type": "code",
         "execution_count": 7,
         "metadata": {},
         "outputs": [
            {
               "name": "stdout",
               "output_type": "stream",
               "text": [
                  "time to process: 0.37003397941589355\n",
                  "AGRN: 0.8988571428571426, nsets: 40\n",
                  "TTLL10: 0.8430000000000005, nsets: 10\n",
                  "UBE2J2: 0.42571428571428527, nsets: 48\n",
                  "MIB2: 0.4742857142857143, nsets: 100\n"
               ]
            }
         ],
         "source": [
            "probeset_generator = ProbesetGenerator(probeset_size = 5, \n",
            "                                        min_probeset_size= 2,\n",
            "                                        probes_scoring = padlock_scoring, \n",
            "                                        set_scoring=set_scoring,\n",
            "                                        heurustic_selection=padlock_heuristic_selection\n",
            "                                    )\n",
            "start = time.time()\n",
            "database = probeset_generator.apply(database, n_sets=100, n_jobs=n_jobs)\n",
            "print(f'time to process: {time.time() - start}')\n",
            "database.write_probesets(dir_probesets='probesets')\n",
            "for key in database.probesets.keys():\n",
            "    print(f\"{key}: {database.probesets[key].iloc[0]['set_score_0']}, nsets: {len(database.probesets[key])}\")"
         ]
      },
      {
         "cell_type": "code",
         "execution_count": 10,
         "metadata": {},
         "outputs": [
            {
               "name": "stdout",
               "output_type": "stream",
               "text": [
                  "time to process: 27.360677003860474\n",
                  "AGRN: 0.8988571428571426, nsets: 40\n",
                  "TTLL10: 1.0032857142857141, nsets: 72\n",
                  "UBE2J2: 0.40157142857142863, nsets: 100\n",
                  "MIB2: 0.5587142857142859, nsets: 100\n"
               ]
            }
         ],
         "source": [
            "probeset_generator = ProbesetGenerator_h(probeset_size = 5, \n",
            "                                        min_probeset_size= 2,\n",
            "                                        probes_scoring = padlock_scoring, \n",
            "                                        set_scoring=set_scoring,\n",
            "                                        sort_ascending=True,\n",
            "                                    )\n",
            "start = time.time()\n",
            "database.read_oligos_DB(format = 'tsv', file_oligos_DB_tsv = file_oligos)\n",
            "database = probeset_generator.apply(database, n_sets=100, n_jobs=n_jobs, tries = 400, tries_decade=1e-1)\n",
            "print(f'time to process: {time.time() - start}')\n",
            "database.write_probesets(dir_probesets='probesets_heuristic')\n",
            "for key in database.probesets.keys():\n",
            "    print(f\"{key}: {database.probesets[key].iloc[0]['set_score_0']}, nsets: {len(database.probesets[key])}\")"
         ]
      },
      {
         "attachments": {},
         "cell_type": "markdown",
         "metadata": {},
         "source": [
            "time to process: 7.8144309520721436\n",
            "AGRN: 0.8988571428571426\n",
            "TTLL10: 1.0032857142857141\n",
            "UBE2J2: 0.5674285714285711\n",
            "MIB2: 0.558714285714285"
         ]
      },
      {
         "cell_type": "code",
         "execution_count": 5,
         "metadata": {},
         "outputs": [
            {
               "name": "stdout",
               "output_type": "stream",
               "text": [
                  "[ True False  True  True  True]\n",
                  "[0 2 3 4]\n",
                  "0\n",
                  "2\n",
                  "3\n",
                  "4\n",
                  "4\n"
               ]
            }
         ],
         "source": [
            "import numpy as np\n",
            "a = np.random.rand(5) > 0.3\n",
            "print(a)\n",
            "b = np.where(a)[0]\n",
            "print(b)\n",
            "for elem in b:\n",
            "    print(elem)\n",
            "print(len(b))"
         ]
      },
      {
         "attachments": {},
         "cell_type": "markdown",
         "metadata": {},
         "source": [
            "Now we create the  padlock probes probes"
         ]
      },
      {
         "cell_type": "code",
         "execution_count": 6,
         "metadata": {},
         "outputs": [],
         "source": [
            "\n",
            "# define the necessary parameters\n",
            "Tm_parameters = {\n",
            "\"check\": True,\n",
            "\"strict\": True,\n",
            "\"c_seq\": None,\n",
            "\"shift\": 0,\n",
            "\"nn_table\": getattr(mt, \"DNA_NN3\"),\n",
            "\"tmm_table\": getattr(mt, \"DNA_TMM1\"),\n",
            "\"imm_table\": getattr(mt, \"DNA_IMM1\"),\n",
            "\"de_table\": getattr(mt, \"DNA_DE1\"),\n",
            "\"dnac1\": 50,  # [nM]\n",
            "\"dnac2\": 0,\n",
            "\"selfcomp\": False,\n",
            "\"dNTPs\": 0,\n",
            "\"saltcorr\": 7,\n",
            "\"Na\": 39,  # [mM]\n",
            "\"K\": 0,  # [mM]\n",
            "\"Tris\": 0,  # [mM]\n",
            "\"Mg\": 0,  # [mM]\n",
            "}\n",
            "\n",
            "Tm_correction_parameters = {\n",
            "\"DMSO\": 0,\n",
            "\"DMSOfactor\": 0.75,\n",
            "\"fmdfactor\": 0.65,\n",
            "\"fmdmethod\": 1,\n",
            "\"GC\": None,\n",
            "\"fmd\": 30,\n",
            "}\n",
            "\n",
            "detect_oligo_length_min = 18 #min length of detection oligo\n",
            "detect_oligo_length_max = 25 #max length of detection oligo\n",
            "detect_oligo_Tm_opt = 32\n",
            "\n",
            "padlock_sequence_designer = PadlockSequenceDesigner(detect_oligo_length_min, detect_oligo_length_max, detect_oligo_Tm_opt, Tm_parameters, Tm_correction_parameters)\n",
            "padlock_sequence_designer.design_padlocks(database)"
         ]
      }
   ],
   "metadata": {
      "kernelspec": {
         "display_name": "Python 3.10.4 ('oligo')",
         "language": "python",
         "name": "python3"
      },
      "language_info": {
         "codemirror_mode": {
            "name": "ipython",
            "version": 3
         },
         "file_extension": ".py",
         "mimetype": "text/x-python",
         "name": "python",
         "nbconvert_exporter": "python",
         "pygments_lexer": "ipython3",
         "version": "3.10.4 (main, Mar 31 2022, 08:41:55) [GCC 7.5.0]"
      },
      "orig_nbformat": 4,
      "vscode": {
         "interpreter": {
            "hash": "7ff94d65164c54a2126c7dc0869520902e3a005d5dddb9f8c3667ad0fd9373c9"
         }
      }
   },
   "nbformat": 4,
   "nbformat_minor": 2
}