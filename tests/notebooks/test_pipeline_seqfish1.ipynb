{
 "cells": [
  {
   "cell_type": "markdown",
   "id": "f2a38aa9-3625-485b-99e0-139f2a2e36b2",
   "metadata": {},
   "source": [
    "# Imports"
   ]
  },
  {
   "cell_type": "code",
   "execution_count": 1,
   "id": "58ed26e3-151d-496b-a944-168a19bc1a04",
   "metadata": {
    "tags": []
   },
   "outputs": [],
   "source": [
    "import os\n",
    "import time\n",
    "from pathlib import Path\n",
    "\n",
    "import yaml\n",
    "\n",
    "from oligo_designer_toolsuite.pipelines import SeqFishPlusProbeDesigner\n",
    "from oligo_designer_toolsuite.database import OligoDatabase, CustomGenomicRegionGenerator\n",
    "\n",
    "from oligo_designer_toolsuite.oligo_specificity_filter import Blastn\n",
    "\n",
    "import pickle"
   ]
  },
  {
   "cell_type": "markdown",
   "id": "c069fe21-2458-4ae2-b29e-aa81c2e5ce53",
   "metadata": {},
   "source": [
    "# Paths"
   ]
  },
  {
   "cell_type": "code",
   "execution_count": 2,
   "id": "15720e9a-cea8-42e9-8c59-cb628113910e",
   "metadata": {
    "tags": []
   },
   "outputs": [],
   "source": [
    "seqfish_config_path = \"../tutorials/configs/probe_design_SPOT_custom.yaml\""
   ]
  },
  {
   "cell_type": "code",
   "execution_count": 3,
   "id": "cc6b8518-fa7e-4867-bed6-92b8fb874ea3",
   "metadata": {
    "tags": []
   },
   "outputs": [],
   "source": [
    "with open(seqfish_config_path, \"r\") as handle:\n",
    "        config = yaml.safe_load(handle)\n",
    "        \n",
    "dir_output = \"output_seqfish\"\n",
    "Path(dir_output).mkdir(parents=True, exist_ok=True)"
   ]
  },
  {
   "cell_type": "markdown",
   "id": "2aba10ab-aedf-40cb-9de1-973cce43d3d4",
   "metadata": {
    "tags": []
   },
   "source": [
    "# Pipeline"
   ]
  },
  {
   "cell_type": "code",
   "execution_count": 4,
   "id": "e79981cd-e225-46da-9723-3aa3db5e3c00",
   "metadata": {
    "tags": []
   },
   "outputs": [],
   "source": [
    "# probe_designer = SeqFishPlusProbeDesigner(dir_output=dir_output)"
   ]
  },
  {
   "cell_type": "code",
   "execution_count": 5,
   "id": "b1821493-bbbb-44c8-859d-f81095dba868",
   "metadata": {
    "tags": []
   },
   "outputs": [],
   "source": [
    "# probe_designer.load_annotations(\n",
    "#         source=config[\"source\"], source_params=config[\"source_params\"]\n",
    "#     )\n"
   ]
  },
  {
   "cell_type": "code",
   "execution_count": 6,
   "id": "c64961c1-d288-45af-9e6c-1e21a10d075d",
   "metadata": {
    "tags": []
   },
   "outputs": [],
   "source": [
    "# with open('probe_designer.pickle', 'wb') as handle:\n",
    "#     pickle.dump(probe_designer, handle, protocol=pickle.HIGHEST_PROTOCOL)"
   ]
  },
  {
   "cell_type": "code",
   "execution_count": 7,
   "id": "9667ccf1-88fe-4b2e-a916-8844666a71be",
   "metadata": {
    "tags": []
   },
   "outputs": [],
   "source": [
    "with open('probe_designer.pickle', 'rb') as handle:\n",
    "    probe_designer = pickle.load(handle)"
   ]
  },
  {
   "cell_type": "code",
   "execution_count": 8,
   "id": "6aa86bb3-926a-43ae-8602-98fd2e18e9be",
   "metadata": {
    "tags": []
   },
   "outputs": [],
   "source": [
    "if config[\"file_genes\"] is None:\n",
    "    warnings.warn(\n",
    "        \"No gene list file was provided! All genes from fasta file are used to generate the probes. This chioce can use a lot of resources.\"\n",
    "    )\n",
    "    genes = None\n",
    "else:\n",
    "    with open(config[\"file_genes\"]) as handle:\n",
    "        lines = handle.readlines()\n",
    "        genes = [line.rstrip() for line in lines]"
   ]
  },
  {
   "cell_type": "code",
   "execution_count": 9,
   "id": "a5af2f8f-3f3a-4448-adee-bf445378570e",
   "metadata": {
    "tags": []
   },
   "outputs": [
    {
     "name": "stderr",
     "output_type": "stream",
     "text": [
      "Warning: the index file is older than the FASTA file.\n"
     ]
    }
   ],
   "source": [
    "##### create probe database #####\n",
    "probe_database, file_database = probe_designer.create_probe_database(\n",
    "    genes=genes,\n",
    "    probe_length_min=config[\"oligo_length_min\"],\n",
    "    probe_length_max=config[\"oligo_length_max\"],\n",
    "    min_probes_per_gene=config[\"min_oligos_per_gene\"],\n",
    "    n_jobs=config[\"n_jobs\"],\n",
    ")"
   ]
  },
  {
   "cell_type": "code",
   "execution_count": null,
   "id": "84530c5b-6589-46e3-a865-8c3dd0d3aba6",
   "metadata": {},
   "outputs": [],
   "source": [
    "oligo_database.load_oligo_database(\"output_seqfish/oligo_database/probe_database_initial.tsv\")"
   ]
  },
  {
   "cell_type": "code",
   "execution_count": 10,
   "id": "e169a0bf-9813-4781-b369-1f9616289c00",
   "metadata": {
    "tags": []
   },
   "outputs": [],
   "source": [
    "##### filter probes by property #####\n",
    "probe_database, file_database = probe_designer.filter_probes_by_property(\n",
    "    probe_database,\n",
    "    GC_content_min=config[\"GC_content_min\"],\n",
    "    GC_content_max=config[\"GC_content_max\"],\n",
    "    number_consecutive=config[\"number_consecutive\"],\n",
    "    n_jobs=config[\"n_jobs\"],\n",
    ")"
   ]
  },
  {
   "cell_type": "code",
   "execution_count": null,
   "id": "47434feb-637c-4b03-afe6-1d78e70996f5",
   "metadata": {},
   "outputs": [],
   "source": []
  },
  {
   "cell_type": "code",
   "execution_count": 11,
   "id": "10eb0ca6-cafd-4cdd-a9a5-1c138175372f",
   "metadata": {
    "tags": []
   },
   "outputs": [
    {
     "name": "stderr",
     "output_type": "stream",
     "text": [
      "Warning: the index file is older than the FASTA file.\n"
     ]
    }
   ],
   "source": [
    "##### filter probes by specificity #####\n",
    "probe_database, file_database = probe_designer.filter_probes_by_specificity(\n",
    "    probe_database,\n",
    "    probe_length_max=config[\"oligo_length_max\"],\n",
    "    word_size=config[\"word_size\"],\n",
    "    percent_identity=config[\"percent_identity\"],\n",
    "    coverage=config[\"coverage\"],\n",
    "    strand=config[\"strand\"],\n",
    "    n_jobs=config[\"n_jobs\"],\n",
    ")"
   ]
  },
  {
   "cell_type": "code",
   "execution_count": 12,
   "id": "214b9f99-f3c7-4ac2-8f50-2485f8c61a1a",
   "metadata": {},
   "outputs": [
    {
     "data": {
      "text/plain": [
       "{}"
      ]
     },
     "execution_count": 12,
     "metadata": {},
     "output_type": "execute_result"
    }
   ],
   "source": [
    "probe_database.database"
   ]
  },
  {
   "cell_type": "code",
   "execution_count": 13,
   "id": "d7dc7ffe-08c9-48dd-909d-c3ef6604955e",
   "metadata": {
    "tags": []
   },
   "outputs": [
    {
     "name": "stderr",
     "output_type": "stream",
     "text": [
      "/Users/isra.mekki/Projects/odt/oligo-designer-toolsuite/oligo_designer_toolsuite/database/_oligos_database.py:91: UserWarning: No files_source defined. Using default files_source custom!\n",
      "  warnings.warn(\n",
      "/Users/isra.mekki/Projects/odt/oligo-designer-toolsuite/oligo_designer_toolsuite/database/_oligos_database.py:97: UserWarning: No species defined. Using default species unknown!\n",
      "  warnings.warn(f\"No species defined. Using default species {species}!\")\n",
      "/Users/isra.mekki/Projects/odt/oligo-designer-toolsuite/oligo_designer_toolsuite/database/_oligos_database.py:101: UserWarning: No annotation release defined. Using default release unknown!\n",
      "  warnings.warn(\n",
      "/Users/isra.mekki/Projects/odt/oligo-designer-toolsuite/oligo_designer_toolsuite/database/_oligos_database.py:107: UserWarning: No genome assembly defined. Using default genome assembly unknown!\n",
      "  warnings.warn(\n"
     ]
    }
   ],
   "source": [
    "blastn = Blastn(\n",
    "    dir_specificity=os.path.join(\n",
    "            dir_output, \"specificity_temporary\"\n",
    "        ), \n",
    "    word_size=config[\"word_size\"],\n",
    "    percent_identity=config[\"percent_identity\"],\n",
    "    coverage=config[\"coverage\"],\n",
    "    strand=config[\"strand\"],\n",
    "    #strand='plus',\n",
    ")\n",
    "\n",
    "readout_probes = probe_designer.design_readout_probes(\n",
    "    GC_content_min=config[\"GC_min_readout\"],\n",
    "    GC_content_max=config[\"GC_max_readout\"],\n",
    "    number_consecutive=config[\"number_consecutive_readout\"],\n",
    "    length=config[\"length_readout\"],\n",
    "    blast_filter=blastn,\n",
    "    sequence_alphabet=[\"A\", \"T\", \"G\", \"C\"],\n",
    "    num_probes=config[\"num_pseudocolors\"],\n",
    "    reference_DB=probe_designer.reference,\n",
    ")"
   ]
  },
  {
   "cell_type": "code",
   "execution_count": 14,
   "id": "657028a9-8cf1-4c7e-aaf0-bcb66289f9f8",
   "metadata": {
    "tags": []
   },
   "outputs": [],
   "source": [
    "from oligo_designer_toolsuite.utils import create_seqfish_plus_barcodes\n",
    "\n",
    "def design_final_SeqFishPlus_probes(\n",
    "        oligo_database,\n",
    "        readout_database,\n",
    "        n_pseudocolors,\n",
    "        seed,\n",
    "    ):\n",
    "        barcodes = create_seqfish_plus_barcodes(\n",
    "            n_pseudocolors=n_pseudocolors,\n",
    "            seed=seed,\n",
    "            num_genes=len(oligo_database.database.keys()),\n",
    "        )\n",
    "        print(barcodes)\n",
    "        readout_sequences = readout_database.to_sequence_list()\n",
    "        for i in oligo_database.database.keys():\n",
    "            barcode = barcodes[i]\n",
    "            left = readout_sequences[barcode[0]] + readout_sequences[barcode[1]]\n",
    "            right = readout_sequences[barcode[2]] + readout_sequences[barcode[3]]\n",
    "            \n",
    "            for j in oligo_database[i].keys():\n",
    "                seq = str(oligo_database[i][j][\"sequence\"])\n",
    "                seq = left + seq\n",
    "                seq = seq + right\n",
    "                oligo_database[i][j][\"sequence\"] = Seq(seq)\n",
    "        return oligo_database"
   ]
  },
  {
   "cell_type": "code",
   "execution_count": 15,
   "id": "fe87a436-b99a-41b7-b1f6-ca025b1f832f",
   "metadata": {
    "tags": []
   },
   "outputs": [
    {
     "name": "stdout",
     "output_type": "stream",
     "text": [
      "[]\n"
     ]
    }
   ],
   "source": [
    "olig_db = design_final_SeqFishPlus_probes(\n",
    "        probe_database,\n",
    "        readout_probes,\n",
    "        n_pseudocolors=config[\"num_pseudocolors\"],\n",
    "        seed=0,  # put seed in config\n",
    "    )"
   ]
  },
  {
   "cell_type": "code",
   "execution_count": 16,
   "id": "6decbf20-4015-416a-8e26-7d8e0d02c58e",
   "metadata": {
    "tags": []
   },
   "outputs": [
    {
     "data": {
      "text/plain": [
       "{}"
      ]
     },
     "execution_count": 16,
     "metadata": {},
     "output_type": "execute_result"
    }
   ],
   "source": [
    "probe_database.database"
   ]
  },
  {
   "cell_type": "code",
   "execution_count": null,
   "id": "aa02a4f4-a33b-4ae1-af6b-9bf56d533fee",
   "metadata": {},
   "outputs": [],
   "source": []
  }
 ],
 "metadata": {
  "kernelspec": {
   "display_name": "oligo_env",
   "language": "python",
   "name": "oligo_env"
  },
  "language_info": {
   "codemirror_mode": {
    "name": "ipython",
    "version": 3
   },
   "file_extension": ".py",
   "mimetype": "text/x-python",
   "name": "python",
   "nbconvert_exporter": "python",
   "pygments_lexer": "ipython3",
   "version": "3.10.9"
  }
 },
 "nbformat": 4,
 "nbformat_minor": 5
}
