{
 "cells": [
  {
   "cell_type": "code",
   "execution_count": null,
   "metadata": {},
   "outputs": [],
   "source": [
    "import sys\n",
    "import warnings\n",
    "import os\n",
    "sys.path.append(os.path.dirname(os.getcwd()))\n",
    "from oligo_designer_toolsuite.pipelines import MerfishProbeDesigner\n"
   ]
  },
  {
   "cell_type": "code",
   "execution_count": null,
   "metadata": {},
   "outputs": [],
   "source": [
    "config_file = \"./configs/merfish_probe_designer_test.yaml\"\n",
    "merfish_probe_designer=MerfishProbeDesigner(config_file)"
   ]
  },
  {
   "cell_type": "code",
   "execution_count": null,
   "metadata": {
    "collapsed": false,
    "jupyter": {
     "outputs_hidden": false
    }
   },
   "outputs": [],
   "source": [
    "merfish_probe_designer.design_merfish_probes()"
   ]
  }
 ],
 "metadata": {
  "kernelspec": {
   "display_name": "oligo_env",
   "language": "python",
   "name": "oligo_env"
  },
  "language_info": {
   "codemirror_mode": {
    "name": "ipython",
    "version": 3
   },
   "file_extension": ".py",
   "mimetype": "text/x-python",
   "name": "python",
   "nbconvert_exporter": "python",
   "pygments_lexer": "ipython3",
   "version": "3.10.9"
  }
 },
 "nbformat": 4,
 "nbformat_minor": 4
}
