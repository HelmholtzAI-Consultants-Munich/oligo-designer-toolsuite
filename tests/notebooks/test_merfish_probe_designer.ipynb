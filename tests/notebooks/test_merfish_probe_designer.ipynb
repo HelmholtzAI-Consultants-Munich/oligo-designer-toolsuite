{
 "cells": [
  {
   "cell_type": "code",
   "execution_count": 1,
   "metadata": {},
   "outputs": [
    {
     "data": {
      "text/plain": [
       "'/home/cw/PycharmProjects/oligo-designer-toolsuite_merfish/tests/notebooks'"
      ]
     },
     "execution_count": 1,
     "metadata": {},
     "output_type": "execute_result"
    }
   ],
   "source": [
    "import sys\n",
    "import warnings\n",
    "import os\n",
    "sys.path.append(os.path.dirname(os.getcwd()))\n",
    "from oligo_designer_toolsuite.pipelines import MerfishProbeDesigner\n",
    "os.getcwd()"
   ]
  },
  {
   "cell_type": "code",
   "execution_count": 3,
   "metadata": {},
   "outputs": [
    {
     "name": "stdout",
     "output_type": "stream",
     "text": [
      "Creating transcriptome\n",
      "making file_transcriptome\n",
      "Done!\n"
     ]
    },
    {
     "name": "stderr",
     "output_type": "stream",
     "text": [
      "Segmentation fault (core dumped)\n"
     ]
    }
   ],
   "source": [
    "#config_file = \"/home/cw/PycharmProjects/olig o-designer-toolsuite_merfish/tutorials/configs/merfish_probe_designer_test.yaml\"\n",
    "config_file = \"./configs/merfish_probe_designer_test.yaml\"\n",
    "merfish_probe_designer=MerfishProbeDesigner(config_file)"
   ]
  },
  {
   "cell_type": "code",
   "execution_count": 5,
   "metadata": {
    "collapsed": false
   },
   "outputs": [
    {
     "ename": "KeyError",
     "evalue": "'oligo_length_min'",
     "output_type": "error",
     "traceback": [
      "\u001b[0;31m---------------------------------------------------------------------------\u001b[0m",
      "\u001b[0;31mKeyError\u001b[0m                                  Traceback (most recent call last)",
      "Cell \u001b[0;32mIn[5], line 1\u001b[0m\n\u001b[0;32m----> 1\u001b[0m \u001b[43mmerfish_probe_designer\u001b[49m\u001b[38;5;241;43m.\u001b[39;49m\u001b[43mdesign_merfish_probes\u001b[49m\u001b[43m(\u001b[49m\u001b[43m)\u001b[49m\n",
      "File \u001b[0;32m~/PycharmProjects/oligo-designer-toolsuite_merfish/oligo_designer_toolsuite/pipelines/_merfish_probe_designer.py:95\u001b[0m, in \u001b[0;36mMerfishProbeDesigner.design_merfish_probes\u001b[0;34m(self)\u001b[0m\n\u001b[1;32m     88\u001b[0m \u001b[38;5;28;01mdef\u001b[39;00m \u001b[38;5;21mdesign_merfish_probes\u001b[39m(\n\u001b[1;32m     89\u001b[0m         \u001b[38;5;28mself\u001b[39m):\n\u001b[1;32m     90\u001b[0m     \u001b[38;5;66;03m# create target sequences\u001b[39;00m\n\u001b[1;32m     91\u001b[0m     target_probe_class \u001b[38;5;241m=\u001b[39m TargetProbes(\u001b[38;5;28mself\u001b[39m\u001b[38;5;241m.\u001b[39mconfig,\n\u001b[1;32m     92\u001b[0m                                       \u001b[38;5;28mself\u001b[39m\u001b[38;5;241m.\u001b[39mdir_output,\n\u001b[1;32m     93\u001b[0m                                       \u001b[38;5;28mself\u001b[39m\u001b[38;5;241m.\u001b[39mfile_transcriptome,\n\u001b[1;32m     94\u001b[0m                                       \u001b[38;5;28mself\u001b[39m\u001b[38;5;241m.\u001b[39mregion_generator)\n\u001b[0;32m---> 95\u001b[0m     target_probes, file_target_probes \u001b[38;5;241m=\u001b[39m \u001b[43mtarget_probe_class\u001b[49m\u001b[38;5;241;43m.\u001b[39;49m\u001b[43mcreate_target\u001b[49m\u001b[43m(\u001b[49m\u001b[43m)\u001b[49m\n\u001b[1;32m     97\u001b[0m     \u001b[38;5;66;03m# create readout probes\u001b[39;00m\n\u001b[1;32m     98\u001b[0m     readouts \u001b[38;5;241m=\u001b[39m ReadoutProbes(\u001b[38;5;28mself\u001b[39m\u001b[38;5;241m.\u001b[39mconfig_file)\n",
      "File \u001b[0;32m~/PycharmProjects/oligo-designer-toolsuite_merfish/oligo_designer_toolsuite/pipelines/_merfish_target_designer.py:52\u001b[0m, in \u001b[0;36mTargetProbes.create_target\u001b[0;34m(self)\u001b[0m\n\u001b[1;32m     46\u001b[0m \u001b[38;5;28;01mdef\u001b[39;00m \u001b[38;5;21mcreate_target\u001b[39m(\u001b[38;5;28mself\u001b[39m):\n\u001b[1;32m     47\u001b[0m \n\u001b[1;32m     48\u001b[0m     \u001b[38;5;66;03m# creating the database\u001b[39;00m\n\u001b[1;32m     49\u001b[0m     \u001b[38;5;66;03m# define the database class\u001b[39;00m\n\u001b[1;32m     50\u001b[0m     oligo_database \u001b[38;5;241m=\u001b[39m OligoDatabase(\n\u001b[1;32m     51\u001b[0m         file_fasta \u001b[38;5;241m=\u001b[39m \u001b[38;5;28mself\u001b[39m\u001b[38;5;241m.\u001b[39mfile_transcriptome,\n\u001b[0;32m---> 52\u001b[0m         oligo_length_min \u001b[38;5;241m=\u001b[39m \u001b[38;5;28;43mself\u001b[39;49m\u001b[38;5;241;43m.\u001b[39;49m\u001b[43mconfig\u001b[49m\u001b[43m[\u001b[49m\u001b[38;5;124;43m\"\u001b[39;49m\u001b[38;5;124;43moligo_length_min\u001b[39;49m\u001b[38;5;124;43m\"\u001b[39;49m\u001b[43m]\u001b[49m,\n\u001b[1;32m     53\u001b[0m         oligo_length_max \u001b[38;5;241m=\u001b[39m \u001b[38;5;28mself\u001b[39m\u001b[38;5;241m.\u001b[39mconfig[\u001b[38;5;124m\"\u001b[39m\u001b[38;5;124moligo_length_max\u001b[39m\u001b[38;5;124m\"\u001b[39m],\n\u001b[1;32m     54\u001b[0m         min_oligos_per_region \u001b[38;5;241m=\u001b[39m \u001b[38;5;28mself\u001b[39m\u001b[38;5;241m.\u001b[39mconfig[\u001b[38;5;124m\"\u001b[39m\u001b[38;5;124mmin_oligos_per_gene\u001b[39m\u001b[38;5;124m\"\u001b[39m],\n\u001b[1;32m     55\u001b[0m         files_source \u001b[38;5;241m=\u001b[39m \u001b[38;5;28mself\u001b[39m\u001b[38;5;241m.\u001b[39mregion_generator\u001b[38;5;241m.\u001b[39mfiles_source,\n\u001b[1;32m     56\u001b[0m         species \u001b[38;5;241m=\u001b[39m \u001b[38;5;28mself\u001b[39m\u001b[38;5;241m.\u001b[39mregion_generator\u001b[38;5;241m.\u001b[39mspecies,\n\u001b[1;32m     57\u001b[0m         annotation_release \u001b[38;5;241m=\u001b[39m \u001b[38;5;28mself\u001b[39m\u001b[38;5;241m.\u001b[39mregion_generator\u001b[38;5;241m.\u001b[39mannotation_release,\n\u001b[1;32m     58\u001b[0m         genome_assembly \u001b[38;5;241m=\u001b[39m \u001b[38;5;28mself\u001b[39m\u001b[38;5;241m.\u001b[39mregion_generator\u001b[38;5;241m.\u001b[39mgenome_assembly,\n\u001b[1;32m     59\u001b[0m         n_jobs \u001b[38;5;241m=\u001b[39m \u001b[38;5;28mself\u001b[39m\u001b[38;5;241m.\u001b[39mconfig[\u001b[38;5;124m\"\u001b[39m\u001b[38;5;124mn_jobs\u001b[39m\u001b[38;5;124m\"\u001b[39m],\n\u001b[1;32m     60\u001b[0m         dir_output\u001b[38;5;241m=\u001b[39m\u001b[38;5;28mself\u001b[39m\u001b[38;5;241m.\u001b[39mdir_output\n\u001b[1;32m     61\u001b[0m     )\n\u001b[1;32m     63\u001b[0m     \u001b[38;5;66;03m# read the genes file\u001b[39;00m\n\u001b[1;32m     64\u001b[0m     \u001b[38;5;28;01mif\u001b[39;00m \u001b[38;5;28mself\u001b[39m\u001b[38;5;241m.\u001b[39mconfig[\u001b[38;5;124m\"\u001b[39m\u001b[38;5;124mfile_genes\u001b[39m\u001b[38;5;124m\"\u001b[39m] \u001b[38;5;129;01mis\u001b[39;00m \u001b[38;5;28;01mNone\u001b[39;00m:\n",
      "\u001b[0;31mKeyError\u001b[0m: 'oligo_length_min'"
     ]
    }
   ],
   "source": [
    "merfish_probe_designer.design_merfish_probes()"
   ]
  }
 ],
 "metadata": {
  "language_info": {
   "name": "python"
  },
  "orig_nbformat": 4
 },
 "nbformat": 4,
 "nbformat_minor": 2
}
