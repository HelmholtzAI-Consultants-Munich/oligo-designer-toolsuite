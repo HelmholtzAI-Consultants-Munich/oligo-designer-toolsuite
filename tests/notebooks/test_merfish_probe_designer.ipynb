{
 "cells": [
  {
   "cell_type": "code",
   "execution_count": 1,
   "metadata": {},
   "outputs": [
    {
     "data": {
      "text/plain": "'/home/cw/PycharmProjects/oligo-designer-toolsuite_merfish/tests/notebooks'"
     },
     "execution_count": 1,
     "metadata": {},
     "output_type": "execute_result"
    }
   ],
   "source": [
    "import sys\n",
    "import warnings\n",
    "import os\n",
    "sys.path.append(os.path.dirname(os.getcwd()))\n",
    "from oligo_designer_toolsuite.pipelines import MerfishProbeDesigner\n",
    "os.getcwd()"
   ]
  },
  {
   "cell_type": "code",
   "execution_count": 3,
   "metadata": {},
   "outputs": [
    {
     "name": "stdout",
     "output_type": "stream",
     "text": [
      "Creating transcriptome\n",
      "making file_transcriptome\n",
      "Done!\n"
     ]
    },
    {
     "name": "stderr",
     "output_type": "stream",
     "text": [
      "Segmentation fault (core dumped)\n"
     ]
    }
   ],
   "source": [
    "config_file = \"/home/cw/PycharmProjects/oligo-designer-toolsuite_merfish/tutorials/configs/merfish_probe_designer_test.yaml\"\n",
    "merfish_probe_designer=MerfishProbeDesigner(config_file)\n",
    "\n",
    "#file_name=merfish_probe_designer.design_merfish_probes()\n",
    "#print(file_name)"
   ]
  },
  {
   "cell_type": "code",
   "execution_count": 5,
   "outputs": [
    {
     "ename": "KeyError",
     "evalue": "'oligo_length_min'",
     "output_type": "error",
     "traceback": [
      "\u001B[0;31m---------------------------------------------------------------------------\u001B[0m",
      "\u001B[0;31mKeyError\u001B[0m                                  Traceback (most recent call last)",
      "Cell \u001B[0;32mIn[5], line 1\u001B[0m\n\u001B[0;32m----> 1\u001B[0m \u001B[43mmerfish_probe_designer\u001B[49m\u001B[38;5;241;43m.\u001B[39;49m\u001B[43mdesign_merfish_probes\u001B[49m\u001B[43m(\u001B[49m\u001B[43m)\u001B[49m\n",
      "File \u001B[0;32m~/PycharmProjects/oligo-designer-toolsuite_merfish/oligo_designer_toolsuite/pipelines/_merfish_probe_designer.py:95\u001B[0m, in \u001B[0;36mMerfishProbeDesigner.design_merfish_probes\u001B[0;34m(self)\u001B[0m\n\u001B[1;32m     88\u001B[0m \u001B[38;5;28;01mdef\u001B[39;00m \u001B[38;5;21mdesign_merfish_probes\u001B[39m(\n\u001B[1;32m     89\u001B[0m         \u001B[38;5;28mself\u001B[39m):\n\u001B[1;32m     90\u001B[0m     \u001B[38;5;66;03m# create target sequences\u001B[39;00m\n\u001B[1;32m     91\u001B[0m     target_probe_class \u001B[38;5;241m=\u001B[39m TargetProbes(\u001B[38;5;28mself\u001B[39m\u001B[38;5;241m.\u001B[39mconfig,\n\u001B[1;32m     92\u001B[0m                                       \u001B[38;5;28mself\u001B[39m\u001B[38;5;241m.\u001B[39mdir_output,\n\u001B[1;32m     93\u001B[0m                                       \u001B[38;5;28mself\u001B[39m\u001B[38;5;241m.\u001B[39mfile_transcriptome,\n\u001B[1;32m     94\u001B[0m                                       \u001B[38;5;28mself\u001B[39m\u001B[38;5;241m.\u001B[39mregion_generator)\n\u001B[0;32m---> 95\u001B[0m     target_probes, file_target_probes \u001B[38;5;241m=\u001B[39m \u001B[43mtarget_probe_class\u001B[49m\u001B[38;5;241;43m.\u001B[39;49m\u001B[43mcreate_target\u001B[49m\u001B[43m(\u001B[49m\u001B[43m)\u001B[49m\n\u001B[1;32m     97\u001B[0m     \u001B[38;5;66;03m# create readout probes\u001B[39;00m\n\u001B[1;32m     98\u001B[0m     readouts \u001B[38;5;241m=\u001B[39m ReadoutProbes(\u001B[38;5;28mself\u001B[39m\u001B[38;5;241m.\u001B[39mconfig_file)\n",
      "File \u001B[0;32m~/PycharmProjects/oligo-designer-toolsuite_merfish/oligo_designer_toolsuite/pipelines/_merfish_target_designer.py:52\u001B[0m, in \u001B[0;36mTargetProbes.create_target\u001B[0;34m(self)\u001B[0m\n\u001B[1;32m     46\u001B[0m \u001B[38;5;28;01mdef\u001B[39;00m \u001B[38;5;21mcreate_target\u001B[39m(\u001B[38;5;28mself\u001B[39m):\n\u001B[1;32m     47\u001B[0m \n\u001B[1;32m     48\u001B[0m     \u001B[38;5;66;03m# creating the database\u001B[39;00m\n\u001B[1;32m     49\u001B[0m     \u001B[38;5;66;03m# define the database class\u001B[39;00m\n\u001B[1;32m     50\u001B[0m     oligo_database \u001B[38;5;241m=\u001B[39m OligoDatabase(\n\u001B[1;32m     51\u001B[0m         file_fasta \u001B[38;5;241m=\u001B[39m \u001B[38;5;28mself\u001B[39m\u001B[38;5;241m.\u001B[39mfile_transcriptome,\n\u001B[0;32m---> 52\u001B[0m         oligo_length_min \u001B[38;5;241m=\u001B[39m \u001B[38;5;28;43mself\u001B[39;49m\u001B[38;5;241;43m.\u001B[39;49m\u001B[43mconfig\u001B[49m\u001B[43m[\u001B[49m\u001B[38;5;124;43m\"\u001B[39;49m\u001B[38;5;124;43moligo_length_min\u001B[39;49m\u001B[38;5;124;43m\"\u001B[39;49m\u001B[43m]\u001B[49m,\n\u001B[1;32m     53\u001B[0m         oligo_length_max \u001B[38;5;241m=\u001B[39m \u001B[38;5;28mself\u001B[39m\u001B[38;5;241m.\u001B[39mconfig[\u001B[38;5;124m\"\u001B[39m\u001B[38;5;124moligo_length_max\u001B[39m\u001B[38;5;124m\"\u001B[39m],\n\u001B[1;32m     54\u001B[0m         min_oligos_per_region \u001B[38;5;241m=\u001B[39m \u001B[38;5;28mself\u001B[39m\u001B[38;5;241m.\u001B[39mconfig[\u001B[38;5;124m\"\u001B[39m\u001B[38;5;124mmin_oligos_per_gene\u001B[39m\u001B[38;5;124m\"\u001B[39m],\n\u001B[1;32m     55\u001B[0m         files_source \u001B[38;5;241m=\u001B[39m \u001B[38;5;28mself\u001B[39m\u001B[38;5;241m.\u001B[39mregion_generator\u001B[38;5;241m.\u001B[39mfiles_source,\n\u001B[1;32m     56\u001B[0m         species \u001B[38;5;241m=\u001B[39m \u001B[38;5;28mself\u001B[39m\u001B[38;5;241m.\u001B[39mregion_generator\u001B[38;5;241m.\u001B[39mspecies,\n\u001B[1;32m     57\u001B[0m         annotation_release \u001B[38;5;241m=\u001B[39m \u001B[38;5;28mself\u001B[39m\u001B[38;5;241m.\u001B[39mregion_generator\u001B[38;5;241m.\u001B[39mannotation_release,\n\u001B[1;32m     58\u001B[0m         genome_assembly \u001B[38;5;241m=\u001B[39m \u001B[38;5;28mself\u001B[39m\u001B[38;5;241m.\u001B[39mregion_generator\u001B[38;5;241m.\u001B[39mgenome_assembly,\n\u001B[1;32m     59\u001B[0m         n_jobs \u001B[38;5;241m=\u001B[39m \u001B[38;5;28mself\u001B[39m\u001B[38;5;241m.\u001B[39mconfig[\u001B[38;5;124m\"\u001B[39m\u001B[38;5;124mn_jobs\u001B[39m\u001B[38;5;124m\"\u001B[39m],\n\u001B[1;32m     60\u001B[0m         dir_output\u001B[38;5;241m=\u001B[39m\u001B[38;5;28mself\u001B[39m\u001B[38;5;241m.\u001B[39mdir_output\n\u001B[1;32m     61\u001B[0m     )\n\u001B[1;32m     63\u001B[0m     \u001B[38;5;66;03m# read the genes file\u001B[39;00m\n\u001B[1;32m     64\u001B[0m     \u001B[38;5;28;01mif\u001B[39;00m \u001B[38;5;28mself\u001B[39m\u001B[38;5;241m.\u001B[39mconfig[\u001B[38;5;124m\"\u001B[39m\u001B[38;5;124mfile_genes\u001B[39m\u001B[38;5;124m\"\u001B[39m] \u001B[38;5;129;01mis\u001B[39;00m \u001B[38;5;28;01mNone\u001B[39;00m:\n",
      "\u001B[0;31mKeyError\u001B[0m: 'oligo_length_min'"
     ]
    }
   ],
   "source": [
    "merfish_probe_designer.design_merfish_probes()"
   ],
   "metadata": {
    "collapsed": false
   }
  }
 ],
 "metadata": {
  "language_info": {
   "name": "python"
  },
  "orig_nbformat": 4
 },
 "nbformat": 4,
 "nbformat_minor": 2
}
