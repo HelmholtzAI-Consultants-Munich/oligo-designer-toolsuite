{
 "cells": [
  {
   "cell_type": "code",
   "execution_count": null,
   "metadata": {},
   "outputs": [],
   "source": [
    "import sys\n",
    "import warnings\n",
    "import os\n",
    "sys.path.append(os.path.dirname(os.getcwd()))\n",
    "from oligo_designer_toolsuite.experiment_specific import MerfishProbeDes"
   ]
  },
  {
   "cell_type": "code",
   "execution_count": null,
   "metadata": {},
   "outputs": [],
   "source": [
    "config_file = \"./configs/merfish_probe_designer_test.yaml\"\n",
    "merfish_probe_designer=MerfishProbeDesigner(config_file)\n",
    "file_name=merfish_probe_designer.design_merfish_probes()\n",
    "print(file_name)"
   ]
  }
 ],
 "metadata": {
  "language_info": {
   "name": "python"
  },
  "orig_nbformat": 4
 },
 "nbformat": 4,
 "nbformat_minor": 2
}
