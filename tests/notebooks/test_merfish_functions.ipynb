{
 "cells": [
  {
   "cell_type": "code",
   "execution_count": 1,
   "metadata": {
    "collapsed": true
   },
   "outputs": [],
   "source": [
    "import sys\n",
    "import unittest\n",
    "\n",
    "from Bio.Seq import Seq\n",
    "from Bio.SeqUtils import MeltingTemp as mt\n",
    "\n",
    "sys.path.append(\"../oligo_designer_toolsuite\")\n",
    "\n",
    "from oligo_designer_toolsuite.oligo_property_filter._property_filter import (\n",
    "    PropertyFilter,\n",
    "\n",
    ")"
   ]
  },
  {
   "cell_type": "code",
   "execution_count": 2,
   "outputs": [],
   "source": [
    "from oligo_designer_toolsuite.oligo_property_filter._filter_base import (\n",
    "    GCContent,\n",
    "    MaskedSequences,\n",
    "    MeltingTemperature,\n",
    "    ConsecutiveRepeats,\n",
    "    GCClamp\n",
    ")\n",
    "\n",
    "class TestPreFilterBase(unittest.TestCase):\n",
    "    \"\"\"Test that the filtering classes return the corrected output when given in input a sequence\"\"\"\n",
    "\n",
    "    @classmethod\n",
    "    def setUpClass(self):\n",
    "        \"\"\"Define the filter classes and their parameters\"\"\"\n",
    "\n",
    "        self.ConsecutiveRepeats = ConsecutiveRepeats(3)\n",
    "\n",
    "        filters = [\n",
    "            self.ConsecutiveRepeats\n",
    "        ]\n",
    "        self.pre_filter = PropertyFilter(filters=filters)\n",
    "\n",
    "    def test_negative_consecutive_repeats(self):\n",
    "        \"Tests that the consecutive repeat filter returns false\"\n",
    "        fulfills, _ = self.ConsecutiveRepeats.apply(Seq(\"CTTGGGCCTTTCCAAGCCCCCATTTGAGCT\"))\n",
    "        self.assertEqual(\n",
    "            fulfills,\n",
    "            False,\n",
    "            \"A sequence not fulfilling the consecutive repeat has been accepted!\",\n",
    "        )\n",
    "\n",
    "    def test_positive_consecutive_repeats(self):\n",
    "        \"Tests that the consecutive repeat filter returns true\"\n",
    "        fulfills, _ = self.ConsecutiveRepeats.apply(Seq(\"CTTGGGCCTTTCCAAGCCCATTTGAGCT\"))\n",
    "        self.assertEqual(\n",
    "            fulfills,\n",
    "            True,\n",
    "            \"A sequence fulfilling the consecutive repeat has been accepted!\",\n",
    "        )\n"
   ],
   "metadata": {
    "collapsed": false
   }
  },
  {
   "cell_type": "code",
   "execution_count": 3,
   "outputs": [
    {
     "name": "stderr",
     "output_type": "stream",
     "text": [
      "test_negative_consecutive_repeats (__main__.TestPreFilterBase)\n",
      "Tests that the consecutive repeat filter returns false ... ok\n",
      "test_positive_consecutive_repeats (__main__.TestPreFilterBase)\n",
      "Tests that the consecutive repeat filter returns true ... ok\n",
      "\n",
      "----------------------------------------------------------------------\n",
      "Ran 2 tests in 0.010s\n",
      "\n",
      "OK\n"
     ]
    },
    {
     "data": {
      "text/plain": "<unittest.main.TestProgram at 0x7faf07fbbac0>"
     },
     "execution_count": 3,
     "metadata": {},
     "output_type": "execute_result"
    }
   ],
   "source": [
    "unittest.main(argv=[''], verbosity=2, exit=False)"
   ],
   "metadata": {
    "collapsed": false
   }
  },
  {
   "cell_type": "code",
   "execution_count": null,
   "outputs": [],
   "source": [],
   "metadata": {
    "collapsed": false
   }
  }
 ],
 "metadata": {
  "kernelspec": {
   "display_name": "Python 3",
   "language": "python",
   "name": "python3"
  },
  "language_info": {
   "codemirror_mode": {
    "name": "ipython",
    "version": 2
   },
   "file_extension": ".py",
   "mimetype": "text/x-python",
   "name": "python",
   "nbconvert_exporter": "python",
   "pygments_lexer": "ipython2",
   "version": "2.7.6"
  }
 },
 "nbformat": 4,
 "nbformat_minor": 0
}
