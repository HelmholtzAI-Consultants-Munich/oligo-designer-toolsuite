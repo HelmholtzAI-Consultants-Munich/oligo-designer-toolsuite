{
 "cells": [
  {
   "cell_type": "code",
   "execution_count": 1,
   "metadata": {
    "collapsed": true
   },
   "outputs": [],
   "source": [
    "import sys\n",
    "import unittest\n",
    "\n",
    "from Bio.Seq import Seq\n",
    "from Bio.SeqUtils import MeltingTemp as mt\n",
    "\n",
    "sys.path.append(\"../oligo_designer_toolsuite\")\n",
    "\n",
    "from oligo_designer_toolsuite.oligo_property_filter._property_filter import (\n",
    "    PropertyFilter,\n",
    "\n",
    ")"
   ]
  },
  {
   "cell_type": "code",
   "execution_count": 2,
   "outputs": [],
   "source": [
    "from oligo_designer_toolsuite.oligo_property_filter._filter_base import (\n",
    "    GCContent,\n",
    "    MaskedSequences,\n",
    "    MeltingTemperature,\n",
    "    ConsecutiveRepeats,\n",
    "    GCClamp\n",
    ")\n",
    "\n",
    "class TestPreFilterBase(unittest.TestCase):\n",
    "    \"\"\"Test that the filtering classes return the corrected output when given in input a sequence\"\"\"\n",
    "\n",
    "    @classmethod\n",
    "    def setUpClass(self):\n",
    "        \"\"\"Define the filter classes and their parameters\"\"\"\n",
    "\n",
    "        self.ConsecutiveRepeats = ConsecutiveRepeats(3)\n",
    "\n",
    "        filters = [\n",
    "            self.ConsecutiveRepeats\n",
    "        ]\n",
    "        self.pre_filter = PropertyFilter(filters=filters)\n",
    "\n",
    "    def test_negative_consecutive_repeats(self):\n",
    "        \"Tests that the consecutive repeat filter returns false\"\n",
    "        fulfills, _ = self.ConsecutiveRepeats.apply(Seq(\"CTTGGGCCTTTCCAAGCCCCCATTTGAGCT\"))\n",
    "        self.assertEqual(\n",
    "            fulfills,\n",
    "            False,\n",
    "            \"A sequence not fulfilling the consecutive repeat has been accepted!\",\n",
    "        )\n",
    "\n",
    "    def test_positive_consecutive_repeats(self):\n",
    "        \"Tests that the consecutive repeat filter returns true\"\n",
    "        fulfills, _ = self.ConsecutiveRepeats.apply(Seq(\"CTTGGGCCTTTCCAAGCCCATTTGAGCT\"))\n",
    "        self.assertEqual(\n",
    "            fulfills,\n",
    "            True,\n",
    "            \"A sequence fulfilling the consecutive repeat has been accepted!\",\n",
    "        )\n"
   ],
   "metadata": {
    "collapsed": false
   }
  },
  {
   "cell_type": "code",
   "execution_count": 3,
   "outputs": [
    {
     "name": "stderr",
     "output_type": "stream",
     "text": [
      "test_negative_consecutive_repeats (__main__.TestPreFilterBase)\n",
      "Tests that the consecutive repeat filter returns false ... ok\n",
      "test_positive_consecutive_repeats (__main__.TestPreFilterBase)\n",
      "Tests that the consecutive repeat filter returns true ... ok\n",
      "\n",
      "----------------------------------------------------------------------\n",
      "Ran 2 tests in 0.010s\n",
      "\n",
      "OK\n"
     ]
    },
    {
     "data": {
      "text/plain": "<unittest.main.TestProgram at 0x7faf07fbbac0>"
     },
     "execution_count": 3,
     "metadata": {},
     "output_type": "execute_result"
    }
   ],
   "source": [
    "unittest.main(argv=[''], verbosity=2, exit=False)"
   ],
   "metadata": {
    "collapsed": false
   }
  },
  {
   "cell_type": "code",
   "execution_count": 17,
   "outputs": [],
   "source": [
    "from scipy.spatial.distance import hamming\n",
    "from numpy import random\n",
    "\n",
    "\n",
    "def generate_codebook(num_seq: int, encoding_scheme: str):\n",
    "    '''\n",
    "    encoding_scheme: MHD2 or MHD4\n",
    "    This function is using generator generate_binary_sequences() to return a list of encoding codes\n",
    "\n",
    "    Params:\n",
    "    n_bit: Number of bits in a code\n",
    "    n_one: Number of ones in a code\n",
    "    n_seq: Number of codes in a list\n",
    "    '''\n",
    "\n",
    "\n",
    "    # Initialize the list of sequences\n",
    "    sequences = []\n",
    "\n",
    "    if (encoding_scheme == \"MHD4\") & (num_seq <= 140):  # upper limit is 140\n",
    "        num_ones = 4\n",
    "        num_bits = 16\n",
    "        hamming_distance = 4\n",
    "        # Generate sequences until the desired number of sequences is reached\n",
    "        while len(sequences) < num_seq:\n",
    "            # Generate a new sequence with the desired number of 1s\n",
    "            sequence = [1] * num_ones + [0] * (num_bits - num_ones)\n",
    "            random.shuffle(sequence)\n",
    "\n",
    "            # Check if the new sequence meets the minimum distance requirement\n",
    "            if all(hamming_distance <= hamming(sequence, seq) * num_bits for seq in sequences):\n",
    "                # Add the new sequence to the list of sequences\n",
    "                sequences.append(sequence)\n",
    "\n",
    "    elif (encoding_scheme == \"MHD2\") & (num_seq <= 1001): # upper limit is 1001\n",
    "        num_ones = 4\n",
    "        num_bits = 14\n",
    "        min_hamming_distance = 2\n",
    "        # Generate sequences until the desired number of sequences is reached\n",
    "        while len(sequences) < num_seq:\n",
    "            # Generate a new sequence with the desired number of 1s\n",
    "            sequence = [1] * num_ones + [0] * (num_bits - num_ones)\n",
    "            random.shuffle(sequence)\n",
    "\n",
    "            # Check if the new sequence meets the minimum distance requirement\n",
    "            if all(min_hamming_distance <= hamming(sequence, seq) * num_bits for seq in sequences):\n",
    "                # Add the new sequence to the list of sequences\n",
    "                sequences.append(sequence)\n",
    "    # Convert the list of sequences to a list of strings and return it\n",
    "    return [\"\".join(str(bit) for bit in sequence) for sequence in sequences]\n"
   ],
   "metadata": {
    "collapsed": false
   }
  },
  {
   "cell_type": "code",
   "execution_count": 7,
   "outputs": [
    {
     "data": {
      "text/plain": "['10000010000101',\n '11010100000000',\n '10001000010100',\n '11010001000000',\n '00010001001100',\n '00100000001101',\n '01000000001110',\n '10100100001000',\n '10001001000100',\n '00110010000001']"
     },
     "execution_count": 7,
     "metadata": {},
     "output_type": "execute_result"
    }
   ],
   "source": [
    "generate_codebook(140,\"MHD2\")"
   ],
   "metadata": {
    "collapsed": false
   }
  },
  {
   "cell_type": "code",
   "execution_count": 18,
   "outputs": [
    {
     "name": "stdout",
     "output_type": "stream",
     "text": [
      "4.0\n",
      "8.0\n",
      "8.0\n",
      "4.0\n",
      "6.0\n",
      "4.0\n"
     ]
    }
   ],
   "source": [
    "from scipy.spatial.distance import hamming\n",
    "\n",
    "#define arrays\n",
    "x = [0, 1, 1, 1, 0, 1]\n",
    "y = [0, 0, 1, 1, 0, 0]\n",
    "\n",
    "#calculate Hamming distance between the two arrays\n",
    "hamming(x, y) * len(x)\n",
    "\n",
    "\n",
    "\n",
    "seq1 = [0,0,0,0,1,1,1,0,0,0,0,0,0,0,1,0]\n",
    "seq2 = [0,0,0,0,0,1,0,0,1,1,0,0,0,0,1,0]\n",
    "seq3 = [0,1,0,0,0,0,0,0,1,1,0,0,0,1,0,0]\n",
    "seq4 = [1,1,0,0,0,0,0,0,1,0,1,0,0,0,0,0]\n",
    "print(hamming(seq1, seq2)*len(seq1))\n",
    "print(hamming(seq1, seq3)*len(seq1))\n",
    "print(hamming(seq1, seq4)*len(seq1))\n",
    "print(hamming(seq2, seq3)*len(seq1))\n",
    "print(hamming(seq2, seq4)*len(seq1))\n",
    "print(hamming(seq3, seq4)*len(seq1))"
   ],
   "metadata": {
    "collapsed": false
   }
  },
  {
   "cell_type": "code",
   "execution_count": 67,
   "outputs": [
    {
     "name": "stdout",
     "output_type": "stream",
     "text": [
      "4.0\n",
      "4.0\n",
      "8.0\n",
      "8.0\n",
      "8.0\n",
      "8.0\n"
     ]
    }
   ],
   "source": [
    "\n",
    "\n",
    "def bits_to_list(bit_string):\n",
    "    bit_list = [int(bit) for bit in bit_string]\n",
    "    return bit_list\n",
    "x = generate_codebook(140,\"MHD2\")\n",
    "seq1 = bits_to_list(x[139])\n",
    "seq2 = bits_to_list(x[1])\n",
    "seq3 = bits_to_list(x[33])\n",
    "seq4 = bits_to_list(x[4])\n",
    "print(hamming(seq1, seq2)*len(seq1))\n",
    "print(hamming(seq1, seq3)*len(seq1))\n",
    "print(hamming(seq1, seq4)*len(seq1))\n",
    "print(hamming(seq2, seq3)*len(seq1))\n",
    "print(hamming(seq2, seq4)*len(seq1))\n",
    "print(hamming(seq3, seq4)*len(seq1))"
   ],
   "metadata": {
    "collapsed": false
   }
  },
  {
   "cell_type": "code",
   "execution_count": 66,
   "outputs": [
    {
     "data": {
      "text/plain": "[[0, 0, 0, 0, 0, 0, 0, 0, 0, 0, 0, 0, 0, 0, 0, 0, 0, 0, 0, 0]]"
     },
     "execution_count": 66,
     "metadata": {},
     "output_type": "execute_result"
    }
   ],
   "source": [
    "generate_codes(1)"
   ],
   "metadata": {
    "collapsed": false
   }
  },
  {
   "cell_type": "code",
   "execution_count": 70,
   "outputs": [
    {
     "ename": "KeyboardInterrupt",
     "evalue": "",
     "output_type": "error",
     "traceback": [
      "\u001B[0;31m---------------------------------------------------------------------------\u001B[0m",
      "\u001B[0;31mKeyboardInterrupt\u001B[0m                         Traceback (most recent call last)",
      "Cell \u001B[0;32mIn[70], line 34\u001B[0m\n\u001B[1;32m     32\u001B[0m \u001B[38;5;28;01mfor\u001B[39;00m i \u001B[38;5;129;01min\u001B[39;00m \u001B[38;5;28mrange\u001B[39m(\u001B[38;5;241m500\u001B[39m):\n\u001B[1;32m     33\u001B[0m     tic \u001B[38;5;241m=\u001B[39m time\u001B[38;5;241m.\u001B[39mperf_counter()\n\u001B[0;32m---> 34\u001B[0m     tutorial \u001B[38;5;241m=\u001B[39m \u001B[43mgenerate_codebook\u001B[49m\u001B[43m(\u001B[49m\u001B[43mi\u001B[49m\u001B[43m,\u001B[49m\u001B[38;5;124;43m\"\u001B[39;49m\u001B[38;5;124;43mMHD2\u001B[39;49m\u001B[38;5;124;43m\"\u001B[39;49m\u001B[43m)\u001B[49m\n\u001B[1;32m     35\u001B[0m     toc \u001B[38;5;241m=\u001B[39m time\u001B[38;5;241m.\u001B[39mperf_counter()\n\u001B[1;32m     36\u001B[0m     runtime\u001B[38;5;241m.\u001B[39mappend(toc \u001B[38;5;241m-\u001B[39m tic)\n",
      "Cell \u001B[0;32mIn[17], line 46\u001B[0m, in \u001B[0;36mgenerate_codebook\u001B[0;34m(num_seq, encoding_scheme)\u001B[0m\n\u001B[1;32m     43\u001B[0m         random\u001B[38;5;241m.\u001B[39mshuffle(sequence)\n\u001B[1;32m     45\u001B[0m         \u001B[38;5;66;03m# Check if the new sequence meets the minimum distance requirement\u001B[39;00m\n\u001B[0;32m---> 46\u001B[0m         \u001B[38;5;28;01mif\u001B[39;00m \u001B[38;5;28;43mall\u001B[39;49m\u001B[43m(\u001B[49m\u001B[43mmin_hamming_distance\u001B[49m\u001B[43m \u001B[49m\u001B[38;5;241;43m<\u001B[39;49m\u001B[38;5;241;43m=\u001B[39;49m\u001B[43m \u001B[49m\u001B[43mhamming\u001B[49m\u001B[43m(\u001B[49m\u001B[43msequence\u001B[49m\u001B[43m,\u001B[49m\u001B[43m \u001B[49m\u001B[43mseq\u001B[49m\u001B[43m)\u001B[49m\u001B[43m \u001B[49m\u001B[38;5;241;43m*\u001B[39;49m\u001B[43m \u001B[49m\u001B[43mnum_bits\u001B[49m\u001B[43m \u001B[49m\u001B[38;5;28;43;01mfor\u001B[39;49;00m\u001B[43m \u001B[49m\u001B[43mseq\u001B[49m\u001B[43m \u001B[49m\u001B[38;5;129;43;01min\u001B[39;49;00m\u001B[43m \u001B[49m\u001B[43msequences\u001B[49m\u001B[43m)\u001B[49m:\n\u001B[1;32m     47\u001B[0m             \u001B[38;5;66;03m# Add the new sequence to the list of sequences\u001B[39;00m\n\u001B[1;32m     48\u001B[0m             sequences\u001B[38;5;241m.\u001B[39mappend(sequence)\n\u001B[1;32m     49\u001B[0m \u001B[38;5;66;03m# Convert the list of sequences to a list of strings and return it\u001B[39;00m\n",
      "Cell \u001B[0;32mIn[17], line 46\u001B[0m, in \u001B[0;36m<genexpr>\u001B[0;34m(.0)\u001B[0m\n\u001B[1;32m     43\u001B[0m         random\u001B[38;5;241m.\u001B[39mshuffle(sequence)\n\u001B[1;32m     45\u001B[0m         \u001B[38;5;66;03m# Check if the new sequence meets the minimum distance requirement\u001B[39;00m\n\u001B[0;32m---> 46\u001B[0m         \u001B[38;5;28;01mif\u001B[39;00m \u001B[38;5;28mall\u001B[39m(min_hamming_distance \u001B[38;5;241m<\u001B[39m\u001B[38;5;241m=\u001B[39m \u001B[43mhamming\u001B[49m\u001B[43m(\u001B[49m\u001B[43msequence\u001B[49m\u001B[43m,\u001B[49m\u001B[43m \u001B[49m\u001B[43mseq\u001B[49m\u001B[43m)\u001B[49m \u001B[38;5;241m*\u001B[39m num_bits \u001B[38;5;28;01mfor\u001B[39;00m seq \u001B[38;5;129;01min\u001B[39;00m sequences):\n\u001B[1;32m     47\u001B[0m             \u001B[38;5;66;03m# Add the new sequence to the list of sequences\u001B[39;00m\n\u001B[1;32m     48\u001B[0m             sequences\u001B[38;5;241m.\u001B[39mappend(sequence)\n\u001B[1;32m     49\u001B[0m \u001B[38;5;66;03m# Convert the list of sequences to a list of strings and return it\u001B[39;00m\n",
      "File \u001B[0;32m~/PycharmProjects/oligo-designer-toolsuite_merfish/venv/lib/python3.10/site-packages/scipy/spatial/distance.py:722\u001B[0m, in \u001B[0;36mhamming\u001B[0;34m(u, v, w)\u001B[0m\n\u001B[1;32m    720\u001B[0m     \u001B[38;5;28;01mraise\u001B[39;00m \u001B[38;5;167;01mValueError\u001B[39;00m(\u001B[38;5;124m'\u001B[39m\u001B[38;5;124mThe 1d arrays must have equal lengths.\u001B[39m\u001B[38;5;124m'\u001B[39m)\n\u001B[1;32m    721\u001B[0m u_ne_v \u001B[38;5;241m=\u001B[39m u \u001B[38;5;241m!=\u001B[39m v\n\u001B[0;32m--> 722\u001B[0m \u001B[38;5;28;01mif\u001B[39;00m w \u001B[38;5;129;01mis\u001B[39;00m \u001B[38;5;129;01mnot\u001B[39;00m \u001B[38;5;28;01mNone\u001B[39;00m:\n\u001B[1;32m    723\u001B[0m     w \u001B[38;5;241m=\u001B[39m _validate_weights(w)\n\u001B[1;32m    724\u001B[0m \u001B[38;5;28;01mreturn\u001B[39;00m np\u001B[38;5;241m.\u001B[39maverage(u_ne_v, weights\u001B[38;5;241m=\u001B[39mw)\n",
      "\u001B[0;31mKeyboardInterrupt\u001B[0m: "
     ]
    }
   ],
   "source": [
    "# latest_tutorial.py\n",
    "\n",
    "import time\n",
    "import pandas as pd\n",
    "import random\n",
    "\n",
    "\"\"\"Print the latest tutorial from Real Python\"\"\"\n",
    "runtime = []\n",
    "for i in range(500):\n",
    "    tic = time.perf_counter()\n",
    "    tutorial = generate_codebook(i,\"MHD2\")\n",
    "    toc = time.perf_counter()\n",
    "    runtime.append(toc - tic)\n",
    "    #print(i)\n",
    "\n",
    "df = pd.DataFrame(runtime)\n",
    "df.plot()\n",
    "\n"
   ],
   "metadata": {
    "collapsed": false
   }
  },
  {
   "cell_type": "code",
   "execution_count": 72,
   "outputs": [
    {
     "name": "stdout",
     "output_type": "stream",
     "text": [
      "9.782300003280398e-05\n"
     ]
    },
    {
     "data": {
      "text/plain": "['1000010100000100']"
     },
     "execution_count": 72,
     "metadata": {},
     "output_type": "execute_result"
    }
   ],
   "source": [
    "tic = time.perf_counter()\n",
    "tutorial = generate_codebook(1,\"MHD4\")\n",
    "toc = time.perf_counter()\n",
    "print(toc-tic)\n",
    "tutorial\n"
   ],
   "metadata": {
    "collapsed": false
   }
  },
  {
   "cell_type": "code",
   "execution_count": 79,
   "outputs": [],
   "source": [
    "def generate_hamming_codes(seq_num):\n",
    "    codes = []\n",
    "    # Generate all 4-bit codes\n",
    "    for i in range(2**4):\n",
    "        code = bin(i)[2:].zfill(4)\n",
    "        # Calculate parity bit\n",
    "        parity = str((int(code[0]) ^ int(code[1]) ^ int(code[2]) ^ int(code[3])))\n",
    "        # Append parity bit and convert to integer\n",
    "        code_int = int(code + parity, 2)\n",
    "        codes.append(code_int)\n",
    "    # Remove codes with less than 4 ones\n",
    "    codes = [code for code in codes if bin(code).count('1') == 4]\n",
    "    # Calculate Hamming distance between all pairs of codes\n",
    "    hamming_dist = [[bin(x ^ y).count('1') for y in codes] for x in codes]\n",
    "    # Check that minimum Hamming distance is 4\n",
    "    while True:\n",
    "        if min(min(row) for row in hamming_dist) >= 4:\n",
    "            break\n",
    "        else:\n",
    "            # If minimum Hamming distance is less than 4, remove a code and try again\n",
    "            codes.remove(codes[hamming_dist.index(min(hamming_dist, key=min))])\n",
    "            hamming_dist = [[bin(x ^ y).count('1') for y in codes] for x in codes]\n",
    "    # Return the first seq_num codes\n",
    "    return codes[:seq_num]"
   ],
   "metadata": {
    "collapsed": false
   }
  },
  {
   "cell_type": "code",
   "execution_count": 104,
   "outputs": [],
   "source": [
    "def hamming_code(seq_num:int,encoding_scheme:str):\n",
    "    # initialize an empty list to store the codes\n",
    "    codes = []\n",
    "    pass_sequences = []\n",
    "    if encoding_scheme == \"MHD4\":\n",
    "        # loop through all possible combinations of 16 bits\n",
    "        for i in range(2**16):\n",
    "            # convert the integer i to a binary string of length 16\n",
    "            bin_str = format(i, '016b')\n",
    "            # count the number of ones in the binary string\n",
    "            num_ones = bin_str.count('1')\n",
    "            # if the number of ones is exactly 4\n",
    "            if num_ones == 4:\n",
    "                # append the binary string to the codes list\n",
    "                codes.append(bin_str)\n",
    "        # loop through all pairs of codes in the list\n",
    "\n",
    "        for i in range(len(codes)):\n",
    "            for j in range(i+1, len(codes)):\n",
    "\n",
    "                if len(pass_sequences) == 140 or len(pass_sequences) == seq_num:\n",
    "                    break\n",
    "\n",
    "                # compute the Hamming distance between two codes\n",
    "                ham_dist = sum(a != b for a, b in zip(codes[i], codes[j]))\n",
    "                # if the Hamming distance is less than 4\n",
    "                if ham_dist >= 4:\n",
    "                    if len(pass_sequences) == 0:\n",
    "                        pass_sequences.append(codes[i])\n",
    "                    # remove one of the codes from the list\n",
    "                    else:\n",
    "                        ham_list = []\n",
    "                        for pass_seq in pass_sequences:\n",
    "                            ham_dist = sum(a != b for a, b in zip(pass_seq, codes[j]))\n",
    "                            ham_list.append(ham_dist)\n",
    "\n",
    "                        if all(4 <= ham for ham in ham_list):\n",
    "                            pass_sequences.append(codes[j])\n",
    "                            print(len(pass_sequences))\n",
    "                            break\n",
    "            if len(pass_sequences) == 140 or len(pass_sequences) == seq_num:\n",
    "                break\n",
    "                    # break out of the inner loop\n",
    "\n",
    "    if encoding_scheme == \"MHD2\":\n",
    "                # loop through all possible combinations of 14 bits\n",
    "        for i in range(2**14):\n",
    "            # convert the integer i to a binary string of length 16\n",
    "            bin_str = format(i, '016b')\n",
    "            # count the number of ones in the binary string\n",
    "            num_ones = bin_str.count('1')\n",
    "            # if the number of ones is exactly 4\n",
    "            if num_ones == 4:\n",
    "                # append the binary string to the codes list\n",
    "                codes.append(bin_str)\n",
    "        # loop through all pairs of codes in the list\n",
    "\n",
    "        for i in range(len(codes)):\n",
    "            for j in range(i+1, len(codes)):\n",
    "\n",
    "                if len(pass_sequences) == 1001 or len(pass_sequences) == seq_num:\n",
    "                    break\n",
    "                # compute the Hamming distance between two codes\n",
    "                ham_dist = sum(a != b for a, b in zip(codes[i], codes[j]))\n",
    "                # if the Hamming distance is less than 2\n",
    "                if ham_dist >= 2:\n",
    "                    if len(pass_sequences) == 0:\n",
    "                        pass_sequences.append(codes[i])\n",
    "                    # remove one of the codes from the list\n",
    "                    else:\n",
    "                        ham_list = []\n",
    "                        for pass_seq in pass_sequences:\n",
    "                            ham_dist = sum(a != b for a, b in zip(pass_seq, codes[j]))\n",
    "                            ham_list.append(ham_dist)\n",
    "                        # check passed sequences\n",
    "                        if all(2 <= ham for ham in ham_list):\n",
    "                            pass_sequences.append(codes[j])\n",
    "                            print(len(pass_sequences))\n",
    "                            break\n",
    "                    # break out of the inner loop\n",
    "            if len(pass_sequences) == 1001 or len(pass_sequences) == seq_num:\n",
    "                break\n",
    "    return pass_sequences"
   ],
   "metadata": {
    "collapsed": false
   }
  },
  {
   "cell_type": "code",
   "execution_count": 118,
   "outputs": [
    {
     "name": "stdout",
     "output_type": "stream",
     "text": [
      "2\n",
      "3\n",
      "4\n",
      "5\n",
      "6\n",
      "7\n",
      "8\n",
      "9\n",
      "10\n",
      "11\n",
      "12\n",
      "13\n",
      "14\n",
      "15\n",
      "16\n",
      "17\n",
      "18\n",
      "19\n",
      "20\n",
      "21\n",
      "22\n",
      "23\n",
      "24\n",
      "25\n",
      "26\n",
      "27\n",
      "28\n",
      "29\n",
      "30\n",
      "31\n",
      "32\n",
      "33\n",
      "34\n",
      "35\n",
      "36\n",
      "37\n",
      "38\n",
      "39\n",
      "40\n",
      "41\n",
      "42\n",
      "43\n",
      "44\n",
      "45\n",
      "46\n",
      "47\n",
      "48\n",
      "49\n",
      "50\n",
      "51\n",
      "52\n",
      "53\n",
      "54\n",
      "55\n",
      "56\n",
      "57\n",
      "58\n",
      "59\n",
      "60\n",
      "61\n",
      "62\n",
      "63\n",
      "64\n",
      "65\n",
      "66\n",
      "67\n",
      "68\n",
      "69\n",
      "70\n",
      "71\n",
      "72\n",
      "73\n",
      "74\n",
      "75\n",
      "76\n",
      "77\n",
      "78\n",
      "79\n",
      "80\n",
      "81\n",
      "82\n",
      "83\n",
      "84\n",
      "85\n",
      "86\n",
      "87\n",
      "88\n",
      "89\n",
      "90\n",
      "91\n",
      "92\n",
      "93\n",
      "94\n",
      "95\n",
      "96\n",
      "97\n",
      "98\n",
      "99\n",
      "100\n",
      "101\n",
      "102\n",
      "103\n",
      "104\n",
      "105\n",
      "106\n",
      "107\n",
      "108\n",
      "109\n",
      "110\n",
      "111\n",
      "112\n",
      "113\n",
      "114\n",
      "115\n",
      "116\n",
      "117\n",
      "118\n",
      "119\n",
      "120\n",
      "121\n",
      "122\n",
      "123\n",
      "124\n",
      "125\n",
      "126\n",
      "127\n",
      "128\n",
      "129\n",
      "130\n",
      "131\n",
      "132\n",
      "133\n",
      "134\n",
      "135\n",
      "136\n",
      "137\n",
      "138\n",
      "139\n",
      "140\n"
     ]
    },
    {
     "data": {
      "text/plain": "'0000000000011011'"
     },
     "execution_count": 118,
     "metadata": {},
     "output_type": "execute_result"
    }
   ],
   "source": [
    "#x = hamming_code(140,\"MHD2\")\n",
    "x[1]"
   ],
   "metadata": {
    "collapsed": false
   }
  },
  {
   "cell_type": "code",
   "execution_count": 67,
   "outputs": [
    {
     "data": {
      "text/plain": "'0000000010100110'"
     },
     "execution_count": 67,
     "metadata": {},
     "output_type": "execute_result"
    }
   ],
   "source": [
    "x[10]"
   ],
   "metadata": {
    "collapsed": false
   }
  },
  {
   "cell_type": "code",
   "execution_count": 117,
   "outputs": [
    {
     "name": "stdout",
     "output_type": "stream",
     "text": [
      "6.0\n",
      "2.0\n",
      "8.0\n",
      "6.0\n",
      "4.0\n",
      "6.0\n"
     ]
    }
   ],
   "source": [
    "import random\n",
    "\n",
    "from scipy.spatial.distance import hamming\n",
    "#num = len(hamming_code())\n",
    "#x = hamming_code()\n",
    "def bits_to_list(bit_string):\n",
    "    bit_list = [int(bit) for bit in bit_string]\n",
    "    return bit_list\n",
    "\n",
    "random_num = random.sample(range(140),4)\n",
    "seq1 = bits_to_list(x[random_num[0]])\n",
    "seq2 = bits_to_list(x[random_num[1]])\n",
    "seq3 = bits_to_list(x[random_num[2]])\n",
    "seq4 = bits_to_list(x[random_num[3]])\n",
    "print(hamming(seq1, seq2)*len(seq1))\n",
    "print(hamming(seq1, seq3)*len(seq1))\n",
    "print(hamming(seq1, seq4)*len(seq1))\n",
    "print(hamming(seq2, seq3)*len(seq1))\n",
    "print(hamming(seq2, seq4)*len(seq1))\n",
    "print(hamming(seq3, seq4)*len(seq1))"
   ],
   "metadata": {
    "collapsed": false
   }
  }
 ],
 "metadata": {
  "kernelspec": {
   "display_name": "Python 3",
   "language": "python",
   "name": "python3"
  },
  "language_info": {
   "codemirror_mode": {
    "name": "ipython",
    "version": 2
   },
   "file_extension": ".py",
   "mimetype": "text/x-python",
   "name": "python",
   "nbconvert_exporter": "python",
   "pygments_lexer": "ipython2",
   "version": "2.7.6"
  }
 },
 "nbformat": 4,
 "nbformat_minor": 0
}
