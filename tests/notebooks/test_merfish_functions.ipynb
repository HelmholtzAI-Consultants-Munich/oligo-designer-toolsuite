{
 "cells": [
  {
   "cell_type": "code",
   "execution_count": 1,
   "metadata": {
    "collapsed": true
   },
   "outputs": [],
   "source": [
    "import sys\n",
    "import unittest\n",
    "\n",
    "from Bio.Seq import Seq\n",
    "from Bio.SeqUtils import MeltingTemp as mt\n",
    "\n",
    "sys.path.append(\"../oligo_designer_toolsuite\")\n",
    "\n",
    "from oligo_designer_toolsuite.oligo_property_filter._property_filter import (\n",
    "    PropertyFilter,\n",
    "\n",
    ")"
   ]
  },
  {
   "cell_type": "code",
   "execution_count": 2,
   "outputs": [],
   "source": [
    "from oligo_designer_toolsuite.oligo_property_filter._filter_base import (\n",
    "    GCContent,\n",
    "    MaskedSequences,\n",
    "    MeltingTemperature,\n",
    "    ConsecutiveRepeats,\n",
    "    GCClamp\n",
    ")\n",
    "\n",
    "class TestPreFilterBase(unittest.TestCase):\n",
    "    \"\"\"Test that the filtering classes return the corrected output when given in input a sequence\"\"\"\n",
    "\n",
    "    @classmethod\n",
    "    def setUpClass(self):\n",
    "        \"\"\"Define the filter classes and their parameters\"\"\"\n",
    "\n",
    "        self.ConsecutiveRepeats = ConsecutiveRepeats(3)\n",
    "\n",
    "        filters = [\n",
    "            self.ConsecutiveRepeats\n",
    "        ]\n",
    "        self.pre_filter = PropertyFilter(filters=filters)\n",
    "\n",
    "    def test_negative_consecutive_repeats(self):\n",
    "        \"Tests that the consecutive repeat filter returns false\"\n",
    "        fulfills, _ = self.ConsecutiveRepeats.apply(Seq(\"CTTGGGCCTTTCCAAGCCCCCATTTGAGCT\"))\n",
    "        self.assertEqual(\n",
    "            fulfills,\n",
    "            False,\n",
    "            \"A sequence not fulfilling the consecutive repeat has been accepted!\",\n",
    "        )\n",
    "\n",
    "    def test_positive_consecutive_repeats(self):\n",
    "        \"Tests that the consecutive repeat filter returns true\"\n",
    "        fulfills, _ = self.ConsecutiveRepeats.apply(Seq(\"CTTGGGCCTTTCCAAGCCCATTTGAGCT\"))\n",
    "        self.assertEqual(\n",
    "            fulfills,\n",
    "            True,\n",
    "            \"A sequence fulfilling the consecutive repeat has been accepted!\",\n",
    "        )\n"
   ],
   "metadata": {
    "collapsed": false
   }
  },
  {
   "cell_type": "code",
   "execution_count": 3,
   "outputs": [
    {
     "name": "stderr",
     "output_type": "stream",
     "text": [
      "test_negative_consecutive_repeats (__main__.TestPreFilterBase)\n",
      "Tests that the consecutive repeat filter returns false ... ok\n",
      "test_positive_consecutive_repeats (__main__.TestPreFilterBase)\n",
      "Tests that the consecutive repeat filter returns true ... ok\n",
      "\n",
      "----------------------------------------------------------------------\n",
      "Ran 2 tests in 0.010s\n",
      "\n",
      "OK\n"
     ]
    },
    {
     "data": {
      "text/plain": "<unittest.main.TestProgram at 0x7faf07fbbac0>"
     },
     "execution_count": 3,
     "metadata": {},
     "output_type": "execute_result"
    }
   ],
   "source": [
    "unittest.main(argv=[''], verbosity=2, exit=False)"
   ],
   "metadata": {
    "collapsed": false
   }
  },
  {
   "cell_type": "code",
   "execution_count": 6,
   "outputs": [],
   "source": [
    "from scipy.spatial.distance import hamming\n",
    "from numpy import random\n",
    "\n",
    "\n",
    "def generate_codebook(num_seq: int, encoding_scheme: str):\n",
    "    '''\n",
    "    encoding_scheme: MHD2 or MHD4\n",
    "    This function is using generator generate_binary_sequences() to return a list of encoding codes\n",
    "\n",
    "    Params:\n",
    "    n_bit: Number of bits in a code\n",
    "    n_one: Number of ones in a code\n",
    "    n_seq: Number of codes in a list\n",
    "    '''\n",
    "\n",
    "\n",
    "    # Initialize the list of sequences\n",
    "    sequences = []\n",
    "\n",
    "    if (encoding_scheme == \"MHD4\") & (num_seq <= 140):  # upper limit is 140\n",
    "        num_ones = 4\n",
    "        num_bits = 16\n",
    "        hamming_distance = 4\n",
    "        # Generate sequences until the desired number of sequences is reached\n",
    "        while len(sequences) < num_seq:\n",
    "            # Generate a new sequence with the desired number of 1s\n",
    "            sequence = [1] * num_ones + [0] * (num_bits - num_ones)\n",
    "            random.shuffle(sequence)\n",
    "\n",
    "            # Check if the new sequence meets the minimum distance requirement\n",
    "            if all(hamming_distance >= hamming(sequence, seq) * num_bits for seq in sequences):\n",
    "                # Add the new sequence to the list of sequences\n",
    "                sequences.append(sequence)\n",
    "\n",
    "    elif (encoding_scheme == \"MHD2\") & (num_seq <= 1001): # upper limit is 1001\n",
    "        num_ones = 4\n",
    "        num_bits = 14\n",
    "        min_hamming_distance = 2\n",
    "        # Generate sequences until the desired number of sequences is reached\n",
    "        while len(sequences) < num_seq:\n",
    "            # Generate a new sequence with the desired number of 1s\n",
    "            sequence = [1] * num_ones + [0] * (num_bits - num_ones)\n",
    "            random.shuffle(sequence)\n",
    "\n",
    "            # Check if the new sequence meets the minimum distance requirement\n",
    "            if all(min_hamming_distance <= hamming(sequence, seq) * num_bits for seq in sequences):\n",
    "                # Add the new sequence to the list of sequences\n",
    "                sequences.append(sequence)\n",
    "    # Convert the list of sequences to a list of strings and return it\n",
    "    return [\"\".join(str(bit) for bit in sequence) for sequence in sequences]\n"
   ],
   "metadata": {
    "collapsed": false
   }
  },
  {
   "cell_type": "code",
   "execution_count": 7,
   "outputs": [
    {
     "data": {
      "text/plain": "['10000010000101',\n '11010100000000',\n '10001000010100',\n '11010001000000',\n '00010001001100',\n '00100000001101',\n '01000000001110',\n '10100100001000',\n '10001001000100',\n '00110010000001']"
     },
     "execution_count": 7,
     "metadata": {},
     "output_type": "execute_result"
    }
   ],
   "source": [
    "generate_codebook(10,\"MHD2\")"
   ],
   "metadata": {
    "collapsed": false
   }
  },
  {
   "cell_type": "code",
   "execution_count": 4,
   "outputs": [
    {
     "name": "stdout",
     "output_type": "stream",
     "text": [
      "4.0\n",
      "8.0\n",
      "8.0\n",
      "4.0\n",
      "6.0\n",
      "4.0\n"
     ]
    }
   ],
   "source": [
    "from scipy.spatial.distance import hamming\n",
    "\n",
    "#define arrays\n",
    "x = [0, 1, 1, 1, 0, 1]\n",
    "y = [0, 0, 1, 1, 0, 0]\n",
    "\n",
    "#calculate Hamming distance between the two arrays\n",
    "hamming(x, y) * len(x)\n",
    "\n",
    "\n",
    "\n",
    "seq1 = [0,0,0,0,1,1,1,0,0,0,0,0,0,0,1,0]\n",
    "seq2 = [0,0,0,0,0,1,0,0,1,1,0,0,0,0,1,0]\n",
    "seq3 = [0,1,0,0,0,0,0,0,1,1,0,0,0,1,0,0]\n",
    "seq4 = [1,1,0,0,0,0,0,0,1,0,1,0,0,0,0,0]\n",
    "print(hamming(seq1, seq2)*len(seq1))\n",
    "print(hamming(seq1, seq3)*len(seq1))\n",
    "print(hamming(seq1, seq4)*len(seq1))\n",
    "print(hamming(seq2, seq3)*len(seq1))\n",
    "print(hamming(seq2, seq4)*len(seq1))\n",
    "print(hamming(seq3, seq4)*len(seq1))"
   ],
   "metadata": {
    "collapsed": false
   }
  }
 ],
 "metadata": {
  "kernelspec": {
   "display_name": "Python 3",
   "language": "python",
   "name": "python3"
  },
  "language_info": {
   "codemirror_mode": {
    "name": "ipython",
    "version": 2
   },
   "file_extension": ".py",
   "mimetype": "text/x-python",
   "name": "python",
   "nbconvert_exporter": "python",
   "pygments_lexer": "ipython2",
   "version": "2.7.6"
  }
 },
 "nbformat": 4,
 "nbformat_minor": 0
}
