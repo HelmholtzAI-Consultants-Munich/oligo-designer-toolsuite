{
 "cells": [
  {
   "cell_type": "markdown",
   "metadata": {},
   "source": [
    "# Imports"
   ]
  },
  {
   "cell_type": "code",
   "execution_count": 1,
   "metadata": {},
   "outputs": [],
   "source": [
    "import os\n",
    "import sys\n",
    "sys.path.append(os.path.dirname(os.getcwd()))\n",
    "import yaml\n",
    "from Bio.SeqUtils import MeltingTemp as mt"
   ]
  },
  {
   "attachments": {},
   "cell_type": "markdown",
   "metadata": {},
   "source": [
    "## Define the parameters\n",
    "\n",
    "\n",
    "Once the configuration file has been set up we have to read its content:"
   ]
  },
  {
   "cell_type": "code",
   "execution_count": 2,
   "metadata": {},
   "outputs": [],
   "source": [
    "config_file = \"./configs/probe_design_SPOT_custom.yaml\"\n",
    "# config_file = \"./SPOT/configs/probe_design_SPOT_custom.yaml\"\n",
    "with open(config_file, 'r') as yaml_file:\n",
    "    config = yaml.safe_load(yaml_file)\n",
    "dir_output = os.path.join(os.path.dirname(os.getcwd()), config[\"dir_output\"]) # create the complete path for the output directory"
   ]
  },
  {
   "attachments": {},
   "cell_type": "markdown",
   "metadata": {},
   "source": [
    "## Oligo sequences generation\n",
    "\n",
    "Now we can start to actually build the pipeline, we will start by generating all the possible oligos with length between the maximum and minimum value given belonging to the genes defined in the config file. The oligos will be saved in a nested dicionary with the following structure: \n",
    "\n",
    "[gene][oligo_id][oligo_feature].\n"
   ]
  },
  {
   "cell_type": "code",
   "execution_count": 3,
   "metadata": {},
   "outputs": [],
   "source": [
    "from oligo_designer_toolsuite.database import CustomGenomicRegionGenerator, NcbiGenomicRegionGenerator, EnsemblGenomicRegionGenerator\n",
    "\n",
    "# If the custom config file is selected\n",
    "if config[\"source\"] == \"custom\":\n",
    "    region_generator_custom = CustomGenomicRegionGenerator(\n",
    "        annotation_file=config[\"file_annotation\"], \n",
    "        sequence_file=config[\"file_sequence\"], \n",
    "        files_source=config[\"files_source\"], \n",
    "        species=config[\"species\"], \n",
    "        annotation_release=config[\"annotation_release\"], \n",
    "        genome_assembly=config[\"genome_assembly\"],\n",
    "        dir_output=dir_output\n",
    "    )\n",
    "# If the Ncbi config file is selected\n",
    "elif config[\"source\"] == \"ncbi\":\n",
    "    region_generator = NcbiGenomicRegionGenerator(\n",
    "        taxon=config[\"taxon\"],\n",
    "        species=config[\"species\"], \n",
    "        annotation_release=config[\"annotation_release\"], \n",
    "        dir_output=dir_output\n",
    "    )\n",
    "# If the Ensembl config file is generated\n",
    "elif config[\"source\"] == \"ensembl\":\n",
    "    region_generator = EnsemblGenomicRegionGenerator(\n",
    "        species=config[\"species\"], \n",
    "        annotation_release=config[\"annotation_release\"], \n",
    "        dir_output=dir_output\n",
    "    )\n",
    "\n",
    "file_transcriptome = region_generator_custom.generate_transcript_reduced_representation(include_exon_junctions=True, exon_junction_size=2*config[\"oligo_length_max\"])"
   ]
  },
  {
   "cell_type": "code",
   "execution_count": 4,
   "metadata": {},
   "outputs": [],
   "source": [
    "from oligo_designer_toolsuite.database import OligoDatabase\n",
    "\n",
    "# define the database class\n",
    "oligo_database = OligoDatabase(\n",
    "    file_fasta = file_transcriptome,\n",
    "    oligo_length_min = config[\"oligo_length_min\"],\n",
    "    oligo_length_max = config[\"oligo_length_max\"],\n",
    "    min_oligos_per_region = config[\"min_oligos_per_gene\"],\n",
    "    files_source = region_generator_custom.files_source,\n",
    "    species = region_generator_custom.species,\n",
    "    annotation_release = region_generator_custom.annotation_release,\n",
    "    genome_assembly = region_generator_custom.genome_assembly,\n",
    "    n_jobs = 2,\n",
    "    dir_output=dir_output\n",
    ")\n",
    "\n",
    "# read the genes file\n",
    "if config[\"file_genes\"] is None:\n",
    "    warnings.warn(\n",
    "        \"No file containing the genes was provided, all the genes are ussed to generate the probes. This chioce can use a lot of resources.\"\n",
    "    )\n",
    "    genes = None\n",
    "else:\n",
    "    with open(config[\"file_genes\"]) as handle:\n",
    "        lines = handle.readlines()\n",
    "        genes = [line.rstrip() for line in lines]\n",
    "        \n",
    "# generate the oligo sequences from gene transcripts\n",
    "oligo_database.create_database(region_ids=genes) \n",
    "\n",
    "# alternative: load database from file\n",
    "# oligo_database.load_oligo_database(file_database)"
   ]
  },
  {
   "attachments": {},
   "cell_type": "markdown",
   "metadata": {},
   "source": [
    "### Dictionary structure\n"
   ]
  },
  {
   "cell_type": "code",
   "execution_count": 5,
   "metadata": {},
   "outputs": [
    {
     "name": "stdout",
     "output_type": "stream",
     "text": [
      "{'WASIR2': {'WASIR2_16:22915-22941(+)': {'sequence': Seq('TCACTTTGCGGCCACTATGAGGACTG'), 'chromosome': '16', 'start': [22915], 'end': [22941], 'strand': '+', 'length': 26, 'additional_information_fasta': ['transcript_id=NR_130735.1,exon_number=1']}}}\n"
     ]
    }
   ],
   "source": [
    "gene = list(oligo_database.database.keys())[0]\n",
    "oligo_id = list(oligo_database.database[gene].keys())[0]\n",
    "\n",
    "sample_oligos_DB = {}\n",
    "sample_oligos_DB[gene] = {}\n",
    "sample_oligos_DB[gene][oligo_id] = oligo_database.database[gene][oligo_id]\n",
    "print(sample_oligos_DB)"
   ]
  },
  {
   "cell_type": "code",
   "execution_count": 6,
   "metadata": {},
   "outputs": [
    {
     "data": {
      "text/plain": [
       "dict_keys(['WASIR2'])"
      ]
     },
     "execution_count": 6,
     "metadata": {},
     "output_type": "execute_result"
    }
   ],
   "source": [
    "oligo_database.database.keys()"
   ]
  },
  {
   "cell_type": "code",
   "execution_count": 7,
   "metadata": {},
   "outputs": [],
   "source": [
    "def number_of_probes(oligo_database):\n",
    "    d = dict()\n",
    "    for i in oligo_database.database.keys():\n",
    "        d[i] = len(oligo_database.database[i])\n",
    "    print(d)"
   ]
  },
  {
   "attachments": {},
   "cell_type": "markdown",
   "metadata": {},
   "source": [
    "### Read and write\n",
    "\n"
   ]
  },
  {
   "cell_type": "code",
   "execution_count": 8,
   "metadata": {},
   "outputs": [
    {
     "name": "stdout",
     "output_type": "stream",
     "text": [
      "{'WASIR2': 5060}\n"
     ]
    }
   ],
   "source": [
    "if config[\"write_intermediate_steps\"]:\n",
    "    file_database = oligo_database.write_database(filename=\"oligo_database_initial.txt\")\n",
    "number_of_probes(oligo_database)"
   ]
  },
  {
   "attachments": {},
   "cell_type": "markdown",
   "metadata": {},
   "source": [
    "## Property filters\n",
    "\n",
    "Once all the possible sequences are created, we apply a first filtering process based on the sequences properties (e.g. melting temperature or GC content). This is useful to reduce the amount of sequences we have to deal with in the next stages and discard all the sequences that are not suited for the experiment."
   ]
  },
  {
   "cell_type": "code",
   "execution_count": 9,
   "metadata": {},
   "outputs": [],
   "source": [
    "from oligo_designer_toolsuite.oligo_property_filter import (\n",
    "    PropertyFilter,\n",
    "    MaskedSequences,\n",
    "    GCContent, \n",
    "    ProhibitedSequences\n",
    ")\n",
    "# initialize the filters clasees\n",
    "masked_sequences = MaskedSequences()\n",
    "gc_content = GCContent(GC_content_min=config[\"GC_content_min\"], GC_content_max=config[\"GC_content_max\"])\n",
    "proh_seq = ProhibitedSequences(num_consecutive = config[\"number_consecutive\"])\n",
    "\n",
    "# create the list of filters\n",
    "filters = [masked_sequences, proh_seq ,gc_content]\n",
    "\n",
    "# initialize the property filter class\n",
    "property_filter = PropertyFilter(filters=filters, write_regions_with_insufficient_oligos=config[\"write_removed_genes\"])\n",
    "\n",
    "# filter the database\n",
    "oligo_database = property_filter.apply(oligo_database=oligo_database, n_jobs=config[\"n_jobs\"])\n",
    "\n",
    "# check for unsufficient number of probes\n",
    "#oligo_database.remove_genes_with_insufficient_oligos(pipeline_step = \"after applying property filters\")\n",
    "\n",
    "# write the intermediate result in a file\n",
    "if config[\"write_intermediate_steps\"]:\n",
    "    file_database = oligo_database.write_database(filename=\"oligo_database_property_filter.txt\")"
   ]
  },
  {
   "cell_type": "code",
   "execution_count": 10,
   "metadata": {},
   "outputs": [
    {
     "name": "stdout",
     "output_type": "stream",
     "text": [
      "{'WASIR2': 2032}\n"
     ]
    }
   ],
   "source": [
    "number_of_probes(oligo_database)"
   ]
  },
  {
   "attachments": {},
   "cell_type": "markdown",
   "metadata": {},
   "source": [
    "## Specificity filters\n"
   ]
  },
  {
   "cell_type": "code",
   "execution_count": 11,
   "metadata": {},
   "outputs": [],
   "source": [
    "from oligo_designer_toolsuite.database import ReferenceDatabase\n",
    "from oligo_designer_toolsuite.oligo_specificity_filter import (\n",
    "    SpecificityFilter,\n",
    "    ExactMatches,\n",
    "    Blastn,\n",
    ")\n",
    "dir_specificity = os.path.join(dir_output, \"specificity_temporary\") # folder where the temporary files will be written\n",
    "\n",
    "\n",
    "reference = ReferenceDatabase(\n",
    "    file_fasta = file_transcriptome,\n",
    "    files_source = region_generator_custom.files_source,\n",
    "    species = region_generator_custom.species,\n",
    "    annotation_release = region_generator_custom.annotation_release,\n",
    "    genome_assembly = region_generator_custom.genome_assembly,\n",
    "    dir_output=dir_output\n",
    "    )\n",
    "\n",
    "# intialize the filter classes\n",
    "exact_mathces = ExactMatches(dir_specificity=dir_specificity)\n",
    "blastn = Blastn(\n",
    "    dir_specificity=dir_specificity, \n",
    "    word_size=config[\"word_size\"],\n",
    "    percent_identity=config[\"percent_identity\"],\n",
    "    coverage=config[\"coverage\"],\n",
    "    #strand=config[\"strand\"],\n",
    "    strand='plus',\n",
    ")\n",
    "filters = [exact_mathces,blastn]\n",
    "\n",
    "# initialize the specificity filter class\n",
    "specificity_filter = SpecificityFilter(filters=filters, write_regions_with_insufficient_oligos=config[\"write_removed_genes\"])\n",
    "# filte r the database\n",
    "oligo_database = specificity_filter.apply(oligo_database=oligo_database, reference_database=reference, n_jobs=config[\"n_jobs\"])\n",
    "# write the intermediate result\n",
    "if config[\"write_intermediate_steps\"]:\n",
    "    file_database = oligo_database.write_database(filename=\"oligo_database_specificity_filter.txt\")"
   ]
  },
  {
   "cell_type": "code",
   "execution_count": 12,
   "metadata": {},
   "outputs": [
    {
     "name": "stdout",
     "output_type": "stream",
     "text": [
      "{'WASIR2': 104}\n"
     ]
    }
   ],
   "source": [
    "number_of_probes(oligo_database)"
   ]
  },
  {
   "attachments": {},
   "cell_type": "markdown",
   "metadata": {},
   "source": [
    "## Oligoset generation\n"
   ]
  },
  {
   "cell_type": "code",
   "execution_count": 14,
   "metadata": {},
   "outputs": [
    {
     "ename": "TypeError",
     "evalue": "write_oligosets() got an unexpected keyword argument 'dir_oligosets'",
     "output_type": "error",
     "traceback": [
      "\u001b[0;31m---------------------------------------------------------------------------\u001b[0m",
      "\u001b[0;31mTypeError\u001b[0m                                 Traceback (most recent call last)",
      "Cell \u001b[0;32mIn[14], line 42\u001b[0m\n\u001b[1;32m     40\u001b[0m \u001b[39m# write the intermediate result\u001b[39;00m\n\u001b[1;32m     41\u001b[0m \u001b[39mif\u001b[39;00m config[\u001b[39m\"\u001b[39m\u001b[39mwrite_intermediate_steps\u001b[39m\u001b[39m\"\u001b[39m]:\n\u001b[0;32m---> 42\u001b[0m     oligo_database\u001b[39m.\u001b[39;49mwrite_oligosets(dir_oligosets\u001b[39m=\u001b[39;49m\u001b[39m\"\u001b[39;49m\u001b[39moligosets\u001b[39;49m\u001b[39m\"\u001b[39;49m)\n",
      "\u001b[0;31mTypeError\u001b[0m: write_oligosets() got an unexpected keyword argument 'dir_oligosets'"
     ]
    }
   ],
   "source": [
    "from oligo_designer_toolsuite.oligo_efficiency import(\n",
    "    SeqFISHOligoScoring,\n",
    "    AverageSetScoring\n",
    ")\n",
    "from oligo_designer_toolsuite.oligo_selection import OligosetGenerator, padlock_heuristic_selection\n",
    "\n",
    "# initialize the scoring classes\n",
    "\"\"\"oligos_scoring = PadlockOligoScoring(\n",
    "    Tm_min=config[\"Tm_min\"],\n",
    "    Tm_opt=config[\"Tm_opt\"],\n",
    "    Tm_max=config[\"Tm_max\"],\n",
    "    GC_content_min=config[\"GC_content_min\"],\n",
    "    GC_content_opt=config[\"GC_content_opt\"],\n",
    "    GC_content_max=config[\"GC_content_max\"],\n",
    "    Tm_weight=config[\"Tm_weight\"],\n",
    "    GC_weight=config[\"GC_weight\"],\n",
    ")\n",
    "\"\"\"\n",
    "\n",
    "\n",
    "oligos_scoring = SeqFISHOligoScoring(\n",
    "    GC_content_min=config[\"GC_content_min\"],\n",
    "    GC_content_opt=config[\"GC_content_opt\"],\n",
    "    GC_content_max=config[\"GC_content_max\"],\n",
    "    GC_weight=config[\"GC_weight\"],)\n",
    "set_scoring = AverageSetScoring()\n",
    "\n",
    "# initialize the oligoset generator class\n",
    "oligoset_generator = OligosetGenerator(\n",
    "    oligoset_size=config[\"oligoset_size\"], \n",
    "    min_oligoset_size=config[\"min_oligoset_size\"],\n",
    "    oligos_scoring=oligos_scoring,\n",
    "    set_scoring=set_scoring,\n",
    "    heurustic_selection=padlock_heuristic_selection,\n",
    "    write_regions_with_insufficient_oligos=config[\"write_removed_genes\"]\n",
    ")\n",
    "\n",
    "# generate the oligoset\n",
    "oligo_database = oligoset_generator.apply(oligo_database=oligo_database, n_sets=config[\"n_sets\"], n_jobs=config[\"n_jobs\"])\n",
    "# write the intermediate result\n",
    "if config[\"write_intermediate_steps\"]:\n",
    "    oligo_database.write_oligosets(dir_oligosets=\"oligosets\")"
   ]
  },
  {
   "cell_type": "code",
   "execution_count": 17,
   "metadata": {},
   "outputs": [
    {
     "data": {
      "text/plain": [
       "{}"
      ]
     },
     "execution_count": 17,
     "metadata": {},
     "output_type": "execute_result"
    }
   ],
   "source": [
    "oligo_database.oligosets"
   ]
  },
  {
   "attachments": {},
   "cell_type": "markdown",
   "metadata": {},
   "source": [
    "## Total probe generator"
   ]
  },
  {
   "cell_type": "code",
   "execution_count": 15,
   "metadata": {},
   "outputs": [
    {
     "ename": "NameError",
     "evalue": "name 'res' is not defined",
     "output_type": "error",
     "traceback": [
      "\u001b[0;31m---------------------------------------------------------------------------\u001b[0m",
      "\u001b[0;31mNameError\u001b[0m                                 Traceback (most recent call last)",
      "Cell \u001b[0;32mIn[15], line 4\u001b[0m\n\u001b[1;32m      2\u001b[0m \u001b[39mfrom\u001b[39;00m \u001b[39moligo_designer_toolsuite\u001b[39;00m\u001b[39m.\u001b[39;00m\u001b[39msequence_design\u001b[39;00m\u001b[39m.\u001b[39;00m\u001b[39mreadout_probes_generator\u001b[39;00m \u001b[39mimport\u001b[39;00m ReadoutProbes\n\u001b[1;32m      3\u001b[0m readout_generator \u001b[39m=\u001b[39m ReadoutProbes(length\u001b[39m=\u001b[39m\u001b[39m15\u001b[39m,  number_probes \u001b[39m=\u001b[39m \u001b[39m60\u001b[39m, GC_min\u001b[39m=\u001b[39m\u001b[39m45\u001b[39m, GC_max\u001b[39m=\u001b[39m\u001b[39m55\u001b[39m,number_consecutive \u001b[39m=\u001b[39m \u001b[39m5\u001b[39m, random_seed \u001b[39m=\u001b[39m \u001b[39m0\u001b[39m, blast_filter \u001b[39m=\u001b[39m blastn, reference_DB \u001b[39m=\u001b[39m reference)\n\u001b[0;32m----> 4\u001b[0m readout_probes \u001b[39m=\u001b[39m readout_generator\u001b[39m.\u001b[39;49mcreate_probes()\n",
      "File \u001b[0;32m~/Desktop/Project/oligo-designer-toolsuite/oligo_designer_toolsuite/sequence_design/readout_probes_generator.py:44\u001b[0m, in \u001b[0;36mReadoutProbes.create_probes\u001b[0;34m(self)\u001b[0m\n\u001b[1;32m     42\u001b[0m             ind \u001b[39m+\u001b[39m\u001b[39m=\u001b[39m \u001b[39m1\u001b[39m\n\u001b[1;32m     43\u001b[0m     \u001b[39m#res = self.blast_filter._run_blast(sub_dict, 'gene', self.ref)\u001b[39;00m\n\u001b[0;32m---> 44\u001b[0m     \u001b[39mfor\u001b[39;00m i \u001b[39min\u001b[39;00m res\u001b[39m.\u001b[39mkeys():\n\u001b[1;32m     45\u001b[0m         probes\u001b[39m.\u001b[39mappend(res[i][\u001b[39m'\u001b[39m\u001b[39msequence\u001b[39m\u001b[39m'\u001b[39m])\n\u001b[1;32m     47\u001b[0m \u001b[39mreturn\u001b[39;00m probes[:\u001b[39mself\u001b[39m\u001b[39m.\u001b[39mnum_probes]\n",
      "\u001b[0;31mNameError\u001b[0m: name 'res' is not defined"
     ]
    }
   ],
   "source": [
    "# create readout probes\n",
    "from oligo_designer_toolsuite.sequence_design.readout_probes_generator import ReadoutProbes\n",
    "readout_generator = ReadoutProbes(length=15,  number_probes = 60, GC_min=45, GC_max=55,number_consecutive = 5, random_seed = 0, blast_filter = blastn, reference_DB = reference)\n",
    "readout_probes = readout_generator.create_probes()"
   ]
  },
  {
   "cell_type": "code",
   "execution_count": 16,
   "metadata": {},
   "outputs": [
    {
     "ename": "NameError",
     "evalue": "name 'readout_probes' is not defined",
     "output_type": "error",
     "traceback": [
      "\u001b[0;31m---------------------------------------------------------------------------\u001b[0m",
      "\u001b[0;31mNameError\u001b[0m                                 Traceback (most recent call last)",
      "Cell \u001b[0;32mIn[16], line 1\u001b[0m\n\u001b[0;32m----> 1\u001b[0m readout_probes[\u001b[39m0\u001b[39m]\n",
      "\u001b[0;31mNameError\u001b[0m: name 'readout_probes' is not defined"
     ]
    }
   ],
   "source": [
    "readout_probes[0]"
   ]
  },
  {
   "cell_type": "code",
   "execution_count": 17,
   "metadata": {},
   "outputs": [],
   "source": [
    "from oligo_designer_toolsuite.sequence_design.barcoding_creation import BarcodingCreator\n",
    "barcodes_creator = BarcodingCreator(20, list(oligo_database.database.keys()))\n",
    "barcodes_for_genes =  barcodes_creator.create_barcodes()"
   ]
  },
  {
   "cell_type": "code",
   "execution_count": 18,
   "metadata": {},
   "outputs": [
    {
     "data": {
      "text/plain": [
       "{'WASIR2': [7, 9, 13, 9]}"
      ]
     },
     "execution_count": 18,
     "metadata": {},
     "output_type": "execute_result"
    }
   ],
   "source": [
    "barcodes_for_genes"
   ]
  },
  {
   "cell_type": "code",
   "execution_count": 20,
   "metadata": {},
   "outputs": [
    {
     "ename": "NameError",
     "evalue": "name 'readout_probes' is not defined",
     "output_type": "error",
     "traceback": [
      "\u001b[0;31m---------------------------------------------------------------------------\u001b[0m",
      "\u001b[0;31mNameError\u001b[0m                                 Traceback (most recent call last)",
      "Cell \u001b[0;32mIn[20], line 4\u001b[0m\n\u001b[1;32m      2\u001b[0m \u001b[39mfrom\u001b[39;00m \u001b[39moligo_designer_toolsuite\u001b[39;00m\u001b[39m.\u001b[39;00m\u001b[39msequence_design\u001b[39;00m\u001b[39m.\u001b[39;00m\u001b[39mseqFISH_probes_designer\u001b[39;00m \u001b[39mimport\u001b[39;00m SeqfishProbesCreator\n\u001b[1;32m      3\u001b[0m probes_creator \u001b[39m=\u001b[39m SeqfishProbesCreator()\n\u001b[0;32m----> 4\u001b[0m oligo_database\u001b[39m.\u001b[39moligos_DB \u001b[39m=\u001b[39m probes_creator\u001b[39m.\u001b[39mcreate_probes(oligo_database\u001b[39m.\u001b[39mdatabase, readout_probes, barcodes_for_genes)\n",
      "\u001b[0;31mNameError\u001b[0m: name 'readout_probes' is not defined"
     ]
    }
   ],
   "source": [
    "# generate barcodes\n",
    "from oligo_designer_toolsuite.sequence_design.seqFISH_probes_designer import SeqfishProbesCreator\n",
    "probes_creator = SeqfishProbesCreator()\n",
    "oligo_database.oligos_DB = probes_creator.create_probes(oligo_database.database, readout_probes, barcodes_for_genes)"
   ]
  },
  {
   "cell_type": "code",
   "execution_count": 17,
   "metadata": {},
   "outputs": [
    {
     "data": {
      "text/plain": [
       "{'sequence': Seq('CCATGCACTAGGCTTTCTCCCACGCTTGCC'),\n",
       " 'transcript_id': ['XM_011522905.4'],\n",
       " 'exon_id': ['XM_011522905.4_exon6'],\n",
       " 'chromosome': '16',\n",
       " 'start': [88643703],\n",
       " 'end': [88643733],\n",
       " 'strand': '-',\n",
       " 'length': 30,\n",
       " 'melting_temperature': 66.3320282696755,\n",
       " 'GC_content': 60.0,\n",
       " 'sequence_with_barcodes': Seq('CTATAGAGGGTCTACAGGTAATACGCACCGCCATGCACTAGGCTTTCTCCCACG...CCG')}"
      ]
     },
     "execution_count": 17,
     "metadata": {},
     "output_type": "execute_result"
    }
   ],
   "source": [
    "oligo_database.oligos_DB['CYBA']['CYBA_10024']"
   ]
  },
  {
   "attachments": {},
   "cell_type": "markdown",
   "metadata": {},
   "source": [
    "## !!! Add cross hybridization check here !!!"
   ]
  },
  {
   "cell_type": "code",
   "execution_count": 22,
   "metadata": {},
   "outputs": [
    {
     "data": {
      "text/plain": [
       "'/Users/anna/Desktop/Project/oligo-designer-toolsuite/output_SPOT_custom/oligo_database/fasta_from_our_db.fna'"
      ]
     },
     "execution_count": 22,
     "metadata": {},
     "output_type": "execute_result"
    }
   ],
   "source": [
    "oligo_database.write_fasta_from_database(filename = 'fasta_from_our_db')"
   ]
  },
  {
   "cell_type": "code",
   "execution_count": 23,
   "metadata": {},
   "outputs": [
    {
     "name": "stderr",
     "output_type": "stream",
     "text": [
      "/Users/anna/Desktop/Project/oligo-designer-toolsuite/oligo_designer_toolsuite/database/_reference_database.py:59: UserWarning: No files_source defined. Using default files_source custom!\n",
      "  warnings.warn(\n",
      "/Users/anna/Desktop/Project/oligo-designer-toolsuite/oligo_designer_toolsuite/database/_reference_database.py:65: UserWarning: No species defined. Using default species unknown!\n",
      "  warnings.warn(f\"No species defined. Using default species {species}!\")\n",
      "/Users/anna/Desktop/Project/oligo-designer-toolsuite/oligo_designer_toolsuite/database/_reference_database.py:69: UserWarning: No annotation release defined. Using default release unknown!\n",
      "  warnings.warn(\n",
      "/Users/anna/Desktop/Project/oligo-designer-toolsuite/oligo_designer_toolsuite/database/_reference_database.py:75: UserWarning: No genome assembly defined. Using default genome assembly unknown!\n",
      "  warnings.warn(\n"
     ]
    }
   ],
   "source": [
    "ref_db = ReferenceDatabase(file_fasta ='/Users/anna/Desktop/Project/oligo-designer-toolsuite/output_SPOT_custom/oligo_database/fasta_from_our_db.fna')"
   ]
  },
  {
   "cell_type": "code",
   "execution_count": 24,
   "metadata": {},
   "outputs": [],
   "source": [
    "exact_mathces = ExactMatches(dir_specificity=dir_specificity)\n",
    "blastn = Blastn(\n",
    "    dir_specificity=dir_specificity, \n",
    "    word_size=config[\"word_size\"],\n",
    "    percent_identity=config[\"percent_identity\"],\n",
    "    coverage=config[\"coverage\"],\n",
    "    #strand=config[\"strand\"],\n",
    "    strand='minus',\n",
    ")\n",
    "filters = [exact_mathces,blastn]\n",
    "\n",
    "# initialize the specificity filter class\n",
    "specificity_filter = SpecificityFilter(filters=filters, write_regions_with_insufficient_oligos=config[\"write_removed_genes\"])\n",
    "# filte r the database\n",
    "oligo_database = specificity_filter.apply(oligo_database=oligo_database, reference_database=ref_db, n_jobs=config[\"n_jobs\"])\n"
   ]
  },
  {
   "cell_type": "code",
   "execution_count": 26,
   "metadata": {},
   "outputs": [
    {
     "name": "stdout",
     "output_type": "stream",
     "text": [
      "{'WASIR2': 29}\n"
     ]
    }
   ],
   "source": [
    "number_of_probes(oligo_database)"
   ]
  },
  {
   "cell_type": "code",
   "execution_count": null,
   "metadata": {},
   "outputs": [],
   "source": []
  }
 ],
 "metadata": {
  "kernelspec": {
   "display_name": "Python 3",
   "language": "python",
   "name": "python3"
  },
  "language_info": {
   "codemirror_mode": {
    "name": "ipython",
    "version": 3
   },
   "file_extension": ".py",
   "mimetype": "text/x-python",
   "name": "python",
   "nbconvert_exporter": "python",
   "pygments_lexer": "ipython3",
   "version": "3.9.16"
  },
  "vscode": {
   "interpreter": {
    "hash": "91ae2b822b2c63763376465ee82482a220c569ab63f255cee6acbc07ca1cebfb"
   }
  }
 },
 "nbformat": 4,
 "nbformat_minor": 2
}
