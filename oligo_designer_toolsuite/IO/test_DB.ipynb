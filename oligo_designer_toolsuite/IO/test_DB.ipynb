{
 "cells": [
  {
   "cell_type": "markdown",
   "metadata": {},
   "source": [
    "# Test DB class"
   ]
  },
  {
   "cell_type": "code",
   "execution_count": 1,
   "metadata": {},
   "outputs": [
    {
     "name": "stdout",
     "output_type": "stream",
     "text": [
      "/home/francesco/Desktop/Work/oligo-designer-toolsuite/output/annotations\n"
     ]
    }
   ],
   "source": [
    "from _database import NcbiDB, EnsemblDB, CustomDB\n",
    "import os\n",
    "\n",
    "os.chdir('../../' )\n",
    "cwd = os.getcwd()\n",
    "dir_output  = os.path.join(cwd, 'output/annotations')\n",
    "print(dir_output)"
   ]
  },
  {
   "cell_type": "markdown",
   "metadata": {},
   "source": [
    "### Test the NCBI creator\n",
    "\n",
    "Check if the files are dowloaded correclty from the server"
   ]
  },
  {
   "cell_type": "code",
   "execution_count": 3,
   "metadata": {},
   "outputs": [
    {
     "name": "stderr",
     "output_type": "stream",
     "text": [
      "/home/francesco/Desktop/Work/oligo-designer-toolsuite/oligo_designer_toolsuite/IO/_database_new.py:531: UserWarning: No species defined. Using default species human!\n",
      "  warnings.warn(f'No species defined. Using default species {species}!')\n",
      "/home/francesco/Desktop/Work/oligo-designer-toolsuite/oligo_designer_toolsuite/IO/_database_new.py:535: UserWarning: No genome assembly defined. Using default assembly hg38!\n",
      "  warnings.warn(f'No genome assembly defined. Using default assembly {genome_assembly}!')\n",
      "/home/francesco/Desktop/Work/oligo-designer-toolsuite/oligo_designer_toolsuite/IO/_database_new.py:539: UserWarning: No annotation release defined. Using default release current!\n",
      "  warnings.warn(f'No annotation release defined. Using default release {annotation_release}!')\n",
      "/home/francesco/miniconda3/envs/oligo/lib/python3.10/site-packages/gtfparse/read_gtf.py:82: FutureWarning: The error_bad_lines argument has been deprecated and will be removed in a future version. Use on_bad_lines in the future.\n",
      "\n",
      "\n",
      "  chunk_iterator = pd.read_csv(\n",
      "/home/francesco/miniconda3/envs/oligo/lib/python3.10/site-packages/gtfparse/read_gtf.py:82: FutureWarning: The warn_bad_lines argument has been deprecated and will be removed in a future version. Use on_bad_lines in the future.\n",
      "\n",
      "\n",
      "  chunk_iterator = pd.read_csv(\n",
      "INFO:root:Extracted GTF attributes: ['gene_id', 'transcript_id', 'db_xref', 'description', 'gbkey', 'gene', 'gene_biotype', 'pseudo', 'product', 'transcript_biotype', 'exon_number', 'gene_synonym', 'model_evidence', 'tag', 'protein_id', 'experiment', 'inference', 'note', 'part', 'exception', 'isoform', 'anticodon', 'partial', 'The', 'transl_except', 'non-AUG', 'standard_name', 'source', 'similar', 'substituted', 'transferase', 'deleted', 'codons', '12S', '16S', 'transl_table', 'ATPase']\n"
     ]
    }
   ],
   "source": [
    "ncbi = NcbiDB(probe_length_min = 20, probe_length_max=30, dir_output=dir_output)"
   ]
  },
  {
   "cell_type": "markdown",
   "metadata": {},
   "source": [
    "### Test the creation of DB\n",
    "\n",
    "Load the previously dowloaded files and create the reference and oligo DB"
   ]
  },
  {
   "cell_type": "code",
   "execution_count": 2,
   "metadata": {},
   "outputs": [
    {
     "name": "stderr",
     "output_type": "stream",
     "text": [
      "/home/francesco/Desktop/Work/oligo-designer-toolsuite/oligo_designer_toolsuite/IO/_database.py:746: UserWarning: Species not specified.\n",
      "  warnings.warn(f'Species not specified.')\n",
      "/home/francesco/Desktop/Work/oligo-designer-toolsuite/oligo_designer_toolsuite/IO/_database.py:750: UserWarning: Genome assembly not specified.\n",
      "  warnings.warn(f'Genome assembly not specified.')\n",
      "/home/francesco/Desktop/Work/oligo-designer-toolsuite/oligo_designer_toolsuite/IO/_database.py:754: UserWarning: Annotation release not specified.\n",
      "  warnings.warn(f'Annotation release not specified.')\n",
      "/home/francesco/miniconda3/envs/oligo/lib/python3.10/site-packages/gtfparse/read_gtf.py:82: FutureWarning: The error_bad_lines argument has been deprecated and will be removed in a future version. Use on_bad_lines in the future.\n",
      "\n",
      "\n",
      "  chunk_iterator = pd.read_csv(\n",
      "/home/francesco/miniconda3/envs/oligo/lib/python3.10/site-packages/gtfparse/read_gtf.py:82: FutureWarning: The warn_bad_lines argument has been deprecated and will be removed in a future version. Use on_bad_lines in the future.\n",
      "\n",
      "\n",
      "  chunk_iterator = pd.read_csv(\n",
      "INFO:root:Extracted GTF attributes: ['gene_id', 'transcript_id', 'db_xref', 'description', 'gbkey', 'gene', 'gene_biotype', 'pseudo', 'product', 'transcript_biotype', 'exon_number', 'gene_synonym', 'model_evidence', 'tag', 'protein_id', 'experiment', 'inference', 'note', 'part', 'exception', 'isoform', 'anticodon', 'partial', 'The', 'transl_except', 'non-AUG', 'standard_name', 'source', 'similar', 'substituted', 'transferase', 'deleted', 'codons', '12S', '16S', 'transl_table', 'ATPase']\n"
     ]
    }
   ],
   "source": [
    "annotation = dir_output+'/GCF_000001405.40_GRCh38.p14_genomic.gtf'\n",
    "sequence = dir_output+'/GCF_000001405.40_GRCh38.p14_genomic.fna'\n",
    "custom = CustomDB(probe_length_min = 30, probe_length_max=40, file_annotation=annotation, file_sequence=sequence)"
   ]
  },
  {
   "cell_type": "code",
   "execution_count": 3,
   "metadata": {},
   "outputs": [],
   "source": [
    "custom.create_reference_DB(dir_output=dir_output)"
   ]
  },
  {
   "cell_type": "code",
   "execution_count": 4,
   "metadata": {},
   "outputs": [
    {
     "name": "stdout",
     "output_type": "stream",
     "text": [
      "['gene_id', 'probe_sequence', 'transcript_id', 'exon_id', 'chromosome', 'start', 'end', 'strand']\n"
     ]
    }
   ],
   "source": [
    "genes = ['WASH7P', 'DDX11L1', 'TRNT', 'NOC2L', 'PLEKHN1', 'AGRN','UBE2J2', 'DVL1', 'MIB2', 'LOC112268402_1']\n",
    "custom.create_oligos_DB(genes = genes, batch_size = 2, dir_output=dir_output)"
   ]
  },
  {
   "cell_type": "markdown",
   "metadata": {},
   "source": [
    "### Test reading an oligos_DB"
   ]
  },
  {
   "cell_type": "code",
   "execution_count": 3,
   "metadata": {},
   "outputs": [],
   "source": [
    "custom.read_oligos_DB(dir_output + '/oligo_DB_unknown_unknown_Custom_release_unknown_gene_transcript')"
   ]
  },
  {
   "cell_type": "code",
   "execution_count": 6,
   "metadata": {},
   "outputs": [
    {
     "name": "stdout",
     "output_type": "stream",
     "text": [
      "list of all the genes in the DB:\n",
      "dict_keys(['AGRN', 'DDX11L1', 'DVL1', 'LOC112268402_1', 'MIB2', 'NOC2L', 'PLEKHN1', 'TRNT', 'UBE2J2', 'WASH7P'])\n",
      "Features of the first probe of the DB:\n",
      "{'transcript_id': ['XM_011542248.3:XM_017002475.2:XM_017002474.2:NM_001367552.1:XM_047431794.1:NM_001160184.2:NM_032129.3:XM_017002478.3:XM_047431795.1:XM_017002479.2'], 'exon_id': ['XM_011542248.3_exon3:XM_017002475.2_exon3:XM_017002474.2_exon3:NM_001367552.1_exon3:XM_047431794.1_exon3:NM_001160184.2_exon3:NM_032129.3_exon3:XM_017002478.3_exon3:XM_047431795.1_exon3:XM_017002479.2_exon3'], 'chromosome': 1, 'start': ['970374'], 'end': ['970413'], 'strand': '+'}\n"
     ]
    }
   ],
   "source": [
    "print(\"list of all the genes in the DB:\")\n",
    "print(custom.oligos_DB.keys())\n",
    "gene = list(custom.oligos_DB.keys())[6]\n",
    "probe = list(custom.oligos_DB[gene].keys())[20]\n",
    "print(\"Features of the first probe of the DB:\")\n",
    "print(custom.oligos_DB[gene][probe])"
   ]
  }
 ],
 "metadata": {
  "kernelspec": {
   "display_name": "Python 3.10.4 ('oligo')",
   "language": "python",
   "name": "python3"
  },
  "language_info": {
   "codemirror_mode": {
    "name": "ipython",
    "version": 3
   },
   "file_extension": ".py",
   "mimetype": "text/x-python",
   "name": "python",
   "nbconvert_exporter": "python",
   "pygments_lexer": "ipython3",
   "version": "3.10.4"
  },
  "orig_nbformat": 4,
  "vscode": {
   "interpreter": {
    "hash": "7ff94d65164c54a2126c7dc0869520902e3a005d5dddb9f8c3667ad0fd9373c9"
   }
  }
 },
 "nbformat": 4,
 "nbformat_minor": 2
}
