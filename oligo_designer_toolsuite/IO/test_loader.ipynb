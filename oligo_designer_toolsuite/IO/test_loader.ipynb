{
 "cells": [
  {
   "cell_type": "code",
   "execution_count": 1,
   "metadata": {},
   "outputs": [],
   "source": [
    "from _ftp_loader import FtpLoaderEnsemble, FTPLoaderNCBI\n",
    "import os"
   ]
  },
  {
   "cell_type": "code",
   "execution_count": 2,
   "metadata": {},
   "outputs": [],
   "source": [
    "#Parameters\n",
    "cwd=os.getcwd()\n",
    "dir_output=cwd + '/output'\n",
    "designer_name = 'oligo'\n",
    "\n",
    "species= 'human' # available species: human or mouse\n",
    "genome_assembly= 'GRCh38' # genome assembly for species | for human: GRCh37 or GRCh38 | for mouse: GRCm38 or GRCm39\n",
    "annotation_release= 'current'"
   ]
  },
  {
   "cell_type": "code",
   "execution_count": 3,
   "metadata": {},
   "outputs": [
    {
     "data": {
      "text/plain": [
       "'/home/chels/CRISPR/repos/oligo-designer-toolsuite/oligo_designer_toolsuite/IO'"
      ]
     },
     "execution_count": 3,
     "metadata": {},
     "output_type": "execute_result"
    }
   ],
   "source": [
    "cwd"
   ]
  },
  {
   "cell_type": "code",
   "execution_count": 3,
   "metadata": {},
   "outputs": [],
   "source": [
    "loader_ncbi=FTPLoaderNCBI(dir_output, species,genome_assembly,annotation_release)"
   ]
  },
  {
   "cell_type": "code",
   "execution_count": 5,
   "metadata": {},
   "outputs": [
    {
     "data": {
      "text/plain": [
       "'/home/chels/CRISPR/repos/oligo-designer-toolsuite/oligo_designer_toolsuite/IO/output/GCF_000001405.40_GRCh38.p14_genomic.gtf'"
      ]
     },
     "execution_count": 5,
     "metadata": {},
     "output_type": "execute_result"
    }
   ],
   "source": [
    "#from pathlib import Path\n",
    "#Path(dir_output).mkdir(parents=True, exist_ok=True)\n",
    "\n",
    "loader_ncbi.download_gtf()\n"
   ]
  },
  {
   "cell_type": "code",
   "execution_count": null,
   "metadata": {},
   "outputs": [],
   "source": []
  },
  {
   "cell_type": "code",
   "execution_count": null,
   "metadata": {},
   "outputs": [],
   "source": []
  },
  {
   "cell_type": "code",
   "execution_count": null,
   "metadata": {},
   "outputs": [],
   "source": []
  },
  {
   "cell_type": "code",
   "execution_count": null,
   "metadata": {},
   "outputs": [],
   "source": []
  },
  {
   "cell_type": "code",
   "execution_count": 15,
   "metadata": {},
   "outputs": [
    {
     "ename": "NameError",
     "evalue": "name 'file_name_from_server' is not defined",
     "output_type": "error",
     "traceback": [
      "\u001b[0;31m---------------------------------------------------------------------------\u001b[0m",
      "\u001b[0;31mNameError\u001b[0m                                 Traceback (most recent call last)",
      "\u001b[1;32m/home/chels/CRISPR/repos/oligo-designer-toolsuite/oligo_designer_toolsuite/IO/test_loader.ipynb Cell 5'\u001b[0m in \u001b[0;36m<cell line: 1>\u001b[0;34m()\u001b[0m\n\u001b[0;32m----> <a href='vscode-notebook-cell://wsl%2Bubuntu-20.04/home/chels/CRISPR/repos/oligo-designer-toolsuite/oligo_designer_toolsuite/IO/test_loader.ipynb#ch0000001vscode-remote?line=0'>1</a>\u001b[0m ensemble_loader\u001b[39m=\u001b[39mFtpLoaderEnsemble(file_name_from_server, dir_output, designer_name)\n",
      "\u001b[0;31mNameError\u001b[0m: name 'file_name_from_server' is not defined"
     ]
    }
   ],
   "source": [
    "ensemble_loader=FtpLoaderEnsemble(file_name_from_server, dir_output, designer_name)"
   ]
  }
 ],
 "metadata": {
  "kernelspec": {
   "display_name": "Python 3.10.4 ('oligo': conda)",
   "language": "python",
   "name": "python3"
  },
  "language_info": {
   "codemirror_mode": {
    "name": "ipython",
    "version": 3
   },
   "file_extension": ".py",
   "mimetype": "text/x-python",
   "name": "python",
   "nbconvert_exporter": "python",
   "pygments_lexer": "ipython3",
   "version": "3.10.4"
  },
  "orig_nbformat": 4,
  "vscode": {
   "interpreter": {
    "hash": "797cf0fae3aa9496144015db7114399f14bdbbab56900ed16736529315e01dbb"
   }
  }
 },
 "nbformat": 4,
 "nbformat_minor": 2
}
