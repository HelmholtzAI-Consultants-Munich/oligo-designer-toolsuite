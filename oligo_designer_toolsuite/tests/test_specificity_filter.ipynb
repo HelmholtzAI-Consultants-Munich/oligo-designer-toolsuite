{
 "cells": [
  {
   "cell_type": "code",
   "execution_count": 1,
   "metadata": {},
   "outputs": [],
   "source": [
    "import os\n",
    "os.chdir('../../' )\n",
    "cwd=os.getcwd()\n",
    "\n",
    "from oligo_designer_toolsuite.oligo_specificity_filter._filter_base import ProbeFilterBase\n",
    "from oligo_designer_toolsuite.oligo_specificity_filter._filter_exact import ProbeFilterExact\n",
    "from oligo_designer_toolsuite.oligo_specificity_filter._filter_blastn import ProbeFilterBlastn"
   ]
  },
  {
   "cell_type": "code",
   "execution_count": 2,
   "metadata": {},
   "outputs": [
    {
     "data": {
      "text/plain": [
       "'/home/chels/CRISPR/repos/oligo-designer-toolsuite'"
      ]
     },
     "execution_count": 2,
     "metadata": {},
     "output_type": "execute_result"
    }
   ],
   "source": [
    "cwd"
   ]
  },
  {
   "cell_type": "code",
   "execution_count": 2,
   "metadata": {},
   "outputs": [],
   "source": [
    "number_batches=10\n",
    "ligation_region=0\n",
    "dir_output=cwd + \"/output/\"\n",
    "dir_annotations=dir_output+\"annotations/\"\n",
    "file_probe_info=dir_annotations + \"oligo_DB_unknown_unknown_Custom_release_unknown_gene_transcript\"\n",
    "genes=genes = ['WASH7P', 'DDX11L1', 'TRNT', 'NOC2L', 'PLEKHN1', 'AGRN','UBE2J2', 'DVL1', 'MIB2', 'LOC112268402_1' ]\n",
    "min_probes_per_gene=2\n"
   ]
  },
  {
   "cell_type": "markdown",
   "metadata": {},
   "source": [
    "Test exact match filter"
   ]
  },
  {
   "cell_type": "code",
   "execution_count": 3,
   "metadata": {},
   "outputs": [],
   "source": [
    "filter_exact=ProbeFilterExact(number_batches, ligation_region,\n",
    "        dir_output,\n",
    "        file_probe_info,\n",
    "        genes,\n",
    "        min_probes_per_gene,\n",
    "        dir_annotations)"
   ]
  },
  {
   "cell_type": "code",
   "execution_count": 4,
   "metadata": {},
   "outputs": [],
   "source": [
    "filter_exact.apply()"
   ]
  },
  {
   "cell_type": "markdown",
   "metadata": {},
   "source": [
    "Test Blast filter"
   ]
  },
  {
   "cell_type": "code",
   "execution_count": 5,
   "metadata": {},
   "outputs": [],
   "source": [
    "file_transcriptome_fasta=dir_output +\"annotations/reference_DB_unknown_unknown_Custom_release_unknown_genome_False_gene_transcript_True\"\n",
    "word_size=10\n",
    "percent_identity=80\n",
    "probe_length_min=30\n",
    "probe_length_max=40\n",
    "coverage=50"
   ]
  },
  {
   "cell_type": "code",
   "execution_count": 6,
   "metadata": {},
   "outputs": [],
   "source": [
    "blast_filter=ProbeFilterBlastn(number_batches,\n",
    "        file_transcriptome_fasta, \n",
    "        ligation_region,\n",
    "        dir_output,\n",
    "        file_probe_info,\n",
    "        genes,\n",
    "        min_probes_per_gene, word_size, percent_identity, probe_length_min, probe_length_max, coverage)"
   ]
  },
  {
   "cell_type": "code",
   "execution_count": 7,
   "metadata": {},
   "outputs": [],
   "source": [
    "blast_filter.apply()"
   ]
  }
 ],
 "metadata": {
  "kernelspec": {
   "display_name": "Python 3.10.4 ('oligo': conda)",
   "language": "python",
   "name": "python3"
  },
  "language_info": {
   "codemirror_mode": {
    "name": "ipython",
    "version": 3
   },
   "file_extension": ".py",
   "mimetype": "text/x-python",
   "name": "python",
   "nbconvert_exporter": "python",
   "pygments_lexer": "ipython3",
   "version": "3.10.4"
  },
  "orig_nbformat": 4,
  "vscode": {
   "interpreter": {
    "hash": "797cf0fae3aa9496144015db7114399f14bdbbab56900ed16736529315e01dbb"
   }
  }
 },
 "nbformat": 4,
 "nbformat_minor": 2
}
