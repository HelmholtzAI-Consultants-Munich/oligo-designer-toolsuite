{
 "cells": [
  {
   "cell_type": "code",
   "execution_count": 1,
   "metadata": {},
   "outputs": [],
   "source": [
    "import os\n",
    "os.chdir('../../' )\n",
    "cwd=os.getcwd()\n",
    "\n",
    "from oligo_designer_toolsuite.oligo_specificity_filter._filter_base import ProbeFilterBase\n",
    "from oligo_designer_toolsuite.oligo_specificity_filter._filter_exact import ProbeFilterExact\n",
    "from oligo_designer_toolsuite.oligo_specificity_filter._filter_blastn import ProbeFilterBlastn\n",
    "from oligo_designer_toolsuite.oligo_specificity_filter._filter_bowtie import ProbeFilterBowtie"
   ]
  },
  {
   "cell_type": "code",
   "execution_count": 2,
   "metadata": {},
   "outputs": [
    {
     "data": {
      "text/plain": [
       "'/home/chels/CRISPR/repos/oligo-designer-toolsuite'"
      ]
     },
     "execution_count": 2,
     "metadata": {},
     "output_type": "execute_result"
    }
   ],
   "source": [
    "cwd"
   ]
  },
  {
   "cell_type": "code",
   "execution_count": 2,
   "metadata": {},
   "outputs": [],
   "source": [
    "n_jobs=10\n",
    "ligation_region=0\n",
    "dir_output=cwd + \"/output/\"\n",
    "dir_annotations=dir_output+\"annotations/\"\n",
    "file_probe_info=dir_annotations + \"oligo_DB_unknown_unknown_Custom_release_unknown_gene_transcript\"\n",
    "genes= ['WASH7P', 'DDX11L1', 'TRNT', 'NOC2L', 'PLEKHN1', 'AGRN','UBE2J2', 'DVL1', 'MIB2', 'LOC112268402_1' ]\n",
    "min_probes_per_gene=2\n",
    "file_transcriptome_fasta=dir_output +\"annotations/reference_DB_unknown_unknown_Custom_release_unknown_genome_False_gene_transcript_True\"\n",
    "word_size=10\n",
    "percent_identity=80\n",
    "probe_length_min=30\n",
    "probe_length_max=40\n",
    "coverage=50\n"
   ]
  },
  {
   "cell_type": "markdown",
   "metadata": {},
   "source": [
    "Test exact match filter"
   ]
  },
  {
   "cell_type": "code",
   "execution_count": 3,
   "metadata": {},
   "outputs": [],
   "source": [
    "filter_exact=ProbeFilterExact(\n",
    "        n_jobs,\n",
    "        dir_output,\n",
    "        file_probe_info,\n",
    "        genes,\n",
    "        dir_annotations)"
   ]
  },
  {
   "cell_type": "code",
   "execution_count": 4,
   "metadata": {},
   "outputs": [
    {
     "name": "stdout",
     "output_type": "stream",
     "text": [
      "INFO:filter_probes:Creating batches\n",
      "INFO:filter_probes:Exact matches filtered in 2.648837500004447 seconds\n"
     ]
    }
   ],
   "source": [
    "filter_exact.apply()"
   ]
  },
  {
   "cell_type": "markdown",
   "metadata": {},
   "source": [
    "Test Blast filter"
   ]
  },
  {
   "cell_type": "code",
   "execution_count": 5,
   "metadata": {},
   "outputs": [],
   "source": [
    "blast_filter=ProbeFilterBlastn(n_jobs,\n",
    "        file_transcriptome_fasta, \n",
    "        dir_output,\n",
    "        file_probe_info,\n",
    "        genes, word_size,\n",
    "        percent_identity, coverage, probe_length_min, probe_length_max, ligation_region)"
   ]
  },
  {
   "cell_type": "code",
   "execution_count": 6,
   "metadata": {},
   "outputs": [
    {
     "name": "stdout",
     "output_type": "stream",
     "text": [
      "INFO:filter_probes:Creating blast database\n",
      "INFO:filter_probes:Blast database created in 45.71521049999865 seconds\n",
      "INFO:filter_probes:Blast alignmnet search finished in 15.541030399996089 seconds\n",
      "INFO:filter_probes:Blast results processed in 0.9551006999972742 seconds\n"
     ]
    }
   ],
   "source": [
    "blast_filter.apply()"
   ]
  },
  {
   "cell_type": "markdown",
   "metadata": {},
   "source": [
    "Test Bowtie filter"
   ]
  },
  {
   "cell_type": "code",
   "execution_count": 8,
   "metadata": {},
   "outputs": [],
   "source": [
    "n_jobs=10\n",
    "min_mismatches=4\n",
    "mismatch_region=5\n",
    "\n",
    "bowtie_filter=ProbeFilterBowtie(n_jobs,\n",
    "        dir_output,\n",
    "        file_probe_info,\n",
    "        genes,\n",
    "        probe_length_min,\n",
    "        probe_length_max,\n",
    "        file_transcriptome_fasta, min_mismatches, mismatch_region)\n",
    "\n"
   ]
  },
  {
   "cell_type": "code",
   "execution_count": 9,
   "metadata": {},
   "outputs": [
    {
     "name": "stderr",
     "output_type": "stream",
     "text": [
      "# reads processed: 24\n",
      "# reads with at least one reported alignment: 24 (100.00%)\n",
      "# reads that failed to align: 0 (0.00%)\n",
      "Reported 24 alignments to 1 output stream(s)\n",
      "# reads processed: 294\n",
      "# reads with at least one reported alignment: 294 (100.00%)\n",
      "# reads that failed to align: 0 (0.00%)\n",
      "Reported 337 alignments to 1 output stream(s)\n",
      "# reads processed: 307\n",
      "# reads with at least one reported alignment: 307 (100.00%)\n",
      "# reads that failed to align: 0 (0.00%)\n",
      "Reported 2967 alignments to 1 output stream(s)\n",
      "# reads processed: 671\n",
      "# reads with at least one reported alignment: 671 (100.00%)\n",
      "# reads that failed to align: 0 (0.00%)\n",
      "Reported 6752 alignments to 1 output stream(s)\n",
      "# reads processed: 546\n",
      "# reads with at least one reported alignment: 546 (100.00%)\n",
      "# reads that failed to align: 0 (0.00%)\n",
      "Reported 1046 alignments to 1 output stream(s)\n",
      "# reads processed: 339\n",
      "# reads with at least one reported alignment: 339 (100.00%)\n",
      "# reads that failed to align: 0 (0.00%)\n",
      "Reported 501 alignments to 1 output stream(s)\n",
      "# reads processed: 426\n",
      "# reads with at least one reported alignment: 426 (100.00%)\n",
      "# reads that failed to align: 0 (0.00%)\n",
      "Reported 466 alignments to 1 output stream(s)\n",
      "# reads processed: 1050\n",
      "# reads with at least one reported alignment: 1050 (100.00%)\n",
      "# reads that failed to align: 0 (0.00%)\n",
      "Reported 23555 alignments to 1 output stream(s)\n",
      "# reads processed: 1474\n",
      "# reads with at least one reported alignment: 1474 (100.00%)\n",
      "# reads that failed to align: 0 (0.00%)\n",
      "Reported 3052 alignments to 1 output stream(s)\n"
     ]
    },
    {
     "name": "stdout",
     "output_type": "stream",
     "text": [
      "INFO:filter_probes:Bowtie alignmnet search finished in 125.27253470000142 seconds\n"
     ]
    },
    {
     "name": "stderr",
     "output_type": "stream",
     "text": [
      "# reads processed: 1236\n",
      "# reads with at least one reported alignment: 1236 (100.00%)\n",
      "# reads that failed to align: 0 (0.00%)\n",
      "Reported 3735 alignments to 1 output stream(s)\n"
     ]
    },
    {
     "name": "stdout",
     "output_type": "stream",
     "text": [
      "INFO:filter_probes:Bowtie results processed in 0.5550013999963994 seconds\n"
     ]
    }
   ],
   "source": [
    "bowtie_filter.apply()\n",
    "\n"
   ]
  }
 ],
 "metadata": {
  "kernelspec": {
   "display_name": "Python 3.10.4 ('oligo': conda)",
   "language": "python",
   "name": "python3"
  },
  "language_info": {
   "codemirror_mode": {
    "name": "ipython",
    "version": 3
   },
   "file_extension": ".py",
   "mimetype": "text/x-python",
   "name": "python",
   "nbconvert_exporter": "python",
   "pygments_lexer": "ipython3",
   "version": "3.10.4"
  },
  "orig_nbformat": 4,
  "vscode": {
   "interpreter": {
    "hash": "797cf0fae3aa9496144015db7114399f14bdbbab56900ed16736529315e01dbb"
   }
  }
 },
 "nbformat": 4,
 "nbformat_minor": 2
}
