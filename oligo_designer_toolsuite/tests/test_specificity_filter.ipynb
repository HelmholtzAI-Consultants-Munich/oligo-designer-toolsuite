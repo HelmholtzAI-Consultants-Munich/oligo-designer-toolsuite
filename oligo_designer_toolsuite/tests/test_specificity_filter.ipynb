{
 "cells": [
  {
   "cell_type": "code",
   "execution_count": 1,
   "metadata": {},
   "outputs": [],
   "source": [
    "import os\n",
    "os.chdir('../../' )\n",
    "cwd=os.getcwd()\n",
    "\n",
    "from oligo_designer_toolsuite.oligo_specificity_filter._filter_base import ProbeFilterBase\n",
    "from oligo_designer_toolsuite.oligo_specificity_filter._filter_exact import ProbeFilterExact\n",
    "from oligo_designer_toolsuite.oligo_specificity_filter._filter_blastn import ProbeFilterBlastn\n",
    "from oligo_designer_toolsuite.oligo_specificity_filter._filter_bowtie import ProbeFilterBowtie"
   ]
  },
  {
   "cell_type": "code",
   "execution_count": 2,
   "metadata": {},
   "outputs": [
    {
     "data": {
      "text/plain": [
       "'/home/chels/CRISPR/repos/oligo-designer-toolsuite'"
      ]
     },
     "execution_count": 2,
     "metadata": {},
     "output_type": "execute_result"
    }
   ],
   "source": [
    "cwd"
   ]
  },
  {
   "cell_type": "code",
   "execution_count": 2,
   "metadata": {},
   "outputs": [],
   "source": [
    "n_jobs=10\n",
    "ligation_region=0\n",
    "dir_output=cwd + \"/output/\"\n",
    "dir_annotations=dir_output+\"annotations/\"\n",
    "file_probe_info=dir_annotations + \"oligo_DB_unknown_unknown_Custom_release_unknown_gene_transcript\"\n",
    "genes= ['WASH7P', 'DDX11L1', 'TRNT', 'NOC2L', 'PLEKHN1', 'AGRN','UBE2J2', 'DVL1', 'MIB2', 'LOC112268402_1' ]\n",
    "min_probes_per_gene=2\n",
    "file_transcriptome_fasta=dir_output +\"annotations/reference_DB_unknown_unknown_Custom_release_unknown_genome_False_gene_transcript_True\"\n",
    "word_size=10\n",
    "percent_identity=80\n",
    "probe_length_min=30\n",
    "probe_length_max=40\n",
    "coverage=50\n"
   ]
  },
  {
   "cell_type": "markdown",
   "metadata": {},
   "source": [
    "Test exact match filter"
   ]
  },
  {
   "cell_type": "code",
   "execution_count": 3,
   "metadata": {},
   "outputs": [],
   "source": [
    "filter_exact=ProbeFilterExact(\n",
    "        n_jobs,\n",
    "        dir_output,\n",
    "        file_probe_info,\n",
    "        genes,\n",
    "        dir_annotations)"
   ]
  },
  {
   "cell_type": "code",
   "execution_count": 4,
   "metadata": {},
   "outputs": [
    {
     "name": "stdout",
     "output_type": "stream",
     "text": [
      "INFO:filter_probes:Creating batches\n",
      "INFO:filter_probes:Exact matches filtered in 2.4288301000015053 seconds\n"
     ]
    }
   ],
   "source": [
    "filter_exact.apply()"
   ]
  },
  {
   "cell_type": "markdown",
   "metadata": {},
   "source": [
    "Test Blast filter"
   ]
  },
  {
   "cell_type": "code",
   "execution_count": 3,
   "metadata": {},
   "outputs": [
    {
     "ename": "TypeError",
     "evalue": "expected str, bytes or os.PathLike object, not int",
     "output_type": "error",
     "traceback": [
      "\u001b[0;31m---------------------------------------------------------------------------\u001b[0m",
      "\u001b[0;31mTypeError\u001b[0m                                 Traceback (most recent call last)",
      "\u001b[1;32m/home/chels/CRISPR/repos/oligo-designer-toolsuite/oligo_designer_toolsuite/tests/test_specificity_filter.ipynb Cell 8\u001b[0m in \u001b[0;36m<cell line: 1>\u001b[0;34m()\u001b[0m\n\u001b[0;32m----> <a href='vscode-notebook-cell://wsl%2Bubuntu-20.04/home/chels/CRISPR/repos/oligo-designer-toolsuite/oligo_designer_toolsuite/tests/test_specificity_filter.ipynb#ch0000007vscode-remote?line=0'>1</a>\u001b[0m blast_filter\u001b[39m=\u001b[39mProbeFilterBlastn(n_jobs,\n\u001b[1;32m      <a href='vscode-notebook-cell://wsl%2Bubuntu-20.04/home/chels/CRISPR/repos/oligo-designer-toolsuite/oligo_designer_toolsuite/tests/test_specificity_filter.ipynb#ch0000007vscode-remote?line=1'>2</a>\u001b[0m         file_transcriptome_fasta, \n\u001b[1;32m      <a href='vscode-notebook-cell://wsl%2Bubuntu-20.04/home/chels/CRISPR/repos/oligo-designer-toolsuite/oligo_designer_toolsuite/tests/test_specificity_filter.ipynb#ch0000007vscode-remote?line=2'>3</a>\u001b[0m         dir_output,\n\u001b[1;32m      <a href='vscode-notebook-cell://wsl%2Bubuntu-20.04/home/chels/CRISPR/repos/oligo-designer-toolsuite/oligo_designer_toolsuite/tests/test_specificity_filter.ipynb#ch0000007vscode-remote?line=3'>4</a>\u001b[0m         file_probe_info,\n\u001b[1;32m      <a href='vscode-notebook-cell://wsl%2Bubuntu-20.04/home/chels/CRISPR/repos/oligo-designer-toolsuite/oligo_designer_toolsuite/tests/test_specificity_filter.ipynb#ch0000007vscode-remote?line=4'>5</a>\u001b[0m         genes, word_size,\n\u001b[1;32m      <a href='vscode-notebook-cell://wsl%2Bubuntu-20.04/home/chels/CRISPR/repos/oligo-designer-toolsuite/oligo_designer_toolsuite/tests/test_specificity_filter.ipynb#ch0000007vscode-remote?line=5'>6</a>\u001b[0m         percent_identity, coverage, probe_length_min, probe_length_max, ligation_region)\n",
      "File \u001b[0;32m~/CRISPR/repos/oligo-designer-toolsuite/oligo_designer_toolsuite/oligo_specificity_filter/_filter_blastn.py:45\u001b[0m, in \u001b[0;36mProbeFilterBlastn.__init__\u001b[0;34m(self, n_jobs, file_transcriptome_fasta, dir_output, file_probe_info, genes, word_size, percent_identity, coverage, probe_length_min, probe_length_max, ligation_region)\u001b[0m\n\u001b[1;32m     15\u001b[0m \u001b[39mdef\u001b[39;00m \u001b[39m__init__\u001b[39m(\n\u001b[1;32m     16\u001b[0m     \u001b[39mself\u001b[39m,\n\u001b[1;32m     17\u001b[0m     n_jobs,\n\u001b[0;32m   (...)\u001b[0m\n\u001b[1;32m     27\u001b[0m     ligation_region\u001b[39m=\u001b[39m\u001b[39m0\u001b[39m\n\u001b[1;32m     28\u001b[0m ):\n\u001b[1;32m     29\u001b[0m     \u001b[39m\"\"\"This class filters probes based on the blast alignment tool\u001b[39;00m\n\u001b[1;32m     30\u001b[0m \n\u001b[1;32m     31\u001b[0m \u001b[39m    :param file_transcriptome_fasta: path to fasta file containing all probes\u001b[39;00m\n\u001b[0;32m   (...)\u001b[0m\n\u001b[1;32m     43\u001b[0m \n\u001b[1;32m     44\u001b[0m \u001b[39m    \"\"\"\u001b[39;00m\n\u001b[0;32m---> 45\u001b[0m     \u001b[39msuper\u001b[39;49m()\u001b[39m.\u001b[39;49m\u001b[39m__init__\u001b[39;49m(\n\u001b[1;32m     46\u001b[0m         n_jobs, dir_output, file_probe_info, genes\n\u001b[1;32m     47\u001b[0m     )\n\u001b[1;32m     49\u001b[0m     \u001b[39mself\u001b[39m\u001b[39m.\u001b[39mword_size \u001b[39m=\u001b[39m word_size\n\u001b[1;32m     50\u001b[0m     \u001b[39mself\u001b[39m\u001b[39m.\u001b[39mpercent_identity \u001b[39m=\u001b[39m percent_identity\n",
      "File \u001b[0;32m~/CRISPR/repos/oligo-designer-toolsuite/oligo_designer_toolsuite/oligo_specificity_filter/_filter_base.py:69\u001b[0m, in \u001b[0;36mProbeFilterBase.__init__\u001b[0;34m(self, dir_output, file_probe_info, genes, n_jobs, dir_annotations, number_subbatches, max_genes_in_batch)\u001b[0m\n\u001b[1;32m     66\u001b[0m     \u001b[39mself\u001b[39m\u001b[39m.\u001b[39mn_jobs \u001b[39m=\u001b[39m n_jobs\n\u001b[1;32m     68\u001b[0m \u001b[39m# set logger\u001b[39;00m\n\u001b[0;32m---> 69\u001b[0m log_file \u001b[39m=\u001b[39m os\u001b[39m.\u001b[39;49mpath\u001b[39m.\u001b[39;49mjoin(\u001b[39mself\u001b[39;49m\u001b[39m.\u001b[39;49mdir_output, \u001b[39m\"\u001b[39;49m\u001b[39mlogs/filter_probes.log\u001b[39;49m\u001b[39m\"\u001b[39;49m)\n\u001b[1;32m     70\u001b[0m file_handler \u001b[39m=\u001b[39m logging\u001b[39m.\u001b[39mFileHandler(filename\u001b[39m=\u001b[39mlog_file)\n\u001b[1;32m     71\u001b[0m stdout_handler \u001b[39m=\u001b[39m logging\u001b[39m.\u001b[39mStreamHandler(stream\u001b[39m=\u001b[39msys\u001b[39m.\u001b[39mstdout)\n",
      "File \u001b[0;32m~/anaconda3/envs/oligo/lib/python3.10/posixpath.py:76\u001b[0m, in \u001b[0;36mjoin\u001b[0;34m(a, *p)\u001b[0m\n\u001b[1;32m     71\u001b[0m \u001b[39mdef\u001b[39;00m \u001b[39mjoin\u001b[39m(a, \u001b[39m*\u001b[39mp):\n\u001b[1;32m     72\u001b[0m     \u001b[39m\"\"\"Join two or more pathname components, inserting '/' as needed.\u001b[39;00m\n\u001b[1;32m     73\u001b[0m \u001b[39m    If any component is an absolute path, all previous path components\u001b[39;00m\n\u001b[1;32m     74\u001b[0m \u001b[39m    will be discarded.  An empty last part will result in a path that\u001b[39;00m\n\u001b[1;32m     75\u001b[0m \u001b[39m    ends with a separator.\"\"\"\u001b[39;00m\n\u001b[0;32m---> 76\u001b[0m     a \u001b[39m=\u001b[39m os\u001b[39m.\u001b[39;49mfspath(a)\n\u001b[1;32m     77\u001b[0m     sep \u001b[39m=\u001b[39m _get_sep(a)\n\u001b[1;32m     78\u001b[0m     path \u001b[39m=\u001b[39m a\n",
      "\u001b[0;31mTypeError\u001b[0m: expected str, bytes or os.PathLike object, not int"
     ]
    }
   ],
   "source": [
    "blast_filter=ProbeFilterBlastn(n_jobs,\n",
    "        file_transcriptome_fasta, \n",
    "        dir_output,\n",
    "        file_probe_info,\n",
    "        genes, word_size,\n",
    "        percent_identity, coverage, probe_length_min, probe_length_max, ligation_region)"
   ]
  },
  {
   "cell_type": "code",
   "execution_count": 7,
   "metadata": {},
   "outputs": [],
   "source": [
    "blast_filter.apply()"
   ]
  },
  {
   "cell_type": "markdown",
   "metadata": {},
   "source": [
    "Test Bowtie filter"
   ]
  },
  {
   "cell_type": "code",
   "execution_count": 5,
   "metadata": {},
   "outputs": [],
   "source": [
    "n_jobs=10\n",
    "min_mismatches=3\n",
    "\n",
    "bowtie_filter=ProbeFilterBowtie(n_jobs,\n",
    "        dir_output,\n",
    "        file_probe_info,\n",
    "        genes,\n",
    "        probe_length_min,\n",
    "        probe_length_max,\n",
    "        file_transcriptome_fasta, min_mismatches)\n",
    "\n"
   ]
  },
  {
   "cell_type": "code",
   "execution_count": 6,
   "metadata": {},
   "outputs": [
    {
     "name": "stderr",
     "output_type": "stream",
     "text": [
      "# reads processed: 24\n",
      "# reads with at least one reported alignment: 24 (100.00%)\n",
      "# reads that failed to align: 0 (0.00%)\n",
      "Reported 24 alignments to 1 output stream(s)\n",
      "# reads processed: 426\n",
      "# reads with at least one reported alignment: 426 (100.00%)\n",
      "# reads that failed to align: 0 (0.00%)\n",
      "Reported 468 alignments to 1 output stream(s)\n",
      "# reads processed: 294\n",
      "# reads with at least one reported alignment: 294 (100.00%)\n",
      "# reads that failed to align: 0 (0.00%)\n",
      "Reported 338 alignments to 1 output stream(s)\n",
      "# reads processed: 671\n",
      "# reads with at least one reported alignment: 671 (100.00%)\n",
      "# reads that failed to align: 0 (0.00%)\n",
      "Reported 6876 alignments to 1 output stream(s)\n",
      "# reads processed: 339\n",
      "# reads with at least one reported alignment: 339 (100.00%)\n",
      "# reads that failed to align: 0 (0.00%)\n",
      "Reported 574 alignments to 1 output stream(s)\n",
      "# reads processed: 307\n",
      "# reads with at least one reported alignment: 307 (100.00%)\n",
      "# reads that failed to align: 0 (0.00%)\n",
      "Reported 3017 alignments to 1 output stream(s)\n",
      "# reads processed: 546\n",
      "# reads with at least one reported alignment: 546 (100.00%)\n",
      "# reads that failed to align: 0 (0.00%)\n",
      "Reported 1139 alignments to 1 output stream(s)\n",
      "# reads processed: 1050\n",
      "# reads with at least one reported alignment: 1050 (100.00%)\n",
      "# reads that failed to align: 0 (0.00%)\n",
      "Reported 64476 alignments to 1 output stream(s)\n",
      "# reads processed: 1236\n",
      "# reads with at least one reported alignment: 1236 (100.00%)\n",
      "# reads that failed to align: 0 (0.00%)\n",
      "Reported 29358 alignments to 1 output stream(s)\n"
     ]
    },
    {
     "name": "stdout",
     "output_type": "stream",
     "text": [
      "INFO:filter_probes:Bowtie alignmnet search finished in 131.11580070000127 seconds\n"
     ]
    },
    {
     "name": "stderr",
     "output_type": "stream",
     "text": [
      "# reads processed: 1474\n",
      "# reads with at least one reported alignment: 1474 (100.00%)\n",
      "# reads that failed to align: 0 (0.00%)\n",
      "Reported 8677 alignments to 1 output stream(s)\n"
     ]
    },
    {
     "name": "stdout",
     "output_type": "stream",
     "text": [
      "Empty DataFrame\n",
      "Columns: [query, strand, reference, ref_start, query_sequence, read_quality, num_instances, mismatch_positions, query_gene_id, reference_gene_id, mismatch_positions_list]\n",
      "Index: []\n",
      "Empty DataFrame\n",
      "Columns: [query, strand, reference, ref_start, query_sequence, read_quality, num_instances, mismatch_positions, query_gene_id, reference_gene_id, mismatch_positions_list]\n",
      "Index: []\n"
     ]
    },
    {
     "ename": "TypeError",
     "evalue": "'float' object is not iterable",
     "output_type": "error",
     "traceback": [
      "\u001b[0;31m---------------------------------------------------------------------------\u001b[0m",
      "\u001b[0;31m_RemoteTraceback\u001b[0m                          Traceback (most recent call last)",
      "\u001b[0;31m_RemoteTraceback\u001b[0m: \n\"\"\"\nTraceback (most recent call last):\n  File \"/home/chels/anaconda3/envs/oligo/lib/python3.10/site-packages/joblib/externals/loky/process_executor.py\", line 436, in _process_worker\n    r = call_item()\n  File \"/home/chels/anaconda3/envs/oligo/lib/python3.10/site-packages/joblib/externals/loky/process_executor.py\", line 288, in __call__\n    return self.fn(*self.args, **self.kwargs)\n  File \"/home/chels/anaconda3/envs/oligo/lib/python3.10/site-packages/joblib/_parallel_backends.py\", line 595, in __call__\n    return self.func(*args, **kwargs)\n  File \"/home/chels/anaconda3/envs/oligo/lib/python3.10/site-packages/joblib/parallel.py\", line 262, in __call__\n    return [func(*args, **kwargs)\n  File \"/home/chels/anaconda3/envs/oligo/lib/python3.10/site-packages/joblib/parallel.py\", line 262, in <listcomp>\n    return [func(*args, **kwargs)\n  File \"/home/chels/CRISPR/repos/oligo-designer-toolsuite/oligo_designer_toolsuite/oligo_specificity_filter/_filter_bowtie.py\", line 124, in _process_bowtie_results\n    num_probes_wo_match += _filter_probes_bowtie(probes_info, bowtie_results)\n  File \"/home/chels/CRISPR/repos/oligo-designer-toolsuite/oligo_designer_toolsuite/oligo_specificity_filter/_filter_bowtie.py\", line 227, in _filter_probes_bowtie\n    mismatch_positions.apply(lambda x: [position.str.split(\":\").str[0] for position in x])\n  File \"/home/chels/anaconda3/envs/oligo/lib/python3.10/site-packages/pandas/core/series.py\", line 4433, in apply\n    return SeriesApply(self, func, convert_dtype, args, kwargs).apply()\n  File \"/home/chels/anaconda3/envs/oligo/lib/python3.10/site-packages/pandas/core/apply.py\", line 1082, in apply\n    return self.apply_standard()\n  File \"/home/chels/anaconda3/envs/oligo/lib/python3.10/site-packages/pandas/core/apply.py\", line 1137, in apply_standard\n    mapped = lib.map_infer(\n  File \"pandas/_libs/lib.pyx\", line 2870, in pandas._libs.lib.map_infer\n  File \"/home/chels/CRISPR/repos/oligo-designer-toolsuite/oligo_designer_toolsuite/oligo_specificity_filter/_filter_bowtie.py\", line 227, in <lambda>\n    mismatch_positions.apply(lambda x: [position.str.split(\":\").str[0] for position in x])\nTypeError: 'float' object is not iterable\n\"\"\"",
      "\nThe above exception was the direct cause of the following exception:\n",
      "\u001b[0;31mTypeError\u001b[0m                                 Traceback (most recent call last)",
      "\u001b[1;32m/home/chels/CRISPR/repos/oligo-designer-toolsuite/oligo_designer_toolsuite/tests/test_specificity_filter.ipynb Cell 12\u001b[0m in \u001b[0;36m<cell line: 1>\u001b[0;34m()\u001b[0m\n\u001b[0;32m----> <a href='vscode-notebook-cell://wsl%2Bubuntu-20.04/home/chels/CRISPR/repos/oligo-designer-toolsuite/oligo_designer_toolsuite/tests/test_specificity_filter.ipynb#ch0000012vscode-remote?line=0'>1</a>\u001b[0m bowtie_filter\u001b[39m.\u001b[39;49mapply()\n",
      "File \u001b[0;32m~/CRISPR/repos/oligo-designer-toolsuite/oligo_designer_toolsuite/oligo_specificity_filter/_filter_bowtie.py:319\u001b[0m, in \u001b[0;36mProbeFilterBowtie.apply\u001b[0;34m(self)\u001b[0m\n\u001b[1;32m    317\u001b[0m \u001b[39mdef\u001b[39;00m \u001b[39mapply\u001b[39m(\u001b[39mself\u001b[39m):\n\u001b[1;32m    318\u001b[0m     \u001b[39mself\u001b[39m\u001b[39m.\u001b[39mrun_bowtie()\n\u001b[0;32m--> 319\u001b[0m     \u001b[39mself\u001b[39;49m\u001b[39m.\u001b[39;49mfilter_probes_by_bowtie_results()\n",
      "File \u001b[0;32m~/CRISPR/repos/oligo-designer-toolsuite/oligo_designer_toolsuite/oligo_specificity_filter/_filter_bowtie.py:288\u001b[0m, in \u001b[0;36mProbeFilterBowtie.filter_probes_by_bowtie_results\u001b[0;34m(self)\u001b[0m\n\u001b[1;32m    286\u001b[0m start_time \u001b[39m=\u001b[39m time\u001b[39m.\u001b[39mperf_counter()\n\u001b[1;32m    287\u001b[0m \u001b[39mwith\u001b[39;00m parallel_backend(\u001b[39m\"\u001b[39m\u001b[39mloky\u001b[39m\u001b[39m\"\u001b[39m):\n\u001b[0;32m--> 288\u001b[0m     Parallel()(\n\u001b[1;32m    289\u001b[0m         delayed(_process_bowtie_results)(batch_id)\n\u001b[1;32m    290\u001b[0m         \u001b[39mfor\u001b[39;49;00m batch_id \u001b[39min\u001b[39;49;00m \u001b[39mrange\u001b[39;49m(\u001b[39mself\u001b[39;49m\u001b[39m.\u001b[39;49mn_jobs)\n\u001b[1;32m    291\u001b[0m     )\n\u001b[1;32m    293\u001b[0m finish_time \u001b[39m=\u001b[39m time\u001b[39m.\u001b[39mperf_counter()\n\u001b[1;32m    295\u001b[0m \u001b[39mself\u001b[39m\u001b[39m.\u001b[39mlogging\u001b[39m.\u001b[39minfo(\n\u001b[1;32m    296\u001b[0m     \u001b[39mf\u001b[39m\u001b[39m\"\u001b[39m\u001b[39mBowtie results processed in \u001b[39m\u001b[39m{\u001b[39;00mfinish_time\u001b[39m-\u001b[39mstart_time\u001b[39m}\u001b[39;00m\u001b[39m seconds\u001b[39m\u001b[39m\"\u001b[39m\n\u001b[1;32m    297\u001b[0m )\n",
      "File \u001b[0;32m~/anaconda3/envs/oligo/lib/python3.10/site-packages/joblib/parallel.py:1056\u001b[0m, in \u001b[0;36mParallel.__call__\u001b[0;34m(self, iterable)\u001b[0m\n\u001b[1;32m   1053\u001b[0m     \u001b[39mself\u001b[39m\u001b[39m.\u001b[39m_iterating \u001b[39m=\u001b[39m \u001b[39mFalse\u001b[39;00m\n\u001b[1;32m   1055\u001b[0m \u001b[39mwith\u001b[39;00m \u001b[39mself\u001b[39m\u001b[39m.\u001b[39m_backend\u001b[39m.\u001b[39mretrieval_context():\n\u001b[0;32m-> 1056\u001b[0m     \u001b[39mself\u001b[39;49m\u001b[39m.\u001b[39;49mretrieve()\n\u001b[1;32m   1057\u001b[0m \u001b[39m# Make sure that we get a last message telling us we are done\u001b[39;00m\n\u001b[1;32m   1058\u001b[0m elapsed_time \u001b[39m=\u001b[39m time\u001b[39m.\u001b[39mtime() \u001b[39m-\u001b[39m \u001b[39mself\u001b[39m\u001b[39m.\u001b[39m_start_time\n",
      "File \u001b[0;32m~/anaconda3/envs/oligo/lib/python3.10/site-packages/joblib/parallel.py:935\u001b[0m, in \u001b[0;36mParallel.retrieve\u001b[0;34m(self)\u001b[0m\n\u001b[1;32m    933\u001b[0m \u001b[39mtry\u001b[39;00m:\n\u001b[1;32m    934\u001b[0m     \u001b[39mif\u001b[39;00m \u001b[39mgetattr\u001b[39m(\u001b[39mself\u001b[39m\u001b[39m.\u001b[39m_backend, \u001b[39m'\u001b[39m\u001b[39msupports_timeout\u001b[39m\u001b[39m'\u001b[39m, \u001b[39mFalse\u001b[39;00m):\n\u001b[0;32m--> 935\u001b[0m         \u001b[39mself\u001b[39m\u001b[39m.\u001b[39m_output\u001b[39m.\u001b[39mextend(job\u001b[39m.\u001b[39;49mget(timeout\u001b[39m=\u001b[39;49m\u001b[39mself\u001b[39;49m\u001b[39m.\u001b[39;49mtimeout))\n\u001b[1;32m    936\u001b[0m     \u001b[39melse\u001b[39;00m:\n\u001b[1;32m    937\u001b[0m         \u001b[39mself\u001b[39m\u001b[39m.\u001b[39m_output\u001b[39m.\u001b[39mextend(job\u001b[39m.\u001b[39mget())\n",
      "File \u001b[0;32m~/anaconda3/envs/oligo/lib/python3.10/site-packages/joblib/_parallel_backends.py:542\u001b[0m, in \u001b[0;36mLokyBackend.wrap_future_result\u001b[0;34m(future, timeout)\u001b[0m\n\u001b[1;32m    539\u001b[0m \u001b[39m\"\"\"Wrapper for Future.result to implement the same behaviour as\u001b[39;00m\n\u001b[1;32m    540\u001b[0m \u001b[39mAsyncResults.get from multiprocessing.\"\"\"\u001b[39;00m\n\u001b[1;32m    541\u001b[0m \u001b[39mtry\u001b[39;00m:\n\u001b[0;32m--> 542\u001b[0m     \u001b[39mreturn\u001b[39;00m future\u001b[39m.\u001b[39;49mresult(timeout\u001b[39m=\u001b[39;49mtimeout)\n\u001b[1;32m    543\u001b[0m \u001b[39mexcept\u001b[39;00m CfTimeoutError \u001b[39mas\u001b[39;00m e:\n\u001b[1;32m    544\u001b[0m     \u001b[39mraise\u001b[39;00m \u001b[39mTimeoutError\u001b[39;00m \u001b[39mfrom\u001b[39;00m \u001b[39me\u001b[39;00m\n",
      "File \u001b[0;32m~/anaconda3/envs/oligo/lib/python3.10/concurrent/futures/_base.py:446\u001b[0m, in \u001b[0;36mFuture.result\u001b[0;34m(self, timeout)\u001b[0m\n\u001b[1;32m    444\u001b[0m     \u001b[39mraise\u001b[39;00m CancelledError()\n\u001b[1;32m    445\u001b[0m \u001b[39melif\u001b[39;00m \u001b[39mself\u001b[39m\u001b[39m.\u001b[39m_state \u001b[39m==\u001b[39m FINISHED:\n\u001b[0;32m--> 446\u001b[0m     \u001b[39mreturn\u001b[39;00m \u001b[39mself\u001b[39;49m\u001b[39m.\u001b[39;49m__get_result()\n\u001b[1;32m    447\u001b[0m \u001b[39melse\u001b[39;00m:\n\u001b[1;32m    448\u001b[0m     \u001b[39mraise\u001b[39;00m \u001b[39mTimeoutError\u001b[39;00m()\n",
      "File \u001b[0;32m~/anaconda3/envs/oligo/lib/python3.10/concurrent/futures/_base.py:391\u001b[0m, in \u001b[0;36mFuture.__get_result\u001b[0;34m(self)\u001b[0m\n\u001b[1;32m    389\u001b[0m \u001b[39mif\u001b[39;00m \u001b[39mself\u001b[39m\u001b[39m.\u001b[39m_exception:\n\u001b[1;32m    390\u001b[0m     \u001b[39mtry\u001b[39;00m:\n\u001b[0;32m--> 391\u001b[0m         \u001b[39mraise\u001b[39;00m \u001b[39mself\u001b[39m\u001b[39m.\u001b[39m_exception\n\u001b[1;32m    392\u001b[0m     \u001b[39mfinally\u001b[39;00m:\n\u001b[1;32m    393\u001b[0m         \u001b[39m# Break a reference cycle with the exception in self._exception\u001b[39;00m\n\u001b[1;32m    394\u001b[0m         \u001b[39mself\u001b[39m \u001b[39m=\u001b[39m \u001b[39mNone\u001b[39;00m\n",
      "\u001b[0;31mTypeError\u001b[0m: 'float' object is not iterable"
     ]
    }
   ],
   "source": [
    "bowtie_filter.apply()\n",
    "\n"
   ]
  }
 ],
 "metadata": {
  "kernelspec": {
   "display_name": "Python 3.10.4 ('oligo': conda)",
   "language": "python",
   "name": "python3"
  },
  "language_info": {
   "codemirror_mode": {
    "name": "ipython",
    "version": 3
   },
   "file_extension": ".py",
   "mimetype": "text/x-python",
   "name": "python",
   "nbconvert_exporter": "python",
   "pygments_lexer": "ipython3",
   "version": "3.10.4"
  },
  "orig_nbformat": 4,
  "vscode": {
   "interpreter": {
    "hash": "797cf0fae3aa9496144015db7114399f14bdbbab56900ed16736529315e01dbb"
   }
  }
 },
 "nbformat": 4,
 "nbformat_minor": 2
}
