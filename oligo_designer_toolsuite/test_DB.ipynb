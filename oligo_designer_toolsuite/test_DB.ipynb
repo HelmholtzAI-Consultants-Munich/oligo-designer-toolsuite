{
 "cells": [
  {
   "cell_type": "markdown",
   "metadata": {},
   "source": [
    "# Test DB class"
   ]
  },
  {
   "cell_type": "code",
   "execution_count": 1,
   "metadata": {},
   "outputs": [
    {
     "name": "stdout",
     "output_type": "stream",
     "text": [
      "/home/chels/CRISPR/repos/oligo-designer-toolsuite/output/annotations\n"
     ]
    }
   ],
   "source": [
    "import os\n",
    "\n",
    "os.chdir('../' )\n",
    "cwd = os.getcwd()\n",
    "dir_output  = os.path.join(cwd, 'output/annotations')\n",
    "print(dir_output)\n",
    "\n",
    "from IO._database import NcbiDB, EnsemblDB, CustomDB"
   ]
  },
  {
   "cell_type": "markdown",
   "metadata": {},
   "source": [
    "### Test the NCBI creator\n",
    "\n",
    "Check if the files are dowloaded correclty from the server"
   ]
  },
  {
   "cell_type": "code",
   "execution_count": 2,
   "metadata": {},
   "outputs": [
    {
     "name": "stderr",
     "output_type": "stream",
     "text": [
      "/home/chels/CRISPR/repos/oligo-designer-toolsuite/oligo_designer_toolsuite/IO/_database.py:372: UserWarning: No species defined. Using default species human!\n",
      "  warnings.warn(f\"No species defined. Using default species {species}!\")\n",
      "/home/chels/CRISPR/repos/oligo-designer-toolsuite/oligo_designer_toolsuite/IO/_database.py:376: UserWarning: No annotation release defined. Using default release current!\n",
      "  warnings.warn(\n"
     ]
    }
   ],
   "source": [
    "ncbi = NcbiDB(probe_length_min = 20, probe_length_max=30, dir_output=dir_output, filters = [])"
   ]
  },
  {
   "cell_type": "code",
   "execution_count": 2,
   "metadata": {},
   "outputs": [
    {
     "name": "stderr",
     "output_type": "stream",
     "text": [
      "/home/francesco/Desktop/Work/oligo-designer-toolsuite/oligo_designer_toolsuite/IO/_database.py:707: UserWarning: No species defined. Using default species human!\n",
      "  warnings.warn(f\"No species defined. Using default species {species}!\")\n",
      "/home/francesco/Desktop/Work/oligo-designer-toolsuite/oligo_designer_toolsuite/IO/_database.py:711: UserWarning: No genome assembly defined. Using default assembly GRCh38!\n",
      "  warnings.warn(\n",
      "/home/francesco/Desktop/Work/oligo-designer-toolsuite/oligo_designer_toolsuite/IO/_database.py:717: UserWarning: No annotation release defined. Using default release current!\n",
      "  warnings.warn(\n",
      "/home/francesco/miniconda3/envs/oligo/lib/python3.10/site-packages/gtfparse/read_gtf.py:82: FutureWarning: The error_bad_lines argument has been deprecated and will be removed in a future version. Use on_bad_lines in the future.\n",
      "\n",
      "\n",
      "  chunk_iterator = pd.read_csv(\n",
      "/home/francesco/miniconda3/envs/oligo/lib/python3.10/site-packages/gtfparse/read_gtf.py:82: FutureWarning: The warn_bad_lines argument has been deprecated and will be removed in a future version. Use on_bad_lines in the future.\n",
      "\n",
      "\n",
      "  chunk_iterator = pd.read_csv(\n",
      "INFO:root:Extracted GTF attributes: ['gene_id', 'gene_version', 'gene_name', 'gene_source', 'gene_biotype', 'transcript_id', 'transcript_version', 'transcript_name', 'transcript_source', 'transcript_biotype', 'tag', 'ccds_id', 'transcript_support_level', 'exon_number', 'exon_id', 'exon_version', 'protein_id', 'protein_version']\n"
     ]
    }
   ],
   "source": [
    "ensembl = EnsemblDB(probe_length_min = 20, probe_length_max=30, dir_output=dir_output, filters = [])"
   ]
  },
  {
   "cell_type": "markdown",
   "metadata": {},
   "source": [
    "### Test the creation of DB\n",
    "\n",
    "Load the previously dowloaded files and create the reference and oligo DB"
   ]
  },
  {
   "cell_type": "code",
   "execution_count": 2,
   "metadata": {},
   "outputs": [
    {
     "name": "stderr",
     "output_type": "stream",
     "text": [
      "/home/chels/CRISPR/repos/oligo-designer-toolsuite/oligo_designer_toolsuite/IO/_database.py:55: UserWarning: Species not specified.\n",
      "  warnings.warn(\"Species not specified.\")\n",
      "/home/chels/CRISPR/repos/oligo-designer-toolsuite/oligo_designer_toolsuite/IO/_database.py:59: UserWarning: Genome assembly not specified.\n",
      "  warnings.warn(f\"Genome assembly not specified.\")\n",
      "/home/chels/CRISPR/repos/oligo-designer-toolsuite/oligo_designer_toolsuite/IO/_database.py:63: UserWarning: Annotation release not specified.\n",
      "  warnings.warn(f\"Annotation release not specified.\")\n",
      "/home/chels/CRISPR/repos/oligo-designer-toolsuite/oligo_designer_toolsuite/IO/_database.py:67: UserWarning: Annotation source not specified.\n",
      "  warnings.warn(f\"Annotation source not specified.\")\n"
     ]
    }
   ],
   "source": [
    "annotation = dir_output+'/GCF_000001405.40_GRCh38.p14_genomic.gtf'\n",
    "sequence = dir_output+'/GCF_000001405.40_GRCh38.p14_genomic.fna'\n",
    "custom = CustomDB(probe_length_min = 30, probe_length_max=40, file_annotation=annotation, file_sequence=sequence, filters = [])"
   ]
  },
  {
   "cell_type": "code",
   "execution_count": 5,
   "metadata": {},
   "outputs": [],
   "source": [
    "custom.create_reference_DB(dir_output=dir_output)"
   ]
  },
  {
   "cell_type": "code",
   "execution_count": 3,
   "metadata": {},
   "outputs": [
    {
     "name": "stdout",
     "output_type": "stream",
     "text": [
      "the total number of probes found: 428241\n"
     ]
    }
   ],
   "source": [
    "genes = ['WASH7P', 'DDX11L1', 'TRNT', 'NOC2L', 'PLEKHN1', 'AGRN','UBE2J2', 'DVL1', 'MIB2', 'LOC112268402_1' ]\n",
    "custom.create_oligos_DB(genes = genes, number_batchs = 2, dir_output=dir_output)"
   ]
  },
  {
   "cell_type": "markdown",
   "metadata": {},
   "source": [
    "### Test reading an oligos_DB"
   ]
  },
  {
   "cell_type": "code",
   "execution_count": 4,
   "metadata": {},
   "outputs": [],
   "source": [
    "custom.read_oligos_DB(dir_output + '/oligo_DB_unknown_unknown_Custom_release_unknown_gene_transcript')"
   ]
  },
  {
   "cell_type": "code",
   "execution_count": 5,
   "metadata": {},
   "outputs": [
    {
     "name": "stdout",
     "output_type": "stream",
     "text": [
      "list of all the genes in the DB:\n",
      "dict_keys(['WASH7P', 'DDX11L1', 'TRNT', 'NOC2L', 'PLEKHN1', 'AGRN', 'UBE2J2', 'DVL1', 'MIB2', 'LOC112268402_1'])\n",
      "Features of the first probe of the DB:\n",
      "{'transcript_id': ['XM_047444339.1:XM_047444356.1:XM_047444358.1'], 'exon_id': ['XM_047444339.1_exon3_XM_047444339.1_exon2:XM_047444356.1_exon3_XM_047444356.1_exon2:XM_047444358.1_exon3_XM_047444358.1_exon2'], 'chromosome': '1', 'start': ['1262371'], 'end': ['1262401'], 'strand': '-'}\n"
     ]
    }
   ],
   "source": [
    "print(\"list of all the genes in the DB:\")\n",
    "print(custom.oligos_DB.keys())\n",
    "gene = list(custom.oligos_DB.keys())[6]\n",
    "probe = list(custom.oligos_DB[gene].keys())[20]\n",
    "print(\"Features of the first probe of the DB:\")\n",
    "print(custom.oligos_DB[gene][probe])"
   ]
  }
 ],
 "metadata": {
  "kernelspec": {
   "display_name": "Python 3.10.4 ('oligo': conda)",
   "language": "python",
   "name": "python3"
  },
  "language_info": {
   "codemirror_mode": {
    "name": "ipython",
    "version": 3
   },
   "file_extension": ".py",
   "mimetype": "text/x-python",
   "name": "python",
   "nbconvert_exporter": "python",
   "pygments_lexer": "ipython3",
   "version": "3.10.4"
  },
  "orig_nbformat": 4,
  "vscode": {
   "interpreter": {
    "hash": "797cf0fae3aa9496144015db7114399f14bdbbab56900ed16736529315e01dbb"
   }
  }
 },
 "nbformat": 4,
 "nbformat_minor": 2
}
