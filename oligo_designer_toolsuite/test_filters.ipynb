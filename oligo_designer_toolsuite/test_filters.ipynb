{
 "cells": [
  {
   "cell_type": "markdown",
   "metadata": {},
   "source": [
    "# Test Filters"
   ]
  },
  {
   "cell_type": "code",
   "execution_count": 1,
   "metadata": {},
   "outputs": [
    {
     "name": "stdout",
     "output_type": "stream",
     "text": [
      "/home/francesco/Desktop/Work/oligo-designer-toolsuite\n",
      "/home/francesco/Desktop/Work/oligo-designer-toolsuite/output/annotations\n"
     ]
    }
   ],
   "source": [
    "import os\n",
    "import time\n",
    "from Bio.SeqUtils import MeltingTemp as mt\n",
    "\n",
    "os.chdir('../' )\n",
    "cwd = os.getcwd()\n",
    "print(cwd)\n",
    "\n",
    "from IO._database import NcbiDB, EnsemblDB, CustomDB\n",
    "from oligo_pre_filter._filter_base import MaskedSequences, GCContent, MeltingTemperature\n",
    "from oligo_pre_filter._filter_padlock_probes import PadlockArms\n",
    "\n",
    "dir_output  = os.path.join(cwd, 'output/annotations')\n",
    "print(dir_output)"
   ]
  },
  {
   "cell_type": "markdown",
   "metadata": {},
   "source": [
    "Create a new Oligo_DB using the filters"
   ]
  },
  {
   "cell_type": "code",
   "execution_count": 2,
   "metadata": {},
   "outputs": [
    {
     "name": "stderr",
     "output_type": "stream",
     "text": [
      "/home/francesco/Desktop/Work/oligo-designer-toolsuite/oligo_designer_toolsuite/IO/_database.py:55: UserWarning: Species not specified.\n",
      "  warnings.warn(\"Species not specified.\")\n",
      "/home/francesco/Desktop/Work/oligo-designer-toolsuite/oligo_designer_toolsuite/IO/_database.py:59: UserWarning: Genome assembly not specified.\n",
      "  warnings.warn(f\"Genome assembly not specified.\")\n",
      "/home/francesco/Desktop/Work/oligo-designer-toolsuite/oligo_designer_toolsuite/IO/_database.py:63: UserWarning: Annotation release not specified.\n",
      "  warnings.warn(f\"Annotation release not specified.\")\n",
      "/home/francesco/Desktop/Work/oligo-designer-toolsuite/oligo_designer_toolsuite/IO/_database.py:67: UserWarning: Annotation source not specified.\n",
      "  warnings.warn(f\"Annotation source not specified.\")\n",
      "/home/francesco/miniconda3/envs/oligo/lib/python3.10/site-packages/gtfparse/read_gtf.py:82: FutureWarning: The error_bad_lines argument has been deprecated and will be removed in a future version. Use on_bad_lines in the future.\n",
      "\n",
      "\n",
      "  chunk_iterator = pd.read_csv(\n",
      "/home/francesco/miniconda3/envs/oligo/lib/python3.10/site-packages/gtfparse/read_gtf.py:82: FutureWarning: The warn_bad_lines argument has been deprecated and will be removed in a future version. Use on_bad_lines in the future.\n",
      "\n",
      "\n",
      "  chunk_iterator = pd.read_csv(\n",
      "INFO:root:Extracted GTF attributes: ['gene_id', 'transcript_id', 'db_xref', 'description', 'gbkey', 'gene', 'gene_biotype', 'pseudo', 'product', 'transcript_biotype', 'exon_number', 'gene_synonym', 'model_evidence', 'tag', 'protein_id', 'experiment', 'inference', 'note', 'part', 'exception', 'isoform', 'anticodon', 'partial', 'The', 'transl_except', 'non-AUG', 'standard_name', 'source', 'similar', 'substituted', 'transferase', 'deleted', 'codons', '12S', '16S', 'transl_table', 'ATPase']\n"
     ]
    },
    {
     "name": "stdout",
     "output_type": "stream",
     "text": [
      "the total number of probes found: 105655\n",
      "the total number of probes found: 322586\n",
      "the total number of probes found: 6367\n",
      " Creating and filtering at the same time: --- 161.3660180568695 seconds ---\n"
     ]
    }
   ],
   "source": [
    "Tm_parameters = {\n",
    "        'check': True,\n",
    "        'strict': True,\n",
    "        'c_seq': None,\n",
    "        'shift': 0,\n",
    "        'nn_table': getattr(mt,'DNA_NN3'),\n",
    "        'tmm_table': getattr(mt,'DNA_TMM1'),\n",
    "        'imm_table': getattr(mt,'DNA_IMM1'),\n",
    "        'de_table': getattr(mt, 'DNA_DE1'),\n",
    "        'dnac1': 50, #[nM]\n",
    "        'dnac2': 0,\n",
    "        'selfcomp': False,\n",
    "        'dNTPs': 0,\n",
    "        'saltcorr': 7,\n",
    "        'Na': 1.25, #[mM]\n",
    "        'K': 75, #[mM]\n",
    "        'Tris': 20, #[mM]\n",
    "        'Mg': 10, #[mM] \n",
    "        }\n",
    "Tm_correction_parameters = {\n",
    "        'DMSO': 0,\n",
    "        'DMSOfactor': 0.75,\n",
    "        'fmdfactor': 0.65,\n",
    "        'fmdmethod': 1,\n",
    "        'GC': None,\n",
    "        'fmd': 20}\n",
    "annotation = dir_output+'/GCF_000001405.40_GRCh38.p14_genomic.gtf'\n",
    "sequence = dir_output+'/GCF_000001405.40_GRCh38.p14_genomic.fna'\n",
    "genes = ['WASH7P', 'DDX11L1', 'TRNT', 'NOC2L', 'PLEKHN1', 'AGRN','UBE2J2', 'DVL1', 'MIB2', 'LOC112268402_1' ]\n",
    "\n",
    "masked_sequences = MaskedSequences()\n",
    "GC_content = GCContent(GC_content_min = 40, GC_content_max = 60)\n",
    "melting_temperature = MeltingTemperature(Tm_min = 52, Tm_max= 67, Tm_parameters = Tm_parameters, Tm_correction_parameters = Tm_correction_parameters)\n",
    "arms_tm = PadlockArms(min_arm_length=10,max_Tm_dif=2,Tm_min=40,Tm_max=43, Tm_parameters = Tm_parameters, Tm_correction_parameters = Tm_correction_parameters)\n",
    "\n",
    "filters = [masked_sequences, GC_content, melting_temperature, arms_tm]\n",
    "custom = CustomDB(probe_length_min = 30, probe_length_max=40, file_annotation=annotation, file_sequence=sequence, filters=filters)\n",
    "\n",
    "start_time = time.time()\n",
    "custom.create_oligos_DB(genes = genes, number_batchs = 2, dir_output=dir_output, write = True)\n",
    "print(\" Creating and filtering at the same time: --- %s seconds ---\" % (time.time() - start_time))"
   ]
  },
  {
   "cell_type": "code",
   "execution_count": 3,
   "metadata": {},
   "outputs": [
    {
     "name": "stdout",
     "output_type": "stream",
     "text": [
      "dict_keys(['WASH7P', 'DDX11L1', 'TRNT', 'NOC2L', 'PLEKHN1', 'AGRN', 'UBE2J2', 'DVL1', 'MIB2', 'LOC112268402_1'])\n",
      "{'transcript_id': ['NR_024540.1'], 'exon_id': ['NR_024540.1_exon2'], 'chromosome': '1', 'start': [24848], 'end': [24878], 'strand': '-', 'GC_content': 60.0, 'melt_temp': 62.22, 'melt_temp_rm1': 42.84, 'melt_temp_arm2': 42.99, 'dif_melt_temp_arms': 0.15, 'ligation_site': 14}\n"
     ]
    }
   ],
   "source": [
    "# analyze the oligos DB\n",
    "print(custom.oligos_DB.keys())\n",
    "gene = list(custom.oligos_DB.keys())[0]\n",
    "seq = list(custom.oligos_DB[gene].keys())[0]\n",
    "print(custom.oligos_DB[gene][seq])\n"
   ]
  }
 ],
 "metadata": {
  "kernelspec": {
   "display_name": "Python 3.10.4 ('oligo')",
   "language": "python",
   "name": "python3"
  },
  "language_info": {
   "codemirror_mode": {
    "name": "ipython",
    "version": 3
   },
   "file_extension": ".py",
   "mimetype": "text/x-python",
   "name": "python",
   "nbconvert_exporter": "python",
   "pygments_lexer": "ipython3",
   "version": "3.10.4"
  },
  "orig_nbformat": 4,
  "vscode": {
   "interpreter": {
    "hash": "7ff94d65164c54a2126c7dc0869520902e3a005d5dddb9f8c3667ad0fd9373c9"
   }
  }
 },
 "nbformat": 4,
 "nbformat_minor": 2
}
