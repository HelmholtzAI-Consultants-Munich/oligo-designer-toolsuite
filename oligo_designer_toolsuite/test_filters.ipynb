{
 "cells": [
  {
   "cell_type": "markdown",
   "metadata": {},
   "source": [
    "# Test Filters"
   ]
  },
  {
   "cell_type": "code",
   "execution_count": 1,
   "metadata": {},
   "outputs": [
    {
     "name": "stdout",
     "output_type": "stream",
     "text": [
      "/home/chels/CRISPR/repos/oligo-designer-toolsuite\n",
      "/home/chels/CRISPR/repos/oligo-designer-toolsuite/output/annotations\n"
     ]
    }
   ],
   "source": [
    "import os\n",
    "import time\n",
    "from Bio.SeqUtils import MeltingTemp as mt\n",
    "\n",
    "os.chdir('../' )\n",
    "cwd = os.getcwd()\n",
    "print(cwd)\n",
    "\n",
    "from IO._database import NcbiDB, EnsemblDB, CustomDB\n",
    "from oligo_pre_filter._filter_base import MaskedSequences, GCContent, MeltingTemperature\n",
    "from oligo_pre_filter._filter_padlock_probes import PadlockArms\n",
    "\n",
    "dir_output  = os.path.join(cwd, 'output/annotations')\n",
    "print(dir_output)"
   ]
  },
  {
   "cell_type": "markdown",
   "metadata": {},
   "source": [
    "Get list of genes"
   ]
  },
  {
   "cell_type": "code",
   "execution_count": 2,
   "metadata": {},
   "outputs": [],
   "source": [
    "from oligo_designer_toolsuite.IO._data_parser import read_gtf\n",
    "\n",
    "gtf= cwd + \"/output/annotations/GCF_000001405.40_GRCh38.p14_genomic.gtf\"\n",
    "\n",
    "df=read_gtf(gtf)"
   ]
  },
  {
   "cell_type": "code",
   "execution_count": 3,
   "metadata": {},
   "outputs": [],
   "source": [
    "genes=df[\"gene_id\"].unique().tolist()[:10]"
   ]
  },
  {
   "cell_type": "markdown",
   "metadata": {},
   "source": [
    "Create a new Oligo_DB using the filters"
   ]
  },
  {
   "cell_type": "code",
   "execution_count": 4,
   "metadata": {},
   "outputs": [
    {
     "name": "stderr",
     "output_type": "stream",
     "text": [
      "/home/chels/CRISPR/repos/oligo-designer-toolsuite/oligo_designer_toolsuite/IO/_database.py:55: UserWarning: Species not specified.\n",
      "  warnings.warn(\"Species not specified.\")\n",
      "/home/chels/CRISPR/repos/oligo-designer-toolsuite/oligo_designer_toolsuite/IO/_database.py:59: UserWarning: Genome assembly not specified.\n",
      "  warnings.warn(f\"Genome assembly not specified.\")\n",
      "/home/chels/CRISPR/repos/oligo-designer-toolsuite/oligo_designer_toolsuite/IO/_database.py:63: UserWarning: Annotation release not specified.\n",
      "  warnings.warn(f\"Annotation release not specified.\")\n",
      "/home/chels/CRISPR/repos/oligo-designer-toolsuite/oligo_designer_toolsuite/IO/_database.py:67: UserWarning: Annotation source not specified.\n",
      "  warnings.warn(f\"Annotation source not specified.\")\n"
     ]
    },
    {
     "name": "stdout",
     "output_type": "stream",
     "text": [
      "the total number of probes found: 6367\n",
      " Creating and filtering the probes: --- 472.6519136428833 seconds ---\n"
     ]
    }
   ],
   "source": [
    "Tm_parameters = {\n",
    "        'check': True,\n",
    "        'strict': True,\n",
    "        'c_seq': None,\n",
    "        'shift': 0,\n",
    "        'nn_table': getattr(mt,'DNA_NN3'),\n",
    "        'tmm_table': getattr(mt,'DNA_TMM1'),\n",
    "        'imm_table': getattr(mt,'DNA_IMM1'),\n",
    "        'de_table': getattr(mt, 'DNA_DE1'),\n",
    "        'dnac1': 50, #[nM]\n",
    "        'dnac2': 0,\n",
    "        'selfcomp': False,\n",
    "        'dNTPs': 0,\n",
    "        'saltcorr': 7,\n",
    "        'Na': 1.25, #[mM]\n",
    "        'K': 75, #[mM]\n",
    "        'Tris': 20, #[mM]\n",
    "        'Mg': 10, #[mM] \n",
    "        }\n",
    "Tm_correction_parameters = {\n",
    "        'DMSO': 0,\n",
    "        'DMSOfactor': 0.75,\n",
    "        'fmdfactor': 0.65,\n",
    "        'fmdmethod': 1,\n",
    "        'GC': None,\n",
    "        'fmd': 20}\n",
    "annotation = dir_output+'/GCF_000001405.40_GRCh38.p14_genomic.gtf'\n",
    "sequence = dir_output+'/GCF_000001405.40_GRCh38.p14_genomic.fna'\n",
    "genes = ['WASH7P', 'DDX11L1', 'TRNT', 'NOC2L', 'PLEKHN1', 'AGRN','UBE2J2', 'DVL1', 'MIB2', 'LOC112268402_1' ]\n",
    "\n",
    "masked_sequences = MaskedSequences()\n",
    "GC_content = GCContent(GC_content_min = 40, GC_content_max = 60)\n",
    "melting_temperature = MeltingTemperature(Tm_min = 52, Tm_max= 67, Tm_parameters = Tm_parameters, Tm_correction_parameters = Tm_correction_parameters)\n",
    "arms_tm = PadlockArms(min_arm_length=10,max_Tm_dif=2,Tm_min=40,Tm_max=43, Tm_parameters = Tm_parameters, Tm_correction_parameters = Tm_correction_parameters)\n",
    "\n",
    "filters = [masked_sequences, GC_content, melting_temperature, arms_tm]\n",
    "custom = CustomDB(probe_length_min = 30, probe_length_max=40, file_annotation=annotation, file_sequence=sequence, filters=filters)\n",
    "\n",
    "start_time = time.time()\n",
    "custom.create_oligos_DB(genes = genes, number_batchs = 1, dir_output=dir_output, write = True)\n",
    "print(\" Creating and filtering the probes: --- %s seconds ---\" % (time.time() - start_time))"
   ]
  },
  {
   "cell_type": "code",
   "execution_count": 5,
   "metadata": {},
   "outputs": [
    {
     "name": "stdout",
     "output_type": "stream",
     "text": [
      "dict_keys(['DDX11L1', 'WASH7P', 'MIR6859-1', 'MIR1302-2HG', 'MIR1302-2', 'FAM138A', 'OR4G4P', 'OR4G11P', 'OR4F5', 'LOC124903816', 'LOC124900384', 'SEPTIN14P18', 'CICP27', 'LOC729737', 'RNU6-1100P', 'GTF2IP10', 'LOC124903814', 'DDX11L17', 'LOC100996442', 'RPL23AP21', 'LOC124903815', 'RPL23AP24', 'LOC124900618', 'LOC112268260', 'WBP1LP7', 'OR4F29', 'SEPTIN14P13', 'CICP7', 'LOC100132287', 'LOC124904706', 'LOC105378947', 'LOC101928626', 'MTND1P23', 'MTND2P28', 'MTCO1P12', 'MIR12136', 'MTCO2P12', 'MTATP8P1', 'MTATP6P1', 'MTCO3P12', 'WBP1LP6', 'OR4F16', 'SEPTIN14P14', 'CICP3', 'LOC100288069', 'RNU6-1199P', 'LINC01409', 'LOC124903817', 'FAM87B', 'LINC00115', 'LINC01128', 'LOC107984850', 'FAM41C', 'TUBB8P11', 'LOC284600', 'LINC02593', 'LOC107985728', 'SAMD11', 'NOC2L', 'KLHL17', 'PLEKHN1'])\n",
      "{'transcript_id': ['NR_046018.2'], 'exon_id': ['NR_046018.2_exon1'], 'chromosome': '1', 'start': [11873], 'end': [11903], 'strand': '+', 'GC_content': 50.0, 'melt_temp': 58.95, 'melt_temp_arm1': 40.2, 'melt_temp_arm2': 40.76, 'dif_melt_temp_arms': 0.56, 'ligation_site': 12}\n"
     ]
    }
   ],
   "source": [
    "# analyze the oligos DB\n",
    "print(custom.oligos_DB.keys())\n",
    "gene = list(custom.oligos_DB.keys())[0]\n",
    "seq = list(custom.oligos_DB[gene].keys())[0]\n",
    "print(custom.oligos_DB[gene][seq])\n"
   ]
  }
 ],
 "metadata": {
  "kernelspec": {
   "display_name": "Python 3.10.4 ('oligo': conda)",
   "language": "python",
   "name": "python3"
  },
  "language_info": {
   "codemirror_mode": {
    "name": "ipython",
    "version": 3
   },
   "file_extension": ".py",
   "mimetype": "text/x-python",
   "name": "python",
   "nbconvert_exporter": "python",
   "pygments_lexer": "ipython3",
   "version": "3.10.4"
  },
  "orig_nbformat": 4,
  "vscode": {
   "interpreter": {
    "hash": "797cf0fae3aa9496144015db7114399f14bdbbab56900ed16736529315e01dbb"
   }
  }
 },
 "nbformat": 4,
 "nbformat_minor": 2
}
