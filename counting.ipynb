{
 "cells": [
  {
   "cell_type": "code",
   "execution_count": 1,
   "source": [
    "from Bio import SeqIO\n",
    "from Bio.SeqUtils import GC\n",
    "from Bio.SeqUtils import MeltingTemp as mt"
   ],
   "outputs": [],
   "metadata": {}
  },
  {
   "cell_type": "code",
   "execution_count": 2,
   "source": [
    "file_exon_sequence = './data/Homo_sapiens.GRCh38.104.exons.fa'"
   ],
   "outputs": [],
   "metadata": {}
  },
  {
   "cell_type": "code",
   "execution_count": 3,
   "source": [
    "GC_content_min = 40\n",
    "GC_content_max = 60\n",
    "Tm_min = 68\n",
    "Tm_max = 75\n",
    "probe_length = 45"
   ],
   "outputs": [],
   "metadata": {}
  },
  {
   "cell_type": "code",
   "execution_count": 4,
   "source": [
    "GC_content_min = float(GC_content_min)\n",
    "GC_content_max = float(GC_content_max)\n",
    "Tm_min = float(Tm_min)\n",
    "Tm_max = float(Tm_max)"
   ],
   "outputs": [],
   "metadata": {}
  },
  {
   "cell_type": "code",
   "execution_count": 5,
   "source": [
    "number_exons = 0\n",
    "number_probes = 0\n",
    "number_probes_pass_N_filter = 0\n",
    "\n",
    "\n",
    "for exon in SeqIO.parse(file_exon_sequence, \"fasta\"):\n",
    "    number_exons += 1\n",
    "    if len(exon.seq) > probe_length:\n",
    "        for i in range(0, len(exon.seq)-(probe_length-1), 1):\n",
    "            number_probes += 1\n",
    "            probe = exon.seq[i:i+probe_length]\n",
    "            if not 'N' in probe:\n",
    "                number_probes_pass_N_filter +=1\n",
    "\n",
    "\n",
    "print('exons: {}'.format(number_exons))\n",
    "print('probes: {}'.format(number_probes))\n",
    "print('filtered by N filter: {}'.format(number_probes - number_probes_pass_N_filter))"
   ],
   "outputs": [
    {
     "output_type": "stream",
     "name": "stdout",
     "text": [
      "exons: 1498409\n",
      "probes: 329527407\n",
      "filtered by N filter: 65982991\n"
     ]
    }
   ],
   "metadata": {}
  },
  {
   "cell_type": "code",
   "execution_count": 6,
   "source": [
    "number_exons = 0\n",
    "number_probes = 0\n",
    "number_probes_pass_GC_filter = 0\n",
    "\n",
    "\n",
    "for exon in SeqIO.parse(file_exon_sequence, \"fasta\"):\n",
    "    number_exons += 1\n",
    "    if len(exon.seq) > probe_length:\n",
    "        for i in range(0, len(exon.seq)-(probe_length-1), 1):\n",
    "            number_probes += 1\n",
    "            probe = exon.seq[i:i+probe_length]\n",
    "            gc_content = GC(probe)\n",
    "            if (gc_content > GC_content_min) & (gc_content < GC_content_max):\n",
    "                number_probes_pass_GC_filter += 1\n",
    "                    \n",
    "\n",
    "print('exons: {}'.format(number_exons))\n",
    "print('probes: {}'.format(number_probes))\n",
    "print('filtered by GC filter: {}'.format(number_probes - number_probes_pass_GC_filter))"
   ],
   "outputs": [],
   "metadata": {}
  },
  {
   "cell_type": "code",
   "execution_count": null,
   "source": [
    "number_exons = 0\n",
    "number_probes = 0\n",
    "number_probes_pass_Tm_filter = 0\n",
    "\n",
    "\n",
    "for exon in SeqIO.parse(file_exon_sequence, \"fasta\"):\n",
    "    number_exons += 1\n",
    "    if len(exon.seq) > probe_length:\n",
    "        for i in range(0, len(exon.seq)-(probe_length-1), 1):\n",
    "            number_probes += 1\n",
    "            probe = exon.seq[i:i+probe_length]\n",
    "            if not probe == 'N'*45:\n",
    "                Tm = mt.Tm_NN(probe)\n",
    "                if (Tm > Tm_min) & (Tm < Tm_max):\n",
    "                    number_probes_pass_Tm_filter += 1\n",
    "\n",
    "print('exons: {}'.format(number_exons))\n",
    "print('probes: {}'.format(number_probes))\n",
    "print('filtered by Tm filter: {}'.format(number_probes - number_probes_pass_Tm_filter))"
   ],
   "outputs": [],
   "metadata": {}
  }
 ],
 "metadata": {
  "orig_nbformat": 4,
  "language_info": {
   "name": "python",
   "version": "3.8.11",
   "mimetype": "text/x-python",
   "codemirror_mode": {
    "name": "ipython",
    "version": 3
   },
   "pygments_lexer": "ipython3",
   "nbconvert_exporter": "python",
   "file_extension": ".py"
  },
  "kernelspec": {
   "name": "python3",
   "display_name": "Python 3.8.11 64-bit ('probe_design': conda)"
  },
  "interpreter": {
   "hash": "e702497fe34a953bc64f7695730fc8355b217a72fe7b6a6d2ceab38232512391"
  }
 },
 "nbformat": 4,
 "nbformat_minor": 2
}