{
 "cells": [
  {
   "cell_type": "markdown",
   "metadata": {},
   "source": [
    "## Get Exome"
   ]
  },
  {
   "cell_type": "code",
   "execution_count": 1,
   "metadata": {},
   "outputs": [],
   "source": [
    "import pybedtools\n",
    "from gtfparse import read_gtf\n",
    "from ftplib import FTP"
   ]
  },
  {
   "cell_type": "code",
   "execution_count": 2,
   "metadata": {},
   "outputs": [],
   "source": [
    "#file_genome_sequence = './data/Homo_sapiens.GRCh38.104.dna_rm.primary_assembly.fa'\n",
    "#file_gene_annotation = './data/Homo_sapiens.GRCh38.104.gtf'"
   ]
  },
  {
   "cell_type": "code",
   "execution_count": 2,
   "metadata": {},
   "outputs": [],
   "source": [
    "def download_genome_fasta(dir_data, release='104'):\n",
    "    ftp = FTP('ftp.ensembl.org')\n",
    "    ftp.login() \n",
    "\n",
    "    # move to genome directory\n",
    "    directory = 'pub/release-{}/fasta/homo_sapiens/dna'.format(release)\n",
    "    ftp.cwd(directory)\n",
    "\n",
    "    allfiles = ftp.nlst()\n",
    "\n",
    "    for file in allfiles:\n",
    "        if 'dna_rm.primary_assembly' in file:\n",
    "            file_genome_sequence = file\n",
    "            ftp.retrbinary('RETR ' + file, open(os.path.join(dir_data, file), 'wb').write)\n",
    "            print(file_genome_sequence)\n",
    "\n",
    "    ftp.quit()\n",
    "\n",
    "    return dir_data+file_genome_sequence"
   ]
  },
  {
   "cell_type": "code",
   "execution_count": 3,
   "metadata": {},
   "outputs": [],
   "source": [
    "def download_gene_gtf(dir_data, release='104'):\n",
    "    ftp = FTP('ftp.ensembl.org')\n",
    "    ftp.login() \n",
    "\n",
    "    # move to annotation directory\n",
    "    directory = 'pub/release-{}/gtf/homo_sapiens/'.format(release)\n",
    "    ftp.cwd(directory)\n",
    "\n",
    "    allfiles = ftp.nlst()\n",
    "\n",
    "    for file in allfiles:\n",
    "        if '{}.gtf.gz'.format(release) in file:\n",
    "            file_gene_annotation = file\n",
    "            ftp.retrbinary('RETR ' + file, open(os.path.join(dir_data, file), 'wb').write)\n",
    "            print(file_gene_annotation)\n",
    "\n",
    "    ftp.quit()\n",
    "\n",
    "    return dir_data+file_gene_annotation\n"
   ]
  },
  {
   "cell_type": "code",
   "execution_count": 4,
   "metadata": {},
   "outputs": [],
   "source": [
    "def get_exons_annotation(file_gene_annotation):\n",
    "\n",
    "    file_exon_annotation = '{}.exons.gtf'.format(file_gene_annotation.split('.gtf')[0])\n",
    "    \n",
    "    # extract exons from gene annotation file\n",
    "    gene_annotation = read_gtf(file_gene_annotation)\n",
    "    \n",
    "    exon_annotation = gene_annotation[gene_annotation[\"feature\"] == \"exon\"]\n",
    "    #exon_annotation = exon_annotation[exon_annotation[\"transcript_biotype\"] == \"protein_coding\"]\n",
    "    exon_annotation[['seqname','source','exon_id','start','end','score','strand','frame','gene_id']].to_csv(file_exon_annotation, sep='\\t', header=False, index = False)\n",
    "    \n",
    "    return file_exon_annotation"
   ]
  },
  {
   "cell_type": "code",
   "execution_count": 5,
   "metadata": {},
   "outputs": [],
   "source": [
    "def get_exons_fasta(file_exon_annotation, file_genome_sequence):\n",
    "    \n",
    "    file_exon_sequence = '{}.fa'.format(file_exon_annotation.split('.gtf')[0])\n",
    "    \n",
    "    # get sequence for exons\n",
    "    exon_annotation = pybedtools.BedTool(file_exon_annotation)\n",
    "    genome_sequence = pybedtools.BedTool(file_genome_sequence)\n",
    "\n",
    "    exon_annotation = exon_annotation.sequence(fi=genome_sequence, s=True, name=True)\n",
    "    exon_annotation.save_seqs(file_exon_sequence)\n",
    "    \n",
    "    return file_exon_sequence"
   ]
  },
  {
   "cell_type": "code",
   "execution_count": 10,
   "metadata": {},
   "outputs": [
    {
     "name": "stdout",
     "output_type": "stream",
     "text": [
      "Homo_sapiens.GRCh38.dna_rm.primary_assembly.fa.gz\n"
     ]
    },
    {
     "data": {
      "text/plain": [
       "'./data/Homo_sapiens.GRCh38.dna_rm.primary_assembly.fa'"
      ]
     },
     "execution_count": 10,
     "metadata": {},
     "output_type": "execute_result"
    }
   ],
   "source": [
    "file_genome_sequence = download_genome_fasta('./data/')\n",
    "cmd = \"gunzip {}\".format(file_genome_sequence)\n",
    "os.system(cmd)\n",
    "file_genome_sequence = file_genome_sequence.split('.gz')[0]\n",
    "file_genome_sequence"
   ]
  },
  {
   "cell_type": "code",
   "execution_count": 11,
   "metadata": {},
   "outputs": [
    {
     "name": "stdout",
     "output_type": "stream",
     "text": [
      "Homo_sapiens.GRCh38.104.gtf.gz\n"
     ]
    },
    {
     "data": {
      "text/plain": [
       "'./data/Homo_sapiens.GRCh38.104.gtf'"
      ]
     },
     "execution_count": 11,
     "metadata": {},
     "output_type": "execute_result"
    }
   ],
   "source": [
    "file_gene_annotation = download_gene_gtf('./data/')\n",
    "cmd = \"gunzip {}\".format(file_gene_annotation)\n",
    "os.system(cmd)\n",
    "file_gene_annotation = file_gene_annotation.split('.gz')[0]\n",
    "file_gene_annotation"
   ]
  },
  {
   "cell_type": "code",
   "execution_count": 12,
   "metadata": {},
   "outputs": [
    {
     "name": "stderr",
     "output_type": "stream",
     "text": [
      "INFO:root:Extracted GTF attributes: ['gene_id', 'gene_version', 'gene_name', 'gene_source', 'gene_biotype', 'transcript_id', 'transcript_version', 'transcript_name', 'transcript_source', 'transcript_biotype', 'tag', 'ccds_id', 'transcript_support_level', 'exon_number', 'exon_id', 'exon_version', 'protein_id', 'protein_version']\n"
     ]
    }
   ],
   "source": [
    "# get exon annotation\n",
    "file_exon_annotation = get_exons_annotation(file_gene_annotation)"
   ]
  },
  {
   "cell_type": "code",
   "execution_count": 13,
   "metadata": {},
   "outputs": [
    {
     "name": "stderr",
     "output_type": "stream",
     "text": [
      "index file ./data/Homo_sapiens.GRCh38.dna_rm.primary_assembly.fa.fai not found, generating...\n"
     ]
    }
   ],
   "source": [
    "# get exon sequences\n",
    "file_exon_sequence = get_exons_fasta(file_exon_annotation, file_genome_sequence)"
   ]
  },
  {
   "cell_type": "markdown",
   "metadata": {},
   "source": [
    "## Get potential probes"
   ]
  },
  {
   "cell_type": "code",
   "execution_count": 1,
   "metadata": {},
   "outputs": [],
   "source": [
    "import os\n",
    "import copy\n",
    "import pickle\n",
    "import pandas as pd\n",
    "\n",
    "from gtfparse import read_gtf\n",
    "import Levenshtein as Lev\n",
    "from Bio import SeqIO\n",
    "from Bio.SeqUtils import GC\n",
    "from Bio.SeqUtils import MeltingTemp as mt"
   ]
  },
  {
   "cell_type": "code",
   "execution_count": 2,
   "metadata": {},
   "outputs": [],
   "source": [
    "file_exon_sequence = './data/Homo_sapiens.GRCh38.104.exons.fa'\n",
    "file_gene_annotation = './data/Homo_sapiens.GRCh38.104.gtf'"
   ]
  },
  {
   "cell_type": "code",
   "execution_count": 3,
   "metadata": {},
   "outputs": [],
   "source": [
    "GC_content_min = 40\n",
    "GC_content_max = 60\n",
    "Tm_min = 68\n",
    "Tm_max = 75\n",
    "probe_length = 45\n",
    "min_probes_per_gene = 4"
   ]
  },
  {
   "cell_type": "code",
   "execution_count": 4,
   "metadata": {},
   "outputs": [],
   "source": [
    "GC_content_min = float(GC_content_min)\n",
    "GC_content_max = float(GC_content_max)\n",
    "Tm_min = float(Tm_min)\n",
    "Tm_max = float(Tm_max)"
   ]
  },
  {
   "cell_type": "code",
   "execution_count": 18,
   "metadata": {},
   "outputs": [
    {
     "name": "stderr",
     "output_type": "stream",
     "text": [
      "INFO:root:Extracted GTF attributes: ['gene_id', 'gene_version', 'gene_name', 'gene_source', 'gene_biotype', 'transcript_id', 'transcript_version', 'transcript_name', 'transcript_source', 'transcript_biotype', 'tag', 'ccds_id', 'transcript_support_level', 'exon_number', 'exon_id', 'exon_version', 'protein_id', 'protein_version']\n"
     ]
    }
   ],
   "source": [
    "gene_annotation = read_gtf(file_gene_annotation)\n",
    "exon_annotation = gene_annotation[gene_annotation[\"feature\"] == \"exon\"]\n",
    "\n",
    "mapping_exon_to_gene = pd.Series(exon_annotation.gene_id.values,index=exon_annotation.exon_id).to_dict()\n",
    "mapping_gene_to_exon = pd.Series(exon_annotation.exon_id.values,index=exon_annotation.gene_id).to_dict()\n",
    "\n",
    "pickle.dump(mapping_exon_to_gene, open('./data/mapping_exon_to_gene.pkl','wb'))\n",
    "pickle.dump(mapping_gene_to_exon, open('./data/mapping_gene_to_exon.pkl','wb'))\n"
   ]
  },
  {
   "cell_type": "code",
   "execution_count": 5,
   "metadata": {},
   "outputs": [],
   "source": [
    "mapping_exon_to_gene = pickle.load(open('./data/mapping_exon_to_gene.pkl','rb'))\n",
    "mapping_gene_to_exon = pickle.load(open('./data/mapping_gene_to_exon.pkl','rb'))"
   ]
  },
  {
   "cell_type": "code",
   "execution_count": 59,
   "metadata": {},
   "outputs": [
    {
     "name": "stdout",
     "output_type": "stream",
     "text": [
      "100000\n",
      "200000\n",
      "300000\n",
      "400000\n",
      "500000\n",
      "600000\n",
      "700000\n",
      "800000\n",
      "900000\n",
      "1000000\n",
      "1100000\n",
      "1200000\n",
      "1300000\n",
      "1400000\n"
     ]
    }
   ],
   "source": [
    "number_exons = 0\n",
    "number_probes = 0\n",
    "\n",
    "mapping_gene_to_probes = {}\n",
    "\n",
    "\n",
    "for exon in SeqIO.parse(file_exon_sequence, \"fasta\"):\n",
    "\n",
    "    number_exons += 1\n",
    "    exon_id = exon.id.split('::')[0]\n",
    "    gene_id = mapping_exon_to_gene[exon_id]\n",
    "\n",
    "    exon_sequence = exon.seq\n",
    "    if len(exon_sequence) > probe_length:\n",
    "        probes_of_exon = set([exon_sequence[i:i+probe_length] for i in range(len(exon_sequence)-(probe_length-1)) if ('N' not in exon_sequence[i:i+probe_length])])\n",
    "        number_probes += len(probes_of_exon)\n",
    "        \n",
    "        for probe in probes_of_exon:\n",
    "            gc_content = GC(probe)\n",
    "            if (GC_content_min < gc_content < GC_content_max):\n",
    "                Tm = mt.Tm_NN(probe)\n",
    "                if (Tm_min < Tm < Tm_max):\n",
    "                    if gene_id in mapping_gene_to_probes:\n",
    "                        if probe in mapping_gene_to_probes[gene_id]:\n",
    "                            mapping_gene_to_probes[gene_id][probe].append(exon_id)\n",
    "                        else:\n",
    "                            mapping_gene_to_probes[gene_id][probe] = [exon_id]\n",
    "                    else:\n",
    "                        mapping_gene_to_probes[gene_id] = {probe: [exon_id]}\n",
    "                \n",
    "    if number_exons % 100000 == 0:\n",
    "        #break\n",
    "        print(number_exons)\n",
    "\n",
    "pickle.dump(mapping_gene_to_probes, open('./data/mapping_gene_to_probes.pkl','wb'))       \n",
    "        "
   ]
  },
  {
   "cell_type": "code",
   "execution_count": 27,
   "metadata": {},
   "outputs": [],
   "source": [
    "mapping_gene_to_probes = pickle.load(open('./data/mapping_gene_to_probes.pkl','rb'))"
   ]
  },
  {
   "cell_type": "code",
   "execution_count": 7,
   "metadata": {},
   "outputs": [
    {
     "ename": "NameError",
     "evalue": "name 'number_exons' is not defined",
     "output_type": "error",
     "traceback": [
      "\u001b[0;31m---------------------------------------------------------------------------\u001b[0m",
      "\u001b[0;31mNameError\u001b[0m                                 Traceback (most recent call last)",
      "\u001b[0;32m<ipython-input-7-6db312b576af>\u001b[0m in \u001b[0;36m<module>\u001b[0;34m\u001b[0m\n\u001b[0;32m----> 1\u001b[0;31m \u001b[0mprint\u001b[0m\u001b[0;34m(\u001b[0m\u001b[0;34m'exons: {}'\u001b[0m\u001b[0;34m.\u001b[0m\u001b[0mformat\u001b[0m\u001b[0;34m(\u001b[0m\u001b[0mnumber_exons\u001b[0m\u001b[0;34m)\u001b[0m\u001b[0;34m)\u001b[0m\u001b[0;34m\u001b[0m\u001b[0;34m\u001b[0m\u001b[0m\n\u001b[0m\u001b[1;32m      2\u001b[0m \u001b[0mprint\u001b[0m\u001b[0;34m(\u001b[0m\u001b[0;34m'probes: {}'\u001b[0m\u001b[0;34m.\u001b[0m\u001b[0mformat\u001b[0m\u001b[0;34m(\u001b[0m\u001b[0mnumber_probes\u001b[0m\u001b[0;34m)\u001b[0m\u001b[0;34m)\u001b[0m\u001b[0;34m\u001b[0m\u001b[0;34m\u001b[0m\u001b[0m\n",
      "\u001b[0;31mNameError\u001b[0m: name 'number_exons' is not defined"
     ]
    }
   ],
   "source": [
    "print('exons: {}'.format(number_exons))\n",
    "print('probes: {}'.format(number_probes))"
   ]
  },
  {
   "cell_type": "code",
   "execution_count": 42,
   "metadata": {},
   "outputs": [],
   "source": [
    "mapping_gene_to_probes_filtered = pickle.load(open('./data/mapping_gene_to_probes.pkl','rb'))"
   ]
  },
  {
   "cell_type": "code",
   "execution_count": 43,
   "metadata": {},
   "outputs": [
    {
     "name": "stdout",
     "output_type": "stream",
     "text": [
      "53816 53816\n"
     ]
    }
   ],
   "source": [
    "print(len(mapping_gene_to_probes_filtered),len(mapping_gene_to_probes))"
   ]
  },
  {
   "cell_type": "code",
   "execution_count": 44,
   "metadata": {},
   "outputs": [
    {
     "data": {
      "text/plain": [
       "200"
      ]
     },
     "execution_count": 44,
     "metadata": {},
     "output_type": "execute_result"
    }
   ],
   "source": [
    "len(mapping_gene_to_probes['ENSG00000236679'])"
   ]
  },
  {
   "cell_type": "code",
   "execution_count": 45,
   "metadata": {},
   "outputs": [
    {
     "data": {
      "text/plain": [
       "200"
      ]
     },
     "execution_count": 45,
     "metadata": {},
     "output_type": "execute_result"
    }
   ],
   "source": [
    "len(mapping_gene_to_probes_filtered['ENSG00000236679'])"
   ]
  },
  {
   "cell_type": "code",
   "execution_count": 46,
   "metadata": {},
   "outputs": [
    {
     "name": "stdout",
     "output_type": "stream",
     "text": [
      "---\n",
      "Genes processed: 1794\n",
      "Probes processed: 1000000\n",
      "Probes unique: 936040\n",
      "---\n",
      "Genes processed: 3781\n",
      "Probes processed: 2000000\n",
      "Probes unique: 1872711\n",
      "---\n",
      "Genes processed: 5451\n",
      "Probes processed: 3000000\n",
      "Probes unique: 2796327\n",
      "---\n",
      "Genes processed: 7728\n",
      "Probes processed: 4000000\n",
      "Probes unique: 3713707\n",
      "---\n",
      "Genes processed: 9631\n",
      "Probes processed: 5000000\n",
      "Probes unique: 4658948\n",
      "---\n",
      "Genes processed: 11359\n",
      "Probes processed: 6000000\n",
      "Probes unique: 5586430\n",
      "---\n",
      "Genes processed: 13966\n",
      "Probes processed: 7000000\n",
      "Probes unique: 6521936\n",
      "---\n",
      "Genes processed: 16202\n",
      "Probes processed: 8000000\n",
      "Probes unique: 7446101\n",
      "---\n",
      "Genes processed: 18398\n",
      "Probes processed: 9000000\n",
      "Probes unique: 8371505\n",
      "---\n",
      "Genes processed: 20474\n",
      "Probes processed: 10000000\n",
      "Probes unique: 9300929\n",
      "---\n",
      "Genes processed: 22705\n",
      "Probes processed: 11000000\n",
      "Probes unique: 10185560\n",
      "---\n",
      "Genes processed: 24977\n",
      "Probes processed: 12000000\n",
      "Probes unique: 11075072\n",
      "---\n",
      "Genes processed: 27241\n",
      "Probes processed: 13000000\n",
      "Probes unique: 11989945\n",
      "---\n",
      "Genes processed: 29183\n",
      "Probes processed: 14000000\n",
      "Probes unique: 12870141\n",
      "---\n",
      "Genes processed: 30971\n",
      "Probes processed: 15000000\n",
      "Probes unique: 13805507\n",
      "---\n",
      "Genes processed: 32939\n",
      "Probes processed: 16000000\n",
      "Probes unique: 14735116\n",
      "---\n",
      "Genes processed: 35063\n",
      "Probes processed: 17000000\n",
      "Probes unique: 15666383\n",
      "---\n",
      "Genes processed: 37031\n",
      "Probes processed: 18000000\n",
      "Probes unique: 16600194\n",
      "---\n",
      "Genes processed: 39149\n",
      "Probes processed: 19000000\n",
      "Probes unique: 17524238\n",
      "---\n",
      "Genes processed: 40934\n",
      "Probes processed: 20000000\n",
      "Probes unique: 18394529\n",
      "---\n",
      "Genes processed: 42853\n",
      "Probes processed: 21000000\n",
      "Probes unique: 19269225\n",
      "---\n",
      "Genes processed: 44529\n",
      "Probes processed: 22000000\n",
      "Probes unique: 20182506\n",
      "---\n",
      "Genes processed: 46149\n",
      "Probes processed: 23000000\n",
      "Probes unique: 21078478\n",
      "---\n",
      "Genes processed: 48274\n",
      "Probes processed: 24000000\n",
      "Probes unique: 22034606\n",
      "---\n",
      "Genes processed: 50330\n",
      "Probes processed: 25000000\n",
      "Probes unique: 22956157\n",
      "---\n",
      "Genes processed: 52503\n",
      "Probes processed: 26000000\n",
      "Probes unique: 23797052\n",
      "26639186\n"
     ]
    }
   ],
   "source": [
    "probes_unique = {}\n",
    "probes_non_unique = {}\n",
    "\n",
    "count_genes = 0\n",
    "count_probes = 0\n",
    "for gene_id, mapping_probe_to_exon in mapping_gene_to_probes.items():\n",
    "    count_genes +=1\n",
    "\n",
    "    for probe, exon_id in mapping_probe_to_exon.items():\n",
    "        count_probes +=1\n",
    "        if count_probes % 1000000 ==0:\n",
    "            print(\"---\")\n",
    "            print(\"Genes processed:\" , count_genes)\n",
    "            print(\"Probes processed:\" , count_probes)\n",
    "            print(\"Probes unique:\" , len(probes_unique))\n",
    "            #break\n",
    "        if probe in probes_non_unique:\n",
    "            probes_non_unique[probe] += 1\n",
    "            mapping_gene_to_probes_filtered[gene_id].pop(probe)\n",
    "        elif probe in probes_unique:\n",
    "            mapping_gene_to_probes_filtered[gene_id].pop(probe)\n",
    "            mapping_gene_to_probes_filtered[probes_unique[probe][1]].pop(probe)\n",
    "            probes_unique.pop(probe)\n",
    "            probes_non_unique[probe] = 2\n",
    "        else:\n",
    "            probes_unique[probe] = [exon_id, gene_id]\n",
    "print(count_probes)"
   ]
  },
  {
   "cell_type": "code",
   "execution_count": 47,
   "metadata": {},
   "outputs": [],
   "source": [
    "pickle.dump(mapping_gene_to_probes_filtered, open('./data/mapping_gene_to_probes_filtered.pkl','wb')) "
   ]
  },
  {
   "cell_type": "code",
   "execution_count": null,
   "metadata": {},
   "outputs": [],
   "source": [
    "mapping_gene_to_probes_filtered = pickle.load(open('./data/mapping_gene_to_probes_filtered.pkl','rb'))"
   ]
  },
  {
   "cell_type": "code",
   "execution_count": 48,
   "metadata": {},
   "outputs": [
    {
     "name": "stdout",
     "output_type": "stream",
     "text": [
      "unique probes 24325552\n",
      "3397\n"
     ]
    }
   ],
   "source": [
    "print('unique probes {}'.format(len(probes_unique)))\n",
    "\n",
    "removed_genes = []\n",
    "\n",
    "for gene_id, mapping_probe_to_exon in mapping_gene_to_probes_filtered.items():\n",
    "    if len(mapping_probe_to_exon) < min_probes_per_gene:\n",
    "        removed_genes.append(gene_id)\n",
    "\n",
    "print(len(removed_genes))"
   ]
  },
  {
   "cell_type": "code",
   "execution_count": 52,
   "metadata": {},
   "outputs": [
    {
     "name": "stdout",
     "output_type": "stream",
     "text": [
      "unique probes 24325552\n",
      "---\n",
      "Genes processed: 28\n",
      "Probes processed: 10000\n",
      "Probes selected: 0\n",
      "---\n",
      "Genes processed: 50\n",
      "Probes processed: 20000\n",
      "Probes selected: 0\n",
      "---\n",
      "Genes processed: 67\n",
      "Probes processed: 30000\n",
      "Probes selected: 0\n",
      "---\n",
      "Genes processed: 82\n",
      "Probes processed: 40000\n",
      "Probes selected: 0\n",
      "---\n",
      "Genes processed: 102\n",
      "Probes processed: 50000\n",
      "Probes selected: 0\n",
      "---\n",
      "Genes processed: 122\n",
      "Probes processed: 60000\n",
      "Probes selected: 0\n",
      "---\n",
      "Genes processed: 132\n",
      "Probes processed: 70000\n",
      "Probes selected: 0\n",
      "---\n",
      "Genes processed: 142\n",
      "Probes processed: 80000\n",
      "Probes selected: 0\n",
      "---\n",
      "Genes processed: 152\n",
      "Probes processed: 90000\n",
      "Probes selected: 0\n",
      "---\n",
      "Genes processed: 169\n",
      "Probes processed: 100000\n",
      "Probes selected: 0\n"
     ]
    },
    {
     "data": {
      "text/plain": [
       "{}"
      ]
     },
     "execution_count": 52,
     "metadata": {},
     "output_type": "execute_result"
    }
   ],
   "source": [
    "print('unique probes {}'.format(len(probes_unique)))\n",
    "\n",
    "removed_genes = []\n",
    "mapping_gene_to_probes_selected = {}\n",
    "count_genes = 0\n",
    "count_probes = 0\n",
    "count_selected_probes = 0\n",
    "for gene_id, mapping_probe_to_exon in mapping_gene_to_probes_filtered.items():\n",
    "    count_genes +=1\n",
    "    if len(mapping_probe_to_exon) > min_probes_per_gene:\n",
    "        #if count_probes >100000:\n",
    "        #        break\n",
    "        \n",
    "        for probe,exons in mapping_probe_to_exon.items():\n",
    "            count_probes += 1\n",
    "            if count_probes % 100000 ==0:\n",
    "                print(\"---\")\n",
    "                print(\"Genes processed:\" , count_genes)\n",
    "                print(\"Probes processed:\" , count_probes)\n",
    "                print(\"Probes selected:\" , count_selected_probes)\n",
    "            #if count_probes >100000:\n",
    "            #    break\n",
    "            foundMatch = False\n",
    "            for gene_id2, mapping_probe_to_exon2 in mapping_gene_to_probes_filtered.items():\n",
    "\n",
    "                    if gene_id != gene_id2:\n",
    "                        \n",
    "                        for probe2,exons2 in mapping_probe_to_exon2.items():\n",
    "                            ham_dist = Lev.hamming(str(probe),str(probe2))\n",
    "                            if  ham_dist < probe_length//2:\n",
    "                                    foundMatch = True\n",
    "                                    break\n",
    "                    if foundMatch:\n",
    "                        break\n",
    "            if not foundMatch:   \n",
    "                #print(probe)\n",
    "                count_selected_probes +=1\n",
    "                if gene_id not in mapping_gene_to_probes_selected:\n",
    "                    mapping_gene_to_probes_selected[gene_id] = []\n",
    "                mapping_gene_to_probes_selected[gene_id].append(probe)\n",
    "        \n",
    "print(count_selected_probes)    \n",
    "mapping_gene_to_probes_selected"
   ]
  },
  {
   "cell_type": "markdown",
   "metadata": {},
   "source": [
    "## Get potential probes - old version"
   ]
  },
  {
   "cell_type": "code",
   "execution_count": null,
   "metadata": {},
   "outputs": [],
   "source": [
    "probes_unique = {}\n",
    "probes_non_unique = {}\n",
    "\n",
    "\n",
    "for exon in SeqIO.parse(file_exon_sequence, \"fasta\"):\n",
    "    #print(exon.id)\n",
    "    #print(exon.seq)\n",
    "    number_exons += 1\n",
    "    if len(exon.seq) > probe_length:\n",
    "        for i in range(0, len(exon.seq)-(probe_length-1), 1):\n",
    "            number_probes += 1\n",
    "            probe = exon.seq[i:i+probe_length]\n",
    "            if probe in probes_non_unique:\n",
    "                probes_non_unique[probe] += 1\n",
    "            elif probe in probes_unique:\n",
    "                probes_unique.pop(probe)\n",
    "                probes_non_unique[probe] = 2\n",
    "            else:\n",
    "                if not 'N' in probe:\n",
    "                    gc_content = GC(probe)\n",
    "                    if (gc_content > GC_content_min) & (gc_content < GC_content_max):\n",
    "                        Tm = mt.Tm_NN(probe)\n",
    "                        if (Tm > Tm_min) & (Tm < Tm_max):\n",
    "                            probes_unique[probe] = exon.id"
   ]
  },
  {
   "cell_type": "code",
   "execution_count": null,
   "metadata": {},
   "outputs": [],
   "source": [
    "non_unique = 0\n",
    "for key, value in probes_non_unique.items():\n",
    "    non_unique += value\n",
    "\n",
    "\n",
    "print('exons: {}'.format(number_exons))\n",
    "print('probes: {}'.format(number_probes))\n",
    "print('unique probes {}'.format(len(probes_unique)))\n",
    "print('non unique probes {}'.format(non_unique))"
   ]
  },
  {
   "cell_type": "markdown",
   "metadata": {},
   "source": [
    "## Bowtie"
   ]
  },
  {
   "cell_type": "code",
   "execution_count": null,
   "metadata": {},
   "outputs": [],
   "source": [
    "file_bowtie_index = file_exon_sequence.split('.fa')[0]\n",
    "file_exon_sequence = './data/Homo_sapiens.GRCh38.104.exons.fa'"
   ]
  },
  {
   "cell_type": "code",
   "execution_count": null,
   "metadata": {},
   "outputs": [],
   "source": [
    "\n",
    "threads = 4\n",
    "cmd = 'bowtie-build --threads {} {} {}'.format(file_exon_sequence, file_bowtie_index)\n",
    "os.system(cmd)"
   ]
  },
  {
   "cell_type": "code",
   "execution_count": null,
   "metadata": {},
   "outputs": [],
   "source": [
    "\n",
    "#cmd = 'bowtie --threads {} -c {} {}'.format(threads, file_bowtie_index, str(probe))\n",
    "#alignment = sp.check_output(cmd, shell=True)\n",
    "#if not alignment.decode(\"utf-8\"):\n",
    "    #print(probe)\n",
    "    #number_probes_pass_bowtie_filter += 1"
   ]
  },
  {
   "cell_type": "code",
   "execution_count": null,
   "metadata": {},
   "outputs": [],
   "source": [
    "cmd = 'bowtie -c {} {}'.format(file_bowtie_index, 'TTCTACAACGACGTGGTCAGCTCCAAGCCGTGCAAGCCCT')\n",
    "output1 = sp.check_output(cmd, shell=True)\n",
    "output1 = output1.decode(\"utf-8\")"
   ]
  },
  {
   "cell_type": "code",
   "execution_count": null,
   "metadata": {},
   "outputs": [],
   "source": [
    "cmd = 'bowtie -c {} {}'.format(file_bowtie_index, 'GAAGAAGGGAGAGAAAGCTCCCTCCTGTGTGTCNNNNNNN')\n",
    "output2 = sp.check_output(cmd, shell=True)\n",
    "output2 = output2.decode(\"utf-8\")"
   ]
  },
  {
   "cell_type": "code",
   "execution_count": null,
   "metadata": {},
   "outputs": [],
   "source": [
    "if output1:\n",
    "    print(output1)\n",
    "    print('not empty')"
   ]
  },
  {
   "cell_type": "code",
   "execution_count": null,
   "metadata": {},
   "outputs": [],
   "source": [
    "if not output2:\n",
    "    print(output2)\n",
    "    print('empty')"
   ]
  }
 ],
 "metadata": {
  "interpreter": {
   "hash": "17f6039001aeedca1aabae42624c8a4f78520bde7c02e03eb3454948a0d86b5e"
  },
  "kernelspec": {
   "display_name": "demoEnv",
   "language": "python",
   "name": "demoenv"
  },
  "language_info": {
   "codemirror_mode": {
    "name": "ipython",
    "version": 3
   },
   "file_extension": ".py",
   "mimetype": "text/x-python",
   "name": "python",
   "nbconvert_exporter": "python",
   "pygments_lexer": "ipython3",
   "version": "3.7.10"
  }
 },
 "nbformat": 4,
 "nbformat_minor": 5
}
