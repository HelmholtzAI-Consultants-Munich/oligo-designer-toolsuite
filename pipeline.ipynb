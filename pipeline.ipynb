{
 "cells": [
  {
   "cell_type": "markdown",
   "source": [
    "## Get Exome"
   ],
   "metadata": {}
  },
  {
   "cell_type": "code",
   "execution_count": 1,
   "source": [
    "import pybedtools\n",
    "from gtfparse import read_gtf\n",
    "from ftplib import FTP"
   ],
   "outputs": [],
   "metadata": {}
  },
  {
   "cell_type": "code",
   "execution_count": 2,
   "source": [
    "#file_genome_sequence = './data/Homo_sapiens.GRCh38.104.dna_rm.primary_assembly.fa'\n",
    "#file_gene_annotation = './data/Homo_sapiens.GRCh38.104.gtf'"
   ],
   "outputs": [],
   "metadata": {}
  },
  {
   "cell_type": "code",
   "execution_count": 3,
   "source": [
    "def download_genome_fasta(dir_data, release='104'):\n",
    "    ftp = FTP('ftp.ensembl.org')\n",
    "    ftp.login() \n",
    "\n",
    "    # move to genome directory\n",
    "    directory = 'pub/release-{}/fasta/homo_sapiens/dna'.format(release)\n",
    "    ftp.cwd(directory)\n",
    "\n",
    "    allfiles = ftp.nlst()\n",
    "\n",
    "    for file in allfiles:\n",
    "        if 'dna_rm.primary_assembly' in file:\n",
    "            file_genome_sequence = file\n",
    "            ftp.retrbinary('RETR ' + file, open(os.path.join(dir_data, file), 'wb').write)\n",
    "            print(file_genome_sequence)\n",
    "\n",
    "    ftp.quit()\n",
    "\n",
    "    return dir_data+file_genome_sequence"
   ],
   "outputs": [],
   "metadata": {}
  },
  {
   "cell_type": "code",
   "execution_count": 11,
   "source": [
    "def download_gene_gtf(dir_data, release='104'):\n",
    "    ftp = FTP('ftp.ensembl.org')\n",
    "    ftp.login() \n",
    "\n",
    "    # move to annotation directory\n",
    "    directory = 'pub/release-{}/gtf/homo_sapiens/'.format(release)\n",
    "    ftp.cwd(directory)\n",
    "\n",
    "    allfiles = ftp.nlst()\n",
    "\n",
    "    for file in allfiles:\n",
    "        if '{}.gtf.gz'.format(release) in file:\n",
    "            file_gene_annotation = file\n",
    "            ftp.retrbinary('RETR ' + file, open(os.path.join(dir_data, file), 'wb').write)\n",
    "            print(file_gene_annotation)\n",
    "\n",
    "    ftp.quit()\n",
    "\n",
    "    return dir_data+file_gene_annotation\n"
   ],
   "outputs": [],
   "metadata": {}
  },
  {
   "cell_type": "code",
   "execution_count": 5,
   "source": [
    "def get_exons_annotation(file_gene_annotation):\n",
    "\n",
    "    file_exon_annotation = '{}.exons.gtf'.format(file_gene_annotation.split('.gtf')[0])\n",
    "    \n",
    "    # extract exons from gene annotation file\n",
    "    gene_annotation = read_gtf(file_gene_annotation)\n",
    "    \n",
    "    exon_annotation = gene_annotation[gene_annotation[\"feature\"] == \"exon\"]\n",
    "    #exon_annotation = exon_annotation[exon_annotation[\"transcript_biotype\"] == \"protein_coding\"]\n",
    "    exon_annotation[['seqname','source','exon_id','start','end','score','strand','frame','gene_id']].to_csv(file_exon_annotation, sep='\\t', header=False, index = False)\n",
    "    \n",
    "    return file_exon_annotation"
   ],
   "outputs": [],
   "metadata": {}
  },
  {
   "cell_type": "code",
   "execution_count": 6,
   "source": [
    "def get_exons_fasta(file_exon_annotation, file_genome_sequence):\n",
    "    \n",
    "    file_exon_sequence = '{}.fa'.format(file_exon_annotation.split('.gtf')[0])\n",
    "    \n",
    "    # get sequence for exons\n",
    "    exon_annotation = pybedtools.BedTool(file_exon_annotation)\n",
    "    genome_sequence = pybedtools.BedTool(file_genome_sequence)\n",
    "\n",
    "    exon_annotation = exon_annotation.sequence(fi=genome_sequence, s=True, name=True)\n",
    "    exon_annotation.save_seqs(file_exon_sequence)\n",
    "    \n",
    "    return file_exon_sequence"
   ],
   "outputs": [],
   "metadata": {}
  },
  {
   "cell_type": "code",
   "execution_count": 8,
   "source": [
    "file_genome_sequence = download_genome_fasta('./data/')\n",
    "cmd = \"gunzip {}\".format(file_gene_annotation)\n",
    "os.system(cmd)\n",
    "file_genome_sequence = file_gene_annotation.split('.gz')\n",
    "file_genome_sequence"
   ],
   "outputs": [
    {
     "output_type": "stream",
     "name": "stdout",
     "text": [
      "Homo_sapiens.GRCh38.dna_rm.primary_assembly.fa.gz\n"
     ]
    }
   ],
   "metadata": {}
  },
  {
   "cell_type": "code",
   "execution_count": 13,
   "source": [
    "file_gene_annotation = download_gene_gtf('./data/')\n",
    "cmd = \"gunzip {}\".format(file_gene_annotation)\n",
    "os.system(cmd)\n",
    "file_gene_annotation = file_gene_annotation.split('.gz')\n",
    "file_gene_annotation"
   ],
   "outputs": [
    {
     "output_type": "stream",
     "name": "stdout",
     "text": [
      "Homo_sapiens.GRCh38.104.gtf.gz\n"
     ]
    }
   ],
   "metadata": {}
  },
  {
   "cell_type": "code",
   "execution_count": null,
   "source": [
    "# get exon annotation\n",
    "file_exon_annotation = get_exons_annotation(file_gene_annotation)"
   ],
   "outputs": [],
   "metadata": {}
  },
  {
   "cell_type": "code",
   "execution_count": null,
   "source": [
    "# get exon sequences\n",
    "file_exon_sequence = get_exons_fasta(file_exon_annotation, file_genome_sequence)"
   ],
   "outputs": [],
   "metadata": {}
  },
  {
   "cell_type": "markdown",
   "source": [
    "## Get potential probes"
   ],
   "metadata": {}
  },
  {
   "cell_type": "code",
   "execution_count": null,
   "source": [
    "import os\n",
    "import copy\n",
    "import pickle\n",
    "import pandas as pd\n",
    "\n",
    "from gtfparse import read_gtf\n",
    "\n",
    "from Bio import SeqIO\n",
    "from Bio.SeqUtils import GC\n",
    "from Bio.SeqUtils import MeltingTemp as mt"
   ],
   "outputs": [],
   "metadata": {}
  },
  {
   "cell_type": "code",
   "execution_count": null,
   "source": [
    "file_exon_sequence = './data/Homo_sapiens.GRCh38.104.exons.fa'\n",
    "file_gene_annotation = './data/Homo_sapiens.GRCh38.104.gtf'"
   ],
   "outputs": [],
   "metadata": {}
  },
  {
   "cell_type": "code",
   "execution_count": null,
   "source": [
    "GC_content_min = 40\n",
    "GC_content_max = 60\n",
    "Tm_min = 68\n",
    "Tm_max = 75\n",
    "probe_length = 45\n",
    "min_probes_per_gene = 4"
   ],
   "outputs": [],
   "metadata": {}
  },
  {
   "cell_type": "code",
   "execution_count": null,
   "source": [
    "GC_content_min = float(GC_content_min)\n",
    "GC_content_max = float(GC_content_max)\n",
    "Tm_min = float(Tm_min)\n",
    "Tm_max = float(Tm_max)"
   ],
   "outputs": [],
   "metadata": {}
  },
  {
   "cell_type": "code",
   "execution_count": null,
   "source": [
    "gene_annotation = read_gtf(file_gene_annotation)\n",
    "exon_annotation = gene_annotation[gene_annotation[\"feature\"] == \"exon\"]\n",
    "\n",
    "mapping_exon_to_gene = pd.Series(exon_annotation.gene_id.values,index=exon_annotation.exon_id).to_dict()\n",
    "mapping_gene_to_exon = pd.Series(exon_annotation.exon_id.values,index=exon_annotation.gene_id).to_dict()\n",
    "\n",
    "pickle.dump(mapping_exon_to_gene, open('./data/mapping_exon_to_gene.pkl','wb'))\n",
    "pickle.dump(mapping_gene_to_exon, open('./data/mapping_gene_to_exon.pkl','wb'))\n"
   ],
   "outputs": [],
   "metadata": {}
  },
  {
   "cell_type": "code",
   "execution_count": null,
   "source": [
    "mapping_exon_to_gene = pickle.load(open('./data/mapping_exon_to_gene.pkl','r'))\n",
    "mapping_gene_to_exon = pickle.load(open('./data/mapping_gene_to_exon.pkl','r'))"
   ],
   "outputs": [],
   "metadata": {}
  },
  {
   "cell_type": "code",
   "execution_count": null,
   "source": [
    "number_exons = 0\n",
    "number_probes = 0\n",
    "\n",
    "mapping_gene_to_probes = {}\n",
    "\n",
    "for exon in SeqIO.parse(file_exon_sequence, \"fasta\"):\n",
    "\n",
    "    number_exons += 1\n",
    "    exon_id = exon.id.split('::')[0]\n",
    "    gene_id = mapping_exon_to_gene[exon_id]\n",
    "\n",
    "    exon_sequence = exon.seq\n",
    "    if len(exon_sequence) > probe_length:\n",
    "        probes_of_exon = set([exon_sequence[i:i+probe_length] for i in range(len(exon_sequence)-(probe_length-1)) if ('N' not in exon_sequence[i:i+probe_length])])\n",
    "        number_probes += len(probes_of_exon)\n",
    "        for probe in probes_of_exon:\n",
    "            gc_content = GC(probe)\n",
    "            if (GC_content_min < gc_content < GC_content_max):\n",
    "                Tm = mt.Tm_NN(probe)\n",
    "                if (Tm_min < Tm < Tm_max):\n",
    "                    if gene_id in mapping_gene_to_probes:\n",
    "                        if probe in mapping_gene_to_probes[gene_id]:\n",
    "                            mapping_gene_to_probes[gene_id][probe].append(exon_id)\n",
    "                        else:\n",
    "                            mapping_gene_to_probes[gene_id][probe] = [exon_id]\n",
    "                    else:\n",
    "                        mapping_gene_to_probes[gene_id] = {probe: [exon_id]}\n",
    "                \n",
    "    if number_exons % 10000 == 0:\n",
    "        print(number_exons)\n",
    "\n",
    "pickle.dump(mapping_gene_to_probes, open('./data/mapping_gene_to_probes.pkl','wb'))       \n",
    "        "
   ],
   "outputs": [],
   "metadata": {}
  },
  {
   "cell_type": "code",
   "execution_count": null,
   "source": [
    "mapping_gene_to_probes = pickle.load(open('./data/mapping_gene_to_probes.pkl','r'))"
   ],
   "outputs": [],
   "metadata": {}
  },
  {
   "cell_type": "code",
   "execution_count": null,
   "source": [
    "print('exons: {}'.format(number_exons))\n",
    "print('probes: {}'.format(number_probes))"
   ],
   "outputs": [],
   "metadata": {}
  },
  {
   "cell_type": "code",
   "execution_count": null,
   "source": [
    "probes_unique = {}\n",
    "probes_non_unique = {}\n",
    "\n",
    "mapping_gene_to_probes_filtered = copy.deepcopy(mapping_gene_to_probes)\n",
    "\n",
    "for gene_id, mapping_probe_to_exon in mapping_gene_to_probes.items():\n",
    "    for probe, exon_id in mapping_probe_to_exon.items():\n",
    "        if probe in probes_non_unique:\n",
    "            probes_non_unique[probe] += 1\n",
    "            mapping_gene_to_probes_filtered[gene_id].pop(probe)\n",
    "        elif probe in probes_unique:\n",
    "            mapping_gene_to_probes_filtered[probes_unique[probe][1]].pop(probe)\n",
    "            mapping_gene_to_probes_filtered[gene_id].pop(probe)\n",
    "            probes_unique.pop(probe)\n",
    "            probes_non_unique[probe] = 2\n",
    "        else:\n",
    "            probes_unique[probe] = [exon_id, gene_id]\n",
    "\n",
    "pickle.dump(mapping_gene_to_probes_filtered, open('./data/mapping_gene_to_probes_filtered.pkl','wb'))  \n"
   ],
   "outputs": [],
   "metadata": {}
  },
  {
   "cell_type": "code",
   "execution_count": null,
   "source": [
    "mapping_gene_to_probes_filtered = pickle.load(open('./data/mapping_gene_to_probes_filtered.pkl','r'))"
   ],
   "outputs": [],
   "metadata": {}
  },
  {
   "cell_type": "code",
   "execution_count": null,
   "source": [
    "print('unique probes {}'.format(len(probes_unique)))\n",
    "\n",
    "removed_genes = []\n",
    "\n",
    "for gene_id, mapping_probe_to_exon in mapping_gene_to_probes_filtered.items():\n",
    "    if len(mapping_probe_to_exon) < min_probes_per_gene:\n",
    "        removed_genes.append(gene_id)\n",
    "\n",
    "removed_genes"
   ],
   "outputs": [],
   "metadata": {}
  },
  {
   "cell_type": "markdown",
   "source": [
    "## Get potential probes - old version"
   ],
   "metadata": {}
  },
  {
   "cell_type": "code",
   "execution_count": null,
   "source": [
    "probes_unique = {}\n",
    "probes_non_unique = {}\n",
    "\n",
    "\n",
    "for exon in SeqIO.parse(file_exon_sequence, \"fasta\"):\n",
    "    #print(exon.id)\n",
    "    #print(exon.seq)\n",
    "    number_exons += 1\n",
    "    if len(exon.seq) > probe_length:\n",
    "        for i in range(0, len(exon.seq)-(probe_length-1), 1):\n",
    "            number_probes += 1\n",
    "            probe = exon.seq[i:i+probe_length]\n",
    "            if probe in probes_non_unique:\n",
    "                probes_non_unique[probe] += 1\n",
    "            elif probe in probes_unique:\n",
    "                probes_unique.pop(probe)\n",
    "                probes_non_unique[probe] = 2\n",
    "            else:\n",
    "                if not 'N' in probe:\n",
    "                    gc_content = GC(probe)\n",
    "                    if (gc_content > GC_content_min) & (gc_content < GC_content_max):\n",
    "                        Tm = mt.Tm_NN(probe)\n",
    "                        if (Tm > Tm_min) & (Tm < Tm_max):\n",
    "                            probes_unique[probe] = exon.id"
   ],
   "outputs": [],
   "metadata": {}
  },
  {
   "cell_type": "code",
   "execution_count": null,
   "source": [
    "non_unique = 0\n",
    "for key, value in probes_non_unique.items():\n",
    "    non_unique += value\n",
    "\n",
    "\n",
    "print('exons: {}'.format(number_exons))\n",
    "print('probes: {}'.format(number_probes))\n",
    "print('unique probes {}'.format(len(probes_unique)))\n",
    "print('non unique probes {}'.format(non_unique))"
   ],
   "outputs": [],
   "metadata": {}
  },
  {
   "cell_type": "markdown",
   "source": [
    "## Bowtie"
   ],
   "metadata": {}
  },
  {
   "cell_type": "code",
   "execution_count": null,
   "source": [
    "file_bowtie_index = file_exon_sequence.split('.fa')[0]\n",
    "file_exon_sequence = './data/Homo_sapiens.GRCh38.104.exons.fa'"
   ],
   "outputs": [],
   "metadata": {}
  },
  {
   "cell_type": "code",
   "execution_count": null,
   "source": [
    "\n",
    "threads = 4\n",
    "cmd = 'bowtie-build --threads {} {} {}'.format(file_exon_sequence, file_bowtie_index)\n",
    "os.system(cmd)"
   ],
   "outputs": [],
   "metadata": {}
  },
  {
   "cell_type": "code",
   "execution_count": null,
   "source": [
    "\n",
    "#cmd = 'bowtie --threads {} -c {} {}'.format(threads, file_bowtie_index, str(probe))\n",
    "#alignment = sp.check_output(cmd, shell=True)\n",
    "#if not alignment.decode(\"utf-8\"):\n",
    "    #print(probe)\n",
    "    #number_probes_pass_bowtie_filter += 1"
   ],
   "outputs": [],
   "metadata": {}
  },
  {
   "cell_type": "code",
   "execution_count": null,
   "source": [
    "cmd = 'bowtie -c {} {}'.format(file_bowtie_index, 'TTCTACAACGACGTGGTCAGCTCCAAGCCGTGCAAGCCCT')\n",
    "output1 = sp.check_output(cmd, shell=True)\n",
    "output1 = output1.decode(\"utf-8\")"
   ],
   "outputs": [],
   "metadata": {}
  },
  {
   "cell_type": "code",
   "execution_count": null,
   "source": [
    "cmd = 'bowtie -c {} {}'.format(file_bowtie_index, 'GAAGAAGGGAGAGAAAGCTCCCTCCTGTGTGTCNNNNNNN')\n",
    "output2 = sp.check_output(cmd, shell=True)\n",
    "output2 = output2.decode(\"utf-8\")"
   ],
   "outputs": [],
   "metadata": {}
  },
  {
   "cell_type": "code",
   "execution_count": null,
   "source": [
    "if output1:\n",
    "    print(output1)\n",
    "    print('not empty')"
   ],
   "outputs": [],
   "metadata": {}
  },
  {
   "cell_type": "code",
   "execution_count": null,
   "source": [
    "if not output2:\n",
    "    print(output2)\n",
    "    print('empty')"
   ],
   "outputs": [],
   "metadata": {}
  }
 ],
 "metadata": {
  "interpreter": {
   "hash": "e702497fe34a953bc64f7695730fc8355b217a72fe7b6a6d2ceab38232512391"
  },
  "kernelspec": {
   "name": "python3",
   "display_name": "Python 3.8.11 64-bit ('probe_design': conda)"
  },
  "language_info": {
   "codemirror_mode": {
    "name": "ipython",
    "version": 3
   },
   "file_extension": ".py",
   "mimetype": "text/x-python",
   "name": "python",
   "nbconvert_exporter": "python",
   "pygments_lexer": "ipython3",
   "version": "3.8.11"
  }
 },
 "nbformat": 4,
 "nbformat_minor": 5
}