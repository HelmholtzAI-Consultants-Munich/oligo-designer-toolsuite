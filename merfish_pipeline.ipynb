{
 "cells": [
  {
   "cell_type": "code",
   "execution_count": 1,
   "metadata": {},
   "outputs": [],
   "source": [
    "import os\n",
    "import time\n",
    "from pathlib import Path\n",
    "\n",
    "import yaml\n",
    "\n",
    "from oligo_designer_toolsuite.database import OligoDatabase, CustomGenomicRegionGenerator\n",
    "\n",
    "from oligo_designer_toolsuite.oligo_specificity_filter import Blastn\n",
    "\n",
    "from oligo_designer_toolsuite.pipelines import MerfishProbeDesigner\n",
    "from argparse import ArgumentParser, RawDescriptionHelpFormatter\n",
    "\n",
    "from oligo_designer_toolsuite.pipelines._utils import generate_config_file\n"
   ]
  },
  {
   "cell_type": "code",
   "execution_count": 2,
   "metadata": {},
   "outputs": [],
   "source": [
    "import warnings\n",
    "warnings.filterwarnings(\"ignore\")"
   ]
  },
  {
   "cell_type": "code",
   "execution_count": 8,
   "metadata": {},
   "outputs": [],
   "source": [
    "\n",
    "config_path = generate_config_file(\"merfish\", \"output_test\", \"custom\")\n",
    "with open(config_path, \"r\") as handle:\n",
    "        config = yaml.safe_load(handle)"
   ]
  },
  {
   "cell_type": "code",
   "execution_count": 10,
   "metadata": {},
   "outputs": [
    {
     "name": "stderr",
     "output_type": "stream",
     "text": [
      "2023-05-26 14:03:54,662 [INFO] Parameters Init:\n",
      "2023-05-26 14:03:54,663 [INFO] dir_output = output_merfish\n",
      "2023-05-26 14:03:54,663 [INFO] write_removed_genes = True\n",
      "2023-05-26 14:03:54,663 [INFO] write_intermediate_steps = True\n"
     ]
    }
   ],
   "source": [
    "probe_designer = MerfishProbeDesigner(dir_output=config[\"output\"])"
   ]
  },
  {
   "cell_type": "code",
   "execution_count": 11,
   "metadata": {},
   "outputs": [
    {
     "name": "stderr",
     "output_type": "stream",
     "text": [
      "2023-05-26 14:03:57,749 [INFO] Parameters Load Annotations:\n",
      "2023-05-26 14:03:57,750 [INFO] source = custom\n",
      "2023-05-26 14:03:57,751 [INFO] source_params = {'file_annotation': 'data/annotations/custom_GCF_000001405.40_GRCh38.p14_genomic_chr16.gtf', 'file_sequence': 'data/annotations/custom_GCF_000001405.40_GRCh38.p14_genomic_chr16.fna', 'files_source': 'NCBI', 'species': 'Homo_sapiens', 'annotation_release': 110, 'genome_assembly': 'GRCh38.p14'}\n",
      "2023-05-26 14:04:03,318 [INFO] The following annotation files are used for GTF annotation of regions: data/annotations/custom_GCF_000001405.40_GRCh38.p14_genomic_chr16.gtf and for fasta sequence file: data/annotations/custom_GCF_000001405.40_GRCh38.p14_genomic_chr16.fna .\n",
      "2023-05-26 14:04:03,318 [INFO] The annotations are from NCBI source, for the species: Homo_sapiens, release number: 110 and genome assembly: GRCh38.p14\n"
     ]
    }
   ],
   "source": [
    "probe_designer.load_annotations(\n",
    "    source=config[\"source\"], source_params=config[\"source_params\"]\n",
    ")"
   ]
  },
  {
   "cell_type": "code",
   "execution_count": 12,
   "metadata": {},
   "outputs": [],
   "source": [
    "with open(config[\"file_genes\"]) as handle:\n",
    "    lines = handle.readlines()\n",
    "    genes = [line.rstrip() for line in lines]"
   ]
  },
  {
   "cell_type": "code",
   "execution_count": 13,
   "metadata": {},
   "outputs": [
    {
     "name": "stderr",
     "output_type": "stream",
     "text": [
      "2023-05-26 14:04:06,780 [INFO] Parameters Create Database:\n",
      "2023-05-26 14:04:06,781 [INFO] genes = ['AARS1', 'DECR2', 'FAM234A', 'RHBDF1', 'WASIR2']\n",
      "2023-05-26 14:04:06,782 [INFO] probe_length_min = 30\n",
      "2023-05-26 14:04:06,783 [INFO] probe_length_max = 30\n",
      "2023-05-26 14:04:06,784 [INFO] min_probes_per_gene = 0\n",
      "2023-05-26 14:04:06,785 [INFO] n_jobs = 1\n",
      "2023-05-26 14:04:09,881 [INFO] Genes with <= 0 probes will be removed from the probe database and their names will be stored in 'output_merfish/regions_with_insufficient_oligos.txt'.\n",
      "2023-05-26 14:04:09,882 [INFO] Step - Generate Probes: the database contains 15491 probes from 5 genes.\n"
     ]
    }
   ],
   "source": [
    "probe_database, file_database = probe_designer.create_probe_database(\n",
    "    genes=genes,\n",
    "    probe_length_min=config[\"target_probe\"][\"probe_length_min\"],\n",
    "    probe_length_max=config[\"target_probe\"][\"probe_length_max\"],\n",
    "    min_probes_per_gene=config[\"min_probes_per_gene\"],\n",
    "    n_jobs=config[\"n_jobs\"],\n",
    ")"
   ]
  },
  {
   "cell_type": "code",
   "execution_count": 14,
   "metadata": {},
   "outputs": [],
   "source": [
    "probe_database, file_database = probe_designer.filter_probes_by_property(probe_database, n_jobs=config[\"n_jobs\"])"
   ]
  },
  {
   "cell_type": "code",
   "execution_count": 15,
   "metadata": {},
   "outputs": [],
   "source": [
    "probe_database, file_database = probe_designer.filter_probes_by_specificity(probe_database, n_jobs=config[\"n_jobs\"])"
   ]
  },
  {
   "cell_type": "code",
   "execution_count": 16,
   "metadata": {},
   "outputs": [],
   "source": [
    "probe_database, file_database = probe_designer.filter_cross_hybridization_targets(probe_database, n_jobs=config[\"n_jobs\"])"
   ]
  },
  {
   "cell_type": "code",
   "execution_count": 17,
   "metadata": {},
   "outputs": [
    {
     "ename": "FileNotFoundError",
     "evalue": "[Errno 2] No such file or directory: 'data/bc25mer/bc25mer.240k.fasta'",
     "output_type": "error",
     "traceback": [
      "\u001b[0;31m---------------------------------------------------------------------------\u001b[0m",
      "\u001b[0;31mFileNotFoundError\u001b[0m                         Traceback (most recent call last)",
      "Cell \u001b[0;32mIn[17], line 1\u001b[0m\n\u001b[0;32m----> 1\u001b[0m primer1, primer2, primer_file_database \u001b[39m=\u001b[39m probe_designer\u001b[39m.\u001b[39;49mdesign_primer_probes(config[\u001b[39m'\u001b[39;49m\u001b[39mprimer_probe\u001b[39;49m\u001b[39m'\u001b[39;49m][\u001b[39m'\u001b[39;49m\u001b[39mfile_bc25mer\u001b[39;49m\u001b[39m'\u001b[39;49m], n_jobs\u001b[39m=\u001b[39;49mconfig[\u001b[39m\"\u001b[39;49m\u001b[39mn_jobs\u001b[39;49m\u001b[39m\"\u001b[39;49m])\n",
      "File \u001b[0;32m~/Projects/odt/oligo-designer-toolsuite/oligo_designer_toolsuite/pipelines/_merfish_probe_designer.py:287\u001b[0m, in \u001b[0;36mMerfishProbeDesigner.design_primer_probes\u001b[0;34m(self, probe_25nt_path, primer_length_min, primer_length_max, GC_content_min, GC_content_max, n_repeats, gc_clamp_n, blast1_word_size, blast2_word_size, blast3_word_size, percent_identity, coverage, strand, T7promoter, n_probes, n_jobs)\u001b[0m\n\u001b[1;32m    284\u001b[0m \u001b[39mself\u001b[39m\u001b[39m.\u001b[39mprimer_dir_output \u001b[39m=\u001b[39m os\u001b[39m.\u001b[39mpath\u001b[39m.\u001b[39mjoin(\u001b[39mself\u001b[39m\u001b[39m.\u001b[39mdir_output, \u001b[39m\"\u001b[39m\u001b[39mprimer_probes\u001b[39m\u001b[39m\"\u001b[39m)\n\u001b[1;32m    285\u001b[0m Path(\u001b[39mself\u001b[39m\u001b[39m.\u001b[39mprimer_dir_output)\u001b[39m.\u001b[39mmkdir(parents\u001b[39m=\u001b[39m\u001b[39mTrue\u001b[39;00m, exist_ok\u001b[39m=\u001b[39m\u001b[39mTrue\u001b[39;00m)\n\u001b[0;32m--> 287\u001b[0m primer_database, file_database, T7_dict \u001b[39m=\u001b[39m \u001b[39mself\u001b[39;49m\u001b[39m.\u001b[39;49m_create_potential_primers_db(\n\u001b[1;32m    288\u001b[0m     probe_25nt_path,\n\u001b[1;32m    289\u001b[0m     probe_20nt_path,\n\u001b[1;32m    290\u001b[0m     n_probes,\n\u001b[1;32m    291\u001b[0m     primer_length_min,\n\u001b[1;32m    292\u001b[0m     primer_length_max,\n\u001b[1;32m    293\u001b[0m     T7promoter,\n\u001b[1;32m    294\u001b[0m     blast3_word_size,\n\u001b[1;32m    295\u001b[0m     n_jobs,\n\u001b[1;32m    296\u001b[0m )\n\u001b[1;32m    297\u001b[0m primer_database, file_database \u001b[39m=\u001b[39m \u001b[39mself\u001b[39m\u001b[39m.\u001b[39m_filter_primers_by_property(\n\u001b[1;32m    298\u001b[0m     primer_database,\n\u001b[1;32m    299\u001b[0m     GC_content_min,\n\u001b[0;32m   (...)\u001b[0m\n\u001b[1;32m    303\u001b[0m     n_jobs,\n\u001b[1;32m    304\u001b[0m )\n\u001b[1;32m    305\u001b[0m primer_database, file_database \u001b[39m=\u001b[39m \u001b[39mself\u001b[39m\u001b[39m.\u001b[39m_filter_primers_by_specificity(\n\u001b[1;32m    306\u001b[0m     primer_database,\n\u001b[1;32m    307\u001b[0m     T7_dict,\n\u001b[0;32m   (...)\u001b[0m\n\u001b[1;32m    314\u001b[0m     n_jobs,\n\u001b[1;32m    315\u001b[0m )\n",
      "File \u001b[0;32m~/Projects/odt/oligo-designer-toolsuite/oligo_designer_toolsuite/pipelines/_merfish_probe_designer.py:373\u001b[0m, in \u001b[0;36mMerfishProbeDesigner._create_potential_primers_db\u001b[0;34m(self, probe_25nt_path, probe_20nt_path, num_seq, primer_length_min, primer_length_max, T7promoter, blast3_word_size, n_jobs)\u001b[0m\n\u001b[1;32m    361\u001b[0m \u001b[39mdef\u001b[39;00m \u001b[39m_create_potential_primers_db\u001b[39m(\n\u001b[1;32m    362\u001b[0m     \u001b[39mself\u001b[39m,\n\u001b[1;32m    363\u001b[0m     probe_25nt_path,\n\u001b[0;32m   (...)\u001b[0m\n\u001b[1;32m    370\u001b[0m     n_jobs,\n\u001b[1;32m    371\u001b[0m ):\n\u001b[1;32m    372\u001b[0m     probe_25nt_dict \u001b[39m=\u001b[39m {\n\u001b[0;32m--> 373\u001b[0m         rec\u001b[39m.\u001b[39mid: rec\u001b[39m.\u001b[39mseq \u001b[39mfor\u001b[39;00m rec \u001b[39min\u001b[39;00m SeqIO\u001b[39m.\u001b[39;49mparse(probe_25nt_path, \u001b[39m\"\u001b[39;49m\u001b[39mfasta\u001b[39;49m\u001b[39m\"\u001b[39;49m)\n\u001b[1;32m    374\u001b[0m     }\n\u001b[1;32m    376\u001b[0m     \u001b[39m# select n random sequences\u001b[39;00m\n\u001b[1;32m    377\u001b[0m     n \u001b[39m=\u001b[39m num_seq \u001b[39m*\u001b[39m \u001b[39m500\u001b[39m  \u001b[39m# start with 1000 times the number of required primers\u001b[39;00m\n",
      "File \u001b[0;32m~/opt/anaconda3/envs/oligo_env/lib/python3.10/site-packages/Bio/SeqIO/__init__.py:605\u001b[0m, in \u001b[0;36mparse\u001b[0;34m(handle, format, alphabet)\u001b[0m\n\u001b[1;32m    603\u001b[0m iterator_generator \u001b[39m=\u001b[39m _FormatToIterator\u001b[39m.\u001b[39mget(\u001b[39mformat\u001b[39m)\n\u001b[1;32m    604\u001b[0m \u001b[39mif\u001b[39;00m iterator_generator:\n\u001b[0;32m--> 605\u001b[0m     \u001b[39mreturn\u001b[39;00m iterator_generator(handle)\n\u001b[1;32m    606\u001b[0m \u001b[39mif\u001b[39;00m \u001b[39mformat\u001b[39m \u001b[39min\u001b[39;00m AlignIO\u001b[39m.\u001b[39m_FormatToIterator:\n\u001b[1;32m    607\u001b[0m     \u001b[39m# Use Bio.AlignIO to read in the alignments\u001b[39;00m\n\u001b[1;32m    608\u001b[0m     \u001b[39mreturn\u001b[39;00m (r \u001b[39mfor\u001b[39;00m alignment \u001b[39min\u001b[39;00m AlignIO\u001b[39m.\u001b[39mparse(handle, \u001b[39mformat\u001b[39m) \u001b[39mfor\u001b[39;00m r \u001b[39min\u001b[39;00m alignment)\n",
      "File \u001b[0;32m~/opt/anaconda3/envs/oligo_env/lib/python3.10/site-packages/Bio/SeqIO/FastaIO.py:223\u001b[0m, in \u001b[0;36mFastaIterator.__init__\u001b[0;34m(self, source, alphabet, title2ids)\u001b[0m\n\u001b[1;32m    204\u001b[0m     warnings\u001b[39m.\u001b[39mwarn(\n\u001b[1;32m    205\u001b[0m         \u001b[39m\"\u001b[39m\u001b[39mThe title2ids argument is deprecated. Instead, please use a \u001b[39m\u001b[39m\"\u001b[39m\n\u001b[1;32m    206\u001b[0m         \u001b[39m\"\u001b[39m\u001b[39mgenerator function to modify records returned by the parser. \u001b[39m\u001b[39m\"\u001b[39m\n\u001b[0;32m   (...)\u001b[0m\n\u001b[1;32m    220\u001b[0m         BiopythonDeprecationWarning,\n\u001b[1;32m    221\u001b[0m     )\n\u001b[1;32m    222\u001b[0m \u001b[39mself\u001b[39m\u001b[39m.\u001b[39mtitle2ids \u001b[39m=\u001b[39m title2ids\n\u001b[0;32m--> 223\u001b[0m \u001b[39msuper\u001b[39;49m()\u001b[39m.\u001b[39;49m\u001b[39m__init__\u001b[39;49m(source, mode\u001b[39m=\u001b[39;49m\u001b[39m\"\u001b[39;49m\u001b[39mt\u001b[39;49m\u001b[39m\"\u001b[39;49m, fmt\u001b[39m=\u001b[39;49m\u001b[39m\"\u001b[39;49m\u001b[39mFasta\u001b[39;49m\u001b[39m\"\u001b[39;49m)\n",
      "File \u001b[0;32m~/opt/anaconda3/envs/oligo_env/lib/python3.10/site-packages/Bio/SeqIO/Interfaces.py:45\u001b[0m, in \u001b[0;36mSequenceIterator.__init__\u001b[0;34m(self, source, alphabet, mode, fmt)\u001b[0m\n\u001b[1;32m     43\u001b[0m     \u001b[39mraise\u001b[39;00m \u001b[39mValueError\u001b[39;00m(\u001b[39m\"\u001b[39m\u001b[39mThe alphabet argument is no longer supported\u001b[39m\u001b[39m\"\u001b[39m)\n\u001b[1;32m     44\u001b[0m \u001b[39mtry\u001b[39;00m:\n\u001b[0;32m---> 45\u001b[0m     \u001b[39mself\u001b[39m\u001b[39m.\u001b[39mstream \u001b[39m=\u001b[39m \u001b[39mopen\u001b[39;49m(source, \u001b[39m\"\u001b[39;49m\u001b[39mr\u001b[39;49m\u001b[39m\"\u001b[39;49m \u001b[39m+\u001b[39;49m mode)\n\u001b[1;32m     46\u001b[0m     \u001b[39mself\u001b[39m\u001b[39m.\u001b[39mshould_close_stream \u001b[39m=\u001b[39m \u001b[39mTrue\u001b[39;00m\n\u001b[1;32m     47\u001b[0m \u001b[39mexcept\u001b[39;00m \u001b[39mTypeError\u001b[39;00m:  \u001b[39m# not a path, assume we received a stream\u001b[39;00m\n",
      "\u001b[0;31mFileNotFoundError\u001b[0m: [Errno 2] No such file or directory: 'data/bc25mer/bc25mer.240k.fasta'"
     ]
    }
   ],
   "source": [
    "primer1, primer2, primer_file_database = probe_designer.design_primer_probes(config['primer_probe']['file_bc25mer'], n_jobs=config[\"n_jobs\"])"
   ]
  },
  {
   "cell_type": "code",
   "execution_count": 15,
   "metadata": {},
   "outputs": [],
   "source": [
    "# with open('merfish_probe_designer.pickle', 'wb') as handle:\n",
    "#     pickle.dump(probe_designer, handle, protocol=pickle.HIGHEST_PROTOCOL)"
   ]
  },
  {
   "cell_type": "code",
   "execution_count": 18,
   "metadata": {},
   "outputs": [
    {
     "data": {
      "text/plain": [
       "['GATATCACGTCTGTCGCGT']"
      ]
     },
     "execution_count": 18,
     "metadata": {},
     "output_type": "execute_result"
    }
   ],
   "source": [
    "primer1"
   ]
  },
  {
   "cell_type": "code",
   "execution_count": 19,
   "metadata": {},
   "outputs": [],
   "source": [
    "readout_probes = probe_designer.design_readout_probes(primer_file_database, config['readout_probe']['file_bc25mer'], n_jobs=config[\"n_jobs\"])"
   ]
  },
  {
   "cell_type": "code",
   "execution_count": 20,
   "metadata": {},
   "outputs": [
    {
     "name": "stdout",
     "output_type": "stream",
     "text": [
      "2\n",
      "3\n",
      "4\n",
      "5\n"
     ]
    }
   ],
   "source": [
    "from oligo_designer_toolsuite.sequence_design import MerfishSequence\n",
    "\n",
    "merfish_sequence_designer = MerfishSequence(n_genes=len(genes))\n",
    "\n",
    "assembled_probes = merfish_sequence_designer.assemble_probes(\n",
    "    probe_database,\n",
    "    readout_probes,\n",
    "    primer1,\n",
    "    primer2\n",
    ")"
   ]
  },
  {
   "cell_type": "code",
   "execution_count": 21,
   "metadata": {},
   "outputs": [],
   "source": [
    "merfish_sequence_designer.write_final_probes(assembled_probes, readout_probes, readout_probe_length=30, primer_probe_length=19, num_bits=16)"
   ]
  },
  {
   "cell_type": "code",
   "execution_count": null,
   "metadata": {},
   "outputs": [
    {
     "data": {
      "text/plain": [
       "{'check': True,\n",
       " 'strict': True,\n",
       " 'c_seq': None,\n",
       " 'shift': 0,\n",
       " 'nn_table': 'DNA_NN3',\n",
       " 'tmm_table': 'DNA_TMM1',\n",
       " 'imm_table': 'DNA_IMM1',\n",
       " 'de_table': 'DNA_DE1',\n",
       " 'dnac1': 50,\n",
       " 'dnac2': 0,\n",
       " 'selfcomp': False,\n",
       " 'dNTPs': 0,\n",
       " 'saltcorr': 7,\n",
       " 'Na': 1000,\n",
       " 'K': 0,\n",
       " 'Tris': 0,\n",
       " 'Mg': 0}"
      ]
     },
     "execution_count": 32,
     "metadata": {},
     "output_type": "execute_result"
    }
   ],
   "source": [
    "config[\"Tm_parameters\"][\"shared\"] | config[\"Tm_parameters\"][\"property_filter\"]"
   ]
  },
  {
   "attachments": {},
   "cell_type": "markdown",
   "metadata": {},
   "source": [
    "<iframe width=\"600\" height=\"400\" frameBorder=\"0\" src=\"https://www.mindmeister.com/maps/public_map_shell/2774967174/scrinshot-pipeline?width=600&height=400&z=auto&no_share=1&no_logo=1\" scrolling=\"no\" style=\"overflow:hidden;margin-bottom:5px\"></iframe>"
   ]
  },
  {
   "cell_type": "code",
   "execution_count": null,
   "metadata": {},
   "outputs": [],
   "source": []
  }
 ],
 "metadata": {
  "kernelspec": {
   "display_name": "oligo_env",
   "language": "python",
   "name": "python3"
  },
  "language_info": {
   "codemirror_mode": {
    "name": "ipython",
    "version": 3
   },
   "file_extension": ".py",
   "mimetype": "text/x-python",
   "name": "python",
   "nbconvert_exporter": "python",
   "pygments_lexer": "ipython3",
   "version": "3.10.9"
  },
  "orig_nbformat": 4
 },
 "nbformat": 4,
 "nbformat_minor": 2
}
